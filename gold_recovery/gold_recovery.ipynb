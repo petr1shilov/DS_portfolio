{
 "cells": [
  {
   "cell_type": "markdown",
   "metadata": {
    "toc": true
   },
   "source": [
    "<h1>Содержание<span class=\"tocSkip\"></span></h1>\n",
    "<div class=\"toc\"><ul class=\"toc-item\"><li><span><a href=\"#Подготовка-данных\" data-toc-modified-id=\"Подготовка-данных-1\"><span class=\"toc-item-num\">1&nbsp;&nbsp;</span>Подготовка данных</a></span><ul class=\"toc-item\"><li><span><a href=\"#функция-для-общей-информации-о-DF\" data-toc-modified-id=\"функция-для-общей-информации-о-DF-1.1\"><span class=\"toc-item-num\">1.1&nbsp;&nbsp;</span>функция для общей информации о DF</a></span></li><li><span><a href=\"#проверка-расчета-эффективности-обогащения\" data-toc-modified-id=\"проверка-расчета-эффективности-обогащения-1.2\"><span class=\"toc-item-num\">1.2&nbsp;&nbsp;</span>проверка расчета эффективности обогащения</a></span></li><li><span><a href=\"#проверка-с-помощью-mae-самодельной-функцией-и-из-библиотеки\" data-toc-modified-id=\"проверка-с-помощью-mae-самодельной-функцией-и-из-библиотеки-1.3\"><span class=\"toc-item-num\">1.3&nbsp;&nbsp;</span>проверка с помощью mae самодельной функцией и из библиотеки</a></span></li><li><span><a href=\"#колонки-которые-есть-в-трейн-выборке-,-но-нет-в-тестовой\" data-toc-modified-id=\"колонки-которые-есть-в-трейн-выборке-,-но-нет-в-тестовой-1.4\"><span class=\"toc-item-num\">1.4&nbsp;&nbsp;</span>колонки которые есть в трейн выборке , но нет в тестовой</a></span></li><li><span><a href=\"#предобработка\" data-toc-modified-id=\"предобработка-1.5\"><span class=\"toc-item-num\">1.5&nbsp;&nbsp;</span>предобработка</a></span></li></ul></li><li><span><a href=\"#Анализ-данных\" data-toc-modified-id=\"Анализ-данных-2\"><span class=\"toc-item-num\">2&nbsp;&nbsp;</span>Анализ данных</a></span><ul class=\"toc-item\"><li><span><a href=\"#концентация-металлов-на-этапах-очистки\" data-toc-modified-id=\"концентация-металлов-на-этапах-очистки-2.1\"><span class=\"toc-item-num\">2.1&nbsp;&nbsp;</span>концентация металлов на этапах очистки</a></span></li><li><span><a href=\"#гистограммы\" data-toc-modified-id=\"гистограммы-2.2\"><span class=\"toc-item-num\">2.2&nbsp;&nbsp;</span>гистограммы</a></span></li><li><span><a href=\"#общая-концентрация\" data-toc-modified-id=\"общая-концентрация-2.3\"><span class=\"toc-item-num\">2.3&nbsp;&nbsp;</span>общая концентрация</a></span></li></ul></li><li><span><a href=\"#Модель\" data-toc-modified-id=\"Модель-3\"><span class=\"toc-item-num\">3&nbsp;&nbsp;</span>Модель</a></span><ul class=\"toc-item\"><li><span><a href=\"#sMAPE\" data-toc-modified-id=\"sMAPE-3.1\"><span class=\"toc-item-num\">3.1&nbsp;&nbsp;</span>sMAPE</a></span></li><li><span><a href=\"#Поиск-лучшей-модели\" data-toc-modified-id=\"Поиск-лучшей-модели-3.2\"><span class=\"toc-item-num\">3.2&nbsp;&nbsp;</span>Поиск лучшей модели</a></span></li><li><span><a href=\"#Финальная-модель-и-проверка-на-тесте\" data-toc-modified-id=\"Финальная-модель-и-проверка-на-тесте-3.3\"><span class=\"toc-item-num\">3.3&nbsp;&nbsp;</span>Финальная модель и проверка на тесте</a></span></li></ul></li><li><span><a href=\"#Вывод\" data-toc-modified-id=\"Вывод-4\"><span class=\"toc-item-num\">4&nbsp;&nbsp;</span>Вывод</a></span></li><li><span><a href=\"#Чек-лист-готовности-проекта\" data-toc-modified-id=\"Чек-лист-готовности-проекта-5\"><span class=\"toc-item-num\">5&nbsp;&nbsp;</span>Чек-лист готовности проекта</a></span></li></ul></div>"
   ]
  },
  {
   "cell_type": "markdown",
   "metadata": {},
   "source": [
    "# Восстановление золота из руды"
   ]
  },
  {
   "cell_type": "markdown",
   "metadata": {},
   "source": [
    "Подготовьте прототип модели машинного обучения для «Цифры». Компания разрабатывает решения для эффективной работы промышленных предприятий.\n",
    "\n",
    "Модель должна предсказать коэффициент восстановления золота из золотосодержащей руды. Используйте данные с параметрами добычи и очистки. \n",
    "\n",
    "Модель поможет оптимизировать производство, чтобы не запускать предприятие с убыточными характеристиками.\n",
    "\n",
    "Вам нужно:\n",
    "\n",
    "1. Подготовить данные;\n",
    "2. Провести исследовательский анализ данных;\n",
    "3. Построить и обучить модель.\n",
    "\n",
    "Чтобы выполнить проект, обращайтесь к библиотекам *pandas*, *matplotlib* и *sklearn.* Вам поможет их документация."
   ]
  },
  {
   "cell_type": "markdown",
   "metadata": {},
   "source": [
    "## Подготовка данных"
   ]
  },
  {
   "cell_type": "code",
   "execution_count": 1,
   "metadata": {},
   "outputs": [],
   "source": [
    "import pandas as pd\n",
    "import numpy as np\n",
    "\n",
    "from sklearn.model_selection import GridSearchCV, cross_val_score, train_test_split\n",
    "from sklearn.linear_model import LinearRegression , LassoCV, ElasticNetCV\n",
    "from sklearn.tree import DecisionTreeRegressor\n",
    "from sklearn.ensemble import RandomForestRegressor\n",
    "from sklearn.metrics import mean_absolute_error, make_scorer\n",
    "from sklearn.dummy import DummyRegressor\n",
    "\n",
    "\n",
    "import matplotlib.pyplot as plt\n",
    "import seaborn as sns\n",
    "\n",
    "import warnings\n",
    "warnings.filterwarnings(\"ignore\")\n"
   ]
  },
  {
   "cell_type": "code",
   "execution_count": 2,
   "metadata": {},
   "outputs": [],
   "source": [
    "gold_df_train = pd.read_csv('/datasets/gold_recovery_train_new.csv')\n",
    "gold_df_test = pd.read_csv('/datasets/gold_recovery_test_new.csv')\n",
    "gold_df = pd.read_csv('/datasets/gold_recovery_full_new.csv')"
   ]
  },
  {
   "cell_type": "markdown",
   "metadata": {},
   "source": [
    "Сделаем дата сет , что бы сделать проверку теста в будущем"
   ]
  },
  {
   "cell_type": "code",
   "execution_count": 3,
   "metadata": {},
   "outputs": [],
   "source": [
    "gold_df_train = gold_df_train.set_index('date')\n",
    "gold_df_test = gold_df_test.set_index('date')\n",
    "gold_df = gold_df.set_index('date')"
   ]
  },
  {
   "cell_type": "markdown",
   "metadata": {},
   "source": [
    "### функция для общей информации о DF"
   ]
  },
  {
   "cell_type": "code",
   "execution_count": 4,
   "metadata": {},
   "outputs": [
    {
     "name": "stdout",
     "output_type": "stream",
     "text": [
      "(14149, 86)\n",
      "<class 'pandas.core.frame.DataFrame'>\n",
      "Index: 14149 entries, 2016-01-15 00:00:00 to 2018-08-18 10:59:59\n",
      "Data columns (total 86 columns):\n",
      " #   Column                                              Non-Null Count  Dtype  \n",
      "---  ------                                              --------------  -----  \n",
      " 0   final.output.concentrate_ag                         14148 non-null  float64\n",
      " 1   final.output.concentrate_pb                         14148 non-null  float64\n",
      " 2   final.output.concentrate_sol                        13938 non-null  float64\n",
      " 3   final.output.concentrate_au                         14149 non-null  float64\n",
      " 4   final.output.recovery                               14149 non-null  float64\n",
      " 5   final.output.tail_ag                                14149 non-null  float64\n",
      " 6   final.output.tail_pb                                14049 non-null  float64\n",
      " 7   final.output.tail_sol                               14144 non-null  float64\n",
      " 8   final.output.tail_au                                14149 non-null  float64\n",
      " 9   primary_cleaner.input.sulfate                       14129 non-null  float64\n",
      " 10  primary_cleaner.input.depressant                    14117 non-null  float64\n",
      " 11  primary_cleaner.input.feed_size                     14149 non-null  float64\n",
      " 12  primary_cleaner.input.xanthate                      14049 non-null  float64\n",
      " 13  primary_cleaner.output.concentrate_ag               14149 non-null  float64\n",
      " 14  primary_cleaner.output.concentrate_pb               14063 non-null  float64\n",
      " 15  primary_cleaner.output.concentrate_sol              13863 non-null  float64\n",
      " 16  primary_cleaner.output.concentrate_au               14149 non-null  float64\n",
      " 17  primary_cleaner.output.tail_ag                      14148 non-null  float64\n",
      " 18  primary_cleaner.output.tail_pb                      14134 non-null  float64\n",
      " 19  primary_cleaner.output.tail_sol                     14103 non-null  float64\n",
      " 20  primary_cleaner.output.tail_au                      14149 non-null  float64\n",
      " 21  primary_cleaner.state.floatbank8_a_air              14145 non-null  float64\n",
      " 22  primary_cleaner.state.floatbank8_a_level            14148 non-null  float64\n",
      " 23  primary_cleaner.state.floatbank8_b_air              14145 non-null  float64\n",
      " 24  primary_cleaner.state.floatbank8_b_level            14148 non-null  float64\n",
      " 25  primary_cleaner.state.floatbank8_c_air              14147 non-null  float64\n",
      " 26  primary_cleaner.state.floatbank8_c_level            14148 non-null  float64\n",
      " 27  primary_cleaner.state.floatbank8_d_air              14146 non-null  float64\n",
      " 28  primary_cleaner.state.floatbank8_d_level            14148 non-null  float64\n",
      " 29  rougher.calculation.sulfate_to_au_concentrate       14148 non-null  float64\n",
      " 30  rougher.calculation.floatbank10_sulfate_to_au_feed  14148 non-null  float64\n",
      " 31  rougher.calculation.floatbank11_sulfate_to_au_feed  14148 non-null  float64\n",
      " 32  rougher.calculation.au_pb_ratio                     14149 non-null  float64\n",
      " 33  rougher.input.feed_ag                               14149 non-null  float64\n",
      " 34  rougher.input.feed_pb                               14049 non-null  float64\n",
      " 35  rougher.input.feed_rate                             14141 non-null  float64\n",
      " 36  rougher.input.feed_size                             14005 non-null  float64\n",
      " 37  rougher.input.feed_sol                              14071 non-null  float64\n",
      " 38  rougher.input.feed_au                               14149 non-null  float64\n",
      " 39  rougher.input.floatbank10_sulfate                   14120 non-null  float64\n",
      " 40  rougher.input.floatbank10_xanthate                  14141 non-null  float64\n",
      " 41  rougher.input.floatbank11_sulfate                   14113 non-null  float64\n",
      " 42  rougher.input.floatbank11_xanthate                  13721 non-null  float64\n",
      " 43  rougher.output.concentrate_ag                       14149 non-null  float64\n",
      " 44  rougher.output.concentrate_pb                       14149 non-null  float64\n",
      " 45  rougher.output.concentrate_sol                      14127 non-null  float64\n",
      " 46  rougher.output.concentrate_au                       14149 non-null  float64\n",
      " 47  rougher.output.recovery                             14149 non-null  float64\n",
      " 48  rougher.output.tail_ag                              14148 non-null  float64\n",
      " 49  rougher.output.tail_pb                              14149 non-null  float64\n",
      " 50  rougher.output.tail_sol                             14149 non-null  float64\n",
      " 51  rougher.output.tail_au                              14149 non-null  float64\n",
      " 52  rougher.state.floatbank10_a_air                     14148 non-null  float64\n",
      " 53  rougher.state.floatbank10_a_level                   14148 non-null  float64\n",
      " 54  rougher.state.floatbank10_b_air                     14148 non-null  float64\n",
      " 55  rougher.state.floatbank10_b_level                   14148 non-null  float64\n",
      " 56  rougher.state.floatbank10_c_air                     14148 non-null  float64\n",
      " 57  rougher.state.floatbank10_c_level                   14148 non-null  float64\n",
      " 58  rougher.state.floatbank10_d_air                     14149 non-null  float64\n",
      " 59  rougher.state.floatbank10_d_level                   14149 non-null  float64\n",
      " 60  rougher.state.floatbank10_e_air                     13713 non-null  float64\n",
      " 61  rougher.state.floatbank10_e_level                   14149 non-null  float64\n",
      " 62  rougher.state.floatbank10_f_air                     14149 non-null  float64\n",
      " 63  rougher.state.floatbank10_f_level                   14149 non-null  float64\n",
      " 64  secondary_cleaner.output.tail_ag                    14147 non-null  float64\n",
      " 65  secondary_cleaner.output.tail_pb                    14139 non-null  float64\n",
      " 66  secondary_cleaner.output.tail_sol                   12544 non-null  float64\n",
      " 67  secondary_cleaner.output.tail_au                    14149 non-null  float64\n",
      " 68  secondary_cleaner.state.floatbank2_a_air            13932 non-null  float64\n",
      " 69  secondary_cleaner.state.floatbank2_a_level          14148 non-null  float64\n",
      " 70  secondary_cleaner.state.floatbank2_b_air            14128 non-null  float64\n",
      " 71  secondary_cleaner.state.floatbank2_b_level          14148 non-null  float64\n",
      " 72  secondary_cleaner.state.floatbank3_a_air            14145 non-null  float64\n",
      " 73  secondary_cleaner.state.floatbank3_a_level          14148 non-null  float64\n",
      " 74  secondary_cleaner.state.floatbank3_b_air            14148 non-null  float64\n",
      " 75  secondary_cleaner.state.floatbank3_b_level          14148 non-null  float64\n",
      " 76  secondary_cleaner.state.floatbank4_a_air            14143 non-null  float64\n",
      " 77  secondary_cleaner.state.floatbank4_a_level          14148 non-null  float64\n",
      " 78  secondary_cleaner.state.floatbank4_b_air            14148 non-null  float64\n",
      " 79  secondary_cleaner.state.floatbank4_b_level          14148 non-null  float64\n",
      " 80  secondary_cleaner.state.floatbank5_a_air            14148 non-null  float64\n",
      " 81  secondary_cleaner.state.floatbank5_a_level          14148 non-null  float64\n",
      " 82  secondary_cleaner.state.floatbank5_b_air            14148 non-null  float64\n",
      " 83  secondary_cleaner.state.floatbank5_b_level          14148 non-null  float64\n",
      " 84  secondary_cleaner.state.floatbank6_a_air            14147 non-null  float64\n",
      " 85  secondary_cleaner.state.floatbank6_a_level          14148 non-null  float64\n",
      "dtypes: float64(86)\n",
      "memory usage: 9.4+ MB\n",
      "None\n"
     ]
    },
    {
     "data": {
      "text/html": [
       "<style  type=\"text/css\" >\n",
       "</style><table id=\"T_81c76_\" ><thead>    <tr>        <th class=\"blank level0\" ></th>        <th class=\"col_heading level0 col0\" >gaps</th>    </tr></thead><tbody>\n",
       "                <tr>\n",
       "                        <th id=\"T_81c76_level0_row0\" class=\"row_heading level0 row0\" >final.output.concentrate_ag</th>\n",
       "                        <td id=\"T_81c76_row0_col0\" class=\"data row0 col0\" >0.01%</td>\n",
       "            </tr>\n",
       "            <tr>\n",
       "                        <th id=\"T_81c76_level0_row1\" class=\"row_heading level0 row1\" >final.output.concentrate_pb</th>\n",
       "                        <td id=\"T_81c76_row1_col0\" class=\"data row1 col0\" >0.01%</td>\n",
       "            </tr>\n",
       "            <tr>\n",
       "                        <th id=\"T_81c76_level0_row2\" class=\"row_heading level0 row2\" >final.output.concentrate_sol</th>\n",
       "                        <td id=\"T_81c76_row2_col0\" class=\"data row2 col0\" >1.49%</td>\n",
       "            </tr>\n",
       "            <tr>\n",
       "                        <th id=\"T_81c76_level0_row3\" class=\"row_heading level0 row3\" >final.output.concentrate_au</th>\n",
       "                        <td id=\"T_81c76_row3_col0\" class=\"data row3 col0\" >0.00%</td>\n",
       "            </tr>\n",
       "            <tr>\n",
       "                        <th id=\"T_81c76_level0_row4\" class=\"row_heading level0 row4\" >final.output.recovery</th>\n",
       "                        <td id=\"T_81c76_row4_col0\" class=\"data row4 col0\" >0.00%</td>\n",
       "            </tr>\n",
       "            <tr>\n",
       "                        <th id=\"T_81c76_level0_row5\" class=\"row_heading level0 row5\" >final.output.tail_ag</th>\n",
       "                        <td id=\"T_81c76_row5_col0\" class=\"data row5 col0\" >0.00%</td>\n",
       "            </tr>\n",
       "            <tr>\n",
       "                        <th id=\"T_81c76_level0_row6\" class=\"row_heading level0 row6\" >final.output.tail_pb</th>\n",
       "                        <td id=\"T_81c76_row6_col0\" class=\"data row6 col0\" >0.71%</td>\n",
       "            </tr>\n",
       "            <tr>\n",
       "                        <th id=\"T_81c76_level0_row7\" class=\"row_heading level0 row7\" >final.output.tail_sol</th>\n",
       "                        <td id=\"T_81c76_row7_col0\" class=\"data row7 col0\" >0.04%</td>\n",
       "            </tr>\n",
       "            <tr>\n",
       "                        <th id=\"T_81c76_level0_row8\" class=\"row_heading level0 row8\" >final.output.tail_au</th>\n",
       "                        <td id=\"T_81c76_row8_col0\" class=\"data row8 col0\" >0.00%</td>\n",
       "            </tr>\n",
       "            <tr>\n",
       "                        <th id=\"T_81c76_level0_row9\" class=\"row_heading level0 row9\" >primary_cleaner.input.sulfate</th>\n",
       "                        <td id=\"T_81c76_row9_col0\" class=\"data row9 col0\" >0.14%</td>\n",
       "            </tr>\n",
       "            <tr>\n",
       "                        <th id=\"T_81c76_level0_row10\" class=\"row_heading level0 row10\" >primary_cleaner.input.depressant</th>\n",
       "                        <td id=\"T_81c76_row10_col0\" class=\"data row10 col0\" >0.23%</td>\n",
       "            </tr>\n",
       "            <tr>\n",
       "                        <th id=\"T_81c76_level0_row11\" class=\"row_heading level0 row11\" >primary_cleaner.input.feed_size</th>\n",
       "                        <td id=\"T_81c76_row11_col0\" class=\"data row11 col0\" >0.00%</td>\n",
       "            </tr>\n",
       "            <tr>\n",
       "                        <th id=\"T_81c76_level0_row12\" class=\"row_heading level0 row12\" >primary_cleaner.input.xanthate</th>\n",
       "                        <td id=\"T_81c76_row12_col0\" class=\"data row12 col0\" >0.71%</td>\n",
       "            </tr>\n",
       "            <tr>\n",
       "                        <th id=\"T_81c76_level0_row13\" class=\"row_heading level0 row13\" >primary_cleaner.output.concentrate_ag</th>\n",
       "                        <td id=\"T_81c76_row13_col0\" class=\"data row13 col0\" >0.00%</td>\n",
       "            </tr>\n",
       "            <tr>\n",
       "                        <th id=\"T_81c76_level0_row14\" class=\"row_heading level0 row14\" >primary_cleaner.output.concentrate_pb</th>\n",
       "                        <td id=\"T_81c76_row14_col0\" class=\"data row14 col0\" >0.61%</td>\n",
       "            </tr>\n",
       "            <tr>\n",
       "                        <th id=\"T_81c76_level0_row15\" class=\"row_heading level0 row15\" >primary_cleaner.output.concentrate_sol</th>\n",
       "                        <td id=\"T_81c76_row15_col0\" class=\"data row15 col0\" >2.02%</td>\n",
       "            </tr>\n",
       "            <tr>\n",
       "                        <th id=\"T_81c76_level0_row16\" class=\"row_heading level0 row16\" >primary_cleaner.output.concentrate_au</th>\n",
       "                        <td id=\"T_81c76_row16_col0\" class=\"data row16 col0\" >0.00%</td>\n",
       "            </tr>\n",
       "            <tr>\n",
       "                        <th id=\"T_81c76_level0_row17\" class=\"row_heading level0 row17\" >primary_cleaner.output.tail_ag</th>\n",
       "                        <td id=\"T_81c76_row17_col0\" class=\"data row17 col0\" >0.01%</td>\n",
       "            </tr>\n",
       "            <tr>\n",
       "                        <th id=\"T_81c76_level0_row18\" class=\"row_heading level0 row18\" >primary_cleaner.output.tail_pb</th>\n",
       "                        <td id=\"T_81c76_row18_col0\" class=\"data row18 col0\" >0.11%</td>\n",
       "            </tr>\n",
       "            <tr>\n",
       "                        <th id=\"T_81c76_level0_row19\" class=\"row_heading level0 row19\" >primary_cleaner.output.tail_sol</th>\n",
       "                        <td id=\"T_81c76_row19_col0\" class=\"data row19 col0\" >0.33%</td>\n",
       "            </tr>\n",
       "            <tr>\n",
       "                        <th id=\"T_81c76_level0_row20\" class=\"row_heading level0 row20\" >primary_cleaner.output.tail_au</th>\n",
       "                        <td id=\"T_81c76_row20_col0\" class=\"data row20 col0\" >0.00%</td>\n",
       "            </tr>\n",
       "            <tr>\n",
       "                        <th id=\"T_81c76_level0_row21\" class=\"row_heading level0 row21\" >primary_cleaner.state.floatbank8_a_air</th>\n",
       "                        <td id=\"T_81c76_row21_col0\" class=\"data row21 col0\" >0.03%</td>\n",
       "            </tr>\n",
       "            <tr>\n",
       "                        <th id=\"T_81c76_level0_row22\" class=\"row_heading level0 row22\" >primary_cleaner.state.floatbank8_a_level</th>\n",
       "                        <td id=\"T_81c76_row22_col0\" class=\"data row22 col0\" >0.01%</td>\n",
       "            </tr>\n",
       "            <tr>\n",
       "                        <th id=\"T_81c76_level0_row23\" class=\"row_heading level0 row23\" >primary_cleaner.state.floatbank8_b_air</th>\n",
       "                        <td id=\"T_81c76_row23_col0\" class=\"data row23 col0\" >0.03%</td>\n",
       "            </tr>\n",
       "            <tr>\n",
       "                        <th id=\"T_81c76_level0_row24\" class=\"row_heading level0 row24\" >primary_cleaner.state.floatbank8_b_level</th>\n",
       "                        <td id=\"T_81c76_row24_col0\" class=\"data row24 col0\" >0.01%</td>\n",
       "            </tr>\n",
       "            <tr>\n",
       "                        <th id=\"T_81c76_level0_row25\" class=\"row_heading level0 row25\" >primary_cleaner.state.floatbank8_c_air</th>\n",
       "                        <td id=\"T_81c76_row25_col0\" class=\"data row25 col0\" >0.01%</td>\n",
       "            </tr>\n",
       "            <tr>\n",
       "                        <th id=\"T_81c76_level0_row26\" class=\"row_heading level0 row26\" >primary_cleaner.state.floatbank8_c_level</th>\n",
       "                        <td id=\"T_81c76_row26_col0\" class=\"data row26 col0\" >0.01%</td>\n",
       "            </tr>\n",
       "            <tr>\n",
       "                        <th id=\"T_81c76_level0_row27\" class=\"row_heading level0 row27\" >primary_cleaner.state.floatbank8_d_air</th>\n",
       "                        <td id=\"T_81c76_row27_col0\" class=\"data row27 col0\" >0.02%</td>\n",
       "            </tr>\n",
       "            <tr>\n",
       "                        <th id=\"T_81c76_level0_row28\" class=\"row_heading level0 row28\" >primary_cleaner.state.floatbank8_d_level</th>\n",
       "                        <td id=\"T_81c76_row28_col0\" class=\"data row28 col0\" >0.01%</td>\n",
       "            </tr>\n",
       "            <tr>\n",
       "                        <th id=\"T_81c76_level0_row29\" class=\"row_heading level0 row29\" >rougher.calculation.sulfate_to_au_concentrate</th>\n",
       "                        <td id=\"T_81c76_row29_col0\" class=\"data row29 col0\" >0.01%</td>\n",
       "            </tr>\n",
       "            <tr>\n",
       "                        <th id=\"T_81c76_level0_row30\" class=\"row_heading level0 row30\" >rougher.calculation.floatbank10_sulfate_to_au_feed</th>\n",
       "                        <td id=\"T_81c76_row30_col0\" class=\"data row30 col0\" >0.01%</td>\n",
       "            </tr>\n",
       "            <tr>\n",
       "                        <th id=\"T_81c76_level0_row31\" class=\"row_heading level0 row31\" >rougher.calculation.floatbank11_sulfate_to_au_feed</th>\n",
       "                        <td id=\"T_81c76_row31_col0\" class=\"data row31 col0\" >0.01%</td>\n",
       "            </tr>\n",
       "            <tr>\n",
       "                        <th id=\"T_81c76_level0_row32\" class=\"row_heading level0 row32\" >rougher.calculation.au_pb_ratio</th>\n",
       "                        <td id=\"T_81c76_row32_col0\" class=\"data row32 col0\" >0.00%</td>\n",
       "            </tr>\n",
       "            <tr>\n",
       "                        <th id=\"T_81c76_level0_row33\" class=\"row_heading level0 row33\" >rougher.input.feed_ag</th>\n",
       "                        <td id=\"T_81c76_row33_col0\" class=\"data row33 col0\" >0.00%</td>\n",
       "            </tr>\n",
       "            <tr>\n",
       "                        <th id=\"T_81c76_level0_row34\" class=\"row_heading level0 row34\" >rougher.input.feed_pb</th>\n",
       "                        <td id=\"T_81c76_row34_col0\" class=\"data row34 col0\" >0.71%</td>\n",
       "            </tr>\n",
       "            <tr>\n",
       "                        <th id=\"T_81c76_level0_row35\" class=\"row_heading level0 row35\" >rougher.input.feed_rate</th>\n",
       "                        <td id=\"T_81c76_row35_col0\" class=\"data row35 col0\" >0.06%</td>\n",
       "            </tr>\n",
       "            <tr>\n",
       "                        <th id=\"T_81c76_level0_row36\" class=\"row_heading level0 row36\" >rougher.input.feed_size</th>\n",
       "                        <td id=\"T_81c76_row36_col0\" class=\"data row36 col0\" >1.02%</td>\n",
       "            </tr>\n",
       "            <tr>\n",
       "                        <th id=\"T_81c76_level0_row37\" class=\"row_heading level0 row37\" >rougher.input.feed_sol</th>\n",
       "                        <td id=\"T_81c76_row37_col0\" class=\"data row37 col0\" >0.55%</td>\n",
       "            </tr>\n",
       "            <tr>\n",
       "                        <th id=\"T_81c76_level0_row38\" class=\"row_heading level0 row38\" >rougher.input.feed_au</th>\n",
       "                        <td id=\"T_81c76_row38_col0\" class=\"data row38 col0\" >0.00%</td>\n",
       "            </tr>\n",
       "            <tr>\n",
       "                        <th id=\"T_81c76_level0_row39\" class=\"row_heading level0 row39\" >rougher.input.floatbank10_sulfate</th>\n",
       "                        <td id=\"T_81c76_row39_col0\" class=\"data row39 col0\" >0.20%</td>\n",
       "            </tr>\n",
       "            <tr>\n",
       "                        <th id=\"T_81c76_level0_row40\" class=\"row_heading level0 row40\" >rougher.input.floatbank10_xanthate</th>\n",
       "                        <td id=\"T_81c76_row40_col0\" class=\"data row40 col0\" >0.06%</td>\n",
       "            </tr>\n",
       "            <tr>\n",
       "                        <th id=\"T_81c76_level0_row41\" class=\"row_heading level0 row41\" >rougher.input.floatbank11_sulfate</th>\n",
       "                        <td id=\"T_81c76_row41_col0\" class=\"data row41 col0\" >0.25%</td>\n",
       "            </tr>\n",
       "            <tr>\n",
       "                        <th id=\"T_81c76_level0_row42\" class=\"row_heading level0 row42\" >rougher.input.floatbank11_xanthate</th>\n",
       "                        <td id=\"T_81c76_row42_col0\" class=\"data row42 col0\" >3.02%</td>\n",
       "            </tr>\n",
       "            <tr>\n",
       "                        <th id=\"T_81c76_level0_row43\" class=\"row_heading level0 row43\" >rougher.output.concentrate_ag</th>\n",
       "                        <td id=\"T_81c76_row43_col0\" class=\"data row43 col0\" >0.00%</td>\n",
       "            </tr>\n",
       "            <tr>\n",
       "                        <th id=\"T_81c76_level0_row44\" class=\"row_heading level0 row44\" >rougher.output.concentrate_pb</th>\n",
       "                        <td id=\"T_81c76_row44_col0\" class=\"data row44 col0\" >0.00%</td>\n",
       "            </tr>\n",
       "            <tr>\n",
       "                        <th id=\"T_81c76_level0_row45\" class=\"row_heading level0 row45\" >rougher.output.concentrate_sol</th>\n",
       "                        <td id=\"T_81c76_row45_col0\" class=\"data row45 col0\" >0.16%</td>\n",
       "            </tr>\n",
       "            <tr>\n",
       "                        <th id=\"T_81c76_level0_row46\" class=\"row_heading level0 row46\" >rougher.output.concentrate_au</th>\n",
       "                        <td id=\"T_81c76_row46_col0\" class=\"data row46 col0\" >0.00%</td>\n",
       "            </tr>\n",
       "            <tr>\n",
       "                        <th id=\"T_81c76_level0_row47\" class=\"row_heading level0 row47\" >rougher.output.recovery</th>\n",
       "                        <td id=\"T_81c76_row47_col0\" class=\"data row47 col0\" >0.00%</td>\n",
       "            </tr>\n",
       "            <tr>\n",
       "                        <th id=\"T_81c76_level0_row48\" class=\"row_heading level0 row48\" >rougher.output.tail_ag</th>\n",
       "                        <td id=\"T_81c76_row48_col0\" class=\"data row48 col0\" >0.01%</td>\n",
       "            </tr>\n",
       "            <tr>\n",
       "                        <th id=\"T_81c76_level0_row49\" class=\"row_heading level0 row49\" >rougher.output.tail_pb</th>\n",
       "                        <td id=\"T_81c76_row49_col0\" class=\"data row49 col0\" >0.00%</td>\n",
       "            </tr>\n",
       "            <tr>\n",
       "                        <th id=\"T_81c76_level0_row50\" class=\"row_heading level0 row50\" >rougher.output.tail_sol</th>\n",
       "                        <td id=\"T_81c76_row50_col0\" class=\"data row50 col0\" >0.00%</td>\n",
       "            </tr>\n",
       "            <tr>\n",
       "                        <th id=\"T_81c76_level0_row51\" class=\"row_heading level0 row51\" >rougher.output.tail_au</th>\n",
       "                        <td id=\"T_81c76_row51_col0\" class=\"data row51 col0\" >0.00%</td>\n",
       "            </tr>\n",
       "            <tr>\n",
       "                        <th id=\"T_81c76_level0_row52\" class=\"row_heading level0 row52\" >rougher.state.floatbank10_a_air</th>\n",
       "                        <td id=\"T_81c76_row52_col0\" class=\"data row52 col0\" >0.01%</td>\n",
       "            </tr>\n",
       "            <tr>\n",
       "                        <th id=\"T_81c76_level0_row53\" class=\"row_heading level0 row53\" >rougher.state.floatbank10_a_level</th>\n",
       "                        <td id=\"T_81c76_row53_col0\" class=\"data row53 col0\" >0.01%</td>\n",
       "            </tr>\n",
       "            <tr>\n",
       "                        <th id=\"T_81c76_level0_row54\" class=\"row_heading level0 row54\" >rougher.state.floatbank10_b_air</th>\n",
       "                        <td id=\"T_81c76_row54_col0\" class=\"data row54 col0\" >0.01%</td>\n",
       "            </tr>\n",
       "            <tr>\n",
       "                        <th id=\"T_81c76_level0_row55\" class=\"row_heading level0 row55\" >rougher.state.floatbank10_b_level</th>\n",
       "                        <td id=\"T_81c76_row55_col0\" class=\"data row55 col0\" >0.01%</td>\n",
       "            </tr>\n",
       "            <tr>\n",
       "                        <th id=\"T_81c76_level0_row56\" class=\"row_heading level0 row56\" >rougher.state.floatbank10_c_air</th>\n",
       "                        <td id=\"T_81c76_row56_col0\" class=\"data row56 col0\" >0.01%</td>\n",
       "            </tr>\n",
       "            <tr>\n",
       "                        <th id=\"T_81c76_level0_row57\" class=\"row_heading level0 row57\" >rougher.state.floatbank10_c_level</th>\n",
       "                        <td id=\"T_81c76_row57_col0\" class=\"data row57 col0\" >0.01%</td>\n",
       "            </tr>\n",
       "            <tr>\n",
       "                        <th id=\"T_81c76_level0_row58\" class=\"row_heading level0 row58\" >rougher.state.floatbank10_d_air</th>\n",
       "                        <td id=\"T_81c76_row58_col0\" class=\"data row58 col0\" >0.00%</td>\n",
       "            </tr>\n",
       "            <tr>\n",
       "                        <th id=\"T_81c76_level0_row59\" class=\"row_heading level0 row59\" >rougher.state.floatbank10_d_level</th>\n",
       "                        <td id=\"T_81c76_row59_col0\" class=\"data row59 col0\" >0.00%</td>\n",
       "            </tr>\n",
       "            <tr>\n",
       "                        <th id=\"T_81c76_level0_row60\" class=\"row_heading level0 row60\" >rougher.state.floatbank10_e_air</th>\n",
       "                        <td id=\"T_81c76_row60_col0\" class=\"data row60 col0\" >3.08%</td>\n",
       "            </tr>\n",
       "            <tr>\n",
       "                        <th id=\"T_81c76_level0_row61\" class=\"row_heading level0 row61\" >rougher.state.floatbank10_e_level</th>\n",
       "                        <td id=\"T_81c76_row61_col0\" class=\"data row61 col0\" >0.00%</td>\n",
       "            </tr>\n",
       "            <tr>\n",
       "                        <th id=\"T_81c76_level0_row62\" class=\"row_heading level0 row62\" >rougher.state.floatbank10_f_air</th>\n",
       "                        <td id=\"T_81c76_row62_col0\" class=\"data row62 col0\" >0.00%</td>\n",
       "            </tr>\n",
       "            <tr>\n",
       "                        <th id=\"T_81c76_level0_row63\" class=\"row_heading level0 row63\" >rougher.state.floatbank10_f_level</th>\n",
       "                        <td id=\"T_81c76_row63_col0\" class=\"data row63 col0\" >0.00%</td>\n",
       "            </tr>\n",
       "            <tr>\n",
       "                        <th id=\"T_81c76_level0_row64\" class=\"row_heading level0 row64\" >secondary_cleaner.output.tail_ag</th>\n",
       "                        <td id=\"T_81c76_row64_col0\" class=\"data row64 col0\" >0.01%</td>\n",
       "            </tr>\n",
       "            <tr>\n",
       "                        <th id=\"T_81c76_level0_row65\" class=\"row_heading level0 row65\" >secondary_cleaner.output.tail_pb</th>\n",
       "                        <td id=\"T_81c76_row65_col0\" class=\"data row65 col0\" >0.07%</td>\n",
       "            </tr>\n",
       "            <tr>\n",
       "                        <th id=\"T_81c76_level0_row66\" class=\"row_heading level0 row66\" >secondary_cleaner.output.tail_sol</th>\n",
       "                        <td id=\"T_81c76_row66_col0\" class=\"data row66 col0\" >11.34%</td>\n",
       "            </tr>\n",
       "            <tr>\n",
       "                        <th id=\"T_81c76_level0_row67\" class=\"row_heading level0 row67\" >secondary_cleaner.output.tail_au</th>\n",
       "                        <td id=\"T_81c76_row67_col0\" class=\"data row67 col0\" >0.00%</td>\n",
       "            </tr>\n",
       "            <tr>\n",
       "                        <th id=\"T_81c76_level0_row68\" class=\"row_heading level0 row68\" >secondary_cleaner.state.floatbank2_a_air</th>\n",
       "                        <td id=\"T_81c76_row68_col0\" class=\"data row68 col0\" >1.53%</td>\n",
       "            </tr>\n",
       "            <tr>\n",
       "                        <th id=\"T_81c76_level0_row69\" class=\"row_heading level0 row69\" >secondary_cleaner.state.floatbank2_a_level</th>\n",
       "                        <td id=\"T_81c76_row69_col0\" class=\"data row69 col0\" >0.01%</td>\n",
       "            </tr>\n",
       "            <tr>\n",
       "                        <th id=\"T_81c76_level0_row70\" class=\"row_heading level0 row70\" >secondary_cleaner.state.floatbank2_b_air</th>\n",
       "                        <td id=\"T_81c76_row70_col0\" class=\"data row70 col0\" >0.15%</td>\n",
       "            </tr>\n",
       "            <tr>\n",
       "                        <th id=\"T_81c76_level0_row71\" class=\"row_heading level0 row71\" >secondary_cleaner.state.floatbank2_b_level</th>\n",
       "                        <td id=\"T_81c76_row71_col0\" class=\"data row71 col0\" >0.01%</td>\n",
       "            </tr>\n",
       "            <tr>\n",
       "                        <th id=\"T_81c76_level0_row72\" class=\"row_heading level0 row72\" >secondary_cleaner.state.floatbank3_a_air</th>\n",
       "                        <td id=\"T_81c76_row72_col0\" class=\"data row72 col0\" >0.03%</td>\n",
       "            </tr>\n",
       "            <tr>\n",
       "                        <th id=\"T_81c76_level0_row73\" class=\"row_heading level0 row73\" >secondary_cleaner.state.floatbank3_a_level</th>\n",
       "                        <td id=\"T_81c76_row73_col0\" class=\"data row73 col0\" >0.01%</td>\n",
       "            </tr>\n",
       "            <tr>\n",
       "                        <th id=\"T_81c76_level0_row74\" class=\"row_heading level0 row74\" >secondary_cleaner.state.floatbank3_b_air</th>\n",
       "                        <td id=\"T_81c76_row74_col0\" class=\"data row74 col0\" >0.01%</td>\n",
       "            </tr>\n",
       "            <tr>\n",
       "                        <th id=\"T_81c76_level0_row75\" class=\"row_heading level0 row75\" >secondary_cleaner.state.floatbank3_b_level</th>\n",
       "                        <td id=\"T_81c76_row75_col0\" class=\"data row75 col0\" >0.01%</td>\n",
       "            </tr>\n",
       "            <tr>\n",
       "                        <th id=\"T_81c76_level0_row76\" class=\"row_heading level0 row76\" >secondary_cleaner.state.floatbank4_a_air</th>\n",
       "                        <td id=\"T_81c76_row76_col0\" class=\"data row76 col0\" >0.04%</td>\n",
       "            </tr>\n",
       "            <tr>\n",
       "                        <th id=\"T_81c76_level0_row77\" class=\"row_heading level0 row77\" >secondary_cleaner.state.floatbank4_a_level</th>\n",
       "                        <td id=\"T_81c76_row77_col0\" class=\"data row77 col0\" >0.01%</td>\n",
       "            </tr>\n",
       "            <tr>\n",
       "                        <th id=\"T_81c76_level0_row78\" class=\"row_heading level0 row78\" >secondary_cleaner.state.floatbank4_b_air</th>\n",
       "                        <td id=\"T_81c76_row78_col0\" class=\"data row78 col0\" >0.01%</td>\n",
       "            </tr>\n",
       "            <tr>\n",
       "                        <th id=\"T_81c76_level0_row79\" class=\"row_heading level0 row79\" >secondary_cleaner.state.floatbank4_b_level</th>\n",
       "                        <td id=\"T_81c76_row79_col0\" class=\"data row79 col0\" >0.01%</td>\n",
       "            </tr>\n",
       "            <tr>\n",
       "                        <th id=\"T_81c76_level0_row80\" class=\"row_heading level0 row80\" >secondary_cleaner.state.floatbank5_a_air</th>\n",
       "                        <td id=\"T_81c76_row80_col0\" class=\"data row80 col0\" >0.01%</td>\n",
       "            </tr>\n",
       "            <tr>\n",
       "                        <th id=\"T_81c76_level0_row81\" class=\"row_heading level0 row81\" >secondary_cleaner.state.floatbank5_a_level</th>\n",
       "                        <td id=\"T_81c76_row81_col0\" class=\"data row81 col0\" >0.01%</td>\n",
       "            </tr>\n",
       "            <tr>\n",
       "                        <th id=\"T_81c76_level0_row82\" class=\"row_heading level0 row82\" >secondary_cleaner.state.floatbank5_b_air</th>\n",
       "                        <td id=\"T_81c76_row82_col0\" class=\"data row82 col0\" >0.01%</td>\n",
       "            </tr>\n",
       "            <tr>\n",
       "                        <th id=\"T_81c76_level0_row83\" class=\"row_heading level0 row83\" >secondary_cleaner.state.floatbank5_b_level</th>\n",
       "                        <td id=\"T_81c76_row83_col0\" class=\"data row83 col0\" >0.01%</td>\n",
       "            </tr>\n",
       "            <tr>\n",
       "                        <th id=\"T_81c76_level0_row84\" class=\"row_heading level0 row84\" >secondary_cleaner.state.floatbank6_a_air</th>\n",
       "                        <td id=\"T_81c76_row84_col0\" class=\"data row84 col0\" >0.01%</td>\n",
       "            </tr>\n",
       "            <tr>\n",
       "                        <th id=\"T_81c76_level0_row85\" class=\"row_heading level0 row85\" >secondary_cleaner.state.floatbank6_a_level</th>\n",
       "                        <td id=\"T_81c76_row85_col0\" class=\"data row85 col0\" >0.01%</td>\n",
       "            </tr>\n",
       "    </tbody></table>"
      ],
      "text/plain": [
       "<pandas.io.formats.style.Styler at 0x7f5caa154760>"
      ]
     },
     "metadata": {},
     "output_type": "display_data"
    },
    {
     "name": "stdout",
     "output_type": "stream",
     "text": [
      "есть ли дупликаты False\n"
     ]
    },
    {
     "data": {
      "text/html": [
       "<div>\n",
       "<style scoped>\n",
       "    .dataframe tbody tr th:only-of-type {\n",
       "        vertical-align: middle;\n",
       "    }\n",
       "\n",
       "    .dataframe tbody tr th {\n",
       "        vertical-align: top;\n",
       "    }\n",
       "\n",
       "    .dataframe thead th {\n",
       "        text-align: right;\n",
       "    }\n",
       "</style>\n",
       "<table border=\"1\" class=\"dataframe\">\n",
       "  <thead>\n",
       "    <tr style=\"text-align: right;\">\n",
       "      <th></th>\n",
       "      <th>final.output.concentrate_ag</th>\n",
       "      <th>final.output.concentrate_pb</th>\n",
       "      <th>final.output.concentrate_sol</th>\n",
       "      <th>final.output.concentrate_au</th>\n",
       "      <th>final.output.recovery</th>\n",
       "      <th>final.output.tail_ag</th>\n",
       "      <th>final.output.tail_pb</th>\n",
       "      <th>final.output.tail_sol</th>\n",
       "      <th>final.output.tail_au</th>\n",
       "      <th>primary_cleaner.input.sulfate</th>\n",
       "      <th>...</th>\n",
       "      <th>secondary_cleaner.state.floatbank4_a_air</th>\n",
       "      <th>secondary_cleaner.state.floatbank4_a_level</th>\n",
       "      <th>secondary_cleaner.state.floatbank4_b_air</th>\n",
       "      <th>secondary_cleaner.state.floatbank4_b_level</th>\n",
       "      <th>secondary_cleaner.state.floatbank5_a_air</th>\n",
       "      <th>secondary_cleaner.state.floatbank5_a_level</th>\n",
       "      <th>secondary_cleaner.state.floatbank5_b_air</th>\n",
       "      <th>secondary_cleaner.state.floatbank5_b_level</th>\n",
       "      <th>secondary_cleaner.state.floatbank6_a_air</th>\n",
       "      <th>secondary_cleaner.state.floatbank6_a_level</th>\n",
       "    </tr>\n",
       "    <tr>\n",
       "      <th>date</th>\n",
       "      <th></th>\n",
       "      <th></th>\n",
       "      <th></th>\n",
       "      <th></th>\n",
       "      <th></th>\n",
       "      <th></th>\n",
       "      <th></th>\n",
       "      <th></th>\n",
       "      <th></th>\n",
       "      <th></th>\n",
       "      <th></th>\n",
       "      <th></th>\n",
       "      <th></th>\n",
       "      <th></th>\n",
       "      <th></th>\n",
       "      <th></th>\n",
       "      <th></th>\n",
       "      <th></th>\n",
       "      <th></th>\n",
       "      <th></th>\n",
       "      <th></th>\n",
       "    </tr>\n",
       "  </thead>\n",
       "  <tbody>\n",
       "    <tr>\n",
       "      <th>2016-01-15 00:00:00</th>\n",
       "      <td>6.055403</td>\n",
       "      <td>9.889648</td>\n",
       "      <td>5.507324</td>\n",
       "      <td>42.192020</td>\n",
       "      <td>70.541216</td>\n",
       "      <td>10.411962</td>\n",
       "      <td>0.895447</td>\n",
       "      <td>16.904297</td>\n",
       "      <td>2.143149</td>\n",
       "      <td>127.092003</td>\n",
       "      <td>...</td>\n",
       "      <td>14.016835</td>\n",
       "      <td>-502.488007</td>\n",
       "      <td>12.099931</td>\n",
       "      <td>-504.715942</td>\n",
       "      <td>9.925633</td>\n",
       "      <td>-498.310211</td>\n",
       "      <td>8.079666</td>\n",
       "      <td>-500.470978</td>\n",
       "      <td>14.151341</td>\n",
       "      <td>-605.841980</td>\n",
       "    </tr>\n",
       "    <tr>\n",
       "      <th>2016-01-15 01:00:00</th>\n",
       "      <td>6.029369</td>\n",
       "      <td>9.968944</td>\n",
       "      <td>5.257781</td>\n",
       "      <td>42.701629</td>\n",
       "      <td>69.266198</td>\n",
       "      <td>10.462676</td>\n",
       "      <td>0.927452</td>\n",
       "      <td>16.634514</td>\n",
       "      <td>2.224930</td>\n",
       "      <td>125.629232</td>\n",
       "      <td>...</td>\n",
       "      <td>13.992281</td>\n",
       "      <td>-505.503262</td>\n",
       "      <td>11.950531</td>\n",
       "      <td>-501.331529</td>\n",
       "      <td>10.039245</td>\n",
       "      <td>-500.169983</td>\n",
       "      <td>7.984757</td>\n",
       "      <td>-500.582168</td>\n",
       "      <td>13.998353</td>\n",
       "      <td>-599.787184</td>\n",
       "    </tr>\n",
       "    <tr>\n",
       "      <th>2016-01-15 02:00:00</th>\n",
       "      <td>6.055926</td>\n",
       "      <td>10.213995</td>\n",
       "      <td>5.383759</td>\n",
       "      <td>42.657501</td>\n",
       "      <td>68.116445</td>\n",
       "      <td>10.507046</td>\n",
       "      <td>0.953716</td>\n",
       "      <td>16.208849</td>\n",
       "      <td>2.257889</td>\n",
       "      <td>123.819808</td>\n",
       "      <td>...</td>\n",
       "      <td>14.015015</td>\n",
       "      <td>-502.520901</td>\n",
       "      <td>11.912783</td>\n",
       "      <td>-501.133383</td>\n",
       "      <td>10.070913</td>\n",
       "      <td>-500.129135</td>\n",
       "      <td>8.013877</td>\n",
       "      <td>-500.517572</td>\n",
       "      <td>14.028663</td>\n",
       "      <td>-601.427363</td>\n",
       "    </tr>\n",
       "    <tr>\n",
       "      <th>2016-01-15 03:00:00</th>\n",
       "      <td>6.047977</td>\n",
       "      <td>9.977019</td>\n",
       "      <td>4.858634</td>\n",
       "      <td>42.689819</td>\n",
       "      <td>68.347543</td>\n",
       "      <td>10.422762</td>\n",
       "      <td>0.883763</td>\n",
       "      <td>16.532835</td>\n",
       "      <td>2.146849</td>\n",
       "      <td>122.270188</td>\n",
       "      <td>...</td>\n",
       "      <td>14.036510</td>\n",
       "      <td>-500.857308</td>\n",
       "      <td>11.999550</td>\n",
       "      <td>-501.193686</td>\n",
       "      <td>9.970366</td>\n",
       "      <td>-499.201640</td>\n",
       "      <td>7.977324</td>\n",
       "      <td>-500.255908</td>\n",
       "      <td>14.005551</td>\n",
       "      <td>-599.996129</td>\n",
       "    </tr>\n",
       "    <tr>\n",
       "      <th>2016-01-15 04:00:00</th>\n",
       "      <td>6.148599</td>\n",
       "      <td>10.142511</td>\n",
       "      <td>4.939416</td>\n",
       "      <td>42.774141</td>\n",
       "      <td>66.927016</td>\n",
       "      <td>10.360302</td>\n",
       "      <td>0.792826</td>\n",
       "      <td>16.525686</td>\n",
       "      <td>2.055292</td>\n",
       "      <td>117.988169</td>\n",
       "      <td>...</td>\n",
       "      <td>14.027298</td>\n",
       "      <td>-499.838632</td>\n",
       "      <td>11.953070</td>\n",
       "      <td>-501.053894</td>\n",
       "      <td>9.925709</td>\n",
       "      <td>-501.686727</td>\n",
       "      <td>7.894242</td>\n",
       "      <td>-500.356035</td>\n",
       "      <td>13.996647</td>\n",
       "      <td>-601.496691</td>\n",
       "    </tr>\n",
       "    <tr>\n",
       "      <th>2016-01-15 05:00:00</th>\n",
       "      <td>6.482968</td>\n",
       "      <td>10.049416</td>\n",
       "      <td>5.480257</td>\n",
       "      <td>41.633678</td>\n",
       "      <td>69.465816</td>\n",
       "      <td>10.182708</td>\n",
       "      <td>0.664118</td>\n",
       "      <td>16.999638</td>\n",
       "      <td>1.918586</td>\n",
       "      <td>115.581252</td>\n",
       "      <td>...</td>\n",
       "      <td>13.938497</td>\n",
       "      <td>-500.970168</td>\n",
       "      <td>11.883350</td>\n",
       "      <td>-500.395298</td>\n",
       "      <td>10.054147</td>\n",
       "      <td>-496.374715</td>\n",
       "      <td>7.965083</td>\n",
       "      <td>-499.364752</td>\n",
       "      <td>14.017067</td>\n",
       "      <td>-599.707915</td>\n",
       "    </tr>\n",
       "    <tr>\n",
       "      <th>2016-01-15 06:00:00</th>\n",
       "      <td>6.533849</td>\n",
       "      <td>10.058141</td>\n",
       "      <td>4.569100</td>\n",
       "      <td>41.995316</td>\n",
       "      <td>69.300835</td>\n",
       "      <td>10.304598</td>\n",
       "      <td>0.807342</td>\n",
       "      <td>16.723575</td>\n",
       "      <td>2.058913</td>\n",
       "      <td>117.322323</td>\n",
       "      <td>...</td>\n",
       "      <td>14.046819</td>\n",
       "      <td>-500.971133</td>\n",
       "      <td>12.091543</td>\n",
       "      <td>-500.501426</td>\n",
       "      <td>10.003247</td>\n",
       "      <td>-497.083180</td>\n",
       "      <td>8.010890</td>\n",
       "      <td>-500.002423</td>\n",
       "      <td>14.029649</td>\n",
       "      <td>-600.905470</td>\n",
       "    </tr>\n",
       "    <tr>\n",
       "      <th>2016-01-15 07:00:00</th>\n",
       "      <td>6.130823</td>\n",
       "      <td>9.935481</td>\n",
       "      <td>4.389813</td>\n",
       "      <td>42.452727</td>\n",
       "      <td>70.230976</td>\n",
       "      <td>10.443288</td>\n",
       "      <td>0.949346</td>\n",
       "      <td>16.689959</td>\n",
       "      <td>2.143437</td>\n",
       "      <td>124.592960</td>\n",
       "      <td>...</td>\n",
       "      <td>13.974691</td>\n",
       "      <td>-501.819696</td>\n",
       "      <td>12.101324</td>\n",
       "      <td>-500.583446</td>\n",
       "      <td>9.873169</td>\n",
       "      <td>-499.171928</td>\n",
       "      <td>7.993381</td>\n",
       "      <td>-499.794518</td>\n",
       "      <td>13.984498</td>\n",
       "      <td>-600.411070</td>\n",
       "    </tr>\n",
       "    <tr>\n",
       "      <th>2016-01-15 08:00:00</th>\n",
       "      <td>5.834140</td>\n",
       "      <td>10.071156</td>\n",
       "      <td>4.876389</td>\n",
       "      <td>43.404078</td>\n",
       "      <td>69.688595</td>\n",
       "      <td>10.420140</td>\n",
       "      <td>1.065453</td>\n",
       "      <td>17.201948</td>\n",
       "      <td>2.209881</td>\n",
       "      <td>131.781026</td>\n",
       "      <td>...</td>\n",
       "      <td>13.964030</td>\n",
       "      <td>-504.252450</td>\n",
       "      <td>12.060738</td>\n",
       "      <td>-501.174549</td>\n",
       "      <td>10.033838</td>\n",
       "      <td>-501.178133</td>\n",
       "      <td>7.881604</td>\n",
       "      <td>-499.729434</td>\n",
       "      <td>13.967135</td>\n",
       "      <td>-599.061188</td>\n",
       "    </tr>\n",
       "    <tr>\n",
       "      <th>2016-01-15 09:00:00</th>\n",
       "      <td>5.687063</td>\n",
       "      <td>9.980404</td>\n",
       "      <td>5.282514</td>\n",
       "      <td>43.235220</td>\n",
       "      <td>70.279619</td>\n",
       "      <td>10.487013</td>\n",
       "      <td>1.159805</td>\n",
       "      <td>17.483979</td>\n",
       "      <td>2.209593</td>\n",
       "      <td>138.120409</td>\n",
       "      <td>...</td>\n",
       "      <td>13.989632</td>\n",
       "      <td>-503.195299</td>\n",
       "      <td>12.052233</td>\n",
       "      <td>-500.928547</td>\n",
       "      <td>9.962574</td>\n",
       "      <td>-502.986357</td>\n",
       "      <td>7.979219</td>\n",
       "      <td>-500.146835</td>\n",
       "      <td>13.981614</td>\n",
       "      <td>-598.070855</td>\n",
       "    </tr>\n",
       "  </tbody>\n",
       "</table>\n",
       "<p>10 rows × 86 columns</p>\n",
       "</div>"
      ],
      "text/plain": [
       "                     final.output.concentrate_ag  final.output.concentrate_pb  \\\n",
       "date                                                                            \n",
       "2016-01-15 00:00:00                     6.055403                     9.889648   \n",
       "2016-01-15 01:00:00                     6.029369                     9.968944   \n",
       "2016-01-15 02:00:00                     6.055926                    10.213995   \n",
       "2016-01-15 03:00:00                     6.047977                     9.977019   \n",
       "2016-01-15 04:00:00                     6.148599                    10.142511   \n",
       "2016-01-15 05:00:00                     6.482968                    10.049416   \n",
       "2016-01-15 06:00:00                     6.533849                    10.058141   \n",
       "2016-01-15 07:00:00                     6.130823                     9.935481   \n",
       "2016-01-15 08:00:00                     5.834140                    10.071156   \n",
       "2016-01-15 09:00:00                     5.687063                     9.980404   \n",
       "\n",
       "                     final.output.concentrate_sol  \\\n",
       "date                                                \n",
       "2016-01-15 00:00:00                      5.507324   \n",
       "2016-01-15 01:00:00                      5.257781   \n",
       "2016-01-15 02:00:00                      5.383759   \n",
       "2016-01-15 03:00:00                      4.858634   \n",
       "2016-01-15 04:00:00                      4.939416   \n",
       "2016-01-15 05:00:00                      5.480257   \n",
       "2016-01-15 06:00:00                      4.569100   \n",
       "2016-01-15 07:00:00                      4.389813   \n",
       "2016-01-15 08:00:00                      4.876389   \n",
       "2016-01-15 09:00:00                      5.282514   \n",
       "\n",
       "                     final.output.concentrate_au  final.output.recovery  \\\n",
       "date                                                                      \n",
       "2016-01-15 00:00:00                    42.192020              70.541216   \n",
       "2016-01-15 01:00:00                    42.701629              69.266198   \n",
       "2016-01-15 02:00:00                    42.657501              68.116445   \n",
       "2016-01-15 03:00:00                    42.689819              68.347543   \n",
       "2016-01-15 04:00:00                    42.774141              66.927016   \n",
       "2016-01-15 05:00:00                    41.633678              69.465816   \n",
       "2016-01-15 06:00:00                    41.995316              69.300835   \n",
       "2016-01-15 07:00:00                    42.452727              70.230976   \n",
       "2016-01-15 08:00:00                    43.404078              69.688595   \n",
       "2016-01-15 09:00:00                    43.235220              70.279619   \n",
       "\n",
       "                     final.output.tail_ag  final.output.tail_pb  \\\n",
       "date                                                              \n",
       "2016-01-15 00:00:00             10.411962              0.895447   \n",
       "2016-01-15 01:00:00             10.462676              0.927452   \n",
       "2016-01-15 02:00:00             10.507046              0.953716   \n",
       "2016-01-15 03:00:00             10.422762              0.883763   \n",
       "2016-01-15 04:00:00             10.360302              0.792826   \n",
       "2016-01-15 05:00:00             10.182708              0.664118   \n",
       "2016-01-15 06:00:00             10.304598              0.807342   \n",
       "2016-01-15 07:00:00             10.443288              0.949346   \n",
       "2016-01-15 08:00:00             10.420140              1.065453   \n",
       "2016-01-15 09:00:00             10.487013              1.159805   \n",
       "\n",
       "                     final.output.tail_sol  final.output.tail_au  \\\n",
       "date                                                               \n",
       "2016-01-15 00:00:00              16.904297              2.143149   \n",
       "2016-01-15 01:00:00              16.634514              2.224930   \n",
       "2016-01-15 02:00:00              16.208849              2.257889   \n",
       "2016-01-15 03:00:00              16.532835              2.146849   \n",
       "2016-01-15 04:00:00              16.525686              2.055292   \n",
       "2016-01-15 05:00:00              16.999638              1.918586   \n",
       "2016-01-15 06:00:00              16.723575              2.058913   \n",
       "2016-01-15 07:00:00              16.689959              2.143437   \n",
       "2016-01-15 08:00:00              17.201948              2.209881   \n",
       "2016-01-15 09:00:00              17.483979              2.209593   \n",
       "\n",
       "                     primary_cleaner.input.sulfate  ...  \\\n",
       "date                                                ...   \n",
       "2016-01-15 00:00:00                     127.092003  ...   \n",
       "2016-01-15 01:00:00                     125.629232  ...   \n",
       "2016-01-15 02:00:00                     123.819808  ...   \n",
       "2016-01-15 03:00:00                     122.270188  ...   \n",
       "2016-01-15 04:00:00                     117.988169  ...   \n",
       "2016-01-15 05:00:00                     115.581252  ...   \n",
       "2016-01-15 06:00:00                     117.322323  ...   \n",
       "2016-01-15 07:00:00                     124.592960  ...   \n",
       "2016-01-15 08:00:00                     131.781026  ...   \n",
       "2016-01-15 09:00:00                     138.120409  ...   \n",
       "\n",
       "                     secondary_cleaner.state.floatbank4_a_air  \\\n",
       "date                                                            \n",
       "2016-01-15 00:00:00                                 14.016835   \n",
       "2016-01-15 01:00:00                                 13.992281   \n",
       "2016-01-15 02:00:00                                 14.015015   \n",
       "2016-01-15 03:00:00                                 14.036510   \n",
       "2016-01-15 04:00:00                                 14.027298   \n",
       "2016-01-15 05:00:00                                 13.938497   \n",
       "2016-01-15 06:00:00                                 14.046819   \n",
       "2016-01-15 07:00:00                                 13.974691   \n",
       "2016-01-15 08:00:00                                 13.964030   \n",
       "2016-01-15 09:00:00                                 13.989632   \n",
       "\n",
       "                     secondary_cleaner.state.floatbank4_a_level  \\\n",
       "date                                                              \n",
       "2016-01-15 00:00:00                                 -502.488007   \n",
       "2016-01-15 01:00:00                                 -505.503262   \n",
       "2016-01-15 02:00:00                                 -502.520901   \n",
       "2016-01-15 03:00:00                                 -500.857308   \n",
       "2016-01-15 04:00:00                                 -499.838632   \n",
       "2016-01-15 05:00:00                                 -500.970168   \n",
       "2016-01-15 06:00:00                                 -500.971133   \n",
       "2016-01-15 07:00:00                                 -501.819696   \n",
       "2016-01-15 08:00:00                                 -504.252450   \n",
       "2016-01-15 09:00:00                                 -503.195299   \n",
       "\n",
       "                     secondary_cleaner.state.floatbank4_b_air  \\\n",
       "date                                                            \n",
       "2016-01-15 00:00:00                                 12.099931   \n",
       "2016-01-15 01:00:00                                 11.950531   \n",
       "2016-01-15 02:00:00                                 11.912783   \n",
       "2016-01-15 03:00:00                                 11.999550   \n",
       "2016-01-15 04:00:00                                 11.953070   \n",
       "2016-01-15 05:00:00                                 11.883350   \n",
       "2016-01-15 06:00:00                                 12.091543   \n",
       "2016-01-15 07:00:00                                 12.101324   \n",
       "2016-01-15 08:00:00                                 12.060738   \n",
       "2016-01-15 09:00:00                                 12.052233   \n",
       "\n",
       "                     secondary_cleaner.state.floatbank4_b_level  \\\n",
       "date                                                              \n",
       "2016-01-15 00:00:00                                 -504.715942   \n",
       "2016-01-15 01:00:00                                 -501.331529   \n",
       "2016-01-15 02:00:00                                 -501.133383   \n",
       "2016-01-15 03:00:00                                 -501.193686   \n",
       "2016-01-15 04:00:00                                 -501.053894   \n",
       "2016-01-15 05:00:00                                 -500.395298   \n",
       "2016-01-15 06:00:00                                 -500.501426   \n",
       "2016-01-15 07:00:00                                 -500.583446   \n",
       "2016-01-15 08:00:00                                 -501.174549   \n",
       "2016-01-15 09:00:00                                 -500.928547   \n",
       "\n",
       "                     secondary_cleaner.state.floatbank5_a_air  \\\n",
       "date                                                            \n",
       "2016-01-15 00:00:00                                  9.925633   \n",
       "2016-01-15 01:00:00                                 10.039245   \n",
       "2016-01-15 02:00:00                                 10.070913   \n",
       "2016-01-15 03:00:00                                  9.970366   \n",
       "2016-01-15 04:00:00                                  9.925709   \n",
       "2016-01-15 05:00:00                                 10.054147   \n",
       "2016-01-15 06:00:00                                 10.003247   \n",
       "2016-01-15 07:00:00                                  9.873169   \n",
       "2016-01-15 08:00:00                                 10.033838   \n",
       "2016-01-15 09:00:00                                  9.962574   \n",
       "\n",
       "                     secondary_cleaner.state.floatbank5_a_level  \\\n",
       "date                                                              \n",
       "2016-01-15 00:00:00                                 -498.310211   \n",
       "2016-01-15 01:00:00                                 -500.169983   \n",
       "2016-01-15 02:00:00                                 -500.129135   \n",
       "2016-01-15 03:00:00                                 -499.201640   \n",
       "2016-01-15 04:00:00                                 -501.686727   \n",
       "2016-01-15 05:00:00                                 -496.374715   \n",
       "2016-01-15 06:00:00                                 -497.083180   \n",
       "2016-01-15 07:00:00                                 -499.171928   \n",
       "2016-01-15 08:00:00                                 -501.178133   \n",
       "2016-01-15 09:00:00                                 -502.986357   \n",
       "\n",
       "                     secondary_cleaner.state.floatbank5_b_air  \\\n",
       "date                                                            \n",
       "2016-01-15 00:00:00                                  8.079666   \n",
       "2016-01-15 01:00:00                                  7.984757   \n",
       "2016-01-15 02:00:00                                  8.013877   \n",
       "2016-01-15 03:00:00                                  7.977324   \n",
       "2016-01-15 04:00:00                                  7.894242   \n",
       "2016-01-15 05:00:00                                  7.965083   \n",
       "2016-01-15 06:00:00                                  8.010890   \n",
       "2016-01-15 07:00:00                                  7.993381   \n",
       "2016-01-15 08:00:00                                  7.881604   \n",
       "2016-01-15 09:00:00                                  7.979219   \n",
       "\n",
       "                     secondary_cleaner.state.floatbank5_b_level  \\\n",
       "date                                                              \n",
       "2016-01-15 00:00:00                                 -500.470978   \n",
       "2016-01-15 01:00:00                                 -500.582168   \n",
       "2016-01-15 02:00:00                                 -500.517572   \n",
       "2016-01-15 03:00:00                                 -500.255908   \n",
       "2016-01-15 04:00:00                                 -500.356035   \n",
       "2016-01-15 05:00:00                                 -499.364752   \n",
       "2016-01-15 06:00:00                                 -500.002423   \n",
       "2016-01-15 07:00:00                                 -499.794518   \n",
       "2016-01-15 08:00:00                                 -499.729434   \n",
       "2016-01-15 09:00:00                                 -500.146835   \n",
       "\n",
       "                     secondary_cleaner.state.floatbank6_a_air  \\\n",
       "date                                                            \n",
       "2016-01-15 00:00:00                                 14.151341   \n",
       "2016-01-15 01:00:00                                 13.998353   \n",
       "2016-01-15 02:00:00                                 14.028663   \n",
       "2016-01-15 03:00:00                                 14.005551   \n",
       "2016-01-15 04:00:00                                 13.996647   \n",
       "2016-01-15 05:00:00                                 14.017067   \n",
       "2016-01-15 06:00:00                                 14.029649   \n",
       "2016-01-15 07:00:00                                 13.984498   \n",
       "2016-01-15 08:00:00                                 13.967135   \n",
       "2016-01-15 09:00:00                                 13.981614   \n",
       "\n",
       "                     secondary_cleaner.state.floatbank6_a_level  \n",
       "date                                                             \n",
       "2016-01-15 00:00:00                                 -605.841980  \n",
       "2016-01-15 01:00:00                                 -599.787184  \n",
       "2016-01-15 02:00:00                                 -601.427363  \n",
       "2016-01-15 03:00:00                                 -599.996129  \n",
       "2016-01-15 04:00:00                                 -601.496691  \n",
       "2016-01-15 05:00:00                                 -599.707915  \n",
       "2016-01-15 06:00:00                                 -600.905470  \n",
       "2016-01-15 07:00:00                                 -600.411070  \n",
       "2016-01-15 08:00:00                                 -599.061188  \n",
       "2016-01-15 09:00:00                                 -598.070855  \n",
       "\n",
       "[10 rows x 86 columns]"
      ]
     },
     "metadata": {},
     "output_type": "display_data"
    }
   ],
   "source": [
    "def df_info(df):\n",
    "    print(df.shape)\n",
    "    print(df.info())\n",
    "    \n",
    "    if df.isna().values.any():\n",
    "        display(pd.DataFrame(df.isna().mean().to_frame(name='gaps')).style.format({'gaps' : '{:.2%}'}))\n",
    "    else: print('No gaps')\n",
    "        \n",
    "    \n",
    "    print('есть ли дупликаты',df.duplicated().values.any())\n",
    "    \n",
    "    display(df.head(10))\n",
    "    \n",
    "df_info(gold_df_train)"
   ]
  },
  {
   "cell_type": "code",
   "execution_count": 5,
   "metadata": {},
   "outputs": [
    {
     "name": "stdout",
     "output_type": "stream",
     "text": [
      "(5290, 52)\n",
      "<class 'pandas.core.frame.DataFrame'>\n",
      "Index: 5290 entries, 2016-09-01 00:59:59 to 2017-12-31 23:59:59\n",
      "Data columns (total 52 columns):\n",
      " #   Column                                      Non-Null Count  Dtype  \n",
      "---  ------                                      --------------  -----  \n",
      " 0   primary_cleaner.input.sulfate               5286 non-null   float64\n",
      " 1   primary_cleaner.input.depressant            5285 non-null   float64\n",
      " 2   primary_cleaner.input.feed_size             5290 non-null   float64\n",
      " 3   primary_cleaner.input.xanthate              5286 non-null   float64\n",
      " 4   primary_cleaner.state.floatbank8_a_air      5290 non-null   float64\n",
      " 5   primary_cleaner.state.floatbank8_a_level    5290 non-null   float64\n",
      " 6   primary_cleaner.state.floatbank8_b_air      5290 non-null   float64\n",
      " 7   primary_cleaner.state.floatbank8_b_level    5290 non-null   float64\n",
      " 8   primary_cleaner.state.floatbank8_c_air      5290 non-null   float64\n",
      " 9   primary_cleaner.state.floatbank8_c_level    5290 non-null   float64\n",
      " 10  primary_cleaner.state.floatbank8_d_air      5290 non-null   float64\n",
      " 11  primary_cleaner.state.floatbank8_d_level    5290 non-null   float64\n",
      " 12  rougher.input.feed_ag                       5290 non-null   float64\n",
      " 13  rougher.input.feed_pb                       5290 non-null   float64\n",
      " 14  rougher.input.feed_rate                     5287 non-null   float64\n",
      " 15  rougher.input.feed_size                     5289 non-null   float64\n",
      " 16  rougher.input.feed_sol                      5269 non-null   float64\n",
      " 17  rougher.input.feed_au                       5290 non-null   float64\n",
      " 18  rougher.input.floatbank10_sulfate           5285 non-null   float64\n",
      " 19  rougher.input.floatbank10_xanthate          5290 non-null   float64\n",
      " 20  rougher.input.floatbank11_sulfate           5282 non-null   float64\n",
      " 21  rougher.input.floatbank11_xanthate          5265 non-null   float64\n",
      " 22  rougher.state.floatbank10_a_air             5290 non-null   float64\n",
      " 23  rougher.state.floatbank10_a_level           5290 non-null   float64\n",
      " 24  rougher.state.floatbank10_b_air             5290 non-null   float64\n",
      " 25  rougher.state.floatbank10_b_level           5290 non-null   float64\n",
      " 26  rougher.state.floatbank10_c_air             5290 non-null   float64\n",
      " 27  rougher.state.floatbank10_c_level           5290 non-null   float64\n",
      " 28  rougher.state.floatbank10_d_air             5290 non-null   float64\n",
      " 29  rougher.state.floatbank10_d_level           5290 non-null   float64\n",
      " 30  rougher.state.floatbank10_e_air             5290 non-null   float64\n",
      " 31  rougher.state.floatbank10_e_level           5290 non-null   float64\n",
      " 32  rougher.state.floatbank10_f_air             5290 non-null   float64\n",
      " 33  rougher.state.floatbank10_f_level           5290 non-null   float64\n",
      " 34  secondary_cleaner.state.floatbank2_a_air    5287 non-null   float64\n",
      " 35  secondary_cleaner.state.floatbank2_a_level  5290 non-null   float64\n",
      " 36  secondary_cleaner.state.floatbank2_b_air    5288 non-null   float64\n",
      " 37  secondary_cleaner.state.floatbank2_b_level  5290 non-null   float64\n",
      " 38  secondary_cleaner.state.floatbank3_a_air    5281 non-null   float64\n",
      " 39  secondary_cleaner.state.floatbank3_a_level  5290 non-null   float64\n",
      " 40  secondary_cleaner.state.floatbank3_b_air    5290 non-null   float64\n",
      " 41  secondary_cleaner.state.floatbank3_b_level  5290 non-null   float64\n",
      " 42  secondary_cleaner.state.floatbank4_a_air    5290 non-null   float64\n",
      " 43  secondary_cleaner.state.floatbank4_a_level  5290 non-null   float64\n",
      " 44  secondary_cleaner.state.floatbank4_b_air    5290 non-null   float64\n",
      " 45  secondary_cleaner.state.floatbank4_b_level  5290 non-null   float64\n",
      " 46  secondary_cleaner.state.floatbank5_a_air    5290 non-null   float64\n",
      " 47  secondary_cleaner.state.floatbank5_a_level  5290 non-null   float64\n",
      " 48  secondary_cleaner.state.floatbank5_b_air    5290 non-null   float64\n",
      " 49  secondary_cleaner.state.floatbank5_b_level  5290 non-null   float64\n",
      " 50  secondary_cleaner.state.floatbank6_a_air    5290 non-null   float64\n",
      " 51  secondary_cleaner.state.floatbank6_a_level  5290 non-null   float64\n",
      "dtypes: float64(52)\n",
      "memory usage: 2.1+ MB\n",
      "None\n"
     ]
    },
    {
     "data": {
      "text/html": [
       "<style  type=\"text/css\" >\n",
       "</style><table id=\"T_415be_\" ><thead>    <tr>        <th class=\"blank level0\" ></th>        <th class=\"col_heading level0 col0\" >gaps</th>    </tr></thead><tbody>\n",
       "                <tr>\n",
       "                        <th id=\"T_415be_level0_row0\" class=\"row_heading level0 row0\" >primary_cleaner.input.sulfate</th>\n",
       "                        <td id=\"T_415be_row0_col0\" class=\"data row0 col0\" >0.08%</td>\n",
       "            </tr>\n",
       "            <tr>\n",
       "                        <th id=\"T_415be_level0_row1\" class=\"row_heading level0 row1\" >primary_cleaner.input.depressant</th>\n",
       "                        <td id=\"T_415be_row1_col0\" class=\"data row1 col0\" >0.09%</td>\n",
       "            </tr>\n",
       "            <tr>\n",
       "                        <th id=\"T_415be_level0_row2\" class=\"row_heading level0 row2\" >primary_cleaner.input.feed_size</th>\n",
       "                        <td id=\"T_415be_row2_col0\" class=\"data row2 col0\" >0.00%</td>\n",
       "            </tr>\n",
       "            <tr>\n",
       "                        <th id=\"T_415be_level0_row3\" class=\"row_heading level0 row3\" >primary_cleaner.input.xanthate</th>\n",
       "                        <td id=\"T_415be_row3_col0\" class=\"data row3 col0\" >0.08%</td>\n",
       "            </tr>\n",
       "            <tr>\n",
       "                        <th id=\"T_415be_level0_row4\" class=\"row_heading level0 row4\" >primary_cleaner.state.floatbank8_a_air</th>\n",
       "                        <td id=\"T_415be_row4_col0\" class=\"data row4 col0\" >0.00%</td>\n",
       "            </tr>\n",
       "            <tr>\n",
       "                        <th id=\"T_415be_level0_row5\" class=\"row_heading level0 row5\" >primary_cleaner.state.floatbank8_a_level</th>\n",
       "                        <td id=\"T_415be_row5_col0\" class=\"data row5 col0\" >0.00%</td>\n",
       "            </tr>\n",
       "            <tr>\n",
       "                        <th id=\"T_415be_level0_row6\" class=\"row_heading level0 row6\" >primary_cleaner.state.floatbank8_b_air</th>\n",
       "                        <td id=\"T_415be_row6_col0\" class=\"data row6 col0\" >0.00%</td>\n",
       "            </tr>\n",
       "            <tr>\n",
       "                        <th id=\"T_415be_level0_row7\" class=\"row_heading level0 row7\" >primary_cleaner.state.floatbank8_b_level</th>\n",
       "                        <td id=\"T_415be_row7_col0\" class=\"data row7 col0\" >0.00%</td>\n",
       "            </tr>\n",
       "            <tr>\n",
       "                        <th id=\"T_415be_level0_row8\" class=\"row_heading level0 row8\" >primary_cleaner.state.floatbank8_c_air</th>\n",
       "                        <td id=\"T_415be_row8_col0\" class=\"data row8 col0\" >0.00%</td>\n",
       "            </tr>\n",
       "            <tr>\n",
       "                        <th id=\"T_415be_level0_row9\" class=\"row_heading level0 row9\" >primary_cleaner.state.floatbank8_c_level</th>\n",
       "                        <td id=\"T_415be_row9_col0\" class=\"data row9 col0\" >0.00%</td>\n",
       "            </tr>\n",
       "            <tr>\n",
       "                        <th id=\"T_415be_level0_row10\" class=\"row_heading level0 row10\" >primary_cleaner.state.floatbank8_d_air</th>\n",
       "                        <td id=\"T_415be_row10_col0\" class=\"data row10 col0\" >0.00%</td>\n",
       "            </tr>\n",
       "            <tr>\n",
       "                        <th id=\"T_415be_level0_row11\" class=\"row_heading level0 row11\" >primary_cleaner.state.floatbank8_d_level</th>\n",
       "                        <td id=\"T_415be_row11_col0\" class=\"data row11 col0\" >0.00%</td>\n",
       "            </tr>\n",
       "            <tr>\n",
       "                        <th id=\"T_415be_level0_row12\" class=\"row_heading level0 row12\" >rougher.input.feed_ag</th>\n",
       "                        <td id=\"T_415be_row12_col0\" class=\"data row12 col0\" >0.00%</td>\n",
       "            </tr>\n",
       "            <tr>\n",
       "                        <th id=\"T_415be_level0_row13\" class=\"row_heading level0 row13\" >rougher.input.feed_pb</th>\n",
       "                        <td id=\"T_415be_row13_col0\" class=\"data row13 col0\" >0.00%</td>\n",
       "            </tr>\n",
       "            <tr>\n",
       "                        <th id=\"T_415be_level0_row14\" class=\"row_heading level0 row14\" >rougher.input.feed_rate</th>\n",
       "                        <td id=\"T_415be_row14_col0\" class=\"data row14 col0\" >0.06%</td>\n",
       "            </tr>\n",
       "            <tr>\n",
       "                        <th id=\"T_415be_level0_row15\" class=\"row_heading level0 row15\" >rougher.input.feed_size</th>\n",
       "                        <td id=\"T_415be_row15_col0\" class=\"data row15 col0\" >0.02%</td>\n",
       "            </tr>\n",
       "            <tr>\n",
       "                        <th id=\"T_415be_level0_row16\" class=\"row_heading level0 row16\" >rougher.input.feed_sol</th>\n",
       "                        <td id=\"T_415be_row16_col0\" class=\"data row16 col0\" >0.40%</td>\n",
       "            </tr>\n",
       "            <tr>\n",
       "                        <th id=\"T_415be_level0_row17\" class=\"row_heading level0 row17\" >rougher.input.feed_au</th>\n",
       "                        <td id=\"T_415be_row17_col0\" class=\"data row17 col0\" >0.00%</td>\n",
       "            </tr>\n",
       "            <tr>\n",
       "                        <th id=\"T_415be_level0_row18\" class=\"row_heading level0 row18\" >rougher.input.floatbank10_sulfate</th>\n",
       "                        <td id=\"T_415be_row18_col0\" class=\"data row18 col0\" >0.09%</td>\n",
       "            </tr>\n",
       "            <tr>\n",
       "                        <th id=\"T_415be_level0_row19\" class=\"row_heading level0 row19\" >rougher.input.floatbank10_xanthate</th>\n",
       "                        <td id=\"T_415be_row19_col0\" class=\"data row19 col0\" >0.00%</td>\n",
       "            </tr>\n",
       "            <tr>\n",
       "                        <th id=\"T_415be_level0_row20\" class=\"row_heading level0 row20\" >rougher.input.floatbank11_sulfate</th>\n",
       "                        <td id=\"T_415be_row20_col0\" class=\"data row20 col0\" >0.15%</td>\n",
       "            </tr>\n",
       "            <tr>\n",
       "                        <th id=\"T_415be_level0_row21\" class=\"row_heading level0 row21\" >rougher.input.floatbank11_xanthate</th>\n",
       "                        <td id=\"T_415be_row21_col0\" class=\"data row21 col0\" >0.47%</td>\n",
       "            </tr>\n",
       "            <tr>\n",
       "                        <th id=\"T_415be_level0_row22\" class=\"row_heading level0 row22\" >rougher.state.floatbank10_a_air</th>\n",
       "                        <td id=\"T_415be_row22_col0\" class=\"data row22 col0\" >0.00%</td>\n",
       "            </tr>\n",
       "            <tr>\n",
       "                        <th id=\"T_415be_level0_row23\" class=\"row_heading level0 row23\" >rougher.state.floatbank10_a_level</th>\n",
       "                        <td id=\"T_415be_row23_col0\" class=\"data row23 col0\" >0.00%</td>\n",
       "            </tr>\n",
       "            <tr>\n",
       "                        <th id=\"T_415be_level0_row24\" class=\"row_heading level0 row24\" >rougher.state.floatbank10_b_air</th>\n",
       "                        <td id=\"T_415be_row24_col0\" class=\"data row24 col0\" >0.00%</td>\n",
       "            </tr>\n",
       "            <tr>\n",
       "                        <th id=\"T_415be_level0_row25\" class=\"row_heading level0 row25\" >rougher.state.floatbank10_b_level</th>\n",
       "                        <td id=\"T_415be_row25_col0\" class=\"data row25 col0\" >0.00%</td>\n",
       "            </tr>\n",
       "            <tr>\n",
       "                        <th id=\"T_415be_level0_row26\" class=\"row_heading level0 row26\" >rougher.state.floatbank10_c_air</th>\n",
       "                        <td id=\"T_415be_row26_col0\" class=\"data row26 col0\" >0.00%</td>\n",
       "            </tr>\n",
       "            <tr>\n",
       "                        <th id=\"T_415be_level0_row27\" class=\"row_heading level0 row27\" >rougher.state.floatbank10_c_level</th>\n",
       "                        <td id=\"T_415be_row27_col0\" class=\"data row27 col0\" >0.00%</td>\n",
       "            </tr>\n",
       "            <tr>\n",
       "                        <th id=\"T_415be_level0_row28\" class=\"row_heading level0 row28\" >rougher.state.floatbank10_d_air</th>\n",
       "                        <td id=\"T_415be_row28_col0\" class=\"data row28 col0\" >0.00%</td>\n",
       "            </tr>\n",
       "            <tr>\n",
       "                        <th id=\"T_415be_level0_row29\" class=\"row_heading level0 row29\" >rougher.state.floatbank10_d_level</th>\n",
       "                        <td id=\"T_415be_row29_col0\" class=\"data row29 col0\" >0.00%</td>\n",
       "            </tr>\n",
       "            <tr>\n",
       "                        <th id=\"T_415be_level0_row30\" class=\"row_heading level0 row30\" >rougher.state.floatbank10_e_air</th>\n",
       "                        <td id=\"T_415be_row30_col0\" class=\"data row30 col0\" >0.00%</td>\n",
       "            </tr>\n",
       "            <tr>\n",
       "                        <th id=\"T_415be_level0_row31\" class=\"row_heading level0 row31\" >rougher.state.floatbank10_e_level</th>\n",
       "                        <td id=\"T_415be_row31_col0\" class=\"data row31 col0\" >0.00%</td>\n",
       "            </tr>\n",
       "            <tr>\n",
       "                        <th id=\"T_415be_level0_row32\" class=\"row_heading level0 row32\" >rougher.state.floatbank10_f_air</th>\n",
       "                        <td id=\"T_415be_row32_col0\" class=\"data row32 col0\" >0.00%</td>\n",
       "            </tr>\n",
       "            <tr>\n",
       "                        <th id=\"T_415be_level0_row33\" class=\"row_heading level0 row33\" >rougher.state.floatbank10_f_level</th>\n",
       "                        <td id=\"T_415be_row33_col0\" class=\"data row33 col0\" >0.00%</td>\n",
       "            </tr>\n",
       "            <tr>\n",
       "                        <th id=\"T_415be_level0_row34\" class=\"row_heading level0 row34\" >secondary_cleaner.state.floatbank2_a_air</th>\n",
       "                        <td id=\"T_415be_row34_col0\" class=\"data row34 col0\" >0.06%</td>\n",
       "            </tr>\n",
       "            <tr>\n",
       "                        <th id=\"T_415be_level0_row35\" class=\"row_heading level0 row35\" >secondary_cleaner.state.floatbank2_a_level</th>\n",
       "                        <td id=\"T_415be_row35_col0\" class=\"data row35 col0\" >0.00%</td>\n",
       "            </tr>\n",
       "            <tr>\n",
       "                        <th id=\"T_415be_level0_row36\" class=\"row_heading level0 row36\" >secondary_cleaner.state.floatbank2_b_air</th>\n",
       "                        <td id=\"T_415be_row36_col0\" class=\"data row36 col0\" >0.04%</td>\n",
       "            </tr>\n",
       "            <tr>\n",
       "                        <th id=\"T_415be_level0_row37\" class=\"row_heading level0 row37\" >secondary_cleaner.state.floatbank2_b_level</th>\n",
       "                        <td id=\"T_415be_row37_col0\" class=\"data row37 col0\" >0.00%</td>\n",
       "            </tr>\n",
       "            <tr>\n",
       "                        <th id=\"T_415be_level0_row38\" class=\"row_heading level0 row38\" >secondary_cleaner.state.floatbank3_a_air</th>\n",
       "                        <td id=\"T_415be_row38_col0\" class=\"data row38 col0\" >0.17%</td>\n",
       "            </tr>\n",
       "            <tr>\n",
       "                        <th id=\"T_415be_level0_row39\" class=\"row_heading level0 row39\" >secondary_cleaner.state.floatbank3_a_level</th>\n",
       "                        <td id=\"T_415be_row39_col0\" class=\"data row39 col0\" >0.00%</td>\n",
       "            </tr>\n",
       "            <tr>\n",
       "                        <th id=\"T_415be_level0_row40\" class=\"row_heading level0 row40\" >secondary_cleaner.state.floatbank3_b_air</th>\n",
       "                        <td id=\"T_415be_row40_col0\" class=\"data row40 col0\" >0.00%</td>\n",
       "            </tr>\n",
       "            <tr>\n",
       "                        <th id=\"T_415be_level0_row41\" class=\"row_heading level0 row41\" >secondary_cleaner.state.floatbank3_b_level</th>\n",
       "                        <td id=\"T_415be_row41_col0\" class=\"data row41 col0\" >0.00%</td>\n",
       "            </tr>\n",
       "            <tr>\n",
       "                        <th id=\"T_415be_level0_row42\" class=\"row_heading level0 row42\" >secondary_cleaner.state.floatbank4_a_air</th>\n",
       "                        <td id=\"T_415be_row42_col0\" class=\"data row42 col0\" >0.00%</td>\n",
       "            </tr>\n",
       "            <tr>\n",
       "                        <th id=\"T_415be_level0_row43\" class=\"row_heading level0 row43\" >secondary_cleaner.state.floatbank4_a_level</th>\n",
       "                        <td id=\"T_415be_row43_col0\" class=\"data row43 col0\" >0.00%</td>\n",
       "            </tr>\n",
       "            <tr>\n",
       "                        <th id=\"T_415be_level0_row44\" class=\"row_heading level0 row44\" >secondary_cleaner.state.floatbank4_b_air</th>\n",
       "                        <td id=\"T_415be_row44_col0\" class=\"data row44 col0\" >0.00%</td>\n",
       "            </tr>\n",
       "            <tr>\n",
       "                        <th id=\"T_415be_level0_row45\" class=\"row_heading level0 row45\" >secondary_cleaner.state.floatbank4_b_level</th>\n",
       "                        <td id=\"T_415be_row45_col0\" class=\"data row45 col0\" >0.00%</td>\n",
       "            </tr>\n",
       "            <tr>\n",
       "                        <th id=\"T_415be_level0_row46\" class=\"row_heading level0 row46\" >secondary_cleaner.state.floatbank5_a_air</th>\n",
       "                        <td id=\"T_415be_row46_col0\" class=\"data row46 col0\" >0.00%</td>\n",
       "            </tr>\n",
       "            <tr>\n",
       "                        <th id=\"T_415be_level0_row47\" class=\"row_heading level0 row47\" >secondary_cleaner.state.floatbank5_a_level</th>\n",
       "                        <td id=\"T_415be_row47_col0\" class=\"data row47 col0\" >0.00%</td>\n",
       "            </tr>\n",
       "            <tr>\n",
       "                        <th id=\"T_415be_level0_row48\" class=\"row_heading level0 row48\" >secondary_cleaner.state.floatbank5_b_air</th>\n",
       "                        <td id=\"T_415be_row48_col0\" class=\"data row48 col0\" >0.00%</td>\n",
       "            </tr>\n",
       "            <tr>\n",
       "                        <th id=\"T_415be_level0_row49\" class=\"row_heading level0 row49\" >secondary_cleaner.state.floatbank5_b_level</th>\n",
       "                        <td id=\"T_415be_row49_col0\" class=\"data row49 col0\" >0.00%</td>\n",
       "            </tr>\n",
       "            <tr>\n",
       "                        <th id=\"T_415be_level0_row50\" class=\"row_heading level0 row50\" >secondary_cleaner.state.floatbank6_a_air</th>\n",
       "                        <td id=\"T_415be_row50_col0\" class=\"data row50 col0\" >0.00%</td>\n",
       "            </tr>\n",
       "            <tr>\n",
       "                        <th id=\"T_415be_level0_row51\" class=\"row_heading level0 row51\" >secondary_cleaner.state.floatbank6_a_level</th>\n",
       "                        <td id=\"T_415be_row51_col0\" class=\"data row51 col0\" >0.00%</td>\n",
       "            </tr>\n",
       "    </tbody></table>"
      ],
      "text/plain": [
       "<pandas.io.formats.style.Styler at 0x7f5c22ca3f40>"
      ]
     },
     "metadata": {},
     "output_type": "display_data"
    },
    {
     "name": "stdout",
     "output_type": "stream",
     "text": [
      "есть ли дупликаты False\n"
     ]
    },
    {
     "data": {
      "text/html": [
       "<div>\n",
       "<style scoped>\n",
       "    .dataframe tbody tr th:only-of-type {\n",
       "        vertical-align: middle;\n",
       "    }\n",
       "\n",
       "    .dataframe tbody tr th {\n",
       "        vertical-align: top;\n",
       "    }\n",
       "\n",
       "    .dataframe thead th {\n",
       "        text-align: right;\n",
       "    }\n",
       "</style>\n",
       "<table border=\"1\" class=\"dataframe\">\n",
       "  <thead>\n",
       "    <tr style=\"text-align: right;\">\n",
       "      <th></th>\n",
       "      <th>primary_cleaner.input.sulfate</th>\n",
       "      <th>primary_cleaner.input.depressant</th>\n",
       "      <th>primary_cleaner.input.feed_size</th>\n",
       "      <th>primary_cleaner.input.xanthate</th>\n",
       "      <th>primary_cleaner.state.floatbank8_a_air</th>\n",
       "      <th>primary_cleaner.state.floatbank8_a_level</th>\n",
       "      <th>primary_cleaner.state.floatbank8_b_air</th>\n",
       "      <th>primary_cleaner.state.floatbank8_b_level</th>\n",
       "      <th>primary_cleaner.state.floatbank8_c_air</th>\n",
       "      <th>primary_cleaner.state.floatbank8_c_level</th>\n",
       "      <th>...</th>\n",
       "      <th>secondary_cleaner.state.floatbank4_a_air</th>\n",
       "      <th>secondary_cleaner.state.floatbank4_a_level</th>\n",
       "      <th>secondary_cleaner.state.floatbank4_b_air</th>\n",
       "      <th>secondary_cleaner.state.floatbank4_b_level</th>\n",
       "      <th>secondary_cleaner.state.floatbank5_a_air</th>\n",
       "      <th>secondary_cleaner.state.floatbank5_a_level</th>\n",
       "      <th>secondary_cleaner.state.floatbank5_b_air</th>\n",
       "      <th>secondary_cleaner.state.floatbank5_b_level</th>\n",
       "      <th>secondary_cleaner.state.floatbank6_a_air</th>\n",
       "      <th>secondary_cleaner.state.floatbank6_a_level</th>\n",
       "    </tr>\n",
       "    <tr>\n",
       "      <th>date</th>\n",
       "      <th></th>\n",
       "      <th></th>\n",
       "      <th></th>\n",
       "      <th></th>\n",
       "      <th></th>\n",
       "      <th></th>\n",
       "      <th></th>\n",
       "      <th></th>\n",
       "      <th></th>\n",
       "      <th></th>\n",
       "      <th></th>\n",
       "      <th></th>\n",
       "      <th></th>\n",
       "      <th></th>\n",
       "      <th></th>\n",
       "      <th></th>\n",
       "      <th></th>\n",
       "      <th></th>\n",
       "      <th></th>\n",
       "      <th></th>\n",
       "      <th></th>\n",
       "    </tr>\n",
       "  </thead>\n",
       "  <tbody>\n",
       "    <tr>\n",
       "      <th>2016-09-01 00:59:59</th>\n",
       "      <td>210.800909</td>\n",
       "      <td>14.993118</td>\n",
       "      <td>8.080000</td>\n",
       "      <td>1.005021</td>\n",
       "      <td>1398.981301</td>\n",
       "      <td>-500.225577</td>\n",
       "      <td>1399.144926</td>\n",
       "      <td>-499.919735</td>\n",
       "      <td>1400.102998</td>\n",
       "      <td>-500.704369</td>\n",
       "      <td>...</td>\n",
       "      <td>12.023554</td>\n",
       "      <td>-497.795834</td>\n",
       "      <td>8.016656</td>\n",
       "      <td>-501.289139</td>\n",
       "      <td>7.946562</td>\n",
       "      <td>-432.317850</td>\n",
       "      <td>4.872511</td>\n",
       "      <td>-500.037437</td>\n",
       "      <td>26.705889</td>\n",
       "      <td>-499.709414</td>\n",
       "    </tr>\n",
       "    <tr>\n",
       "      <th>2016-09-01 01:59:59</th>\n",
       "      <td>215.392455</td>\n",
       "      <td>14.987471</td>\n",
       "      <td>8.080000</td>\n",
       "      <td>0.990469</td>\n",
       "      <td>1398.777912</td>\n",
       "      <td>-500.057435</td>\n",
       "      <td>1398.055362</td>\n",
       "      <td>-499.778182</td>\n",
       "      <td>1396.151033</td>\n",
       "      <td>-499.240168</td>\n",
       "      <td>...</td>\n",
       "      <td>12.058140</td>\n",
       "      <td>-498.695773</td>\n",
       "      <td>8.130979</td>\n",
       "      <td>-499.634209</td>\n",
       "      <td>7.958270</td>\n",
       "      <td>-525.839648</td>\n",
       "      <td>4.878850</td>\n",
       "      <td>-500.162375</td>\n",
       "      <td>25.019940</td>\n",
       "      <td>-499.819438</td>\n",
       "    </tr>\n",
       "    <tr>\n",
       "      <th>2016-09-01 02:59:59</th>\n",
       "      <td>215.259946</td>\n",
       "      <td>12.884934</td>\n",
       "      <td>7.786667</td>\n",
       "      <td>0.996043</td>\n",
       "      <td>1398.493666</td>\n",
       "      <td>-500.868360</td>\n",
       "      <td>1398.860436</td>\n",
       "      <td>-499.764529</td>\n",
       "      <td>1398.075709</td>\n",
       "      <td>-502.151509</td>\n",
       "      <td>...</td>\n",
       "      <td>11.962366</td>\n",
       "      <td>-498.767484</td>\n",
       "      <td>8.096893</td>\n",
       "      <td>-500.827423</td>\n",
       "      <td>8.071056</td>\n",
       "      <td>-500.801673</td>\n",
       "      <td>4.905125</td>\n",
       "      <td>-499.828510</td>\n",
       "      <td>24.994862</td>\n",
       "      <td>-500.622559</td>\n",
       "    </tr>\n",
       "    <tr>\n",
       "      <th>2016-09-01 03:59:59</th>\n",
       "      <td>215.336236</td>\n",
       "      <td>12.006805</td>\n",
       "      <td>7.640000</td>\n",
       "      <td>0.863514</td>\n",
       "      <td>1399.618111</td>\n",
       "      <td>-498.863574</td>\n",
       "      <td>1397.440120</td>\n",
       "      <td>-499.211024</td>\n",
       "      <td>1400.129303</td>\n",
       "      <td>-498.355873</td>\n",
       "      <td>...</td>\n",
       "      <td>12.033091</td>\n",
       "      <td>-498.350935</td>\n",
       "      <td>8.074946</td>\n",
       "      <td>-499.474407</td>\n",
       "      <td>7.897085</td>\n",
       "      <td>-500.868509</td>\n",
       "      <td>4.931400</td>\n",
       "      <td>-499.963623</td>\n",
       "      <td>24.948919</td>\n",
       "      <td>-498.709987</td>\n",
       "    </tr>\n",
       "    <tr>\n",
       "      <th>2016-09-01 04:59:59</th>\n",
       "      <td>199.099327</td>\n",
       "      <td>10.682530</td>\n",
       "      <td>7.530000</td>\n",
       "      <td>0.805575</td>\n",
       "      <td>1401.268123</td>\n",
       "      <td>-500.808305</td>\n",
       "      <td>1398.128818</td>\n",
       "      <td>-499.504543</td>\n",
       "      <td>1402.172226</td>\n",
       "      <td>-500.810606</td>\n",
       "      <td>...</td>\n",
       "      <td>12.025367</td>\n",
       "      <td>-500.786497</td>\n",
       "      <td>8.054678</td>\n",
       "      <td>-500.397500</td>\n",
       "      <td>8.107890</td>\n",
       "      <td>-509.526725</td>\n",
       "      <td>4.957674</td>\n",
       "      <td>-500.360026</td>\n",
       "      <td>25.003331</td>\n",
       "      <td>-500.856333</td>\n",
       "    </tr>\n",
       "    <tr>\n",
       "      <th>2016-09-01 05:59:59</th>\n",
       "      <td>168.485085</td>\n",
       "      <td>8.817007</td>\n",
       "      <td>7.420000</td>\n",
       "      <td>0.791191</td>\n",
       "      <td>1402.826803</td>\n",
       "      <td>-499.299521</td>\n",
       "      <td>1401.511119</td>\n",
       "      <td>-499.205357</td>\n",
       "      <td>1404.088107</td>\n",
       "      <td>-497.903666</td>\n",
       "      <td>...</td>\n",
       "      <td>12.029797</td>\n",
       "      <td>-499.814895</td>\n",
       "      <td>8.036586</td>\n",
       "      <td>-500.371492</td>\n",
       "      <td>8.041446</td>\n",
       "      <td>-510.037054</td>\n",
       "      <td>4.983949</td>\n",
       "      <td>-499.990990</td>\n",
       "      <td>24.978973</td>\n",
       "      <td>-500.475640</td>\n",
       "    </tr>\n",
       "    <tr>\n",
       "      <th>2016-09-01 06:59:59</th>\n",
       "      <td>144.133440</td>\n",
       "      <td>7.924610</td>\n",
       "      <td>7.420000</td>\n",
       "      <td>0.788838</td>\n",
       "      <td>1398.252401</td>\n",
       "      <td>-499.748672</td>\n",
       "      <td>1393.255503</td>\n",
       "      <td>-499.195380</td>\n",
       "      <td>1396.738566</td>\n",
       "      <td>-497.923683</td>\n",
       "      <td>...</td>\n",
       "      <td>12.026296</td>\n",
       "      <td>-499.473127</td>\n",
       "      <td>8.027984</td>\n",
       "      <td>-500.983079</td>\n",
       "      <td>7.907340</td>\n",
       "      <td>-507.964971</td>\n",
       "      <td>5.010224</td>\n",
       "      <td>-500.043697</td>\n",
       "      <td>25.040709</td>\n",
       "      <td>-499.501984</td>\n",
       "    </tr>\n",
       "    <tr>\n",
       "      <th>2016-09-01 07:59:59</th>\n",
       "      <td>133.513396</td>\n",
       "      <td>8.055252</td>\n",
       "      <td>6.988000</td>\n",
       "      <td>0.801871</td>\n",
       "      <td>1401.669677</td>\n",
       "      <td>-501.777839</td>\n",
       "      <td>1400.754446</td>\n",
       "      <td>-502.514024</td>\n",
       "      <td>1400.465244</td>\n",
       "      <td>-503.451306</td>\n",
       "      <td>...</td>\n",
       "      <td>12.040911</td>\n",
       "      <td>-501.293852</td>\n",
       "      <td>8.020490</td>\n",
       "      <td>-499.185229</td>\n",
       "      <td>8.116897</td>\n",
       "      <td>-511.927561</td>\n",
       "      <td>5.036498</td>\n",
       "      <td>-500.149615</td>\n",
       "      <td>25.032580</td>\n",
       "      <td>-503.970657</td>\n",
       "    </tr>\n",
       "    <tr>\n",
       "      <th>2016-09-01 08:59:59</th>\n",
       "      <td>133.735356</td>\n",
       "      <td>7.999618</td>\n",
       "      <td>6.935000</td>\n",
       "      <td>0.789329</td>\n",
       "      <td>1402.358981</td>\n",
       "      <td>-499.981597</td>\n",
       "      <td>1400.985954</td>\n",
       "      <td>-496.802968</td>\n",
       "      <td>1401.168584</td>\n",
       "      <td>-499.890350</td>\n",
       "      <td>...</td>\n",
       "      <td>11.998184</td>\n",
       "      <td>-499.481608</td>\n",
       "      <td>8.012610</td>\n",
       "      <td>-500.896783</td>\n",
       "      <td>7.974422</td>\n",
       "      <td>-521.199104</td>\n",
       "      <td>5.061599</td>\n",
       "      <td>-499.791519</td>\n",
       "      <td>25.005063</td>\n",
       "      <td>-497.613716</td>\n",
       "    </tr>\n",
       "    <tr>\n",
       "      <th>2016-09-01 09:59:59</th>\n",
       "      <td>126.961069</td>\n",
       "      <td>8.017856</td>\n",
       "      <td>7.030000</td>\n",
       "      <td>0.805298</td>\n",
       "      <td>1400.816120</td>\n",
       "      <td>-499.014158</td>\n",
       "      <td>1399.975401</td>\n",
       "      <td>-499.570552</td>\n",
       "      <td>1401.871924</td>\n",
       "      <td>-499.577934</td>\n",
       "      <td>...</td>\n",
       "      <td>12.040725</td>\n",
       "      <td>-499.987743</td>\n",
       "      <td>7.989503</td>\n",
       "      <td>-499.750625</td>\n",
       "      <td>7.989710</td>\n",
       "      <td>-509.946737</td>\n",
       "      <td>5.068811</td>\n",
       "      <td>-499.293900</td>\n",
       "      <td>24.992741</td>\n",
       "      <td>-499.272255</td>\n",
       "    </tr>\n",
       "  </tbody>\n",
       "</table>\n",
       "<p>10 rows × 52 columns</p>\n",
       "</div>"
      ],
      "text/plain": [
       "                     primary_cleaner.input.sulfate  \\\n",
       "date                                                 \n",
       "2016-09-01 00:59:59                     210.800909   \n",
       "2016-09-01 01:59:59                     215.392455   \n",
       "2016-09-01 02:59:59                     215.259946   \n",
       "2016-09-01 03:59:59                     215.336236   \n",
       "2016-09-01 04:59:59                     199.099327   \n",
       "2016-09-01 05:59:59                     168.485085   \n",
       "2016-09-01 06:59:59                     144.133440   \n",
       "2016-09-01 07:59:59                     133.513396   \n",
       "2016-09-01 08:59:59                     133.735356   \n",
       "2016-09-01 09:59:59                     126.961069   \n",
       "\n",
       "                     primary_cleaner.input.depressant  \\\n",
       "date                                                    \n",
       "2016-09-01 00:59:59                         14.993118   \n",
       "2016-09-01 01:59:59                         14.987471   \n",
       "2016-09-01 02:59:59                         12.884934   \n",
       "2016-09-01 03:59:59                         12.006805   \n",
       "2016-09-01 04:59:59                         10.682530   \n",
       "2016-09-01 05:59:59                          8.817007   \n",
       "2016-09-01 06:59:59                          7.924610   \n",
       "2016-09-01 07:59:59                          8.055252   \n",
       "2016-09-01 08:59:59                          7.999618   \n",
       "2016-09-01 09:59:59                          8.017856   \n",
       "\n",
       "                     primary_cleaner.input.feed_size  \\\n",
       "date                                                   \n",
       "2016-09-01 00:59:59                         8.080000   \n",
       "2016-09-01 01:59:59                         8.080000   \n",
       "2016-09-01 02:59:59                         7.786667   \n",
       "2016-09-01 03:59:59                         7.640000   \n",
       "2016-09-01 04:59:59                         7.530000   \n",
       "2016-09-01 05:59:59                         7.420000   \n",
       "2016-09-01 06:59:59                         7.420000   \n",
       "2016-09-01 07:59:59                         6.988000   \n",
       "2016-09-01 08:59:59                         6.935000   \n",
       "2016-09-01 09:59:59                         7.030000   \n",
       "\n",
       "                     primary_cleaner.input.xanthate  \\\n",
       "date                                                  \n",
       "2016-09-01 00:59:59                        1.005021   \n",
       "2016-09-01 01:59:59                        0.990469   \n",
       "2016-09-01 02:59:59                        0.996043   \n",
       "2016-09-01 03:59:59                        0.863514   \n",
       "2016-09-01 04:59:59                        0.805575   \n",
       "2016-09-01 05:59:59                        0.791191   \n",
       "2016-09-01 06:59:59                        0.788838   \n",
       "2016-09-01 07:59:59                        0.801871   \n",
       "2016-09-01 08:59:59                        0.789329   \n",
       "2016-09-01 09:59:59                        0.805298   \n",
       "\n",
       "                     primary_cleaner.state.floatbank8_a_air  \\\n",
       "date                                                          \n",
       "2016-09-01 00:59:59                             1398.981301   \n",
       "2016-09-01 01:59:59                             1398.777912   \n",
       "2016-09-01 02:59:59                             1398.493666   \n",
       "2016-09-01 03:59:59                             1399.618111   \n",
       "2016-09-01 04:59:59                             1401.268123   \n",
       "2016-09-01 05:59:59                             1402.826803   \n",
       "2016-09-01 06:59:59                             1398.252401   \n",
       "2016-09-01 07:59:59                             1401.669677   \n",
       "2016-09-01 08:59:59                             1402.358981   \n",
       "2016-09-01 09:59:59                             1400.816120   \n",
       "\n",
       "                     primary_cleaner.state.floatbank8_a_level  \\\n",
       "date                                                            \n",
       "2016-09-01 00:59:59                               -500.225577   \n",
       "2016-09-01 01:59:59                               -500.057435   \n",
       "2016-09-01 02:59:59                               -500.868360   \n",
       "2016-09-01 03:59:59                               -498.863574   \n",
       "2016-09-01 04:59:59                               -500.808305   \n",
       "2016-09-01 05:59:59                               -499.299521   \n",
       "2016-09-01 06:59:59                               -499.748672   \n",
       "2016-09-01 07:59:59                               -501.777839   \n",
       "2016-09-01 08:59:59                               -499.981597   \n",
       "2016-09-01 09:59:59                               -499.014158   \n",
       "\n",
       "                     primary_cleaner.state.floatbank8_b_air  \\\n",
       "date                                                          \n",
       "2016-09-01 00:59:59                             1399.144926   \n",
       "2016-09-01 01:59:59                             1398.055362   \n",
       "2016-09-01 02:59:59                             1398.860436   \n",
       "2016-09-01 03:59:59                             1397.440120   \n",
       "2016-09-01 04:59:59                             1398.128818   \n",
       "2016-09-01 05:59:59                             1401.511119   \n",
       "2016-09-01 06:59:59                             1393.255503   \n",
       "2016-09-01 07:59:59                             1400.754446   \n",
       "2016-09-01 08:59:59                             1400.985954   \n",
       "2016-09-01 09:59:59                             1399.975401   \n",
       "\n",
       "                     primary_cleaner.state.floatbank8_b_level  \\\n",
       "date                                                            \n",
       "2016-09-01 00:59:59                               -499.919735   \n",
       "2016-09-01 01:59:59                               -499.778182   \n",
       "2016-09-01 02:59:59                               -499.764529   \n",
       "2016-09-01 03:59:59                               -499.211024   \n",
       "2016-09-01 04:59:59                               -499.504543   \n",
       "2016-09-01 05:59:59                               -499.205357   \n",
       "2016-09-01 06:59:59                               -499.195380   \n",
       "2016-09-01 07:59:59                               -502.514024   \n",
       "2016-09-01 08:59:59                               -496.802968   \n",
       "2016-09-01 09:59:59                               -499.570552   \n",
       "\n",
       "                     primary_cleaner.state.floatbank8_c_air  \\\n",
       "date                                                          \n",
       "2016-09-01 00:59:59                             1400.102998   \n",
       "2016-09-01 01:59:59                             1396.151033   \n",
       "2016-09-01 02:59:59                             1398.075709   \n",
       "2016-09-01 03:59:59                             1400.129303   \n",
       "2016-09-01 04:59:59                             1402.172226   \n",
       "2016-09-01 05:59:59                             1404.088107   \n",
       "2016-09-01 06:59:59                             1396.738566   \n",
       "2016-09-01 07:59:59                             1400.465244   \n",
       "2016-09-01 08:59:59                             1401.168584   \n",
       "2016-09-01 09:59:59                             1401.871924   \n",
       "\n",
       "                     primary_cleaner.state.floatbank8_c_level  ...  \\\n",
       "date                                                           ...   \n",
       "2016-09-01 00:59:59                               -500.704369  ...   \n",
       "2016-09-01 01:59:59                               -499.240168  ...   \n",
       "2016-09-01 02:59:59                               -502.151509  ...   \n",
       "2016-09-01 03:59:59                               -498.355873  ...   \n",
       "2016-09-01 04:59:59                               -500.810606  ...   \n",
       "2016-09-01 05:59:59                               -497.903666  ...   \n",
       "2016-09-01 06:59:59                               -497.923683  ...   \n",
       "2016-09-01 07:59:59                               -503.451306  ...   \n",
       "2016-09-01 08:59:59                               -499.890350  ...   \n",
       "2016-09-01 09:59:59                               -499.577934  ...   \n",
       "\n",
       "                     secondary_cleaner.state.floatbank4_a_air  \\\n",
       "date                                                            \n",
       "2016-09-01 00:59:59                                 12.023554   \n",
       "2016-09-01 01:59:59                                 12.058140   \n",
       "2016-09-01 02:59:59                                 11.962366   \n",
       "2016-09-01 03:59:59                                 12.033091   \n",
       "2016-09-01 04:59:59                                 12.025367   \n",
       "2016-09-01 05:59:59                                 12.029797   \n",
       "2016-09-01 06:59:59                                 12.026296   \n",
       "2016-09-01 07:59:59                                 12.040911   \n",
       "2016-09-01 08:59:59                                 11.998184   \n",
       "2016-09-01 09:59:59                                 12.040725   \n",
       "\n",
       "                     secondary_cleaner.state.floatbank4_a_level  \\\n",
       "date                                                              \n",
       "2016-09-01 00:59:59                                 -497.795834   \n",
       "2016-09-01 01:59:59                                 -498.695773   \n",
       "2016-09-01 02:59:59                                 -498.767484   \n",
       "2016-09-01 03:59:59                                 -498.350935   \n",
       "2016-09-01 04:59:59                                 -500.786497   \n",
       "2016-09-01 05:59:59                                 -499.814895   \n",
       "2016-09-01 06:59:59                                 -499.473127   \n",
       "2016-09-01 07:59:59                                 -501.293852   \n",
       "2016-09-01 08:59:59                                 -499.481608   \n",
       "2016-09-01 09:59:59                                 -499.987743   \n",
       "\n",
       "                     secondary_cleaner.state.floatbank4_b_air  \\\n",
       "date                                                            \n",
       "2016-09-01 00:59:59                                  8.016656   \n",
       "2016-09-01 01:59:59                                  8.130979   \n",
       "2016-09-01 02:59:59                                  8.096893   \n",
       "2016-09-01 03:59:59                                  8.074946   \n",
       "2016-09-01 04:59:59                                  8.054678   \n",
       "2016-09-01 05:59:59                                  8.036586   \n",
       "2016-09-01 06:59:59                                  8.027984   \n",
       "2016-09-01 07:59:59                                  8.020490   \n",
       "2016-09-01 08:59:59                                  8.012610   \n",
       "2016-09-01 09:59:59                                  7.989503   \n",
       "\n",
       "                     secondary_cleaner.state.floatbank4_b_level  \\\n",
       "date                                                              \n",
       "2016-09-01 00:59:59                                 -501.289139   \n",
       "2016-09-01 01:59:59                                 -499.634209   \n",
       "2016-09-01 02:59:59                                 -500.827423   \n",
       "2016-09-01 03:59:59                                 -499.474407   \n",
       "2016-09-01 04:59:59                                 -500.397500   \n",
       "2016-09-01 05:59:59                                 -500.371492   \n",
       "2016-09-01 06:59:59                                 -500.983079   \n",
       "2016-09-01 07:59:59                                 -499.185229   \n",
       "2016-09-01 08:59:59                                 -500.896783   \n",
       "2016-09-01 09:59:59                                 -499.750625   \n",
       "\n",
       "                     secondary_cleaner.state.floatbank5_a_air  \\\n",
       "date                                                            \n",
       "2016-09-01 00:59:59                                  7.946562   \n",
       "2016-09-01 01:59:59                                  7.958270   \n",
       "2016-09-01 02:59:59                                  8.071056   \n",
       "2016-09-01 03:59:59                                  7.897085   \n",
       "2016-09-01 04:59:59                                  8.107890   \n",
       "2016-09-01 05:59:59                                  8.041446   \n",
       "2016-09-01 06:59:59                                  7.907340   \n",
       "2016-09-01 07:59:59                                  8.116897   \n",
       "2016-09-01 08:59:59                                  7.974422   \n",
       "2016-09-01 09:59:59                                  7.989710   \n",
       "\n",
       "                     secondary_cleaner.state.floatbank5_a_level  \\\n",
       "date                                                              \n",
       "2016-09-01 00:59:59                                 -432.317850   \n",
       "2016-09-01 01:59:59                                 -525.839648   \n",
       "2016-09-01 02:59:59                                 -500.801673   \n",
       "2016-09-01 03:59:59                                 -500.868509   \n",
       "2016-09-01 04:59:59                                 -509.526725   \n",
       "2016-09-01 05:59:59                                 -510.037054   \n",
       "2016-09-01 06:59:59                                 -507.964971   \n",
       "2016-09-01 07:59:59                                 -511.927561   \n",
       "2016-09-01 08:59:59                                 -521.199104   \n",
       "2016-09-01 09:59:59                                 -509.946737   \n",
       "\n",
       "                     secondary_cleaner.state.floatbank5_b_air  \\\n",
       "date                                                            \n",
       "2016-09-01 00:59:59                                  4.872511   \n",
       "2016-09-01 01:59:59                                  4.878850   \n",
       "2016-09-01 02:59:59                                  4.905125   \n",
       "2016-09-01 03:59:59                                  4.931400   \n",
       "2016-09-01 04:59:59                                  4.957674   \n",
       "2016-09-01 05:59:59                                  4.983949   \n",
       "2016-09-01 06:59:59                                  5.010224   \n",
       "2016-09-01 07:59:59                                  5.036498   \n",
       "2016-09-01 08:59:59                                  5.061599   \n",
       "2016-09-01 09:59:59                                  5.068811   \n",
       "\n",
       "                     secondary_cleaner.state.floatbank5_b_level  \\\n",
       "date                                                              \n",
       "2016-09-01 00:59:59                                 -500.037437   \n",
       "2016-09-01 01:59:59                                 -500.162375   \n",
       "2016-09-01 02:59:59                                 -499.828510   \n",
       "2016-09-01 03:59:59                                 -499.963623   \n",
       "2016-09-01 04:59:59                                 -500.360026   \n",
       "2016-09-01 05:59:59                                 -499.990990   \n",
       "2016-09-01 06:59:59                                 -500.043697   \n",
       "2016-09-01 07:59:59                                 -500.149615   \n",
       "2016-09-01 08:59:59                                 -499.791519   \n",
       "2016-09-01 09:59:59                                 -499.293900   \n",
       "\n",
       "                     secondary_cleaner.state.floatbank6_a_air  \\\n",
       "date                                                            \n",
       "2016-09-01 00:59:59                                 26.705889   \n",
       "2016-09-01 01:59:59                                 25.019940   \n",
       "2016-09-01 02:59:59                                 24.994862   \n",
       "2016-09-01 03:59:59                                 24.948919   \n",
       "2016-09-01 04:59:59                                 25.003331   \n",
       "2016-09-01 05:59:59                                 24.978973   \n",
       "2016-09-01 06:59:59                                 25.040709   \n",
       "2016-09-01 07:59:59                                 25.032580   \n",
       "2016-09-01 08:59:59                                 25.005063   \n",
       "2016-09-01 09:59:59                                 24.992741   \n",
       "\n",
       "                     secondary_cleaner.state.floatbank6_a_level  \n",
       "date                                                             \n",
       "2016-09-01 00:59:59                                 -499.709414  \n",
       "2016-09-01 01:59:59                                 -499.819438  \n",
       "2016-09-01 02:59:59                                 -500.622559  \n",
       "2016-09-01 03:59:59                                 -498.709987  \n",
       "2016-09-01 04:59:59                                 -500.856333  \n",
       "2016-09-01 05:59:59                                 -500.475640  \n",
       "2016-09-01 06:59:59                                 -499.501984  \n",
       "2016-09-01 07:59:59                                 -503.970657  \n",
       "2016-09-01 08:59:59                                 -497.613716  \n",
       "2016-09-01 09:59:59                                 -499.272255  \n",
       "\n",
       "[10 rows x 52 columns]"
      ]
     },
     "metadata": {},
     "output_type": "display_data"
    }
   ],
   "source": [
    "df_info(gold_df_test)"
   ]
  },
  {
   "cell_type": "markdown",
   "metadata": {},
   "source": [
    "### проверка расчета эффективности обогащения"
   ]
  },
  {
   "cell_type": "code",
   "execution_count": 6,
   "metadata": {},
   "outputs": [
    {
     "data": {
      "text/html": [
       "<div>\n",
       "<style scoped>\n",
       "    .dataframe tbody tr th:only-of-type {\n",
       "        vertical-align: middle;\n",
       "    }\n",
       "\n",
       "    .dataframe tbody tr th {\n",
       "        vertical-align: top;\n",
       "    }\n",
       "\n",
       "    .dataframe thead th {\n",
       "        text-align: right;\n",
       "    }\n",
       "</style>\n",
       "<table border=\"1\" class=\"dataframe\">\n",
       "  <thead>\n",
       "    <tr style=\"text-align: right;\">\n",
       "      <th></th>\n",
       "      <th>recovery</th>\n",
       "    </tr>\n",
       "    <tr>\n",
       "      <th>date</th>\n",
       "      <th></th>\n",
       "    </tr>\n",
       "  </thead>\n",
       "  <tbody>\n",
       "    <tr>\n",
       "      <th>2016-01-15 00:00:00</th>\n",
       "      <td>87.107763</td>\n",
       "    </tr>\n",
       "    <tr>\n",
       "      <th>2016-01-15 01:00:00</th>\n",
       "      <td>86.843261</td>\n",
       "    </tr>\n",
       "    <tr>\n",
       "      <th>2016-01-15 02:00:00</th>\n",
       "      <td>86.842308</td>\n",
       "    </tr>\n",
       "    <tr>\n",
       "      <th>2016-01-15 03:00:00</th>\n",
       "      <td>87.226430</td>\n",
       "    </tr>\n",
       "    <tr>\n",
       "      <th>2016-01-15 04:00:00</th>\n",
       "      <td>86.688794</td>\n",
       "    </tr>\n",
       "  </tbody>\n",
       "</table>\n",
       "</div>"
      ],
      "text/plain": [
       "                      recovery\n",
       "date                          \n",
       "2016-01-15 00:00:00  87.107763\n",
       "2016-01-15 01:00:00  86.843261\n",
       "2016-01-15 02:00:00  86.842308\n",
       "2016-01-15 03:00:00  87.226430\n",
       "2016-01-15 04:00:00  86.688794"
      ]
     },
     "execution_count": 6,
     "metadata": {},
     "output_type": "execute_result"
    }
   ],
   "source": [
    "C = gold_df_train['rougher.output.concentrate_au']\n",
    "F = gold_df_train['rougher.input.feed_au']\n",
    "T = gold_df_train['rougher.output.tail_au']\n",
    "\n",
    "recovery = pd.DataFrame(((C * (F - T)) * 100/ (F * (C - T))), columns=['recovery'])\n",
    "recovery.head()"
   ]
  },
  {
   "cell_type": "code",
   "execution_count": 7,
   "metadata": {},
   "outputs": [
    {
     "data": {
      "text/plain": [
       "date\n",
       "2016-01-15 00:00:00    87.107763\n",
       "2016-01-15 01:00:00    86.843261\n",
       "2016-01-15 02:00:00    86.842308\n",
       "2016-01-15 03:00:00    87.226430\n",
       "2016-01-15 04:00:00    86.688794\n",
       "Name: rougher.output.recovery, dtype: float64"
      ]
     },
     "execution_count": 7,
     "metadata": {},
     "output_type": "execute_result"
    }
   ],
   "source": [
    "gold_df_train['rougher.output.recovery'].head()"
   ]
  },
  {
   "cell_type": "markdown",
   "metadata": {},
   "source": [
    "### проверка с помощью mae самодельной функцией и из библиотеки"
   ]
  },
  {
   "cell_type": "code",
   "execution_count": 8,
   "metadata": {},
   "outputs": [
    {
     "data": {
      "text/plain": [
       "1.1131451184435918e-14"
      ]
     },
     "execution_count": 8,
     "metadata": {},
     "output_type": "execute_result"
    }
   ],
   "source": [
    "def mae(X, y):\n",
    "    return sum(abs(y - X)) / len(X) \n",
    "mae(recovery['recovery'], gold_df_train['rougher.output.recovery'])"
   ]
  },
  {
   "cell_type": "code",
   "execution_count": 9,
   "metadata": {},
   "outputs": [
    {
     "data": {
      "text/plain": [
       "1.1131451184435918e-14"
      ]
     },
     "execution_count": 9,
     "metadata": {},
     "output_type": "execute_result"
    }
   ],
   "source": [
    "mean_absolute_error(recovery['recovery'], gold_df_train['rougher.output.recovery'])"
   ]
  },
  {
   "cell_type": "markdown",
   "metadata": {},
   "source": [
    "Ошибка 0 а это значит , что эффективность посчитанна верно"
   ]
  },
  {
   "cell_type": "markdown",
   "metadata": {},
   "source": [
    "### колонки которые есть в трейн выборке , но нет в тестовой "
   ]
  },
  {
   "cell_type": "code",
   "execution_count": 10,
   "metadata": {},
   "outputs": [
    {
     "name": "stdout",
     "output_type": "stream",
     "text": [
      "final.output.concentrate_ag\n",
      "final.output.concentrate_pb\n",
      "final.output.concentrate_sol\n",
      "final.output.concentrate_au\n",
      "final.output.recovery\n",
      "final.output.tail_ag\n",
      "final.output.tail_pb\n",
      "final.output.tail_sol\n",
      "final.output.tail_au\n",
      "primary_cleaner.output.concentrate_ag\n",
      "primary_cleaner.output.concentrate_pb\n",
      "primary_cleaner.output.concentrate_sol\n",
      "primary_cleaner.output.concentrate_au\n",
      "primary_cleaner.output.tail_ag\n",
      "primary_cleaner.output.tail_pb\n",
      "primary_cleaner.output.tail_sol\n",
      "primary_cleaner.output.tail_au\n",
      "rougher.calculation.sulfate_to_au_concentrate\n",
      "rougher.calculation.floatbank10_sulfate_to_au_feed\n",
      "rougher.calculation.floatbank11_sulfate_to_au_feed\n",
      "rougher.calculation.au_pb_ratio\n",
      "rougher.output.concentrate_ag\n",
      "rougher.output.concentrate_pb\n",
      "rougher.output.concentrate_sol\n",
      "rougher.output.concentrate_au\n",
      "rougher.output.recovery\n",
      "rougher.output.tail_ag\n",
      "rougher.output.tail_pb\n",
      "rougher.output.tail_sol\n",
      "rougher.output.tail_au\n",
      "secondary_cleaner.output.tail_ag\n",
      "secondary_cleaner.output.tail_pb\n",
      "secondary_cleaner.output.tail_sol\n",
      "secondary_cleaner.output.tail_au\n"
     ]
    }
   ],
   "source": [
    "values = [i for i in gold_df_train.columns if i not in gold_df_test.columns]\n",
    "print(*values, sep='\\n')"
   ]
  },
  {
   "cell_type": "markdown",
   "metadata": {},
   "source": [
    "- в тестовой выборке не доступны параметры продукта(выходные после очисток)\n",
    "    - что достаточно логично , тк мы не должны знать их до предскзания"
   ]
  },
  {
   "cell_type": "markdown",
   "metadata": {},
   "source": [
    "### предобработка "
   ]
  },
  {
   "cell_type": "code",
   "execution_count": 11,
   "metadata": {},
   "outputs": [],
   "source": [
    "# импортируем библиотеку\n",
    "from sklearn.impute import KNNImputer\n",
    "\n",
    "# определяем импортер\n",
    "imputer = KNNImputer(n_neighbors=5, weights='uniform')\n",
    "\n",
    "# устанавливаем импортер на Х\n",
    "X = gold_df_train.copy()\n",
    "\n",
    "\n",
    "imputer.fit(X);"
   ]
  },
  {
   "cell_type": "code",
   "execution_count": 12,
   "metadata": {},
   "outputs": [],
   "source": [
    "# восстанавливаем данные\n",
    "X1 = imputer.transform(X)\n",
    "\n",
    "# полученные данные преобразовываем в DataFrame\n",
    "df_train = pd.DataFrame(X1, columns=X.columns)\n",
    "# df_train.isnull().sum()\n",
    "\n",
    "# df_train['date'] = gold_df_train['date']\n"
   ]
  },
  {
   "cell_type": "code",
   "execution_count": 13,
   "metadata": {},
   "outputs": [],
   "source": [
    "from sklearn.impute import KNNImputer\n",
    "\n",
    "# определяем импортер\n",
    "imputer = KNNImputer(n_neighbors=5, weights='uniform')\n",
    "\n",
    "df_test = gold_df_test.copy()\n",
    "# df_test.drop(columns='date', inplace=True)\n",
    "\n",
    "imputer.fit(df_test)\n",
    "\n",
    "X1 = imputer.transform(df_test)\n",
    "\n",
    "# полученные данные преобразовываем в DataFrame\n",
    "df_test = pd.DataFrame(X1, columns=df_test.columns)\n",
    "\n",
    "# df_test['date'] = gold_df_test['date']"
   ]
  },
  {
   "cell_type": "code",
   "execution_count": 14,
   "metadata": {},
   "outputs": [
    {
     "data": {
      "text/plain": [
       "(False, False)"
      ]
     },
     "execution_count": 14,
     "metadata": {},
     "output_type": "execute_result"
    },
    {
     "data": {
      "image/png": "[encoded data removed]",
      "text/plain": [
       "<Figure size 432x288 with 2 Axes>"
      ]
     },
     "metadata": {
      "needs_background": "light"
     },
     "output_type": "display_data"
    }
   ],
   "source": [
    "sns.heatmap(df_train.isnull());\n",
    "df_train.isnull().values.any(), df_test.isnull().values.any()"
   ]
  },
  {
   "cell_type": "markdown",
   "metadata": {},
   "source": [
    "- убрал все пропуски с помощью ближайших соседей "
   ]
  },
  {
   "cell_type": "markdown",
   "metadata": {},
   "source": [
    "## Анализ данных"
   ]
  },
  {
   "cell_type": "markdown",
   "metadata": {},
   "source": [
    "###  концентация металлов на этапах очистки "
   ]
  },
  {
   "cell_type": "code",
   "execution_count": 15,
   "metadata": {},
   "outputs": [
    {
     "name": "stdout",
     "output_type": "stream",
     "text": [
      "этап очистки rougher -> металл ag -> 11.775812314356036\n",
      "этап очистки primary_cleaner -> металл ag -> 8.200915815165981\n",
      "этап очистки final -> металл ag -> 5.1419655406732705\n"
     ]
    },
    {
     "data": {
      "image/png": "[encoded data removed]",
      "text/plain": [
       "<Figure size 432x288 with 1 Axes>"
      ]
     },
     "metadata": {
      "needs_background": "light"
     },
     "output_type": "display_data"
    },
    {
     "name": "stdout",
     "output_type": "stream",
     "text": [
      "этап очистки rougher -> металл pb -> 7.664554751481546\n",
      "этап очистки primary_cleaner -> металл pb -> 9.579226919668463\n",
      "этап очистки final -> металл pb -> 10.132967719616573\n"
     ]
    },
    {
     "data": {
      "image/png": "[encoded data removed]",
      "text/plain": [
       "<Figure size 432x288 with 1 Axes>"
      ]
     },
     "metadata": {
      "needs_background": "light"
     },
     "output_type": "display_data"
    },
    {
     "name": "stdout",
     "output_type": "stream",
     "text": [
      "этап очистки rougher -> металл au -> 19.43995785143646\n",
      "этап очистки primary_cleaner -> металл au -> 32.386835978391346\n",
      "этап очистки final -> металл au -> 44.00379162105571\n"
     ]
    },
    {
     "data": {
      "image/png": "[encoded data removed]",
      "text/plain": [
       "<Figure size 432x288 with 1 Axes>"
      ]
     },
     "metadata": {
      "needs_background": "light"
     },
     "output_type": "display_data"
    },
    {
     "data": {
      "text/plain": [
       "[19.43995785143646, 32.386835978391346, 44.00379162105571]"
      ]
     },
     "execution_count": 15,
     "metadata": {},
     "output_type": "execute_result"
    }
   ],
   "source": [
    "steps = ['rougher', 'primary_cleaner', 'final'] #'secondary_cleaner'\n",
    "materials = ['ag', 'pb', 'au']\n",
    "\n",
    "for material in materials:\n",
    "    val = []\n",
    "    for step in steps:\n",
    "        col = step + '.output.concentrate_' + material\n",
    "        val.append(df_train[col].mean())\n",
    "        print(f'этап очистки {step} -> металл {material} -> {df_train[col].mean()}')\n",
    "    plt.plot([0, 1, 2], val)\n",
    "    plt.fill_between([0, 1, 2], val)\n",
    "    plt.show()\n",
    "        \n",
    "val        \n"
   ]
  },
  {
   "cell_type": "markdown",
   "metadata": {},
   "source": [
    "-  видно , что с каждой итерацией очистки серебра и **свинца** становится меньше , а золота все больше \n",
    "    - что значит , что очистка работает правильно \n",
    "- у вторичной очистки не было концентрации металлов , поэтому тут нет этих данных"
   ]
  },
  {
   "cell_type": "code",
   "execution_count": 16,
   "metadata": {},
   "outputs": [
    {
     "data": {
      "image/png": "[encoded data removed]",
      "text/plain": [
       "<Figure size 432x288 with 4 Axes>"
      ]
     },
     "metadata": {
      "needs_background": "light"
     },
     "output_type": "display_data"
    },
    {
     "data": {
      "image/png": "[encoded data removed]",
      "text/plain": [
       "<Figure size 432x288 with 1 Axes>"
      ]
     },
     "metadata": {
      "needs_background": "light"
     },
     "output_type": "display_data"
    },
    {
     "data": {
      "image/png": "[encoded data removed]",
      "text/plain": [
       "<Figure size 432x288 with 4 Axes>"
      ]
     },
     "metadata": {
      "needs_background": "light"
     },
     "output_type": "display_data"
    },
    {
     "data": {
      "image/png": "[encoded data removed]",
      "text/plain": [
       "<Figure size 432x288 with 1 Axes>"
      ]
     },
     "metadata": {
      "needs_background": "light"
     },
     "output_type": "display_data"
    },
    {
     "data": {
      "image/png": "[encoded data removed]",
      "text/plain": [
       "<Figure size 432x288 with 4 Axes>"
      ]
     },
     "metadata": {
      "needs_background": "light"
     },
     "output_type": "display_data"
    },
    {
     "data": {
      "image/png": "[encoded data removed]",
      "text/plain": [
       "<Figure size 432x288 with 1 Axes>"
      ]
     },
     "metadata": {
      "needs_background": "light"
     },
     "output_type": "display_data"
    }
   ],
   "source": [
    "steps = ['rougher', 'primary_cleaner', 'final'] #'secondary_cleaner'\n",
    "materials = ['ag', 'pb', 'au']\n",
    "\n",
    "for step in steps:\n",
    "    df_1 = pd.DataFrame()\n",
    "    for material in materials:\n",
    "        col = step + '.output.concentrate_' + material\n",
    "        df_1['new_' + material] = df_train[col]\n",
    "    df_1.hist(bins=100)\n",
    "    plt.show()\n",
    "    df_1.boxplot()\n",
    "    plt.show()\n"
   ]
  },
  {
   "cell_type": "code",
   "execution_count": 17,
   "metadata": {},
   "outputs": [
    {
     "data": {
      "text/plain": [
       "<Figure size 864x864 with 0 Axes>"
      ]
     },
     "metadata": {},
     "output_type": "display_data"
    },
    {
     "data": {
      "image/png": "[encoded data removed]",
      "text/plain": [
       "<Figure size 432x288 with 4 Axes>"
      ]
     },
     "metadata": {
      "needs_background": "light"
     },
     "output_type": "display_data"
    },
    {
     "data": {
      "image/png": "[encoded data removed]",
      "text/plain": [
       "<Figure size 864x864 with 1 Axes>"
      ]
     },
     "metadata": {
      "needs_background": "light"
     },
     "output_type": "display_data"
    }
   ],
   "source": [
    "materials = ['ag', 'pb', 'au']\n",
    "df = pd.DataFrame()\n",
    "for material in materials:\n",
    "     df['new_'+material] = df_train['rougher.input.feed_'+material]\n",
    "plt.figure(figsize=(12, 12))\n",
    "df.hist(bins=100)\n",
    "plt.show()\n",
    "plt.figure(figsize=(12, 12))\n",
    "df.boxplot()\n",
    "plt.show()"
   ]
  },
  {
   "cell_type": "code",
   "execution_count": 19,
   "metadata": {},
   "outputs": [],
   "source": [
    "outlier_train_df = df_train.copy()\n",
    "\n"
   ]
  },
  {
   "cell_type": "markdown",
   "metadata": {},
   "source": [
    "- выбросы убрал правилом 3х сигм"
   ]
  },
  {
   "cell_type": "markdown",
   "metadata": {},
   "source": [
    "Гистограммы постоены , и можно удалить выбросы следующим скриптом"
   ]
  },
  {
   "cell_type": "markdown",
   "metadata": {},
   "source": [
    "### гистограммы"
   ]
  },
  {
   "cell_type": "code",
   "execution_count": 23,
   "metadata": {},
   "outputs": [
    {
     "data": {
      "image/png": "[encoded data removed]",
      "text/plain": [
       "<Figure size 864x864 with 1 Axes>"
      ]
     },
     "metadata": {
      "needs_background": "light"
     },
     "output_type": "display_data"
    }
   ],
   "source": [
    "plt.figure(figsize=(12, 12))\n",
    "plt.xlim(0, 200)\n",
    "# plt.ylim(0, 1)\n",
    "plt.hist(data=df_train, x='rougher.input.feed_size', bins=100, density=True, alpha=0.5, color='blue')\n",
    "sns.kdeplot(df_train['rougher.input.feed_size'], color='blue')\n",
    "plt.hist(data=df_test, x='rougher.input.feed_size', bins=100, density=True, alpha=0.5, color='green')\n",
    "sns.kdeplot(df_test['rougher.input.feed_size'], color='green')\n",
    "plt.grid()"
   ]
  },
  {
   "cell_type": "code",
   "execution_count": 24,
   "metadata": {},
   "outputs": [
    {
     "data": {
      "image/png": "[encoded data removed]",
      "text/plain": [
       "<Figure size 864x864 with 1 Axes>"
      ]
     },
     "metadata": {
      "needs_background": "light"
     },
     "output_type": "display_data"
    }
   ],
   "source": [
    "plt.figure(figsize=(12, 12))\n",
    "plt.xlim(0, 200)\n",
    "\n",
    "sns.distplot(df_train['rougher.input.feed_size'], hist=True, kde=True, \n",
    "             bins=100, color = 'darkblue', \n",
    "             hist_kws={'edgecolor':'black'},\n",
    "             kde_kws={'linewidth': 4});\n",
    "\n",
    "sns.distplot(df_test['rougher.input.feed_size'], hist=True, kde=True, \n",
    "             bins=100, color = 'red', \n",
    "             hist_kws={'edgecolor':'black'},\n",
    "             kde_kws={'linewidth': 4});"
   ]
  },
  {
   "cell_type": "markdown",
   "metadata": {},
   "source": [
    "- выборки частично похожи , оба набора данных отрицптельно скошенны"
   ]
  },
  {
   "cell_type": "markdown",
   "metadata": {},
   "source": [
    "### общая концентрация "
   ]
  },
  {
   "cell_type": "code",
   "execution_count": 25,
   "metadata": {},
   "outputs": [
    {
     "data": {
      "image/png": "[encoded data removed]",
      "text/plain": [
       "<Figure size 432x288 with 1 Axes>"
      ]
     },
     "metadata": {
      "needs_background": "light"
     },
     "output_type": "display_data"
    }
   ],
   "source": [
    "steps = ['rougher', 'primary_cleaner', 'final'] #'secondary_cleaner'\n",
    "materials = ['ag', 'pb', 'au']\n",
    "val = []\n",
    "\n",
    "for step in steps: \n",
    "    count = 0 \n",
    "    for material in materials:\n",
    "        col = step + '.output.concentrate_' + material\n",
    "        count += df_train[col].mean()\n",
    "    val.append(count)\n",
    "plt.plot([0, 1, 2], val)\n",
    "plt.fill_between([0, 1, 2], val)\n",
    "plt.show()"
   ]
  },
  {
   "cell_type": "markdown",
   "metadata": {},
   "source": [
    "Исследуйте суммарную концентрацию всех веществ на разных стадиях: в сырье, в черновом и финальном концентратах. "
   ]
  },
  {
   "cell_type": "code",
   "execution_count": 26,
   "metadata": {},
   "outputs": [
    {
     "data": {
      "image/png": "[encoded data removed]",
      "text/plain": [
       "<Figure size 432x288 with 1 Axes>"
      ]
     },
     "metadata": {
      "needs_background": "light"
     },
     "output_type": "display_data"
    }
   ],
   "source": [
    "\n",
    "df_train['feed_conc'] = df_train['rougher.input.feed_ag'] + df_train['rougher.input.feed_pb'] +\\\n",
    "            df_train['rougher.input.feed_sol'] + df_train['rougher.input.feed_au']\n",
    "df_train['rougher_conc'] = df_train['rougher.output.concentrate_ag'] + df_train['rougher.output.concentrate_pb'] +\\\n",
    "            df_train['rougher.output.concentrate_sol'] + df_train['rougher.output.concentrate_au']\n",
    "df_train['final_conc'] = df_train['final.output.concentrate_ag'] + df_train['final.output.concentrate_pb'] +\\\n",
    "            df_train['final.output.concentrate_sol'] + df_train['final.output.concentrate_au']\n",
    "plt.plot(np.arange(len(df_train['feed_conc'])), df_train['feed_conc']);\n",
    "plt.show()\n"
   ]
  },
  {
   "cell_type": "code",
   "execution_count": 27,
   "metadata": {},
   "outputs": [
    {
     "data": {
      "text/plain": [
       "(13795, 89)"
      ]
     },
     "execution_count": 27,
     "metadata": {},
     "output_type": "execute_result"
    }
   ],
   "source": [
    "df_train = df_train[df_train['final_conc'] > 0]\n",
    "df_train = df_train[df_train['rougher_conc'] > 0]\n",
    "df_train = df_train[df_train['feed_conc'] > 0]\n",
    "\n",
    "df_train.shape"
   ]
  },
  {
   "cell_type": "markdown",
   "metadata": {},
   "source": [
    "## Модель"
   ]
  },
  {
   "cell_type": "markdown",
   "metadata": {},
   "source": [
    "### sMAPE"
   ]
  },
  {
   "cell_type": "code",
   "execution_count": 28,
   "metadata": {},
   "outputs": [],
   "source": [
    "def smape(y, predict):\n",
    "    return (sum(abs(y - predict) / (abs(y + predict) / 2)) * 100) / len(y)\n",
    "\n",
    "def total_smape(rougher, final): \n",
    "    return .25 * rougher + .75 * final"
   ]
  },
  {
   "cell_type": "markdown",
   "metadata": {},
   "source": [
    "### Поиск лучшей модели"
   ]
  },
  {
   "cell_type": "code",
   "execution_count": 29,
   "metadata": {},
   "outputs": [
    {
     "data": {
      "text/plain": [
       "((13795,),\n",
       " 0    70.541216\n",
       " 1    69.266198\n",
       " 2    68.116445\n",
       " 3    68.347543\n",
       " 4    66.927016\n",
       " Name: final.output.recovery, dtype: float64)"
      ]
     },
     "execution_count": 29,
     "metadata": {},
     "output_type": "execute_result"
    }
   ],
   "source": [
    "y_train_rougher = df_train['rougher.output.recovery']\n",
    "y_train_final =  df_train['final.output.recovery']\n",
    "\n",
    "y_train_rougher.shape, y_train_final.head()"
   ]
  },
  {
   "cell_type": "code",
   "execution_count": 30,
   "metadata": {},
   "outputs": [],
   "source": [
    "X_train = df_train.drop(columns=values + ['final_conc', 'rougher_conc', 'feed_conc'])\n",
    "\n",
    "# X_train.drop(columns='date', inplace=True)"
   ]
  },
  {
   "cell_type": "code",
   "execution_count": 31,
   "metadata": {},
   "outputs": [
    {
     "data": {
      "text/plain": [
       "(13795, 52)"
      ]
     },
     "execution_count": 31,
     "metadata": {},
     "output_type": "execute_result"
    }
   ],
   "source": [
    "\n",
    "X_train.shape"
   ]
  },
  {
   "cell_type": "markdown",
   "metadata": {},
   "source": [
    "- удаляю даты , тк они уникальные и будут мешать обучению"
   ]
  },
  {
   "cell_type": "code",
   "execution_count": 32,
   "metadata": {},
   "outputs": [
    {
     "data": {
      "text/plain": [
       "7.194682542282374"
      ]
     },
     "execution_count": 32,
     "metadata": {},
     "output_type": "execute_result"
    }
   ],
   "source": [
    "lm_r = LinearRegression()\n",
    "\n",
    "# Обучим модель для этапа флотации\n",
    "smape_lm_r = cross_val_score(lm_r, X_train, y_train_rougher, \n",
    "                             scoring = make_scorer(smape),\n",
    "                             cv = 5,\n",
    "                             n_jobs = -1).mean()\n",
    "\n",
    "smape_lm_r"
   ]
  },
  {
   "cell_type": "markdown",
   "metadata": {},
   "source": [
    "- **Воспользуемся GridSearchCV, что бы перебрать параметры и сделать кросс валидацию**\n",
    "    - **Будем проверять модели LinearRegression, DecisionTreeRegressor, RandomForestRegressor, LassoCV, ElasticNetCV**"
   ]
  },
  {
   "cell_type": "code",
   "execution_count": 33,
   "metadata": {},
   "outputs": [
    {
     "name": "stdout",
     "output_type": "stream",
     "text": [
      "Fitting 5 folds for each of 20 candidates, totalling 100 fits\n",
      "{'fit_intercept': 'True', 'n_jobs': 'None', 'positive': 'True'}\n",
      "    sMAPE final: 10.02 %\n",
      "Fitting 5 folds for each of 20 candidates, totalling 100 fits\n",
      "{'fit_intercept': 'True', 'n_jobs': 'None', 'positive': 'True'}\n",
      "    sMAPE rougher: 7.04 %\n",
      "sMAPE итоговое: 9.28 %\n"
     ]
    }
   ],
   "source": [
    "def cv(model_1, model_2, parameters):\n",
    "    grid_search_f = GridSearchCV(estimator = model_1,  \n",
    "                               param_grid = parameters,\n",
    "                               scoring = make_scorer(smape),\n",
    "                               cv = 5,\n",
    "                               verbose=1)\n",
    "\n",
    "    grid_search_f.fit(X_train, y_train_final)\n",
    "\n",
    "    print(grid_search_f.best_params_)\n",
    "    print('    sMAPE final: {:.2f} %'.format(grid_search_f.best_score_))\n",
    "    \n",
    "    \n",
    "    grid_search_r = GridSearchCV(estimator = model_2,  \n",
    "                           param_grid = parameters,\n",
    "                           scoring = make_scorer(smape),\n",
    "                           cv = 5,\n",
    "                           verbose=1)\n",
    "\n",
    "    grid_search_r.fit(X_train, y_train_rougher)\n",
    "\n",
    "    print(grid_search_r.best_params_)\n",
    "    print('    sMAPE rougher: {:.2f} %'.format(grid_search_r.best_score_))\n",
    "    print('sMAPE итоговое: {:.2f} %'.format(total_smape(grid_search_r.best_score_, grid_search_f.best_score_)))\n",
    "cv(LinearRegression(), LinearRegression(), {\"n_jobs\" : ['None', 1, 3, -1, -3], 'positive' : ['True', 'False'], 'fit_intercept' : ['True', 'False']})"
   ]
  },
  {
   "cell_type": "markdown",
   "metadata": {},
   "source": [
    "- написал функцию для обучения , но подумал будет быстрее отделтно писать каждую как всегда ))"
   ]
  },
  {
   "cell_type": "code",
   "execution_count": 34,
   "metadata": {},
   "outputs": [
    {
     "name": "stdout",
     "output_type": "stream",
     "text": [
      "Fitting 5 folds for each of 20 candidates, totalling 100 fits\n",
      "{'fit_intercept': 'True', 'n_jobs': 'None', 'positive': 'True'}\n",
      "    sMAPE rougher: 7.04 %\n",
      "CPU times: user 10.6 s, sys: 9.49 s, total: 20.1 s\n",
      "Wall time: 20.1 s\n"
     ]
    }
   ],
   "source": [
    "%%time\n",
    "log_reg_rougher = LinearRegression()\n",
    "\n",
    "parameters = {\"n_jobs\" : ['None', 1, 3, -1, -3]\n",
    "              , 'positive' : ['True', 'False']\n",
    "              , 'fit_intercept' : ['True', 'False']\n",
    "             }\n",
    "grid_search_r = GridSearchCV(estimator = log_reg_rougher,  \n",
    "                           param_grid = parameters,\n",
    "                           scoring = make_scorer(smape),\n",
    "                           cv = 5,\n",
    "                           verbose=1)\n",
    "\n",
    "grid_search_r.fit(X_train, y_train_rougher)\n",
    "\n",
    "print(grid_search_r.best_params_)\n",
    "print('    sMAPE rougher: {:.2f} %'.format(grid_search_r.best_score_))"
   ]
  },
  {
   "cell_type": "code",
   "execution_count": 35,
   "metadata": {},
   "outputs": [
    {
     "name": "stdout",
     "output_type": "stream",
     "text": [
      "Fitting 5 folds for each of 20 candidates, totalling 100 fits\n",
      "{'fit_intercept': 'True', 'n_jobs': 'None', 'positive': 'True'}\n",
      "    sMAPE rougher: 10.02 %\n",
      "CPU times: user 10.8 s, sys: 9.28 s, total: 20.1 s\n",
      "Wall time: 20.1 s\n"
     ]
    }
   ],
   "source": [
    "%%time\n",
    "log_reg_final = LinearRegression()\n",
    "\n",
    "# инициализируем GridSearchCV\n",
    "parameters = {\"n_jobs\" : ['None', 1, 3, -1, -3]\n",
    "              , 'positive' : ['True', 'False']\n",
    "              , 'fit_intercept' : ['True', 'False']\n",
    "             }\n",
    "grid_search_f = GridSearchCV(estimator = log_reg_final,  \n",
    "                           param_grid = parameters,\n",
    "                           scoring = make_scorer(smape),\n",
    "                           cv = 5,\n",
    "                           verbose=1)\n",
    "\n",
    "grid_search_f.fit(X_train, y_train_final)\n",
    "\n",
    "print(grid_search_f.best_params_)\n",
    "print('    sMAPE rougher: {:.2f} %'.format(grid_search_f.best_score_))"
   ]
  },
  {
   "cell_type": "code",
   "execution_count": 36,
   "metadata": {},
   "outputs": [
    {
     "name": "stdout",
     "output_type": "stream",
     "text": [
      "Fitting 5 folds for each of 27 candidates, totalling 135 fits\n",
      "{'criterion': 'friedman_mse', 'max_depth': 7, 'min_samples_split': 5}\n",
      "    sMAPE rougher: 8.80 %\n",
      "CPU times: user 13.5 s, sys: 256 ms, total: 13.8 s\n",
      "Wall time: 13.8 s\n"
     ]
    }
   ],
   "source": [
    "%%time\n",
    "tree_rougher = DecisionTreeRegressor(random_state = 1234)\n",
    "\n",
    "parameters = {'criterion' :['squared_error', 'friedman_mse', 'absolute_error']\n",
    "             ,'max_depth' : [3, 5, 7]\n",
    "             ,'min_samples_split' : [3, 5, 7]}\n",
    "\n",
    "grid_search_r = GridSearchCV(estimator = tree_rougher,  \n",
    "                           param_grid = parameters,\n",
    "                           scoring = make_scorer(smape),\n",
    "                           cv = 5,\n",
    "                           verbose=1)\n",
    "\n",
    "grid_search_r.fit(X_train, y_train_rougher)\n",
    "\n",
    "print(grid_search_r.best_params_)\n",
    "print('    sMAPE rougher: {:.2f} %'.format(grid_search_r.best_score_))"
   ]
  },
  {
   "cell_type": "code",
   "execution_count": 37,
   "metadata": {},
   "outputs": [
    {
     "name": "stdout",
     "output_type": "stream",
     "text": [
      "Fitting 5 folds for each of 27 candidates, totalling 135 fits\n",
      "{'criterion': 'friedman_mse', 'max_depth': 7, 'min_samples_split': 5}\n",
      "    sMAPE final: 11.94 %\n",
      "CPU times: user 13.8 s, sys: 177 ms, total: 14 s\n",
      "Wall time: 14 s\n"
     ]
    }
   ],
   "source": [
    "%%time\n",
    "tree_final = DecisionTreeRegressor(random_state = 1234)\n",
    "\n",
    "parameters = {'criterion' :['squared_error', 'friedman_mse', 'absolute_error']\n",
    "             ,'max_depth' : [3, 5, 7]\n",
    "             ,'min_samples_split' : [3, 5, 7]}\n",
    "\n",
    "grid_search_f = GridSearchCV(estimator = tree_final,  \n",
    "                           param_grid = parameters,\n",
    "                           scoring = make_scorer(smape),\n",
    "                           cv = 5,\n",
    "                           verbose=1)\n",
    "\n",
    "grid_search_f.fit(X_train, y_train_final)\n",
    "\n",
    "print(grid_search_r.best_params_)\n",
    "print('    sMAPE final: {:.2f} %'.format(grid_search_f.best_score_))"
   ]
  },
  {
   "cell_type": "code",
   "execution_count": 38,
   "metadata": {},
   "outputs": [
    {
     "data": {
      "text/plain": [
       "'sMAPE итоговое: 11.16 %'"
      ]
     },
     "execution_count": 38,
     "metadata": {},
     "output_type": "execute_result"
    }
   ],
   "source": [
    "'sMAPE итоговое: {:.2f} %'.format(total_smape(grid_search_r.best_score_, grid_search_f.best_score_))"
   ]
  },
  {
   "cell_type": "code",
   "execution_count": 41,
   "metadata": {},
   "outputs": [
    {
     "name": "stdout",
     "output_type": "stream",
     "text": [
      "Fitting 5 folds for each of 6 candidates, totalling 30 fits\n",
      "{'max_iter': 100, 'n_alphas': 150}\n",
      "    sMAPE rougher: 6.69 %\n",
      "CPU times: user 31.2 s, sys: 35.1 s, total: 1min 6s\n",
      "Wall time: 1min 6s\n"
     ]
    }
   ],
   "source": [
    "%%time\n",
    "lasso_rougher = LassoCV()\n",
    "\n",
    "parameters = {\n",
    "             'n_alphas' : [100, 150]\n",
    "              , 'max_iter' : [100, 500, 100]}\n",
    "\n",
    "grid_search_r = GridSearchCV(estimator = lasso_rougher,  \n",
    "                           param_grid = parameters,\n",
    "                           scoring = make_scorer(smape),\n",
    "                           cv = 5,\n",
    "                           verbose=1)\n",
    "\n",
    "grid_search_r.fit(X_train, y_train_rougher)\n",
    "\n",
    "best_params_r = grid_search_r.best_params_\n",
    "\n",
    "print(best_params_r)\n",
    "print('    sMAPE rougher: {:.2f} %'.format(grid_search_r.best_score_))"
   ]
  },
  {
   "cell_type": "code",
   "execution_count": 42,
   "metadata": {},
   "outputs": [
    {
     "name": "stdout",
     "output_type": "stream",
     "text": [
      "Fitting 5 folds for each of 6 candidates, totalling 30 fits\n",
      "{'max_iter': 100, 'n_alphas': 150}\n",
      "    sMAPE final: 9.91 %\n",
      "CPU times: user 24.2 s, sys: 23.1 s, total: 47.3 s\n",
      "Wall time: 47.4 s\n"
     ]
    }
   ],
   "source": [
    "%%time\n",
    "lasso_final = LassoCV()\n",
    "\n",
    "parameters = {'n_alphas' : [100, 150]\n",
    "              , 'max_iter' : [100, 500, 100]}\n",
    "\n",
    "grid_search_f = GridSearchCV(estimator = lasso_final,  \n",
    "                           param_grid = parameters,\n",
    "                           scoring = make_scorer(smape),\n",
    "                           cv = 5,\n",
    "                           verbose=1)\n",
    "\n",
    "grid_search_f.fit(X_train, y_train_final)\n",
    "\n",
    "print(grid_search_f.best_params_)\n",
    "print('    sMAPE final: {:.2f} %'.format(grid_search_f.best_score_))"
   ]
  },
  {
   "cell_type": "code",
   "execution_count": 43,
   "metadata": {},
   "outputs": [
    {
     "data": {
      "text/plain": [
       "'sMAPE итоговое: 9.11 %'"
      ]
     },
     "execution_count": 43,
     "metadata": {},
     "output_type": "execute_result"
    }
   ],
   "source": [
    "'sMAPE итоговое: {:.2f} %'.format(total_smape(grid_search_r.best_score_, grid_search_f.best_score_))"
   ]
  },
  {
   "cell_type": "code",
   "execution_count": 44,
   "metadata": {},
   "outputs": [
    {
     "name": "stdout",
     "output_type": "stream",
     "text": [
      "Fitting 5 folds for each of 6 candidates, totalling 30 fits\n",
      "{'max_iter': 100, 'n_alphas': 100}\n",
      "    sMAPE rougher: 6.69 %\n",
      "CPU times: user 32.1 s, sys: 35.6 s, total: 1min 7s\n",
      "Wall time: 1min 7s\n"
     ]
    }
   ],
   "source": [
    "%%time\n",
    "elastic_rougher = ElasticNetCV()\n",
    "\n",
    "parameters = {'n_alphas' : [100, 150]\n",
    "              , 'max_iter' : [100, 500, 100]}\n",
    "\n",
    "grid_search_r = GridSearchCV(estimator = elastic_rougher,  \n",
    "                           param_grid = parameters,\n",
    "                           scoring = make_scorer(smape),\n",
    "                           cv = 5,\n",
    "                           verbose=1)\n",
    "\n",
    "grid_search_r.fit(X_train, y_train_rougher)\n",
    "\n",
    "print(grid_search_r.best_params_)\n",
    "print('    sMAPE rougher: {:.2f} %'.format(grid_search_r.best_score_))"
   ]
  },
  {
   "cell_type": "code",
   "execution_count": 45,
   "metadata": {},
   "outputs": [
    {
     "name": "stdout",
     "output_type": "stream",
     "text": [
      "Fitting 5 folds for each of 6 candidates, totalling 30 fits\n",
      "{'max_iter': 100, 'n_alphas': 150}\n",
      "    sMAPE rougher: 9.91 %\n",
      "CPU times: user 23.3 s, sys: 21.6 s, total: 44.9 s\n",
      "Wall time: 45.2 s\n"
     ]
    }
   ],
   "source": [
    "%%time\n",
    "elastic_final = ElasticNetCV()\n",
    "\n",
    "parameters = {'n_alphas' : [100, 150]\n",
    "              , 'max_iter' : [100, 500, 100]}\n",
    "\n",
    "grid_search_f = GridSearchCV(estimator = elastic_final,  \n",
    "                           param_grid = parameters,\n",
    "                           scoring = make_scorer(smape),\n",
    "                           cv = 5,\n",
    "                           verbose=1)\n",
    "\n",
    "grid_search_f.fit(X_train, y_train_final)\n",
    "\n",
    "best_params_f = grid_search_f.best_params_\n",
    "\n",
    "print(best_params_f)\n",
    "print('    sMAPE rougher: {:.2f} %'.format(grid_search_f.best_score_))"
   ]
  },
  {
   "cell_type": "code",
   "execution_count": 46,
   "metadata": {},
   "outputs": [
    {
     "data": {
      "text/plain": [
       "'sMAPE итоговое: 9.11 %'"
      ]
     },
     "execution_count": 46,
     "metadata": {},
     "output_type": "execute_result"
    }
   ],
   "source": [
    "'sMAPE итоговое: {:.2f} %'.format(total_smape(grid_search_r.best_score_, grid_search_f.best_score_))"
   ]
  },
  {
   "cell_type": "markdown",
   "metadata": {},
   "source": [
    "- **после изучения 4х моделей , я решил:**\n",
    "    - **для rouhger буду использовать LassoCV с параметрами max_iter = 500, n_alphas = 100 sMAPE ~ 6.69%**\n",
    "    - **для final буду использовать ElasticNetCV с параметрами max_iter = 100, n_alphas = 100 sMAPE ~ 9.91%**"
   ]
  },
  {
   "cell_type": "markdown",
   "metadata": {},
   "source": [
    "### Финальная модель и проверка на тесте "
   ]
  },
  {
   "cell_type": "markdown",
   "metadata": {},
   "source": [
    "сначала для проверки разобъем выборку на train и valid  и обучим 2 модедли для флоктации и финальной очистки соответственно "
   ]
  },
  {
   "cell_type": "code",
   "execution_count": 48,
   "metadata": {},
   "outputs": [
    {
     "data": {
      "text/plain": [
       "LassoCV(max_iter=100, n_alphas=150)"
      ]
     },
     "execution_count": 48,
     "metadata": {},
     "output_type": "execute_result"
    }
   ],
   "source": [
    "final_model_r = LassoCV(max_iter=100, n_alphas=150)\n",
    "\n",
    "final_model_r.fit(X_train, y_train_rougher)"
   ]
  },
  {
   "cell_type": "code",
   "execution_count": 49,
   "metadata": {},
   "outputs": [
    {
     "data": {
      "text/plain": [
       "ElasticNetCV(max_iter=100, n_alphas=150)"
      ]
     },
     "execution_count": 49,
     "metadata": {},
     "output_type": "execute_result"
    }
   ],
   "source": [
    "elastic_model_f = ElasticNetCV(max_iter=100, n_alphas=150)\n",
    "\n",
    "elastic_model_f.fit(X_train, y_train_final)"
   ]
  },
  {
   "cell_type": "code",
   "execution_count": 50,
   "metadata": {},
   "outputs": [],
   "source": [
    "df_test = gold_df_test.copy()"
   ]
  },
  {
   "cell_type": "code",
   "execution_count": 51,
   "metadata": {},
   "outputs": [],
   "source": [
    "df_test.dropna(inplace=True)"
   ]
  },
  {
   "cell_type": "code",
   "execution_count": 54,
   "metadata": {},
   "outputs": [
    {
     "data": {
      "text/plain": [
       "(5229,)"
      ]
     },
     "execution_count": 54,
     "metadata": {},
     "output_type": "execute_result"
    }
   ],
   "source": [
    "y_true_r = gold_df.loc[df_test.index, 'rougher.output.recovery'].dropna()\n",
    "y_true_f = gold_df.loc[df_test.index, 'final.output.recovery'].dropna()\n",
    "\n",
    "y_true_r.shape"
   ]
  },
  {
   "cell_type": "code",
   "execution_count": 55,
   "metadata": {},
   "outputs": [],
   "source": [
    "df_new_test =  df_test"
   ]
  },
  {
   "cell_type": "code",
   "execution_count": 60,
   "metadata": {},
   "outputs": [
    {
     "data": {
      "text/plain": [
       "'sMAPE rougher: 8.10 %'"
      ]
     },
     "execution_count": 60,
     "metadata": {},
     "output_type": "execute_result"
    }
   ],
   "source": [
    "final_smape_r = smape(y_true_r, final_model_r.predict(df_new_test))\n",
    "'sMAPE rougher: {:.2f} %'.format(final_smape_r)"
   ]
  },
  {
   "cell_type": "code",
   "execution_count": 61,
   "metadata": {},
   "outputs": [
    {
     "data": {
      "text/plain": [
       "'sMAPE final: 8.48 %'"
      ]
     },
     "execution_count": 61,
     "metadata": {},
     "output_type": "execute_result"
    }
   ],
   "source": [
    "final_smape_f = smape(y_true_f, elastic_model_f.predict(df_new_test))\n",
    "'sMAPE final: {:.2f} %'.format(final_smape_f)"
   ]
  },
  {
   "cell_type": "code",
   "execution_count": 62,
   "metadata": {},
   "outputs": [
    {
     "data": {
      "text/plain": [
       "'sMAPE итоговое: 8.38 %'"
      ]
     },
     "execution_count": 62,
     "metadata": {},
     "output_type": "execute_result"
    }
   ],
   "source": [
    "final_smape = total_smape(final_smape_r, final_smape_f)\n",
    "'sMAPE итоговое: {:.2f} %'.format(final_smape)"
   ]
  },
  {
   "cell_type": "markdown",
   "metadata": {},
   "source": [
    "- проврел константной моделю , на сколько основная отличаемся от него "
   ]
  },
  {
   "cell_type": "code",
   "execution_count": 63,
   "metadata": {},
   "outputs": [],
   "source": [
    "dummy_regr_f = DummyRegressor(strategy=\"mean\")\n",
    "dummy_regr_f.fit(X_train, y_train_final)\n",
    "dummy_f = smape(y_true_f, dummy_regr_f.predict(df_new_test))"
   ]
  },
  {
   "cell_type": "code",
   "execution_count": 64,
   "metadata": {},
   "outputs": [],
   "source": [
    "dummy_regr_r = DummyRegressor(strategy=\"mean\")\n",
    "dummy_regr_r.fit(X_train, y_train_rougher)\n",
    "dummy_r = smape(y_true_r, dummy_regr_r.predict(df_new_test))"
   ]
  },
  {
   "cell_type": "code",
   "execution_count": 65,
   "metadata": {},
   "outputs": [
    {
     "data": {
      "text/plain": [
       "(-0.8327714951027705, -1.0776983133918296)"
      ]
     },
     "execution_count": 65,
     "metadata": {},
     "output_type": "execute_result"
    }
   ],
   "source": [
    "final_smape_r - dummy_r, final_smape_f - dummy_f"
   ]
  },
  {
   "cell_type": "markdown",
   "metadata": {},
   "source": [
    "Мои модели лучше ~ на 1"
   ]
  },
  {
   "cell_type": "code",
   "execution_count": 66,
   "metadata": {},
   "outputs": [
    {
     "data": {
      "text/plain": [
       "'sMAPE итоговое: 9.40 %'"
      ]
     },
     "execution_count": 66,
     "metadata": {},
     "output_type": "execute_result"
    }
   ],
   "source": [
    "dymmy_final = total_smape(dummy_r, dummy_f)\n",
    "'sMAPE итоговое: {:.2f} %'.format(dymmy_final)"
   ]
  },
  {
   "cell_type": "markdown",
   "metadata": {},
   "source": [
    "## Вывод "
   ]
  },
  {
   "cell_type": "markdown",
   "metadata": {},
   "source": [
    "Данные обучены на моделях LinearRegression, DecisionTreeRegressor, RandomForestRegressor, LassoCV, ElasticNetCV.\n",
    "\n",
    "Применены техники кросс-валидации для оценки качества моделей и GridSearchCV для поиска оптимальных гиперпараметров.\n",
    "\n",
    "Лучший результат дала модели LassoCV, ElasticNetCV.\n",
    "\n",
    "Метрика smape получилась следующая:\n",
    " \n",
    "smape на тестовой выборке:\n",
    " - smape флотация: 8.10 %\n",
    " - smape очистка: 8.48 %\n",
    " - **smape итоговое: 8.38%**\n",
    " \n",
    "Итоговое sMAPE на константной модели 9.40 %"
   ]
  }
 ],
 "metadata": {
  "ExecuteTimeLog": [
   {
    "duration": 48,
    "start_time": "2022-12-27T18:49:53.175Z"
   },
   {
    "duration": 372,
    "start_time": "2022-12-27T18:49:58.610Z"
   },
   {
    "duration": 53,
    "start_time": "2022-12-27T18:50:00.089Z"
   },
   {
    "duration": 32,
    "start_time": "2022-12-27T18:50:28.892Z"
   },
   {
    "duration": 852,
    "start_time": "2022-12-27T18:50:46.551Z"
   },
   {
    "duration": 11,
    "start_time": "2022-12-28T19:56:25.034Z"
   },
   {
    "duration": 46,
    "start_time": "2022-12-28T19:57:06.022Z"
   },
   {
    "duration": 417,
    "start_time": "2022-12-28T19:57:11.093Z"
   },
   {
    "duration": 1087,
    "start_time": "2022-12-28T19:57:12.984Z"
   },
   {
    "duration": 33,
    "start_time": "2022-12-28T19:57:16.305Z"
   },
   {
    "duration": 18,
    "start_time": "2022-12-28T19:57:41.069Z"
   },
   {
    "duration": 213,
    "start_time": "2022-12-28T19:57:55.747Z"
   },
   {
    "duration": 243,
    "start_time": "2022-12-28T19:58:14.395Z"
   },
   {
    "duration": 268,
    "start_time": "2022-12-28T19:58:26.844Z"
   },
   {
    "duration": 37,
    "start_time": "2022-12-28T19:59:07.718Z"
   },
   {
    "duration": 32,
    "start_time": "2022-12-28T19:59:59.505Z"
   },
   {
    "duration": 70,
    "start_time": "2022-12-28T20:00:31.166Z"
   },
   {
    "duration": 59,
    "start_time": "2022-12-28T20:01:38.593Z"
   },
   {
    "duration": 158,
    "start_time": "2022-12-28T20:04:26.589Z"
   },
   {
    "duration": 561,
    "start_time": "2022-12-28T20:07:21.292Z"
   },
   {
    "duration": 6653,
    "start_time": "2022-12-28T20:09:25.136Z"
   },
   {
    "duration": 30,
    "start_time": "2022-12-28T20:10:03.035Z"
   },
   {
    "duration": 10,
    "start_time": "2022-12-28T20:10:10.194Z"
   },
   {
    "duration": 7,
    "start_time": "2022-12-28T20:10:29.693Z"
   },
   {
    "duration": 7,
    "start_time": "2022-12-28T20:10:34.594Z"
   },
   {
    "duration": 67,
    "start_time": "2022-12-28T20:10:47.968Z"
   },
   {
    "duration": 2,
    "start_time": "2022-12-28T20:10:56.344Z"
   },
   {
    "duration": 6988,
    "start_time": "2022-12-28T20:11:13.533Z"
   },
   {
    "duration": 6,
    "start_time": "2022-12-28T20:13:58.244Z"
   },
   {
    "duration": 6078,
    "start_time": "2022-12-28T20:15:42.912Z"
   },
   {
    "duration": 60684,
    "start_time": "2022-12-28T20:16:41.292Z"
   },
   {
    "duration": 178,
    "start_time": "2022-12-28T20:17:53.899Z"
   },
   {
    "duration": 3,
    "start_time": "2022-12-28T20:25:50.976Z"
   },
   {
    "duration": 8,
    "start_time": "2022-12-28T20:26:15.550Z"
   },
   {
    "duration": 10,
    "start_time": "2022-12-28T20:44:35.965Z"
   },
   {
    "duration": 10,
    "start_time": "2022-12-28T20:45:10.606Z"
   },
   {
    "duration": 8,
    "start_time": "2022-12-28T20:45:24.303Z"
   },
   {
    "duration": 7,
    "start_time": "2022-12-28T20:48:53.269Z"
   },
   {
    "duration": 7,
    "start_time": "2022-12-28T20:48:59.807Z"
   },
   {
    "duration": 8,
    "start_time": "2022-12-28T21:07:22.739Z"
   },
   {
    "duration": 9,
    "start_time": "2022-12-28T21:07:37.217Z"
   },
   {
    "duration": 10,
    "start_time": "2022-12-28T21:07:48.535Z"
   },
   {
    "duration": 6,
    "start_time": "2022-12-28T21:09:43.493Z"
   },
   {
    "duration": 8,
    "start_time": "2022-12-28T21:10:03.255Z"
   },
   {
    "duration": 12,
    "start_time": "2022-12-28T21:10:06.749Z"
   },
   {
    "duration": 11,
    "start_time": "2022-12-28T21:10:24.207Z"
   },
   {
    "duration": 7,
    "start_time": "2022-12-28T21:10:35.331Z"
   },
   {
    "duration": 12,
    "start_time": "2022-12-28T21:14:35.462Z"
   },
   {
    "duration": 7,
    "start_time": "2022-12-28T21:15:37.178Z"
   },
   {
    "duration": 3,
    "start_time": "2022-12-28T21:17:35.896Z"
   },
   {
    "duration": 42,
    "start_time": "2022-12-28T21:18:17.743Z"
   },
   {
    "duration": 45,
    "start_time": "2022-12-28T21:18:24.307Z"
   },
   {
    "duration": 76,
    "start_time": "2022-12-28T21:18:44.795Z"
   },
   {
    "duration": 562,
    "start_time": "2022-12-28T21:19:28.799Z"
   },
   {
    "duration": 6,
    "start_time": "2022-12-28T21:19:38.790Z"
   },
   {
    "duration": 7,
    "start_time": "2022-12-28T21:19:59.550Z"
   },
   {
    "duration": 50,
    "start_time": "2022-12-29T12:10:49.961Z"
   },
   {
    "duration": 1699,
    "start_time": "2022-12-29T12:10:57.429Z"
   },
   {
    "duration": 2029,
    "start_time": "2022-12-29T12:10:59.131Z"
   },
   {
    "duration": 231,
    "start_time": "2022-12-29T12:11:01.162Z"
   },
   {
    "duration": 14,
    "start_time": "2022-12-29T12:11:01.396Z"
   },
   {
    "duration": 38,
    "start_time": "2022-12-29T12:11:01.411Z"
   },
   {
    "duration": 15,
    "start_time": "2022-12-29T12:11:01.450Z"
   },
   {
    "duration": 64,
    "start_time": "2022-12-29T12:11:01.467Z"
   },
   {
    "duration": 143,
    "start_time": "2022-12-29T12:11:01.533Z"
   },
   {
    "duration": 0,
    "start_time": "2022-12-29T12:11:01.678Z"
   },
   {
    "duration": 64,
    "start_time": "2022-12-29T12:11:15.840Z"
   },
   {
    "duration": 5,
    "start_time": "2022-12-29T12:14:57.525Z"
   },
   {
    "duration": 5,
    "start_time": "2022-12-29T12:15:37.317Z"
   },
   {
    "duration": 7,
    "start_time": "2022-12-29T12:15:57.694Z"
   },
   {
    "duration": 7,
    "start_time": "2022-12-29T12:16:12.699Z"
   },
   {
    "duration": 9,
    "start_time": "2022-12-29T12:16:25.952Z"
   },
   {
    "duration": 12,
    "start_time": "2022-12-29T12:16:32.662Z"
   },
   {
    "duration": 1005,
    "start_time": "2022-12-31T16:44:06.441Z"
   },
   {
    "duration": 1473,
    "start_time": "2022-12-31T16:44:15.012Z"
   },
   {
    "duration": 3505,
    "start_time": "2022-12-31T16:44:16.488Z"
   },
   {
    "duration": 236,
    "start_time": "2022-12-31T16:44:19.995Z"
   },
   {
    "duration": 9,
    "start_time": "2022-12-31T16:44:20.233Z"
   },
   {
    "duration": 7,
    "start_time": "2022-12-31T16:44:20.243Z"
   },
   {
    "duration": 9,
    "start_time": "2022-12-31T16:44:20.251Z"
   },
   {
    "duration": 5,
    "start_time": "2022-12-31T16:44:20.261Z"
   },
   {
    "duration": 79,
    "start_time": "2022-12-31T16:44:20.267Z"
   },
   {
    "duration": 7,
    "start_time": "2022-12-31T16:44:20.348Z"
   },
   {
    "duration": 234,
    "start_time": "2022-12-31T16:44:20.356Z"
   },
   {
    "duration": 0,
    "start_time": "2022-12-31T16:44:20.592Z"
   },
   {
    "duration": 103,
    "start_time": "2022-12-31T16:46:07.163Z"
   },
   {
    "duration": 104,
    "start_time": "2022-12-31T16:46:56.773Z"
   },
   {
    "duration": 11478,
    "start_time": "2022-12-31T16:47:13.901Z"
   },
   {
    "duration": 2021,
    "start_time": "2022-12-31T16:48:45.684Z"
   },
   {
    "duration": 0,
    "start_time": "2022-12-31T16:50:44.731Z"
   },
   {
    "duration": 1817,
    "start_time": "2022-12-31T16:50:46.192Z"
   },
   {
    "duration": 1776,
    "start_time": "2022-12-31T16:50:51.553Z"
   },
   {
    "duration": 13198,
    "start_time": "2022-12-31T16:52:35.363Z"
   },
   {
    "duration": 1668,
    "start_time": "2022-12-31T16:52:51.383Z"
   },
   {
    "duration": 1825,
    "start_time": "2022-12-31T16:53:11.152Z"
   },
   {
    "duration": 1829,
    "start_time": "2022-12-31T16:53:42.761Z"
   },
   {
    "duration": 1853,
    "start_time": "2022-12-31T16:53:48.252Z"
   },
   {
    "duration": 44,
    "start_time": "2023-01-08T15:57:58.377Z"
   },
   {
    "duration": 1447,
    "start_time": "2023-01-08T16:02:26.321Z"
   },
   {
    "duration": 2949,
    "start_time": "2023-01-08T16:02:27.769Z"
   },
   {
    "duration": 212,
    "start_time": "2023-01-08T16:02:30.720Z"
   },
   {
    "duration": 56,
    "start_time": "2023-01-08T16:02:30.934Z"
   },
   {
    "duration": 29,
    "start_time": "2023-01-08T16:02:30.992Z"
   },
   {
    "duration": 5,
    "start_time": "2023-01-08T16:02:31.023Z"
   },
   {
    "duration": 10,
    "start_time": "2023-01-08T16:02:31.029Z"
   },
   {
    "duration": 10,
    "start_time": "2023-01-08T16:02:31.041Z"
   },
   {
    "duration": 35,
    "start_time": "2023-01-08T16:02:31.052Z"
   },
   {
    "duration": 9962,
    "start_time": "2023-01-08T16:02:31.090Z"
   },
   {
    "duration": 1720,
    "start_time": "2023-01-08T16:02:41.054Z"
   },
   {
    "duration": 4,
    "start_time": "2023-01-08T16:02:42.775Z"
   },
   {
    "duration": 10435,
    "start_time": "2023-01-08T16:11:18.856Z"
   },
   {
    "duration": 9578,
    "start_time": "2023-01-08T16:11:47.441Z"
   },
   {
    "duration": 1765,
    "start_time": "2023-01-08T16:11:59.905Z"
   },
   {
    "duration": 193,
    "start_time": "2023-01-08T16:15:46.503Z"
   },
   {
    "duration": 16,
    "start_time": "2023-01-08T16:16:07.783Z"
   },
   {
    "duration": 250,
    "start_time": "2023-01-08T16:17:23.497Z"
   },
   {
    "duration": 1698,
    "start_time": "2023-01-08T16:17:45.454Z"
   },
   {
    "duration": 9,
    "start_time": "2023-01-08T16:57:38.854Z"
   },
   {
    "duration": 4,
    "start_time": "2023-01-08T16:57:45.673Z"
   },
   {
    "duration": 43,
    "start_time": "2023-01-08T16:59:46.159Z"
   },
   {
    "duration": 643,
    "start_time": "2023-01-08T16:59:54.331Z"
   },
   {
    "duration": 796,
    "start_time": "2023-01-08T17:00:30.060Z"
   },
   {
    "duration": 676,
    "start_time": "2023-01-08T17:02:12.094Z"
   },
   {
    "duration": 683,
    "start_time": "2023-01-08T17:02:48.016Z"
   },
   {
    "duration": 7,
    "start_time": "2023-01-08T17:04:12.983Z"
   },
   {
    "duration": 7,
    "start_time": "2023-01-08T17:12:41.718Z"
   },
   {
    "duration": 8,
    "start_time": "2023-01-08T17:37:21.299Z"
   },
   {
    "duration": 12,
    "start_time": "2023-01-08T17:38:58.030Z"
   },
   {
    "duration": 9,
    "start_time": "2023-01-08T17:39:20.947Z"
   },
   {
    "duration": 109,
    "start_time": "2023-01-08T17:40:38.539Z"
   },
   {
    "duration": 11,
    "start_time": "2023-01-08T17:41:02.861Z"
   },
   {
    "duration": 111,
    "start_time": "2023-01-08T17:41:07.710Z"
   },
   {
    "duration": 109,
    "start_time": "2023-01-08T17:42:04.264Z"
   },
   {
    "duration": 128,
    "start_time": "2023-01-08T17:42:15.581Z"
   },
   {
    "duration": 129,
    "start_time": "2023-01-08T17:42:32.665Z"
   },
   {
    "duration": 330,
    "start_time": "2023-01-08T17:42:37.636Z"
   },
   {
    "duration": 372,
    "start_time": "2023-01-08T17:44:48.873Z"
   },
   {
    "duration": 430,
    "start_time": "2023-01-08T17:45:00.010Z"
   },
   {
    "duration": 123,
    "start_time": "2023-01-08T18:20:38.847Z"
   },
   {
    "duration": 131,
    "start_time": "2023-01-08T18:20:53.830Z"
   },
   {
    "duration": 210,
    "start_time": "2023-01-08T18:20:56.796Z"
   },
   {
    "duration": 211,
    "start_time": "2023-01-08T18:21:02.970Z"
   },
   {
    "duration": 9,
    "start_time": "2023-01-08T18:22:12.261Z"
   },
   {
    "duration": 402,
    "start_time": "2023-01-08T18:22:23.838Z"
   },
   {
    "duration": 302,
    "start_time": "2023-01-08T18:22:42.946Z"
   },
   {
    "duration": 53,
    "start_time": "2023-01-08T18:23:04.863Z"
   },
   {
    "duration": 220,
    "start_time": "2023-01-08T18:23:14.649Z"
   },
   {
    "duration": 224,
    "start_time": "2023-01-08T18:23:20.631Z"
   },
   {
    "duration": 285,
    "start_time": "2023-01-08T18:24:35.425Z"
   },
   {
    "duration": 457,
    "start_time": "2023-01-08T18:24:49.355Z"
   },
   {
    "duration": 342,
    "start_time": "2023-01-08T18:25:01.141Z"
   },
   {
    "duration": 308,
    "start_time": "2023-01-08T18:25:09.697Z"
   },
   {
    "duration": 4,
    "start_time": "2023-01-08T18:26:17.283Z"
   },
   {
    "duration": 224,
    "start_time": "2023-01-08T18:26:47.140Z"
   },
   {
    "duration": 343,
    "start_time": "2023-01-08T18:26:52.246Z"
   },
   {
    "duration": 44,
    "start_time": "2023-01-08T18:27:40.939Z"
   },
   {
    "duration": 43,
    "start_time": "2023-01-08T18:27:51.689Z"
   },
   {
    "duration": 44,
    "start_time": "2023-01-08T18:27:56.151Z"
   },
   {
    "duration": 45,
    "start_time": "2023-01-08T18:28:23.384Z"
   },
   {
    "duration": 50,
    "start_time": "2023-01-08T18:28:26.504Z"
   },
   {
    "duration": 50,
    "start_time": "2023-01-08T18:28:30.728Z"
   },
   {
    "duration": 49,
    "start_time": "2023-01-08T18:28:39.966Z"
   },
   {
    "duration": 41,
    "start_time": "2023-01-08T18:28:43.286Z"
   },
   {
    "duration": 14,
    "start_time": "2023-01-08T18:28:49.152Z"
   },
   {
    "duration": 4,
    "start_time": "2023-01-08T18:29:05.923Z"
   },
   {
    "duration": 5,
    "start_time": "2023-01-08T18:29:23.661Z"
   },
   {
    "duration": 3,
    "start_time": "2023-01-08T18:29:29.737Z"
   },
   {
    "duration": 4,
    "start_time": "2023-01-08T18:29:38.461Z"
   },
   {
    "duration": 118,
    "start_time": "2023-01-08T18:29:49.022Z"
   },
   {
    "duration": 122,
    "start_time": "2023-01-08T18:30:07.314Z"
   },
   {
    "duration": 414,
    "start_time": "2023-01-08T18:31:31.674Z"
   },
   {
    "duration": 435,
    "start_time": "2023-01-08T18:31:42.104Z"
   },
   {
    "duration": 46,
    "start_time": "2023-01-08T18:31:55.848Z"
   },
   {
    "duration": 477,
    "start_time": "2023-01-08T18:31:59.548Z"
   },
   {
    "duration": 290,
    "start_time": "2023-01-08T18:34:17.166Z"
   },
   {
    "duration": 303,
    "start_time": "2023-01-08T18:34:22.160Z"
   },
   {
    "duration": 593,
    "start_time": "2023-01-08T18:34:28.028Z"
   },
   {
    "duration": 457,
    "start_time": "2023-01-08T18:34:42.092Z"
   },
   {
    "duration": 615,
    "start_time": "2023-01-08T18:36:25.624Z"
   },
   {
    "duration": 593,
    "start_time": "2023-01-08T18:37:26.257Z"
   },
   {
    "duration": 745,
    "start_time": "2023-01-08T18:37:30.730Z"
   },
   {
    "duration": 664,
    "start_time": "2023-01-08T18:38:08.965Z"
   },
   {
    "duration": 573,
    "start_time": "2023-01-08T18:38:21.273Z"
   },
   {
    "duration": 591,
    "start_time": "2023-01-08T18:38:28.783Z"
   },
   {
    "duration": 722,
    "start_time": "2023-01-08T18:38:52.849Z"
   },
   {
    "duration": 563,
    "start_time": "2023-01-08T18:39:09.108Z"
   },
   {
    "duration": 652,
    "start_time": "2023-01-08T18:39:28.367Z"
   },
   {
    "duration": 646,
    "start_time": "2023-01-08T18:39:42.252Z"
   },
   {
    "duration": 705,
    "start_time": "2023-01-08T18:39:54.479Z"
   },
   {
    "duration": 486,
    "start_time": "2023-01-08T18:40:05.399Z"
   },
   {
    "duration": 647,
    "start_time": "2023-01-08T18:40:16.656Z"
   },
   {
    "duration": 676,
    "start_time": "2023-01-08T18:40:25.938Z"
   },
   {
    "duration": 628,
    "start_time": "2023-01-08T18:43:16.970Z"
   },
   {
    "duration": 124,
    "start_time": "2023-01-08T18:54:17.266Z"
   },
   {
    "duration": 125,
    "start_time": "2023-01-08T18:54:34.055Z"
   },
   {
    "duration": 124,
    "start_time": "2023-01-08T18:54:56.751Z"
   },
   {
    "duration": 126,
    "start_time": "2023-01-08T18:55:52.686Z"
   },
   {
    "duration": 136,
    "start_time": "2023-01-08T18:59:21.329Z"
   },
   {
    "duration": 116,
    "start_time": "2023-01-08T18:59:33.499Z"
   },
   {
    "duration": 540,
    "start_time": "2023-01-08T18:59:54.365Z"
   },
   {
    "duration": 8,
    "start_time": "2023-01-09T21:04:55.734Z"
   },
   {
    "duration": 69,
    "start_time": "2023-01-09T21:12:09.952Z"
   },
   {
    "duration": 3,
    "start_time": "2023-01-09T21:18:19.231Z"
   },
   {
    "duration": 1605,
    "start_time": "2023-01-09T21:22:02.791Z"
   },
   {
    "duration": 3024,
    "start_time": "2023-01-09T21:22:04.398Z"
   },
   {
    "duration": 240,
    "start_time": "2023-01-09T21:22:07.424Z"
   },
   {
    "duration": 88,
    "start_time": "2023-01-09T21:22:07.666Z"
   },
   {
    "duration": 11,
    "start_time": "2023-01-09T21:22:07.757Z"
   },
   {
    "duration": 13,
    "start_time": "2023-01-09T21:22:07.770Z"
   },
   {
    "duration": 9,
    "start_time": "2023-01-09T21:22:07.785Z"
   },
   {
    "duration": 13,
    "start_time": "2023-01-09T21:22:07.796Z"
   },
   {
    "duration": 30,
    "start_time": "2023-01-09T21:22:07.811Z"
   },
   {
    "duration": 101,
    "start_time": "2023-01-09T21:22:07.844Z"
   },
   {
    "duration": 21703,
    "start_time": "2023-01-09T21:22:07.947Z"
   },
   {
    "duration": 211,
    "start_time": "2023-01-09T21:22:29.652Z"
   },
   {
    "duration": 1986,
    "start_time": "2023-01-09T21:22:29.865Z"
   },
   {
    "duration": 490,
    "start_time": "2023-01-09T21:22:31.854Z"
   },
   {
    "duration": 837,
    "start_time": "2023-01-09T21:22:32.345Z"
   },
   {
    "duration": 707,
    "start_time": "2023-01-09T21:22:33.184Z"
   },
   {
    "duration": 151,
    "start_time": "2023-01-09T21:22:33.893Z"
   },
   {
    "duration": 4,
    "start_time": "2023-01-09T21:22:34.047Z"
   },
   {
    "duration": 874,
    "start_time": "2023-01-09T21:22:34.053Z"
   },
   {
    "duration": 7,
    "start_time": "2023-01-09T21:22:57.405Z"
   },
   {
    "duration": 9,
    "start_time": "2023-01-09T21:23:09.369Z"
   },
   {
    "duration": 12,
    "start_time": "2023-01-09T21:23:45.102Z"
   },
   {
    "duration": 5,
    "start_time": "2023-01-09T21:24:44.678Z"
   },
   {
    "duration": 7,
    "start_time": "2023-01-09T21:25:01.739Z"
   },
   {
    "duration": 12,
    "start_time": "2023-01-09T21:28:10.509Z"
   },
   {
    "duration": 6,
    "start_time": "2023-01-09T21:28:32.999Z"
   },
   {
    "duration": 103,
    "start_time": "2023-01-10T20:19:00.303Z"
   },
   {
    "duration": 1575,
    "start_time": "2023-01-10T20:19:05.801Z"
   },
   {
    "duration": 2064,
    "start_time": "2023-01-10T20:19:07.639Z"
   },
   {
    "duration": 103,
    "start_time": "2023-01-10T20:19:26.343Z"
   },
   {
    "duration": 8,
    "start_time": "2023-01-10T20:19:29.951Z"
   },
   {
    "duration": 7,
    "start_time": "2023-01-10T20:19:44.597Z"
   },
   {
    "duration": 35,
    "start_time": "2023-01-10T20:20:41.571Z"
   },
   {
    "duration": 21,
    "start_time": "2023-01-10T20:21:09.797Z"
   },
   {
    "duration": 21,
    "start_time": "2023-01-10T20:21:21.479Z"
   },
   {
    "duration": 22,
    "start_time": "2023-01-10T20:21:31.570Z"
   },
   {
    "duration": 68,
    "start_time": "2023-01-10T20:22:15.500Z"
   },
   {
    "duration": 13,
    "start_time": "2023-01-10T20:22:19.807Z"
   },
   {
    "duration": 9,
    "start_time": "2023-01-10T20:23:22.252Z"
   },
   {
    "duration": 1360,
    "start_time": "2023-01-10T20:23:32.022Z"
   },
   {
    "duration": 659,
    "start_time": "2023-01-10T20:23:33.384Z"
   },
   {
    "duration": 206,
    "start_time": "2023-01-10T20:23:34.045Z"
   },
   {
    "duration": 70,
    "start_time": "2023-01-10T20:23:34.252Z"
   },
   {
    "duration": 10,
    "start_time": "2023-01-10T20:23:34.324Z"
   },
   {
    "duration": 5,
    "start_time": "2023-01-10T20:23:34.335Z"
   },
   {
    "duration": 7,
    "start_time": "2023-01-10T20:23:34.342Z"
   },
   {
    "duration": 5,
    "start_time": "2023-01-10T20:23:34.350Z"
   },
   {
    "duration": 8,
    "start_time": "2023-01-10T20:23:34.356Z"
   },
   {
    "duration": 95,
    "start_time": "2023-01-10T20:23:34.366Z"
   },
   {
    "duration": 11730,
    "start_time": "2023-01-10T20:23:34.463Z"
   },
   {
    "duration": 239,
    "start_time": "2023-01-10T20:23:46.195Z"
   },
   {
    "duration": 1788,
    "start_time": "2023-01-10T20:23:46.436Z"
   },
   {
    "duration": 428,
    "start_time": "2023-01-10T20:23:48.227Z"
   },
   {
    "duration": 704,
    "start_time": "2023-01-10T20:23:48.657Z"
   },
   {
    "duration": 637,
    "start_time": "2023-01-10T20:23:49.363Z"
   },
   {
    "duration": 143,
    "start_time": "2023-01-10T20:23:50.002Z"
   },
   {
    "duration": 3,
    "start_time": "2023-01-10T20:23:50.147Z"
   },
   {
    "duration": 12,
    "start_time": "2023-01-10T20:23:50.152Z"
   },
   {
    "duration": 12,
    "start_time": "2023-01-10T20:23:50.166Z"
   },
   {
    "duration": 133,
    "start_time": "2023-01-10T20:23:50.180Z"
   },
   {
    "duration": 0,
    "start_time": "2023-01-10T20:23:50.314Z"
   },
   {
    "duration": 0,
    "start_time": "2023-01-10T20:23:50.316Z"
   },
   {
    "duration": 0,
    "start_time": "2023-01-10T20:23:50.318Z"
   },
   {
    "duration": 22,
    "start_time": "2023-01-10T20:23:57.704Z"
   },
   {
    "duration": 3,
    "start_time": "2023-01-10T20:29:23.284Z"
   },
   {
    "duration": 3,
    "start_time": "2023-01-10T20:38:07.947Z"
   },
   {
    "duration": 68,
    "start_time": "2023-01-10T20:42:11.973Z"
   },
   {
    "duration": 14,
    "start_time": "2023-01-10T20:42:27.402Z"
   },
   {
    "duration": 218,
    "start_time": "2023-01-10T20:43:11.015Z"
   },
   {
    "duration": 179,
    "start_time": "2023-01-10T20:44:11.556Z"
   },
   {
    "duration": 186,
    "start_time": "2023-01-10T20:46:04.665Z"
   },
   {
    "duration": 10,
    "start_time": "2023-01-10T20:50:09.266Z"
   },
   {
    "duration": 3,
    "start_time": "2023-01-10T20:50:28.784Z"
   },
   {
    "duration": 13,
    "start_time": "2023-01-10T20:51:54.709Z"
   },
   {
    "duration": 3,
    "start_time": "2023-01-10T20:52:48.969Z"
   },
   {
    "duration": 1455,
    "start_time": "2023-01-10T20:52:57.761Z"
   },
   {
    "duration": 1375,
    "start_time": "2023-01-10T20:53:11.545Z"
   },
   {
    "duration": 26,
    "start_time": "2023-01-10T20:53:37.736Z"
   },
   {
    "duration": 24,
    "start_time": "2023-01-10T20:54:11.802Z"
   },
   {
    "duration": 23,
    "start_time": "2023-01-10T20:54:25.300Z"
   },
   {
    "duration": 22,
    "start_time": "2023-01-10T20:54:47.681Z"
   },
   {
    "duration": 94,
    "start_time": "2023-01-10T20:56:30.719Z"
   },
   {
    "duration": 47,
    "start_time": "2023-01-10T20:56:42.066Z"
   },
   {
    "duration": 22,
    "start_time": "2023-01-10T20:56:48.813Z"
   },
   {
    "duration": 73,
    "start_time": "2023-01-10T20:57:05.641Z"
   },
   {
    "duration": 5,
    "start_time": "2023-01-10T20:57:35.016Z"
   },
   {
    "duration": 79,
    "start_time": "2023-01-10T20:57:36.943Z"
   },
   {
    "duration": 66,
    "start_time": "2023-01-11T16:16:23.778Z"
   },
   {
    "duration": 1612,
    "start_time": "2023-01-11T16:16:31.463Z"
   },
   {
    "duration": 2334,
    "start_time": "2023-01-11T16:16:33.077Z"
   },
   {
    "duration": 230,
    "start_time": "2023-01-11T16:16:35.413Z"
   },
   {
    "duration": 62,
    "start_time": "2023-01-11T16:16:35.645Z"
   },
   {
    "duration": 27,
    "start_time": "2023-01-11T16:16:35.709Z"
   },
   {
    "duration": 31,
    "start_time": "2023-01-11T16:16:35.739Z"
   },
   {
    "duration": 36,
    "start_time": "2023-01-11T16:16:35.772Z"
   },
   {
    "duration": 29,
    "start_time": "2023-01-11T16:16:35.810Z"
   },
   {
    "duration": 40,
    "start_time": "2023-01-11T16:16:35.846Z"
   },
   {
    "duration": 70,
    "start_time": "2023-01-11T16:16:35.887Z"
   },
   {
    "duration": 23031,
    "start_time": "2023-01-11T16:16:35.959Z"
   },
   {
    "duration": 253,
    "start_time": "2023-01-11T16:16:58.991Z"
   },
   {
    "duration": 2003,
    "start_time": "2023-01-11T16:16:59.246Z"
   },
   {
    "duration": 522,
    "start_time": "2023-01-11T16:17:01.251Z"
   },
   {
    "duration": 843,
    "start_time": "2023-01-11T16:17:01.776Z"
   },
   {
    "duration": 786,
    "start_time": "2023-01-11T16:17:02.622Z"
   },
   {
    "duration": 153,
    "start_time": "2023-01-11T16:17:03.411Z"
   },
   {
    "duration": 4,
    "start_time": "2023-01-11T16:17:03.565Z"
   },
   {
    "duration": 134,
    "start_time": "2023-01-11T16:17:03.571Z"
   },
   {
    "duration": 0,
    "start_time": "2023-01-11T16:17:03.707Z"
   },
   {
    "duration": 0,
    "start_time": "2023-01-11T16:17:03.708Z"
   },
   {
    "duration": 0,
    "start_time": "2023-01-11T16:17:03.709Z"
   },
   {
    "duration": 0,
    "start_time": "2023-01-11T16:17:03.710Z"
   },
   {
    "duration": 0,
    "start_time": "2023-01-11T16:17:03.711Z"
   },
   {
    "duration": 10,
    "start_time": "2023-01-11T16:17:21.468Z"
   },
   {
    "duration": 5,
    "start_time": "2023-01-11T16:17:27.179Z"
   },
   {
    "duration": 178,
    "start_time": "2023-01-11T16:17:49.847Z"
   },
   {
    "duration": 592,
    "start_time": "2023-01-11T16:18:07.956Z"
   },
   {
    "duration": 486,
    "start_time": "2023-01-11T16:18:33.341Z"
   },
   {
    "duration": 274,
    "start_time": "2023-01-11T16:19:13.458Z"
   },
   {
    "duration": 252,
    "start_time": "2023-01-11T16:19:20.176Z"
   },
   {
    "duration": 7,
    "start_time": "2023-01-11T16:24:37.322Z"
   },
   {
    "duration": 783,
    "start_time": "2023-01-11T16:24:43.740Z"
   },
   {
    "duration": 690,
    "start_time": "2023-01-11T16:24:49.537Z"
   },
   {
    "duration": 83,
    "start_time": "2023-01-11T16:25:10.817Z"
   },
   {
    "duration": 2206,
    "start_time": "2023-01-11T16:25:15.844Z"
   },
   {
    "duration": 2542,
    "start_time": "2023-01-11T16:25:22.288Z"
   },
   {
    "duration": 12,
    "start_time": "2023-01-11T16:38:22.899Z"
   },
   {
    "duration": 1415,
    "start_time": "2023-01-11T16:38:37.265Z"
   },
   {
    "duration": 758,
    "start_time": "2023-01-11T16:38:38.682Z"
   },
   {
    "duration": 247,
    "start_time": "2023-01-11T16:38:39.450Z"
   },
   {
    "duration": 98,
    "start_time": "2023-01-11T16:38:39.698Z"
   },
   {
    "duration": 32,
    "start_time": "2023-01-11T16:38:39.799Z"
   },
   {
    "duration": 7,
    "start_time": "2023-01-11T16:38:39.836Z"
   },
   {
    "duration": 8,
    "start_time": "2023-01-11T16:38:39.845Z"
   },
   {
    "duration": 24,
    "start_time": "2023-01-11T16:38:39.855Z"
   },
   {
    "duration": 15,
    "start_time": "2023-01-11T16:38:39.882Z"
   },
   {
    "duration": 47,
    "start_time": "2023-01-11T16:38:39.899Z"
   },
   {
    "duration": 23021,
    "start_time": "2023-01-11T16:38:39.950Z"
   },
   {
    "duration": 289,
    "start_time": "2023-01-11T16:39:02.973Z"
   },
   {
    "duration": 2307,
    "start_time": "2023-01-11T16:39:03.264Z"
   },
   {
    "duration": 622,
    "start_time": "2023-01-11T16:39:05.574Z"
   },
   {
    "duration": 735,
    "start_time": "2023-01-11T16:39:06.197Z"
   },
   {
    "duration": 695,
    "start_time": "2023-01-11T16:39:06.936Z"
   },
   {
    "duration": 158,
    "start_time": "2023-01-11T16:39:07.632Z"
   },
   {
    "duration": 4,
    "start_time": "2023-01-11T16:39:07.792Z"
   },
   {
    "duration": 131,
    "start_time": "2023-01-11T16:39:07.798Z"
   },
   {
    "duration": 0,
    "start_time": "2023-01-11T16:39:07.931Z"
   },
   {
    "duration": 0,
    "start_time": "2023-01-11T16:39:07.932Z"
   },
   {
    "duration": 0,
    "start_time": "2023-01-11T16:39:07.933Z"
   },
   {
    "duration": 0,
    "start_time": "2023-01-11T16:39:07.934Z"
   },
   {
    "duration": 0,
    "start_time": "2023-01-11T16:39:07.935Z"
   },
   {
    "duration": 9,
    "start_time": "2023-01-11T16:40:08.110Z"
   },
   {
    "duration": 6,
    "start_time": "2023-01-11T16:40:09.614Z"
   },
   {
    "duration": 1819,
    "start_time": "2023-01-11T16:40:19.816Z"
   },
   {
    "duration": 37,
    "start_time": "2023-01-11T16:40:23.448Z"
   },
   {
    "duration": 16,
    "start_time": "2023-01-11T16:40:51.879Z"
   },
   {
    "duration": 25,
    "start_time": "2023-01-11T16:41:31.684Z"
   },
   {
    "duration": 35,
    "start_time": "2023-01-11T16:42:50.610Z"
   },
   {
    "duration": 9186,
    "start_time": "2023-01-11T16:43:31.258Z"
   },
   {
    "duration": 86,
    "start_time": "2023-01-11T16:44:09.963Z"
   },
   {
    "duration": 7924,
    "start_time": "2023-01-11T16:44:14.541Z"
   },
   {
    "duration": 15627,
    "start_time": "2023-01-11T16:44:52.838Z"
   },
   {
    "duration": 27522,
    "start_time": "2023-01-11T16:45:34.035Z"
   },
   {
    "duration": 19501,
    "start_time": "2023-01-11T16:46:25.668Z"
   },
   {
    "duration": 9,
    "start_time": "2023-01-11T16:51:23.981Z"
   },
   {
    "duration": 9,
    "start_time": "2023-01-11T16:51:37.241Z"
   },
   {
    "duration": 17,
    "start_time": "2023-01-11T16:51:44.414Z"
   },
   {
    "duration": 31,
    "start_time": "2023-01-11T16:52:20.312Z"
   },
   {
    "duration": 46,
    "start_time": "2023-01-11T16:53:23.785Z"
   },
   {
    "duration": 21,
    "start_time": "2023-01-11T16:54:03.823Z"
   },
   {
    "duration": 30,
    "start_time": "2023-01-11T16:54:08.601Z"
   },
   {
    "duration": 34,
    "start_time": "2023-01-11T16:54:37.527Z"
   },
   {
    "duration": 47,
    "start_time": "2023-01-11T16:54:51.320Z"
   },
   {
    "duration": 29,
    "start_time": "2023-01-11T16:55:02.631Z"
   },
   {
    "duration": 33,
    "start_time": "2023-01-11T16:55:56.069Z"
   },
   {
    "duration": 20,
    "start_time": "2023-01-11T16:58:22.231Z"
   },
   {
    "duration": 55,
    "start_time": "2023-01-11T16:58:26.267Z"
   },
   {
    "duration": 39,
    "start_time": "2023-01-11T16:58:39.335Z"
   },
   {
    "duration": 40,
    "start_time": "2023-01-11T16:59:01.948Z"
   },
   {
    "duration": 34,
    "start_time": "2023-01-11T16:59:11.078Z"
   },
   {
    "duration": 37,
    "start_time": "2023-01-11T16:59:40.488Z"
   },
   {
    "duration": 58,
    "start_time": "2023-01-11T16:59:48.763Z"
   },
   {
    "duration": 26,
    "start_time": "2023-01-11T17:00:04.785Z"
   },
   {
    "duration": 21,
    "start_time": "2023-01-11T17:00:17.716Z"
   },
   {
    "duration": 19557,
    "start_time": "2023-01-11T17:09:33.900Z"
   },
   {
    "duration": 26,
    "start_time": "2023-01-11T17:16:01.821Z"
   },
   {
    "duration": 11,
    "start_time": "2023-01-11T17:16:06.476Z"
   },
   {
    "duration": 70,
    "start_time": "2023-01-11T17:16:09.648Z"
   },
   {
    "duration": 18,
    "start_time": "2023-01-11T17:16:14.722Z"
   },
   {
    "duration": 9,
    "start_time": "2023-01-11T17:16:35.356Z"
   },
   {
    "duration": 15,
    "start_time": "2023-01-11T17:17:44.396Z"
   },
   {
    "duration": 13548,
    "start_time": "2023-01-11T17:25:02.271Z"
   },
   {
    "duration": 12,
    "start_time": "2023-01-11T17:26:35.985Z"
   },
   {
    "duration": 12,
    "start_time": "2023-01-11T17:26:54.677Z"
   },
   {
    "duration": 4,
    "start_time": "2023-01-11T17:26:59.737Z"
   },
   {
    "duration": 13465,
    "start_time": "2023-01-11T17:27:08.282Z"
   },
   {
    "duration": 13364,
    "start_time": "2023-01-11T17:27:31.041Z"
   },
   {
    "duration": 13687,
    "start_time": "2023-01-11T17:29:33.448Z"
   },
   {
    "duration": 13774,
    "start_time": "2023-01-11T17:30:03.744Z"
   },
   {
    "duration": 116193,
    "start_time": "2023-01-11T17:32:05.867Z"
   },
   {
    "duration": 3392,
    "start_time": "2023-01-11T17:34:12.394Z"
   },
   {
    "duration": 241853,
    "start_time": "2023-01-11T17:35:43.383Z"
   },
   {
    "duration": 28377,
    "start_time": "2023-01-11T17:40:00.713Z"
   },
   {
    "duration": 9,
    "start_time": "2023-01-11T17:41:17.457Z"
   },
   {
    "duration": 12875,
    "start_time": "2023-01-11T17:41:37.925Z"
   },
   {
    "duration": 4,
    "start_time": "2023-01-11T17:42:07.584Z"
   },
   {
    "duration": 12923,
    "start_time": "2023-01-11T17:42:12.469Z"
   },
   {
    "duration": 12786,
    "start_time": "2023-01-11T17:42:27.417Z"
   },
   {
    "duration": 4,
    "start_time": "2023-01-11T17:42:45.059Z"
   },
   {
    "duration": 5,
    "start_time": "2023-01-11T17:43:19.046Z"
   },
   {
    "duration": 4,
    "start_time": "2023-01-11T17:43:35.979Z"
   },
   {
    "duration": 73,
    "start_time": "2023-01-11T17:49:21.755Z"
   },
   {
    "duration": 40125,
    "start_time": "2023-01-11T17:49:33.323Z"
   },
   {
    "duration": 20020,
    "start_time": "2023-01-11T17:51:42.347Z"
   },
   {
    "duration": 20187,
    "start_time": "2023-01-11T17:52:02.370Z"
   },
   {
    "duration": 4,
    "start_time": "2023-01-11T17:52:26.436Z"
   },
   {
    "duration": 126599,
    "start_time": "2023-01-11T17:53:48.825Z"
   },
   {
    "duration": 77603,
    "start_time": "2023-01-11T17:55:55.427Z"
   },
   {
    "duration": 48526,
    "start_time": "2023-01-11T17:59:10.044Z"
   },
   {
    "duration": 34713,
    "start_time": "2023-01-11T18:00:00.221Z"
   },
   {
    "duration": 72529,
    "start_time": "2023-01-11T18:02:29.200Z"
   },
   {
    "duration": 43365,
    "start_time": "2023-01-11T18:03:50.575Z"
   },
   {
    "duration": 4,
    "start_time": "2023-01-11T18:10:24.227Z"
   },
   {
    "duration": 3,
    "start_time": "2023-01-11T18:10:25.910Z"
   },
   {
    "duration": 40665,
    "start_time": "2023-01-11T18:10:40.870Z"
   },
   {
    "duration": 5,
    "start_time": "2023-01-11T18:11:28.572Z"
   },
   {
    "duration": 70619,
    "start_time": "2023-01-11T18:14:11.403Z"
   },
   {
    "duration": 41911,
    "start_time": "2023-01-11T18:15:22.025Z"
   },
   {
    "duration": 88,
    "start_time": "2023-01-11T18:16:03.938Z"
   },
   {
    "duration": 40012,
    "start_time": "2023-01-11T18:28:49.042Z"
   },
   {
    "duration": 76041,
    "start_time": "2023-01-11T18:35:50.083Z"
   },
   {
    "duration": 43987,
    "start_time": "2023-01-11T18:37:06.135Z"
   },
   {
    "duration": 44372,
    "start_time": "2023-01-11T18:38:01.162Z"
   },
   {
    "duration": 4,
    "start_time": "2023-01-11T18:42:38.639Z"
   },
   {
    "duration": 10,
    "start_time": "2023-01-11T18:46:41.109Z"
   },
   {
    "duration": 9,
    "start_time": "2023-01-11T18:46:53.089Z"
   },
   {
    "duration": 6735,
    "start_time": "2023-01-11T18:47:23.592Z"
   },
   {
    "duration": 9,
    "start_time": "2023-01-11T18:48:51.706Z"
   },
   {
    "duration": 1818,
    "start_time": "2023-01-11T18:50:08.106Z"
   },
   {
    "duration": 17,
    "start_time": "2023-01-11T18:50:33.085Z"
   },
   {
    "duration": 9,
    "start_time": "2023-01-11T18:51:51.611Z"
   },
   {
    "duration": 13,
    "start_time": "2023-01-11T18:51:59.894Z"
   },
   {
    "duration": 5,
    "start_time": "2023-01-11T18:52:01.331Z"
   },
   {
    "duration": 9,
    "start_time": "2023-01-11T18:52:15.308Z"
   },
   {
    "duration": 8,
    "start_time": "2023-01-11T18:52:17.128Z"
   },
   {
    "duration": 4,
    "start_time": "2023-01-11T18:54:29.388Z"
   },
   {
    "duration": 5,
    "start_time": "2023-01-11T18:54:35.803Z"
   },
   {
    "duration": 9,
    "start_time": "2023-01-11T18:57:56.212Z"
   },
   {
    "duration": 5,
    "start_time": "2023-01-11T18:58:08.531Z"
   },
   {
    "duration": 8,
    "start_time": "2023-01-11T18:58:15.343Z"
   },
   {
    "duration": 22,
    "start_time": "2023-01-11T18:58:49.252Z"
   },
   {
    "duration": 21,
    "start_time": "2023-01-11T18:59:04.582Z"
   },
   {
    "duration": 13,
    "start_time": "2023-01-11T18:59:53.095Z"
   },
   {
    "duration": 21,
    "start_time": "2023-01-11T19:00:16.466Z"
   },
   {
    "duration": 17,
    "start_time": "2023-01-11T19:01:07.309Z"
   },
   {
    "duration": 24,
    "start_time": "2023-01-11T19:01:46.379Z"
   },
   {
    "duration": 22,
    "start_time": "2023-01-11T19:01:57.878Z"
   },
   {
    "duration": 21,
    "start_time": "2023-01-11T19:02:05.926Z"
   },
   {
    "duration": 22,
    "start_time": "2023-01-11T19:02:45.706Z"
   },
   {
    "duration": 61,
    "start_time": "2023-01-11T19:03:50.040Z"
   },
   {
    "duration": 29,
    "start_time": "2023-01-11T19:04:04.272Z"
   },
   {
    "duration": 8,
    "start_time": "2023-01-11T19:04:33.427Z"
   },
   {
    "duration": 10,
    "start_time": "2023-01-11T19:06:27.530Z"
   },
   {
    "duration": 6,
    "start_time": "2023-01-11T19:06:42.210Z"
   },
   {
    "duration": 7,
    "start_time": "2023-01-11T19:06:48.055Z"
   },
   {
    "duration": 10,
    "start_time": "2023-01-11T19:07:07.469Z"
   },
   {
    "duration": 9,
    "start_time": "2023-01-11T19:09:04.617Z"
   },
   {
    "duration": 6,
    "start_time": "2023-01-11T19:10:56.437Z"
   },
   {
    "duration": 17,
    "start_time": "2023-01-11T19:11:22.058Z"
   },
   {
    "duration": 18,
    "start_time": "2023-01-11T19:12:14.121Z"
   },
   {
    "duration": 6,
    "start_time": "2023-01-11T19:12:44.506Z"
   },
   {
    "duration": 30,
    "start_time": "2023-01-11T19:13:21.654Z"
   },
   {
    "duration": 14,
    "start_time": "2023-01-11T19:13:39.998Z"
   },
   {
    "duration": 20,
    "start_time": "2023-01-11T19:14:25.843Z"
   },
   {
    "duration": 12,
    "start_time": "2023-01-11T19:14:55.358Z"
   },
   {
    "duration": 23,
    "start_time": "2023-01-11T19:14:59.873Z"
   },
   {
    "duration": 28,
    "start_time": "2023-01-11T19:15:13.234Z"
   },
   {
    "duration": 23,
    "start_time": "2023-01-11T19:15:33.039Z"
   },
   {
    "duration": 37,
    "start_time": "2023-01-11T19:16:49.822Z"
   },
   {
    "duration": 12,
    "start_time": "2023-01-11T19:17:12.388Z"
   },
   {
    "duration": 12,
    "start_time": "2023-01-11T19:17:42.801Z"
   },
   {
    "duration": 18,
    "start_time": "2023-01-11T19:17:51.689Z"
   },
   {
    "duration": 10,
    "start_time": "2023-01-11T19:19:42.167Z"
   },
   {
    "duration": 101,
    "start_time": "2023-01-11T19:19:47.024Z"
   },
   {
    "duration": 2947,
    "start_time": "2023-01-11T19:19:57.533Z"
   },
   {
    "duration": 10,
    "start_time": "2023-01-11T19:20:53.838Z"
   },
   {
    "duration": 15,
    "start_time": "2023-01-11T19:21:01.821Z"
   },
   {
    "duration": 16,
    "start_time": "2023-01-11T19:22:23.752Z"
   },
   {
    "duration": 16,
    "start_time": "2023-01-11T19:22:56.222Z"
   },
   {
    "duration": 16,
    "start_time": "2023-01-11T19:23:51.769Z"
   },
   {
    "duration": 9,
    "start_time": "2023-01-11T19:24:09.928Z"
   },
   {
    "duration": 15,
    "start_time": "2023-01-11T19:24:20.587Z"
   },
   {
    "duration": 12,
    "start_time": "2023-01-11T19:26:15.224Z"
   },
   {
    "duration": 11,
    "start_time": "2023-01-11T19:26:29.508Z"
   },
   {
    "duration": 8,
    "start_time": "2023-01-11T19:26:41.487Z"
   },
   {
    "duration": 8,
    "start_time": "2023-01-11T19:27:39.561Z"
   },
   {
    "duration": 8,
    "start_time": "2023-01-11T19:30:22.495Z"
   },
   {
    "duration": 5,
    "start_time": "2023-01-11T19:31:05.672Z"
   },
   {
    "duration": 10,
    "start_time": "2023-01-11T19:31:21.956Z"
   },
   {
    "duration": 396,
    "start_time": "2023-01-11T19:31:26.638Z"
   },
   {
    "duration": 11,
    "start_time": "2023-01-11T19:32:45.803Z"
   },
   {
    "duration": 15,
    "start_time": "2023-01-11T19:33:01.292Z"
   },
   {
    "duration": 16,
    "start_time": "2023-01-11T19:33:04.599Z"
   },
   {
    "duration": 18,
    "start_time": "2023-01-11T19:33:13.830Z"
   },
   {
    "duration": 9,
    "start_time": "2023-01-11T19:33:15.914Z"
   },
   {
    "duration": 9,
    "start_time": "2023-01-11T19:33:19.492Z"
   },
   {
    "duration": 11,
    "start_time": "2023-01-11T19:33:21.038Z"
   },
   {
    "duration": 9,
    "start_time": "2023-01-11T19:34:26.724Z"
   },
   {
    "duration": 6,
    "start_time": "2023-01-11T19:34:30.007Z"
   },
   {
    "duration": 10,
    "start_time": "2023-01-11T19:34:31.660Z"
   },
   {
    "duration": 2,
    "start_time": "2023-01-11T19:34:32.928Z"
   },
   {
    "duration": 4,
    "start_time": "2023-01-11T19:34:41.288Z"
   },
   {
    "duration": 11,
    "start_time": "2023-01-11T19:34:50.542Z"
   },
   {
    "duration": 9,
    "start_time": "2023-01-11T19:34:52.286Z"
   },
   {
    "duration": 7,
    "start_time": "2023-01-11T19:37:56.146Z"
   },
   {
    "duration": 27,
    "start_time": "2023-01-11T19:39:11.817Z"
   },
   {
    "duration": 11,
    "start_time": "2023-01-11T19:57:36.118Z"
   },
   {
    "duration": 9,
    "start_time": "2023-01-11T19:59:18.944Z"
   },
   {
    "duration": 9,
    "start_time": "2023-01-11T19:59:32.201Z"
   },
   {
    "duration": 4,
    "start_time": "2023-01-11T19:59:36.073Z"
   },
   {
    "duration": 9,
    "start_time": "2023-01-11T19:59:53.239Z"
   },
   {
    "duration": 22,
    "start_time": "2023-01-11T20:00:09.521Z"
   },
   {
    "duration": 5,
    "start_time": "2023-01-11T20:00:12.134Z"
   },
   {
    "duration": 8,
    "start_time": "2023-01-11T20:02:04.188Z"
   },
   {
    "duration": 8,
    "start_time": "2023-01-11T20:02:31.525Z"
   },
   {
    "duration": 4,
    "start_time": "2023-01-11T20:02:52.680Z"
   },
   {
    "duration": 5,
    "start_time": "2023-01-11T20:04:30.841Z"
   },
   {
    "duration": 5,
    "start_time": "2023-01-11T20:04:48.003Z"
   },
   {
    "duration": 10,
    "start_time": "2023-01-11T20:05:57.097Z"
   },
   {
    "duration": 7,
    "start_time": "2023-01-11T20:06:08.218Z"
   },
   {
    "duration": 5,
    "start_time": "2023-01-11T20:06:09.452Z"
   },
   {
    "duration": 4,
    "start_time": "2023-01-11T20:06:37.209Z"
   },
   {
    "duration": 6,
    "start_time": "2023-01-11T20:06:44.902Z"
   },
   {
    "duration": 9,
    "start_time": "2023-01-11T20:06:58.120Z"
   },
   {
    "duration": 4,
    "start_time": "2023-01-11T20:13:37.943Z"
   },
   {
    "duration": 4,
    "start_time": "2023-01-11T20:13:43.155Z"
   },
   {
    "duration": 5,
    "start_time": "2023-01-11T20:23:58.049Z"
   },
   {
    "duration": 4,
    "start_time": "2023-01-11T20:26:59.811Z"
   },
   {
    "duration": 16,
    "start_time": "2023-01-11T20:27:03.346Z"
   },
   {
    "duration": 12,
    "start_time": "2023-01-11T20:27:05.748Z"
   },
   {
    "duration": 1468,
    "start_time": "2023-01-11T20:27:17.164Z"
   },
   {
    "duration": 780,
    "start_time": "2023-01-11T20:27:18.635Z"
   },
   {
    "duration": 27,
    "start_time": "2023-01-11T20:27:19.417Z"
   },
   {
    "duration": 262,
    "start_time": "2023-01-11T20:27:19.446Z"
   },
   {
    "duration": 71,
    "start_time": "2023-01-11T20:27:19.710Z"
   },
   {
    "duration": 10,
    "start_time": "2023-01-11T20:27:19.783Z"
   },
   {
    "duration": 72,
    "start_time": "2023-01-11T20:27:19.794Z"
   },
   {
    "duration": 55,
    "start_time": "2023-01-11T20:27:19.872Z"
   },
   {
    "duration": 46,
    "start_time": "2023-01-11T20:27:19.928Z"
   },
   {
    "duration": 27,
    "start_time": "2023-01-11T20:27:19.976Z"
   },
   {
    "duration": 66,
    "start_time": "2023-01-11T20:27:20.005Z"
   },
   {
    "duration": 18495,
    "start_time": "2023-01-11T20:27:20.073Z"
   },
   {
    "duration": 271,
    "start_time": "2023-01-11T20:27:38.570Z"
   },
   {
    "duration": 1910,
    "start_time": "2023-01-11T20:27:38.844Z"
   },
   {
    "duration": 466,
    "start_time": "2023-01-11T20:27:40.756Z"
   },
   {
    "duration": 747,
    "start_time": "2023-01-11T20:27:41.224Z"
   },
   {
    "duration": 681,
    "start_time": "2023-01-11T20:27:41.973Z"
   },
   {
    "duration": 130,
    "start_time": "2023-01-11T20:27:42.656Z"
   },
   {
    "duration": 4,
    "start_time": "2023-01-11T20:27:42.788Z"
   },
   {
    "duration": 10,
    "start_time": "2023-01-11T20:27:42.793Z"
   },
   {
    "duration": 31,
    "start_time": "2023-01-11T20:27:42.805Z"
   },
   {
    "duration": 1500,
    "start_time": "2023-01-11T20:27:42.838Z"
   },
   {
    "duration": 276,
    "start_time": "2023-01-11T20:27:44.342Z"
   },
   {
    "duration": 0,
    "start_time": "2023-01-11T20:27:44.620Z"
   },
   {
    "duration": 1,
    "start_time": "2023-01-11T20:27:44.621Z"
   },
   {
    "duration": 0,
    "start_time": "2023-01-11T20:27:44.623Z"
   },
   {
    "duration": 0,
    "start_time": "2023-01-11T20:27:44.624Z"
   },
   {
    "duration": 0,
    "start_time": "2023-01-11T20:27:44.625Z"
   },
   {
    "duration": 0,
    "start_time": "2023-01-11T20:27:44.626Z"
   },
   {
    "duration": 0,
    "start_time": "2023-01-11T20:27:44.628Z"
   },
   {
    "duration": 0,
    "start_time": "2023-01-11T20:27:44.629Z"
   },
   {
    "duration": 0,
    "start_time": "2023-01-11T20:27:44.630Z"
   },
   {
    "duration": 0,
    "start_time": "2023-01-11T20:27:44.631Z"
   },
   {
    "duration": 0,
    "start_time": "2023-01-11T20:27:44.632Z"
   },
   {
    "duration": 0,
    "start_time": "2023-01-11T20:27:44.633Z"
   },
   {
    "duration": 0,
    "start_time": "2023-01-11T20:27:44.635Z"
   },
   {
    "duration": 0,
    "start_time": "2023-01-11T20:27:44.636Z"
   },
   {
    "duration": 0,
    "start_time": "2023-01-11T20:27:44.637Z"
   },
   {
    "duration": 0,
    "start_time": "2023-01-11T20:27:44.638Z"
   },
   {
    "duration": 0,
    "start_time": "2023-01-11T20:27:44.639Z"
   },
   {
    "duration": 0,
    "start_time": "2023-01-11T20:27:44.640Z"
   },
   {
    "duration": 0,
    "start_time": "2023-01-11T20:27:44.641Z"
   },
   {
    "duration": 0,
    "start_time": "2023-01-11T20:27:44.643Z"
   },
   {
    "duration": 0,
    "start_time": "2023-01-11T20:27:44.644Z"
   },
   {
    "duration": 0,
    "start_time": "2023-01-11T20:27:44.645Z"
   },
   {
    "duration": 0,
    "start_time": "2023-01-11T20:27:44.647Z"
   },
   {
    "duration": 0,
    "start_time": "2023-01-11T20:27:44.648Z"
   },
   {
    "duration": 0,
    "start_time": "2023-01-11T20:27:44.650Z"
   },
   {
    "duration": 0,
    "start_time": "2023-01-11T20:27:44.651Z"
   },
   {
    "duration": 0,
    "start_time": "2023-01-11T20:27:44.652Z"
   },
   {
    "duration": 0,
    "start_time": "2023-01-11T20:27:44.653Z"
   },
   {
    "duration": 0,
    "start_time": "2023-01-11T20:27:44.655Z"
   },
   {
    "duration": 39685,
    "start_time": "2023-01-11T20:28:55.282Z"
   },
   {
    "duration": 20191,
    "start_time": "2023-01-11T20:29:34.970Z"
   },
   {
    "duration": 20089,
    "start_time": "2023-01-11T20:29:55.163Z"
   },
   {
    "duration": 13498,
    "start_time": "2023-01-11T20:30:15.253Z"
   },
   {
    "duration": 13550,
    "start_time": "2023-01-11T20:30:28.753Z"
   },
   {
    "duration": 4,
    "start_time": "2023-01-11T20:30:42.305Z"
   },
   {
    "duration": 15,
    "start_time": "2023-01-11T20:30:42.311Z"
   },
   {
    "duration": 21,
    "start_time": "2023-01-11T20:30:42.327Z"
   },
   {
    "duration": 201236,
    "start_time": "2023-01-11T20:30:42.351Z"
   },
   {
    "duration": 1496,
    "start_time": "2023-01-11T20:34:59.860Z"
   },
   {
    "duration": 763,
    "start_time": "2023-01-11T20:35:01.358Z"
   },
   {
    "duration": 25,
    "start_time": "2023-01-11T20:35:02.123Z"
   },
   {
    "duration": 253,
    "start_time": "2023-01-11T20:35:02.150Z"
   },
   {
    "duration": 71,
    "start_time": "2023-01-11T20:35:02.405Z"
   },
   {
    "duration": 11,
    "start_time": "2023-01-11T20:35:02.478Z"
   },
   {
    "duration": 6,
    "start_time": "2023-01-11T20:35:02.491Z"
   },
   {
    "duration": 37,
    "start_time": "2023-01-11T20:35:02.498Z"
   },
   {
    "duration": 15,
    "start_time": "2023-01-11T20:35:02.536Z"
   },
   {
    "duration": 13,
    "start_time": "2023-01-11T20:35:02.553Z"
   },
   {
    "duration": 35,
    "start_time": "2023-01-11T20:35:02.569Z"
   },
   {
    "duration": 16215,
    "start_time": "2023-01-11T20:35:02.606Z"
   },
   {
    "duration": 219,
    "start_time": "2023-01-11T20:35:18.826Z"
   },
   {
    "duration": 2079,
    "start_time": "2023-01-11T20:35:19.049Z"
   },
   {
    "duration": 515,
    "start_time": "2023-01-11T20:35:21.131Z"
   },
   {
    "duration": 762,
    "start_time": "2023-01-11T20:35:21.648Z"
   },
   {
    "duration": 762,
    "start_time": "2023-01-11T20:35:22.412Z"
   },
   {
    "duration": 138,
    "start_time": "2023-01-11T20:35:23.177Z"
   },
   {
    "duration": 11,
    "start_time": "2023-01-11T20:35:23.316Z"
   },
   {
    "duration": 22,
    "start_time": "2023-01-11T20:35:23.328Z"
   },
   {
    "duration": 12,
    "start_time": "2023-01-11T20:35:23.352Z"
   },
   {
    "duration": 2263,
    "start_time": "2023-01-11T20:35:23.365Z"
   },
   {
    "duration": 40027,
    "start_time": "2023-01-11T20:35:25.630Z"
   },
   {
    "duration": 19617,
    "start_time": "2023-01-11T20:36:05.659Z"
   },
   {
    "duration": 20076,
    "start_time": "2023-01-11T20:36:25.278Z"
   },
   {
    "duration": 14005,
    "start_time": "2023-01-11T20:36:45.356Z"
   },
   {
    "duration": 13492,
    "start_time": "2023-01-11T20:36:59.362Z"
   },
   {
    "duration": 4,
    "start_time": "2023-01-11T20:37:12.856Z"
   },
   {
    "duration": 10,
    "start_time": "2023-01-11T20:37:12.862Z"
   },
   {
    "duration": 7,
    "start_time": "2023-01-11T20:37:12.873Z"
   },
   {
    "duration": 224508,
    "start_time": "2023-01-11T20:37:12.882Z"
   },
   {
    "duration": 1592,
    "start_time": "2023-01-11T20:41:49.867Z"
   },
   {
    "duration": 836,
    "start_time": "2023-01-11T20:41:51.461Z"
   },
   {
    "duration": 35,
    "start_time": "2023-01-11T20:41:52.298Z"
   },
   {
    "duration": 261,
    "start_time": "2023-01-11T20:41:52.335Z"
   },
   {
    "duration": 78,
    "start_time": "2023-01-11T20:41:52.598Z"
   },
   {
    "duration": 10,
    "start_time": "2023-01-11T20:41:52.678Z"
   },
   {
    "duration": 51,
    "start_time": "2023-01-11T20:41:52.690Z"
   },
   {
    "duration": 50,
    "start_time": "2023-01-11T20:41:52.743Z"
   },
   {
    "duration": 19,
    "start_time": "2023-01-11T20:41:52.795Z"
   },
   {
    "duration": 62,
    "start_time": "2023-01-11T20:41:52.816Z"
   },
   {
    "duration": 63,
    "start_time": "2023-01-11T20:41:52.880Z"
   },
   {
    "duration": 21924,
    "start_time": "2023-01-11T20:41:52.945Z"
   },
   {
    "duration": 397,
    "start_time": "2023-01-11T20:42:14.871Z"
   },
   {
    "duration": 2079,
    "start_time": "2023-01-11T20:42:15.272Z"
   },
   {
    "duration": 496,
    "start_time": "2023-01-11T20:42:17.354Z"
   },
   {
    "duration": 799,
    "start_time": "2023-01-11T20:42:17.852Z"
   },
   {
    "duration": 839,
    "start_time": "2023-01-11T20:42:18.653Z"
   },
   {
    "duration": 140,
    "start_time": "2023-01-11T20:42:19.494Z"
   },
   {
    "duration": 4,
    "start_time": "2023-01-11T20:42:19.636Z"
   },
   {
    "duration": 19,
    "start_time": "2023-01-11T20:42:19.642Z"
   },
   {
    "duration": 15,
    "start_time": "2023-01-11T20:42:19.663Z"
   },
   {
    "duration": 2847,
    "start_time": "2023-01-11T20:42:19.680Z"
   },
   {
    "duration": 40221,
    "start_time": "2023-01-11T20:42:22.538Z"
   },
   {
    "duration": 20095,
    "start_time": "2023-01-11T20:43:02.761Z"
   },
   {
    "duration": 20183,
    "start_time": "2023-01-11T20:43:22.858Z"
   },
   {
    "duration": 14029,
    "start_time": "2023-01-11T20:43:43.045Z"
   },
   {
    "duration": 13793,
    "start_time": "2023-01-11T20:43:57.076Z"
   },
   {
    "duration": 4,
    "start_time": "2023-01-11T20:44:10.871Z"
   },
   {
    "duration": 9,
    "start_time": "2023-01-11T20:44:10.878Z"
   },
   {
    "duration": 9,
    "start_time": "2023-01-11T20:44:10.888Z"
   },
   {
    "duration": 1537,
    "start_time": "2023-01-11T20:47:46.739Z"
   },
   {
    "duration": 798,
    "start_time": "2023-01-11T20:47:50.947Z"
   },
   {
    "duration": 7,
    "start_time": "2023-01-11T20:48:02.330Z"
   },
   {
    "duration": 843,
    "start_time": "2023-01-11T20:48:02.341Z"
   },
   {
    "duration": 17,
    "start_time": "2023-01-11T20:48:03.185Z"
   },
   {
    "duration": 238,
    "start_time": "2023-01-11T20:48:03.204Z"
   },
   {
    "duration": 97,
    "start_time": "2023-01-11T20:48:03.445Z"
   },
   {
    "duration": 10,
    "start_time": "2023-01-11T20:48:03.544Z"
   },
   {
    "duration": 19,
    "start_time": "2023-01-11T20:48:03.556Z"
   },
   {
    "duration": 28,
    "start_time": "2023-01-11T20:48:03.576Z"
   },
   {
    "duration": 43,
    "start_time": "2023-01-11T20:48:03.605Z"
   },
   {
    "duration": 44,
    "start_time": "2023-01-11T20:48:03.649Z"
   },
   {
    "duration": 58,
    "start_time": "2023-01-11T20:48:03.695Z"
   },
   {
    "duration": 19010,
    "start_time": "2023-01-11T20:48:03.755Z"
   },
   {
    "duration": 298,
    "start_time": "2023-01-11T20:48:22.766Z"
   },
   {
    "duration": 2005,
    "start_time": "2023-01-11T20:48:23.067Z"
   },
   {
    "duration": 497,
    "start_time": "2023-01-11T20:48:25.074Z"
   },
   {
    "duration": 727,
    "start_time": "2023-01-11T20:48:25.573Z"
   },
   {
    "duration": 751,
    "start_time": "2023-01-11T20:48:26.302Z"
   },
   {
    "duration": 130,
    "start_time": "2023-01-11T20:48:27.055Z"
   },
   {
    "duration": 3,
    "start_time": "2023-01-11T20:48:27.187Z"
   },
   {
    "duration": 82,
    "start_time": "2023-01-11T20:48:27.192Z"
   },
   {
    "duration": 90,
    "start_time": "2023-01-11T20:48:27.275Z"
   },
   {
    "duration": 2156,
    "start_time": "2023-01-11T20:48:27.367Z"
   },
   {
    "duration": 40032,
    "start_time": "2023-01-11T20:48:29.526Z"
   },
   {
    "duration": 20109,
    "start_time": "2023-01-11T20:49:09.560Z"
   },
   {
    "duration": 20079,
    "start_time": "2023-01-11T20:49:29.671Z"
   },
   {
    "duration": 13216,
    "start_time": "2023-01-11T20:49:49.752Z"
   },
   {
    "duration": 13487,
    "start_time": "2023-01-11T20:50:02.970Z"
   },
   {
    "duration": 5,
    "start_time": "2023-01-11T20:50:16.459Z"
   },
   {
    "duration": 9,
    "start_time": "2023-01-11T20:50:23.840Z"
   },
   {
    "duration": 5707,
    "start_time": "2023-01-11T20:50:25.215Z"
   },
   {
    "duration": 10,
    "start_time": "2023-01-11T20:50:34.136Z"
   },
   {
    "duration": 6149,
    "start_time": "2023-01-11T20:50:35.685Z"
   },
   {
    "duration": 23,
    "start_time": "2023-01-11T20:50:44.521Z"
   },
   {
    "duration": 86,
    "start_time": "2023-01-11T20:50:47.119Z"
   },
   {
    "duration": 4,
    "start_time": "2023-01-11T20:50:53.648Z"
   },
   {
    "duration": 9,
    "start_time": "2023-01-11T20:51:06.336Z"
   },
   {
    "duration": 8,
    "start_time": "2023-01-11T20:51:12.543Z"
   },
   {
    "duration": 13,
    "start_time": "2023-01-11T20:51:12.553Z"
   },
   {
    "duration": 23,
    "start_time": "2023-01-11T20:51:12.567Z"
   },
   {
    "duration": 19,
    "start_time": "2023-01-11T20:51:12.592Z"
   },
   {
    "duration": 158,
    "start_time": "2023-01-11T20:51:12.613Z"
   },
   {
    "duration": 113,
    "start_time": "2023-01-11T20:51:12.828Z"
   },
   {
    "duration": 19,
    "start_time": "2023-01-11T20:51:12.943Z"
   },
   {
    "duration": 18,
    "start_time": "2023-01-11T20:51:12.963Z"
   },
   {
    "duration": 22,
    "start_time": "2023-01-11T20:51:12.983Z"
   },
   {
    "duration": 41,
    "start_time": "2023-01-11T20:51:13.007Z"
   },
   {
    "duration": 116966,
    "start_time": "2023-01-11T20:51:30.380Z"
   },
   {
    "duration": 47949,
    "start_time": "2023-01-11T20:53:36.881Z"
   },
   {
    "duration": 8,
    "start_time": "2023-01-11T20:54:24.834Z"
   },
   {
    "duration": 114790,
    "start_time": "2023-01-11T20:54:35.347Z"
   },
   {
    "duration": 51741,
    "start_time": "2023-01-11T20:56:45.503Z"
   },
   {
    "duration": 8,
    "start_time": "2023-01-11T20:57:37.335Z"
   },
   {
    "duration": 1439,
    "start_time": "2023-01-12T13:08:08.076Z"
   },
   {
    "duration": 3567,
    "start_time": "2023-01-12T13:08:09.517Z"
   },
   {
    "duration": 15,
    "start_time": "2023-01-12T13:08:13.086Z"
   },
   {
    "duration": 242,
    "start_time": "2023-01-12T13:08:13.104Z"
   },
   {
    "duration": 60,
    "start_time": "2023-01-12T13:08:13.347Z"
   },
   {
    "duration": 29,
    "start_time": "2023-01-12T13:08:13.409Z"
   },
   {
    "duration": 5,
    "start_time": "2023-01-12T13:08:13.440Z"
   },
   {
    "duration": 38,
    "start_time": "2023-01-12T13:08:13.446Z"
   },
   {
    "duration": 18,
    "start_time": "2023-01-12T13:08:13.486Z"
   },
   {
    "duration": 28,
    "start_time": "2023-01-12T13:08:13.507Z"
   },
   {
    "duration": 30,
    "start_time": "2023-01-12T13:08:13.537Z"
   },
   {
    "duration": 11101,
    "start_time": "2023-01-12T13:08:13.568Z"
   },
   {
    "duration": 189,
    "start_time": "2023-01-12T13:08:24.671Z"
   },
   {
    "duration": 1770,
    "start_time": "2023-01-12T13:08:24.861Z"
   },
   {
    "duration": 451,
    "start_time": "2023-01-12T13:08:26.636Z"
   },
   {
    "duration": 637,
    "start_time": "2023-01-12T13:08:27.089Z"
   },
   {
    "duration": 717,
    "start_time": "2023-01-12T13:08:27.727Z"
   },
   {
    "duration": 127,
    "start_time": "2023-01-12T13:08:28.445Z"
   },
   {
    "duration": 3,
    "start_time": "2023-01-12T13:08:28.574Z"
   },
   {
    "duration": 22,
    "start_time": "2023-01-12T13:08:28.578Z"
   },
   {
    "duration": 24,
    "start_time": "2023-01-12T13:08:28.601Z"
   },
   {
    "duration": 1214,
    "start_time": "2023-01-12T13:08:28.627Z"
   },
   {
    "duration": 40328,
    "start_time": "2023-01-12T13:08:29.843Z"
   },
   {
    "duration": 20097,
    "start_time": "2023-01-12T13:09:10.173Z"
   },
   {
    "duration": 20100,
    "start_time": "2023-01-12T13:09:30.272Z"
   },
   {
    "duration": 1460,
    "start_time": "2023-01-12T13:10:29.721Z"
   },
   {
    "duration": 624,
    "start_time": "2023-01-12T13:10:31.182Z"
   },
   {
    "duration": 15,
    "start_time": "2023-01-12T13:10:31.807Z"
   },
   {
    "duration": 228,
    "start_time": "2023-01-12T13:10:31.824Z"
   },
   {
    "duration": 57,
    "start_time": "2023-01-12T13:10:32.054Z"
   },
   {
    "duration": 26,
    "start_time": "2023-01-12T13:10:32.112Z"
   },
   {
    "duration": 28,
    "start_time": "2023-01-12T13:10:32.140Z"
   },
   {
    "duration": 36,
    "start_time": "2023-01-12T13:10:32.170Z"
   },
   {
    "duration": 18,
    "start_time": "2023-01-12T13:10:32.208Z"
   },
   {
    "duration": 40,
    "start_time": "2023-01-12T13:10:32.228Z"
   },
   {
    "duration": 42,
    "start_time": "2023-01-12T13:10:32.270Z"
   },
   {
    "duration": 10999,
    "start_time": "2023-01-12T13:10:32.314Z"
   },
   {
    "duration": 239,
    "start_time": "2023-01-12T13:10:43.316Z"
   },
   {
    "duration": 1887,
    "start_time": "2023-01-12T13:10:43.559Z"
   },
   {
    "duration": 453,
    "start_time": "2023-01-12T13:10:45.447Z"
   },
   {
    "duration": 639,
    "start_time": "2023-01-12T13:10:45.902Z"
   },
   {
    "duration": 714,
    "start_time": "2023-01-12T13:10:46.543Z"
   },
   {
    "duration": 141,
    "start_time": "2023-01-12T13:10:47.259Z"
   },
   {
    "duration": 4,
    "start_time": "2023-01-12T13:10:47.402Z"
   },
   {
    "duration": 21,
    "start_time": "2023-01-12T13:10:47.408Z"
   },
   {
    "duration": 35,
    "start_time": "2023-01-12T13:10:47.431Z"
   },
   {
    "duration": 1074,
    "start_time": "2023-01-12T13:10:47.468Z"
   },
   {
    "duration": 40228,
    "start_time": "2023-01-12T13:10:48.544Z"
   },
   {
    "duration": 20097,
    "start_time": "2023-01-12T13:11:28.774Z"
   },
   {
    "duration": 20290,
    "start_time": "2023-01-12T13:11:48.873Z"
   },
   {
    "duration": 13915,
    "start_time": "2023-01-12T13:12:09.165Z"
   },
   {
    "duration": 13284,
    "start_time": "2023-01-12T13:12:23.081Z"
   },
   {
    "duration": 4,
    "start_time": "2023-01-12T13:12:36.367Z"
   },
   {
    "duration": 29,
    "start_time": "2023-01-12T13:12:36.372Z"
   },
   {
    "duration": 10,
    "start_time": "2023-01-12T13:12:36.403Z"
   },
   {
    "duration": 79024,
    "start_time": "2023-01-12T13:12:36.415Z"
   },
   {
    "duration": 43997,
    "start_time": "2023-01-12T13:13:55.441Z"
   },
   {
    "duration": 8,
    "start_time": "2023-01-12T13:14:39.440Z"
   },
   {
    "duration": 68807,
    "start_time": "2023-01-12T13:14:39.538Z"
   },
   {
    "duration": 46400,
    "start_time": "2023-01-12T13:15:48.438Z"
   },
   {
    "duration": 94,
    "start_time": "2023-01-12T13:16:34.845Z"
   },
   {
    "duration": 31,
    "start_time": "2023-01-12T13:16:34.941Z"
   },
   {
    "duration": 2662,
    "start_time": "2023-01-12T13:16:34.975Z"
   },
   {
    "duration": 98,
    "start_time": "2023-01-12T13:16:37.639Z"
   },
   {
    "duration": 1697,
    "start_time": "2023-01-12T13:16:37.745Z"
   },
   {
    "duration": 94,
    "start_time": "2023-01-12T13:16:39.447Z"
   },
   {
    "duration": 191,
    "start_time": "2023-01-12T13:16:39.543Z"
   },
   {
    "duration": 8,
    "start_time": "2023-01-12T13:16:39.736Z"
   },
   {
    "duration": 9,
    "start_time": "2023-01-12T13:16:39.745Z"
   },
   {
    "duration": 9,
    "start_time": "2023-01-12T13:16:39.755Z"
   },
   {
    "duration": 72,
    "start_time": "2023-01-12T13:16:39.765Z"
   },
   {
    "duration": 200,
    "start_time": "2023-01-12T13:16:39.839Z"
   },
   {
    "duration": 94,
    "start_time": "2023-01-12T13:16:40.041Z"
   },
   {
    "duration": 9,
    "start_time": "2023-01-12T13:16:40.137Z"
   },
   {
    "duration": 6,
    "start_time": "2023-01-12T13:16:40.147Z"
   },
   {
    "duration": 4,
    "start_time": "2023-01-12T13:16:40.155Z"
   },
   {
    "duration": 5,
    "start_time": "2023-01-12T13:16:40.161Z"
   },
   {
    "duration": 26,
    "start_time": "2023-01-12T13:38:08.140Z"
   },
   {
    "duration": 27,
    "start_time": "2023-01-12T13:39:02.226Z"
   },
   {
    "duration": 27,
    "start_time": "2023-01-12T13:40:30.564Z"
   },
   {
    "duration": 26,
    "start_time": "2023-01-12T13:41:36.868Z"
   },
   {
    "duration": 7,
    "start_time": "2023-01-12T13:41:41.468Z"
   },
   {
    "duration": 6,
    "start_time": "2023-01-12T13:41:51.211Z"
   },
   {
    "duration": 7,
    "start_time": "2023-01-12T13:42:01.691Z"
   },
   {
    "duration": 4,
    "start_time": "2023-01-12T13:44:18.412Z"
   },
   {
    "duration": 4,
    "start_time": "2023-01-12T13:47:24.349Z"
   },
   {
    "duration": 47,
    "start_time": "2023-01-12T17:53:27.160Z"
   },
   {
    "duration": 1516,
    "start_time": "2023-01-12T17:53:59.335Z"
   },
   {
    "duration": 3189,
    "start_time": "2023-01-12T17:54:00.853Z"
   },
   {
    "duration": 19,
    "start_time": "2023-01-12T17:54:04.044Z"
   },
   {
    "duration": 211,
    "start_time": "2023-01-12T17:54:04.065Z"
   },
   {
    "duration": 73,
    "start_time": "2023-01-12T17:54:04.279Z"
   },
   {
    "duration": 10,
    "start_time": "2023-01-12T17:54:04.354Z"
   },
   {
    "duration": 4,
    "start_time": "2023-01-12T17:54:04.366Z"
   },
   {
    "duration": 8,
    "start_time": "2023-01-12T17:54:04.371Z"
   },
   {
    "duration": 8,
    "start_time": "2023-01-12T17:54:04.381Z"
   },
   {
    "duration": 33,
    "start_time": "2023-01-12T17:54:04.392Z"
   },
   {
    "duration": 25,
    "start_time": "2023-01-12T17:54:04.427Z"
   },
   {
    "duration": 10334,
    "start_time": "2023-01-12T17:54:04.454Z"
   },
   {
    "duration": 250,
    "start_time": "2023-01-12T17:54:14.789Z"
   },
   {
    "duration": 1810,
    "start_time": "2023-01-12T17:54:15.041Z"
   },
   {
    "duration": 428,
    "start_time": "2023-01-12T17:54:16.853Z"
   },
   {
    "duration": 121,
    "start_time": "2023-01-12T17:54:17.283Z"
   },
   {
    "duration": 20,
    "start_time": "2023-01-12T17:54:53.173Z"
   },
   {
    "duration": 21,
    "start_time": "2023-01-12T17:55:07.867Z"
   },
   {
    "duration": 747,
    "start_time": "2023-01-12T17:55:56.713Z"
   },
   {
    "duration": 1844,
    "start_time": "2023-01-12T17:56:19.514Z"
   },
   {
    "duration": 2155,
    "start_time": "2023-01-12T18:04:56.969Z"
   },
   {
    "duration": 744,
    "start_time": "2023-01-12T18:05:54.101Z"
   },
   {
    "duration": 117,
    "start_time": "2023-01-12T18:06:36.604Z"
   },
   {
    "duration": 43,
    "start_time": "2023-01-12T18:09:03.825Z"
   },
   {
    "duration": 117,
    "start_time": "2023-01-12T18:09:07.015Z"
   },
   {
    "duration": 7,
    "start_time": "2023-01-12T18:09:15.863Z"
   },
   {
    "duration": 13,
    "start_time": "2023-01-12T18:09:39.858Z"
   },
   {
    "duration": 692,
    "start_time": "2023-01-12T18:09:51.104Z"
   },
   {
    "duration": 688,
    "start_time": "2023-01-12T18:10:10.146Z"
   },
   {
    "duration": 770,
    "start_time": "2023-01-12T18:10:38.758Z"
   },
   {
    "duration": 42,
    "start_time": "2023-01-12T18:18:26.790Z"
   },
   {
    "duration": 59,
    "start_time": "2023-01-12T18:18:35.228Z"
   },
   {
    "duration": 12,
    "start_time": "2023-01-12T18:23:09.440Z"
   },
   {
    "duration": 9,
    "start_time": "2023-01-12T18:23:17.926Z"
   },
   {
    "duration": 3185,
    "start_time": "2023-01-12T18:23:33.827Z"
   },
   {
    "duration": 44,
    "start_time": "2023-01-12T18:23:52.559Z"
   },
   {
    "duration": 730,
    "start_time": "2023-01-12T18:24:10.112Z"
   },
   {
    "duration": 17,
    "start_time": "2023-01-12T18:24:20.130Z"
   },
   {
    "duration": 129,
    "start_time": "2023-01-12T18:24:48.575Z"
   },
   {
    "duration": 135,
    "start_time": "2023-01-12T18:24:51.194Z"
   },
   {
    "duration": 149,
    "start_time": "2023-01-12T18:24:59.634Z"
   },
   {
    "duration": 120,
    "start_time": "2023-01-12T18:25:30.543Z"
   },
   {
    "duration": 101,
    "start_time": "2023-01-12T18:26:26.664Z"
   },
   {
    "duration": 767,
    "start_time": "2023-01-12T18:31:58.231Z"
   },
   {
    "duration": 10,
    "start_time": "2023-01-12T18:35:24.130Z"
   },
   {
    "duration": 16,
    "start_time": "2023-01-12T18:35:43.926Z"
   },
   {
    "duration": 703,
    "start_time": "2023-01-12T18:35:56.455Z"
   },
   {
    "duration": 604,
    "start_time": "2023-01-12T18:36:17.143Z"
   },
   {
    "duration": 608,
    "start_time": "2023-01-12T18:36:36.983Z"
   },
   {
    "duration": 913,
    "start_time": "2023-01-12T18:36:44.970Z"
   },
   {
    "duration": 115,
    "start_time": "2023-01-12T18:38:43.061Z"
   },
   {
    "duration": 662,
    "start_time": "2023-01-12T18:38:46.059Z"
   },
   {
    "duration": 838,
    "start_time": "2023-01-12T18:38:49.222Z"
   },
   {
    "duration": 69,
    "start_time": "2023-01-12T18:40:48.317Z"
   },
   {
    "duration": 50,
    "start_time": "2023-01-12T18:40:58.057Z"
   },
   {
    "duration": 51,
    "start_time": "2023-01-12T18:41:04.926Z"
   },
   {
    "duration": 49,
    "start_time": "2023-01-12T18:41:08.703Z"
   },
   {
    "duration": 48,
    "start_time": "2023-01-12T18:41:19.014Z"
   },
   {
    "duration": 60,
    "start_time": "2023-01-12T18:42:00.202Z"
   },
   {
    "duration": 125,
    "start_time": "2023-01-12T18:43:08.845Z"
   },
   {
    "duration": 702,
    "start_time": "2023-01-12T18:43:16.026Z"
   },
   {
    "duration": 913,
    "start_time": "2023-01-12T18:43:22.780Z"
   },
   {
    "duration": 12,
    "start_time": "2023-01-12T18:45:41.480Z"
   },
   {
    "duration": 6,
    "start_time": "2023-01-12T18:45:51.434Z"
   },
   {
    "duration": 4,
    "start_time": "2023-01-12T18:46:42.392Z"
   },
   {
    "duration": 524,
    "start_time": "2023-01-12T18:47:12.810Z"
   },
   {
    "duration": 5,
    "start_time": "2023-01-12T18:47:40.494Z"
   },
   {
    "duration": 6,
    "start_time": "2023-01-12T18:48:45.376Z"
   },
   {
    "duration": 12,
    "start_time": "2023-01-12T18:48:47.126Z"
   },
   {
    "duration": 5,
    "start_time": "2023-01-12T18:48:57.824Z"
   },
   {
    "duration": 12,
    "start_time": "2023-01-12T18:48:59.734Z"
   },
   {
    "duration": 6,
    "start_time": "2023-01-12T18:49:17.867Z"
   },
   {
    "duration": 285,
    "start_time": "2023-01-12T18:49:19.332Z"
   },
   {
    "duration": 173,
    "start_time": "2023-01-12T18:49:48.093Z"
   },
   {
    "duration": 6547,
    "start_time": "2023-01-12T18:50:03.001Z"
   },
   {
    "duration": 10,
    "start_time": "2023-01-12T18:50:48.336Z"
   },
   {
    "duration": 2303,
    "start_time": "2023-01-12T18:51:06.285Z"
   },
   {
    "duration": 11,
    "start_time": "2023-01-12T18:51:48.693Z"
   },
   {
    "duration": 2050,
    "start_time": "2023-01-12T18:51:52.947Z"
   },
   {
    "duration": 16,
    "start_time": "2023-01-12T18:52:13.486Z"
   },
   {
    "duration": 13,
    "start_time": "2023-01-12T18:52:24.896Z"
   },
   {
    "duration": 8808,
    "start_time": "2023-01-12T18:52:31.784Z"
   },
   {
    "duration": 8707,
    "start_time": "2023-01-12T18:53:02.757Z"
   },
   {
    "duration": 950,
    "start_time": "2023-01-12T18:53:44.891Z"
   },
   {
    "duration": 180,
    "start_time": "2023-01-12T18:54:08.386Z"
   },
   {
    "duration": 8136,
    "start_time": "2023-01-12T18:54:24.780Z"
   },
   {
    "duration": 826,
    "start_time": "2023-01-12T18:55:25.163Z"
   },
   {
    "duration": 667,
    "start_time": "2023-01-12T18:55:36.556Z"
   },
   {
    "duration": 4,
    "start_time": "2023-01-12T18:56:28.351Z"
   },
   {
    "duration": 6,
    "start_time": "2023-01-12T18:56:30.227Z"
   },
   {
    "duration": 9,
    "start_time": "2023-01-12T18:56:34.086Z"
   },
   {
    "duration": 3,
    "start_time": "2023-01-12T18:56:39.987Z"
   },
   {
    "duration": 1167,
    "start_time": "2023-01-12T18:56:43.356Z"
   },
   {
    "duration": 15732,
    "start_time": "2023-01-12T18:56:47.900Z"
   },
   {
    "duration": 9394,
    "start_time": "2023-01-12T18:57:08.029Z"
   },
   {
    "duration": 9597,
    "start_time": "2023-01-12T18:57:17.425Z"
   },
   {
    "duration": 1260,
    "start_time": "2023-01-12T18:57:27.024Z"
   },
   {
    "duration": 1279,
    "start_time": "2023-01-12T18:57:31.639Z"
   },
   {
    "duration": 4,
    "start_time": "2023-01-12T18:57:36.282Z"
   },
   {
    "duration": 34232,
    "start_time": "2023-01-12T18:57:51.294Z"
   },
   {
    "duration": 34412,
    "start_time": "2023-01-12T18:58:25.530Z"
   },
   {
    "duration": 77,
    "start_time": "2023-01-12T18:58:59.945Z"
   },
   {
    "duration": 35958,
    "start_time": "2023-01-12T18:59:04.565Z"
   },
   {
    "duration": 35102,
    "start_time": "2023-01-12T18:59:40.525Z"
   },
   {
    "duration": 91,
    "start_time": "2023-01-12T19:00:15.634Z"
   },
   {
    "duration": 1043,
    "start_time": "2023-01-12T19:00:58.079Z"
   },
   {
    "duration": 920,
    "start_time": "2023-01-12T19:01:58.708Z"
   },
   {
    "duration": 6,
    "start_time": "2023-01-12T19:07:22.931Z"
   },
   {
    "duration": 6,
    "start_time": "2023-01-12T19:07:30.811Z"
   },
   {
    "duration": 6,
    "start_time": "2023-01-12T19:07:39.237Z"
   },
   {
    "duration": 3,
    "start_time": "2023-01-12T19:08:44.496Z"
   },
   {
    "duration": 26,
    "start_time": "2023-01-12T19:08:46.345Z"
   },
   {
    "duration": 6,
    "start_time": "2023-01-12T19:08:57.707Z"
   },
   {
    "duration": 10,
    "start_time": "2023-01-12T19:10:53.097Z"
   },
   {
    "duration": 46,
    "start_time": "2023-01-12T19:13:15.130Z"
   },
   {
    "duration": 47,
    "start_time": "2023-01-12T19:13:26.301Z"
   },
   {
    "duration": 12,
    "start_time": "2023-01-12T19:13:46.447Z"
   },
   {
    "duration": 49,
    "start_time": "2023-01-12T19:16:53.521Z"
   },
   {
    "duration": 10,
    "start_time": "2023-01-12T19:16:57.065Z"
   },
   {
    "duration": 8534,
    "start_time": "2023-01-12T19:18:39.223Z"
   },
   {
    "duration": 4,
    "start_time": "2023-01-12T19:18:50.392Z"
   },
   {
    "duration": 8530,
    "start_time": "2023-01-12T19:19:07.311Z"
   },
   {
    "duration": 4,
    "start_time": "2023-01-12T19:19:17.296Z"
   },
   {
    "duration": 5,
    "start_time": "2023-01-12T19:20:02.391Z"
   },
   {
    "duration": 3,
    "start_time": "2023-01-12T19:21:06.029Z"
   },
   {
    "duration": 6,
    "start_time": "2023-01-12T19:22:04.691Z"
   },
   {
    "duration": 6,
    "start_time": "2023-01-12T19:22:09.824Z"
   },
   {
    "duration": 9,
    "start_time": "2023-01-12T19:22:38.471Z"
   },
   {
    "duration": 9,
    "start_time": "2023-01-12T19:22:44.247Z"
   },
   {
    "duration": 12,
    "start_time": "2023-01-12T19:24:21.720Z"
   },
   {
    "duration": 12,
    "start_time": "2023-01-12T19:24:31.932Z"
   },
   {
    "duration": 3,
    "start_time": "2023-01-12T19:25:08.472Z"
   },
   {
    "duration": 9,
    "start_time": "2023-01-12T19:25:14.725Z"
   },
   {
    "duration": 698,
    "start_time": "2023-01-12T19:25:30.741Z"
   },
   {
    "duration": 1354,
    "start_time": "2023-01-12T19:25:43.949Z"
   },
   {
    "duration": 705,
    "start_time": "2023-01-12T19:25:45.306Z"
   },
   {
    "duration": 20,
    "start_time": "2023-01-12T19:25:46.012Z"
   },
   {
    "duration": 216,
    "start_time": "2023-01-12T19:25:46.034Z"
   },
   {
    "duration": 54,
    "start_time": "2023-01-12T19:25:46.252Z"
   },
   {
    "duration": 11,
    "start_time": "2023-01-12T19:25:46.320Z"
   },
   {
    "duration": 5,
    "start_time": "2023-01-12T19:25:46.333Z"
   },
   {
    "duration": 7,
    "start_time": "2023-01-12T19:25:46.339Z"
   },
   {
    "duration": 6,
    "start_time": "2023-01-12T19:25:46.347Z"
   },
   {
    "duration": 7,
    "start_time": "2023-01-12T19:25:46.356Z"
   },
   {
    "duration": 56,
    "start_time": "2023-01-12T19:25:46.365Z"
   },
   {
    "duration": 10001,
    "start_time": "2023-01-12T19:25:46.423Z"
   },
   {
    "duration": 210,
    "start_time": "2023-01-12T19:25:56.425Z"
   },
   {
    "duration": 1728,
    "start_time": "2023-01-12T19:25:56.638Z"
   },
   {
    "duration": 434,
    "start_time": "2023-01-12T19:25:58.368Z"
   },
   {
    "duration": 2133,
    "start_time": "2023-01-12T19:25:58.804Z"
   },
   {
    "duration": 908,
    "start_time": "2023-01-12T19:26:00.938Z"
   },
   {
    "duration": 145,
    "start_time": "2023-01-12T19:26:01.848Z"
   },
   {
    "duration": 46,
    "start_time": "2023-01-12T19:26:01.994Z"
   },
   {
    "duration": 0,
    "start_time": "2023-01-12T19:26:02.042Z"
   },
   {
    "duration": 0,
    "start_time": "2023-01-12T19:26:02.043Z"
   },
   {
    "duration": 0,
    "start_time": "2023-01-12T19:26:02.044Z"
   },
   {
    "duration": 0,
    "start_time": "2023-01-12T19:26:02.045Z"
   },
   {
    "duration": 0,
    "start_time": "2023-01-12T19:26:02.046Z"
   },
   {
    "duration": 1,
    "start_time": "2023-01-12T19:26:02.047Z"
   },
   {
    "duration": 0,
    "start_time": "2023-01-12T19:26:02.049Z"
   },
   {
    "duration": 0,
    "start_time": "2023-01-12T19:26:02.050Z"
   },
   {
    "duration": 0,
    "start_time": "2023-01-12T19:26:02.051Z"
   },
   {
    "duration": 0,
    "start_time": "2023-01-12T19:26:02.052Z"
   },
   {
    "duration": 0,
    "start_time": "2023-01-12T19:26:02.053Z"
   },
   {
    "duration": 0,
    "start_time": "2023-01-12T19:26:02.054Z"
   },
   {
    "duration": 0,
    "start_time": "2023-01-12T19:26:02.055Z"
   },
   {
    "duration": 0,
    "start_time": "2023-01-12T19:26:02.055Z"
   },
   {
    "duration": 0,
    "start_time": "2023-01-12T19:26:02.056Z"
   },
   {
    "duration": 0,
    "start_time": "2023-01-12T19:26:02.057Z"
   },
   {
    "duration": 0,
    "start_time": "2023-01-12T19:26:02.058Z"
   },
   {
    "duration": 0,
    "start_time": "2023-01-12T19:26:02.059Z"
   },
   {
    "duration": 0,
    "start_time": "2023-01-12T19:26:02.060Z"
   },
   {
    "duration": 0,
    "start_time": "2023-01-12T19:26:02.061Z"
   },
   {
    "duration": 0,
    "start_time": "2023-01-12T19:26:02.062Z"
   },
   {
    "duration": 0,
    "start_time": "2023-01-12T19:26:02.063Z"
   },
   {
    "duration": 0,
    "start_time": "2023-01-12T19:26:02.064Z"
   },
   {
    "duration": 0,
    "start_time": "2023-01-12T19:26:02.065Z"
   },
   {
    "duration": 0,
    "start_time": "2023-01-12T19:26:02.066Z"
   },
   {
    "duration": 0,
    "start_time": "2023-01-12T19:26:02.067Z"
   },
   {
    "duration": 0,
    "start_time": "2023-01-12T19:26:02.068Z"
   },
   {
    "duration": 0,
    "start_time": "2023-01-12T19:26:02.070Z"
   },
   {
    "duration": 0,
    "start_time": "2023-01-12T19:26:02.071Z"
   },
   {
    "duration": 0,
    "start_time": "2023-01-12T19:26:02.072Z"
   },
   {
    "duration": 0,
    "start_time": "2023-01-12T19:26:02.073Z"
   },
   {
    "duration": 0,
    "start_time": "2023-01-12T19:26:02.074Z"
   },
   {
    "duration": 0,
    "start_time": "2023-01-12T19:26:02.075Z"
   },
   {
    "duration": 0,
    "start_time": "2023-01-12T19:26:02.076Z"
   },
   {
    "duration": 0,
    "start_time": "2023-01-12T19:26:02.077Z"
   },
   {
    "duration": 0,
    "start_time": "2023-01-12T19:26:02.079Z"
   },
   {
    "duration": 0,
    "start_time": "2023-01-12T19:26:02.121Z"
   },
   {
    "duration": 0,
    "start_time": "2023-01-12T19:26:02.123Z"
   },
   {
    "duration": 0,
    "start_time": "2023-01-12T19:26:02.124Z"
   },
   {
    "duration": 0,
    "start_time": "2023-01-12T19:26:02.125Z"
   },
   {
    "duration": 0,
    "start_time": "2023-01-12T19:26:02.126Z"
   },
   {
    "duration": 0,
    "start_time": "2023-01-12T19:26:02.127Z"
   },
   {
    "duration": 0,
    "start_time": "2023-01-12T19:26:02.129Z"
   },
   {
    "duration": 0,
    "start_time": "2023-01-12T19:26:02.130Z"
   },
   {
    "duration": 0,
    "start_time": "2023-01-12T19:26:02.131Z"
   },
   {
    "duration": 0,
    "start_time": "2023-01-12T19:26:02.132Z"
   },
   {
    "duration": 5,
    "start_time": "2023-01-12T19:26:28.632Z"
   },
   {
    "duration": 6,
    "start_time": "2023-01-12T19:26:30.543Z"
   },
   {
    "duration": 5,
    "start_time": "2023-01-12T19:26:36.011Z"
   },
   {
    "duration": 7,
    "start_time": "2023-01-12T19:26:36.018Z"
   },
   {
    "duration": 323,
    "start_time": "2023-01-12T19:26:36.026Z"
   },
   {
    "duration": 8966,
    "start_time": "2023-01-12T19:26:36.351Z"
   },
   {
    "duration": 691,
    "start_time": "2023-01-12T19:26:45.320Z"
   },
   {
    "duration": 710,
    "start_time": "2023-01-12T19:26:46.013Z"
   },
   {
    "duration": 226,
    "start_time": "2023-01-12T19:26:46.724Z"
   },
   {
    "duration": 723,
    "start_time": "2023-01-12T19:26:46.952Z"
   },
   {
    "duration": 4,
    "start_time": "2023-01-12T19:26:47.677Z"
   },
   {
    "duration": 8,
    "start_time": "2023-01-12T19:26:47.683Z"
   },
   {
    "duration": 17,
    "start_time": "2023-01-12T19:26:47.693Z"
   },
   {
    "duration": 1715,
    "start_time": "2023-01-12T19:26:47.711Z"
   },
   {
    "duration": 40226,
    "start_time": "2023-01-12T19:26:49.429Z"
   },
   {
    "duration": 16440,
    "start_time": "2023-01-12T19:27:29.658Z"
   },
   {
    "duration": 20051,
    "start_time": "2023-01-12T19:27:46.099Z"
   },
   {
    "duration": 12829,
    "start_time": "2023-01-12T19:28:06.151Z"
   },
   {
    "duration": 1325,
    "start_time": "2023-01-12T19:28:40.834Z"
   },
   {
    "duration": 713,
    "start_time": "2023-01-12T19:28:42.161Z"
   },
   {
    "duration": 16,
    "start_time": "2023-01-12T19:28:42.876Z"
   },
   {
    "duration": 223,
    "start_time": "2023-01-12T19:28:42.894Z"
   },
   {
    "duration": 56,
    "start_time": "2023-01-12T19:28:43.120Z"
   },
   {
    "duration": 10,
    "start_time": "2023-01-12T19:28:43.177Z"
   },
   {
    "duration": 35,
    "start_time": "2023-01-12T19:28:43.188Z"
   },
   {
    "duration": 18,
    "start_time": "2023-01-12T19:28:43.224Z"
   },
   {
    "duration": 32,
    "start_time": "2023-01-12T19:28:43.243Z"
   },
   {
    "duration": 18,
    "start_time": "2023-01-12T19:28:43.277Z"
   },
   {
    "duration": 33,
    "start_time": "2023-01-12T19:28:43.297Z"
   },
   {
    "duration": 10055,
    "start_time": "2023-01-12T19:28:43.331Z"
   },
   {
    "duration": 254,
    "start_time": "2023-01-12T19:28:53.388Z"
   },
   {
    "duration": 1857,
    "start_time": "2023-01-12T19:28:53.644Z"
   },
   {
    "duration": 425,
    "start_time": "2023-01-12T19:28:55.502Z"
   },
   {
    "duration": 2127,
    "start_time": "2023-01-12T19:29:03.048Z"
   },
   {
    "duration": 854,
    "start_time": "2023-01-12T19:29:10.260Z"
   },
   {
    "duration": 5,
    "start_time": "2023-01-12T19:29:17.374Z"
   },
   {
    "duration": 6,
    "start_time": "2023-01-12T19:29:19.864Z"
   },
   {
    "duration": 104,
    "start_time": "2023-01-12T19:29:23.139Z"
   },
   {
    "duration": 222,
    "start_time": "2023-01-12T19:29:49.651Z"
   },
   {
    "duration": 8389,
    "start_time": "2023-01-12T19:29:52.247Z"
   },
   {
    "duration": 656,
    "start_time": "2023-01-12T19:30:06.139Z"
   },
   {
    "duration": 744,
    "start_time": "2023-01-12T19:30:09.947Z"
   },
   {
    "duration": 116,
    "start_time": "2023-01-12T19:30:14.583Z"
   },
   {
    "duration": 714,
    "start_time": "2023-01-12T19:30:17.348Z"
   },
   {
    "duration": 4,
    "start_time": "2023-01-12T19:30:20.713Z"
   },
   {
    "duration": 5,
    "start_time": "2023-01-12T19:30:23.006Z"
   },
   {
    "duration": 4,
    "start_time": "2023-01-12T19:30:24.792Z"
   },
   {
    "duration": 430,
    "start_time": "2023-01-12T19:30:27.690Z"
   },
   {
    "duration": 19986,
    "start_time": "2023-01-12T19:30:31.036Z"
   },
   {
    "duration": 9797,
    "start_time": "2023-01-12T19:30:51.025Z"
   },
   {
    "duration": 10101,
    "start_time": "2023-01-12T19:31:00.824Z"
   },
   {
    "duration": 1346,
    "start_time": "2023-01-12T19:31:10.928Z"
   },
   {
    "duration": 1309,
    "start_time": "2023-01-12T19:31:12.275Z"
   },
   {
    "duration": 5,
    "start_time": "2023-01-12T19:31:27.873Z"
   },
   {
    "duration": 32624,
    "start_time": "2023-01-12T19:31:32.406Z"
   },
   {
    "duration": 33114,
    "start_time": "2023-01-12T19:32:05.033Z"
   },
   {
    "duration": 172,
    "start_time": "2023-01-12T19:32:38.149Z"
   },
   {
    "duration": 34302,
    "start_time": "2023-01-12T19:32:38.323Z"
   },
   {
    "duration": 33634,
    "start_time": "2023-01-12T19:33:12.627Z"
   },
   {
    "duration": 97,
    "start_time": "2023-01-12T19:33:46.324Z"
   },
   {
    "duration": 1023,
    "start_time": "2023-01-12T19:33:55.200Z"
   },
   {
    "duration": 987,
    "start_time": "2023-01-12T19:34:31.741Z"
   },
   {
    "duration": 1105,
    "start_time": "2023-01-12T19:34:34.323Z"
   },
   {
    "duration": 3,
    "start_time": "2023-01-12T19:34:48.173Z"
   },
   {
    "duration": 6,
    "start_time": "2023-01-12T19:34:51.323Z"
   },
   {
    "duration": 7914,
    "start_time": "2023-01-12T19:34:53.441Z"
   },
   {
    "duration": 4,
    "start_time": "2023-01-12T19:35:01.356Z"
   },
   {
    "duration": 3,
    "start_time": "2023-01-12T19:35:06.581Z"
   },
   {
    "duration": 5,
    "start_time": "2023-01-12T19:35:28.346Z"
   },
   {
    "duration": 15,
    "start_time": "2023-01-12T19:35:50.557Z"
   },
   {
    "duration": 16,
    "start_time": "2023-01-12T19:36:27.181Z"
   },
   {
    "duration": 7,
    "start_time": "2023-01-12T19:37:27.257Z"
   },
   {
    "duration": 721,
    "start_time": "2023-01-12T19:37:29.986Z"
   },
   {
    "duration": 5,
    "start_time": "2023-01-12T19:38:35.376Z"
   },
   {
    "duration": 7830,
    "start_time": "2023-01-12T19:38:37.293Z"
   },
   {
    "duration": 4,
    "start_time": "2023-01-12T19:38:46.324Z"
   },
   {
    "duration": 3,
    "start_time": "2023-01-12T19:39:03.518Z"
   },
   {
    "duration": 5,
    "start_time": "2023-01-12T19:39:06.916Z"
   },
   {
    "duration": 8082,
    "start_time": "2023-01-12T19:39:08.327Z"
   },
   {
    "duration": 3,
    "start_time": "2023-01-12T19:39:17.071Z"
   },
   {
    "duration": 14,
    "start_time": "2023-01-12T19:39:39.580Z"
   },
   {
    "duration": 26,
    "start_time": "2023-01-12T19:39:43.846Z"
   },
   {
    "duration": 7,
    "start_time": "2023-01-12T19:40:10.297Z"
   },
   {
    "duration": 7816,
    "start_time": "2023-01-12T19:40:19.229Z"
   },
   {
    "duration": 4,
    "start_time": "2023-01-12T19:40:28.217Z"
   },
   {
    "duration": 4,
    "start_time": "2023-01-12T19:40:41.153Z"
   },
   {
    "duration": 2,
    "start_time": "2023-01-12T19:41:01.204Z"
   },
   {
    "duration": 4,
    "start_time": "2023-01-12T19:41:04.826Z"
   },
   {
    "duration": 6,
    "start_time": "2023-01-12T19:41:08.946Z"
   },
   {
    "duration": 6,
    "start_time": "2023-01-12T19:41:21.008Z"
   },
   {
    "duration": 18,
    "start_time": "2023-01-12T19:41:26.708Z"
   },
   {
    "duration": 10,
    "start_time": "2023-01-12T19:41:29.804Z"
   },
   {
    "duration": 4,
    "start_time": "2023-01-12T19:41:40.252Z"
   },
   {
    "duration": 912,
    "start_time": "2023-01-12T19:42:24.913Z"
   },
   {
    "duration": 1183,
    "start_time": "2023-01-12T19:42:28.140Z"
   },
   {
    "duration": 1049,
    "start_time": "2023-01-12T19:42:44.472Z"
   },
   {
    "duration": 10,
    "start_time": "2023-01-12T19:42:55.630Z"
   },
   {
    "duration": 7,
    "start_time": "2023-01-12T19:42:57.920Z"
   },
   {
    "duration": 4,
    "start_time": "2023-01-12T19:42:59.846Z"
   },
   {
    "duration": 9,
    "start_time": "2023-01-12T19:43:02.217Z"
   },
   {
    "duration": 6,
    "start_time": "2023-01-12T19:43:51.550Z"
   },
   {
    "duration": 9,
    "start_time": "2023-01-12T19:44:05.844Z"
   },
   {
    "duration": 6,
    "start_time": "2023-01-12T19:44:24.428Z"
   },
   {
    "duration": 4,
    "start_time": "2023-01-12T19:44:26.830Z"
   },
   {
    "duration": 4,
    "start_time": "2023-01-12T19:44:33.836Z"
   },
   {
    "duration": 6,
    "start_time": "2023-01-12T19:46:54.053Z"
   },
   {
    "duration": 100,
    "start_time": "2023-01-12T19:46:58.331Z"
   },
   {
    "duration": 7,
    "start_time": "2023-01-12T19:47:16.135Z"
   },
   {
    "duration": 6,
    "start_time": "2023-01-12T19:47:47.876Z"
   },
   {
    "duration": 10,
    "start_time": "2023-01-12T19:48:06.233Z"
   },
   {
    "duration": 6,
    "start_time": "2023-01-12T19:48:18.267Z"
   },
   {
    "duration": 3,
    "start_time": "2023-01-12T19:48:29.480Z"
   },
   {
    "duration": 3,
    "start_time": "2023-01-12T19:48:31.068Z"
   },
   {
    "duration": 19,
    "start_time": "2023-01-12T19:48:49.952Z"
   },
   {
    "duration": 4,
    "start_time": "2023-01-12T19:49:13.800Z"
   },
   {
    "duration": 5,
    "start_time": "2023-01-12T19:49:22.289Z"
   },
   {
    "duration": 14,
    "start_time": "2023-01-12T19:49:30.704Z"
   },
   {
    "duration": 3,
    "start_time": "2023-01-12T19:49:54.243Z"
   },
   {
    "duration": 7,
    "start_time": "2023-01-12T19:50:00.331Z"
   },
   {
    "duration": 4,
    "start_time": "2023-01-12T19:50:02.863Z"
   },
   {
    "duration": 6,
    "start_time": "2023-01-12T19:50:13.985Z"
   },
   {
    "duration": 5,
    "start_time": "2023-01-12T19:50:19.231Z"
   },
   {
    "duration": 5,
    "start_time": "2023-01-12T19:50:21.099Z"
   },
   {
    "duration": 9,
    "start_time": "2023-01-12T19:50:24.162Z"
   },
   {
    "duration": 9,
    "start_time": "2023-01-12T19:50:26.220Z"
   },
   {
    "duration": 4,
    "start_time": "2023-01-12T19:50:28.248Z"
   },
   {
    "duration": 5,
    "start_time": "2023-01-12T19:50:30.953Z"
   },
   {
    "duration": 6,
    "start_time": "2023-01-12T19:50:32.292Z"
   },
   {
    "duration": 4,
    "start_time": "2023-01-12T19:50:34.492Z"
   },
   {
    "duration": 3,
    "start_time": "2023-01-12T19:50:36.898Z"
   },
   {
    "duration": 4,
    "start_time": "2023-01-12T19:52:21.062Z"
   },
   {
    "duration": 109,
    "start_time": "2023-01-12T19:52:54.741Z"
   },
   {
    "duration": 5,
    "start_time": "2023-01-12T19:52:57.085Z"
   },
   {
    "duration": 12,
    "start_time": "2023-01-12T19:53:00.217Z"
   },
   {
    "duration": 8,
    "start_time": "2023-01-12T19:53:01.868Z"
   },
   {
    "duration": 4,
    "start_time": "2023-01-12T19:53:03.850Z"
   },
   {
    "duration": 6,
    "start_time": "2023-01-12T19:55:13.873Z"
   },
   {
    "duration": 5,
    "start_time": "2023-01-12T19:55:22.795Z"
   },
   {
    "duration": 67,
    "start_time": "2023-01-12T19:55:30.604Z"
   },
   {
    "duration": 5,
    "start_time": "2023-01-12T19:55:49.856Z"
   },
   {
    "duration": 5,
    "start_time": "2023-01-12T19:56:24.903Z"
   },
   {
    "duration": 5,
    "start_time": "2023-01-12T19:56:26.827Z"
   },
   {
    "duration": 8,
    "start_time": "2023-01-12T19:56:32.453Z"
   },
   {
    "duration": 3178,
    "start_time": "2023-01-12T19:56:40.343Z"
   },
   {
    "duration": 3802,
    "start_time": "2023-01-12T19:56:43.523Z"
   },
   {
    "duration": 8,
    "start_time": "2023-01-12T19:56:51.375Z"
   },
   {
    "duration": 12,
    "start_time": "2023-01-12T19:56:53.499Z"
   },
   {
    "duration": 4,
    "start_time": "2023-01-12T19:56:55.462Z"
   },
   {
    "duration": 6,
    "start_time": "2023-01-12T19:56:58.693Z"
   },
   {
    "duration": 6,
    "start_time": "2023-01-12T19:57:00.277Z"
   },
   {
    "duration": 3,
    "start_time": "2023-01-12T19:57:18.139Z"
   },
   {
    "duration": 6,
    "start_time": "2023-01-12T19:57:20.318Z"
   },
   {
    "duration": 7,
    "start_time": "2023-01-12T19:57:29.569Z"
   },
   {
    "duration": 3,
    "start_time": "2023-01-12T19:57:31.187Z"
   },
   {
    "duration": 6,
    "start_time": "2023-01-12T19:57:33.929Z"
   },
   {
    "duration": 5,
    "start_time": "2023-01-12T19:57:38.113Z"
   },
   {
    "duration": 15,
    "start_time": "2023-01-12T19:57:43.242Z"
   },
   {
    "duration": 1349,
    "start_time": "2023-01-12T19:58:16.000Z"
   },
   {
    "duration": 684,
    "start_time": "2023-01-12T19:58:17.351Z"
   },
   {
    "duration": 14,
    "start_time": "2023-01-12T19:58:18.036Z"
   },
   {
    "duration": 208,
    "start_time": "2023-01-12T19:58:18.052Z"
   },
   {
    "duration": 67,
    "start_time": "2023-01-12T19:58:18.261Z"
   },
   {
    "duration": 9,
    "start_time": "2023-01-12T19:58:18.329Z"
   },
   {
    "duration": 6,
    "start_time": "2023-01-12T19:58:18.339Z"
   },
   {
    "duration": 14,
    "start_time": "2023-01-12T19:58:18.346Z"
   },
   {
    "duration": 6,
    "start_time": "2023-01-12T19:58:18.361Z"
   },
   {
    "duration": 13,
    "start_time": "2023-01-12T19:58:18.369Z"
   },
   {
    "duration": 37,
    "start_time": "2023-01-12T19:58:18.384Z"
   },
   {
    "duration": 10190,
    "start_time": "2023-01-12T19:58:18.423Z"
   },
   {
    "duration": 223,
    "start_time": "2023-01-12T19:58:28.615Z"
   },
   {
    "duration": 1708,
    "start_time": "2023-01-12T19:58:28.840Z"
   },
   {
    "duration": 433,
    "start_time": "2023-01-12T19:58:30.549Z"
   },
   {
    "duration": 2210,
    "start_time": "2023-01-12T19:58:30.983Z"
   },
   {
    "duration": 837,
    "start_time": "2023-01-12T19:58:33.195Z"
   },
   {
    "duration": 2,
    "start_time": "2023-01-12T19:58:34.034Z"
   },
   {
    "duration": 23,
    "start_time": "2023-01-12T19:58:34.038Z"
   },
   {
    "duration": 8,
    "start_time": "2023-01-12T19:58:34.063Z"
   },
   {
    "duration": 209,
    "start_time": "2023-01-12T19:58:34.072Z"
   },
   {
    "duration": 8377,
    "start_time": "2023-01-12T19:58:34.283Z"
   },
   {
    "duration": 635,
    "start_time": "2023-01-12T19:58:42.661Z"
   },
   {
    "duration": 694,
    "start_time": "2023-01-12T19:58:43.298Z"
   },
   {
    "duration": 118,
    "start_time": "2023-01-12T19:58:43.994Z"
   },
   {
    "duration": 683,
    "start_time": "2023-01-12T19:58:44.114Z"
   },
   {
    "duration": 3,
    "start_time": "2023-01-12T19:58:44.799Z"
   },
   {
    "duration": 17,
    "start_time": "2023-01-12T19:58:44.805Z"
   },
   {
    "duration": 3,
    "start_time": "2023-01-12T19:58:44.823Z"
   },
   {
    "duration": 402,
    "start_time": "2023-01-12T19:58:44.827Z"
   },
   {
    "duration": 20092,
    "start_time": "2023-01-12T19:58:45.231Z"
   },
   {
    "duration": 9999,
    "start_time": "2023-01-12T19:59:05.325Z"
   },
   {
    "duration": 10398,
    "start_time": "2023-01-12T19:59:15.325Z"
   },
   {
    "duration": 1327,
    "start_time": "2023-01-12T19:59:25.726Z"
   },
   {
    "duration": 1222,
    "start_time": "2023-01-12T19:59:27.054Z"
   },
   {
    "duration": 4,
    "start_time": "2023-01-12T19:59:28.277Z"
   },
   {
    "duration": 7,
    "start_time": "2023-01-12T19:59:28.283Z"
   },
   {
    "duration": 8,
    "start_time": "2023-01-12T19:59:28.292Z"
   },
   {
    "duration": 32430,
    "start_time": "2023-01-12T19:59:28.301Z"
   },
   {
    "duration": 33312,
    "start_time": "2023-01-12T20:00:00.735Z"
   },
   {
    "duration": 77,
    "start_time": "2023-01-12T20:00:34.049Z"
   },
   {
    "duration": 34396,
    "start_time": "2023-01-12T20:00:34.128Z"
   },
   {
    "duration": 33422,
    "start_time": "2023-01-12T20:01:08.526Z"
   },
   {
    "duration": 99,
    "start_time": "2023-01-12T20:01:42.022Z"
   },
   {
    "duration": 13,
    "start_time": "2023-01-12T20:01:42.123Z"
   },
   {
    "duration": 890,
    "start_time": "2023-01-12T20:01:42.138Z"
   },
   {
    "duration": 1112,
    "start_time": "2023-01-12T20:01:43.030Z"
   },
   {
    "duration": 5,
    "start_time": "2023-01-12T20:01:44.223Z"
   },
   {
    "duration": 95,
    "start_time": "2023-01-12T20:01:44.232Z"
   },
   {
    "duration": 12,
    "start_time": "2023-01-12T20:01:44.328Z"
   },
   {
    "duration": 27,
    "start_time": "2023-01-12T20:01:44.342Z"
   },
   {
    "duration": 3,
    "start_time": "2023-01-12T20:01:44.371Z"
   },
   {
    "duration": 10,
    "start_time": "2023-01-12T20:01:44.376Z"
   },
   {
    "duration": 4,
    "start_time": "2023-01-12T20:01:44.388Z"
   },
   {
    "duration": 127,
    "start_time": "2023-01-12T20:01:44.394Z"
   },
   {
    "duration": 5,
    "start_time": "2023-01-12T20:01:44.523Z"
   },
   {
    "duration": 8,
    "start_time": "2023-01-12T20:01:44.529Z"
   },
   {
    "duration": 7,
    "start_time": "2023-01-12T20:01:44.538Z"
   },
   {
    "duration": 119,
    "start_time": "2023-01-12T20:01:44.546Z"
   },
   {
    "duration": 0,
    "start_time": "2023-01-12T20:01:44.666Z"
   },
   {
    "duration": 0,
    "start_time": "2023-01-12T20:01:44.667Z"
   },
   {
    "duration": 0,
    "start_time": "2023-01-12T20:01:44.668Z"
   },
   {
    "duration": 0,
    "start_time": "2023-01-12T20:01:44.670Z"
   },
   {
    "duration": 0,
    "start_time": "2023-01-12T20:01:44.671Z"
   },
   {
    "duration": 0,
    "start_time": "2023-01-12T20:01:44.672Z"
   },
   {
    "duration": 14,
    "start_time": "2023-01-12T20:02:05.918Z"
   },
   {
    "duration": 13,
    "start_time": "2023-01-12T20:02:40.039Z"
   },
   {
    "duration": 4,
    "start_time": "2023-01-12T20:03:18.574Z"
   },
   {
    "duration": 10,
    "start_time": "2023-01-12T20:03:18.580Z"
   },
   {
    "duration": 22,
    "start_time": "2023-01-12T20:03:18.591Z"
   },
   {
    "duration": 22,
    "start_time": "2023-01-12T20:03:18.614Z"
   },
   {
    "duration": 14,
    "start_time": "2023-01-12T20:03:18.638Z"
   },
   {
    "duration": 17,
    "start_time": "2023-01-12T20:03:18.654Z"
   },
   {
    "duration": 123,
    "start_time": "2023-01-12T20:03:18.673Z"
   },
   {
    "duration": 6,
    "start_time": "2023-01-12T20:03:18.798Z"
   },
   {
    "duration": 20,
    "start_time": "2023-01-12T20:03:18.806Z"
   },
   {
    "duration": 33,
    "start_time": "2023-01-12T20:03:18.827Z"
   },
   {
    "duration": 30,
    "start_time": "2023-01-12T20:03:18.862Z"
   },
   {
    "duration": 151,
    "start_time": "2023-01-12T20:03:18.894Z"
   },
   {
    "duration": 185,
    "start_time": "2023-01-12T20:03:19.047Z"
   },
   {
    "duration": 30,
    "start_time": "2023-01-12T20:03:19.235Z"
   },
   {
    "duration": 18,
    "start_time": "2023-01-12T20:03:19.267Z"
   },
   {
    "duration": 20,
    "start_time": "2023-01-12T20:03:19.286Z"
   },
   {
    "duration": 28,
    "start_time": "2023-01-12T20:03:19.308Z"
   },
   {
    "duration": 1344,
    "start_time": "2023-01-12T20:20:10.522Z"
   },
   {
    "duration": 664,
    "start_time": "2023-01-12T20:20:11.868Z"
   },
   {
    "duration": 15,
    "start_time": "2023-01-12T20:20:12.533Z"
   },
   {
    "duration": 211,
    "start_time": "2023-01-12T20:20:12.550Z"
   },
   {
    "duration": 75,
    "start_time": "2023-01-12T20:20:12.763Z"
   },
   {
    "duration": 11,
    "start_time": "2023-01-12T20:20:12.840Z"
   },
   {
    "duration": 6,
    "start_time": "2023-01-12T20:20:12.852Z"
   },
   {
    "duration": 10,
    "start_time": "2023-01-12T20:20:12.860Z"
   },
   {
    "duration": 7,
    "start_time": "2023-01-12T20:20:12.871Z"
   },
   {
    "duration": 7,
    "start_time": "2023-01-12T20:20:12.879Z"
   },
   {
    "duration": 57,
    "start_time": "2023-01-12T20:20:12.887Z"
   },
   {
    "duration": 9589,
    "start_time": "2023-01-12T20:20:12.946Z"
   },
   {
    "duration": 204,
    "start_time": "2023-01-12T20:20:22.537Z"
   },
   {
    "duration": 1694,
    "start_time": "2023-01-12T20:20:22.745Z"
   },
   {
    "duration": 409,
    "start_time": "2023-01-12T20:20:24.441Z"
   },
   {
    "duration": 2159,
    "start_time": "2023-01-12T20:20:24.851Z"
   },
   {
    "duration": 816,
    "start_time": "2023-01-12T20:20:27.012Z"
   },
   {
    "duration": 3,
    "start_time": "2023-01-12T20:20:27.829Z"
   },
   {
    "duration": 9,
    "start_time": "2023-01-12T20:20:27.833Z"
   },
   {
    "duration": 6,
    "start_time": "2023-01-12T20:20:27.844Z"
   },
   {
    "duration": 214,
    "start_time": "2023-01-12T20:20:27.851Z"
   },
   {
    "duration": 8298,
    "start_time": "2023-01-12T20:20:28.067Z"
   },
   {
    "duration": 618,
    "start_time": "2023-01-12T20:20:36.367Z"
   },
   {
    "duration": 629,
    "start_time": "2023-01-12T20:20:36.986Z"
   },
   {
    "duration": 212,
    "start_time": "2023-01-12T20:20:37.617Z"
   },
   {
    "duration": 680,
    "start_time": "2023-01-12T20:20:37.830Z"
   },
   {
    "duration": 3,
    "start_time": "2023-01-12T20:20:38.511Z"
   },
   {
    "duration": 9,
    "start_time": "2023-01-12T20:20:38.521Z"
   },
   {
    "duration": 12,
    "start_time": "2023-01-12T20:20:38.532Z"
   },
   {
    "duration": 878,
    "start_time": "2023-01-12T20:20:38.545Z"
   },
   {
    "duration": 19199,
    "start_time": "2023-01-12T20:20:39.425Z"
   },
   {
    "duration": 9997,
    "start_time": "2023-01-12T20:20:58.626Z"
   },
   {
    "duration": 9899,
    "start_time": "2023-01-12T20:21:08.625Z"
   },
   {
    "duration": 1347,
    "start_time": "2023-01-12T20:21:18.527Z"
   },
   {
    "duration": 1291,
    "start_time": "2023-01-12T20:21:19.876Z"
   },
   {
    "duration": 3,
    "start_time": "2023-01-12T20:21:21.169Z"
   },
   {
    "duration": 12,
    "start_time": "2023-01-12T20:21:21.174Z"
   },
   {
    "duration": 9,
    "start_time": "2023-01-12T20:21:21.187Z"
   },
   {
    "duration": 33029,
    "start_time": "2023-01-12T20:21:21.197Z"
   },
   {
    "duration": 32811,
    "start_time": "2023-01-12T20:21:54.228Z"
   },
   {
    "duration": 96,
    "start_time": "2023-01-12T20:22:27.125Z"
   },
   {
    "duration": 34405,
    "start_time": "2023-01-12T20:22:27.223Z"
   },
   {
    "duration": 33726,
    "start_time": "2023-01-12T20:23:01.632Z"
   },
   {
    "duration": 65,
    "start_time": "2023-01-12T20:23:35.361Z"
   },
   {
    "duration": 92,
    "start_time": "2023-01-12T20:23:35.429Z"
   },
   {
    "duration": 909,
    "start_time": "2023-01-12T20:23:35.523Z"
   },
   {
    "duration": 1014,
    "start_time": "2023-01-12T20:23:36.434Z"
   },
   {
    "duration": 72,
    "start_time": "2023-01-12T20:23:37.451Z"
   },
   {
    "duration": 102,
    "start_time": "2023-01-12T20:23:37.525Z"
   },
   {
    "duration": 7,
    "start_time": "2023-01-12T20:23:37.629Z"
   },
   {
    "duration": 9,
    "start_time": "2023-01-12T20:23:37.637Z"
   },
   {
    "duration": 5,
    "start_time": "2023-01-12T20:23:37.647Z"
   },
   {
    "duration": 128,
    "start_time": "2023-01-12T20:23:37.653Z"
   },
   {
    "duration": 5,
    "start_time": "2023-01-12T20:23:37.783Z"
   },
   {
    "duration": 7,
    "start_time": "2023-01-12T20:23:37.790Z"
   },
   {
    "duration": 7,
    "start_time": "2023-01-12T20:23:37.798Z"
   },
   {
    "duration": 18,
    "start_time": "2023-01-12T20:23:37.806Z"
   },
   {
    "duration": 205,
    "start_time": "2023-01-12T20:23:37.826Z"
   },
   {
    "duration": 190,
    "start_time": "2023-01-12T20:23:38.033Z"
   },
   {
    "duration": 11,
    "start_time": "2023-01-12T20:23:38.225Z"
   },
   {
    "duration": 8,
    "start_time": "2023-01-12T20:23:38.237Z"
   },
   {
    "duration": 5,
    "start_time": "2023-01-12T20:23:38.246Z"
   },
   {
    "duration": 6,
    "start_time": "2023-01-12T20:23:38.253Z"
   },
   {
    "duration": 1276,
    "start_time": "2023-01-12T20:30:43.778Z"
   },
   {
    "duration": 697,
    "start_time": "2023-01-12T20:30:45.056Z"
   },
   {
    "duration": 14,
    "start_time": "2023-01-12T20:30:45.754Z"
   },
   {
    "duration": 202,
    "start_time": "2023-01-12T20:30:45.770Z"
   },
   {
    "duration": 66,
    "start_time": "2023-01-12T20:30:45.975Z"
   },
   {
    "duration": 9,
    "start_time": "2023-01-12T20:30:46.042Z"
   },
   {
    "duration": 4,
    "start_time": "2023-01-12T20:30:46.053Z"
   },
   {
    "duration": 13,
    "start_time": "2023-01-12T20:30:46.058Z"
   },
   {
    "duration": 7,
    "start_time": "2023-01-12T20:30:46.072Z"
   },
   {
    "duration": 6,
    "start_time": "2023-01-12T20:30:46.080Z"
   },
   {
    "duration": 50,
    "start_time": "2023-01-12T20:30:46.088Z"
   },
   {
    "duration": 9725,
    "start_time": "2023-01-12T20:30:46.140Z"
   },
   {
    "duration": 273,
    "start_time": "2023-01-12T20:30:55.866Z"
   },
   {
    "duration": 1710,
    "start_time": "2023-01-12T20:30:56.142Z"
   },
   {
    "duration": 402,
    "start_time": "2023-01-12T20:30:57.853Z"
   },
   {
    "duration": 2088,
    "start_time": "2023-01-12T20:30:58.256Z"
   },
   {
    "duration": 844,
    "start_time": "2023-01-12T20:31:00.345Z"
   },
   {
    "duration": 2,
    "start_time": "2023-01-12T20:31:01.191Z"
   },
   {
    "duration": 26,
    "start_time": "2023-01-12T20:31:01.195Z"
   },
   {
    "duration": 31,
    "start_time": "2023-01-12T20:31:01.223Z"
   },
   {
    "duration": 261,
    "start_time": "2023-01-12T20:31:01.256Z"
   },
   {
    "duration": 8235,
    "start_time": "2023-01-12T20:31:01.519Z"
   },
   {
    "duration": 629,
    "start_time": "2023-01-12T20:31:09.756Z"
   },
   {
    "duration": 621,
    "start_time": "2023-01-12T20:31:10.388Z"
   },
   {
    "duration": 213,
    "start_time": "2023-01-12T20:31:11.011Z"
   },
   {
    "duration": 718,
    "start_time": "2023-01-12T20:31:11.225Z"
   },
   {
    "duration": 3,
    "start_time": "2023-01-12T20:31:11.946Z"
   },
   {
    "duration": 9,
    "start_time": "2023-01-12T20:31:11.950Z"
   },
   {
    "duration": 8,
    "start_time": "2023-01-12T20:31:11.960Z"
   },
   {
    "duration": 756,
    "start_time": "2023-01-12T20:31:11.970Z"
   },
   {
    "duration": 20004,
    "start_time": "2023-01-12T20:31:12.728Z"
   },
   {
    "duration": 8988,
    "start_time": "2023-01-12T20:31:32.734Z"
   },
   {
    "duration": 9898,
    "start_time": "2023-01-12T20:31:41.724Z"
   },
   {
    "duration": 1348,
    "start_time": "2023-01-12T20:31:51.624Z"
   },
   {
    "duration": 1238,
    "start_time": "2023-01-12T20:31:52.974Z"
   },
   {
    "duration": 11,
    "start_time": "2023-01-12T20:31:54.213Z"
   },
   {
    "duration": 7,
    "start_time": "2023-01-12T20:31:54.226Z"
   },
   {
    "duration": 6,
    "start_time": "2023-01-12T20:31:54.234Z"
   },
   {
    "duration": 31891,
    "start_time": "2023-01-12T20:31:54.242Z"
   },
   {
    "duration": 33106,
    "start_time": "2023-01-12T20:32:26.135Z"
   },
   {
    "duration": 100,
    "start_time": "2023-01-12T20:32:59.322Z"
   },
   {
    "duration": 35603,
    "start_time": "2023-01-12T20:32:59.424Z"
   },
   {
    "duration": 33816,
    "start_time": "2023-01-12T20:33:35.029Z"
   },
   {
    "duration": 81,
    "start_time": "2023-01-12T20:34:08.847Z"
   },
   {
    "duration": 97,
    "start_time": "2023-01-12T20:34:08.931Z"
   },
   {
    "duration": 801,
    "start_time": "2023-01-12T20:34:09.029Z"
   },
   {
    "duration": 1119,
    "start_time": "2023-01-12T20:34:09.832Z"
   },
   {
    "duration": 4,
    "start_time": "2023-01-12T20:34:11.023Z"
   },
   {
    "duration": 108,
    "start_time": "2023-01-12T20:34:11.031Z"
   },
   {
    "duration": 4,
    "start_time": "2023-01-12T20:34:11.141Z"
   },
   {
    "duration": 8,
    "start_time": "2023-01-12T20:34:11.147Z"
   },
   {
    "duration": 18,
    "start_time": "2023-01-12T20:34:11.156Z"
   },
   {
    "duration": 121,
    "start_time": "2023-01-12T20:34:11.175Z"
   },
   {
    "duration": 4,
    "start_time": "2023-01-12T20:34:11.298Z"
   },
   {
    "duration": 10,
    "start_time": "2023-01-12T20:34:11.304Z"
   },
   {
    "duration": 9,
    "start_time": "2023-01-12T20:34:11.315Z"
   },
   {
    "duration": 15,
    "start_time": "2023-01-12T20:34:11.325Z"
   },
   {
    "duration": 181,
    "start_time": "2023-01-12T20:34:11.341Z"
   },
   {
    "duration": 105,
    "start_time": "2023-01-12T20:34:11.524Z"
   },
   {
    "duration": 9,
    "start_time": "2023-01-12T20:34:11.630Z"
   },
   {
    "duration": 11,
    "start_time": "2023-01-12T20:34:11.640Z"
   },
   {
    "duration": 5,
    "start_time": "2023-01-12T20:34:11.652Z"
   },
   {
    "duration": 6,
    "start_time": "2023-01-12T20:34:11.658Z"
   },
   {
    "duration": 1676,
    "start_time": "2023-01-13T05:00:10.370Z"
   },
   {
    "duration": 3061,
    "start_time": "2023-01-13T05:00:12.049Z"
   },
   {
    "duration": 18,
    "start_time": "2023-01-13T05:00:15.112Z"
   },
   {
    "duration": 218,
    "start_time": "2023-01-13T05:00:15.132Z"
   },
   {
    "duration": 74,
    "start_time": "2023-01-13T05:00:15.351Z"
   },
   {
    "duration": 10,
    "start_time": "2023-01-13T05:00:15.426Z"
   },
   {
    "duration": 4,
    "start_time": "2023-01-13T05:00:15.437Z"
   },
   {
    "duration": 8,
    "start_time": "2023-01-13T05:00:15.443Z"
   },
   {
    "duration": 12,
    "start_time": "2023-01-13T05:00:15.452Z"
   },
   {
    "duration": 8,
    "start_time": "2023-01-13T05:00:15.467Z"
   },
   {
    "duration": 45,
    "start_time": "2023-01-13T05:00:15.476Z"
   },
   {
    "duration": 10041,
    "start_time": "2023-01-13T05:00:15.523Z"
   },
   {
    "duration": 271,
    "start_time": "2023-01-13T05:00:25.565Z"
   },
   {
    "duration": 1792,
    "start_time": "2023-01-13T05:00:25.837Z"
   },
   {
    "duration": 416,
    "start_time": "2023-01-13T05:00:27.630Z"
   },
   {
    "duration": 2151,
    "start_time": "2023-01-13T05:00:28.048Z"
   },
   {
    "duration": 884,
    "start_time": "2023-01-13T05:00:30.201Z"
   },
   {
    "duration": 3,
    "start_time": "2023-01-13T05:00:31.087Z"
   },
   {
    "duration": 32,
    "start_time": "2023-01-13T05:00:31.091Z"
   },
   {
    "duration": 16,
    "start_time": "2023-01-13T05:00:31.124Z"
   },
   {
    "duration": 240,
    "start_time": "2023-01-13T05:00:31.142Z"
   },
   {
    "duration": 8387,
    "start_time": "2023-01-13T05:00:31.384Z"
   },
   {
    "duration": 656,
    "start_time": "2023-01-13T05:00:39.773Z"
   },
   {
    "duration": 736,
    "start_time": "2023-01-13T05:00:40.431Z"
   },
   {
    "duration": 117,
    "start_time": "2023-01-13T05:00:41.168Z"
   },
   {
    "duration": 710,
    "start_time": "2023-01-13T05:00:41.287Z"
   },
   {
    "duration": 4,
    "start_time": "2023-01-13T05:00:41.998Z"
   },
   {
    "duration": 5,
    "start_time": "2023-01-13T05:00:42.015Z"
   },
   {
    "duration": 5,
    "start_time": "2023-01-13T05:00:42.021Z"
   },
   {
    "duration": 988,
    "start_time": "2023-01-13T05:00:42.027Z"
   },
   {
    "duration": 19299,
    "start_time": "2023-01-13T05:00:43.017Z"
   },
   {
    "duration": 9603,
    "start_time": "2023-01-13T05:01:02.317Z"
   },
   {
    "duration": 10002,
    "start_time": "2023-01-13T05:01:11.924Z"
   },
   {
    "duration": 1330,
    "start_time": "2023-01-13T05:01:22.016Z"
   },
   {
    "duration": 1255,
    "start_time": "2023-01-13T05:01:23.347Z"
   },
   {
    "duration": 4,
    "start_time": "2023-01-13T05:01:24.604Z"
   },
   {
    "duration": 7,
    "start_time": "2023-01-13T05:01:24.609Z"
   },
   {
    "duration": 4,
    "start_time": "2023-01-13T05:01:24.618Z"
   },
   {
    "duration": 33309,
    "start_time": "2023-01-13T05:01:24.623Z"
   },
   {
    "duration": 33707,
    "start_time": "2023-01-13T05:01:57.934Z"
   },
   {
    "duration": 77,
    "start_time": "2023-01-13T05:02:31.643Z"
   },
   {
    "duration": 34701,
    "start_time": "2023-01-13T05:02:31.722Z"
   },
   {
    "duration": 34420,
    "start_time": "2023-01-13T05:03:06.425Z"
   },
   {
    "duration": 77,
    "start_time": "2023-01-13T05:03:40.848Z"
   },
   {
    "duration": 95,
    "start_time": "2023-01-13T05:03:40.928Z"
   },
   {
    "duration": 808,
    "start_time": "2023-01-13T05:03:41.024Z"
   },
   {
    "duration": 1181,
    "start_time": "2023-01-13T05:03:41.834Z"
   },
   {
    "duration": 4,
    "start_time": "2023-01-13T05:03:43.018Z"
   },
   {
    "duration": 104,
    "start_time": "2023-01-13T05:03:43.024Z"
   },
   {
    "duration": 10,
    "start_time": "2023-01-13T05:03:43.130Z"
   },
   {
    "duration": 11,
    "start_time": "2023-01-13T05:03:43.141Z"
   },
   {
    "duration": 4,
    "start_time": "2023-01-13T05:03:43.154Z"
   },
   {
    "duration": 24,
    "start_time": "2023-01-13T05:03:43.159Z"
   },
   {
    "duration": 130,
    "start_time": "2023-01-13T05:03:43.185Z"
   },
   {
    "duration": 5,
    "start_time": "2023-01-13T05:03:43.317Z"
   },
   {
    "duration": 4,
    "start_time": "2023-01-13T05:03:43.323Z"
   },
   {
    "duration": 6,
    "start_time": "2023-01-13T05:03:43.328Z"
   },
   {
    "duration": 80,
    "start_time": "2023-01-13T05:03:43.335Z"
   },
   {
    "duration": 108,
    "start_time": "2023-01-13T05:03:43.416Z"
   },
   {
    "duration": 95,
    "start_time": "2023-01-13T05:03:43.526Z"
   },
   {
    "duration": 106,
    "start_time": "2023-01-13T05:03:43.623Z"
   },
   {
    "duration": 7,
    "start_time": "2023-01-13T05:03:43.730Z"
   },
   {
    "duration": 7,
    "start_time": "2023-01-13T05:03:43.739Z"
   },
   {
    "duration": 9,
    "start_time": "2023-01-13T05:03:43.748Z"
   },
   {
    "duration": 25,
    "start_time": "2023-01-13T05:05:39.967Z"
   },
   {
    "duration": 25,
    "start_time": "2023-01-13T05:05:50.934Z"
   },
   {
    "duration": 5,
    "start_time": "2023-01-13T05:06:10.165Z"
   },
   {
    "duration": 5,
    "start_time": "2023-01-13T05:06:18.161Z"
   },
   {
    "duration": 6,
    "start_time": "2023-01-13T05:07:04.249Z"
   },
   {
    "duration": 22,
    "start_time": "2023-01-13T05:24:51.447Z"
   },
   {
    "duration": 23,
    "start_time": "2023-01-13T05:28:05.317Z"
   },
   {
    "duration": 108,
    "start_time": "2023-01-13T05:28:12.557Z"
   },
   {
    "duration": 4,
    "start_time": "2023-01-13T05:28:17.014Z"
   },
   {
    "duration": 10,
    "start_time": "2023-01-13T05:32:27.130Z"
   },
   {
    "duration": 15,
    "start_time": "2023-01-13T05:32:34.860Z"
   },
   {
    "duration": 17,
    "start_time": "2023-01-13T05:34:40.870Z"
   },
   {
    "duration": 31,
    "start_time": "2023-01-13T05:35:00.039Z"
   },
   {
    "duration": 4,
    "start_time": "2023-01-13T05:36:31.147Z"
   },
   {
    "duration": 3,
    "start_time": "2023-01-13T05:36:39.939Z"
   },
   {
    "duration": 18,
    "start_time": "2023-01-13T05:38:28.830Z"
   },
   {
    "duration": 19,
    "start_time": "2023-01-13T05:38:46.521Z"
   },
   {
    "duration": 22,
    "start_time": "2023-01-13T05:40:00.445Z"
   },
   {
    "duration": 17,
    "start_time": "2023-01-13T05:40:40.154Z"
   },
   {
    "duration": 5,
    "start_time": "2023-01-13T05:41:03.969Z"
   },
   {
    "duration": 4,
    "start_time": "2023-01-13T05:41:38.628Z"
   },
   {
    "duration": 5,
    "start_time": "2023-01-13T05:42:02.011Z"
   },
   {
    "duration": 4,
    "start_time": "2023-01-13T05:42:07.335Z"
   },
   {
    "duration": 3,
    "start_time": "2023-01-13T05:42:27.085Z"
   },
   {
    "duration": 3,
    "start_time": "2023-01-13T05:42:40.816Z"
   },
   {
    "duration": 9,
    "start_time": "2023-01-13T05:43:01.959Z"
   },
   {
    "duration": 4,
    "start_time": "2023-01-13T05:43:11.461Z"
   },
   {
    "duration": 4,
    "start_time": "2023-01-13T05:50:50.981Z"
   },
   {
    "duration": 4,
    "start_time": "2023-01-13T05:51:13.133Z"
   },
   {
    "duration": 7,
    "start_time": "2023-01-13T05:51:39.044Z"
   },
   {
    "duration": 6,
    "start_time": "2023-01-13T05:51:46.938Z"
   },
   {
    "duration": 53,
    "start_time": "2023-01-13T05:52:02.463Z"
   },
   {
    "duration": 6,
    "start_time": "2023-01-13T05:52:15.158Z"
   },
   {
    "duration": 25,
    "start_time": "2023-01-13T05:59:12.303Z"
   },
   {
    "duration": 62,
    "start_time": "2023-01-13T06:18:35.303Z"
   },
   {
    "duration": 1697,
    "start_time": "2023-01-13T06:18:39.399Z"
   },
   {
    "duration": 2189,
    "start_time": "2023-01-13T06:18:41.219Z"
   },
   {
    "duration": 36,
    "start_time": "2023-01-13T06:18:43.410Z"
   },
   {
    "duration": 79,
    "start_time": "2023-01-13T06:19:03.063Z"
   },
   {
    "duration": 1475,
    "start_time": "2023-01-13T06:19:24.794Z"
   },
   {
    "duration": 658,
    "start_time": "2023-01-13T06:19:26.387Z"
   },
   {
    "duration": 12,
    "start_time": "2023-01-13T06:19:29.275Z"
   },
   {
    "duration": 1403,
    "start_time": "2023-01-13T06:27:33.684Z"
   },
   {
    "duration": 705,
    "start_time": "2023-01-13T06:27:35.089Z"
   },
   {
    "duration": 17,
    "start_time": "2023-01-13T06:27:35.796Z"
   },
   {
    "duration": 241,
    "start_time": "2023-01-13T06:27:35.815Z"
   },
   {
    "duration": 61,
    "start_time": "2023-01-13T06:27:36.058Z"
   },
   {
    "duration": 34,
    "start_time": "2023-01-13T06:27:36.121Z"
   },
   {
    "duration": 5,
    "start_time": "2023-01-13T06:27:36.157Z"
   },
   {
    "duration": 15,
    "start_time": "2023-01-13T06:27:36.164Z"
   },
   {
    "duration": 10,
    "start_time": "2023-01-13T06:27:36.181Z"
   },
   {
    "duration": 10,
    "start_time": "2023-01-13T06:27:36.192Z"
   },
   {
    "duration": 148,
    "start_time": "2023-01-13T06:27:36.204Z"
   },
   {
    "duration": 0,
    "start_time": "2023-01-13T06:27:36.354Z"
   },
   {
    "duration": 0,
    "start_time": "2023-01-13T06:27:36.356Z"
   },
   {
    "duration": 0,
    "start_time": "2023-01-13T06:27:36.357Z"
   },
   {
    "duration": 0,
    "start_time": "2023-01-13T06:27:36.357Z"
   },
   {
    "duration": 0,
    "start_time": "2023-01-13T06:27:36.358Z"
   },
   {
    "duration": 0,
    "start_time": "2023-01-13T06:27:36.360Z"
   },
   {
    "duration": 0,
    "start_time": "2023-01-13T06:27:36.361Z"
   },
   {
    "duration": 0,
    "start_time": "2023-01-13T06:27:36.362Z"
   },
   {
    "duration": 0,
    "start_time": "2023-01-13T06:27:36.363Z"
   },
   {
    "duration": 0,
    "start_time": "2023-01-13T06:27:36.364Z"
   },
   {
    "duration": 0,
    "start_time": "2023-01-13T06:27:36.365Z"
   },
   {
    "duration": 0,
    "start_time": "2023-01-13T06:27:36.366Z"
   },
   {
    "duration": 0,
    "start_time": "2023-01-13T06:27:36.367Z"
   },
   {
    "duration": 0,
    "start_time": "2023-01-13T06:27:36.368Z"
   },
   {
    "duration": 0,
    "start_time": "2023-01-13T06:27:36.369Z"
   },
   {
    "duration": 0,
    "start_time": "2023-01-13T06:27:36.369Z"
   },
   {
    "duration": 18,
    "start_time": "2023-01-13T06:28:33.094Z"
   },
   {
    "duration": 24986,
    "start_time": "2023-01-13T06:28:35.580Z"
   },
   {
    "duration": 17823,
    "start_time": "2023-01-13T06:30:18.399Z"
   },
   {
    "duration": 15180,
    "start_time": "2023-01-13T06:31:02.438Z"
   },
   {
    "duration": 16,
    "start_time": "2023-01-13T06:31:32.665Z"
   },
   {
    "duration": 182,
    "start_time": "2023-01-13T06:31:54.595Z"
   },
   {
    "duration": 2026,
    "start_time": "2023-01-13T06:31:57.911Z"
   },
   {
    "duration": 470,
    "start_time": "2023-01-13T06:32:04.869Z"
   },
   {
    "duration": 2567,
    "start_time": "2023-01-13T06:32:09.276Z"
   },
   {
    "duration": 977,
    "start_time": "2023-01-13T06:32:51.154Z"
   },
   {
    "duration": 776,
    "start_time": "2023-01-13T06:34:02.618Z"
   },
   {
    "duration": 24,
    "start_time": "2023-01-13T06:36:30.320Z"
   },
   {
    "duration": 18,
    "start_time": "2023-01-13T06:36:39.176Z"
   },
   {
    "duration": 10,
    "start_time": "2023-01-13T06:37:05.299Z"
   },
   {
    "duration": 5,
    "start_time": "2023-01-13T06:37:07.692Z"
   },
   {
    "duration": 22,
    "start_time": "2023-01-13T06:38:51.689Z"
   },
   {
    "duration": 30,
    "start_time": "2023-01-13T06:38:59.127Z"
   },
   {
    "duration": 13,
    "start_time": "2023-01-13T06:39:13.649Z"
   },
   {
    "duration": 4,
    "start_time": "2023-01-13T06:39:19.900Z"
   },
   {
    "duration": 14,
    "start_time": "2023-01-13T06:39:26.405Z"
   },
   {
    "duration": 14,
    "start_time": "2023-01-13T06:39:50.054Z"
   },
   {
    "duration": 13,
    "start_time": "2023-01-13T06:40:11.568Z"
   },
   {
    "duration": 13,
    "start_time": "2023-01-13T06:40:15.138Z"
   },
   {
    "duration": 30,
    "start_time": "2023-01-13T06:40:19.038Z"
   },
   {
    "duration": 29,
    "start_time": "2023-01-13T06:41:01.688Z"
   },
   {
    "duration": 100,
    "start_time": "2023-01-13T06:42:23.440Z"
   },
   {
    "duration": 1130,
    "start_time": "2023-01-13T06:42:27.557Z"
   },
   {
    "duration": 20,
    "start_time": "2023-01-13T06:42:46.566Z"
   },
   {
    "duration": 12,
    "start_time": "2023-01-13T06:43:04.444Z"
   },
   {
    "duration": 126,
    "start_time": "2023-01-13T06:43:26.260Z"
   },
   {
    "duration": 260,
    "start_time": "2023-01-13T06:43:50.742Z"
   },
   {
    "duration": 18,
    "start_time": "2023-01-13T06:44:08.847Z"
   },
   {
    "duration": 21,
    "start_time": "2023-01-13T06:44:15.738Z"
   },
   {
    "duration": 289,
    "start_time": "2023-01-13T06:44:54.939Z"
   },
   {
    "duration": 15,
    "start_time": "2023-01-13T06:46:25.489Z"
   },
   {
    "duration": 16,
    "start_time": "2023-01-13T06:46:30.007Z"
   },
   {
    "duration": 150,
    "start_time": "2023-01-13T06:46:37.249Z"
   },
   {
    "duration": 14,
    "start_time": "2023-01-13T06:47:40.762Z"
   },
   {
    "duration": 9,
    "start_time": "2023-01-13T06:48:38.441Z"
   },
   {
    "duration": 8,
    "start_time": "2023-01-13T06:48:46.642Z"
   },
   {
    "duration": 7,
    "start_time": "2023-01-13T06:48:56.339Z"
   },
   {
    "duration": 10,
    "start_time": "2023-01-13T06:49:03.609Z"
   },
   {
    "duration": 29,
    "start_time": "2023-01-13T06:49:56.442Z"
   },
   {
    "duration": 24,
    "start_time": "2023-01-13T06:50:44.768Z"
   },
   {
    "duration": 162,
    "start_time": "2023-01-13T06:51:53.252Z"
   },
   {
    "duration": 14,
    "start_time": "2023-01-13T06:54:49.814Z"
   },
   {
    "duration": 53,
    "start_time": "2023-01-13T06:54:57.244Z"
   },
   {
    "duration": 7,
    "start_time": "2023-01-13T06:56:07.583Z"
   },
   {
    "duration": 8,
    "start_time": "2023-01-13T06:56:21.913Z"
   },
   {
    "duration": 6,
    "start_time": "2023-01-13T06:56:34.639Z"
   },
   {
    "duration": 18,
    "start_time": "2023-01-13T06:57:11.893Z"
   },
   {
    "duration": 4,
    "start_time": "2023-01-13T06:57:19.079Z"
   },
   {
    "duration": 6,
    "start_time": "2023-01-13T06:57:20.843Z"
   },
   {
    "duration": 11,
    "start_time": "2023-01-13T06:57:23.682Z"
   },
   {
    "duration": 6,
    "start_time": "2023-01-13T06:57:37.769Z"
   },
   {
    "duration": 5,
    "start_time": "2023-01-13T06:57:39.899Z"
   },
   {
    "duration": 9,
    "start_time": "2023-01-13T06:58:36.127Z"
   },
   {
    "duration": 4,
    "start_time": "2023-01-13T06:58:38.176Z"
   },
   {
    "duration": 5,
    "start_time": "2023-01-13T06:59:00.239Z"
   },
   {
    "duration": 5,
    "start_time": "2023-01-13T06:59:01.973Z"
   },
   {
    "duration": 5,
    "start_time": "2023-01-13T06:59:02.023Z"
   },
   {
    "duration": 4,
    "start_time": "2023-01-13T06:59:49.971Z"
   },
   {
    "duration": 17,
    "start_time": "2023-01-13T07:01:16.757Z"
   },
   {
    "duration": 1553,
    "start_time": "2023-01-13T07:02:19.344Z"
   },
   {
    "duration": 682,
    "start_time": "2023-01-13T07:02:20.899Z"
   },
   {
    "duration": 18,
    "start_time": "2023-01-13T07:02:21.583Z"
   },
   {
    "duration": 241,
    "start_time": "2023-01-13T07:02:21.603Z"
   },
   {
    "duration": 63,
    "start_time": "2023-01-13T07:02:21.851Z"
   },
   {
    "duration": 36,
    "start_time": "2023-01-13T07:02:21.916Z"
   },
   {
    "duration": 6,
    "start_time": "2023-01-13T07:02:21.954Z"
   },
   {
    "duration": 12,
    "start_time": "2023-01-13T07:02:21.962Z"
   },
   {
    "duration": 18,
    "start_time": "2023-01-13T07:02:21.976Z"
   },
   {
    "duration": 15,
    "start_time": "2023-01-13T07:02:21.998Z"
   },
   {
    "duration": 21,
    "start_time": "2023-01-13T07:02:22.015Z"
   },
   {
    "duration": 18476,
    "start_time": "2023-01-13T07:02:22.050Z"
   },
   {
    "duration": 374,
    "start_time": "2023-01-13T07:02:40.528Z"
   },
   {
    "duration": 2017,
    "start_time": "2023-01-13T07:02:40.904Z"
   },
   {
    "duration": 510,
    "start_time": "2023-01-13T07:02:42.923Z"
   },
   {
    "duration": 2889,
    "start_time": "2023-01-13T07:02:43.435Z"
   },
   {
    "duration": 971,
    "start_time": "2023-01-13T07:02:46.326Z"
   },
   {
    "duration": 5,
    "start_time": "2023-01-13T07:02:47.299Z"
   },
   {
    "duration": 18,
    "start_time": "2023-01-13T07:02:47.306Z"
   },
   {
    "duration": 6,
    "start_time": "2023-01-13T07:02:47.326Z"
   },
   {
    "duration": 6,
    "start_time": "2023-01-13T07:02:47.334Z"
   },
   {
    "duration": 3,
    "start_time": "2023-01-13T07:02:47.350Z"
   },
   {
    "duration": 889,
    "start_time": "2023-01-13T07:02:47.355Z"
   },
   {
    "duration": 730,
    "start_time": "2023-01-13T07:02:48.246Z"
   },
   {
    "duration": 176,
    "start_time": "2023-01-13T07:02:48.978Z"
   },
   {
    "duration": 334,
    "start_time": "2023-01-13T07:02:49.156Z"
   },
   {
    "duration": 23,
    "start_time": "2023-01-13T07:02:49.492Z"
   },
   {
    "duration": 4,
    "start_time": "2023-01-13T07:02:58.980Z"
   },
   {
    "duration": 6,
    "start_time": "2023-01-13T07:03:00.931Z"
   },
   {
    "duration": 5,
    "start_time": "2023-01-13T07:03:03.332Z"
   },
   {
    "duration": 5,
    "start_time": "2023-01-13T07:03:05.802Z"
   },
   {
    "duration": 1388,
    "start_time": "2023-01-13T07:03:12.770Z"
   },
   {
    "duration": 4,
    "start_time": "2023-01-13T07:03:56.382Z"
   },
   {
    "duration": 705,
    "start_time": "2023-01-13T07:03:56.387Z"
   },
   {
    "duration": 15,
    "start_time": "2023-01-13T07:03:57.095Z"
   },
   {
    "duration": 183,
    "start_time": "2023-01-13T07:03:57.112Z"
   },
   {
    "duration": 74,
    "start_time": "2023-01-13T07:03:57.297Z"
   },
   {
    "duration": 11,
    "start_time": "2023-01-13T07:03:57.372Z"
   },
   {
    "duration": 10,
    "start_time": "2023-01-13T07:03:57.385Z"
   },
   {
    "duration": 17,
    "start_time": "2023-01-13T07:03:57.396Z"
   },
   {
    "duration": 13,
    "start_time": "2023-01-13T07:03:57.417Z"
   },
   {
    "duration": 26,
    "start_time": "2023-01-13T07:03:57.432Z"
   },
   {
    "duration": 18,
    "start_time": "2023-01-13T07:03:57.460Z"
   },
   {
    "duration": 24242,
    "start_time": "2023-01-13T07:03:57.480Z"
   },
   {
    "duration": 246,
    "start_time": "2023-01-13T07:04:21.724Z"
   },
   {
    "duration": 1939,
    "start_time": "2023-01-13T07:04:21.972Z"
   },
   {
    "duration": 420,
    "start_time": "2023-01-13T07:04:23.913Z"
   },
   {
    "duration": 2591,
    "start_time": "2023-01-13T07:04:24.335Z"
   },
   {
    "duration": 840,
    "start_time": "2023-01-13T07:04:26.928Z"
   },
   {
    "duration": 3,
    "start_time": "2023-01-13T07:04:27.769Z"
   },
   {
    "duration": 24,
    "start_time": "2023-01-13T07:04:27.774Z"
   },
   {
    "duration": 15,
    "start_time": "2023-01-13T07:04:27.800Z"
   },
   {
    "duration": 29,
    "start_time": "2023-01-13T07:04:27.817Z"
   },
   {
    "duration": 29,
    "start_time": "2023-01-13T07:04:27.848Z"
   },
   {
    "duration": 705,
    "start_time": "2023-01-13T07:04:27.879Z"
   },
   {
    "duration": 902,
    "start_time": "2023-01-13T07:04:28.585Z"
   },
   {
    "duration": 156,
    "start_time": "2023-01-13T07:04:29.489Z"
   },
   {
    "duration": 220,
    "start_time": "2023-01-13T07:04:29.651Z"
   },
   {
    "duration": 20,
    "start_time": "2023-01-13T07:04:29.876Z"
   },
   {
    "duration": 4,
    "start_time": "2023-01-13T07:04:29.898Z"
   },
   {
    "duration": 10,
    "start_time": "2023-01-13T07:04:29.904Z"
   },
   {
    "duration": 35,
    "start_time": "2023-01-13T07:04:29.917Z"
   },
   {
    "duration": 11,
    "start_time": "2023-01-13T07:04:29.954Z"
   },
   {
    "duration": 1584,
    "start_time": "2023-01-13T07:04:29.967Z"
   },
   {
    "duration": 40125,
    "start_time": "2023-01-13T07:04:31.553Z"
   },
   {
    "duration": 20001,
    "start_time": "2023-01-13T07:05:11.680Z"
   },
   {
    "duration": 20121,
    "start_time": "2023-01-13T07:05:31.682Z"
   },
   {
    "duration": 13635,
    "start_time": "2023-01-13T07:05:51.804Z"
   },
   {
    "duration": 13529,
    "start_time": "2023-01-13T07:06:05.441Z"
   },
   {
    "duration": 6,
    "start_time": "2023-01-13T07:06:18.973Z"
   },
   {
    "duration": 7,
    "start_time": "2023-01-13T07:06:18.980Z"
   },
   {
    "duration": 10,
    "start_time": "2023-01-13T07:06:18.989Z"
   },
   {
    "duration": 76354,
    "start_time": "2023-01-13T07:06:19.002Z"
   },
   {
    "duration": 45793,
    "start_time": "2023-01-13T07:07:35.359Z"
   },
   {
    "duration": 6,
    "start_time": "2023-01-13T07:08:21.155Z"
   },
   {
    "duration": 63604,
    "start_time": "2023-01-13T07:08:21.163Z"
   },
   {
    "duration": 46000,
    "start_time": "2023-01-13T07:09:24.851Z"
   },
   {
    "duration": 7,
    "start_time": "2023-01-13T07:10:10.854Z"
   },
   {
    "duration": 3761,
    "start_time": "2023-01-13T07:11:28.703Z"
   },
   {
    "duration": 4496,
    "start_time": "2023-01-13T07:11:32.466Z"
   },
   {
    "duration": 3,
    "start_time": "2023-01-13T07:11:38.318Z"
   },
   {
    "duration": 6,
    "start_time": "2023-01-13T07:11:40.217Z"
   },
   {
    "duration": 12,
    "start_time": "2023-01-13T07:11:42.968Z"
   },
   {
    "duration": 187,
    "start_time": "2023-01-13T07:11:46.152Z"
   },
   {
    "duration": 3,
    "start_time": "2023-01-13T07:11:51.352Z"
   },
   {
    "duration": 11,
    "start_time": "2023-01-13T07:11:53.915Z"
   },
   {
    "duration": 3,
    "start_time": "2023-01-13T07:12:12.280Z"
   },
   {
    "duration": 7,
    "start_time": "2023-01-13T07:12:14.196Z"
   },
   {
    "duration": 181,
    "start_time": "2023-01-13T07:12:20.775Z"
   },
   {
    "duration": 56,
    "start_time": "2023-01-13T07:12:22.806Z"
   },
   {
    "duration": 4,
    "start_time": "2023-01-13T07:12:24.825Z"
   },
   {
    "duration": 6,
    "start_time": "2023-01-13T07:12:27.362Z"
   },
   {
    "duration": 6,
    "start_time": "2023-01-13T07:12:28.957Z"
   },
   {
    "duration": 4,
    "start_time": "2023-01-13T07:12:30.417Z"
   },
   {
    "duration": 5,
    "start_time": "2023-01-13T07:12:34.676Z"
   },
   {
    "duration": 19,
    "start_time": "2023-01-13T07:14:12.903Z"
   },
   {
    "duration": 22,
    "start_time": "2023-01-13T07:14:32.180Z"
   },
   {
    "duration": 25,
    "start_time": "2023-01-13T07:14:45.104Z"
   },
   {
    "duration": 22,
    "start_time": "2023-01-13T07:14:48.692Z"
   },
   {
    "duration": 1544,
    "start_time": "2023-01-13T07:15:45.049Z"
   },
   {
    "duration": 761,
    "start_time": "2023-01-13T07:15:46.596Z"
   },
   {
    "duration": 20,
    "start_time": "2023-01-13T07:15:47.358Z"
   },
   {
    "duration": 240,
    "start_time": "2023-01-13T07:15:47.380Z"
   },
   {
    "duration": 75,
    "start_time": "2023-01-13T07:15:47.622Z"
   },
   {
    "duration": 11,
    "start_time": "2023-01-13T07:15:47.699Z"
   },
   {
    "duration": 18,
    "start_time": "2023-01-13T07:15:47.711Z"
   },
   {
    "duration": 36,
    "start_time": "2023-01-13T07:15:47.731Z"
   },
   {
    "duration": 24,
    "start_time": "2023-01-13T07:15:47.769Z"
   },
   {
    "duration": 20,
    "start_time": "2023-01-13T07:15:47.796Z"
   },
   {
    "duration": 33,
    "start_time": "2023-01-13T07:15:47.818Z"
   },
   {
    "duration": 21540,
    "start_time": "2023-01-13T07:15:47.854Z"
   },
   {
    "duration": 293,
    "start_time": "2023-01-13T07:16:09.396Z"
   },
   {
    "duration": 2073,
    "start_time": "2023-01-13T07:16:09.691Z"
   },
   {
    "duration": 485,
    "start_time": "2023-01-13T07:16:11.766Z"
   },
   {
    "duration": 2519,
    "start_time": "2023-01-13T07:16:12.253Z"
   },
   {
    "duration": 977,
    "start_time": "2023-01-13T07:16:14.774Z"
   },
   {
    "duration": 3,
    "start_time": "2023-01-13T07:16:15.754Z"
   },
   {
    "duration": 12,
    "start_time": "2023-01-13T07:16:15.759Z"
   },
   {
    "duration": 5,
    "start_time": "2023-01-13T07:16:15.773Z"
   },
   {
    "duration": 10,
    "start_time": "2023-01-13T07:16:15.780Z"
   },
   {
    "duration": 9,
    "start_time": "2023-01-13T07:16:15.792Z"
   },
   {
    "duration": 790,
    "start_time": "2023-01-13T07:16:15.803Z"
   },
   {
    "duration": 695,
    "start_time": "2023-01-13T07:16:16.595Z"
   },
   {
    "duration": 195,
    "start_time": "2023-01-13T07:16:17.292Z"
   },
   {
    "duration": 315,
    "start_time": "2023-01-13T07:16:17.490Z"
   },
   {
    "duration": 19,
    "start_time": "2023-01-13T07:16:17.807Z"
   },
   {
    "duration": 19,
    "start_time": "2023-01-13T07:16:17.832Z"
   },
   {
    "duration": 26,
    "start_time": "2023-01-13T07:16:17.852Z"
   },
   {
    "duration": 13,
    "start_time": "2023-01-13T07:16:17.880Z"
   },
   {
    "duration": 19,
    "start_time": "2023-01-13T07:16:17.895Z"
   },
   {
    "duration": 1545,
    "start_time": "2023-01-13T07:16:17.917Z"
   },
   {
    "duration": 40217,
    "start_time": "2023-01-13T07:16:19.464Z"
   },
   {
    "duration": 20099,
    "start_time": "2023-01-13T07:16:59.684Z"
   },
   {
    "duration": 20097,
    "start_time": "2023-01-13T07:17:19.786Z"
   },
   {
    "duration": 13791,
    "start_time": "2023-01-13T07:17:39.885Z"
   },
   {
    "duration": 14025,
    "start_time": "2023-01-13T07:17:53.678Z"
   },
   {
    "duration": 5,
    "start_time": "2023-01-13T07:18:07.705Z"
   },
   {
    "duration": 49,
    "start_time": "2023-01-13T07:18:07.711Z"
   },
   {
    "duration": 45,
    "start_time": "2023-01-13T07:18:07.762Z"
   },
   {
    "duration": 66551,
    "start_time": "2023-01-13T07:18:07.809Z"
   },
   {
    "duration": 47398,
    "start_time": "2023-01-13T07:19:14.363Z"
   },
   {
    "duration": 89,
    "start_time": "2023-01-13T07:20:01.765Z"
   },
   {
    "duration": 67796,
    "start_time": "2023-01-13T07:20:01.857Z"
   },
   {
    "duration": 45204,
    "start_time": "2023-01-13T07:21:09.656Z"
   },
   {
    "duration": 92,
    "start_time": "2023-01-13T07:21:54.865Z"
   },
   {
    "duration": 103,
    "start_time": "2023-01-13T07:21:54.959Z"
   },
   {
    "duration": 3794,
    "start_time": "2023-01-13T07:21:55.064Z"
   },
   {
    "duration": 3394,
    "start_time": "2023-01-13T07:21:58.862Z"
   },
   {
    "duration": 10,
    "start_time": "2023-01-13T07:22:02.259Z"
   },
   {
    "duration": 10,
    "start_time": "2023-01-13T07:22:02.352Z"
   },
   {
    "duration": 131,
    "start_time": "2023-01-13T07:22:02.364Z"
   },
   {
    "duration": 44,
    "start_time": "2023-01-13T07:22:02.496Z"
   },
   {
    "duration": 38,
    "start_time": "2023-01-13T07:22:02.542Z"
   },
   {
    "duration": 14,
    "start_time": "2023-01-13T07:22:02.582Z"
   },
   {
    "duration": 24,
    "start_time": "2023-01-13T07:22:02.598Z"
   },
   {
    "duration": 27,
    "start_time": "2023-01-13T07:22:02.624Z"
   },
   {
    "duration": 28,
    "start_time": "2023-01-13T07:22:02.653Z"
   },
   {
    "duration": 25,
    "start_time": "2023-01-13T07:22:02.683Z"
   },
   {
    "duration": 42,
    "start_time": "2023-01-13T07:22:02.710Z"
   },
   {
    "duration": 218,
    "start_time": "2023-01-13T07:22:02.755Z"
   },
   {
    "duration": 178,
    "start_time": "2023-01-13T07:22:02.975Z"
   },
   {
    "duration": 37,
    "start_time": "2023-01-13T07:22:03.155Z"
   },
   {
    "duration": 24,
    "start_time": "2023-01-13T07:22:03.194Z"
   },
   {
    "duration": 16,
    "start_time": "2023-01-13T07:22:03.220Z"
   },
   {
    "duration": 31,
    "start_time": "2023-01-13T07:22:03.239Z"
   }
  ],
  "kernelspec": {
   "display_name": "Python 3 (ipykernel)",
   "language": "python",
   "name": "python3"
  },
  "language_info": {
   "codemirror_mode": {
    "name": "ipython",
    "version": 3
   },
   "file_extension": ".py",
   "mimetype": "text/x-python",
   "name": "python",
   "nbconvert_exporter": "python",
   "pygments_lexer": "ipython3",
   "version": "3.8.16"
  },
  "toc": {
   "base_numbering": 1,
   "nav_menu": {},
   "number_sections": true,
   "sideBar": true,
   "skip_h1_title": true,
   "title_cell": "Содержание",
   "title_sidebar": "Contents",
   "toc_cell": true,
   "toc_position": {},
   "toc_section_display": true,
   "toc_window_display": true
  }
 },
 "nbformat": 4,
 "nbformat_minor": 2
}
