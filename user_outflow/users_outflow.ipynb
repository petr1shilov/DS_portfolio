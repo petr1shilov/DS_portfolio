{
 "cells": [
  {
   "cell_type": "markdown",
   "metadata": {
    "toc": true
   },
   "source": [
    "<h1>Содержание<span class=\"tocSkip\"></span></h1>\n",
    "<div class=\"toc\"><ul class=\"toc-item\"><li><span><a href=\"#Подготовка-данных\" data-toc-modified-id=\"Подготовка-данных-1\"><span class=\"toc-item-num\">1&nbsp;&nbsp;</span>Подготовка данных</a></span><ul class=\"toc-item\"><li><span><a href=\"#Посмотрим-данные\" data-toc-modified-id=\"Посмотрим-данные-1.1\"><span class=\"toc-item-num\">1.1&nbsp;&nbsp;</span>Посмотрим данные</a></span></li><li><span><a href=\"#Нужно-исправить-названия-колонок-,-по-стандарту\" data-toc-modified-id=\"Нужно-исправить-названия-колонок-,-по-стандарту-1.2\"><span class=\"toc-item-num\">1.2&nbsp;&nbsp;</span>Нужно исправить названия колонок , по стандарту</a></span></li><li><span><a href=\"#Нужно-проверть-наличие-пропусков\" data-toc-modified-id=\"Нужно-проверть-наличие-пропусков-1.3\"><span class=\"toc-item-num\">1.3&nbsp;&nbsp;</span>Нужно проверть наличие пропусков</a></span></li><li><span><a href=\"#Проверим-на-дубли\" data-toc-modified-id=\"Проверим-на-дубли-1.4\"><span class=\"toc-item-num\">1.4&nbsp;&nbsp;</span>Проверим на дубли</a></span></li><li><span><a href=\"#Подготовка-и-отбор-фичей\" data-toc-modified-id=\"Подготовка-и-отбор-фичей-1.5\"><span class=\"toc-item-num\">1.5&nbsp;&nbsp;</span>Подготовка и отбор фичей</a></span></li></ul></li><li><span><a href=\"#Исследование-задачи\" data-toc-modified-id=\"Исследование-задачи-2\"><span class=\"toc-item-num\">2&nbsp;&nbsp;</span>Исследование задачи</a></span><ul class=\"toc-item\"><li><span><a href=\"#Анализ-баланса\" data-toc-modified-id=\"Анализ-баланса-2.1\"><span class=\"toc-item-num\">2.1&nbsp;&nbsp;</span>Анализ баланса</a></span></li><li><span><a href=\"#Разобьем-данные-на-трейн-тест-и-валид\" data-toc-modified-id=\"Разобьем-данные-на-трейн-тест-и-валид-2.2\"><span class=\"toc-item-num\">2.2&nbsp;&nbsp;</span>Разобьем данные на трейн тест и валид</a></span></li><li><span><a href=\"#Подберем-модель\" data-toc-modified-id=\"Подберем-модель-2.3\"><span class=\"toc-item-num\">2.3&nbsp;&nbsp;</span>Подберем модель</a></span></li></ul></li><li><span><a href=\"#Борьба-с-дисбалансом\" data-toc-modified-id=\"Борьба-с-дисбалансом-3\"><span class=\"toc-item-num\">3&nbsp;&nbsp;</span>Борьба с дисбалансом</a></span><ul class=\"toc-item\"><li><span><a href=\"#Upsample\" data-toc-modified-id=\"Upsample-3.1\"><span class=\"toc-item-num\">3.1&nbsp;&nbsp;</span>Upsample</a></span></li><li><span><a href=\"#downsample\" data-toc-modified-id=\"downsample-3.2\"><span class=\"toc-item-num\">3.2&nbsp;&nbsp;</span>downsample</a></span></li><li><span><a href=\"#функции-по-перебору-параметров-и-нахождению-лучшей-модели-(мой-собственный-GridSearch)-:)\" data-toc-modified-id=\"функции-по-перебору-параметров-и-нахождению-лучшей-модели-(мой-собственный-GridSearch)-:)-3.3\"><span class=\"toc-item-num\">3.3&nbsp;&nbsp;</span>функции по перебору параметров и нахождению лучшей модели (мой собственный GridSearch) :)</a></span></li><li><span><a href=\"#подставим-разные-семплы\" data-toc-modified-id=\"подставим-разные-семплы-3.4\"><span class=\"toc-item-num\">3.4&nbsp;&nbsp;</span>подставим разные семплы</a></span></li><li><span><a href=\"#autosampling\" data-toc-modified-id=\"autosampling-3.5\"><span class=\"toc-item-num\">3.5&nbsp;&nbsp;</span>autosampling</a></span></li></ul></li><li><span><a href=\"#Тестирование-модели\" data-toc-modified-id=\"Тестирование-модели-4\"><span class=\"toc-item-num\">4&nbsp;&nbsp;</span>Тестирование модели</a></span><ul class=\"toc-item\"><li><span><a href=\"#Тестирование\" data-toc-modified-id=\"Тестирование-4.1\"><span class=\"toc-item-num\">4.1&nbsp;&nbsp;</span>Тестирование</a></span></li><li><span><a href=\"#ROC-AUC\" data-toc-modified-id=\"ROC-AUC-4.2\"><span class=\"toc-item-num\">4.2&nbsp;&nbsp;</span>ROC-AUC</a></span></li><li><span><a href=\"#Общий-вывод\" data-toc-modified-id=\"Общий-вывод-4.3\"><span class=\"toc-item-num\">4.3&nbsp;&nbsp;</span>Общий вывод</a></span></li></ul></li><li><span><a href=\"#Чек-лист-готовности-проекта\" data-toc-modified-id=\"Чек-лист-готовности-проекта-5\"><span class=\"toc-item-num\">5&nbsp;&nbsp;</span>Чек-лист готовности проекта</a></span></li></ul></div>"
   ]
  },
  {
   "cell_type": "markdown",
   "metadata": {},
   "source": [
    "# Отток клиентов"
   ]
  },
  {
   "cell_type": "markdown",
   "metadata": {},
   "source": [
    "Из «Бета-Банка» стали уходить клиенты. Каждый месяц. Немного, но заметно. Банковские маркетологи посчитали: сохранять текущих клиентов дешевле, чем привлекать новых.\n",
    "\n",
    "Нужно спрогнозировать, уйдёт клиент из банка в ближайшее время или нет. Вам предоставлены исторические данные о поведении клиентов и расторжении договоров с банком. \n",
    "\n",
    "Постройте модель с предельно большим значением *F1*-меры. Чтобы сдать проект успешно, нужно довести метрику до 0.59. Проверьте *F1*-меру на тестовой выборке самостоятельно.\n",
    "\n",
    "Дополнительно измеряйте *AUC-ROC*, сравнивайте её значение с *F1*-мерой.\n",
    "\n",
    "Источник данных: [https://www.kaggle.com/barelydedicated/bank-customer-churn-modeling](https://www.kaggle.com/barelydedicated/bank-customer-churn-modeling)"
   ]
  },
  {
   "cell_type": "markdown",
   "metadata": {},
   "source": [
    "## Подготовка данных"
   ]
  },
  {
   "cell_type": "code",
   "execution_count": 1,
   "metadata": {},
   "outputs": [
    {
     "name": "stdout",
     "output_type": "stream",
     "text": [
      "Всё хорошо.\n",
      "Всё хорошо.\n"
     ]
    }
   ],
   "source": [
    "import pandas as pd\n",
    "import numpy as np\n",
    "\n",
    "from sklearn.preprocessing import OrdinalEncoder, StandardScaler, OneHotEncoder\n",
    "from sklearn.model_selection import train_test_split, GridSearchCV\n",
    "from sklearn.tree import DecisionTreeClassifier\n",
    "from sklearn.neighbors import KNeighborsClassifier\n",
    "from sklearn.ensemble import RandomForestClassifier\n",
    "from sklearn.linear_model import LogisticRegression\n",
    "from sklearn.utils import shuffle, resample\n",
    "from sklearn.feature_selection import mutual_info_classif\n",
    "from sklearn.compose import make_column_transformer\n",
    "\n",
    "import warnings\n",
    "warnings.filterwarnings(\"ignore\")\n",
    "\n",
    "from sklearn.metrics import accuracy_score, recall_score, precision_score, f1_score, roc_auc_score, roc_curve, auc\n",
    "\n",
    "import matplotlib.pyplot as plt\n",
    "import seaborn as sns\n",
    "\n",
    "try :\n",
    "    from fast_ml.model_development import train_valid_test_split\n",
    "\n",
    "except ImportError:\n",
    "    !pip install fast_ml\n",
    "    from fast_ml.model_development import train_valid_test_split\n",
    "else:\n",
    "    from fast_ml.model_development import train_valid_test_split\n",
    "    print('Всё хорошо.')\n",
    "    \n",
    "# !pip install scikit-plot\n",
    "try :\n",
    "    import scikitplot as skplt\n",
    "\n",
    "except ImportError:\n",
    "    !pip install scikit-plot\n",
    "    import scikitplot as skplt\n",
    "else:\n",
    "    import scikitplot as skplt\n",
    "    print('Всё хорошо.')"
   ]
  },
  {
   "cell_type": "markdown",
   "metadata": {},
   "source": [
    "### Посмотрим данные"
   ]
  },
  {
   "cell_type": "code",
   "execution_count": 2,
   "metadata": {},
   "outputs": [
    {
     "data": {
      "text/html": [
       "<div>\n",
       "<style scoped>\n",
       "    .dataframe tbody tr th:only-of-type {\n",
       "        vertical-align: middle;\n",
       "    }\n",
       "\n",
       "    .dataframe tbody tr th {\n",
       "        vertical-align: top;\n",
       "    }\n",
       "\n",
       "    .dataframe thead th {\n",
       "        text-align: right;\n",
       "    }\n",
       "</style>\n",
       "<table border=\"1\" class=\"dataframe\">\n",
       "  <thead>\n",
       "    <tr style=\"text-align: right;\">\n",
       "      <th></th>\n",
       "      <th>RowNumber</th>\n",
       "      <th>CustomerId</th>\n",
       "      <th>Surname</th>\n",
       "      <th>CreditScore</th>\n",
       "      <th>Geography</th>\n",
       "      <th>Gender</th>\n",
       "      <th>Age</th>\n",
       "      <th>Tenure</th>\n",
       "      <th>Balance</th>\n",
       "      <th>NumOfProducts</th>\n",
       "      <th>HasCrCard</th>\n",
       "      <th>IsActiveMember</th>\n",
       "      <th>EstimatedSalary</th>\n",
       "      <th>Exited</th>\n",
       "    </tr>\n",
       "  </thead>\n",
       "  <tbody>\n",
       "    <tr>\n",
       "      <th>0</th>\n",
       "      <td>1</td>\n",
       "      <td>15634602</td>\n",
       "      <td>Hargrave</td>\n",
       "      <td>619</td>\n",
       "      <td>France</td>\n",
       "      <td>Female</td>\n",
       "      <td>42</td>\n",
       "      <td>2.0</td>\n",
       "      <td>0.00</td>\n",
       "      <td>1</td>\n",
       "      <td>1</td>\n",
       "      <td>1</td>\n",
       "      <td>101348.88</td>\n",
       "      <td>1</td>\n",
       "    </tr>\n",
       "    <tr>\n",
       "      <th>1</th>\n",
       "      <td>2</td>\n",
       "      <td>15647311</td>\n",
       "      <td>Hill</td>\n",
       "      <td>608</td>\n",
       "      <td>Spain</td>\n",
       "      <td>Female</td>\n",
       "      <td>41</td>\n",
       "      <td>1.0</td>\n",
       "      <td>83807.86</td>\n",
       "      <td>1</td>\n",
       "      <td>0</td>\n",
       "      <td>1</td>\n",
       "      <td>112542.58</td>\n",
       "      <td>0</td>\n",
       "    </tr>\n",
       "    <tr>\n",
       "      <th>2</th>\n",
       "      <td>3</td>\n",
       "      <td>15619304</td>\n",
       "      <td>Onio</td>\n",
       "      <td>502</td>\n",
       "      <td>France</td>\n",
       "      <td>Female</td>\n",
       "      <td>42</td>\n",
       "      <td>8.0</td>\n",
       "      <td>159660.80</td>\n",
       "      <td>3</td>\n",
       "      <td>1</td>\n",
       "      <td>0</td>\n",
       "      <td>113931.57</td>\n",
       "      <td>1</td>\n",
       "    </tr>\n",
       "    <tr>\n",
       "      <th>3</th>\n",
       "      <td>4</td>\n",
       "      <td>15701354</td>\n",
       "      <td>Boni</td>\n",
       "      <td>699</td>\n",
       "      <td>France</td>\n",
       "      <td>Female</td>\n",
       "      <td>39</td>\n",
       "      <td>1.0</td>\n",
       "      <td>0.00</td>\n",
       "      <td>2</td>\n",
       "      <td>0</td>\n",
       "      <td>0</td>\n",
       "      <td>93826.63</td>\n",
       "      <td>0</td>\n",
       "    </tr>\n",
       "    <tr>\n",
       "      <th>4</th>\n",
       "      <td>5</td>\n",
       "      <td>15737888</td>\n",
       "      <td>Mitchell</td>\n",
       "      <td>850</td>\n",
       "      <td>Spain</td>\n",
       "      <td>Female</td>\n",
       "      <td>43</td>\n",
       "      <td>2.0</td>\n",
       "      <td>125510.82</td>\n",
       "      <td>1</td>\n",
       "      <td>1</td>\n",
       "      <td>1</td>\n",
       "      <td>79084.10</td>\n",
       "      <td>0</td>\n",
       "    </tr>\n",
       "  </tbody>\n",
       "</table>\n",
       "</div>"
      ],
      "text/plain": [
       "   RowNumber  CustomerId   Surname  CreditScore Geography  Gender  Age  \\\n",
       "0          1    15634602  Hargrave          619    France  Female   42   \n",
       "1          2    15647311      Hill          608     Spain  Female   41   \n",
       "2          3    15619304      Onio          502    France  Female   42   \n",
       "3          4    15701354      Boni          699    France  Female   39   \n",
       "4          5    15737888  Mitchell          850     Spain  Female   43   \n",
       "\n",
       "   Tenure    Balance  NumOfProducts  HasCrCard  IsActiveMember  \\\n",
       "0     2.0       0.00              1          1               1   \n",
       "1     1.0   83807.86              1          0               1   \n",
       "2     8.0  159660.80              3          1               0   \n",
       "3     1.0       0.00              2          0               0   \n",
       "4     2.0  125510.82              1          1               1   \n",
       "\n",
       "   EstimatedSalary  Exited  \n",
       "0        101348.88       1  \n",
       "1        112542.58       0  \n",
       "2        113931.57       1  \n",
       "3         93826.63       0  \n",
       "4         79084.10       0  "
      ]
     },
     "execution_count": 2,
     "metadata": {},
     "output_type": "execute_result"
    }
   ],
   "source": [
    "df = pd.read_csv('/datasets/Churn.csv')\n",
    "\n",
    "df.head()"
   ]
  },
  {
   "cell_type": "code",
   "execution_count": 3,
   "metadata": {},
   "outputs": [
    {
     "name": "stdout",
     "output_type": "stream",
     "text": [
      "<class 'pandas.core.frame.DataFrame'>\n",
      "RangeIndex: 10000 entries, 0 to 9999\n",
      "Data columns (total 14 columns):\n",
      " #   Column           Non-Null Count  Dtype  \n",
      "---  ------           --------------  -----  \n",
      " 0   RowNumber        10000 non-null  int64  \n",
      " 1   CustomerId       10000 non-null  int64  \n",
      " 2   Surname          10000 non-null  object \n",
      " 3   CreditScore      10000 non-null  int64  \n",
      " 4   Geography        10000 non-null  object \n",
      " 5   Gender           10000 non-null  object \n",
      " 6   Age              10000 non-null  int64  \n",
      " 7   Tenure           9091 non-null   float64\n",
      " 8   Balance          10000 non-null  float64\n",
      " 9   NumOfProducts    10000 non-null  int64  \n",
      " 10  HasCrCard        10000 non-null  int64  \n",
      " 11  IsActiveMember   10000 non-null  int64  \n",
      " 12  EstimatedSalary  10000 non-null  float64\n",
      " 13  Exited           10000 non-null  int64  \n",
      "dtypes: float64(3), int64(8), object(3)\n",
      "memory usage: 1.1+ MB\n"
     ]
    }
   ],
   "source": [
    "df.info()"
   ]
  },
  {
   "cell_type": "code",
   "execution_count": 4,
   "metadata": {},
   "outputs": [
    {
     "data": {
      "text/html": [
       "<div>\n",
       "<style scoped>\n",
       "    .dataframe tbody tr th:only-of-type {\n",
       "        vertical-align: middle;\n",
       "    }\n",
       "\n",
       "    .dataframe tbody tr th {\n",
       "        vertical-align: top;\n",
       "    }\n",
       "\n",
       "    .dataframe thead th {\n",
       "        text-align: right;\n",
       "    }\n",
       "</style>\n",
       "<table border=\"1\" class=\"dataframe\">\n",
       "  <thead>\n",
       "    <tr style=\"text-align: right;\">\n",
       "      <th></th>\n",
       "      <th>RowNumber</th>\n",
       "      <th>CustomerId</th>\n",
       "      <th>CreditScore</th>\n",
       "      <th>Age</th>\n",
       "      <th>Tenure</th>\n",
       "      <th>Balance</th>\n",
       "      <th>NumOfProducts</th>\n",
       "      <th>HasCrCard</th>\n",
       "      <th>IsActiveMember</th>\n",
       "      <th>EstimatedSalary</th>\n",
       "      <th>Exited</th>\n",
       "    </tr>\n",
       "  </thead>\n",
       "  <tbody>\n",
       "    <tr>\n",
       "      <th>count</th>\n",
       "      <td>10000.00000</td>\n",
       "      <td>1.000000e+04</td>\n",
       "      <td>10000.000000</td>\n",
       "      <td>10000.000000</td>\n",
       "      <td>9091.000000</td>\n",
       "      <td>10000.000000</td>\n",
       "      <td>10000.000000</td>\n",
       "      <td>10000.00000</td>\n",
       "      <td>10000.000000</td>\n",
       "      <td>10000.000000</td>\n",
       "      <td>10000.000000</td>\n",
       "    </tr>\n",
       "    <tr>\n",
       "      <th>mean</th>\n",
       "      <td>5000.50000</td>\n",
       "      <td>1.569094e+07</td>\n",
       "      <td>650.528800</td>\n",
       "      <td>38.921800</td>\n",
       "      <td>4.997690</td>\n",
       "      <td>76485.889288</td>\n",
       "      <td>1.530200</td>\n",
       "      <td>0.70550</td>\n",
       "      <td>0.515100</td>\n",
       "      <td>100090.239881</td>\n",
       "      <td>0.203700</td>\n",
       "    </tr>\n",
       "    <tr>\n",
       "      <th>std</th>\n",
       "      <td>2886.89568</td>\n",
       "      <td>7.193619e+04</td>\n",
       "      <td>96.653299</td>\n",
       "      <td>10.487806</td>\n",
       "      <td>2.894723</td>\n",
       "      <td>62397.405202</td>\n",
       "      <td>0.581654</td>\n",
       "      <td>0.45584</td>\n",
       "      <td>0.499797</td>\n",
       "      <td>57510.492818</td>\n",
       "      <td>0.402769</td>\n",
       "    </tr>\n",
       "    <tr>\n",
       "      <th>min</th>\n",
       "      <td>1.00000</td>\n",
       "      <td>1.556570e+07</td>\n",
       "      <td>350.000000</td>\n",
       "      <td>18.000000</td>\n",
       "      <td>0.000000</td>\n",
       "      <td>0.000000</td>\n",
       "      <td>1.000000</td>\n",
       "      <td>0.00000</td>\n",
       "      <td>0.000000</td>\n",
       "      <td>11.580000</td>\n",
       "      <td>0.000000</td>\n",
       "    </tr>\n",
       "    <tr>\n",
       "      <th>25%</th>\n",
       "      <td>2500.75000</td>\n",
       "      <td>1.562853e+07</td>\n",
       "      <td>584.000000</td>\n",
       "      <td>32.000000</td>\n",
       "      <td>2.000000</td>\n",
       "      <td>0.000000</td>\n",
       "      <td>1.000000</td>\n",
       "      <td>0.00000</td>\n",
       "      <td>0.000000</td>\n",
       "      <td>51002.110000</td>\n",
       "      <td>0.000000</td>\n",
       "    </tr>\n",
       "    <tr>\n",
       "      <th>50%</th>\n",
       "      <td>5000.50000</td>\n",
       "      <td>1.569074e+07</td>\n",
       "      <td>652.000000</td>\n",
       "      <td>37.000000</td>\n",
       "      <td>5.000000</td>\n",
       "      <td>97198.540000</td>\n",
       "      <td>1.000000</td>\n",
       "      <td>1.00000</td>\n",
       "      <td>1.000000</td>\n",
       "      <td>100193.915000</td>\n",
       "      <td>0.000000</td>\n",
       "    </tr>\n",
       "    <tr>\n",
       "      <th>75%</th>\n",
       "      <td>7500.25000</td>\n",
       "      <td>1.575323e+07</td>\n",
       "      <td>718.000000</td>\n",
       "      <td>44.000000</td>\n",
       "      <td>7.000000</td>\n",
       "      <td>127644.240000</td>\n",
       "      <td>2.000000</td>\n",
       "      <td>1.00000</td>\n",
       "      <td>1.000000</td>\n",
       "      <td>149388.247500</td>\n",
       "      <td>0.000000</td>\n",
       "    </tr>\n",
       "    <tr>\n",
       "      <th>max</th>\n",
       "      <td>10000.00000</td>\n",
       "      <td>1.581569e+07</td>\n",
       "      <td>850.000000</td>\n",
       "      <td>92.000000</td>\n",
       "      <td>10.000000</td>\n",
       "      <td>250898.090000</td>\n",
       "      <td>4.000000</td>\n",
       "      <td>1.00000</td>\n",
       "      <td>1.000000</td>\n",
       "      <td>199992.480000</td>\n",
       "      <td>1.000000</td>\n",
       "    </tr>\n",
       "  </tbody>\n",
       "</table>\n",
       "</div>"
      ],
      "text/plain": [
       "         RowNumber    CustomerId   CreditScore           Age       Tenure  \\\n",
       "count  10000.00000  1.000000e+04  10000.000000  10000.000000  9091.000000   \n",
       "mean    5000.50000  1.569094e+07    650.528800     38.921800     4.997690   \n",
       "std     2886.89568  7.193619e+04     96.653299     10.487806     2.894723   \n",
       "min        1.00000  1.556570e+07    350.000000     18.000000     0.000000   \n",
       "25%     2500.75000  1.562853e+07    584.000000     32.000000     2.000000   \n",
       "50%     5000.50000  1.569074e+07    652.000000     37.000000     5.000000   \n",
       "75%     7500.25000  1.575323e+07    718.000000     44.000000     7.000000   \n",
       "max    10000.00000  1.581569e+07    850.000000     92.000000    10.000000   \n",
       "\n",
       "             Balance  NumOfProducts    HasCrCard  IsActiveMember  \\\n",
       "count   10000.000000   10000.000000  10000.00000    10000.000000   \n",
       "mean    76485.889288       1.530200      0.70550        0.515100   \n",
       "std     62397.405202       0.581654      0.45584        0.499797   \n",
       "min         0.000000       1.000000      0.00000        0.000000   \n",
       "25%         0.000000       1.000000      0.00000        0.000000   \n",
       "50%     97198.540000       1.000000      1.00000        1.000000   \n",
       "75%    127644.240000       2.000000      1.00000        1.000000   \n",
       "max    250898.090000       4.000000      1.00000        1.000000   \n",
       "\n",
       "       EstimatedSalary        Exited  \n",
       "count     10000.000000  10000.000000  \n",
       "mean     100090.239881      0.203700  \n",
       "std       57510.492818      0.402769  \n",
       "min          11.580000      0.000000  \n",
       "25%       51002.110000      0.000000  \n",
       "50%      100193.915000      0.000000  \n",
       "75%      149388.247500      0.000000  \n",
       "max      199992.480000      1.000000  "
      ]
     },
     "execution_count": 4,
     "metadata": {},
     "output_type": "execute_result"
    }
   ],
   "source": [
    "df.describe()"
   ]
  },
  {
   "cell_type": "markdown",
   "metadata": {},
   "source": [
    "### Нужно исправить названия колонок , по стандарту"
   ]
  },
  {
   "cell_type": "code",
   "execution_count": 5,
   "metadata": {},
   "outputs": [
    {
     "data": {
      "text/html": [
       "<div>\n",
       "<style scoped>\n",
       "    .dataframe tbody tr th:only-of-type {\n",
       "        vertical-align: middle;\n",
       "    }\n",
       "\n",
       "    .dataframe tbody tr th {\n",
       "        vertical-align: top;\n",
       "    }\n",
       "\n",
       "    .dataframe thead th {\n",
       "        text-align: right;\n",
       "    }\n",
       "</style>\n",
       "<table border=\"1\" class=\"dataframe\">\n",
       "  <thead>\n",
       "    <tr style=\"text-align: right;\">\n",
       "      <th></th>\n",
       "      <th>rownumber</th>\n",
       "      <th>customerid</th>\n",
       "      <th>surname</th>\n",
       "      <th>creditscore</th>\n",
       "      <th>geography</th>\n",
       "      <th>gender</th>\n",
       "      <th>age</th>\n",
       "      <th>tenure</th>\n",
       "      <th>balance</th>\n",
       "      <th>numofproducts</th>\n",
       "      <th>hascrcard</th>\n",
       "      <th>isactivemember</th>\n",
       "      <th>estimatedsalary</th>\n",
       "      <th>exited</th>\n",
       "    </tr>\n",
       "  </thead>\n",
       "  <tbody>\n",
       "    <tr>\n",
       "      <th>0</th>\n",
       "      <td>1</td>\n",
       "      <td>15634602</td>\n",
       "      <td>Hargrave</td>\n",
       "      <td>619</td>\n",
       "      <td>France</td>\n",
       "      <td>Female</td>\n",
       "      <td>42</td>\n",
       "      <td>2.0</td>\n",
       "      <td>0.00</td>\n",
       "      <td>1</td>\n",
       "      <td>1</td>\n",
       "      <td>1</td>\n",
       "      <td>101348.88</td>\n",
       "      <td>1</td>\n",
       "    </tr>\n",
       "    <tr>\n",
       "      <th>1</th>\n",
       "      <td>2</td>\n",
       "      <td>15647311</td>\n",
       "      <td>Hill</td>\n",
       "      <td>608</td>\n",
       "      <td>Spain</td>\n",
       "      <td>Female</td>\n",
       "      <td>41</td>\n",
       "      <td>1.0</td>\n",
       "      <td>83807.86</td>\n",
       "      <td>1</td>\n",
       "      <td>0</td>\n",
       "      <td>1</td>\n",
       "      <td>112542.58</td>\n",
       "      <td>0</td>\n",
       "    </tr>\n",
       "    <tr>\n",
       "      <th>2</th>\n",
       "      <td>3</td>\n",
       "      <td>15619304</td>\n",
       "      <td>Onio</td>\n",
       "      <td>502</td>\n",
       "      <td>France</td>\n",
       "      <td>Female</td>\n",
       "      <td>42</td>\n",
       "      <td>8.0</td>\n",
       "      <td>159660.80</td>\n",
       "      <td>3</td>\n",
       "      <td>1</td>\n",
       "      <td>0</td>\n",
       "      <td>113931.57</td>\n",
       "      <td>1</td>\n",
       "    </tr>\n",
       "    <tr>\n",
       "      <th>3</th>\n",
       "      <td>4</td>\n",
       "      <td>15701354</td>\n",
       "      <td>Boni</td>\n",
       "      <td>699</td>\n",
       "      <td>France</td>\n",
       "      <td>Female</td>\n",
       "      <td>39</td>\n",
       "      <td>1.0</td>\n",
       "      <td>0.00</td>\n",
       "      <td>2</td>\n",
       "      <td>0</td>\n",
       "      <td>0</td>\n",
       "      <td>93826.63</td>\n",
       "      <td>0</td>\n",
       "    </tr>\n",
       "    <tr>\n",
       "      <th>4</th>\n",
       "      <td>5</td>\n",
       "      <td>15737888</td>\n",
       "      <td>Mitchell</td>\n",
       "      <td>850</td>\n",
       "      <td>Spain</td>\n",
       "      <td>Female</td>\n",
       "      <td>43</td>\n",
       "      <td>2.0</td>\n",
       "      <td>125510.82</td>\n",
       "      <td>1</td>\n",
       "      <td>1</td>\n",
       "      <td>1</td>\n",
       "      <td>79084.10</td>\n",
       "      <td>0</td>\n",
       "    </tr>\n",
       "  </tbody>\n",
       "</table>\n",
       "</div>"
      ],
      "text/plain": [
       "   rownumber  customerid   surname  creditscore geography  gender  age  \\\n",
       "0          1    15634602  Hargrave          619    France  Female   42   \n",
       "1          2    15647311      Hill          608     Spain  Female   41   \n",
       "2          3    15619304      Onio          502    France  Female   42   \n",
       "3          4    15701354      Boni          699    France  Female   39   \n",
       "4          5    15737888  Mitchell          850     Spain  Female   43   \n",
       "\n",
       "   tenure    balance  numofproducts  hascrcard  isactivemember  \\\n",
       "0     2.0       0.00              1          1               1   \n",
       "1     1.0   83807.86              1          0               1   \n",
       "2     8.0  159660.80              3          1               0   \n",
       "3     1.0       0.00              2          0               0   \n",
       "4     2.0  125510.82              1          1               1   \n",
       "\n",
       "   estimatedsalary  exited  \n",
       "0        101348.88       1  \n",
       "1        112542.58       0  \n",
       "2        113931.57       1  \n",
       "3         93826.63       0  \n",
       "4         79084.10       0  "
      ]
     },
     "execution_count": 5,
     "metadata": {},
     "output_type": "execute_result"
    }
   ],
   "source": [
    "df.rename(str.lower, axis='columns', inplace=True)\n",
    "df.head()"
   ]
  },
  {
   "cell_type": "code",
   "execution_count": 6,
   "metadata": {},
   "outputs": [
    {
     "data": {
      "text/html": [
       "<div>\n",
       "<style scoped>\n",
       "    .dataframe tbody tr th:only-of-type {\n",
       "        vertical-align: middle;\n",
       "    }\n",
       "\n",
       "    .dataframe tbody tr th {\n",
       "        vertical-align: top;\n",
       "    }\n",
       "\n",
       "    .dataframe thead th {\n",
       "        text-align: right;\n",
       "    }\n",
       "</style>\n",
       "<table border=\"1\" class=\"dataframe\">\n",
       "  <thead>\n",
       "    <tr style=\"text-align: right;\">\n",
       "      <th></th>\n",
       "      <th>row_number</th>\n",
       "      <th>customer_id</th>\n",
       "      <th>surname</th>\n",
       "      <th>credit_score</th>\n",
       "      <th>geography</th>\n",
       "      <th>gender</th>\n",
       "      <th>age</th>\n",
       "      <th>tenure</th>\n",
       "      <th>balance</th>\n",
       "      <th>num_of_products</th>\n",
       "      <th>has_crcard</th>\n",
       "      <th>is_activ_emember</th>\n",
       "      <th>estimated_salary</th>\n",
       "      <th>exited</th>\n",
       "    </tr>\n",
       "  </thead>\n",
       "  <tbody>\n",
       "    <tr>\n",
       "      <th>0</th>\n",
       "      <td>1</td>\n",
       "      <td>15634602</td>\n",
       "      <td>Hargrave</td>\n",
       "      <td>619</td>\n",
       "      <td>France</td>\n",
       "      <td>Female</td>\n",
       "      <td>42</td>\n",
       "      <td>2.0</td>\n",
       "      <td>0.00</td>\n",
       "      <td>1</td>\n",
       "      <td>1</td>\n",
       "      <td>1</td>\n",
       "      <td>101348.88</td>\n",
       "      <td>1</td>\n",
       "    </tr>\n",
       "    <tr>\n",
       "      <th>1</th>\n",
       "      <td>2</td>\n",
       "      <td>15647311</td>\n",
       "      <td>Hill</td>\n",
       "      <td>608</td>\n",
       "      <td>Spain</td>\n",
       "      <td>Female</td>\n",
       "      <td>41</td>\n",
       "      <td>1.0</td>\n",
       "      <td>83807.86</td>\n",
       "      <td>1</td>\n",
       "      <td>0</td>\n",
       "      <td>1</td>\n",
       "      <td>112542.58</td>\n",
       "      <td>0</td>\n",
       "    </tr>\n",
       "    <tr>\n",
       "      <th>2</th>\n",
       "      <td>3</td>\n",
       "      <td>15619304</td>\n",
       "      <td>Onio</td>\n",
       "      <td>502</td>\n",
       "      <td>France</td>\n",
       "      <td>Female</td>\n",
       "      <td>42</td>\n",
       "      <td>8.0</td>\n",
       "      <td>159660.80</td>\n",
       "      <td>3</td>\n",
       "      <td>1</td>\n",
       "      <td>0</td>\n",
       "      <td>113931.57</td>\n",
       "      <td>1</td>\n",
       "    </tr>\n",
       "    <tr>\n",
       "      <th>3</th>\n",
       "      <td>4</td>\n",
       "      <td>15701354</td>\n",
       "      <td>Boni</td>\n",
       "      <td>699</td>\n",
       "      <td>France</td>\n",
       "      <td>Female</td>\n",
       "      <td>39</td>\n",
       "      <td>1.0</td>\n",
       "      <td>0.00</td>\n",
       "      <td>2</td>\n",
       "      <td>0</td>\n",
       "      <td>0</td>\n",
       "      <td>93826.63</td>\n",
       "      <td>0</td>\n",
       "    </tr>\n",
       "    <tr>\n",
       "      <th>4</th>\n",
       "      <td>5</td>\n",
       "      <td>15737888</td>\n",
       "      <td>Mitchell</td>\n",
       "      <td>850</td>\n",
       "      <td>Spain</td>\n",
       "      <td>Female</td>\n",
       "      <td>43</td>\n",
       "      <td>2.0</td>\n",
       "      <td>125510.82</td>\n",
       "      <td>1</td>\n",
       "      <td>1</td>\n",
       "      <td>1</td>\n",
       "      <td>79084.10</td>\n",
       "      <td>0</td>\n",
       "    </tr>\n",
       "  </tbody>\n",
       "</table>\n",
       "</div>"
      ],
      "text/plain": [
       "   row_number  customer_id   surname  credit_score geography  gender  age  \\\n",
       "0           1     15634602  Hargrave           619    France  Female   42   \n",
       "1           2     15647311      Hill           608     Spain  Female   41   \n",
       "2           3     15619304      Onio           502    France  Female   42   \n",
       "3           4     15701354      Boni           699    France  Female   39   \n",
       "4           5     15737888  Mitchell           850     Spain  Female   43   \n",
       "\n",
       "   tenure    balance  num_of_products  has_crcard  is_activ_emember  \\\n",
       "0     2.0       0.00                1           1                 1   \n",
       "1     1.0   83807.86                1           0                 1   \n",
       "2     8.0  159660.80                3           1                 0   \n",
       "3     1.0       0.00                2           0                 0   \n",
       "4     2.0  125510.82                1           1                 1   \n",
       "\n",
       "   estimated_salary  exited  \n",
       "0         101348.88       1  \n",
       "1         112542.58       0  \n",
       "2         113931.57       1  \n",
       "3          93826.63       0  \n",
       "4          79084.10       0  "
      ]
     },
     "execution_count": 6,
     "metadata": {},
     "output_type": "execute_result"
    }
   ],
   "source": [
    "df.rename(columns={'rownumber' : 'row_number'\n",
    "                   ,'customerid' : 'customer_id'\n",
    "                   ,'creditscore' : 'credit_score'\n",
    "                   ,'numofproducts' : 'num_of_products'\n",
    "                   ,'hascrcard' : 'has_crcard'\n",
    "                   ,'isactivemember' : 'is_activ_emember'\n",
    "                   ,'estimatedsalary' : 'estimated_salary'\n",
    "                  }, inplace=True)\n",
    "df.head()"
   ]
  },
  {
   "cell_type": "markdown",
   "metadata": {},
   "source": [
    "### Нужно проверть наличие пропусков"
   ]
  },
  {
   "cell_type": "code",
   "execution_count": 7,
   "metadata": {},
   "outputs": [
    {
     "data": {
      "text/plain": [
       "True"
      ]
     },
     "execution_count": 7,
     "metadata": {},
     "output_type": "execute_result"
    }
   ],
   "source": [
    "df.isna().values.any()"
   ]
  },
  {
   "cell_type": "markdown",
   "metadata": {},
   "source": [
    "Пропуски есть , надо посмотреть сколько их, где и как с ними поступить "
   ]
  },
  {
   "cell_type": "code",
   "execution_count": 8,
   "metadata": {},
   "outputs": [
    {
     "data": {
      "text/html": [
       "<div>\n",
       "<style scoped>\n",
       "    .dataframe tbody tr th:only-of-type {\n",
       "        vertical-align: middle;\n",
       "    }\n",
       "\n",
       "    .dataframe tbody tr th {\n",
       "        vertical-align: top;\n",
       "    }\n",
       "\n",
       "    .dataframe thead th {\n",
       "        text-align: right;\n",
       "    }\n",
       "</style>\n",
       "<table border=\"1\" class=\"dataframe\">\n",
       "  <thead>\n",
       "    <tr style=\"text-align: right;\">\n",
       "      <th></th>\n",
       "      <th>0</th>\n",
       "    </tr>\n",
       "  </thead>\n",
       "  <tbody>\n",
       "    <tr>\n",
       "      <th>row_number</th>\n",
       "      <td>0.0</td>\n",
       "    </tr>\n",
       "    <tr>\n",
       "      <th>customer_id</th>\n",
       "      <td>0.0</td>\n",
       "    </tr>\n",
       "    <tr>\n",
       "      <th>surname</th>\n",
       "      <td>0.0</td>\n",
       "    </tr>\n",
       "    <tr>\n",
       "      <th>credit_score</th>\n",
       "      <td>0.0</td>\n",
       "    </tr>\n",
       "    <tr>\n",
       "      <th>geography</th>\n",
       "      <td>0.0</td>\n",
       "    </tr>\n",
       "    <tr>\n",
       "      <th>gender</th>\n",
       "      <td>0.0</td>\n",
       "    </tr>\n",
       "    <tr>\n",
       "      <th>age</th>\n",
       "      <td>0.0</td>\n",
       "    </tr>\n",
       "    <tr>\n",
       "      <th>tenure</th>\n",
       "      <td>9.0</td>\n",
       "    </tr>\n",
       "    <tr>\n",
       "      <th>balance</th>\n",
       "      <td>0.0</td>\n",
       "    </tr>\n",
       "    <tr>\n",
       "      <th>num_of_products</th>\n",
       "      <td>0.0</td>\n",
       "    </tr>\n",
       "    <tr>\n",
       "      <th>has_crcard</th>\n",
       "      <td>0.0</td>\n",
       "    </tr>\n",
       "    <tr>\n",
       "      <th>is_activ_emember</th>\n",
       "      <td>0.0</td>\n",
       "    </tr>\n",
       "    <tr>\n",
       "      <th>estimated_salary</th>\n",
       "      <td>0.0</td>\n",
       "    </tr>\n",
       "    <tr>\n",
       "      <th>exited</th>\n",
       "      <td>0.0</td>\n",
       "    </tr>\n",
       "  </tbody>\n",
       "</table>\n",
       "</div>"
      ],
      "text/plain": [
       "                    0\n",
       "row_number        0.0\n",
       "customer_id       0.0\n",
       "surname           0.0\n",
       "credit_score      0.0\n",
       "geography         0.0\n",
       "gender            0.0\n",
       "age               0.0\n",
       "tenure            9.0\n",
       "balance           0.0\n",
       "num_of_products   0.0\n",
       "has_crcard        0.0\n",
       "is_activ_emember  0.0\n",
       "estimated_salary  0.0\n",
       "exited            0.0"
      ]
     },
     "execution_count": 8,
     "metadata": {},
     "output_type": "execute_result"
    }
   ],
   "source": [
    "pd.DataFrame(round(df.isna().mean() * 100, )) "
   ]
  },
  {
   "cell_type": "code",
   "execution_count": 9,
   "metadata": {},
   "outputs": [
    {
     "data": {
      "text/html": [
       "<style  type=\"text/css\" >\n",
       "</style><table id=\"T_c3e26_\" ><thead>    <tr>        <th class=\"blank level0\" ></th>        <th class=\"col_heading level0 col0\" >пропуски</th>    </tr></thead><tbody>\n",
       "                <tr>\n",
       "                        <th id=\"T_c3e26_level0_row0\" class=\"row_heading level0 row0\" >row_number</th>\n",
       "                        <td id=\"T_c3e26_row0_col0\" class=\"data row0 col0\" >0.00%</td>\n",
       "            </tr>\n",
       "            <tr>\n",
       "                        <th id=\"T_c3e26_level0_row1\" class=\"row_heading level0 row1\" >customer_id</th>\n",
       "                        <td id=\"T_c3e26_row1_col0\" class=\"data row1 col0\" >0.00%</td>\n",
       "            </tr>\n",
       "            <tr>\n",
       "                        <th id=\"T_c3e26_level0_row2\" class=\"row_heading level0 row2\" >surname</th>\n",
       "                        <td id=\"T_c3e26_row2_col0\" class=\"data row2 col0\" >0.00%</td>\n",
       "            </tr>\n",
       "            <tr>\n",
       "                        <th id=\"T_c3e26_level0_row3\" class=\"row_heading level0 row3\" >credit_score</th>\n",
       "                        <td id=\"T_c3e26_row3_col0\" class=\"data row3 col0\" >0.00%</td>\n",
       "            </tr>\n",
       "            <tr>\n",
       "                        <th id=\"T_c3e26_level0_row4\" class=\"row_heading level0 row4\" >geography</th>\n",
       "                        <td id=\"T_c3e26_row4_col0\" class=\"data row4 col0\" >0.00%</td>\n",
       "            </tr>\n",
       "            <tr>\n",
       "                        <th id=\"T_c3e26_level0_row5\" class=\"row_heading level0 row5\" >gender</th>\n",
       "                        <td id=\"T_c3e26_row5_col0\" class=\"data row5 col0\" >0.00%</td>\n",
       "            </tr>\n",
       "            <tr>\n",
       "                        <th id=\"T_c3e26_level0_row6\" class=\"row_heading level0 row6\" >age</th>\n",
       "                        <td id=\"T_c3e26_row6_col0\" class=\"data row6 col0\" >0.00%</td>\n",
       "            </tr>\n",
       "            <tr>\n",
       "                        <th id=\"T_c3e26_level0_row7\" class=\"row_heading level0 row7\" >tenure</th>\n",
       "                        <td id=\"T_c3e26_row7_col0\" class=\"data row7 col0\" >9.09%</td>\n",
       "            </tr>\n",
       "            <tr>\n",
       "                        <th id=\"T_c3e26_level0_row8\" class=\"row_heading level0 row8\" >balance</th>\n",
       "                        <td id=\"T_c3e26_row8_col0\" class=\"data row8 col0\" >0.00%</td>\n",
       "            </tr>\n",
       "            <tr>\n",
       "                        <th id=\"T_c3e26_level0_row9\" class=\"row_heading level0 row9\" >num_of_products</th>\n",
       "                        <td id=\"T_c3e26_row9_col0\" class=\"data row9 col0\" >0.00%</td>\n",
       "            </tr>\n",
       "            <tr>\n",
       "                        <th id=\"T_c3e26_level0_row10\" class=\"row_heading level0 row10\" >has_crcard</th>\n",
       "                        <td id=\"T_c3e26_row10_col0\" class=\"data row10 col0\" >0.00%</td>\n",
       "            </tr>\n",
       "            <tr>\n",
       "                        <th id=\"T_c3e26_level0_row11\" class=\"row_heading level0 row11\" >is_activ_emember</th>\n",
       "                        <td id=\"T_c3e26_row11_col0\" class=\"data row11 col0\" >0.00%</td>\n",
       "            </tr>\n",
       "            <tr>\n",
       "                        <th id=\"T_c3e26_level0_row12\" class=\"row_heading level0 row12\" >estimated_salary</th>\n",
       "                        <td id=\"T_c3e26_row12_col0\" class=\"data row12 col0\" >0.00%</td>\n",
       "            </tr>\n",
       "            <tr>\n",
       "                        <th id=\"T_c3e26_level0_row13\" class=\"row_heading level0 row13\" >exited</th>\n",
       "                        <td id=\"T_c3e26_row13_col0\" class=\"data row13 col0\" >0.00%</td>\n",
       "            </tr>\n",
       "    </tbody></table>"
      ],
      "text/plain": [
       "<pandas.io.formats.style.Styler at 0x7f5073d6ae20>"
      ]
     },
     "execution_count": 9,
     "metadata": {},
     "output_type": "execute_result"
    }
   ],
   "source": [
    "pd.DataFrame(df.isna().mean().to_frame(name='пропуски'))\\\n",
    ".style.format({'пропуски' : '{:.2%}'})"
   ]
  },
  {
   "cell_type": "markdown",
   "metadata": {},
   "source": [
    "так как количество пропусков не значительное **(~9 %)**, можно их просто удалить , а не заполнять "
   ]
  },
  {
   "cell_type": "code",
   "execution_count": 10,
   "metadata": {},
   "outputs": [
    {
     "data": {
      "text/plain": [
       "False"
      ]
     },
     "execution_count": 10,
     "metadata": {},
     "output_type": "execute_result"
    }
   ],
   "source": [
    "df.dropna(subset=['tenure'], inplace=True)\n",
    "df.isna().values.any()"
   ]
  },
  {
   "cell_type": "markdown",
   "metadata": {},
   "source": [
    " ### Проверим на дубли"
   ]
  },
  {
   "cell_type": "code",
   "execution_count": 11,
   "metadata": {},
   "outputs": [
    {
     "name": "stdout",
     "output_type": "stream",
     "text": [
      "False\n",
      "False\n"
     ]
    },
    {
     "data": {
      "text/html": [
       "<div>\n",
       "<style scoped>\n",
       "    .dataframe tbody tr th:only-of-type {\n",
       "        vertical-align: middle;\n",
       "    }\n",
       "\n",
       "    .dataframe tbody tr th {\n",
       "        vertical-align: top;\n",
       "    }\n",
       "\n",
       "    .dataframe thead th {\n",
       "        text-align: right;\n",
       "    }\n",
       "</style>\n",
       "<table border=\"1\" class=\"dataframe\">\n",
       "  <thead>\n",
       "    <tr style=\"text-align: right;\">\n",
       "      <th></th>\n",
       "      <th>customer_id</th>\n",
       "      <th>surname</th>\n",
       "      <th>credit_score</th>\n",
       "      <th>geography</th>\n",
       "      <th>gender</th>\n",
       "      <th>age</th>\n",
       "      <th>tenure</th>\n",
       "      <th>balance</th>\n",
       "      <th>num_of_products</th>\n",
       "      <th>has_crcard</th>\n",
       "      <th>is_activ_emember</th>\n",
       "      <th>estimated_salary</th>\n",
       "      <th>exited</th>\n",
       "    </tr>\n",
       "  </thead>\n",
       "  <tbody>\n",
       "    <tr>\n",
       "      <th>0</th>\n",
       "      <td>15634602</td>\n",
       "      <td>Hargrave</td>\n",
       "      <td>619</td>\n",
       "      <td>France</td>\n",
       "      <td>Female</td>\n",
       "      <td>42</td>\n",
       "      <td>2.0</td>\n",
       "      <td>0.00</td>\n",
       "      <td>1</td>\n",
       "      <td>1</td>\n",
       "      <td>1</td>\n",
       "      <td>101348.88</td>\n",
       "      <td>1</td>\n",
       "    </tr>\n",
       "    <tr>\n",
       "      <th>1</th>\n",
       "      <td>15647311</td>\n",
       "      <td>Hill</td>\n",
       "      <td>608</td>\n",
       "      <td>Spain</td>\n",
       "      <td>Female</td>\n",
       "      <td>41</td>\n",
       "      <td>1.0</td>\n",
       "      <td>83807.86</td>\n",
       "      <td>1</td>\n",
       "      <td>0</td>\n",
       "      <td>1</td>\n",
       "      <td>112542.58</td>\n",
       "      <td>0</td>\n",
       "    </tr>\n",
       "    <tr>\n",
       "      <th>2</th>\n",
       "      <td>15619304</td>\n",
       "      <td>Onio</td>\n",
       "      <td>502</td>\n",
       "      <td>France</td>\n",
       "      <td>Female</td>\n",
       "      <td>42</td>\n",
       "      <td>8.0</td>\n",
       "      <td>159660.80</td>\n",
       "      <td>3</td>\n",
       "      <td>1</td>\n",
       "      <td>0</td>\n",
       "      <td>113931.57</td>\n",
       "      <td>1</td>\n",
       "    </tr>\n",
       "    <tr>\n",
       "      <th>3</th>\n",
       "      <td>15701354</td>\n",
       "      <td>Boni</td>\n",
       "      <td>699</td>\n",
       "      <td>France</td>\n",
       "      <td>Female</td>\n",
       "      <td>39</td>\n",
       "      <td>1.0</td>\n",
       "      <td>0.00</td>\n",
       "      <td>2</td>\n",
       "      <td>0</td>\n",
       "      <td>0</td>\n",
       "      <td>93826.63</td>\n",
       "      <td>0</td>\n",
       "    </tr>\n",
       "    <tr>\n",
       "      <th>4</th>\n",
       "      <td>15737888</td>\n",
       "      <td>Mitchell</td>\n",
       "      <td>850</td>\n",
       "      <td>Spain</td>\n",
       "      <td>Female</td>\n",
       "      <td>43</td>\n",
       "      <td>2.0</td>\n",
       "      <td>125510.82</td>\n",
       "      <td>1</td>\n",
       "      <td>1</td>\n",
       "      <td>1</td>\n",
       "      <td>79084.10</td>\n",
       "      <td>0</td>\n",
       "    </tr>\n",
       "  </tbody>\n",
       "</table>\n",
       "</div>"
      ],
      "text/plain": [
       "   customer_id   surname  credit_score geography  gender  age  tenure  \\\n",
       "0     15634602  Hargrave           619    France  Female   42     2.0   \n",
       "1     15647311      Hill           608     Spain  Female   41     1.0   \n",
       "2     15619304      Onio           502    France  Female   42     8.0   \n",
       "3     15701354      Boni           699    France  Female   39     1.0   \n",
       "4     15737888  Mitchell           850     Spain  Female   43     2.0   \n",
       "\n",
       "     balance  num_of_products  has_crcard  is_activ_emember  estimated_salary  \\\n",
       "0       0.00                1           1                 1         101348.88   \n",
       "1   83807.86                1           0                 1         112542.58   \n",
       "2  159660.80                3           1                 0         113931.57   \n",
       "3       0.00                2           0                 0          93826.63   \n",
       "4  125510.82                1           1                 1          79084.10   \n",
       "\n",
       "   exited  \n",
       "0       1  \n",
       "1       0  \n",
       "2       1  \n",
       "3       0  \n",
       "4       0  "
      ]
     },
     "execution_count": 11,
     "metadata": {},
     "output_type": "execute_result"
    }
   ],
   "source": [
    "print(df.duplicated().values.any())\n",
    "\n",
    "duplicates = df.copy()\n",
    "duplicates.drop(columns=['row_number'], inplace=True)\n",
    "print(duplicates.duplicated().values.any())\n",
    "duplicates.head()"
   ]
  },
  {
   "cell_type": "markdown",
   "metadata": {},
   "source": [
    "Явных дублей нет , можно переходить к задаче исследования"
   ]
  },
  {
   "cell_type": "markdown",
   "metadata": {},
   "source": [
    "### Подготовка и отбор фичей"
   ]
  },
  {
   "cell_type": "markdown",
   "metadata": {},
   "source": [
    "Так же можно сделать отбор фичей , что бы не обучаться на всех (некоторые могут мало коррелировать с таргетом)"
   ]
  },
  {
   "cell_type": "code",
   "execution_count": 12,
   "metadata": {},
   "outputs": [
    {
     "data": {
      "image/png": "[encoded data removed]",
      "text/plain": [
       "<Figure size 1152x1152 with 2 Axes>"
      ]
     },
     "metadata": {
      "needs_background": "light"
     },
     "output_type": "display_data"
    }
   ],
   "source": [
    "plt.figure(figsize= (16, 16))\n",
    "sns.heatmap(df.corr(), annot=True);"
   ]
  },
  {
   "cell_type": "markdown",
   "metadata": {},
   "source": [
    "преобразуем категориальные признвки в числовие и снова посмотрим корреляцию"
   ]
  },
  {
   "cell_type": "code",
   "execution_count": 13,
   "metadata": {},
   "outputs": [
    {
     "data": {
      "text/html": [
       "<div>\n",
       "<style scoped>\n",
       "    .dataframe tbody tr th:only-of-type {\n",
       "        vertical-align: middle;\n",
       "    }\n",
       "\n",
       "    .dataframe tbody tr th {\n",
       "        vertical-align: top;\n",
       "    }\n",
       "\n",
       "    .dataframe thead th {\n",
       "        text-align: right;\n",
       "    }\n",
       "</style>\n",
       "<table border=\"1\" class=\"dataframe\">\n",
       "  <thead>\n",
       "    <tr style=\"text-align: right;\">\n",
       "      <th></th>\n",
       "      <th>credit_score</th>\n",
       "      <th>geography</th>\n",
       "      <th>gender</th>\n",
       "      <th>age</th>\n",
       "      <th>tenure</th>\n",
       "      <th>balance</th>\n",
       "      <th>num_of_products</th>\n",
       "      <th>has_crcard</th>\n",
       "      <th>is_activ_emember</th>\n",
       "      <th>estimated_salary</th>\n",
       "      <th>exited</th>\n",
       "    </tr>\n",
       "  </thead>\n",
       "  <tbody>\n",
       "    <tr>\n",
       "      <th>0</th>\n",
       "      <td>619</td>\n",
       "      <td>France</td>\n",
       "      <td>Female</td>\n",
       "      <td>42</td>\n",
       "      <td>2.0</td>\n",
       "      <td>0.00</td>\n",
       "      <td>1</td>\n",
       "      <td>1</td>\n",
       "      <td>1</td>\n",
       "      <td>101348.88</td>\n",
       "      <td>1</td>\n",
       "    </tr>\n",
       "    <tr>\n",
       "      <th>1</th>\n",
       "      <td>608</td>\n",
       "      <td>Spain</td>\n",
       "      <td>Female</td>\n",
       "      <td>41</td>\n",
       "      <td>1.0</td>\n",
       "      <td>83807.86</td>\n",
       "      <td>1</td>\n",
       "      <td>0</td>\n",
       "      <td>1</td>\n",
       "      <td>112542.58</td>\n",
       "      <td>0</td>\n",
       "    </tr>\n",
       "    <tr>\n",
       "      <th>2</th>\n",
       "      <td>502</td>\n",
       "      <td>France</td>\n",
       "      <td>Female</td>\n",
       "      <td>42</td>\n",
       "      <td>8.0</td>\n",
       "      <td>159660.80</td>\n",
       "      <td>3</td>\n",
       "      <td>1</td>\n",
       "      <td>0</td>\n",
       "      <td>113931.57</td>\n",
       "      <td>1</td>\n",
       "    </tr>\n",
       "    <tr>\n",
       "      <th>3</th>\n",
       "      <td>699</td>\n",
       "      <td>France</td>\n",
       "      <td>Female</td>\n",
       "      <td>39</td>\n",
       "      <td>1.0</td>\n",
       "      <td>0.00</td>\n",
       "      <td>2</td>\n",
       "      <td>0</td>\n",
       "      <td>0</td>\n",
       "      <td>93826.63</td>\n",
       "      <td>0</td>\n",
       "    </tr>\n",
       "    <tr>\n",
       "      <th>4</th>\n",
       "      <td>850</td>\n",
       "      <td>Spain</td>\n",
       "      <td>Female</td>\n",
       "      <td>43</td>\n",
       "      <td>2.0</td>\n",
       "      <td>125510.82</td>\n",
       "      <td>1</td>\n",
       "      <td>1</td>\n",
       "      <td>1</td>\n",
       "      <td>79084.10</td>\n",
       "      <td>0</td>\n",
       "    </tr>\n",
       "  </tbody>\n",
       "</table>\n",
       "</div>"
      ],
      "text/plain": [
       "   credit_score geography  gender  age  tenure    balance  num_of_products  \\\n",
       "0           619    France  Female   42     2.0       0.00                1   \n",
       "1           608     Spain  Female   41     1.0   83807.86                1   \n",
       "2           502    France  Female   42     8.0  159660.80                3   \n",
       "3           699    France  Female   39     1.0       0.00                2   \n",
       "4           850     Spain  Female   43     2.0  125510.82                1   \n",
       "\n",
       "   has_crcard  is_activ_emember  estimated_salary  exited  \n",
       "0           1                 1         101348.88       1  \n",
       "1           0                 1         112542.58       0  \n",
       "2           1                 0         113931.57       1  \n",
       "3           0                 0          93826.63       0  \n",
       "4           1                 1          79084.10       0  "
      ]
     },
     "metadata": {},
     "output_type": "display_data"
    }
   ],
   "source": [
    "data = df.copy()\n",
    "data.drop(columns=['row_number','customer_id', 'surname'], inplace=True)\n",
    "display(data.head())"
   ]
  },
  {
   "cell_type": "code",
   "execution_count": 14,
   "metadata": {},
   "outputs": [],
   "source": [
    "X_train, y_train, X_valid, y_valid, X_test, y_test = train_valid_test_split(data, target = 'exited', \n",
    "                                                                            train_size=0.6, valid_size=0.2, test_size=0.2, random_state=1234)\n"
   ]
  },
  {
   "cell_type": "code",
   "execution_count": 15,
   "metadata": {},
   "outputs": [
    {
     "data": {
      "text/html": [
       "<div>\n",
       "<style scoped>\n",
       "    .dataframe tbody tr th:only-of-type {\n",
       "        vertical-align: middle;\n",
       "    }\n",
       "\n",
       "    .dataframe tbody tr th {\n",
       "        vertical-align: top;\n",
       "    }\n",
       "\n",
       "    .dataframe thead th {\n",
       "        text-align: right;\n",
       "    }\n",
       "</style>\n",
       "<table border=\"1\" class=\"dataframe\">\n",
       "  <thead>\n",
       "    <tr style=\"text-align: right;\">\n",
       "      <th></th>\n",
       "      <th>credit_score</th>\n",
       "      <th>geography</th>\n",
       "      <th>gender</th>\n",
       "      <th>age</th>\n",
       "      <th>tenure</th>\n",
       "      <th>balance</th>\n",
       "      <th>num_of_products</th>\n",
       "      <th>has_crcard</th>\n",
       "      <th>is_activ_emember</th>\n",
       "      <th>estimated_salary</th>\n",
       "    </tr>\n",
       "  </thead>\n",
       "  <tbody>\n",
       "    <tr>\n",
       "      <th>7924</th>\n",
       "      <td>833</td>\n",
       "      <td>0.0</td>\n",
       "      <td>1.0</td>\n",
       "      <td>47</td>\n",
       "      <td>2.0</td>\n",
       "      <td>0.00</td>\n",
       "      <td>2</td>\n",
       "      <td>1</td>\n",
       "      <td>1</td>\n",
       "      <td>182247.77</td>\n",
       "    </tr>\n",
       "    <tr>\n",
       "      <th>5860</th>\n",
       "      <td>453</td>\n",
       "      <td>0.0</td>\n",
       "      <td>0.0</td>\n",
       "      <td>37</td>\n",
       "      <td>4.0</td>\n",
       "      <td>131834.76</td>\n",
       "      <td>2</td>\n",
       "      <td>1</td>\n",
       "      <td>0</td>\n",
       "      <td>8949.20</td>\n",
       "    </tr>\n",
       "    <tr>\n",
       "      <th>9790</th>\n",
       "      <td>559</td>\n",
       "      <td>2.0</td>\n",
       "      <td>0.0</td>\n",
       "      <td>39</td>\n",
       "      <td>2.0</td>\n",
       "      <td>0.00</td>\n",
       "      <td>2</td>\n",
       "      <td>1</td>\n",
       "      <td>1</td>\n",
       "      <td>121151.10</td>\n",
       "    </tr>\n",
       "    <tr>\n",
       "      <th>8681</th>\n",
       "      <td>565</td>\n",
       "      <td>0.0</td>\n",
       "      <td>0.0</td>\n",
       "      <td>40</td>\n",
       "      <td>2.0</td>\n",
       "      <td>0.00</td>\n",
       "      <td>2</td>\n",
       "      <td>1</td>\n",
       "      <td>1</td>\n",
       "      <td>129956.13</td>\n",
       "    </tr>\n",
       "    <tr>\n",
       "      <th>2390</th>\n",
       "      <td>602</td>\n",
       "      <td>1.0</td>\n",
       "      <td>1.0</td>\n",
       "      <td>32</td>\n",
       "      <td>7.0</td>\n",
       "      <td>184715.86</td>\n",
       "      <td>2</td>\n",
       "      <td>1</td>\n",
       "      <td>0</td>\n",
       "      <td>113781.99</td>\n",
       "    </tr>\n",
       "  </tbody>\n",
       "</table>\n",
       "</div>"
      ],
      "text/plain": [
       "      credit_score  geography  gender  age  tenure    balance  \\\n",
       "7924           833        0.0     1.0   47     2.0       0.00   \n",
       "5860           453        0.0     0.0   37     4.0  131834.76   \n",
       "9790           559        2.0     0.0   39     2.0       0.00   \n",
       "8681           565        0.0     0.0   40     2.0       0.00   \n",
       "2390           602        1.0     1.0   32     7.0  184715.86   \n",
       "\n",
       "      num_of_products  has_crcard  is_activ_emember  estimated_salary  \n",
       "7924                2           1                 1         182247.77  \n",
       "5860                2           1                 0           8949.20  \n",
       "9790                2           1                 1         121151.10  \n",
       "8681                2           1                 1         129956.13  \n",
       "2390                2           1                 0         113781.99  "
      ]
     },
     "metadata": {},
     "output_type": "display_data"
    }
   ],
   "source": [
    "X_train_ordinal = X_train.copy()\n",
    "X_valid_ordinal = X_valid.copy()\n",
    "X_test_ordinal = X_test.copy()\n",
    "\n",
    "\n",
    "\n",
    "enc = OrdinalEncoder()\n",
    "X_train_ordinal[['geography', 'gender']] = enc.fit_transform(X_train_ordinal[['geography', 'gender']])\n",
    "# enc.categories_\n",
    "X_valid_ordinal[['geography', 'gender']] = enc.transform(X_valid_ordinal[['geography', 'gender']])\n",
    "X_test_ordinal[['geography', 'gender']] = enc.transform(X_test_ordinal[['geography', 'gender']])\n",
    "\n",
    "display(X_valid_ordinal.head())"
   ]
  },
  {
   "cell_type": "code",
   "execution_count": 16,
   "metadata": {},
   "outputs": [
    {
     "data": {
      "text/html": [
       "<div>\n",
       "<style scoped>\n",
       "    .dataframe tbody tr th:only-of-type {\n",
       "        vertical-align: middle;\n",
       "    }\n",
       "\n",
       "    .dataframe tbody tr th {\n",
       "        vertical-align: top;\n",
       "    }\n",
       "\n",
       "    .dataframe thead th {\n",
       "        text-align: right;\n",
       "    }\n",
       "</style>\n",
       "<table border=\"1\" class=\"dataframe\">\n",
       "  <thead>\n",
       "    <tr style=\"text-align: right;\">\n",
       "      <th></th>\n",
       "      <th>credit_score</th>\n",
       "      <th>age</th>\n",
       "      <th>tenure</th>\n",
       "      <th>balance</th>\n",
       "      <th>num_of_products</th>\n",
       "      <th>has_crcard</th>\n",
       "      <th>is_activ_emember</th>\n",
       "      <th>estimated_salary</th>\n",
       "      <th>geography_France</th>\n",
       "      <th>geography_Germany</th>\n",
       "      <th>geography_Spain</th>\n",
       "      <th>gender_Female</th>\n",
       "      <th>gender_Male</th>\n",
       "    </tr>\n",
       "  </thead>\n",
       "  <tbody>\n",
       "    <tr>\n",
       "      <th>7963</th>\n",
       "      <td>630</td>\n",
       "      <td>37</td>\n",
       "      <td>6.0</td>\n",
       "      <td>0.00</td>\n",
       "      <td>2</td>\n",
       "      <td>1</td>\n",
       "      <td>1</td>\n",
       "      <td>82647.65</td>\n",
       "      <td>1</td>\n",
       "      <td>0</td>\n",
       "      <td>0</td>\n",
       "      <td>0</td>\n",
       "      <td>1</td>\n",
       "    </tr>\n",
       "    <tr>\n",
       "      <th>9032</th>\n",
       "      <td>781</td>\n",
       "      <td>27</td>\n",
       "      <td>5.0</td>\n",
       "      <td>0.00</td>\n",
       "      <td>2</td>\n",
       "      <td>0</td>\n",
       "      <td>0</td>\n",
       "      <td>72969.90</td>\n",
       "      <td>1</td>\n",
       "      <td>0</td>\n",
       "      <td>0</td>\n",
       "      <td>1</td>\n",
       "      <td>0</td>\n",
       "    </tr>\n",
       "    <tr>\n",
       "      <th>856</th>\n",
       "      <td>567</td>\n",
       "      <td>49</td>\n",
       "      <td>5.0</td>\n",
       "      <td>134956.02</td>\n",
       "      <td>1</td>\n",
       "      <td>1</td>\n",
       "      <td>0</td>\n",
       "      <td>93953.84</td>\n",
       "      <td>0</td>\n",
       "      <td>1</td>\n",
       "      <td>0</td>\n",
       "      <td>1</td>\n",
       "      <td>0</td>\n",
       "    </tr>\n",
       "    <tr>\n",
       "      <th>5665</th>\n",
       "      <td>559</td>\n",
       "      <td>33</td>\n",
       "      <td>9.0</td>\n",
       "      <td>111060.05</td>\n",
       "      <td>2</td>\n",
       "      <td>1</td>\n",
       "      <td>0</td>\n",
       "      <td>110371.84</td>\n",
       "      <td>1</td>\n",
       "      <td>0</td>\n",
       "      <td>0</td>\n",
       "      <td>0</td>\n",
       "      <td>1</td>\n",
       "    </tr>\n",
       "    <tr>\n",
       "      <th>141</th>\n",
       "      <td>663</td>\n",
       "      <td>34</td>\n",
       "      <td>7.0</td>\n",
       "      <td>0.00</td>\n",
       "      <td>2</td>\n",
       "      <td>1</td>\n",
       "      <td>1</td>\n",
       "      <td>180427.24</td>\n",
       "      <td>1</td>\n",
       "      <td>0</td>\n",
       "      <td>0</td>\n",
       "      <td>0</td>\n",
       "      <td>1</td>\n",
       "    </tr>\n",
       "  </tbody>\n",
       "</table>\n",
       "</div>"
      ],
      "text/plain": [
       "      credit_score  age  tenure    balance  num_of_products  has_crcard  \\\n",
       "7963           630   37     6.0       0.00                2           1   \n",
       "9032           781   27     5.0       0.00                2           0   \n",
       "856            567   49     5.0  134956.02                1           1   \n",
       "5665           559   33     9.0  111060.05                2           1   \n",
       "141            663   34     7.0       0.00                2           1   \n",
       "\n",
       "      is_activ_emember  estimated_salary  geography_France  geography_Germany  \\\n",
       "7963                 1          82647.65                 1                  0   \n",
       "9032                 0          72969.90                 1                  0   \n",
       "856                  0          93953.84                 0                  1   \n",
       "5665                 0         110371.84                 1                  0   \n",
       "141                  1         180427.24                 1                  0   \n",
       "\n",
       "      geography_Spain  gender_Female  gender_Male  \n",
       "7963                0              0            1  \n",
       "9032                0              1            0  \n",
       "856                 0              1            0  \n",
       "5665                0              0            1  \n",
       "141                 0              0            1  "
      ]
     },
     "execution_count": 16,
     "metadata": {},
     "output_type": "execute_result"
    }
   ],
   "source": [
    "X_train_dummie = X_train.copy()\n",
    "X_train_dummie = pd.get_dummies(data=X_train_dummie, columns=['geography', 'gender'], dtype=int)\n",
    "X_train_dummie.head()"
   ]
  },
  {
   "cell_type": "code",
   "execution_count": 17,
   "metadata": {},
   "outputs": [
    {
     "data": {
      "text/html": [
       "<div>\n",
       "<style scoped>\n",
       "    .dataframe tbody tr th:only-of-type {\n",
       "        vertical-align: middle;\n",
       "    }\n",
       "\n",
       "    .dataframe tbody tr th {\n",
       "        vertical-align: top;\n",
       "    }\n",
       "\n",
       "    .dataframe thead th {\n",
       "        text-align: right;\n",
       "    }\n",
       "</style>\n",
       "<table border=\"1\" class=\"dataframe\">\n",
       "  <thead>\n",
       "    <tr style=\"text-align: right;\">\n",
       "      <th></th>\n",
       "      <th>onehotencoder__x0_Germany</th>\n",
       "      <th>onehotencoder__x0_Spain</th>\n",
       "      <th>onehotencoder__x1_Male</th>\n",
       "      <th>credit_score</th>\n",
       "      <th>age</th>\n",
       "      <th>tenure</th>\n",
       "      <th>balance</th>\n",
       "      <th>num_of_products</th>\n",
       "      <th>has_crcard</th>\n",
       "      <th>is_activ_emember</th>\n",
       "      <th>estimated_salary</th>\n",
       "    </tr>\n",
       "  </thead>\n",
       "  <tbody>\n",
       "    <tr>\n",
       "      <th>0</th>\n",
       "      <td>0.0</td>\n",
       "      <td>0.0</td>\n",
       "      <td>1.0</td>\n",
       "      <td>833.0</td>\n",
       "      <td>47.0</td>\n",
       "      <td>2.0</td>\n",
       "      <td>0.00</td>\n",
       "      <td>2.0</td>\n",
       "      <td>1.0</td>\n",
       "      <td>1.0</td>\n",
       "      <td>182247.77</td>\n",
       "    </tr>\n",
       "    <tr>\n",
       "      <th>1</th>\n",
       "      <td>0.0</td>\n",
       "      <td>0.0</td>\n",
       "      <td>0.0</td>\n",
       "      <td>453.0</td>\n",
       "      <td>37.0</td>\n",
       "      <td>4.0</td>\n",
       "      <td>131834.76</td>\n",
       "      <td>2.0</td>\n",
       "      <td>1.0</td>\n",
       "      <td>0.0</td>\n",
       "      <td>8949.20</td>\n",
       "    </tr>\n",
       "    <tr>\n",
       "      <th>2</th>\n",
       "      <td>0.0</td>\n",
       "      <td>1.0</td>\n",
       "      <td>0.0</td>\n",
       "      <td>559.0</td>\n",
       "      <td>39.0</td>\n",
       "      <td>2.0</td>\n",
       "      <td>0.00</td>\n",
       "      <td>2.0</td>\n",
       "      <td>1.0</td>\n",
       "      <td>1.0</td>\n",
       "      <td>121151.10</td>\n",
       "    </tr>\n",
       "    <tr>\n",
       "      <th>3</th>\n",
       "      <td>0.0</td>\n",
       "      <td>0.0</td>\n",
       "      <td>0.0</td>\n",
       "      <td>565.0</td>\n",
       "      <td>40.0</td>\n",
       "      <td>2.0</td>\n",
       "      <td>0.00</td>\n",
       "      <td>2.0</td>\n",
       "      <td>1.0</td>\n",
       "      <td>1.0</td>\n",
       "      <td>129956.13</td>\n",
       "    </tr>\n",
       "    <tr>\n",
       "      <th>4</th>\n",
       "      <td>1.0</td>\n",
       "      <td>0.0</td>\n",
       "      <td>1.0</td>\n",
       "      <td>602.0</td>\n",
       "      <td>32.0</td>\n",
       "      <td>7.0</td>\n",
       "      <td>184715.86</td>\n",
       "      <td>2.0</td>\n",
       "      <td>1.0</td>\n",
       "      <td>0.0</td>\n",
       "      <td>113781.99</td>\n",
       "    </tr>\n",
       "  </tbody>\n",
       "</table>\n",
       "</div>"
      ],
      "text/plain": [
       "   onehotencoder__x0_Germany  onehotencoder__x0_Spain  onehotencoder__x1_Male  \\\n",
       "0                        0.0                      0.0                     1.0   \n",
       "1                        0.0                      0.0                     0.0   \n",
       "2                        0.0                      1.0                     0.0   \n",
       "3                        0.0                      0.0                     0.0   \n",
       "4                        1.0                      0.0                     1.0   \n",
       "\n",
       "   credit_score   age  tenure    balance  num_of_products  has_crcard  \\\n",
       "0         833.0  47.0     2.0       0.00              2.0         1.0   \n",
       "1         453.0  37.0     4.0  131834.76              2.0         1.0   \n",
       "2         559.0  39.0     2.0       0.00              2.0         1.0   \n",
       "3         565.0  40.0     2.0       0.00              2.0         1.0   \n",
       "4         602.0  32.0     7.0  184715.86              2.0         1.0   \n",
       "\n",
       "   is_activ_emember  estimated_salary  \n",
       "0               1.0         182247.77  \n",
       "1               0.0           8949.20  \n",
       "2               1.0         121151.10  \n",
       "3               1.0         129956.13  \n",
       "4               0.0         113781.99  "
      ]
     },
     "execution_count": 17,
     "metadata": {},
     "output_type": "execute_result"
    }
   ],
   "source": [
    "X_train_ohe = X_train.copy()\n",
    "X_valid_ohe = X_valid.copy()\n",
    "\n",
    "transformer = make_column_transformer(\n",
    "    (OneHotEncoder(drop='first'), ['geography', 'gender']),\n",
    "    remainder='passthrough')\n",
    "\n",
    "transformed = transformer.fit_transform(X_train_ohe)\n",
    "X_train_ohe_transformed = pd.DataFrame(\n",
    "    transformed, \n",
    "    columns=transformer.get_feature_names()\n",
    ")\n",
    "# X_train_ohe_transformed.head()\n",
    "\n",
    "\n",
    "\n",
    "\n",
    "\n",
    "\n",
    "transformed_valid = transformer.transform(X_valid_ohe)\n",
    "X_valid_ohe_transformed = pd.DataFrame(\n",
    "    transformed_valid, \n",
    "    columns=transformer.get_feature_names()\n",
    ")\n",
    "X_valid_ohe_transformed.head()\n"
   ]
  },
  {
   "cell_type": "markdown",
   "metadata": {},
   "source": [
    "так же стоит убрать колонки *row_number*, *customer_id*, *surname* тк они уникальные и не помогут в определении таргета "
   ]
  },
  {
   "cell_type": "code",
   "execution_count": 19,
   "metadata": {},
   "outputs": [
    {
     "data": {
      "image/png": "[encoded data removed]",
      "text/plain": [
       "<Figure size 1152x1152 with 2 Axes>"
      ]
     },
     "metadata": {
      "needs_background": "light"
     },
     "output_type": "display_data"
    }
   ],
   "source": [
    "plt.figure(figsize= (16, 16))\n",
    "sns.heatmap(data.corr(), annot=True);"
   ]
  },
  {
   "cell_type": "markdown",
   "metadata": {},
   "source": [
    "корреляция осталась прежняя , поэтому попробуем отобрать фичи по другому \n",
    "\n",
    "воспользуемся mutual_info_classif"
   ]
  },
  {
   "cell_type": "code",
   "execution_count": 20,
   "metadata": {},
   "outputs": [
    {
     "data": {
      "image/png": "[encoded data removed]",
      "text/plain": [
       "<Figure size 432x288 with 1 Axes>"
      ]
     },
     "metadata": {
      "needs_background": "light"
     },
     "output_type": "display_data"
    },
    {
     "data": {
      "image/png": "[encoded data removed]",
      "text/plain": [
       "<Figure size 432x288 with 1 Axes>"
      ]
     },
     "metadata": {
      "needs_background": "light"
     },
     "output_type": "display_data"
    },
    {
     "data": {
      "image/png": "[encoded data removed]",
      "text/plain": [
       "<Figure size 432x288 with 1 Axes>"
      ]
     },
     "metadata": {
      "needs_background": "light"
     },
     "output_type": "display_data"
    }
   ],
   "source": [
    "# X, y – входные и выходные данные соответственно\n",
    "for train in [X_train_ordinal, X_train_ohe_transformed, X_train_dummie]:\n",
    "    X = train \n",
    "    y = y_train\n",
    "\n",
    "    importances = mutual_info_classif(X=X, y=y, random_state=1234)\n",
    "\n",
    "    feature_importances = pd.Series(importances, X.columns)\n",
    "    feature_importances.plot(kind='barh', color='teal')\n",
    "    plt.show()\n",
    "# type(feature_importances);"
   ]
  },
  {
   "cell_type": "markdown",
   "metadata": {},
   "source": [
    "Думаю что данные графики можно интерпретировать так , что некоторые фичи явно преобладают по важности в каждом графике и их тожно нужно использовать) "
   ]
  },
  {
   "cell_type": "markdown",
   "metadata": {},
   "source": [
    "таким образом наши данные готовы к обучению"
   ]
  },
  {
   "cell_type": "markdown",
   "metadata": {},
   "source": [
    "## Исследование задачи"
   ]
  },
  {
   "cell_type": "markdown",
   "metadata": {},
   "source": [
    "### Анализ баланса "
   ]
  },
  {
   "cell_type": "code",
   "execution_count": 22,
   "metadata": {},
   "outputs": [
    {
     "data": {
      "text/plain": [
       "0    7237\n",
       "1    1854\n",
       "Name: exited, dtype: int64"
      ]
     },
     "execution_count": 22,
     "metadata": {},
     "output_type": "execute_result"
    }
   ],
   "source": [
    "data['exited'].value_counts()"
   ]
  },
  {
   "cell_type": "code",
   "execution_count": 23,
   "metadata": {},
   "outputs": [
    {
     "data": {
      "text/html": [
       "<div>\n",
       "<style scoped>\n",
       "    .dataframe tbody tr th:only-of-type {\n",
       "        vertical-align: middle;\n",
       "    }\n",
       "\n",
       "    .dataframe tbody tr th {\n",
       "        vertical-align: top;\n",
       "    }\n",
       "\n",
       "    .dataframe thead th {\n",
       "        text-align: right;\n",
       "    }\n",
       "</style>\n",
       "<table border=\"1\" class=\"dataframe\">\n",
       "  <thead>\n",
       "    <tr style=\"text-align: right;\">\n",
       "      <th></th>\n",
       "      <th>counts</th>\n",
       "      <th>per</th>\n",
       "    </tr>\n",
       "  </thead>\n",
       "  <tbody>\n",
       "    <tr>\n",
       "      <th>0</th>\n",
       "      <td>7237</td>\n",
       "      <td>79.6%</td>\n",
       "    </tr>\n",
       "    <tr>\n",
       "      <th>1</th>\n",
       "      <td>1854</td>\n",
       "      <td>20.4%</td>\n",
       "    </tr>\n",
       "  </tbody>\n",
       "</table>\n",
       "</div>"
      ],
      "text/plain": [
       "   counts    per\n",
       "0    7237  79.6%\n",
       "1    1854  20.4%"
      ]
     },
     "execution_count": 23,
     "metadata": {},
     "output_type": "execute_result"
    }
   ],
   "source": [
    "# counts = data['exited'].value_counts()\n",
    "# percent = counts / counts.sum()\n",
    "# fmt = '{:.1%}'.format\n",
    "pd.DataFrame({'counts': data['exited'].value_counts()\\\n",
    "              , 'per': (data['exited'].value_counts() / data['exited'].value_counts().sum()).map('{:.1%}'.format)})"
   ]
  },
  {
   "cell_type": "markdown",
   "metadata": {},
   "source": [
    "- После анализа классов , видно , что класс negativ сильно больше \n",
    "\n",
    "- После подбора лучшей модели , сделаем несколько вариантов семплтроания\n",
    "    - upsampling \n",
    "    - downsampling\n",
    "    - autosampling"
   ]
  },
  {
   "cell_type": "markdown",
   "metadata": {},
   "source": [
    "Подберем лучшую модель и на ней посмотрим как ведет себя модель без балансировки классов"
   ]
  },
  {
   "cell_type": "markdown",
   "metadata": {},
   "source": [
    "### Разобьем данные на трейн тест и валид"
   ]
  },
  {
   "cell_type": "code",
   "execution_count": 24,
   "metadata": {},
   "outputs": [
    {
     "data": {
      "text/html": [
       "<div>\n",
       "<style scoped>\n",
       "    .dataframe tbody tr th:only-of-type {\n",
       "        vertical-align: middle;\n",
       "    }\n",
       "\n",
       "    .dataframe tbody tr th {\n",
       "        vertical-align: top;\n",
       "    }\n",
       "\n",
       "    .dataframe thead th {\n",
       "        text-align: right;\n",
       "    }\n",
       "</style>\n",
       "<table border=\"1\" class=\"dataframe\">\n",
       "  <thead>\n",
       "    <tr style=\"text-align: right;\">\n",
       "      <th></th>\n",
       "      <th>credit_score</th>\n",
       "      <th>geography</th>\n",
       "      <th>gender</th>\n",
       "      <th>age</th>\n",
       "      <th>tenure</th>\n",
       "      <th>balance</th>\n",
       "      <th>num_of_products</th>\n",
       "      <th>has_crcard</th>\n",
       "      <th>is_activ_emember</th>\n",
       "      <th>estimated_salary</th>\n",
       "    </tr>\n",
       "  </thead>\n",
       "  <tbody>\n",
       "    <tr>\n",
       "      <th>0</th>\n",
       "      <td>1.892883</td>\n",
       "      <td>-0.911209</td>\n",
       "      <td>0.891774</td>\n",
       "      <td>0.767506</td>\n",
       "      <td>-1.027656</td>\n",
       "      <td>-1.234943</td>\n",
       "      <td>0.820762</td>\n",
       "      <td>0.654597</td>\n",
       "      <td>0.956571</td>\n",
       "      <td>1.430493</td>\n",
       "    </tr>\n",
       "    <tr>\n",
       "      <th>1</th>\n",
       "      <td>-2.062059</td>\n",
       "      <td>-0.911209</td>\n",
       "      <td>-1.121361</td>\n",
       "      <td>-0.174518</td>\n",
       "      <td>-0.335658</td>\n",
       "      <td>0.879642</td>\n",
       "      <td>0.820762</td>\n",
       "      <td>0.654597</td>\n",
       "      <td>-1.045401</td>\n",
       "      <td>-1.568711</td>\n",
       "    </tr>\n",
       "    <tr>\n",
       "      <th>2</th>\n",
       "      <td>-0.958839</td>\n",
       "      <td>1.502455</td>\n",
       "      <td>-1.121361</td>\n",
       "      <td>0.013887</td>\n",
       "      <td>-1.027656</td>\n",
       "      <td>-1.234943</td>\n",
       "      <td>0.820762</td>\n",
       "      <td>0.654597</td>\n",
       "      <td>0.956571</td>\n",
       "      <td>0.373119</td>\n",
       "    </tr>\n",
       "    <tr>\n",
       "      <th>3</th>\n",
       "      <td>-0.896392</td>\n",
       "      <td>-0.911209</td>\n",
       "      <td>-1.121361</td>\n",
       "      <td>0.108089</td>\n",
       "      <td>-1.027656</td>\n",
       "      <td>-1.234943</td>\n",
       "      <td>0.820762</td>\n",
       "      <td>0.654597</td>\n",
       "      <td>0.956571</td>\n",
       "      <td>0.525504</td>\n",
       "    </tr>\n",
       "    <tr>\n",
       "      <th>4</th>\n",
       "      <td>-0.511306</td>\n",
       "      <td>0.295623</td>\n",
       "      <td>0.891774</td>\n",
       "      <td>-0.645530</td>\n",
       "      <td>0.702338</td>\n",
       "      <td>1.727837</td>\n",
       "      <td>0.820762</td>\n",
       "      <td>0.654597</td>\n",
       "      <td>-1.045401</td>\n",
       "      <td>0.245585</td>\n",
       "    </tr>\n",
       "  </tbody>\n",
       "</table>\n",
       "</div>"
      ],
      "text/plain": [
       "   credit_score  geography    gender       age    tenure   balance  \\\n",
       "0      1.892883  -0.911209  0.891774  0.767506 -1.027656 -1.234943   \n",
       "1     -2.062059  -0.911209 -1.121361 -0.174518 -0.335658  0.879642   \n",
       "2     -0.958839   1.502455 -1.121361  0.013887 -1.027656 -1.234943   \n",
       "3     -0.896392  -0.911209 -1.121361  0.108089 -1.027656 -1.234943   \n",
       "4     -0.511306   0.295623  0.891774 -0.645530  0.702338  1.727837   \n",
       "\n",
       "   num_of_products  has_crcard  is_activ_emember  estimated_salary  \n",
       "0         0.820762    0.654597          0.956571          1.430493  \n",
       "1         0.820762    0.654597         -1.045401         -1.568711  \n",
       "2         0.820762    0.654597          0.956571          0.373119  \n",
       "3         0.820762    0.654597          0.956571          0.525504  \n",
       "4         0.820762    0.654597         -1.045401          0.245585  "
      ]
     },
     "execution_count": 24,
     "metadata": {},
     "output_type": "execute_result"
    }
   ],
   "source": [
    "standart_ohe = StandardScaler()\n",
    "standart_oe = StandardScaler()\n",
    "standart_oe.fit(X_train_ordinal)\n",
    "# X_valid_standard = pd.DataFrame(standart.fit_transform(X_valid), columns=X_valid.columns)\n",
    "X_train_standard_oe = pd.DataFrame(standart_oe.transform(X_train_ordinal), columns=X_train_ordinal.columns)\n",
    "X_valid_standard_oe = pd.DataFrame(standart_oe.transform(X_valid_ordinal), columns=X_valid_ordinal.columns)\n",
    "X_test_standard_oe = pd.DataFrame(standart_oe.transform(X_test_ordinal), columns=X_test_ordinal.columns)\n",
    "\n",
    "\n",
    "standart_ohe.fit(X_train_ohe_transformed)\n",
    "X_train_standard_ohe = pd.DataFrame(standart_ohe.transform(X_train_ohe_transformed)\\\n",
    "                                    , columns=X_train_ohe_transformed.columns)\n",
    "\n",
    "X_valid_standard_ohe = pd.DataFrame(standart_ohe.transform(X_valid_ohe_transformed)\\\n",
    "                                    , columns=X_valid_ohe_transformed.columns)\n",
    "\n",
    "X_valid_standard_oe.head()"
   ]
  },
  {
   "cell_type": "markdown",
   "metadata": {},
   "source": [
    "### Подберем модель"
   ]
  },
  {
   "cell_type": "code",
   "execution_count": 25,
   "metadata": {},
   "outputs": [
    {
     "name": "stdout",
     "output_type": "stream",
     "text": [
      "CPU times: user 44.1 s, sys: 471 ms, total: 44.6 s\n",
      "Wall time: 44.9 s\n"
     ]
    },
    {
     "data": {
      "text/plain": [
       "GridSearchCV(cv=5, estimator=DecisionTreeClassifier(random_state=1234),\n",
       "             param_grid={'criterion': ('gini', 'entropy', 'log_loss'),\n",
       "                         'max_depth': range(1, 10),\n",
       "                         'min_samples_leaf': range(1, 7),\n",
       "                         'min_samples_split': range(1, 7)},\n",
       "             scoring='f1')"
      ]
     },
     "execution_count": 25,
     "metadata": {},
     "output_type": "execute_result"
    }
   ],
   "source": [
    "%%time\n",
    "\n",
    "params = {\n",
    "            'criterion' : ('gini', 'entropy', 'log_loss')\n",
    "             ,'max_depth' : range(1, 10)\n",
    "             ,'min_samples_leaf' : range(1, 7)\n",
    "             , 'min_samples_split' : range(1, 7)\n",
    "             }\n",
    "\n",
    "cls_tree = GridSearchCV(\n",
    "            DecisionTreeClassifier(random_state=1234)\n",
    "            ,params\n",
    "            ,cv=5\n",
    "            ,refit=True\n",
    "            ,scoring='f1')\n",
    "\n",
    "cls_tree.fit(X_train_standard_oe, y_train)"
   ]
  },
  {
   "cell_type": "code",
   "execution_count": 26,
   "metadata": {},
   "outputs": [
    {
     "data": {
      "text/plain": [
       "(0.5417657572504282,\n",
       " {'criterion': 'gini',\n",
       "  'max_depth': 9,\n",
       "  'min_samples_leaf': 6,\n",
       "  'min_samples_split': 2})"
      ]
     },
     "execution_count": 26,
     "metadata": {},
     "output_type": "execute_result"
    }
   ],
   "source": [
    "best_params_tree = cls_tree.best_params_\n",
    "cls_tree.best_score_, best_params_tree"
   ]
  },
  {
   "cell_type": "markdown",
   "metadata": {},
   "source": [
    "'criterion': 'gini',\n",
    "  'max_depth': 8,\n",
    "  'min_samples_leaf': 6,\n",
    "  'min_samples_split': 2}"
   ]
  },
  {
   "cell_type": "code",
   "execution_count": 27,
   "metadata": {},
   "outputs": [
    {
     "data": {
      "text/plain": [
       "'f1 : 0.565982404692082 roc_auc : 0.8108810143973437'"
      ]
     },
     "execution_count": 27,
     "metadata": {},
     "output_type": "execute_result"
    }
   ],
   "source": [
    "tree = DecisionTreeClassifier(**best_params_tree, random_state=1234)\n",
    "tree.fit(X_train_standard_oe, y_train)\n",
    "\n",
    "\n",
    "f'f1 : {f1_score(y_valid, tree.predict(X_valid_standard_oe))} \\\n",
    "roc_auc : {roc_auc_score(y_valid, tree.predict_proba(X_valid_standard_oe)[::,1])}'\n",
    "\n"
   ]
  },
  {
   "cell_type": "code",
   "execution_count": 28,
   "metadata": {},
   "outputs": [
    {
     "data": {
      "text/plain": [
       "GridSearchCV(cv=5, estimator=KNeighborsClassifier(),\n",
       "             param_grid={'n_neighbors': range(3, 15), 'p': (1, 2),\n",
       "                         'weights': ('uniform', 'distance')},\n",
       "             scoring='f1')"
      ]
     },
     "execution_count": 28,
     "metadata": {},
     "output_type": "execute_result"
    }
   ],
   "source": [
    "params = {\n",
    "    'n_neighbors': range(3, 15)\n",
    "    ,'weights': ('uniform', 'distance')\n",
    "    ,'p': (1,2)\n",
    "}\n",
    "\n",
    "cls_knn = GridSearchCV(\n",
    "    KNeighborsClassifier()\n",
    "    ,param_grid=params\n",
    "    ,cv=5\n",
    "    ,scoring='f1'\n",
    ")\n",
    "\n",
    "cls_knn.fit(X_train_standard_ohe, y_train)"
   ]
  },
  {
   "cell_type": "code",
   "execution_count": 29,
   "metadata": {},
   "outputs": [
    {
     "data": {
      "text/plain": [
       "0.47383149584961065"
      ]
     },
     "execution_count": 29,
     "metadata": {},
     "output_type": "execute_result"
    }
   ],
   "source": [
    "best_params_knn = cls_knn.best_params_\n",
    "cls_knn.best_score_"
   ]
  },
  {
   "cell_type": "code",
   "execution_count": 30,
   "metadata": {},
   "outputs": [
    {
     "data": {
      "text/plain": [
       "'f1 : 0.4481707317073171 roc_auc : 0.737843296505138'"
      ]
     },
     "execution_count": 30,
     "metadata": {},
     "output_type": "execute_result"
    }
   ],
   "source": [
    "knn = KNeighborsClassifier(**best_params_knn)\n",
    "knn.fit(X_train_standard_ohe, y_train)\n",
    "\n",
    "\n",
    "f'f1 : {f1_score(y_valid, knn.predict(X_valid_standard_ohe))} \\\n",
    "roc_auc : {roc_auc_score(y_valid, knn.predict_proba(X_valid_standard_ohe)[::,1])}'"
   ]
  },
  {
   "cell_type": "code",
   "execution_count": 31,
   "metadata": {},
   "outputs": [
    {
     "name": "stdout",
     "output_type": "stream",
     "text": [
      "CPU times: user 1min 49s, sys: 980 ms, total: 1min 50s\n",
      "Wall time: 1min 50s\n"
     ]
    },
    {
     "data": {
      "text/plain": [
       "GridSearchCV(cv=5, estimator=RandomForestClassifier(random_state=1234),\n",
       "             param_grid={'criterion': ('gini', 'entropy'),\n",
       "                         'max_depth': range(3, 10),\n",
       "                         'min_samples_leaf': range(1, 7),\n",
       "                         'n_estimators': range(5, 12)},\n",
       "             scoring='f1')"
      ]
     },
     "execution_count": 31,
     "metadata": {},
     "output_type": "execute_result"
    }
   ],
   "source": [
    "%%time \n",
    "\n",
    "params = {\n",
    "    'n_estimators' : range(5, 12)\n",
    "    ,'criterion' : ('gini', 'entropy') #, 'log_loss')\n",
    "    ,'max_depth' : range(3, 10)\n",
    "    ,'min_samples_leaf' : range(1, 7)\n",
    "}\n",
    "\n",
    "cls_forest = GridSearchCV(\n",
    "    RandomForestClassifier(random_state=1234)\n",
    "    ,param_grid=params\n",
    "    ,cv=5\n",
    "    ,scoring='f1'\n",
    ")\n",
    "\n",
    "cls_forest.fit(X_train_standard_oe, y_train)"
   ]
  },
  {
   "cell_type": "code",
   "execution_count": 32,
   "metadata": {},
   "outputs": [
    {
     "data": {
      "text/plain": [
       "(0.5512290275290532,\n",
       " {'criterion': 'gini',\n",
       "  'max_depth': 9,\n",
       "  'min_samples_leaf': 3,\n",
       "  'n_estimators': 9})"
      ]
     },
     "execution_count": 32,
     "metadata": {},
     "output_type": "execute_result"
    }
   ],
   "source": [
    "best_params_forest = cls_forest.best_params_\n",
    "cls_forest.best_score_, best_params_forest"
   ]
  },
  {
   "cell_type": "markdown",
   "metadata": {},
   "source": [
    "'criterion': 'gini',\n",
    "  'max_depth': 8,\n",
    "  'min_samples_leaf': 6,\n",
    "  'n_estimators': 5"
   ]
  },
  {
   "cell_type": "code",
   "execution_count": 33,
   "metadata": {},
   "outputs": [
    {
     "data": {
      "text/plain": [
       "'f1 : 0.5629139072847682 roc_auc : 0.8518807067006325'"
      ]
     },
     "execution_count": 33,
     "metadata": {},
     "output_type": "execute_result"
    }
   ],
   "source": [
    "forest = RandomForestClassifier(**best_params_forest, random_state=1234)\n",
    "forest.fit(X_train_standard_oe, y_train)\n",
    "\n",
    "\n",
    "f'f1 : {f1_score(y_valid, forest.predict(X_valid_standard_oe))} \\\n",
    "roc_auc : {roc_auc_score(y_valid, forest.predict_proba(X_valid_standard_oe)[::,1])}'"
   ]
  },
  {
   "cell_type": "code",
   "execution_count": 34,
   "metadata": {},
   "outputs": [
    {
     "name": "stdout",
     "output_type": "stream",
     "text": [
      "CPU times: user 1.7 s, sys: 4.88 s, total: 6.58 s\n",
      "Wall time: 6.55 s\n"
     ]
    },
    {
     "data": {
      "text/plain": [
       "GridSearchCV(cv=5, estimator=LogisticRegression(random_state=1234),\n",
       "             param_grid={'max_iter': range(40, 70, 10),\n",
       "                         'penalty': ('l1', 'elasticnet', 'none')},\n",
       "             scoring='f1')"
      ]
     },
     "execution_count": 34,
     "metadata": {},
     "output_type": "execute_result"
    }
   ],
   "source": [
    "%%time\n",
    "\n",
    "params = {\n",
    "    'penalty' : ('l1', 'elasticnet', 'none')\n",
    "#     ,'solver' : ('liblinear')\n",
    "    ,'max_iter' : range(40, 70, 10)\n",
    "#     ,'C' : (1e-2, 1.0, 4.0)\n",
    "}\n",
    "\n",
    "cls_log_reg = GridSearchCV(\n",
    "    LogisticRegression(random_state=1234)\n",
    "    ,param_grid=params\n",
    "    ,cv=5\n",
    "    ,scoring='f1'\n",
    ")\n",
    "\n",
    "cls_log_reg.fit(X_train_standard_ohe, y_train)"
   ]
  },
  {
   "cell_type": "code",
   "execution_count": 35,
   "metadata": {},
   "outputs": [
    {
     "data": {
      "text/plain": [
       "0.35030693945216085"
      ]
     },
     "execution_count": 35,
     "metadata": {},
     "output_type": "execute_result"
    }
   ],
   "source": [
    "best_params_log_reg = cls_log_reg.best_params_\n",
    "cls_log_reg.best_score_"
   ]
  },
  {
   "cell_type": "code",
   "execution_count": 36,
   "metadata": {},
   "outputs": [
    {
     "data": {
      "text/plain": [
       "'f1 : 0.29724770642201837 roc_auc : 0.7526189999141311'"
      ]
     },
     "execution_count": 36,
     "metadata": {},
     "output_type": "execute_result"
    }
   ],
   "source": [
    "regresion = LogisticRegression(**best_params_log_reg, random_state=1234)\n",
    "regresion.fit(X_train_standard_ohe, y_train)\n",
    "\n",
    "f'f1 : {f1_score(y_valid, regresion.predict(X_valid_standard_ohe))} \\\n",
    "roc_auc : {roc_auc_score(y_valid, regresion.predict_proba(X_valid_standard_ohe)[::,1])}'"
   ]
  },
  {
   "cell_type": "markdown",
   "metadata": {},
   "source": [
    "- Я взял 4 варианта моделей:\n",
    "    - Решающие деревья \n",
    "    - Рандомный лес\n",
    "    - Ближайшие соседи\n",
    "    - Логистическую регрессию\n",
    "\n",
    "- После на лучших гиперпараметрах учил модель и делал предсказание на валидационной выборке для каждой модели\n",
    "\n",
    "- Лучшей моделью для данной задачи оказались **Решающие деревья и Рандомный лес** \n",
    "    - на обучающей выборки я получил F1 ~ 0.54%\n",
    "    - на валидационной ~ 0.55%\n",
    "\n",
    "\n",
    "- В итоге я выбрал для следующих эксперементов 2 модели\n",
    "\n"
   ]
  },
  {
   "cell_type": "markdown",
   "metadata": {},
   "source": [
    "## Борьба с дисбалансом"
   ]
  },
  {
   "cell_type": "markdown",
   "metadata": {},
   "source": [
    "### Upsample"
   ]
  },
  {
   "cell_type": "code",
   "execution_count": 37,
   "metadata": {},
   "outputs": [
    {
     "name": "stdout",
     "output_type": "stream",
     "text": [
      "forest upsample f1 : 0.5915151515151514\n",
      "forest upsample f1 : 0.5945205479452055\n"
     ]
    }
   ],
   "source": [
    "def upsample(features, target, repeat):\n",
    "    features_zeros = features[target == 0]\n",
    "    features_ones = features[target == 1]\n",
    "    target_zeros = target[target == 0]\n",
    "    target_ones = target[target == 1]\n",
    "\n",
    "    features_upsampled = pd.concat([features_zeros] + [features_ones] * repeat)\n",
    "    target_upsampled = pd.concat([target_zeros] + [target_ones] * repeat)\n",
    "    \n",
    "    features_upsampled, target_upsampled = shuffle(\n",
    "        features_upsampled, target_upsampled, random_state=12345)\n",
    "    \n",
    "    return pd.DataFrame(standart_oe.transform(features_upsampled)\\\n",
    "                                            , columns=features_upsampled.columns), target_upsampled\n",
    "\n",
    "X_train_upsample, y_train_upsample = upsample(X_train_ordinal, y_train, 2)\n",
    "\n",
    "\n",
    "# X_train_standard_oe_upsample = pd.DataFrame(standart_se.transform(X_train_upsample)\\\n",
    "#                                             , columns=X_train_upsample.columns)\n",
    "\n",
    "\n",
    "tree.fit(X_train_upsample, y_train_upsample)\n",
    "print(f'forest upsample f1 : {f1_score(y_valid, tree.predict(X_valid_standard_oe))}')\n",
    "\n",
    "forest.fit(X_train_upsample, y_train_upsample)\n",
    "print(f'forest upsample f1 : {f1_score(y_valid, forest.predict(X_valid_standard_oe))}')"
   ]
  },
  {
   "cell_type": "markdown",
   "metadata": {},
   "source": [
    "### downsample"
   ]
  },
  {
   "cell_type": "code",
   "execution_count": 38,
   "metadata": {},
   "outputs": [
    {
     "name": "stdout",
     "output_type": "stream",
     "text": [
      "tree downsampled f1 : 0.5870889159561511\n",
      "forest downsampled f1 : 0.5848275862068966\n"
     ]
    }
   ],
   "source": [
    "def downsample(features, target, fraction):\n",
    "    features_zeros = features[target == 0]\n",
    "    features_ones = features[target == 1]\n",
    "    target_zeros = target[target == 0]\n",
    "    target_ones = target[target == 1]\n",
    "\n",
    "    features_downsampled = pd.concat(\n",
    "        [features_zeros.sample(frac=fraction, random_state=12345)] + [features_ones])\n",
    "    target_downsampled = pd.concat(\n",
    "        [target_zeros.sample(frac=fraction, random_state=12345)] + [target_ones])\n",
    "    \n",
    "    features_downsampled, target_downsampled = shuffle(\n",
    "        features_downsampled, target_downsampled, random_state=12345)\n",
    "    \n",
    "    return pd.DataFrame(standart_oe.transform(features_downsampled)\\\n",
    "                                            , columns=features_downsampled.columns), target_downsampled\n",
    "\n",
    "X_train_downsampled, y_train_downsampled = downsample(X_train_ordinal, y_train, 0.6)\n",
    "\n",
    "tree.fit(X_train_downsampled, y_train_downsampled)\n",
    "print(f'tree downsampled f1 : {f1_score(y_valid, tree.predict(X_valid_standard_oe))}')\n",
    "\n",
    "\n",
    "forest.fit(X_train_downsampled, y_train_downsampled)\n",
    "print(f'forest downsampled f1 : {f1_score(y_valid, forest.predict(X_valid_standard_oe))}')"
   ]
  },
  {
   "cell_type": "markdown",
   "metadata": {},
   "source": [
    "### функции по перебору параметров и нахождению лучшей модели (мой собственный GridSearch) :)"
   ]
  },
  {
   "cell_type": "code",
   "execution_count": 39,
   "metadata": {},
   "outputs": [],
   "source": [
    "def best_model_tree(X, y):\n",
    "    best_f1 = 0\n",
    "    best_depth = 0\n",
    "    best_leaf = 0\n",
    "    best_model = None\n",
    "    for depth in range(1, 10):\n",
    "        for leaf in range(2, 10):\n",
    "            model = DecisionTreeClassifier(max_depth=depth\\\n",
    "                                                      , min_samples_leaf=leaf, random_state=1234)\n",
    "            model.fit(X, y)\n",
    "            f1 = f1_score(y_valid, model.predict(X_valid_standard_oe))\n",
    "            if f1 > best_f1:\n",
    "                best_f1 = f1\n",
    "                best_model = model\n",
    "                best_depth = depth\n",
    "                best_leaf = leaf    \n",
    "    print(best_f1,depth,leaf) \n",
    "    return best_model"
   ]
  },
  {
   "cell_type": "code",
   "execution_count": 40,
   "metadata": {},
   "outputs": [],
   "source": [
    "def best_model_forest(X, y):\n",
    "    best_f1 = 0\n",
    "    best_depth = 0\n",
    "    best_leaf = 0\n",
    "    best_model = None\n",
    "    for depth in range(1, 10):\n",
    "        for leaf in range(2, 10):\n",
    "            model = RandomForestClassifier(max_depth=depth\\\n",
    "                                                      , min_samples_leaf=leaf, random_state=1234)\n",
    "            model.fit(X, y)\n",
    "            f1 = f1_score(y_valid, model.predict(X_valid_standard_oe))\n",
    "            if f1 > best_f1:\n",
    "                best_f1 = f1\n",
    "                best_model = model\n",
    "                best_depth = depth\n",
    "                best_leaf = leaf    \n",
    "    print(best_f1,depth,leaf, best_model) \n",
    "    return best_model\n",
    "    "
   ]
  },
  {
   "cell_type": "markdown",
   "metadata": {},
   "source": [
    "### подставим разные семплы"
   ]
  },
  {
   "cell_type": "code",
   "execution_count": 41,
   "metadata": {},
   "outputs": [
    {
     "name": "stdout",
     "output_type": "stream",
     "text": [
      "0.6184971098265896 9 9 RandomForestClassifier(max_depth=9, min_samples_leaf=2, random_state=1234)\n"
     ]
    },
    {
     "data": {
      "text/plain": [
       "0.6184971098265896"
      ]
     },
     "execution_count": 41,
     "metadata": {},
     "output_type": "execute_result"
    }
   ],
   "source": [
    "best_1 = f1_score(y_valid, best_model_forest(X_train_downsampled, y_train_downsampled).predict(X_valid_standard_oe))\n",
    "best_1"
   ]
  },
  {
   "cell_type": "code",
   "execution_count": 42,
   "metadata": {},
   "outputs": [
    {
     "name": "stdout",
     "output_type": "stream",
     "text": [
      "0.6237762237762239 9 9 RandomForestClassifier(max_depth=9, min_samples_leaf=4, random_state=1234)\n"
     ]
    },
    {
     "data": {
      "text/plain": [
       "0.6237762237762239"
      ]
     },
     "execution_count": 42,
     "metadata": {},
     "output_type": "execute_result"
    }
   ],
   "source": [
    "best_2 = best_model_forest(X_train_upsample, y_train_upsample)\n",
    "best_f1_2 = f1_score(y_valid, best_2.predict(X_valid_standard_oe))\n",
    "best_f1_2"
   ]
  },
  {
   "cell_type": "code",
   "execution_count": 43,
   "metadata": {},
   "outputs": [
    {
     "name": "stdout",
     "output_type": "stream",
     "text": [
      "0.6157826649417852 9 9\n"
     ]
    },
    {
     "data": {
      "text/plain": [
       "0.6157826649417852"
      ]
     },
     "execution_count": 43,
     "metadata": {},
     "output_type": "execute_result"
    }
   ],
   "source": [
    "best_3 = f1_score(y_valid, best_model_tree(X_train_downsampled, y_train_downsampled).predict(X_valid_standard_oe))\n",
    "best_3"
   ]
  },
  {
   "cell_type": "code",
   "execution_count": 44,
   "metadata": {},
   "outputs": [
    {
     "name": "stdout",
     "output_type": "stream",
     "text": [
      "0.6030150753768845 9 9\n"
     ]
    },
    {
     "data": {
      "text/plain": [
       "0.6030150753768845"
      ]
     },
     "execution_count": 44,
     "metadata": {},
     "output_type": "execute_result"
    }
   ],
   "source": [
    "best_4 = f1_score(y_valid, best_model_tree(X_train_upsample, y_train_upsample).predict(X_valid_standard_oe))\n",
    "best_4"
   ]
  },
  {
   "cell_type": "markdown",
   "metadata": {},
   "source": [
    "### autosampling"
   ]
  },
  {
   "cell_type": "code",
   "execution_count": 45,
   "metadata": {},
   "outputs": [
    {
     "data": {
      "text/plain": [
       "0    4358\n",
       "1    1096\n",
       "Name: exited, dtype: int64"
      ]
     },
     "execution_count": 45,
     "metadata": {},
     "output_type": "execute_result"
    }
   ],
   "source": [
    "X, X_sparse, y = resample(X_train_ordinal, X_train_ordinal, y_train, random_state=1234)\n",
    "y.value_counts()\n"
   ]
  },
  {
   "cell_type": "markdown",
   "metadata": {},
   "source": [
    "- Вывод:\n",
    "\n",
    "После увеличения положительного класса и понижения отрицательного класса , метрика f1 стала намного лучше "
   ]
  },
  {
   "cell_type": "markdown",
   "metadata": {},
   "source": [
    "## Тестирование модели"
   ]
  },
  {
   "cell_type": "markdown",
   "metadata": {},
   "source": [
    "### Тестирование "
   ]
  },
  {
   "cell_type": "code",
   "execution_count": 46,
   "metadata": {},
   "outputs": [
    {
     "data": {
      "text/plain": [
       "0.6244343891402715"
      ]
     },
     "execution_count": 46,
     "metadata": {},
     "output_type": "execute_result"
    }
   ],
   "source": [
    "f1_score(y_test, best_2.predict(X_test_standard_oe))"
   ]
  },
  {
   "cell_type": "markdown",
   "metadata": {},
   "source": [
    "### ROC-AUC"
   ]
  },
  {
   "cell_type": "code",
   "execution_count": 47,
   "metadata": {},
   "outputs": [
    {
     "data": {
      "text/plain": [
       "<matplotlib.legend.Legend at 0x7f506b5a2730>"
      ]
     },
     "execution_count": 47,
     "metadata": {},
     "output_type": "execute_result"
    },
    {
     "data": {
      "image/png": "[encoded data removed]",
      "text/plain": [
       "<Figure size 432x288 with 1 Axes>"
      ]
     },
     "metadata": {
      "needs_background": "light"
     },
     "output_type": "display_data"
    }
   ],
   "source": [
    "fpr, tpr, thresholds = roc_curve(y_test, best_2.predict_proba(X_test_standard_oe)[::,1])\n",
    "roc_auc = auc(fpr, tpr)\n",
    "plt.plot(fpr, tpr, label='ROC кривая (area = %0.2f)' % roc_auc)\n",
    "plt.xlim(0, 1)\n",
    "plt.ylim(0, 1)\n",
    "plt.title('ROC_AUC')\n",
    "plt.xlabel('FPR')\n",
    "plt.ylabel('TPR')\n",
    "plt.plot([0,1], [0, 1], linestyle='dashed', label='ROC кривая (area = 0,5)')\n",
    "plt.legend(loc=\"lower right\")"
   ]
  },
  {
   "cell_type": "code",
   "execution_count": 48,
   "metadata": {},
   "outputs": [
    {
     "data": {
      "image/png": "[encoded data removed]",
      "text/plain": [
       "<Figure size 432x288 with 1 Axes>"
      ]
     },
     "metadata": {
      "needs_background": "light"
     },
     "output_type": "display_data"
    }
   ],
   "source": [
    "skplt.metrics.plot_roc_curve(y_test, best_2.predict_proba(X_test_standard_oe))\n",
    "plt.show()"
   ]
  },
  {
   "cell_type": "markdown",
   "metadata": {},
   "source": [
    "- Так же провел проверку на тестовой выборке и получил результать > 0.59 \n",
    "- И сделал графики roc-auc и площадь под ней близка к 1 , значит получил хороший результат"
   ]
  },
  {
   "cell_type": "markdown",
   "metadata": {},
   "source": [
    "### Общий вывод"
   ]
  },
  {
   "cell_type": "markdown",
   "metadata": {},
   "source": [
    "- После семплирования получил лучшую модель , которую испльзовал для теста\n",
    "    - Модель : Рандомный лес\n",
    "    - Гипер : max_depth=9, min_samples_leaf=4, random_state=1234\n",
    "    - sample : upsampled\n",
    "- значения f1_score на тестовых данных получилось высокое ~ 62\n",
    "- Площадь по roc кривой ~ 0.86  что тоже не плохой результат"
   ]
  }
 ],
 "metadata": {
  "ExecuteTimeLog": [
   {
    "duration": 53,
    "start_time": "2022-12-07T15:42:01.258Z"
   },
   {
    "duration": 429,
    "start_time": "2022-12-07T15:42:20.947Z"
   },
   {
    "duration": 126,
    "start_time": "2022-12-07T15:42:22.493Z"
   },
   {
    "duration": 40,
    "start_time": "2022-12-07T15:43:03.705Z"
   },
   {
    "duration": 7,
    "start_time": "2022-12-07T15:43:08.089Z"
   },
   {
    "duration": 28,
    "start_time": "2022-12-07T15:43:28.144Z"
   },
   {
    "duration": 10,
    "start_time": "2022-12-07T15:43:43.802Z"
   },
   {
    "duration": 10,
    "start_time": "2022-12-07T15:43:48.367Z"
   },
   {
    "duration": 16,
    "start_time": "2022-12-07T15:43:57.569Z"
   },
   {
    "duration": 12,
    "start_time": "2022-12-07T15:44:24.077Z"
   },
   {
    "duration": 7,
    "start_time": "2022-12-07T15:45:16.127Z"
   },
   {
    "duration": 10,
    "start_time": "2022-12-07T15:46:11.626Z"
   },
   {
    "duration": 8,
    "start_time": "2022-12-07T15:46:14.322Z"
   },
   {
    "duration": 464,
    "start_time": "2022-12-07T15:48:34.772Z"
   },
   {
    "duration": 14,
    "start_time": "2022-12-07T15:48:42.060Z"
   },
   {
    "duration": 13,
    "start_time": "2022-12-07T15:58:57.630Z"
   },
   {
    "duration": 63,
    "start_time": "2022-12-07T15:59:07.138Z"
   },
   {
    "duration": 10,
    "start_time": "2022-12-07T15:59:12.870Z"
   },
   {
    "duration": 10,
    "start_time": "2022-12-07T15:59:20.323Z"
   },
   {
    "duration": 14,
    "start_time": "2022-12-07T15:59:37.519Z"
   },
   {
    "duration": 12,
    "start_time": "2022-12-07T16:04:52.822Z"
   },
   {
    "duration": 16,
    "start_time": "2022-12-07T16:05:25.872Z"
   },
   {
    "duration": 8,
    "start_time": "2022-12-07T16:09:51.101Z"
   },
   {
    "duration": 11,
    "start_time": "2022-12-07T16:09:54.922Z"
   },
   {
    "duration": 8,
    "start_time": "2022-12-07T16:10:25.584Z"
   },
   {
    "duration": 11,
    "start_time": "2022-12-07T16:10:42.263Z"
   },
   {
    "duration": 62,
    "start_time": "2022-12-07T16:11:18.992Z"
   },
   {
    "duration": 1289,
    "start_time": "2022-12-08T18:46:09.709Z"
   },
   {
    "duration": 102,
    "start_time": "2022-12-08T18:46:12.797Z"
   },
   {
    "duration": 6,
    "start_time": "2022-12-08T18:46:15.460Z"
   },
   {
    "duration": 48,
    "start_time": "2022-12-08T18:46:18.683Z"
   },
   {
    "duration": 10,
    "start_time": "2022-12-08T18:46:21.344Z"
   },
   {
    "duration": 13,
    "start_time": "2022-12-08T18:46:23.825Z"
   },
   {
    "duration": 446,
    "start_time": "2022-12-08T18:47:11.036Z"
   },
   {
    "duration": 95,
    "start_time": "2022-12-08T18:48:46.489Z"
   },
   {
    "duration": 8,
    "start_time": "2022-12-08T18:48:50.922Z"
   },
   {
    "duration": 3,
    "start_time": "2022-12-08T18:49:13.007Z"
   },
   {
    "duration": 9,
    "start_time": "2022-12-08T18:49:16.095Z"
   },
   {
    "duration": 470,
    "start_time": "2022-12-08T18:49:40.696Z"
   },
   {
    "duration": 1099,
    "start_time": "2022-12-08T18:50:19.391Z"
   },
   {
    "duration": 281,
    "start_time": "2022-12-08T18:57:03.650Z"
   },
   {
    "duration": 1209,
    "start_time": "2022-12-08T19:24:32.824Z"
   },
   {
    "duration": 55,
    "start_time": "2022-12-08T19:24:34.035Z"
   },
   {
    "duration": 6,
    "start_time": "2022-12-08T19:24:34.091Z"
   },
   {
    "duration": 24,
    "start_time": "2022-12-08T19:24:34.099Z"
   },
   {
    "duration": 43,
    "start_time": "2022-12-08T19:24:34.125Z"
   },
   {
    "duration": 10,
    "start_time": "2022-12-08T19:24:34.170Z"
   },
   {
    "duration": 14,
    "start_time": "2022-12-08T19:24:34.181Z"
   },
   {
    "duration": 1290,
    "start_time": "2022-12-08T19:24:34.196Z"
   },
   {
    "duration": 763,
    "start_time": "2022-12-08T19:24:35.489Z"
   },
   {
    "duration": 12,
    "start_time": "2022-12-08T19:25:01.870Z"
   },
   {
    "duration": 236,
    "start_time": "2022-12-08T19:33:59.061Z"
   },
   {
    "duration": 18,
    "start_time": "2022-12-08T19:34:25.172Z"
   },
   {
    "duration": 12,
    "start_time": "2022-12-08T19:34:28.720Z"
   },
   {
    "duration": 9,
    "start_time": "2022-12-08T19:34:49.763Z"
   },
   {
    "duration": 53,
    "start_time": "2022-12-08T19:35:21.155Z"
   },
   {
    "duration": 57,
    "start_time": "2022-12-08T19:36:22.394Z"
   },
   {
    "duration": 715,
    "start_time": "2022-12-08T19:41:19.633Z"
   },
   {
    "duration": 24,
    "start_time": "2022-12-08T19:41:49.413Z"
   },
   {
    "duration": 22,
    "start_time": "2022-12-08T19:46:27.237Z"
   },
   {
    "duration": 32,
    "start_time": "2022-12-08T19:46:38.816Z"
   },
   {
    "duration": 10,
    "start_time": "2022-12-08T19:47:12.623Z"
   },
   {
    "duration": 31,
    "start_time": "2022-12-08T19:47:18.130Z"
   },
   {
    "duration": 29,
    "start_time": "2022-12-08T19:47:56.493Z"
   },
   {
    "duration": 25,
    "start_time": "2022-12-08T19:48:02.539Z"
   },
   {
    "duration": 29,
    "start_time": "2022-12-08T19:48:15.193Z"
   },
   {
    "duration": 21,
    "start_time": "2022-12-08T19:48:42.294Z"
   },
   {
    "duration": 1160,
    "start_time": "2022-12-08T19:49:56.637Z"
   },
   {
    "duration": 50,
    "start_time": "2022-12-08T19:49:57.799Z"
   },
   {
    "duration": 7,
    "start_time": "2022-12-08T19:49:57.851Z"
   },
   {
    "duration": 12,
    "start_time": "2022-12-08T19:49:57.859Z"
   },
   {
    "duration": 43,
    "start_time": "2022-12-08T19:49:57.872Z"
   },
   {
    "duration": 9,
    "start_time": "2022-12-08T19:49:57.917Z"
   },
   {
    "duration": 12,
    "start_time": "2022-12-08T19:49:57.954Z"
   },
   {
    "duration": 1098,
    "start_time": "2022-12-08T19:49:57.968Z"
   },
   {
    "duration": 217,
    "start_time": "2022-12-08T19:49:59.068Z"
   },
   {
    "duration": 38,
    "start_time": "2022-12-08T19:50:14.225Z"
   },
   {
    "duration": 22,
    "start_time": "2022-12-08T19:50:26.823Z"
   },
   {
    "duration": 127,
    "start_time": "2022-12-08T19:51:58.104Z"
   },
   {
    "duration": 27,
    "start_time": "2022-12-08T19:52:04.880Z"
   },
   {
    "duration": 39,
    "start_time": "2022-12-08T19:53:34.552Z"
   },
   {
    "duration": 1162,
    "start_time": "2022-12-08T19:55:39.347Z"
   },
   {
    "duration": 54,
    "start_time": "2022-12-08T19:55:40.512Z"
   },
   {
    "duration": 7,
    "start_time": "2022-12-08T19:55:40.568Z"
   },
   {
    "duration": 16,
    "start_time": "2022-12-08T19:55:40.577Z"
   },
   {
    "duration": 61,
    "start_time": "2022-12-08T19:55:40.595Z"
   },
   {
    "duration": 10,
    "start_time": "2022-12-08T19:55:40.657Z"
   },
   {
    "duration": 14,
    "start_time": "2022-12-08T19:55:40.670Z"
   },
   {
    "duration": 1152,
    "start_time": "2022-12-08T19:55:40.686Z"
   },
   {
    "duration": 231,
    "start_time": "2022-12-08T19:55:41.840Z"
   },
   {
    "duration": 3,
    "start_time": "2022-12-08T19:56:08.217Z"
   },
   {
    "duration": 29,
    "start_time": "2022-12-08T19:58:51.035Z"
   },
   {
    "duration": 25,
    "start_time": "2022-12-08T19:59:11.503Z"
   },
   {
    "duration": 4,
    "start_time": "2022-12-08T20:01:58.936Z"
   },
   {
    "duration": 109,
    "start_time": "2022-12-08T20:02:04.240Z"
   },
   {
    "duration": 25,
    "start_time": "2022-12-08T20:02:34.343Z"
   },
   {
    "duration": 25,
    "start_time": "2022-12-08T20:03:09.537Z"
   },
   {
    "duration": 22,
    "start_time": "2022-12-08T20:04:36.304Z"
   },
   {
    "duration": 15,
    "start_time": "2022-12-08T20:04:43.734Z"
   },
   {
    "duration": 29,
    "start_time": "2022-12-08T20:08:31.706Z"
   },
   {
    "duration": 23,
    "start_time": "2022-12-08T20:08:57.151Z"
   },
   {
    "duration": 13,
    "start_time": "2022-12-08T20:09:08.805Z"
   },
   {
    "duration": 10,
    "start_time": "2022-12-08T20:09:14.814Z"
   },
   {
    "duration": 11,
    "start_time": "2022-12-08T20:09:22.758Z"
   },
   {
    "duration": 9,
    "start_time": "2022-12-08T20:09:29.216Z"
   },
   {
    "duration": 12,
    "start_time": "2022-12-08T20:09:31.042Z"
   },
   {
    "duration": 1112,
    "start_time": "2022-12-08T20:09:39.335Z"
   },
   {
    "duration": 27,
    "start_time": "2022-12-08T20:09:53.536Z"
   },
   {
    "duration": 27,
    "start_time": "2022-12-08T20:10:22.149Z"
   },
   {
    "duration": 33,
    "start_time": "2022-12-08T20:10:33.145Z"
   },
   {
    "duration": 32,
    "start_time": "2022-12-08T20:10:42.758Z"
   },
   {
    "duration": 24,
    "start_time": "2022-12-08T20:13:46.072Z"
   },
   {
    "duration": 1214,
    "start_time": "2022-12-08T20:14:07.599Z"
   },
   {
    "duration": 631,
    "start_time": "2022-12-08T20:14:36.949Z"
   },
   {
    "duration": 565,
    "start_time": "2022-12-08T20:15:09.947Z"
   },
   {
    "duration": 586,
    "start_time": "2022-12-08T20:15:28.765Z"
   },
   {
    "duration": 557,
    "start_time": "2022-12-08T20:15:39.594Z"
   },
   {
    "duration": 567,
    "start_time": "2022-12-08T20:15:58.279Z"
   },
   {
    "duration": 563,
    "start_time": "2022-12-08T20:16:29.696Z"
   },
   {
    "duration": 557,
    "start_time": "2022-12-08T20:16:33.607Z"
   },
   {
    "duration": 554,
    "start_time": "2022-12-08T20:16:43.170Z"
   },
   {
    "duration": 12,
    "start_time": "2022-12-08T20:50:44.843Z"
   },
   {
    "duration": 17,
    "start_time": "2022-12-08T20:50:50.409Z"
   },
   {
    "duration": 14,
    "start_time": "2022-12-08T20:50:52.875Z"
   },
   {
    "duration": 12,
    "start_time": "2022-12-08T20:50:59.956Z"
   },
   {
    "duration": 6,
    "start_time": "2022-12-08T20:52:46.975Z"
   },
   {
    "duration": 82,
    "start_time": "2022-12-09T16:52:05.143Z"
   },
   {
    "duration": 2827,
    "start_time": "2022-12-09T16:52:18.702Z"
   },
   {
    "duration": 56,
    "start_time": "2022-12-09T16:52:26.778Z"
   },
   {
    "duration": 54,
    "start_time": "2022-12-09T16:53:04.892Z"
   },
   {
    "duration": 1515,
    "start_time": "2022-12-09T16:53:29.935Z"
   },
   {
    "duration": 9,
    "start_time": "2022-12-09T16:54:33.001Z"
   },
   {
    "duration": 1346,
    "start_time": "2022-12-09T16:54:41.982Z"
   },
   {
    "duration": 107,
    "start_time": "2022-12-09T16:54:43.331Z"
   },
   {
    "duration": 16,
    "start_time": "2022-12-09T16:54:43.440Z"
   },
   {
    "duration": 23,
    "start_time": "2022-12-09T16:54:43.459Z"
   },
   {
    "duration": 13,
    "start_time": "2022-12-09T16:54:43.484Z"
   },
   {
    "duration": 13,
    "start_time": "2022-12-09T16:54:43.499Z"
   },
   {
    "duration": 52,
    "start_time": "2022-12-09T16:54:43.513Z"
   },
   {
    "duration": 35,
    "start_time": "2022-12-09T16:54:43.566Z"
   },
   {
    "duration": 11,
    "start_time": "2022-12-09T16:54:43.602Z"
   },
   {
    "duration": 1023,
    "start_time": "2022-12-09T16:54:43.615Z"
   },
   {
    "duration": 21,
    "start_time": "2022-12-09T16:54:44.640Z"
   },
   {
    "duration": 16,
    "start_time": "2022-12-09T16:54:44.662Z"
   },
   {
    "duration": 1101,
    "start_time": "2022-12-09T16:54:44.679Z"
   },
   {
    "duration": 627,
    "start_time": "2022-12-09T16:54:45.782Z"
   },
   {
    "duration": 13,
    "start_time": "2022-12-09T16:54:46.410Z"
   },
   {
    "duration": 22,
    "start_time": "2022-12-09T16:54:46.425Z"
   },
   {
    "duration": 44,
    "start_time": "2022-12-09T16:54:46.448Z"
   },
   {
    "duration": 1599,
    "start_time": "2022-12-09T20:36:24.425Z"
   },
   {
    "duration": 1383,
    "start_time": "2022-12-09T20:38:45.092Z"
   },
   {
    "duration": 121,
    "start_time": "2022-12-09T20:38:46.478Z"
   },
   {
    "duration": 19,
    "start_time": "2022-12-09T20:38:46.601Z"
   },
   {
    "duration": 26,
    "start_time": "2022-12-09T20:38:46.622Z"
   },
   {
    "duration": 14,
    "start_time": "2022-12-09T20:38:46.650Z"
   },
   {
    "duration": 37,
    "start_time": "2022-12-09T20:38:46.666Z"
   },
   {
    "duration": 73,
    "start_time": "2022-12-09T20:38:46.705Z"
   },
   {
    "duration": 13,
    "start_time": "2022-12-09T20:38:46.780Z"
   },
   {
    "duration": 12,
    "start_time": "2022-12-09T20:38:46.795Z"
   },
   {
    "duration": 1205,
    "start_time": "2022-12-09T20:38:46.808Z"
   },
   {
    "duration": 25,
    "start_time": "2022-12-09T20:38:48.033Z"
   },
   {
    "duration": 14,
    "start_time": "2022-12-09T20:38:48.060Z"
   },
   {
    "duration": 1312,
    "start_time": "2022-12-09T20:38:48.076Z"
   },
   {
    "duration": 606,
    "start_time": "2022-12-09T20:38:49.392Z"
   },
   {
    "duration": 15,
    "start_time": "2022-12-09T20:38:50.000Z"
   },
   {
    "duration": 22,
    "start_time": "2022-12-09T20:38:50.017Z"
   },
   {
    "duration": 149,
    "start_time": "2022-12-09T20:38:50.041Z"
   },
   {
    "duration": 0,
    "start_time": "2022-12-09T20:38:50.193Z"
   },
   {
    "duration": 0,
    "start_time": "2022-12-09T20:38:50.194Z"
   },
   {
    "duration": 0,
    "start_time": "2022-12-09T20:38:50.195Z"
   },
   {
    "duration": 0,
    "start_time": "2022-12-09T20:38:50.197Z"
   },
   {
    "duration": 3238,
    "start_time": "2022-12-09T20:39:00.512Z"
   },
   {
    "duration": 4623,
    "start_time": "2022-12-09T20:39:14.249Z"
   },
   {
    "duration": 4,
    "start_time": "2022-12-09T20:39:18.875Z"
   },
   {
    "duration": 41,
    "start_time": "2022-12-09T20:39:18.882Z"
   },
   {
    "duration": 7980,
    "start_time": "2022-12-09T20:39:22.135Z"
   },
   {
    "duration": 4,
    "start_time": "2022-12-09T20:39:30.117Z"
   },
   {
    "duration": 57,
    "start_time": "2022-12-09T20:39:30.123Z"
   },
   {
    "duration": 5,
    "start_time": "2022-12-09T20:39:55.032Z"
   },
   {
    "duration": 23,
    "start_time": "2022-12-09T20:40:05.224Z"
   },
   {
    "duration": 5,
    "start_time": "2022-12-09T20:48:45.042Z"
   },
   {
    "duration": 1358,
    "start_time": "2022-12-09T20:49:52.856Z"
   },
   {
    "duration": 56,
    "start_time": "2022-12-09T20:49:54.216Z"
   },
   {
    "duration": 14,
    "start_time": "2022-12-09T20:49:54.274Z"
   },
   {
    "duration": 21,
    "start_time": "2022-12-09T20:49:54.291Z"
   },
   {
    "duration": 22,
    "start_time": "2022-12-09T20:49:54.314Z"
   },
   {
    "duration": 12,
    "start_time": "2022-12-09T20:49:54.338Z"
   },
   {
    "duration": 54,
    "start_time": "2022-12-09T20:49:54.352Z"
   },
   {
    "duration": 10,
    "start_time": "2022-12-09T20:49:54.408Z"
   },
   {
    "duration": 16,
    "start_time": "2022-12-09T20:49:54.436Z"
   },
   {
    "duration": 1174,
    "start_time": "2022-12-09T20:49:54.455Z"
   },
   {
    "duration": 25,
    "start_time": "2022-12-09T20:49:55.631Z"
   },
   {
    "duration": 16,
    "start_time": "2022-12-09T20:49:55.657Z"
   },
   {
    "duration": 1301,
    "start_time": "2022-12-09T20:49:55.674Z"
   },
   {
    "duration": 582,
    "start_time": "2022-12-09T20:49:56.977Z"
   },
   {
    "duration": 13,
    "start_time": "2022-12-09T20:49:57.561Z"
   },
   {
    "duration": 11,
    "start_time": "2022-12-09T20:49:57.575Z"
   },
   {
    "duration": 24,
    "start_time": "2022-12-09T20:49:57.588Z"
   },
   {
    "duration": 8301,
    "start_time": "2022-12-09T20:49:57.614Z"
   },
   {
    "duration": 5,
    "start_time": "2022-12-09T20:50:05.917Z"
   },
   {
    "duration": 37,
    "start_time": "2022-12-09T20:50:05.923Z"
   },
   {
    "duration": 3,
    "start_time": "2022-12-09T20:50:05.962Z"
   },
   {
    "duration": 8861,
    "start_time": "2022-12-09T20:50:15.233Z"
   },
   {
    "duration": 5,
    "start_time": "2022-12-09T20:50:24.096Z"
   },
   {
    "duration": 34,
    "start_time": "2022-12-09T20:50:24.103Z"
   },
   {
    "duration": 33,
    "start_time": "2022-12-09T20:50:42.069Z"
   },
   {
    "duration": 48,
    "start_time": "2022-12-09T20:51:19.886Z"
   },
   {
    "duration": 21,
    "start_time": "2022-12-09T20:51:25.273Z"
   },
   {
    "duration": 5985,
    "start_time": "2022-12-09T20:52:06.135Z"
   },
   {
    "duration": 5,
    "start_time": "2022-12-09T20:52:16.469Z"
   },
   {
    "duration": 115,
    "start_time": "2022-12-09T20:53:00.987Z"
   },
   {
    "duration": 134,
    "start_time": "2022-12-09T20:56:23.494Z"
   },
   {
    "duration": 6624,
    "start_time": "2022-12-09T20:56:56.560Z"
   },
   {
    "duration": 4,
    "start_time": "2022-12-09T20:57:05.510Z"
   },
   {
    "duration": 52,
    "start_time": "2022-12-09T20:57:07.518Z"
   },
   {
    "duration": 8788,
    "start_time": "2022-12-09T20:57:24.006Z"
   },
   {
    "duration": 5,
    "start_time": "2022-12-09T20:57:35.570Z"
   },
   {
    "duration": 30,
    "start_time": "2022-12-09T20:57:38.522Z"
   },
   {
    "duration": 45,
    "start_time": "2022-12-09T20:58:58.326Z"
   },
   {
    "duration": 12,
    "start_time": "2022-12-09T20:59:41.651Z"
   },
   {
    "duration": 2984,
    "start_time": "2022-12-09T21:02:11.420Z"
   },
   {
    "duration": 58,
    "start_time": "2022-12-09T21:02:14.405Z"
   },
   {
    "duration": 24,
    "start_time": "2022-12-09T21:02:14.464Z"
   },
   {
    "duration": 70,
    "start_time": "2022-12-09T21:02:14.490Z"
   },
   {
    "duration": 67,
    "start_time": "2022-12-09T21:02:14.562Z"
   },
   {
    "duration": 52,
    "start_time": "2022-12-09T21:02:14.631Z"
   },
   {
    "duration": 97,
    "start_time": "2022-12-09T21:02:14.685Z"
   },
   {
    "duration": 10,
    "start_time": "2022-12-09T21:02:14.784Z"
   },
   {
    "duration": 66,
    "start_time": "2022-12-09T21:02:14.796Z"
   },
   {
    "duration": 1228,
    "start_time": "2022-12-09T21:02:14.865Z"
   },
   {
    "duration": 25,
    "start_time": "2022-12-09T21:02:16.095Z"
   },
   {
    "duration": 50,
    "start_time": "2022-12-09T21:02:16.121Z"
   },
   {
    "duration": 1308,
    "start_time": "2022-12-09T21:02:16.173Z"
   },
   {
    "duration": 600,
    "start_time": "2022-12-09T21:02:17.483Z"
   },
   {
    "duration": 13,
    "start_time": "2022-12-09T21:02:18.084Z"
   },
   {
    "duration": 21,
    "start_time": "2022-12-09T21:02:18.099Z"
   },
   {
    "duration": 48,
    "start_time": "2022-12-09T21:02:18.122Z"
   },
   {
    "duration": 9375,
    "start_time": "2022-12-09T21:02:18.172Z"
   },
   {
    "duration": 5,
    "start_time": "2022-12-09T21:02:27.548Z"
   },
   {
    "duration": 44,
    "start_time": "2022-12-09T21:02:27.555Z"
   },
   {
    "duration": 6390,
    "start_time": "2022-12-09T21:02:27.601Z"
   },
   {
    "duration": 5,
    "start_time": "2022-12-09T21:02:33.994Z"
   },
   {
    "duration": 105,
    "start_time": "2022-12-09T21:02:34.001Z"
   },
   {
    "duration": 189861,
    "start_time": "2022-12-09T21:02:34.107Z"
   },
   {
    "duration": 5,
    "start_time": "2022-12-09T21:05:43.969Z"
   },
   {
    "duration": 253,
    "start_time": "2022-12-09T21:05:43.976Z"
   },
   {
    "duration": 627933,
    "start_time": "2022-12-09T21:05:44.231Z"
   },
   {
    "duration": 0,
    "start_time": "2022-12-09T21:16:12.166Z"
   },
   {
    "duration": 0,
    "start_time": "2022-12-09T21:16:12.167Z"
   },
   {
    "duration": 0,
    "start_time": "2022-12-09T21:16:12.169Z"
   },
   {
    "duration": 4047,
    "start_time": "2022-12-09T21:16:43.724Z"
   },
   {
    "duration": 16432,
    "start_time": "2022-12-09T21:17:04.562Z"
   },
   {
    "duration": 45441,
    "start_time": "2022-12-09T21:17:28.429Z"
   },
   {
    "duration": 6,
    "start_time": "2022-12-09T21:18:22.561Z"
   },
   {
    "duration": 170051,
    "start_time": "2022-12-09T21:18:42.819Z"
   },
   {
    "duration": 4,
    "start_time": "2022-12-09T21:21:45.455Z"
   },
   {
    "duration": 76,
    "start_time": "2022-12-09T21:21:47.763Z"
   },
   {
    "duration": 11,
    "start_time": "2022-12-09T21:32:27.778Z"
   },
   {
    "duration": 11,
    "start_time": "2022-12-09T21:32:33.283Z"
   },
   {
    "duration": 10,
    "start_time": "2022-12-09T21:32:53.947Z"
   },
   {
    "duration": 12,
    "start_time": "2022-12-09T21:33:12.531Z"
   },
   {
    "duration": 54,
    "start_time": "2022-12-09T21:33:52.379Z"
   },
   {
    "duration": 58,
    "start_time": "2022-12-09T21:33:58.021Z"
   },
   {
    "duration": 13,
    "start_time": "2022-12-09T21:34:04.953Z"
   },
   {
    "duration": 18,
    "start_time": "2022-12-09T21:36:52.395Z"
   },
   {
    "duration": 15,
    "start_time": "2022-12-09T21:37:51.154Z"
   },
   {
    "duration": 15,
    "start_time": "2022-12-09T21:38:37.085Z"
   },
   {
    "duration": 15,
    "start_time": "2022-12-09T21:38:53.404Z"
   },
   {
    "duration": 7,
    "start_time": "2022-12-09T21:39:03.641Z"
   },
   {
    "duration": 7,
    "start_time": "2022-12-09T21:39:47.410Z"
   },
   {
    "duration": 1569,
    "start_time": "2022-12-10T14:23:01.149Z"
   },
   {
    "duration": 1306,
    "start_time": "2022-12-10T14:23:09.463Z"
   },
   {
    "duration": 119,
    "start_time": "2022-12-10T14:23:10.771Z"
   },
   {
    "duration": 12,
    "start_time": "2022-12-10T14:23:10.891Z"
   },
   {
    "duration": 34,
    "start_time": "2022-12-10T14:23:10.905Z"
   },
   {
    "duration": 19,
    "start_time": "2022-12-10T14:23:10.941Z"
   },
   {
    "duration": 15,
    "start_time": "2022-12-10T14:23:10.961Z"
   },
   {
    "duration": 39,
    "start_time": "2022-12-10T14:23:10.978Z"
   },
   {
    "duration": 17,
    "start_time": "2022-12-10T14:23:11.019Z"
   },
   {
    "duration": 29,
    "start_time": "2022-12-10T14:23:11.038Z"
   },
   {
    "duration": 1177,
    "start_time": "2022-12-10T14:23:11.069Z"
   },
   {
    "duration": 23,
    "start_time": "2022-12-10T14:23:12.248Z"
   },
   {
    "duration": 11,
    "start_time": "2022-12-10T14:23:12.273Z"
   },
   {
    "duration": 1263,
    "start_time": "2022-12-10T14:23:12.286Z"
   },
   {
    "duration": 562,
    "start_time": "2022-12-10T14:23:13.552Z"
   },
   {
    "duration": 15,
    "start_time": "2022-12-10T14:23:14.121Z"
   },
   {
    "duration": 21,
    "start_time": "2022-12-10T14:23:14.139Z"
   },
   {
    "duration": 16,
    "start_time": "2022-12-10T14:23:14.162Z"
   },
   {
    "duration": 121,
    "start_time": "2022-12-10T14:23:14.180Z"
   },
   {
    "duration": 0,
    "start_time": "2022-12-10T14:23:14.302Z"
   },
   {
    "duration": 0,
    "start_time": "2022-12-10T14:23:14.304Z"
   },
   {
    "duration": 0,
    "start_time": "2022-12-10T14:23:14.305Z"
   },
   {
    "duration": 0,
    "start_time": "2022-12-10T14:23:14.306Z"
   },
   {
    "duration": 0,
    "start_time": "2022-12-10T14:23:14.307Z"
   },
   {
    "duration": 0,
    "start_time": "2022-12-10T14:23:14.308Z"
   },
   {
    "duration": 0,
    "start_time": "2022-12-10T14:23:14.308Z"
   },
   {
    "duration": 0,
    "start_time": "2022-12-10T14:23:14.309Z"
   },
   {
    "duration": 0,
    "start_time": "2022-12-10T14:23:14.310Z"
   },
   {
    "duration": 0,
    "start_time": "2022-12-10T14:23:14.310Z"
   },
   {
    "duration": 0,
    "start_time": "2022-12-10T14:23:14.311Z"
   },
   {
    "duration": 0,
    "start_time": "2022-12-10T14:23:14.311Z"
   },
   {
    "duration": 0,
    "start_time": "2022-12-10T14:23:14.312Z"
   },
   {
    "duration": 3036,
    "start_time": "2022-12-10T14:23:32.644Z"
   },
   {
    "duration": 21,
    "start_time": "2022-12-10T14:25:22.976Z"
   },
   {
    "duration": 19,
    "start_time": "2022-12-10T14:25:42.132Z"
   },
   {
    "duration": 24,
    "start_time": "2022-12-10T14:25:54.809Z"
   },
   {
    "duration": 13,
    "start_time": "2022-12-10T14:26:12.759Z"
   },
   {
    "duration": 22,
    "start_time": "2022-12-10T14:26:25.793Z"
   },
   {
    "duration": 63,
    "start_time": "2022-12-10T14:26:38.517Z"
   },
   {
    "duration": 21,
    "start_time": "2022-12-10T14:26:40.744Z"
   },
   {
    "duration": 22,
    "start_time": "2022-12-10T14:27:36.447Z"
   },
   {
    "duration": 24,
    "start_time": "2022-12-10T14:28:31.358Z"
   },
   {
    "duration": 27,
    "start_time": "2022-12-10T14:29:11.595Z"
   },
   {
    "duration": 8189,
    "start_time": "2022-12-10T14:29:19.040Z"
   },
   {
    "duration": 6,
    "start_time": "2022-12-10T14:29:30.458Z"
   },
   {
    "duration": 31,
    "start_time": "2022-12-10T14:29:32.746Z"
   },
   {
    "duration": 17232,
    "start_time": "2022-12-10T14:29:47.885Z"
   },
   {
    "duration": 8,
    "start_time": "2022-12-10T14:30:05.119Z"
   },
   {
    "duration": 49,
    "start_time": "2022-12-10T14:30:05.135Z"
   },
   {
    "duration": 13,
    "start_time": "2022-12-10T14:30:11.314Z"
   },
   {
    "duration": 203,
    "start_time": "2022-12-10T14:30:21.053Z"
   },
   {
    "duration": 182033,
    "start_time": "2022-12-10T14:30:27.920Z"
   },
   {
    "duration": 5,
    "start_time": "2022-12-10T14:33:29.955Z"
   },
   {
    "duration": 150,
    "start_time": "2022-12-10T14:33:29.961Z"
   },
   {
    "duration": 86535,
    "start_time": "2022-12-10T14:33:30.113Z"
   },
   {
    "duration": 60,
    "start_time": "2022-12-10T14:34:56.662Z"
   },
   {
    "duration": 60,
    "start_time": "2022-12-10T14:34:56.727Z"
   },
   {
    "duration": 1532,
    "start_time": "2022-12-10T15:14:25.684Z"
   },
   {
    "duration": 83,
    "start_time": "2022-12-10T15:14:27.217Z"
   },
   {
    "duration": 12,
    "start_time": "2022-12-10T15:14:27.302Z"
   },
   {
    "duration": 64,
    "start_time": "2022-12-10T15:14:27.316Z"
   },
   {
    "duration": 8,
    "start_time": "2022-12-10T15:14:27.382Z"
   },
   {
    "duration": 16,
    "start_time": "2022-12-10T15:14:27.392Z"
   },
   {
    "duration": 54,
    "start_time": "2022-12-10T15:14:27.410Z"
   },
   {
    "duration": 9,
    "start_time": "2022-12-10T15:14:27.465Z"
   },
   {
    "duration": 11,
    "start_time": "2022-12-10T15:14:27.476Z"
   },
   {
    "duration": 1226,
    "start_time": "2022-12-10T15:14:27.490Z"
   },
   {
    "duration": 31,
    "start_time": "2022-12-10T15:14:28.717Z"
   },
   {
    "duration": 25,
    "start_time": "2022-12-10T15:14:28.750Z"
   },
   {
    "duration": 1205,
    "start_time": "2022-12-10T15:14:28.776Z"
   },
   {
    "duration": 619,
    "start_time": "2022-12-10T15:14:29.983Z"
   },
   {
    "duration": 27,
    "start_time": "2022-12-10T15:14:30.604Z"
   },
   {
    "duration": 46,
    "start_time": "2022-12-10T15:14:30.633Z"
   },
   {
    "duration": 31,
    "start_time": "2022-12-10T15:14:30.682Z"
   },
   {
    "duration": 82,
    "start_time": "2022-12-10T15:14:30.715Z"
   },
   {
    "duration": 8092,
    "start_time": "2022-12-10T15:14:30.799Z"
   },
   {
    "duration": 5,
    "start_time": "2022-12-10T15:14:38.892Z"
   },
   {
    "duration": 43,
    "start_time": "2022-12-10T15:14:38.898Z"
   },
   {
    "duration": 17875,
    "start_time": "2022-12-10T15:14:38.946Z"
   },
   {
    "duration": 9,
    "start_time": "2022-12-10T15:14:56.824Z"
   },
   {
    "duration": 201,
    "start_time": "2022-12-10T15:14:56.839Z"
   },
   {
    "duration": 156606,
    "start_time": "2022-12-10T15:14:57.044Z"
   },
   {
    "duration": 10,
    "start_time": "2022-12-10T15:17:33.652Z"
   },
   {
    "duration": 0,
    "start_time": "2022-12-10T15:17:33.664Z"
   },
   {
    "duration": 0,
    "start_time": "2022-12-10T15:17:33.666Z"
   },
   {
    "duration": 0,
    "start_time": "2022-12-10T15:17:33.667Z"
   },
   {
    "duration": 0,
    "start_time": "2022-12-10T15:17:33.668Z"
   },
   {
    "duration": 0,
    "start_time": "2022-12-10T15:17:33.669Z"
   },
   {
    "duration": 0,
    "start_time": "2022-12-10T15:17:33.674Z"
   },
   {
    "duration": 20,
    "start_time": "2022-12-10T15:17:52.466Z"
   },
   {
    "duration": 9,
    "start_time": "2022-12-10T15:20:21.101Z"
   },
   {
    "duration": 1339,
    "start_time": "2022-12-10T15:21:15.788Z"
   },
   {
    "duration": 57,
    "start_time": "2022-12-10T15:21:17.132Z"
   },
   {
    "duration": 12,
    "start_time": "2022-12-10T15:21:17.191Z"
   },
   {
    "duration": 37,
    "start_time": "2022-12-10T15:21:17.205Z"
   },
   {
    "duration": 12,
    "start_time": "2022-12-10T15:21:17.251Z"
   },
   {
    "duration": 13,
    "start_time": "2022-12-10T15:21:17.264Z"
   },
   {
    "duration": 40,
    "start_time": "2022-12-10T15:21:17.279Z"
   },
   {
    "duration": 16,
    "start_time": "2022-12-10T15:21:17.320Z"
   },
   {
    "duration": 30,
    "start_time": "2022-12-10T15:21:17.341Z"
   },
   {
    "duration": 1157,
    "start_time": "2022-12-10T15:21:17.374Z"
   },
   {
    "duration": 31,
    "start_time": "2022-12-10T15:21:18.536Z"
   },
   {
    "duration": 14,
    "start_time": "2022-12-10T15:21:18.569Z"
   },
   {
    "duration": 1249,
    "start_time": "2022-12-10T15:21:18.585Z"
   },
   {
    "duration": 600,
    "start_time": "2022-12-10T15:21:19.841Z"
   },
   {
    "duration": 15,
    "start_time": "2022-12-10T15:21:20.443Z"
   },
   {
    "duration": 9,
    "start_time": "2022-12-10T15:21:20.460Z"
   },
   {
    "duration": 12,
    "start_time": "2022-12-10T15:21:20.471Z"
   },
   {
    "duration": 58,
    "start_time": "2022-12-10T15:21:20.485Z"
   },
   {
    "duration": 7909,
    "start_time": "2022-12-10T15:21:20.547Z"
   },
   {
    "duration": 3,
    "start_time": "2022-12-10T15:21:28.458Z"
   },
   {
    "duration": 33,
    "start_time": "2022-12-10T15:21:28.463Z"
   },
   {
    "duration": 128,
    "start_time": "2022-12-10T15:21:43.452Z"
   },
   {
    "duration": 9,
    "start_time": "2022-12-10T15:22:03.551Z"
   },
   {
    "duration": 15,
    "start_time": "2022-12-10T15:22:12.486Z"
   },
   {
    "duration": 10,
    "start_time": "2022-12-10T15:23:00.255Z"
   },
   {
    "duration": 5,
    "start_time": "2022-12-10T15:23:09.848Z"
   },
   {
    "duration": 14,
    "start_time": "2022-12-10T15:23:24.391Z"
   },
   {
    "duration": 14,
    "start_time": "2022-12-10T15:24:18.273Z"
   },
   {
    "duration": 8,
    "start_time": "2022-12-10T15:24:37.501Z"
   },
   {
    "duration": 14,
    "start_time": "2022-12-10T15:24:44.832Z"
   },
   {
    "duration": 36,
    "start_time": "2022-12-10T15:25:03.652Z"
   },
   {
    "duration": 46,
    "start_time": "2022-12-10T15:25:54.613Z"
   },
   {
    "duration": 41,
    "start_time": "2022-12-10T15:27:45.900Z"
   },
   {
    "duration": 34,
    "start_time": "2022-12-10T15:28:28.846Z"
   },
   {
    "duration": 11,
    "start_time": "2022-12-10T15:28:55.447Z"
   },
   {
    "duration": 48,
    "start_time": "2022-12-10T15:29:01.403Z"
   },
   {
    "duration": 39,
    "start_time": "2022-12-10T15:29:12.269Z"
   },
   {
    "duration": 43,
    "start_time": "2022-12-10T15:29:18.750Z"
   },
   {
    "duration": 50,
    "start_time": "2022-12-10T15:29:19.420Z"
   },
   {
    "duration": 51,
    "start_time": "2022-12-10T15:29:19.622Z"
   },
   {
    "duration": 53,
    "start_time": "2022-12-10T15:29:19.851Z"
   },
   {
    "duration": 52,
    "start_time": "2022-12-10T15:29:19.990Z"
   },
   {
    "duration": 46,
    "start_time": "2022-12-10T15:29:20.156Z"
   },
   {
    "duration": 46,
    "start_time": "2022-12-10T15:29:20.319Z"
   },
   {
    "duration": 36,
    "start_time": "2022-12-10T15:29:20.465Z"
   },
   {
    "duration": 47,
    "start_time": "2022-12-10T15:29:20.618Z"
   },
   {
    "duration": 32,
    "start_time": "2022-12-10T15:29:27.576Z"
   },
   {
    "duration": 43,
    "start_time": "2022-12-10T15:29:28.499Z"
   },
   {
    "duration": 36,
    "start_time": "2022-12-10T15:29:43.741Z"
   },
   {
    "duration": 12,
    "start_time": "2022-12-10T15:30:56.352Z"
   },
   {
    "duration": 56,
    "start_time": "2022-12-10T15:31:09.452Z"
   },
   {
    "duration": 10,
    "start_time": "2022-12-10T15:31:34.785Z"
   },
   {
    "duration": 18,
    "start_time": "2022-12-10T15:31:37.686Z"
   },
   {
    "duration": 8621,
    "start_time": "2022-12-10T15:31:58.891Z"
   },
   {
    "duration": 4,
    "start_time": "2022-12-10T15:32:19.578Z"
   },
   {
    "duration": 37,
    "start_time": "2022-12-10T15:32:21.507Z"
   },
   {
    "duration": 49,
    "start_time": "2022-12-10T15:32:39.910Z"
   },
   {
    "duration": 30,
    "start_time": "2022-12-10T15:32:42.690Z"
   },
   {
    "duration": 8485,
    "start_time": "2022-12-10T15:33:24.476Z"
   },
   {
    "duration": 5,
    "start_time": "2022-12-10T15:33:34.555Z"
   },
   {
    "duration": 4,
    "start_time": "2022-12-10T15:33:38.895Z"
   },
   {
    "duration": 5,
    "start_time": "2022-12-10T15:33:39.455Z"
   },
   {
    "duration": 4,
    "start_time": "2022-12-10T15:33:39.656Z"
   },
   {
    "duration": 4,
    "start_time": "2022-12-10T15:33:39.784Z"
   },
   {
    "duration": 37,
    "start_time": "2022-12-10T15:33:42.800Z"
   },
   {
    "duration": 37,
    "start_time": "2022-12-10T15:33:52.053Z"
   },
   {
    "duration": 14,
    "start_time": "2022-12-10T15:33:58.522Z"
   },
   {
    "duration": 8389,
    "start_time": "2022-12-10T15:34:00.392Z"
   },
   {
    "duration": 4,
    "start_time": "2022-12-10T15:34:08.783Z"
   },
   {
    "duration": 69,
    "start_time": "2022-12-10T15:34:08.789Z"
   },
   {
    "duration": 1556,
    "start_time": "2022-12-10T15:34:36.107Z"
   },
   {
    "duration": 69,
    "start_time": "2022-12-10T15:34:37.666Z"
   },
   {
    "duration": 22,
    "start_time": "2022-12-10T15:34:37.736Z"
   },
   {
    "duration": 25,
    "start_time": "2022-12-10T15:34:37.760Z"
   },
   {
    "duration": 12,
    "start_time": "2022-12-10T15:34:37.788Z"
   },
   {
    "duration": 18,
    "start_time": "2022-12-10T15:34:37.802Z"
   },
   {
    "duration": 62,
    "start_time": "2022-12-10T15:34:37.824Z"
   },
   {
    "duration": 9,
    "start_time": "2022-12-10T15:34:37.888Z"
   },
   {
    "duration": 27,
    "start_time": "2022-12-10T15:34:37.899Z"
   },
   {
    "duration": 1205,
    "start_time": "2022-12-10T15:34:37.927Z"
   },
   {
    "duration": 41,
    "start_time": "2022-12-10T15:34:39.133Z"
   },
   {
    "duration": 19,
    "start_time": "2022-12-10T15:34:39.180Z"
   },
   {
    "duration": 1269,
    "start_time": "2022-12-10T15:34:39.201Z"
   },
   {
    "duration": 598,
    "start_time": "2022-12-10T15:34:40.473Z"
   },
   {
    "duration": 12,
    "start_time": "2022-12-10T15:34:41.073Z"
   },
   {
    "duration": 18,
    "start_time": "2022-12-10T15:34:41.087Z"
   },
   {
    "duration": 18,
    "start_time": "2022-12-10T15:34:41.107Z"
   },
   {
    "duration": 63,
    "start_time": "2022-12-10T15:34:41.127Z"
   },
   {
    "duration": 122,
    "start_time": "2022-12-10T15:34:41.192Z"
   },
   {
    "duration": 0,
    "start_time": "2022-12-10T15:34:41.315Z"
   },
   {
    "duration": 0,
    "start_time": "2022-12-10T15:34:41.316Z"
   },
   {
    "duration": 8488,
    "start_time": "2022-12-10T15:34:54.856Z"
   },
   {
    "duration": 9,
    "start_time": "2022-12-10T15:35:03.352Z"
   },
   {
    "duration": 27,
    "start_time": "2022-12-10T15:35:03.362Z"
   },
   {
    "duration": 35,
    "start_time": "2022-12-10T15:35:14.486Z"
   },
   {
    "duration": 38,
    "start_time": "2022-12-10T15:35:16.851Z"
   },
   {
    "duration": 31,
    "start_time": "2022-12-10T15:35:57.775Z"
   },
   {
    "duration": 33,
    "start_time": "2022-12-10T15:35:58.235Z"
   },
   {
    "duration": 37,
    "start_time": "2022-12-10T15:35:58.458Z"
   },
   {
    "duration": 38,
    "start_time": "2022-12-10T15:35:58.653Z"
   },
   {
    "duration": 48,
    "start_time": "2022-12-10T15:35:58.796Z"
   },
   {
    "duration": 43,
    "start_time": "2022-12-10T15:35:58.968Z"
   },
   {
    "duration": 27,
    "start_time": "2022-12-10T15:35:59.157Z"
   },
   {
    "duration": 29,
    "start_time": "2022-12-10T15:35:59.351Z"
   },
   {
    "duration": 34,
    "start_time": "2022-12-10T15:35:59.501Z"
   },
   {
    "duration": 30,
    "start_time": "2022-12-10T15:35:59.662Z"
   },
   {
    "duration": 43,
    "start_time": "2022-12-10T15:35:59.855Z"
   },
   {
    "duration": 40,
    "start_time": "2022-12-10T15:36:00.012Z"
   },
   {
    "duration": 8,
    "start_time": "2022-12-10T15:36:31.772Z"
   },
   {
    "duration": 8526,
    "start_time": "2022-12-10T15:36:40.702Z"
   },
   {
    "duration": 11,
    "start_time": "2022-12-10T15:36:51.546Z"
   },
   {
    "duration": 5,
    "start_time": "2022-12-10T15:36:52.573Z"
   },
   {
    "duration": 13,
    "start_time": "2022-12-10T15:36:52.943Z"
   },
   {
    "duration": 8,
    "start_time": "2022-12-10T15:36:53.150Z"
   },
   {
    "duration": 5,
    "start_time": "2022-12-10T15:36:53.461Z"
   },
   {
    "duration": 4,
    "start_time": "2022-12-10T15:36:53.660Z"
   },
   {
    "duration": 11,
    "start_time": "2022-12-10T15:36:53.856Z"
   },
   {
    "duration": 22,
    "start_time": "2022-12-10T15:36:56.078Z"
   },
   {
    "duration": 25,
    "start_time": "2022-12-10T15:36:56.394Z"
   },
   {
    "duration": 23,
    "start_time": "2022-12-10T15:36:56.650Z"
   },
   {
    "duration": 24,
    "start_time": "2022-12-10T15:36:56.857Z"
   },
   {
    "duration": 32,
    "start_time": "2022-12-10T15:36:57.021Z"
   },
   {
    "duration": 35,
    "start_time": "2022-12-10T15:36:57.208Z"
   },
   {
    "duration": 36,
    "start_time": "2022-12-10T15:36:57.364Z"
   },
   {
    "duration": 33,
    "start_time": "2022-12-10T15:36:57.536Z"
   },
   {
    "duration": 1411,
    "start_time": "2022-12-10T15:37:30.999Z"
   },
   {
    "duration": 74,
    "start_time": "2022-12-10T15:37:32.411Z"
   },
   {
    "duration": 12,
    "start_time": "2022-12-10T15:37:32.487Z"
   },
   {
    "duration": 72,
    "start_time": "2022-12-10T15:37:32.501Z"
   },
   {
    "duration": 13,
    "start_time": "2022-12-10T15:37:32.575Z"
   },
   {
    "duration": 16,
    "start_time": "2022-12-10T15:37:32.590Z"
   },
   {
    "duration": 55,
    "start_time": "2022-12-10T15:37:32.609Z"
   },
   {
    "duration": 11,
    "start_time": "2022-12-10T15:37:32.666Z"
   },
   {
    "duration": 12,
    "start_time": "2022-12-10T15:37:32.679Z"
   },
   {
    "duration": 1201,
    "start_time": "2022-12-10T15:37:32.694Z"
   },
   {
    "duration": 35,
    "start_time": "2022-12-10T15:37:33.897Z"
   },
   {
    "duration": 44,
    "start_time": "2022-12-10T15:37:33.933Z"
   },
   {
    "duration": 1239,
    "start_time": "2022-12-10T15:37:33.979Z"
   },
   {
    "duration": 629,
    "start_time": "2022-12-10T15:37:35.221Z"
   },
   {
    "duration": 13,
    "start_time": "2022-12-10T15:37:35.851Z"
   },
   {
    "duration": 11,
    "start_time": "2022-12-10T15:37:35.865Z"
   },
   {
    "duration": 11,
    "start_time": "2022-12-10T15:37:35.877Z"
   },
   {
    "duration": 36,
    "start_time": "2022-12-10T15:37:35.890Z"
   },
   {
    "duration": 8205,
    "start_time": "2022-12-10T15:37:35.928Z"
   },
   {
    "duration": 5,
    "start_time": "2022-12-10T15:37:44.134Z"
   },
   {
    "duration": 45,
    "start_time": "2022-12-10T15:37:44.140Z"
   },
   {
    "duration": 6591,
    "start_time": "2022-12-10T15:37:44.186Z"
   },
   {
    "duration": 4,
    "start_time": "2022-12-10T15:37:50.779Z"
   },
   {
    "duration": 57,
    "start_time": "2022-12-10T15:37:50.784Z"
   },
   {
    "duration": 180593,
    "start_time": "2022-12-10T15:37:50.843Z"
   },
   {
    "duration": 9,
    "start_time": "2022-12-10T15:40:51.440Z"
   },
   {
    "duration": 149,
    "start_time": "2022-12-10T15:40:51.450Z"
   },
   {
    "duration": 499419,
    "start_time": "2022-12-10T15:40:51.603Z"
   },
   {
    "duration": 11,
    "start_time": "2022-12-10T15:49:11.024Z"
   },
   {
    "duration": 0,
    "start_time": "2022-12-10T15:49:11.036Z"
   },
   {
    "duration": 0,
    "start_time": "2022-12-10T15:49:11.038Z"
   },
   {
    "duration": 0,
    "start_time": "2022-12-10T15:49:11.039Z"
   },
   {
    "duration": 0,
    "start_time": "2022-12-10T15:49:11.041Z"
   },
   {
    "duration": 18,
    "start_time": "2022-12-10T15:49:30.274Z"
   },
   {
    "duration": 41,
    "start_time": "2022-12-10T15:49:32.907Z"
   },
   {
    "duration": 39,
    "start_time": "2022-12-10T15:49:35.852Z"
   },
   {
    "duration": 10,
    "start_time": "2022-12-10T15:50:58.584Z"
   },
   {
    "duration": 138,
    "start_time": "2022-12-10T15:51:21.714Z"
   },
   {
    "duration": 111,
    "start_time": "2022-12-10T15:51:47.094Z"
   },
   {
    "duration": 1316,
    "start_time": "2022-12-10T15:52:22.690Z"
   },
   {
    "duration": 67,
    "start_time": "2022-12-10T15:52:24.007Z"
   },
   {
    "duration": 14,
    "start_time": "2022-12-10T15:52:24.075Z"
   },
   {
    "duration": 26,
    "start_time": "2022-12-10T15:52:24.090Z"
   },
   {
    "duration": 13,
    "start_time": "2022-12-10T15:52:24.118Z"
   },
   {
    "duration": 28,
    "start_time": "2022-12-10T15:52:24.134Z"
   },
   {
    "duration": 42,
    "start_time": "2022-12-10T15:52:24.163Z"
   },
   {
    "duration": 9,
    "start_time": "2022-12-10T15:52:24.207Z"
   },
   {
    "duration": 41,
    "start_time": "2022-12-10T15:52:24.217Z"
   },
   {
    "duration": 1111,
    "start_time": "2022-12-10T15:52:24.261Z"
   },
   {
    "duration": 31,
    "start_time": "2022-12-10T15:52:25.374Z"
   },
   {
    "duration": 19,
    "start_time": "2022-12-10T15:52:25.407Z"
   },
   {
    "duration": 1162,
    "start_time": "2022-12-10T15:52:25.441Z"
   },
   {
    "duration": 570,
    "start_time": "2022-12-10T15:52:26.604Z"
   },
   {
    "duration": 12,
    "start_time": "2022-12-10T15:52:27.175Z"
   },
   {
    "duration": 19,
    "start_time": "2022-12-10T15:52:27.188Z"
   },
   {
    "duration": 6,
    "start_time": "2022-12-10T15:52:27.209Z"
   },
   {
    "duration": 29,
    "start_time": "2022-12-10T15:52:27.226Z"
   },
   {
    "duration": 8143,
    "start_time": "2022-12-10T15:52:27.256Z"
   },
   {
    "duration": 4,
    "start_time": "2022-12-10T15:52:35.401Z"
   },
   {
    "duration": 90,
    "start_time": "2022-12-10T15:52:35.407Z"
   },
   {
    "duration": 3,
    "start_time": "2022-12-10T15:52:35.499Z"
   },
   {
    "duration": 56,
    "start_time": "2022-12-10T15:52:35.504Z"
   },
   {
    "duration": 20,
    "start_time": "2022-12-10T15:52:35.563Z"
   },
   {
    "duration": 34,
    "start_time": "2022-12-10T15:52:35.585Z"
   },
   {
    "duration": 43,
    "start_time": "2022-12-10T15:52:35.620Z"
   },
   {
    "duration": 19,
    "start_time": "2022-12-10T15:52:35.665Z"
   },
   {
    "duration": 8,
    "start_time": "2022-12-10T15:52:35.688Z"
   },
   {
    "duration": 43,
    "start_time": "2022-12-10T15:52:35.698Z"
   },
   {
    "duration": 20,
    "start_time": "2022-12-10T15:52:35.742Z"
   },
   {
    "duration": 33,
    "start_time": "2022-12-10T15:52:35.763Z"
   },
   {
    "duration": 53,
    "start_time": "2022-12-10T15:52:35.797Z"
   },
   {
    "duration": 32,
    "start_time": "2022-12-10T15:52:35.852Z"
   },
   {
    "duration": 125,
    "start_time": "2022-12-10T15:52:35.885Z"
   },
   {
    "duration": 1507,
    "start_time": "2022-12-10T15:53:04.405Z"
   },
   {
    "duration": 65,
    "start_time": "2022-12-10T15:53:05.914Z"
   },
   {
    "duration": 12,
    "start_time": "2022-12-10T15:53:05.981Z"
   },
   {
    "duration": 22,
    "start_time": "2022-12-10T15:53:05.995Z"
   },
   {
    "duration": 146,
    "start_time": "2022-12-10T15:53:06.019Z"
   },
   {
    "duration": 12,
    "start_time": "2022-12-10T15:53:06.166Z"
   },
   {
    "duration": 47,
    "start_time": "2022-12-10T15:53:06.179Z"
   },
   {
    "duration": 17,
    "start_time": "2022-12-10T15:53:06.228Z"
   },
   {
    "duration": 18,
    "start_time": "2022-12-10T15:53:06.253Z"
   },
   {
    "duration": 1179,
    "start_time": "2022-12-10T15:53:06.273Z"
   },
   {
    "duration": 23,
    "start_time": "2022-12-10T15:53:07.454Z"
   },
   {
    "duration": 13,
    "start_time": "2022-12-10T15:53:07.478Z"
   },
   {
    "duration": 1227,
    "start_time": "2022-12-10T15:53:07.493Z"
   },
   {
    "duration": 576,
    "start_time": "2022-12-10T15:53:08.724Z"
   },
   {
    "duration": 28,
    "start_time": "2022-12-10T15:53:09.302Z"
   },
   {
    "duration": 32,
    "start_time": "2022-12-10T15:53:09.331Z"
   },
   {
    "duration": 9,
    "start_time": "2022-12-10T15:53:09.365Z"
   },
   {
    "duration": 21,
    "start_time": "2022-12-10T15:53:09.376Z"
   },
   {
    "duration": 8165,
    "start_time": "2022-12-10T15:53:09.399Z"
   },
   {
    "duration": 4,
    "start_time": "2022-12-10T15:53:17.565Z"
   },
   {
    "duration": 26,
    "start_time": "2022-12-10T15:53:17.570Z"
   },
   {
    "duration": 2,
    "start_time": "2022-12-10T15:53:17.598Z"
   },
   {
    "duration": 5,
    "start_time": "2022-12-10T15:53:17.601Z"
   },
   {
    "duration": 29,
    "start_time": "2022-12-10T15:53:17.607Z"
   },
   {
    "duration": 16,
    "start_time": "2022-12-10T15:53:17.641Z"
   },
   {
    "duration": 9,
    "start_time": "2022-12-10T15:53:17.659Z"
   },
   {
    "duration": 7,
    "start_time": "2022-12-10T15:53:17.669Z"
   },
   {
    "duration": 6,
    "start_time": "2022-12-10T15:53:17.679Z"
   },
   {
    "duration": 6,
    "start_time": "2022-12-10T15:53:17.687Z"
   },
   {
    "duration": 5,
    "start_time": "2022-12-10T15:53:17.695Z"
   },
   {
    "duration": 40,
    "start_time": "2022-12-10T15:53:17.702Z"
   },
   {
    "duration": 37,
    "start_time": "2022-12-10T15:53:17.745Z"
   },
   {
    "duration": 29,
    "start_time": "2022-12-10T15:53:17.784Z"
   },
   {
    "duration": 99,
    "start_time": "2022-12-10T15:53:17.814Z"
   },
   {
    "duration": 1371,
    "start_time": "2022-12-10T15:54:46.346Z"
   },
   {
    "duration": 69,
    "start_time": "2022-12-10T15:54:47.719Z"
   },
   {
    "duration": 12,
    "start_time": "2022-12-10T15:54:47.789Z"
   },
   {
    "duration": 34,
    "start_time": "2022-12-10T15:54:47.802Z"
   },
   {
    "duration": 16,
    "start_time": "2022-12-10T15:54:47.838Z"
   },
   {
    "duration": 14,
    "start_time": "2022-12-10T15:54:47.855Z"
   },
   {
    "duration": 49,
    "start_time": "2022-12-10T15:54:47.870Z"
   },
   {
    "duration": 15,
    "start_time": "2022-12-10T15:54:47.921Z"
   },
   {
    "duration": 15,
    "start_time": "2022-12-10T15:54:47.945Z"
   },
   {
    "duration": 1139,
    "start_time": "2022-12-10T15:54:47.961Z"
   },
   {
    "duration": 34,
    "start_time": "2022-12-10T15:54:49.102Z"
   },
   {
    "duration": 17,
    "start_time": "2022-12-10T15:54:49.137Z"
   },
   {
    "duration": 1174,
    "start_time": "2022-12-10T15:54:49.156Z"
   },
   {
    "duration": 569,
    "start_time": "2022-12-10T15:54:50.333Z"
   },
   {
    "duration": 11,
    "start_time": "2022-12-10T15:54:50.904Z"
   },
   {
    "duration": 33,
    "start_time": "2022-12-10T15:54:50.921Z"
   },
   {
    "duration": 15,
    "start_time": "2022-12-10T15:54:50.955Z"
   },
   {
    "duration": 37,
    "start_time": "2022-12-10T15:54:50.971Z"
   },
   {
    "duration": 7984,
    "start_time": "2022-12-10T15:54:51.009Z"
   },
   {
    "duration": 4,
    "start_time": "2022-12-10T15:54:58.995Z"
   },
   {
    "duration": 43,
    "start_time": "2022-12-10T15:54:59.001Z"
   },
   {
    "duration": 6697,
    "start_time": "2022-12-10T15:54:59.045Z"
   },
   {
    "duration": 5,
    "start_time": "2022-12-10T15:55:05.744Z"
   },
   {
    "duration": 51,
    "start_time": "2022-12-10T15:55:05.751Z"
   },
   {
    "duration": 80135,
    "start_time": "2022-12-10T15:55:05.803Z"
   },
   {
    "duration": 9,
    "start_time": "2022-12-10T15:56:25.943Z"
   },
   {
    "duration": 64,
    "start_time": "2022-12-10T15:56:25.955Z"
   },
   {
    "duration": 179,
    "start_time": "2022-12-10T15:56:26.024Z"
   },
   {
    "duration": 9,
    "start_time": "2022-12-10T15:56:26.204Z"
   },
   {
    "duration": 1,
    "start_time": "2022-12-10T15:56:26.214Z"
   },
   {
    "duration": 0,
    "start_time": "2022-12-10T15:56:26.216Z"
   },
   {
    "duration": 0,
    "start_time": "2022-12-10T15:56:26.216Z"
   },
   {
    "duration": 0,
    "start_time": "2022-12-10T15:56:26.217Z"
   },
   {
    "duration": 0,
    "start_time": "2022-12-10T15:56:26.219Z"
   },
   {
    "duration": 58,
    "start_time": "2022-12-10T15:56:57.747Z"
   },
   {
    "duration": 24441,
    "start_time": "2022-12-10T15:57:20.791Z"
   },
   {
    "duration": 7,
    "start_time": "2022-12-10T15:57:45.240Z"
   },
   {
    "duration": 44,
    "start_time": "2022-12-10T15:57:45.324Z"
   },
   {
    "duration": 11,
    "start_time": "2022-12-10T15:57:51.806Z"
   },
   {
    "duration": 1033,
    "start_time": "2022-12-10T15:58:04.590Z"
   },
   {
    "duration": 34,
    "start_time": "2022-12-10T15:58:11.051Z"
   },
   {
    "duration": 44,
    "start_time": "2022-12-10T15:58:13.306Z"
   },
   {
    "duration": 113,
    "start_time": "2022-12-10T15:58:15.561Z"
   },
   {
    "duration": 118,
    "start_time": "2022-12-10T15:58:59.048Z"
   },
   {
    "duration": 33,
    "start_time": "2022-12-10T15:59:02.479Z"
   },
   {
    "duration": 40,
    "start_time": "2022-12-10T15:59:12.989Z"
   },
   {
    "duration": 40,
    "start_time": "2022-12-10T16:00:28.834Z"
   },
   {
    "duration": 43,
    "start_time": "2022-12-10T16:00:40.509Z"
   },
   {
    "duration": 24,
    "start_time": "2022-12-10T16:00:51.482Z"
   },
   {
    "duration": 125,
    "start_time": "2022-12-10T16:02:29.280Z"
   },
   {
    "duration": 120,
    "start_time": "2022-12-10T16:02:41.444Z"
   },
   {
    "duration": 119,
    "start_time": "2022-12-10T16:02:44.235Z"
   },
   {
    "duration": 114,
    "start_time": "2022-12-10T16:02:44.856Z"
   },
   {
    "duration": 130,
    "start_time": "2022-12-10T16:02:45.164Z"
   },
   {
    "duration": 140,
    "start_time": "2022-12-10T16:02:45.360Z"
   },
   {
    "duration": 41,
    "start_time": "2022-12-10T16:02:56.319Z"
   },
   {
    "duration": 47,
    "start_time": "2022-12-10T16:03:00.823Z"
   },
   {
    "duration": 50,
    "start_time": "2022-12-10T16:03:12.043Z"
   },
   {
    "duration": 44,
    "start_time": "2022-12-10T16:03:21.212Z"
   },
   {
    "duration": 23,
    "start_time": "2022-12-10T16:03:26.062Z"
   },
   {
    "duration": 25,
    "start_time": "2022-12-10T16:03:31.451Z"
   },
   {
    "duration": 39,
    "start_time": "2022-12-10T16:03:35.916Z"
   },
   {
    "duration": 28,
    "start_time": "2022-12-10T16:03:42.638Z"
   },
   {
    "duration": 32,
    "start_time": "2022-12-10T16:03:47.709Z"
   },
   {
    "duration": 29,
    "start_time": "2022-12-10T16:03:52.471Z"
   },
   {
    "duration": 34,
    "start_time": "2022-12-10T16:03:58.847Z"
   },
   {
    "duration": 34,
    "start_time": "2022-12-10T16:04:21.937Z"
   },
   {
    "duration": 31,
    "start_time": "2022-12-10T16:04:34.950Z"
   },
   {
    "duration": 33,
    "start_time": "2022-12-10T16:04:42.034Z"
   },
   {
    "duration": 29,
    "start_time": "2022-12-10T16:04:46.863Z"
   },
   {
    "duration": 36,
    "start_time": "2022-12-10T16:04:50.596Z"
   },
   {
    "duration": 29,
    "start_time": "2022-12-10T16:04:53.749Z"
   },
   {
    "duration": 11,
    "start_time": "2022-12-10T16:05:14.658Z"
   },
   {
    "duration": 44,
    "start_time": "2022-12-10T16:05:20.118Z"
   },
   {
    "duration": 55,
    "start_time": "2022-12-10T16:05:25.326Z"
   },
   {
    "duration": 43,
    "start_time": "2022-12-10T16:05:28.848Z"
   },
   {
    "duration": 60,
    "start_time": "2022-12-10T16:05:32.721Z"
   },
   {
    "duration": 36,
    "start_time": "2022-12-10T16:05:37.646Z"
   },
   {
    "duration": 35,
    "start_time": "2022-12-10T16:05:41.344Z"
   },
   {
    "duration": 29,
    "start_time": "2022-12-10T16:06:19.689Z"
   },
   {
    "duration": 20,
    "start_time": "2022-12-10T16:06:53.042Z"
   },
   {
    "duration": 20,
    "start_time": "2022-12-10T16:07:06.765Z"
   },
   {
    "duration": 4327,
    "start_time": "2022-12-11T18:41:20.972Z"
   },
   {
    "duration": 3,
    "start_time": "2022-12-11T18:41:30.040Z"
   },
   {
    "duration": 4,
    "start_time": "2022-12-11T18:41:50.502Z"
   },
   {
    "duration": 72,
    "start_time": "2022-12-11T18:43:04.857Z"
   },
   {
    "duration": 73,
    "start_time": "2022-12-11T18:43:08.598Z"
   },
   {
    "duration": 70,
    "start_time": "2022-12-11T18:43:13.482Z"
   },
   {
    "duration": 1338,
    "start_time": "2022-12-11T18:43:22.414Z"
   },
   {
    "duration": 197,
    "start_time": "2022-12-11T18:43:23.754Z"
   },
   {
    "duration": 16,
    "start_time": "2022-12-11T18:43:23.953Z"
   },
   {
    "duration": 34,
    "start_time": "2022-12-11T18:43:23.971Z"
   },
   {
    "duration": 12,
    "start_time": "2022-12-11T18:43:24.007Z"
   },
   {
    "duration": 30,
    "start_time": "2022-12-11T18:43:24.021Z"
   },
   {
    "duration": 52,
    "start_time": "2022-12-11T18:43:24.053Z"
   },
   {
    "duration": 11,
    "start_time": "2022-12-11T18:43:24.107Z"
   },
   {
    "duration": 33,
    "start_time": "2022-12-11T18:43:24.120Z"
   },
   {
    "duration": 1076,
    "start_time": "2022-12-11T18:43:24.156Z"
   },
   {
    "duration": 27,
    "start_time": "2022-12-11T18:43:25.233Z"
   },
   {
    "duration": 14,
    "start_time": "2022-12-11T18:43:25.262Z"
   },
   {
    "duration": 1207,
    "start_time": "2022-12-11T18:43:25.278Z"
   },
   {
    "duration": 566,
    "start_time": "2022-12-11T18:43:26.487Z"
   },
   {
    "duration": 13,
    "start_time": "2022-12-11T18:43:27.054Z"
   },
   {
    "duration": 5,
    "start_time": "2022-12-11T18:43:27.079Z"
   },
   {
    "duration": 8,
    "start_time": "2022-12-11T18:43:27.086Z"
   },
   {
    "duration": 67,
    "start_time": "2022-12-11T18:43:27.096Z"
   },
   {
    "duration": 0,
    "start_time": "2022-12-11T18:43:27.165Z"
   },
   {
    "duration": 0,
    "start_time": "2022-12-11T18:43:27.166Z"
   },
   {
    "duration": 0,
    "start_time": "2022-12-11T18:43:27.168Z"
   },
   {
    "duration": 0,
    "start_time": "2022-12-11T18:43:27.168Z"
   },
   {
    "duration": 0,
    "start_time": "2022-12-11T18:43:27.170Z"
   },
   {
    "duration": 0,
    "start_time": "2022-12-11T18:43:27.171Z"
   },
   {
    "duration": 0,
    "start_time": "2022-12-11T18:43:27.172Z"
   },
   {
    "duration": 0,
    "start_time": "2022-12-11T18:43:27.173Z"
   },
   {
    "duration": 0,
    "start_time": "2022-12-11T18:43:27.174Z"
   },
   {
    "duration": 0,
    "start_time": "2022-12-11T18:43:27.175Z"
   },
   {
    "duration": 0,
    "start_time": "2022-12-11T18:43:27.176Z"
   },
   {
    "duration": 0,
    "start_time": "2022-12-11T18:43:27.177Z"
   },
   {
    "duration": 0,
    "start_time": "2022-12-11T18:43:27.178Z"
   },
   {
    "duration": 0,
    "start_time": "2022-12-11T18:43:27.179Z"
   },
   {
    "duration": 0,
    "start_time": "2022-12-11T18:43:27.180Z"
   },
   {
    "duration": 0,
    "start_time": "2022-12-11T18:43:27.181Z"
   },
   {
    "duration": 91,
    "start_time": "2022-12-11T18:43:56.419Z"
   },
   {
    "duration": 25,
    "start_time": "2022-12-11T18:44:11.375Z"
   },
   {
    "duration": 7853,
    "start_time": "2022-12-11T18:44:19.542Z"
   },
   {
    "duration": 4,
    "start_time": "2022-12-11T18:44:27.396Z"
   },
   {
    "duration": 30,
    "start_time": "2022-12-11T18:44:27.401Z"
   },
   {
    "duration": 5838,
    "start_time": "2022-12-11T18:44:36.391Z"
   },
   {
    "duration": 3,
    "start_time": "2022-12-11T18:44:42.231Z"
   },
   {
    "duration": 43,
    "start_time": "2022-12-11T18:44:42.235Z"
   },
   {
    "duration": 74506,
    "start_time": "2022-12-11T18:44:42.280Z"
   },
   {
    "duration": 4,
    "start_time": "2022-12-11T18:45:56.788Z"
   },
   {
    "duration": 72,
    "start_time": "2022-12-11T18:45:56.794Z"
   },
   {
    "duration": 6118,
    "start_time": "2022-12-11T18:45:56.868Z"
   },
   {
    "duration": 96,
    "start_time": "2022-12-11T18:46:02.988Z"
   },
   {
    "duration": 593,
    "start_time": "2022-12-11T18:46:03.087Z"
   },
   {
    "duration": 100,
    "start_time": "2022-12-11T18:49:04.360Z"
   },
   {
    "duration": 67,
    "start_time": "2022-12-11T18:49:38.113Z"
   },
   {
    "duration": 71,
    "start_time": "2022-12-11T18:49:56.943Z"
   },
   {
    "duration": 105,
    "start_time": "2022-12-11T18:50:16.147Z"
   },
   {
    "duration": 141,
    "start_time": "2022-12-11T18:50:40.138Z"
   },
   {
    "duration": 168,
    "start_time": "2022-12-11T18:50:46.090Z"
   },
   {
    "duration": 76,
    "start_time": "2022-12-11T18:50:59.803Z"
   },
   {
    "duration": 77,
    "start_time": "2022-12-11T18:51:05.607Z"
   },
   {
    "duration": 69,
    "start_time": "2022-12-11T18:51:10.947Z"
   },
   {
    "duration": 4,
    "start_time": "2022-12-11T18:52:11.564Z"
   },
   {
    "duration": 104115,
    "start_time": "2022-12-11T18:53:02.247Z"
   },
   {
    "duration": 4,
    "start_time": "2022-12-11T18:54:46.364Z"
   },
   {
    "duration": 51,
    "start_time": "2022-12-11T18:54:46.370Z"
   },
   {
    "duration": 62,
    "start_time": "2022-12-11T18:55:10.472Z"
   },
   {
    "duration": 49,
    "start_time": "2022-12-11T18:55:18.103Z"
   },
   {
    "duration": 135,
    "start_time": "2022-12-11T18:55:58.933Z"
   },
   {
    "duration": 42106,
    "start_time": "2022-12-11T18:59:08.242Z"
   },
   {
    "duration": 4,
    "start_time": "2022-12-11T18:59:50.350Z"
   },
   {
    "duration": 34,
    "start_time": "2022-12-11T18:59:50.355Z"
   },
   {
    "duration": 63,
    "start_time": "2022-12-11T19:00:05.238Z"
   },
   {
    "duration": 51,
    "start_time": "2022-12-11T19:00:08.442Z"
   },
   {
    "duration": 125,
    "start_time": "2022-12-11T19:00:13.183Z"
   },
   {
    "duration": 1556,
    "start_time": "2022-12-11T19:02:25.206Z"
   },
   {
    "duration": 59,
    "start_time": "2022-12-11T19:02:26.764Z"
   },
   {
    "duration": 16,
    "start_time": "2022-12-11T19:02:26.825Z"
   },
   {
    "duration": 33,
    "start_time": "2022-12-11T19:02:26.844Z"
   },
   {
    "duration": 40,
    "start_time": "2022-12-11T19:02:26.879Z"
   },
   {
    "duration": 51,
    "start_time": "2022-12-11T19:02:26.921Z"
   },
   {
    "duration": 83,
    "start_time": "2022-12-11T19:02:26.974Z"
   },
   {
    "duration": 11,
    "start_time": "2022-12-11T19:02:27.060Z"
   },
   {
    "duration": 34,
    "start_time": "2022-12-11T19:02:27.073Z"
   },
   {
    "duration": 1270,
    "start_time": "2022-12-11T19:02:27.110Z"
   },
   {
    "duration": 41,
    "start_time": "2022-12-11T19:02:28.383Z"
   },
   {
    "duration": 22,
    "start_time": "2022-12-11T19:02:28.426Z"
   },
   {
    "duration": 1291,
    "start_time": "2022-12-11T19:02:28.451Z"
   },
   {
    "duration": 559,
    "start_time": "2022-12-11T19:02:29.744Z"
   },
   {
    "duration": 12,
    "start_time": "2022-12-11T19:02:30.305Z"
   },
   {
    "duration": 25,
    "start_time": "2022-12-11T19:02:30.319Z"
   },
   {
    "duration": 20,
    "start_time": "2022-12-11T19:02:30.347Z"
   },
   {
    "duration": 100,
    "start_time": "2022-12-11T19:02:30.369Z"
   },
   {
    "duration": 3,
    "start_time": "2022-12-11T19:02:30.471Z"
   },
   {
    "duration": 0,
    "start_time": "2022-12-11T19:02:30.476Z"
   },
   {
    "duration": 0,
    "start_time": "2022-12-11T19:02:30.478Z"
   },
   {
    "duration": 0,
    "start_time": "2022-12-11T19:02:30.479Z"
   },
   {
    "duration": 0,
    "start_time": "2022-12-11T19:02:30.481Z"
   },
   {
    "duration": 0,
    "start_time": "2022-12-11T19:02:30.482Z"
   },
   {
    "duration": 0,
    "start_time": "2022-12-11T19:02:30.483Z"
   },
   {
    "duration": 0,
    "start_time": "2022-12-11T19:02:30.484Z"
   },
   {
    "duration": 0,
    "start_time": "2022-12-11T19:02:30.485Z"
   },
   {
    "duration": 0,
    "start_time": "2022-12-11T19:02:30.488Z"
   },
   {
    "duration": 0,
    "start_time": "2022-12-11T19:02:30.489Z"
   },
   {
    "duration": 0,
    "start_time": "2022-12-11T19:02:30.490Z"
   },
   {
    "duration": 0,
    "start_time": "2022-12-11T19:02:30.491Z"
   },
   {
    "duration": 0,
    "start_time": "2022-12-11T19:02:30.492Z"
   },
   {
    "duration": 0,
    "start_time": "2022-12-11T19:02:30.493Z"
   },
   {
    "duration": 0,
    "start_time": "2022-12-11T19:02:30.494Z"
   },
   {
    "duration": 41494,
    "start_time": "2022-12-11T19:03:35.744Z"
   },
   {
    "duration": 4,
    "start_time": "2022-12-11T19:04:17.240Z"
   },
   {
    "duration": 39,
    "start_time": "2022-12-11T19:04:17.246Z"
   },
   {
    "duration": 5663,
    "start_time": "2022-12-11T19:04:17.287Z"
   },
   {
    "duration": 4,
    "start_time": "2022-12-11T19:04:22.952Z"
   },
   {
    "duration": 43,
    "start_time": "2022-12-11T19:04:22.959Z"
   },
   {
    "duration": 102594,
    "start_time": "2022-12-11T19:04:23.004Z"
   },
   {
    "duration": 4,
    "start_time": "2022-12-11T19:06:05.599Z"
   },
   {
    "duration": 86,
    "start_time": "2022-12-11T19:06:05.605Z"
   },
   {
    "duration": 6385,
    "start_time": "2022-12-11T19:06:05.694Z"
   },
   {
    "duration": 95,
    "start_time": "2022-12-11T19:06:12.084Z"
   },
   {
    "duration": 401,
    "start_time": "2022-12-11T19:06:12.181Z"
   },
   {
    "duration": 168,
    "start_time": "2022-12-11T19:06:12.583Z"
   },
   {
    "duration": 71,
    "start_time": "2022-12-11T19:06:12.752Z"
   },
   {
    "duration": 153,
    "start_time": "2022-12-11T19:06:12.824Z"
   },
   {
    "duration": 19,
    "start_time": "2022-12-11T19:06:12.979Z"
   },
   {
    "duration": 25,
    "start_time": "2022-12-11T19:13:44.139Z"
   },
   {
    "duration": 1519,
    "start_time": "2022-12-11T19:14:27.752Z"
   },
   {
    "duration": 58,
    "start_time": "2022-12-11T19:14:29.273Z"
   },
   {
    "duration": 14,
    "start_time": "2022-12-11T19:14:29.332Z"
   },
   {
    "duration": 35,
    "start_time": "2022-12-11T19:14:29.347Z"
   },
   {
    "duration": 29,
    "start_time": "2022-12-11T19:14:29.384Z"
   },
   {
    "duration": 23,
    "start_time": "2022-12-11T19:14:29.414Z"
   },
   {
    "duration": 73,
    "start_time": "2022-12-11T19:14:29.439Z"
   },
   {
    "duration": 8,
    "start_time": "2022-12-11T19:14:29.514Z"
   },
   {
    "duration": 37,
    "start_time": "2022-12-11T19:14:29.524Z"
   },
   {
    "duration": 1085,
    "start_time": "2022-12-11T19:14:29.563Z"
   },
   {
    "duration": 23,
    "start_time": "2022-12-11T19:14:30.650Z"
   },
   {
    "duration": 38,
    "start_time": "2022-12-11T19:14:30.675Z"
   },
   {
    "duration": 1121,
    "start_time": "2022-12-11T19:14:30.715Z"
   },
   {
    "duration": 520,
    "start_time": "2022-12-11T19:14:31.839Z"
   },
   {
    "duration": 17,
    "start_time": "2022-12-11T19:14:32.361Z"
   },
   {
    "duration": 12,
    "start_time": "2022-12-11T19:14:32.380Z"
   },
   {
    "duration": 11,
    "start_time": "2022-12-11T19:14:32.393Z"
   },
   {
    "duration": 22,
    "start_time": "2022-12-11T19:14:32.405Z"
   },
   {
    "duration": 41187,
    "start_time": "2022-12-11T19:14:32.429Z"
   },
   {
    "duration": 4,
    "start_time": "2022-12-11T19:15:13.618Z"
   },
   {
    "duration": 29,
    "start_time": "2022-12-11T19:15:13.623Z"
   },
   {
    "duration": 5810,
    "start_time": "2022-12-11T19:15:13.654Z"
   },
   {
    "duration": 4,
    "start_time": "2022-12-11T19:15:19.465Z"
   },
   {
    "duration": 39,
    "start_time": "2022-12-11T19:15:19.470Z"
   },
   {
    "duration": 102700,
    "start_time": "2022-12-11T19:15:19.510Z"
   },
   {
    "duration": 4,
    "start_time": "2022-12-11T19:17:02.212Z"
   },
   {
    "duration": 51,
    "start_time": "2022-12-11T19:17:02.217Z"
   },
   {
    "duration": 5915,
    "start_time": "2022-12-11T19:17:02.269Z"
   },
   {
    "duration": 95,
    "start_time": "2022-12-11T19:17:08.185Z"
   },
   {
    "duration": 501,
    "start_time": "2022-12-11T19:17:08.281Z"
   },
   {
    "duration": 243,
    "start_time": "2022-12-11T19:17:08.784Z"
   },
   {
    "duration": 69,
    "start_time": "2022-12-11T19:17:09.029Z"
   },
   {
    "duration": 157,
    "start_time": "2022-12-11T19:17:09.099Z"
   },
   {
    "duration": 26,
    "start_time": "2022-12-11T19:17:09.258Z"
   },
   {
    "duration": 10,
    "start_time": "2022-12-11T19:18:02.552Z"
   },
   {
    "duration": 1436,
    "start_time": "2022-12-11T19:18:11.800Z"
   },
   {
    "duration": 65,
    "start_time": "2022-12-11T19:18:13.239Z"
   },
   {
    "duration": 14,
    "start_time": "2022-12-11T19:18:13.305Z"
   },
   {
    "duration": 23,
    "start_time": "2022-12-11T19:18:13.321Z"
   },
   {
    "duration": 12,
    "start_time": "2022-12-11T19:18:13.346Z"
   },
   {
    "duration": 31,
    "start_time": "2022-12-11T19:18:13.360Z"
   },
   {
    "duration": 53,
    "start_time": "2022-12-11T19:18:13.393Z"
   },
   {
    "duration": 31,
    "start_time": "2022-12-11T19:18:13.448Z"
   },
   {
    "duration": 11,
    "start_time": "2022-12-11T19:18:13.481Z"
   },
   {
    "duration": 1177,
    "start_time": "2022-12-11T19:18:13.495Z"
   },
   {
    "duration": 24,
    "start_time": "2022-12-11T19:18:14.673Z"
   },
   {
    "duration": 13,
    "start_time": "2022-12-11T19:18:14.699Z"
   },
   {
    "duration": 1089,
    "start_time": "2022-12-11T19:18:14.714Z"
   },
   {
    "duration": 503,
    "start_time": "2022-12-11T19:18:15.805Z"
   },
   {
    "duration": 13,
    "start_time": "2022-12-11T19:18:16.310Z"
   },
   {
    "duration": 33,
    "start_time": "2022-12-11T19:18:16.325Z"
   },
   {
    "duration": 18,
    "start_time": "2022-12-11T19:18:16.360Z"
   },
   {
    "duration": 40,
    "start_time": "2022-12-11T19:18:16.380Z"
   },
   {
    "duration": 40887,
    "start_time": "2022-12-11T19:18:16.422Z"
   },
   {
    "duration": 3,
    "start_time": "2022-12-11T19:18:57.311Z"
   },
   {
    "duration": 32,
    "start_time": "2022-12-11T19:18:57.316Z"
   },
   {
    "duration": 5925,
    "start_time": "2022-12-11T19:18:57.349Z"
   },
   {
    "duration": 4,
    "start_time": "2022-12-11T19:19:03.275Z"
   },
   {
    "duration": 36,
    "start_time": "2022-12-11T19:19:03.280Z"
   },
   {
    "duration": 102199,
    "start_time": "2022-12-11T19:19:03.317Z"
   },
   {
    "duration": 4,
    "start_time": "2022-12-11T19:20:45.517Z"
   },
   {
    "duration": 60,
    "start_time": "2022-12-11T19:20:45.522Z"
   },
   {
    "duration": 6098,
    "start_time": "2022-12-11T19:20:45.585Z"
   },
   {
    "duration": 95,
    "start_time": "2022-12-11T19:20:51.685Z"
   },
   {
    "duration": 508,
    "start_time": "2022-12-11T19:20:51.781Z"
   },
   {
    "duration": 160,
    "start_time": "2022-12-11T19:20:52.379Z"
   },
   {
    "duration": 72,
    "start_time": "2022-12-11T19:20:52.540Z"
   },
   {
    "duration": 144,
    "start_time": "2022-12-11T19:20:52.613Z"
   },
   {
    "duration": 33,
    "start_time": "2022-12-11T19:20:52.759Z"
   },
   {
    "duration": 1274,
    "start_time": "2022-12-11T19:28:05.459Z"
   },
   {
    "duration": 2399,
    "start_time": "2022-12-11T19:28:38.430Z"
   },
   {
    "duration": 1985,
    "start_time": "2022-12-11T19:30:32.890Z"
   },
   {
    "duration": 2070,
    "start_time": "2022-12-11T19:30:45.618Z"
   },
   {
    "duration": 20,
    "start_time": "2022-12-11T19:31:05.521Z"
   },
   {
    "duration": 13,
    "start_time": "2022-12-11T19:33:23.957Z"
   },
   {
    "duration": 11,
    "start_time": "2022-12-11T19:33:30.198Z"
   },
   {
    "duration": 11,
    "start_time": "2022-12-11T19:33:35.191Z"
   },
   {
    "duration": 16,
    "start_time": "2022-12-11T19:33:40.183Z"
   },
   {
    "duration": 118,
    "start_time": "2022-12-11T19:33:43.133Z"
   },
   {
    "duration": 153,
    "start_time": "2022-12-11T19:34:03.892Z"
   },
   {
    "duration": 211,
    "start_time": "2022-12-11T19:34:18.031Z"
   },
   {
    "duration": 117,
    "start_time": "2022-12-11T19:34:22.061Z"
   },
   {
    "duration": 112,
    "start_time": "2022-12-11T19:34:29.832Z"
   },
   {
    "duration": 119,
    "start_time": "2022-12-11T19:34:42.809Z"
   },
   {
    "duration": 110,
    "start_time": "2022-12-11T19:35:10.899Z"
   },
   {
    "duration": 19,
    "start_time": "2022-12-11T19:40:11.474Z"
   },
   {
    "duration": 116,
    "start_time": "2022-12-11T19:40:42.199Z"
   },
   {
    "duration": 104,
    "start_time": "2022-12-11T19:41:23.246Z"
   },
   {
    "duration": 143,
    "start_time": "2022-12-11T19:41:28.237Z"
   },
   {
    "duration": 115,
    "start_time": "2022-12-11T19:43:30.364Z"
   },
   {
    "duration": 17,
    "start_time": "2022-12-11T19:46:05.014Z"
   },
   {
    "duration": 10,
    "start_time": "2022-12-11T19:47:34.628Z"
   },
   {
    "duration": 186,
    "start_time": "2022-12-11T19:47:44.258Z"
   },
   {
    "duration": 171,
    "start_time": "2022-12-11T19:48:04.726Z"
   },
   {
    "duration": 140,
    "start_time": "2022-12-11T19:52:55.669Z"
   },
   {
    "duration": 118,
    "start_time": "2022-12-11T19:53:04.249Z"
   },
   {
    "duration": 124,
    "start_time": "2022-12-11T19:53:26.732Z"
   },
   {
    "duration": 138,
    "start_time": "2022-12-11T19:53:39.738Z"
   },
   {
    "duration": 139,
    "start_time": "2022-12-11T19:54:16.465Z"
   },
   {
    "duration": 125,
    "start_time": "2022-12-11T19:54:22.799Z"
   },
   {
    "duration": 122,
    "start_time": "2022-12-11T19:54:46.297Z"
   },
   {
    "duration": 235,
    "start_time": "2022-12-11T19:54:52.833Z"
   },
   {
    "duration": 117,
    "start_time": "2022-12-11T19:55:00.216Z"
   },
   {
    "duration": 120,
    "start_time": "2022-12-11T19:55:32.492Z"
   },
   {
    "duration": 117,
    "start_time": "2022-12-11T19:55:56.893Z"
   },
   {
    "duration": 126,
    "start_time": "2022-12-11T19:56:02.195Z"
   },
   {
    "duration": 155,
    "start_time": "2022-12-11T19:56:16.105Z"
   },
   {
    "duration": 135,
    "start_time": "2022-12-11T19:57:12.902Z"
   },
   {
    "duration": 125,
    "start_time": "2022-12-11T19:57:23.293Z"
   },
   {
    "duration": 135,
    "start_time": "2022-12-11T19:57:36.159Z"
   },
   {
    "duration": 184,
    "start_time": "2022-12-11T19:58:47.789Z"
   },
   {
    "duration": 64,
    "start_time": "2022-12-11T19:59:31.086Z"
   },
   {
    "duration": 65,
    "start_time": "2022-12-11T19:59:42.218Z"
   },
   {
    "duration": 80,
    "start_time": "2022-12-11T20:00:53.489Z"
   },
   {
    "duration": 27,
    "start_time": "2022-12-11T20:00:56.017Z"
   },
   {
    "duration": 25,
    "start_time": "2022-12-11T20:01:52.774Z"
   },
   {
    "duration": 59,
    "start_time": "2022-12-11T20:02:29.786Z"
   },
   {
    "duration": 13,
    "start_time": "2022-12-11T20:02:37.569Z"
   },
   {
    "duration": 14,
    "start_time": "2022-12-11T20:02:42.741Z"
   },
   {
    "duration": 15,
    "start_time": "2022-12-11T20:02:47.259Z"
   },
   {
    "duration": 1790,
    "start_time": "2022-12-11T20:03:41.816Z"
   },
   {
    "duration": 0,
    "start_time": "2022-12-11T20:03:43.609Z"
   },
   {
    "duration": 0,
    "start_time": "2022-12-11T20:03:43.610Z"
   },
   {
    "duration": 0,
    "start_time": "2022-12-11T20:03:43.611Z"
   },
   {
    "duration": 0,
    "start_time": "2022-12-11T20:03:43.612Z"
   },
   {
    "duration": 0,
    "start_time": "2022-12-11T20:03:43.614Z"
   },
   {
    "duration": 0,
    "start_time": "2022-12-11T20:03:43.615Z"
   },
   {
    "duration": 0,
    "start_time": "2022-12-11T20:03:43.616Z"
   },
   {
    "duration": 0,
    "start_time": "2022-12-11T20:03:43.618Z"
   },
   {
    "duration": 0,
    "start_time": "2022-12-11T20:03:43.619Z"
   },
   {
    "duration": 0,
    "start_time": "2022-12-11T20:03:43.620Z"
   },
   {
    "duration": 0,
    "start_time": "2022-12-11T20:03:43.622Z"
   },
   {
    "duration": 0,
    "start_time": "2022-12-11T20:03:43.623Z"
   },
   {
    "duration": 0,
    "start_time": "2022-12-11T20:03:43.624Z"
   },
   {
    "duration": 0,
    "start_time": "2022-12-11T20:03:43.625Z"
   },
   {
    "duration": 0,
    "start_time": "2022-12-11T20:03:43.626Z"
   },
   {
    "duration": 0,
    "start_time": "2022-12-11T20:03:43.628Z"
   },
   {
    "duration": 0,
    "start_time": "2022-12-11T20:03:43.629Z"
   },
   {
    "duration": 0,
    "start_time": "2022-12-11T20:03:43.630Z"
   },
   {
    "duration": 0,
    "start_time": "2022-12-11T20:03:43.631Z"
   },
   {
    "duration": 0,
    "start_time": "2022-12-11T20:03:43.632Z"
   },
   {
    "duration": 0,
    "start_time": "2022-12-11T20:03:43.633Z"
   },
   {
    "duration": 0,
    "start_time": "2022-12-11T20:03:43.634Z"
   },
   {
    "duration": 0,
    "start_time": "2022-12-11T20:03:43.635Z"
   },
   {
    "duration": 0,
    "start_time": "2022-12-11T20:03:43.636Z"
   },
   {
    "duration": 0,
    "start_time": "2022-12-11T20:03:43.679Z"
   },
   {
    "duration": 0,
    "start_time": "2022-12-11T20:03:43.679Z"
   },
   {
    "duration": 0,
    "start_time": "2022-12-11T20:03:43.681Z"
   },
   {
    "duration": 1,
    "start_time": "2022-12-11T20:03:43.681Z"
   },
   {
    "duration": 0,
    "start_time": "2022-12-11T20:03:43.683Z"
   },
   {
    "duration": 0,
    "start_time": "2022-12-11T20:03:43.684Z"
   },
   {
    "duration": 0,
    "start_time": "2022-12-11T20:03:43.685Z"
   },
   {
    "duration": 0,
    "start_time": "2022-12-11T20:03:43.686Z"
   },
   {
    "duration": 0,
    "start_time": "2022-12-11T20:03:43.687Z"
   },
   {
    "duration": 0,
    "start_time": "2022-12-11T20:03:43.688Z"
   },
   {
    "duration": 0,
    "start_time": "2022-12-11T20:03:43.689Z"
   },
   {
    "duration": 1417,
    "start_time": "2022-12-11T20:08:49.180Z"
   },
   {
    "duration": 53,
    "start_time": "2022-12-11T20:08:50.599Z"
   },
   {
    "duration": 12,
    "start_time": "2022-12-11T20:08:50.654Z"
   },
   {
    "duration": 28,
    "start_time": "2022-12-11T20:08:50.667Z"
   },
   {
    "duration": 32,
    "start_time": "2022-12-11T20:08:50.697Z"
   },
   {
    "duration": 23,
    "start_time": "2022-12-11T20:08:50.731Z"
   },
   {
    "duration": 55,
    "start_time": "2022-12-11T20:08:50.756Z"
   },
   {
    "duration": 9,
    "start_time": "2022-12-11T20:08:50.813Z"
   },
   {
    "duration": 45,
    "start_time": "2022-12-11T20:08:50.823Z"
   },
   {
    "duration": 1094,
    "start_time": "2022-12-11T20:08:50.870Z"
   },
   {
    "duration": 24,
    "start_time": "2022-12-11T20:08:51.966Z"
   },
   {
    "duration": 16,
    "start_time": "2022-12-11T20:08:51.992Z"
   },
   {
    "duration": 1126,
    "start_time": "2022-12-11T20:08:52.010Z"
   },
   {
    "duration": 548,
    "start_time": "2022-12-11T20:08:53.139Z"
   },
   {
    "duration": 14,
    "start_time": "2022-12-11T20:08:53.689Z"
   },
   {
    "duration": 20,
    "start_time": "2022-12-11T20:08:53.705Z"
   },
   {
    "duration": 25,
    "start_time": "2022-12-11T20:08:53.727Z"
   },
   {
    "duration": 41,
    "start_time": "2022-12-11T20:08:53.754Z"
   },
   {
    "duration": 43310,
    "start_time": "2022-12-11T20:08:53.797Z"
   },
   {
    "duration": 5,
    "start_time": "2022-12-11T20:09:37.108Z"
   },
   {
    "duration": 39,
    "start_time": "2022-12-11T20:09:37.115Z"
   },
   {
    "duration": 6065,
    "start_time": "2022-12-11T20:09:37.156Z"
   },
   {
    "duration": 5,
    "start_time": "2022-12-11T20:09:43.223Z"
   },
   {
    "duration": 59,
    "start_time": "2022-12-11T20:09:43.230Z"
   },
   {
    "duration": 106311,
    "start_time": "2022-12-11T20:09:43.291Z"
   },
   {
    "duration": 4,
    "start_time": "2022-12-11T20:11:29.604Z"
   },
   {
    "duration": 87,
    "start_time": "2022-12-11T20:11:29.610Z"
   },
   {
    "duration": 9183,
    "start_time": "2022-12-11T20:11:29.698Z"
   },
   {
    "duration": 95,
    "start_time": "2022-12-11T20:11:38.884Z"
   },
   {
    "duration": 399,
    "start_time": "2022-12-11T20:11:38.980Z"
   },
   {
    "duration": 185,
    "start_time": "2022-12-11T20:11:39.381Z"
   },
   {
    "duration": 71,
    "start_time": "2022-12-11T20:11:39.578Z"
   },
   {
    "duration": 175,
    "start_time": "2022-12-11T20:11:39.650Z"
   },
   {
    "duration": 20,
    "start_time": "2022-12-11T20:11:39.827Z"
   },
   {
    "duration": 151,
    "start_time": "2022-12-11T20:11:39.849Z"
   },
   {
    "duration": 196,
    "start_time": "2022-12-11T20:11:40.001Z"
   },
   {
    "duration": 74,
    "start_time": "2022-12-11T20:12:19.302Z"
   },
   {
    "duration": 20,
    "start_time": "2022-12-11T20:12:22.912Z"
   },
   {
    "duration": 108,
    "start_time": "2022-12-11T20:12:27.744Z"
   },
   {
    "duration": 16,
    "start_time": "2022-12-11T20:12:31.140Z"
   },
   {
    "duration": 220,
    "start_time": "2022-12-11T20:13:30.413Z"
   },
   {
    "duration": 193,
    "start_time": "2022-12-11T20:13:33.367Z"
   },
   {
    "duration": 75,
    "start_time": "2022-12-11T20:15:50.586Z"
   },
   {
    "duration": 65,
    "start_time": "2022-12-11T20:15:55.402Z"
   },
   {
    "duration": 68,
    "start_time": "2022-12-11T20:15:59.596Z"
   },
   {
    "duration": 71,
    "start_time": "2022-12-11T20:21:31.917Z"
   },
   {
    "duration": 8,
    "start_time": "2022-12-11T20:27:53.343Z"
   },
   {
    "duration": 10,
    "start_time": "2022-12-11T20:28:03.508Z"
   },
   {
    "duration": 4,
    "start_time": "2022-12-11T20:28:50.557Z"
   },
   {
    "duration": 85,
    "start_time": "2022-12-11T20:29:01.125Z"
   },
   {
    "duration": 4,
    "start_time": "2022-12-11T20:29:23.554Z"
   },
   {
    "duration": 11,
    "start_time": "2022-12-11T20:30:01.833Z"
   },
   {
    "duration": 389,
    "start_time": "2022-12-11T20:32:42.291Z"
   },
   {
    "duration": 70,
    "start_time": "2022-12-11T20:32:51.811Z"
   },
   {
    "duration": 452,
    "start_time": "2022-12-11T20:33:17.116Z"
   },
   {
    "duration": 481,
    "start_time": "2022-12-11T20:33:18.642Z"
   },
   {
    "duration": 464,
    "start_time": "2022-12-11T20:33:20.170Z"
   },
   {
    "duration": 1052,
    "start_time": "2022-12-11T20:36:37.283Z"
   },
   {
    "duration": 975,
    "start_time": "2022-12-11T20:36:45.403Z"
   },
   {
    "duration": 456,
    "start_time": "2022-12-11T20:36:54.906Z"
   },
   {
    "duration": 124,
    "start_time": "2022-12-11T21:08:55.032Z"
   },
   {
    "duration": 2065,
    "start_time": "2022-12-13T06:44:46.512Z"
   },
   {
    "duration": 190,
    "start_time": "2022-12-13T06:44:48.579Z"
   },
   {
    "duration": 14,
    "start_time": "2022-12-13T06:44:48.770Z"
   },
   {
    "duration": 22,
    "start_time": "2022-12-13T06:44:48.786Z"
   },
   {
    "duration": 7,
    "start_time": "2022-12-13T06:44:48.810Z"
   },
   {
    "duration": 34,
    "start_time": "2022-12-13T06:44:48.818Z"
   },
   {
    "duration": 45,
    "start_time": "2022-12-13T06:44:48.853Z"
   },
   {
    "duration": 9,
    "start_time": "2022-12-13T06:44:48.900Z"
   },
   {
    "duration": 11,
    "start_time": "2022-12-13T06:44:48.911Z"
   },
   {
    "duration": 1303,
    "start_time": "2022-12-13T06:44:48.925Z"
   },
   {
    "duration": 24,
    "start_time": "2022-12-13T06:44:50.230Z"
   },
   {
    "duration": 14,
    "start_time": "2022-12-13T06:44:50.255Z"
   },
   {
    "duration": 1495,
    "start_time": "2022-12-13T06:44:50.270Z"
   },
   {
    "duration": 1129,
    "start_time": "2022-12-13T06:44:51.767Z"
   },
   {
    "duration": 54,
    "start_time": "2022-12-13T06:44:52.898Z"
   },
   {
    "duration": 9,
    "start_time": "2022-12-13T06:44:52.954Z"
   },
   {
    "duration": 12,
    "start_time": "2022-12-13T06:44:52.965Z"
   },
   {
    "duration": 3173,
    "start_time": "2022-12-13T06:44:52.979Z"
   },
   {
    "duration": 48292,
    "start_time": "2022-12-13T06:44:56.154Z"
   },
   {
    "duration": 4,
    "start_time": "2022-12-13T06:45:44.450Z"
   },
   {
    "duration": 37,
    "start_time": "2022-12-13T06:45:44.456Z"
   },
   {
    "duration": 6914,
    "start_time": "2022-12-13T06:45:44.495Z"
   },
   {
    "duration": 4,
    "start_time": "2022-12-13T06:45:51.411Z"
   },
   {
    "duration": 52,
    "start_time": "2022-12-13T06:45:51.416Z"
   },
   {
    "duration": 111852,
    "start_time": "2022-12-13T06:45:51.470Z"
   },
   {
    "duration": 4,
    "start_time": "2022-12-13T06:47:43.324Z"
   },
   {
    "duration": 95,
    "start_time": "2022-12-13T06:47:43.329Z"
   },
   {
    "duration": 8624,
    "start_time": "2022-12-13T06:47:43.428Z"
   },
   {
    "duration": 5,
    "start_time": "2022-12-13T06:47:52.054Z"
   },
   {
    "duration": 496,
    "start_time": "2022-12-13T06:47:52.061Z"
   },
   {
    "duration": 294,
    "start_time": "2022-12-13T06:47:52.559Z"
   },
   {
    "duration": 82,
    "start_time": "2022-12-13T06:47:52.855Z"
   },
   {
    "duration": 199,
    "start_time": "2022-12-13T06:47:52.938Z"
   },
   {
    "duration": 21,
    "start_time": "2022-12-13T06:47:53.138Z"
   },
   {
    "duration": 147,
    "start_time": "2022-12-13T06:47:53.161Z"
   },
   {
    "duration": 9143,
    "start_time": "2022-12-13T06:47:53.310Z"
   },
   {
    "duration": 68,
    "start_time": "2022-12-13T06:48:02.456Z"
   },
   {
    "duration": 4,
    "start_time": "2022-12-13T07:10:02.916Z"
   },
   {
    "duration": 4,
    "start_time": "2022-12-13T07:10:07.668Z"
   },
   {
    "duration": 74,
    "start_time": "2022-12-13T07:21:19.956Z"
   },
   {
    "duration": 5,
    "start_time": "2022-12-13T07:30:10.005Z"
   },
   {
    "duration": 50,
    "start_time": "2022-12-13T07:30:10.069Z"
   },
   {
    "duration": 14,
    "start_time": "2022-12-13T07:30:10.121Z"
   },
   {
    "duration": 25,
    "start_time": "2022-12-13T07:30:10.137Z"
   },
   {
    "duration": 22,
    "start_time": "2022-12-13T07:30:10.164Z"
   },
   {
    "duration": 17,
    "start_time": "2022-12-13T07:30:10.188Z"
   },
   {
    "duration": 12,
    "start_time": "2022-12-13T07:30:10.207Z"
   },
   {
    "duration": 11,
    "start_time": "2022-12-13T07:30:10.221Z"
   },
   {
    "duration": 26,
    "start_time": "2022-12-13T07:30:10.234Z"
   },
   {
    "duration": 1121,
    "start_time": "2022-12-13T07:30:10.263Z"
   },
   {
    "duration": 23,
    "start_time": "2022-12-13T07:30:11.386Z"
   },
   {
    "duration": 13,
    "start_time": "2022-12-13T07:30:11.411Z"
   },
   {
    "duration": 1091,
    "start_time": "2022-12-13T07:30:11.426Z"
   },
   {
    "duration": 570,
    "start_time": "2022-12-13T07:30:12.519Z"
   },
   {
    "duration": 2,
    "start_time": "2022-12-13T07:30:13.092Z"
   },
   {
    "duration": 16,
    "start_time": "2022-12-13T07:30:13.096Z"
   },
   {
    "duration": 18,
    "start_time": "2022-12-13T07:30:13.114Z"
   },
   {
    "duration": 23,
    "start_time": "2022-12-13T07:30:13.134Z"
   },
   {
    "duration": 45837,
    "start_time": "2022-12-13T07:30:13.159Z"
   },
   {
    "duration": 3,
    "start_time": "2022-12-13T07:30:58.998Z"
   },
   {
    "duration": 31,
    "start_time": "2022-12-13T07:30:59.003Z"
   },
   {
    "duration": 6520,
    "start_time": "2022-12-13T07:30:59.035Z"
   },
   {
    "duration": 4,
    "start_time": "2022-12-13T07:31:05.557Z"
   },
   {
    "duration": 43,
    "start_time": "2022-12-13T07:31:05.562Z"
   },
   {
    "duration": 113238,
    "start_time": "2022-12-13T07:31:05.607Z"
   },
   {
    "duration": 5,
    "start_time": "2022-12-13T07:32:58.847Z"
   },
   {
    "duration": 77,
    "start_time": "2022-12-13T07:32:58.854Z"
   },
   {
    "duration": 12324,
    "start_time": "2022-12-13T07:32:58.933Z"
   },
   {
    "duration": 6,
    "start_time": "2022-12-13T07:33:11.259Z"
   },
   {
    "duration": 899,
    "start_time": "2022-12-13T07:33:11.351Z"
   },
   {
    "duration": 132,
    "start_time": "2022-12-13T07:33:12.252Z"
   },
   {
    "duration": 95,
    "start_time": "2022-12-13T07:33:12.386Z"
   },
   {
    "duration": 196,
    "start_time": "2022-12-13T07:33:12.483Z"
   },
   {
    "duration": 15,
    "start_time": "2022-12-13T07:33:12.681Z"
   },
   {
    "duration": 71,
    "start_time": "2022-12-13T07:42:19.070Z"
   },
   {
    "duration": 16,
    "start_time": "2022-12-13T07:45:16.196Z"
   },
   {
    "duration": 43,
    "start_time": "2022-12-13T14:53:27.105Z"
   },
   {
    "duration": 65,
    "start_time": "2022-12-13T15:11:12.943Z"
   },
   {
    "duration": 0,
    "start_time": "2022-12-13T15:11:13.010Z"
   },
   {
    "duration": 0,
    "start_time": "2022-12-13T15:11:13.011Z"
   },
   {
    "duration": 0,
    "start_time": "2022-12-13T15:11:13.013Z"
   },
   {
    "duration": 0,
    "start_time": "2022-12-13T15:11:13.014Z"
   },
   {
    "duration": 0,
    "start_time": "2022-12-13T15:11:13.015Z"
   },
   {
    "duration": 0,
    "start_time": "2022-12-13T15:11:13.016Z"
   },
   {
    "duration": 0,
    "start_time": "2022-12-13T15:11:13.017Z"
   },
   {
    "duration": 0,
    "start_time": "2022-12-13T15:11:13.018Z"
   },
   {
    "duration": 0,
    "start_time": "2022-12-13T15:11:13.019Z"
   },
   {
    "duration": 0,
    "start_time": "2022-12-13T15:11:13.020Z"
   },
   {
    "duration": 0,
    "start_time": "2022-12-13T15:11:13.020Z"
   },
   {
    "duration": 0,
    "start_time": "2022-12-13T15:11:13.021Z"
   },
   {
    "duration": 65,
    "start_time": "2022-12-13T15:11:41.639Z"
   },
   {
    "duration": 0,
    "start_time": "2022-12-13T15:11:41.707Z"
   },
   {
    "duration": 0,
    "start_time": "2022-12-13T15:11:41.708Z"
   },
   {
    "duration": 0,
    "start_time": "2022-12-13T15:11:41.710Z"
   },
   {
    "duration": 0,
    "start_time": "2022-12-13T15:11:41.712Z"
   },
   {
    "duration": 0,
    "start_time": "2022-12-13T15:11:41.713Z"
   },
   {
    "duration": 0,
    "start_time": "2022-12-13T15:11:41.715Z"
   },
   {
    "duration": 0,
    "start_time": "2022-12-13T15:11:41.716Z"
   },
   {
    "duration": 0,
    "start_time": "2022-12-13T15:11:41.717Z"
   },
   {
    "duration": 0,
    "start_time": "2022-12-13T15:11:41.718Z"
   },
   {
    "duration": 0,
    "start_time": "2022-12-13T15:11:41.719Z"
   },
   {
    "duration": 0,
    "start_time": "2022-12-13T15:11:41.721Z"
   },
   {
    "duration": 0,
    "start_time": "2022-12-13T15:11:41.722Z"
   },
   {
    "duration": 1155,
    "start_time": "2022-12-13T15:12:12.810Z"
   },
   {
    "duration": 5965,
    "start_time": "2022-12-13T15:12:49.644Z"
   },
   {
    "duration": 14,
    "start_time": "2022-12-13T15:13:09.930Z"
   },
   {
    "duration": 132,
    "start_time": "2022-12-13T15:13:09.947Z"
   },
   {
    "duration": 16,
    "start_time": "2022-12-13T15:13:10.081Z"
   },
   {
    "duration": 37,
    "start_time": "2022-12-13T15:13:10.098Z"
   },
   {
    "duration": 0,
    "start_time": "2022-12-13T15:13:10.137Z"
   },
   {
    "duration": 0,
    "start_time": "2022-12-13T15:13:10.138Z"
   },
   {
    "duration": 0,
    "start_time": "2022-12-13T15:13:10.139Z"
   },
   {
    "duration": 0,
    "start_time": "2022-12-13T15:13:10.140Z"
   },
   {
    "duration": 0,
    "start_time": "2022-12-13T15:13:10.141Z"
   },
   {
    "duration": 0,
    "start_time": "2022-12-13T15:13:10.142Z"
   },
   {
    "duration": 0,
    "start_time": "2022-12-13T15:13:10.143Z"
   },
   {
    "duration": 0,
    "start_time": "2022-12-13T15:13:10.144Z"
   },
   {
    "duration": 0,
    "start_time": "2022-12-13T15:13:10.145Z"
   },
   {
    "duration": 38,
    "start_time": "2022-12-13T15:13:28.100Z"
   },
   {
    "duration": 9,
    "start_time": "2022-12-13T15:13:36.311Z"
   },
   {
    "duration": 65,
    "start_time": "2022-12-13T15:13:36.323Z"
   },
   {
    "duration": 13,
    "start_time": "2022-12-13T15:13:36.568Z"
   },
   {
    "duration": 55,
    "start_time": "2022-12-13T15:13:36.583Z"
   },
   {
    "duration": 11,
    "start_time": "2022-12-13T15:13:36.640Z"
   },
   {
    "duration": 31,
    "start_time": "2022-12-13T15:13:36.654Z"
   },
   {
    "duration": 10,
    "start_time": "2022-12-13T15:13:36.687Z"
   },
   {
    "duration": 19,
    "start_time": "2022-12-13T15:13:36.698Z"
   },
   {
    "duration": 52,
    "start_time": "2022-12-13T15:13:36.718Z"
   },
   {
    "duration": 9,
    "start_time": "2022-12-13T15:13:36.772Z"
   },
   {
    "duration": 34,
    "start_time": "2022-12-13T15:13:36.782Z"
   },
   {
    "duration": 0,
    "start_time": "2022-12-13T15:13:36.817Z"
   },
   {
    "duration": 0,
    "start_time": "2022-12-13T15:13:36.819Z"
   },
   {
    "duration": 19,
    "start_time": "2022-12-13T15:14:09.740Z"
   },
   {
    "duration": 32,
    "start_time": "2022-12-13T15:14:19.601Z"
   },
   {
    "duration": 32,
    "start_time": "2022-12-13T15:14:31.854Z"
   },
   {
    "duration": 33,
    "start_time": "2022-12-13T15:14:38.839Z"
   },
   {
    "duration": 30,
    "start_time": "2022-12-13T15:14:49.406Z"
   },
   {
    "duration": 28,
    "start_time": "2022-12-13T15:15:00.138Z"
   },
   {
    "duration": 31,
    "start_time": "2022-12-13T15:15:10.026Z"
   },
   {
    "duration": 31,
    "start_time": "2022-12-13T15:15:23.960Z"
   },
   {
    "duration": 1244,
    "start_time": "2022-12-13T15:15:45.446Z"
   },
   {
    "duration": 10,
    "start_time": "2022-12-13T15:15:51.657Z"
   },
   {
    "duration": 9,
    "start_time": "2022-12-13T15:16:23.308Z"
   },
   {
    "duration": 13,
    "start_time": "2022-12-13T15:16:36.302Z"
   },
   {
    "duration": 9,
    "start_time": "2022-12-13T15:17:01.433Z"
   },
   {
    "duration": 27,
    "start_time": "2022-12-13T15:19:03.527Z"
   },
   {
    "duration": 18,
    "start_time": "2022-12-13T15:19:16.203Z"
   },
   {
    "duration": 643,
    "start_time": "2022-12-13T15:23:09.391Z"
   },
   {
    "duration": 21,
    "start_time": "2022-12-13T15:23:19.089Z"
   },
   {
    "duration": 23,
    "start_time": "2022-12-13T15:23:42.532Z"
   },
   {
    "duration": 21,
    "start_time": "2022-12-13T15:23:58.398Z"
   },
   {
    "duration": 10,
    "start_time": "2022-12-13T15:32:45.001Z"
   },
   {
    "duration": 12,
    "start_time": "2022-12-13T15:34:31.232Z"
   },
   {
    "duration": 26,
    "start_time": "2022-12-13T15:36:14.732Z"
   },
   {
    "duration": 22,
    "start_time": "2022-12-13T15:36:33.797Z"
   },
   {
    "duration": 21,
    "start_time": "2022-12-13T15:36:51.051Z"
   },
   {
    "duration": 33,
    "start_time": "2022-12-13T15:38:00.102Z"
   },
   {
    "duration": 17,
    "start_time": "2022-12-13T15:38:03.130Z"
   },
   {
    "duration": 27,
    "start_time": "2022-12-13T15:39:36.107Z"
   },
   {
    "duration": 18,
    "start_time": "2022-12-13T15:40:05.358Z"
   },
   {
    "duration": 17,
    "start_time": "2022-12-13T15:40:20.841Z"
   },
   {
    "duration": 15,
    "start_time": "2022-12-13T15:42:26.723Z"
   },
   {
    "duration": 10,
    "start_time": "2022-12-13T15:45:30.455Z"
   },
   {
    "duration": 20,
    "start_time": "2022-12-13T15:45:42.719Z"
   },
   {
    "duration": 22,
    "start_time": "2022-12-13T15:46:24.920Z"
   },
   {
    "duration": 28,
    "start_time": "2022-12-13T15:46:28.517Z"
   },
   {
    "duration": 17,
    "start_time": "2022-12-13T15:46:43.210Z"
   },
   {
    "duration": 26,
    "start_time": "2022-12-13T15:46:50.468Z"
   },
   {
    "duration": 27,
    "start_time": "2022-12-13T15:51:02.080Z"
   },
   {
    "duration": 21,
    "start_time": "2022-12-13T15:51:35.324Z"
   },
   {
    "duration": 795,
    "start_time": "2022-12-13T15:52:48.343Z"
   },
   {
    "duration": 24,
    "start_time": "2022-12-13T15:53:12.603Z"
   },
   {
    "duration": 25,
    "start_time": "2022-12-13T15:56:31.005Z"
   },
   {
    "duration": 23,
    "start_time": "2022-12-13T15:56:42.559Z"
   },
   {
    "duration": 20,
    "start_time": "2022-12-13T15:57:11.401Z"
   },
   {
    "duration": 26,
    "start_time": "2022-12-13T15:58:03.628Z"
   },
   {
    "duration": 27,
    "start_time": "2022-12-13T15:58:04.023Z"
   },
   {
    "duration": 29,
    "start_time": "2022-12-13T15:58:04.161Z"
   },
   {
    "duration": 28,
    "start_time": "2022-12-13T15:58:04.311Z"
   },
   {
    "duration": 21,
    "start_time": "2022-12-13T15:58:04.456Z"
   },
   {
    "duration": 25,
    "start_time": "2022-12-13T15:58:12.190Z"
   },
   {
    "duration": 19,
    "start_time": "2022-12-13T15:58:45.826Z"
   },
   {
    "duration": 20,
    "start_time": "2022-12-13T15:58:51.610Z"
   },
   {
    "duration": 20,
    "start_time": "2022-12-13T15:59:49.667Z"
   },
   {
    "duration": 20,
    "start_time": "2022-12-13T16:00:08.023Z"
   },
   {
    "duration": 10,
    "start_time": "2022-12-13T16:00:22.504Z"
   },
   {
    "duration": 21,
    "start_time": "2022-12-13T16:00:23.995Z"
   },
   {
    "duration": 364,
    "start_time": "2022-12-13T16:00:32.602Z"
   },
   {
    "duration": 341,
    "start_time": "2022-12-13T16:00:34.844Z"
   },
   {
    "duration": 337,
    "start_time": "2022-12-13T16:00:35.763Z"
   },
   {
    "duration": 332,
    "start_time": "2022-12-13T16:00:36.509Z"
   },
   {
    "duration": 324,
    "start_time": "2022-12-13T16:00:42.540Z"
   },
   {
    "duration": 485,
    "start_time": "2022-12-13T16:01:05.419Z"
   },
   {
    "duration": 437,
    "start_time": "2022-12-13T16:01:11.060Z"
   },
   {
    "duration": 17,
    "start_time": "2022-12-13T16:01:37.853Z"
   },
   {
    "duration": 26,
    "start_time": "2022-12-13T16:01:39.896Z"
   },
   {
    "duration": 335,
    "start_time": "2022-12-13T16:01:46.106Z"
   },
   {
    "duration": 64,
    "start_time": "2022-12-13T16:02:48.877Z"
   },
   {
    "duration": 1349,
    "start_time": "2022-12-13T16:02:52.773Z"
   },
   {
    "duration": 1276,
    "start_time": "2022-12-13T16:03:29.129Z"
   },
   {
    "duration": 12,
    "start_time": "2022-12-13T16:03:59.897Z"
   },
   {
    "duration": 29,
    "start_time": "2022-12-13T16:04:06.920Z"
   },
   {
    "duration": 23,
    "start_time": "2022-12-13T16:04:09.755Z"
   },
   {
    "duration": 24,
    "start_time": "2022-12-13T16:04:10.338Z"
   },
   {
    "duration": 24,
    "start_time": "2022-12-13T16:04:10.929Z"
   },
   {
    "duration": 24,
    "start_time": "2022-12-13T16:04:11.545Z"
   },
   {
    "duration": 16,
    "start_time": "2022-12-13T16:04:39.829Z"
   },
   {
    "duration": 21,
    "start_time": "2022-12-13T16:06:17.068Z"
   },
   {
    "duration": 18,
    "start_time": "2022-12-13T16:06:22.937Z"
   },
   {
    "duration": 6,
    "start_time": "2022-12-13T16:08:46.550Z"
   },
   {
    "duration": 10,
    "start_time": "2022-12-13T16:08:48.404Z"
   },
   {
    "duration": 69,
    "start_time": "2022-12-13T16:10:40.613Z"
   },
   {
    "duration": 61,
    "start_time": "2022-12-13T16:10:44.636Z"
   },
   {
    "duration": 1405,
    "start_time": "2022-12-13T17:24:13.280Z"
   },
   {
    "duration": 61,
    "start_time": "2022-12-13T17:24:14.687Z"
   },
   {
    "duration": 14,
    "start_time": "2022-12-13T17:24:14.750Z"
   },
   {
    "duration": 53,
    "start_time": "2022-12-13T17:24:14.767Z"
   },
   {
    "duration": 15,
    "start_time": "2022-12-13T17:24:14.823Z"
   },
   {
    "duration": 21,
    "start_time": "2022-12-13T17:24:14.839Z"
   },
   {
    "duration": 19,
    "start_time": "2022-12-13T17:24:14.862Z"
   },
   {
    "duration": 24,
    "start_time": "2022-12-13T17:24:14.882Z"
   },
   {
    "duration": 44,
    "start_time": "2022-12-13T17:24:14.907Z"
   },
   {
    "duration": 9,
    "start_time": "2022-12-13T17:24:14.953Z"
   },
   {
    "duration": 52,
    "start_time": "2022-12-13T17:24:14.964Z"
   },
   {
    "duration": 1092,
    "start_time": "2022-12-13T17:24:15.018Z"
   },
   {
    "duration": 14,
    "start_time": "2022-12-13T17:24:16.112Z"
   },
   {
    "duration": 9,
    "start_time": "2022-12-13T17:24:16.128Z"
   },
   {
    "duration": 18,
    "start_time": "2022-12-13T17:24:16.139Z"
   },
   {
    "duration": 90,
    "start_time": "2022-12-13T17:24:16.158Z"
   },
   {
    "duration": 25,
    "start_time": "2022-12-13T17:24:16.249Z"
   },
   {
    "duration": 2,
    "start_time": "2022-12-13T17:24:16.276Z"
   },
   {
    "duration": 890,
    "start_time": "2022-12-13T17:24:16.279Z"
   },
   {
    "duration": 1185,
    "start_time": "2022-12-13T17:24:17.170Z"
   },
   {
    "duration": 2,
    "start_time": "2022-12-13T17:24:18.357Z"
   },
   {
    "duration": 21,
    "start_time": "2022-12-13T17:24:18.361Z"
   },
   {
    "duration": 29,
    "start_time": "2022-12-13T17:24:18.384Z"
   },
   {
    "duration": 120,
    "start_time": "2022-12-13T17:24:18.415Z"
   },
   {
    "duration": 7,
    "start_time": "2022-12-13T17:24:51.379Z"
   },
   {
    "duration": 10,
    "start_time": "2022-12-13T17:26:58.595Z"
   },
   {
    "duration": 19,
    "start_time": "2022-12-13T17:27:35.225Z"
   },
   {
    "duration": 19,
    "start_time": "2022-12-13T17:28:08.055Z"
   },
   {
    "duration": 26,
    "start_time": "2022-12-13T17:29:17.305Z"
   },
   {
    "duration": 31,
    "start_time": "2022-12-13T17:33:06.475Z"
   },
   {
    "duration": 27,
    "start_time": "2022-12-13T17:33:21.542Z"
   },
   {
    "duration": 23,
    "start_time": "2022-12-13T17:35:07.264Z"
   },
   {
    "duration": 21,
    "start_time": "2022-12-13T17:35:23.061Z"
   },
   {
    "duration": 25,
    "start_time": "2022-12-13T17:35:31.993Z"
   },
   {
    "duration": 25,
    "start_time": "2022-12-13T17:38:37.688Z"
   },
   {
    "duration": 43,
    "start_time": "2022-12-13T17:39:21.298Z"
   },
   {
    "duration": 38,
    "start_time": "2022-12-13T17:39:33.445Z"
   },
   {
    "duration": 29,
    "start_time": "2022-12-13T17:39:51.444Z"
   },
   {
    "duration": 12,
    "start_time": "2022-12-13T17:41:06.635Z"
   },
   {
    "duration": 61,
    "start_time": "2022-12-13T17:41:06.649Z"
   },
   {
    "duration": 13,
    "start_time": "2022-12-13T17:41:06.712Z"
   },
   {
    "duration": 56,
    "start_time": "2022-12-13T17:41:06.726Z"
   },
   {
    "duration": 29,
    "start_time": "2022-12-13T17:41:06.785Z"
   },
   {
    "duration": 21,
    "start_time": "2022-12-13T17:41:06.817Z"
   },
   {
    "duration": 18,
    "start_time": "2022-12-13T17:41:06.840Z"
   },
   {
    "duration": 18,
    "start_time": "2022-12-13T17:41:06.860Z"
   },
   {
    "duration": 18,
    "start_time": "2022-12-13T17:41:06.879Z"
   },
   {
    "duration": 12,
    "start_time": "2022-12-13T17:41:06.899Z"
   },
   {
    "duration": 44,
    "start_time": "2022-12-13T17:41:06.913Z"
   },
   {
    "duration": 1167,
    "start_time": "2022-12-13T17:41:06.958Z"
   },
   {
    "duration": 19,
    "start_time": "2022-12-13T17:41:08.127Z"
   },
   {
    "duration": 9,
    "start_time": "2022-12-13T17:41:08.149Z"
   },
   {
    "duration": 39,
    "start_time": "2022-12-13T17:41:08.160Z"
   },
   {
    "duration": 18,
    "start_time": "2022-12-13T17:41:08.201Z"
   },
   {
    "duration": 29,
    "start_time": "2022-12-13T17:41:08.220Z"
   },
   {
    "duration": 3,
    "start_time": "2022-12-13T17:41:08.251Z"
   },
   {
    "duration": 911,
    "start_time": "2022-12-13T17:41:08.255Z"
   },
   {
    "duration": 1467,
    "start_time": "2022-12-13T17:41:09.168Z"
   },
   {
    "duration": 3,
    "start_time": "2022-12-13T17:41:10.637Z"
   },
   {
    "duration": 16,
    "start_time": "2022-12-13T17:41:10.641Z"
   },
   {
    "duration": 15,
    "start_time": "2022-12-13T17:41:10.658Z"
   },
   {
    "duration": 33,
    "start_time": "2022-12-13T17:41:10.675Z"
   },
   {
    "duration": 41388,
    "start_time": "2022-12-13T17:41:10.710Z"
   },
   {
    "duration": 4,
    "start_time": "2022-12-13T17:41:52.099Z"
   },
   {
    "duration": 52,
    "start_time": "2022-12-13T17:41:52.104Z"
   },
   {
    "duration": 21,
    "start_time": "2022-12-13T17:43:17.165Z"
   },
   {
    "duration": 38,
    "start_time": "2022-12-13T17:43:29.707Z"
   },
   {
    "duration": 38,
    "start_time": "2022-12-13T17:43:37.983Z"
   },
   {
    "duration": 25,
    "start_time": "2022-12-13T17:44:03.072Z"
   },
   {
    "duration": 38,
    "start_time": "2022-12-13T17:44:23.088Z"
   },
   {
    "duration": 34,
    "start_time": "2022-12-13T17:44:34.665Z"
   },
   {
    "duration": 27,
    "start_time": "2022-12-13T17:45:23.610Z"
   },
   {
    "duration": 28,
    "start_time": "2022-12-13T17:45:35.914Z"
   },
   {
    "duration": 99057,
    "start_time": "2022-12-13T17:46:57.222Z"
   },
   {
    "duration": 4,
    "start_time": "2022-12-13T17:48:36.281Z"
   },
   {
    "duration": 0,
    "start_time": "2022-12-13T17:48:36.382Z"
   },
   {
    "duration": 63,
    "start_time": "2022-12-13T17:48:46.491Z"
   },
   {
    "duration": 58,
    "start_time": "2022-12-13T17:49:18.055Z"
   },
   {
    "duration": 12,
    "start_time": "2022-12-13T17:49:40.305Z"
   },
   {
    "duration": 22796,
    "start_time": "2022-12-13T17:49:50.918Z"
   },
   {
    "duration": 3,
    "start_time": "2022-12-13T17:50:13.716Z"
   },
   {
    "duration": 305,
    "start_time": "2022-12-13T17:50:13.721Z"
   },
   {
    "duration": 2798,
    "start_time": "2022-12-13T17:50:45.002Z"
   },
   {
    "duration": 95,
    "start_time": "2022-12-13T17:50:47.803Z"
   },
   {
    "duration": 4,
    "start_time": "2022-12-13T18:00:12.292Z"
   },
   {
    "duration": 23,
    "start_time": "2022-12-13T18:00:14.278Z"
   },
   {
    "duration": 20,
    "start_time": "2022-12-13T18:01:49.145Z"
   },
   {
    "duration": 47,
    "start_time": "2022-12-13T18:03:57.792Z"
   },
   {
    "duration": 13,
    "start_time": "2022-12-13T18:05:49.712Z"
   },
   {
    "duration": 17,
    "start_time": "2022-12-13T18:06:24.193Z"
   },
   {
    "duration": 17,
    "start_time": "2022-12-13T18:06:25.996Z"
   },
   {
    "duration": 42,
    "start_time": "2022-12-13T18:07:28.569Z"
   },
   {
    "duration": 40,
    "start_time": "2022-12-13T18:07:52.766Z"
   },
   {
    "duration": 94,
    "start_time": "2022-12-13T18:08:36.139Z"
   },
   {
    "duration": 36,
    "start_time": "2022-12-13T18:10:33.761Z"
   },
   {
    "duration": 89,
    "start_time": "2022-12-13T18:10:45.709Z"
   },
   {
    "duration": 19,
    "start_time": "2022-12-13T18:11:36.967Z"
   },
   {
    "duration": 73,
    "start_time": "2022-12-13T18:12:02.803Z"
   },
   {
    "duration": 19,
    "start_time": "2022-12-13T18:13:39.044Z"
   },
   {
    "duration": 8,
    "start_time": "2022-12-13T18:14:10.831Z"
   },
   {
    "duration": 9,
    "start_time": "2022-12-13T18:17:50.793Z"
   },
   {
    "duration": 16,
    "start_time": "2022-12-13T18:18:01.989Z"
   },
   {
    "duration": 15,
    "start_time": "2022-12-13T18:18:11.975Z"
   },
   {
    "duration": 9,
    "start_time": "2022-12-13T18:18:24.380Z"
   },
   {
    "duration": 7,
    "start_time": "2022-12-13T18:18:36.675Z"
   },
   {
    "duration": 9,
    "start_time": "2022-12-13T18:18:37.933Z"
   },
   {
    "duration": 8,
    "start_time": "2022-12-13T18:18:38.343Z"
   },
   {
    "duration": 8,
    "start_time": "2022-12-13T18:18:38.494Z"
   },
   {
    "duration": 7,
    "start_time": "2022-12-13T18:19:06.542Z"
   },
   {
    "duration": 60,
    "start_time": "2022-12-13T18:28:04.192Z"
   },
   {
    "duration": 48,
    "start_time": "2022-12-13T18:28:08.826Z"
   },
   {
    "duration": 82,
    "start_time": "2022-12-13T18:28:59.989Z"
   },
   {
    "duration": 3,
    "start_time": "2022-12-13T18:29:24.447Z"
   },
   {
    "duration": 3,
    "start_time": "2022-12-13T18:29:28.100Z"
   },
   {
    "duration": 66,
    "start_time": "2022-12-13T18:29:41.844Z"
   },
   {
    "duration": 61,
    "start_time": "2022-12-13T18:31:01.790Z"
   },
   {
    "duration": 64,
    "start_time": "2022-12-13T18:31:02.576Z"
   },
   {
    "duration": 51,
    "start_time": "2022-12-13T18:31:02.748Z"
   },
   {
    "duration": 56,
    "start_time": "2022-12-13T18:31:02.910Z"
   },
   {
    "duration": 45,
    "start_time": "2022-12-13T18:31:03.076Z"
   },
   {
    "duration": 44,
    "start_time": "2022-12-13T18:31:03.252Z"
   },
   {
    "duration": 77,
    "start_time": "2022-12-13T18:31:03.410Z"
   },
   {
    "duration": 65,
    "start_time": "2022-12-13T18:31:03.568Z"
   },
   {
    "duration": 44,
    "start_time": "2022-12-13T18:31:03.754Z"
   },
   {
    "duration": 51,
    "start_time": "2022-12-13T18:31:03.884Z"
   },
   {
    "duration": 55,
    "start_time": "2022-12-13T18:31:04.059Z"
   },
   {
    "duration": 51,
    "start_time": "2022-12-13T18:33:01.119Z"
   },
   {
    "duration": 56,
    "start_time": "2022-12-13T18:33:01.567Z"
   },
   {
    "duration": 48,
    "start_time": "2022-12-13T18:33:01.721Z"
   },
   {
    "duration": 50,
    "start_time": "2022-12-13T18:33:01.881Z"
   },
   {
    "duration": 49,
    "start_time": "2022-12-13T18:33:06.977Z"
   },
   {
    "duration": 54,
    "start_time": "2022-12-13T18:33:07.603Z"
   },
   {
    "duration": 53,
    "start_time": "2022-12-13T18:33:07.795Z"
   },
   {
    "duration": 58,
    "start_time": "2022-12-13T18:33:08.056Z"
   },
   {
    "duration": 45,
    "start_time": "2022-12-13T18:33:11.814Z"
   },
   {
    "duration": 79,
    "start_time": "2022-12-13T18:33:12.553Z"
   },
   {
    "duration": 51,
    "start_time": "2022-12-13T18:33:12.729Z"
   },
   {
    "duration": 51,
    "start_time": "2022-12-13T18:33:12.897Z"
   },
   {
    "duration": 55,
    "start_time": "2022-12-13T18:33:14.829Z"
   },
   {
    "duration": 50,
    "start_time": "2022-12-13T18:34:00.486Z"
   },
   {
    "duration": 47,
    "start_time": "2022-12-13T18:35:39.165Z"
   },
   {
    "duration": 48,
    "start_time": "2022-12-13T18:35:51.864Z"
   },
   {
    "duration": 122,
    "start_time": "2022-12-13T18:36:01.890Z"
   },
   {
    "duration": 45,
    "start_time": "2022-12-13T18:36:48.631Z"
   },
   {
    "duration": 46,
    "start_time": "2022-12-13T18:36:53.697Z"
   },
   {
    "duration": 53,
    "start_time": "2022-12-13T18:37:00.151Z"
   },
   {
    "duration": 52,
    "start_time": "2022-12-13T18:37:14.206Z"
   },
   {
    "duration": 71,
    "start_time": "2022-12-13T18:38:57.689Z"
   },
   {
    "duration": 14,
    "start_time": "2022-12-13T18:39:25.193Z"
   },
   {
    "duration": 69,
    "start_time": "2022-12-13T18:39:39.229Z"
   },
   {
    "duration": 66,
    "start_time": "2022-12-13T18:39:45.296Z"
   },
   {
    "duration": 1562,
    "start_time": "2022-12-13T18:40:15.157Z"
   },
   {
    "duration": 63,
    "start_time": "2022-12-13T18:40:16.721Z"
   },
   {
    "duration": 12,
    "start_time": "2022-12-13T18:40:16.786Z"
   },
   {
    "duration": 38,
    "start_time": "2022-12-13T18:40:16.800Z"
   },
   {
    "duration": 12,
    "start_time": "2022-12-13T18:40:16.839Z"
   },
   {
    "duration": 20,
    "start_time": "2022-12-13T18:40:16.853Z"
   },
   {
    "duration": 28,
    "start_time": "2022-12-13T18:40:16.874Z"
   },
   {
    "duration": 30,
    "start_time": "2022-12-13T18:40:16.904Z"
   },
   {
    "duration": 65,
    "start_time": "2022-12-13T18:40:16.936Z"
   },
   {
    "duration": 9,
    "start_time": "2022-12-13T18:40:17.004Z"
   },
   {
    "duration": 72,
    "start_time": "2022-12-13T18:40:17.015Z"
   },
   {
    "duration": 1129,
    "start_time": "2022-12-13T18:40:17.089Z"
   },
   {
    "duration": 13,
    "start_time": "2022-12-13T18:40:18.220Z"
   },
   {
    "duration": 9,
    "start_time": "2022-12-13T18:40:18.234Z"
   },
   {
    "duration": 98,
    "start_time": "2022-12-13T18:40:18.245Z"
   },
   {
    "duration": 17,
    "start_time": "2022-12-13T18:40:18.345Z"
   },
   {
    "duration": 44,
    "start_time": "2022-12-13T18:40:18.364Z"
   },
   {
    "duration": 3,
    "start_time": "2022-12-13T18:40:18.410Z"
   },
   {
    "duration": 841,
    "start_time": "2022-12-13T18:40:18.414Z"
   },
   {
    "duration": 1308,
    "start_time": "2022-12-13T18:40:19.257Z"
   },
   {
    "duration": 2,
    "start_time": "2022-12-13T18:40:20.567Z"
   },
   {
    "duration": 23,
    "start_time": "2022-12-13T18:40:20.570Z"
   },
   {
    "duration": 11,
    "start_time": "2022-12-13T18:40:20.595Z"
   },
   {
    "duration": 113,
    "start_time": "2022-12-13T18:40:20.608Z"
   },
   {
    "duration": 0,
    "start_time": "2022-12-13T18:40:20.723Z"
   },
   {
    "duration": 0,
    "start_time": "2022-12-13T18:40:20.724Z"
   },
   {
    "duration": 0,
    "start_time": "2022-12-13T18:40:20.726Z"
   },
   {
    "duration": 0,
    "start_time": "2022-12-13T18:40:20.726Z"
   },
   {
    "duration": 0,
    "start_time": "2022-12-13T18:40:20.727Z"
   },
   {
    "duration": 0,
    "start_time": "2022-12-13T18:40:20.729Z"
   },
   {
    "duration": 0,
    "start_time": "2022-12-13T18:40:20.729Z"
   },
   {
    "duration": 0,
    "start_time": "2022-12-13T18:40:20.730Z"
   },
   {
    "duration": 0,
    "start_time": "2022-12-13T18:40:20.732Z"
   },
   {
    "duration": 0,
    "start_time": "2022-12-13T18:40:20.732Z"
   },
   {
    "duration": 0,
    "start_time": "2022-12-13T18:40:20.733Z"
   },
   {
    "duration": 0,
    "start_time": "2022-12-13T18:40:20.734Z"
   },
   {
    "duration": 0,
    "start_time": "2022-12-13T18:40:20.735Z"
   },
   {
    "duration": 0,
    "start_time": "2022-12-13T18:40:20.736Z"
   },
   {
    "duration": 0,
    "start_time": "2022-12-13T18:40:20.737Z"
   },
   {
    "duration": 0,
    "start_time": "2022-12-13T18:40:20.738Z"
   },
   {
    "duration": 0,
    "start_time": "2022-12-13T18:40:20.739Z"
   },
   {
    "duration": 0,
    "start_time": "2022-12-13T18:40:20.739Z"
   },
   {
    "duration": 0,
    "start_time": "2022-12-13T18:40:20.740Z"
   },
   {
    "duration": 30,
    "start_time": "2022-12-13T18:41:00.999Z"
   },
   {
    "duration": 27,
    "start_time": "2022-12-13T18:41:05.036Z"
   },
   {
    "duration": 41446,
    "start_time": "2022-12-13T18:41:16.995Z"
   },
   {
    "duration": 3,
    "start_time": "2022-12-13T18:41:58.444Z"
   },
   {
    "duration": 34,
    "start_time": "2022-12-13T18:41:58.449Z"
   },
   {
    "duration": 22827,
    "start_time": "2022-12-13T18:41:58.485Z"
   },
   {
    "duration": 3,
    "start_time": "2022-12-13T18:42:21.314Z"
   },
   {
    "duration": 291,
    "start_time": "2022-12-13T18:42:21.319Z"
   },
   {
    "duration": 101086,
    "start_time": "2022-12-13T18:42:21.612Z"
   },
   {
    "duration": 3,
    "start_time": "2022-12-13T18:44:02.700Z"
   },
   {
    "duration": 71,
    "start_time": "2022-12-13T18:44:02.705Z"
   },
   {
    "duration": 3229,
    "start_time": "2022-12-13T18:44:02.778Z"
   },
   {
    "duration": 4,
    "start_time": "2022-12-13T18:44:06.098Z"
   },
   {
    "duration": 201,
    "start_time": "2022-12-13T18:44:06.104Z"
   },
   {
    "duration": 0,
    "start_time": "2022-12-13T18:44:06.518Z"
   },
   {
    "duration": 0,
    "start_time": "2022-12-13T18:44:06.520Z"
   },
   {
    "duration": 87,
    "start_time": "2022-12-13T18:44:15.516Z"
   },
   {
    "duration": 70,
    "start_time": "2022-12-13T18:44:19.719Z"
   },
   {
    "duration": 44,
    "start_time": "2022-12-13T18:44:23.336Z"
   },
   {
    "duration": 50,
    "start_time": "2022-12-13T18:45:18.030Z"
   },
   {
    "duration": 42,
    "start_time": "2022-12-13T18:45:35.935Z"
   },
   {
    "duration": 44,
    "start_time": "2022-12-13T18:45:45.894Z"
   },
   {
    "duration": 49,
    "start_time": "2022-12-13T18:45:55.418Z"
   },
   {
    "duration": 41,
    "start_time": "2022-12-13T18:46:01.360Z"
   },
   {
    "duration": 44,
    "start_time": "2022-12-13T18:47:35.724Z"
   },
   {
    "duration": 47,
    "start_time": "2022-12-13T18:47:46.232Z"
   },
   {
    "duration": 52,
    "start_time": "2022-12-13T18:48:10.469Z"
   },
   {
    "duration": 51,
    "start_time": "2022-12-13T18:48:19.965Z"
   },
   {
    "duration": 70,
    "start_time": "2022-12-13T18:48:30.513Z"
   },
   {
    "duration": 19,
    "start_time": "2022-12-13T18:48:48.405Z"
   },
   {
    "duration": 46,
    "start_time": "2022-12-13T18:49:00.107Z"
   },
   {
    "duration": 18,
    "start_time": "2022-12-13T18:49:03.612Z"
   },
   {
    "duration": 17,
    "start_time": "2022-12-13T18:49:22.816Z"
   },
   {
    "duration": 18,
    "start_time": "2022-12-13T18:49:22.992Z"
   },
   {
    "duration": 18,
    "start_time": "2022-12-13T18:49:23.142Z"
   },
   {
    "duration": 19,
    "start_time": "2022-12-13T18:49:23.290Z"
   },
   {
    "duration": 18,
    "start_time": "2022-12-13T18:49:23.410Z"
   },
   {
    "duration": 17,
    "start_time": "2022-12-13T18:49:23.546Z"
   },
   {
    "duration": 21,
    "start_time": "2022-12-13T18:50:19.126Z"
   },
   {
    "duration": 16,
    "start_time": "2022-12-13T18:51:24.893Z"
   },
   {
    "duration": 51,
    "start_time": "2022-12-13T18:52:11.359Z"
   },
   {
    "duration": 72,
    "start_time": "2022-12-13T18:54:26.661Z"
   },
   {
    "duration": 49,
    "start_time": "2022-12-13T18:55:51.772Z"
   },
   {
    "duration": 3,
    "start_time": "2022-12-13T18:55:58.389Z"
   },
   {
    "duration": 42,
    "start_time": "2022-12-13T18:56:06.256Z"
   },
   {
    "duration": 45,
    "start_time": "2022-12-13T18:56:28.646Z"
   },
   {
    "duration": 2,
    "start_time": "2022-12-13T18:57:40.190Z"
   },
   {
    "duration": 762,
    "start_time": "2022-12-13T18:59:40.089Z"
   },
   {
    "duration": 3,
    "start_time": "2022-12-13T19:00:08.669Z"
   },
   {
    "duration": 10,
    "start_time": "2022-12-13T19:05:32.188Z"
   },
   {
    "duration": 9,
    "start_time": "2022-12-13T19:05:57.359Z"
   },
   {
    "duration": 4,
    "start_time": "2022-12-13T19:06:02.271Z"
   },
   {
    "duration": 17834,
    "start_time": "2022-12-13T19:06:05.286Z"
   },
   {
    "duration": 18397,
    "start_time": "2022-12-13T19:06:44.110Z"
   },
   {
    "duration": 4,
    "start_time": "2022-12-13T19:07:43.865Z"
   },
   {
    "duration": 18860,
    "start_time": "2022-12-13T19:07:48.245Z"
   },
   {
    "duration": 5,
    "start_time": "2022-12-13T19:08:43.528Z"
   },
   {
    "duration": 18363,
    "start_time": "2022-12-13T19:08:47.308Z"
   },
   {
    "duration": 20053,
    "start_time": "2022-12-13T19:09:58.698Z"
   },
   {
    "duration": 4,
    "start_time": "2022-12-13T19:10:21.664Z"
   },
   {
    "duration": 19684,
    "start_time": "2022-12-13T19:10:25.058Z"
   },
   {
    "duration": 4,
    "start_time": "2022-12-13T19:11:39.720Z"
   },
   {
    "duration": 700,
    "start_time": "2022-12-13T19:11:56.690Z"
   },
   {
    "duration": 5,
    "start_time": "2022-12-13T19:13:21.335Z"
   },
   {
    "duration": 4,
    "start_time": "2022-12-13T19:13:32.961Z"
   },
   {
    "duration": 9,
    "start_time": "2022-12-13T19:13:36.639Z"
   },
   {
    "duration": 20320,
    "start_time": "2022-12-13T19:13:44.296Z"
   },
   {
    "duration": 11,
    "start_time": "2022-12-13T19:14:04.618Z"
   },
   {
    "duration": 89,
    "start_time": "2022-12-13T19:14:21.418Z"
   },
   {
    "duration": 27720,
    "start_time": "2022-12-13T19:14:34.347Z"
   },
   {
    "duration": 9,
    "start_time": "2022-12-13T19:15:17.891Z"
   },
   {
    "duration": 4,
    "start_time": "2022-12-13T19:15:26.391Z"
   },
   {
    "duration": 724,
    "start_time": "2022-12-13T19:15:29.713Z"
   },
   {
    "duration": 1089,
    "start_time": "2022-12-13T19:15:34.301Z"
   },
   {
    "duration": 9,
    "start_time": "2022-12-13T19:15:49.462Z"
   },
   {
    "duration": 20,
    "start_time": "2022-12-13T19:16:41.850Z"
   },
   {
    "duration": 30,
    "start_time": "2022-12-13T19:18:00.196Z"
   },
   {
    "duration": 17,
    "start_time": "2022-12-13T19:18:15.434Z"
   },
   {
    "duration": 728,
    "start_time": "2022-12-13T19:18:22.092Z"
   },
   {
    "duration": 26,
    "start_time": "2022-12-13T19:19:11.588Z"
   },
   {
    "duration": 722,
    "start_time": "2022-12-13T19:19:19.613Z"
   },
   {
    "duration": 720,
    "start_time": "2022-12-13T19:19:37.846Z"
   },
   {
    "duration": 806,
    "start_time": "2022-12-13T19:20:41.808Z"
   },
   {
    "duration": 4,
    "start_time": "2022-12-13T19:21:00.162Z"
   },
   {
    "duration": 707,
    "start_time": "2022-12-13T19:21:08.713Z"
   },
   {
    "duration": 832,
    "start_time": "2022-12-13T19:21:38.725Z"
   },
   {
    "duration": 829,
    "start_time": "2022-12-13T19:22:27.902Z"
   },
   {
    "duration": 20229,
    "start_time": "2022-12-13T19:23:27.430Z"
   },
   {
    "duration": 7299,
    "start_time": "2022-12-14T07:47:42.195Z"
   },
   {
    "duration": 199,
    "start_time": "2022-12-14T07:47:49.496Z"
   },
   {
    "duration": 13,
    "start_time": "2022-12-14T07:47:49.699Z"
   },
   {
    "duration": 41,
    "start_time": "2022-12-14T07:47:49.713Z"
   },
   {
    "duration": 27,
    "start_time": "2022-12-14T07:47:49.755Z"
   },
   {
    "duration": 31,
    "start_time": "2022-12-14T07:47:49.785Z"
   },
   {
    "duration": 13,
    "start_time": "2022-12-14T07:47:49.818Z"
   },
   {
    "duration": 16,
    "start_time": "2022-12-14T07:47:49.833Z"
   },
   {
    "duration": 66,
    "start_time": "2022-12-14T07:47:49.852Z"
   },
   {
    "duration": 13,
    "start_time": "2022-12-14T07:47:49.919Z"
   },
   {
    "duration": 51,
    "start_time": "2022-12-14T07:47:49.934Z"
   },
   {
    "duration": 1339,
    "start_time": "2022-12-14T07:47:49.989Z"
   },
   {
    "duration": 16,
    "start_time": "2022-12-14T07:47:51.330Z"
   },
   {
    "duration": 39,
    "start_time": "2022-12-14T07:47:51.348Z"
   },
   {
    "duration": 43,
    "start_time": "2022-12-14T07:47:51.391Z"
   },
   {
    "duration": 40,
    "start_time": "2022-12-14T07:47:51.435Z"
   },
   {
    "duration": 47,
    "start_time": "2022-12-14T07:47:51.476Z"
   },
   {
    "duration": 5,
    "start_time": "2022-12-14T07:47:51.525Z"
   },
   {
    "duration": 949,
    "start_time": "2022-12-14T07:47:51.532Z"
   },
   {
    "duration": 1370,
    "start_time": "2022-12-14T07:47:52.482Z"
   },
   {
    "duration": 2,
    "start_time": "2022-12-14T07:47:53.854Z"
   },
   {
    "duration": 32,
    "start_time": "2022-12-14T07:47:53.858Z"
   },
   {
    "duration": 37,
    "start_time": "2022-12-14T07:47:53.893Z"
   },
   {
    "duration": 42,
    "start_time": "2022-12-14T07:47:53.931Z"
   },
   {
    "duration": 45184,
    "start_time": "2022-12-14T07:47:53.975Z"
   },
   {
    "duration": 4,
    "start_time": "2022-12-14T07:48:39.161Z"
   },
   {
    "duration": 48,
    "start_time": "2022-12-14T07:48:39.178Z"
   },
   {
    "duration": 22297,
    "start_time": "2022-12-14T07:48:39.228Z"
   },
   {
    "duration": 4,
    "start_time": "2022-12-14T07:49:01.527Z"
   },
   {
    "duration": 304,
    "start_time": "2022-12-14T07:49:01.533Z"
   },
   {
    "duration": 111627,
    "start_time": "2022-12-14T07:49:01.839Z"
   },
   {
    "duration": 4,
    "start_time": "2022-12-14T07:50:53.467Z"
   },
   {
    "duration": 72,
    "start_time": "2022-12-14T07:50:53.478Z"
   },
   {
    "duration": 3432,
    "start_time": "2022-12-14T07:50:53.552Z"
   },
   {
    "duration": 5,
    "start_time": "2022-12-14T07:50:56.985Z"
   },
   {
    "duration": 207,
    "start_time": "2022-12-14T07:50:56.991Z"
   },
   {
    "duration": 290,
    "start_time": "2022-12-14T07:50:57.200Z"
   },
   {
    "duration": 70,
    "start_time": "2022-12-14T07:50:57.494Z"
   },
   {
    "duration": 4,
    "start_time": "2022-12-14T07:50:57.566Z"
   },
   {
    "duration": 27,
    "start_time": "2022-12-14T07:50:57.572Z"
   },
   {
    "duration": 340,
    "start_time": "2022-12-14T07:50:57.601Z"
   },
   {
    "duration": 0,
    "start_time": "2022-12-14T07:50:57.943Z"
   },
   {
    "duration": 0,
    "start_time": "2022-12-14T07:50:57.944Z"
   },
   {
    "duration": 0,
    "start_time": "2022-12-14T07:50:57.946Z"
   },
   {
    "duration": 0,
    "start_time": "2022-12-14T07:50:57.947Z"
   },
   {
    "duration": 0,
    "start_time": "2022-12-14T07:50:57.949Z"
   },
   {
    "duration": 0,
    "start_time": "2022-12-14T07:50:57.950Z"
   },
   {
    "duration": 0,
    "start_time": "2022-12-14T07:50:57.951Z"
   },
   {
    "duration": 199,
    "start_time": "2022-12-14T07:51:15.029Z"
   },
   {
    "duration": 5,
    "start_time": "2022-12-14T07:51:56.423Z"
   },
   {
    "duration": 3,
    "start_time": "2022-12-14T07:51:58.055Z"
   },
   {
    "duration": 21534,
    "start_time": "2022-12-14T07:52:00.199Z"
   },
   {
    "duration": 0,
    "start_time": "2022-12-14T07:52:21.735Z"
   },
   {
    "duration": 0,
    "start_time": "2022-12-14T07:52:21.736Z"
   },
   {
    "duration": 0,
    "start_time": "2022-12-14T07:52:21.738Z"
   },
   {
    "duration": 4,
    "start_time": "2022-12-14T07:52:49.636Z"
   },
   {
    "duration": 5,
    "start_time": "2022-12-14T07:52:51.032Z"
   },
   {
    "duration": 23964,
    "start_time": "2022-12-14T07:52:53.007Z"
   },
   {
    "duration": 29968,
    "start_time": "2022-12-14T07:53:34.830Z"
   },
   {
    "duration": 772,
    "start_time": "2022-12-14T07:54:04.799Z"
   },
   {
    "duration": 1110,
    "start_time": "2022-12-14T07:54:05.578Z"
   },
   {
    "duration": 11,
    "start_time": "2022-12-14T07:54:32.614Z"
   },
   {
    "duration": 29430,
    "start_time": "2022-12-14T07:55:43.261Z"
   },
   {
    "duration": 43,
    "start_time": "2022-12-14T07:56:17.700Z"
   },
   {
    "duration": 174,
    "start_time": "2022-12-14T07:56:59.264Z"
   },
   {
    "duration": 206,
    "start_time": "2022-12-14T07:57:20.617Z"
   },
   {
    "duration": 100,
    "start_time": "2022-12-14T08:03:19.192Z"
   },
   {
    "duration": 82,
    "start_time": "2022-12-14T08:03:22.808Z"
   },
   {
    "duration": 209,
    "start_time": "2022-12-14T08:12:48.609Z"
   },
   {
    "duration": 10,
    "start_time": "2022-12-14T08:14:15.998Z"
   },
   {
    "duration": 178,
    "start_time": "2022-12-14T08:14:57.031Z"
   },
   {
    "duration": 172,
    "start_time": "2022-12-14T08:15:05.445Z"
   },
   {
    "duration": 205,
    "start_time": "2022-12-14T08:15:33.009Z"
   },
   {
    "duration": 86,
    "start_time": "2022-12-14T08:16:11.970Z"
   },
   {
    "duration": 187,
    "start_time": "2022-12-14T08:16:25.512Z"
   },
   {
    "duration": 181,
    "start_time": "2022-12-14T08:16:34.529Z"
   },
   {
    "duration": 170,
    "start_time": "2022-12-14T08:16:38.397Z"
   },
   {
    "duration": 1477,
    "start_time": "2022-12-14T08:22:42.445Z"
   },
   {
    "duration": 67,
    "start_time": "2022-12-14T08:22:43.925Z"
   },
   {
    "duration": 22,
    "start_time": "2022-12-14T08:22:43.993Z"
   },
   {
    "duration": 77,
    "start_time": "2022-12-14T08:22:44.018Z"
   },
   {
    "duration": 18,
    "start_time": "2022-12-14T08:22:44.097Z"
   },
   {
    "duration": 50,
    "start_time": "2022-12-14T08:22:44.118Z"
   },
   {
    "duration": 37,
    "start_time": "2022-12-14T08:22:44.170Z"
   },
   {
    "duration": 15,
    "start_time": "2022-12-14T08:22:44.209Z"
   },
   {
    "duration": 77,
    "start_time": "2022-12-14T08:22:44.226Z"
   },
   {
    "duration": 10,
    "start_time": "2022-12-14T08:22:44.306Z"
   },
   {
    "duration": 32,
    "start_time": "2022-12-14T08:22:44.318Z"
   },
   {
    "duration": 1139,
    "start_time": "2022-12-14T08:22:44.351Z"
   },
   {
    "duration": 19,
    "start_time": "2022-12-14T08:22:45.493Z"
   },
   {
    "duration": 11,
    "start_time": "2022-12-14T08:22:45.513Z"
   },
   {
    "duration": 110,
    "start_time": "2022-12-14T08:22:45.526Z"
   },
   {
    "duration": 22,
    "start_time": "2022-12-14T08:22:45.638Z"
   },
   {
    "duration": 43,
    "start_time": "2022-12-14T08:22:45.677Z"
   },
   {
    "duration": 3,
    "start_time": "2022-12-14T08:22:45.722Z"
   },
   {
    "duration": 894,
    "start_time": "2022-12-14T08:22:45.727Z"
   },
   {
    "duration": 1268,
    "start_time": "2022-12-14T08:22:46.624Z"
   },
   {
    "duration": 3,
    "start_time": "2022-12-14T08:22:47.894Z"
   },
   {
    "duration": 25,
    "start_time": "2022-12-14T08:22:47.901Z"
   },
   {
    "duration": 16,
    "start_time": "2022-12-14T08:22:47.928Z"
   },
   {
    "duration": 29,
    "start_time": "2022-12-14T08:22:47.945Z"
   },
   {
    "duration": 44915,
    "start_time": "2022-12-14T08:22:47.975Z"
   },
   {
    "duration": 7,
    "start_time": "2022-12-14T08:23:32.900Z"
   },
   {
    "duration": 68,
    "start_time": "2022-12-14T08:23:32.909Z"
   },
   {
    "duration": 23377,
    "start_time": "2022-12-14T08:23:32.984Z"
   },
   {
    "duration": 14,
    "start_time": "2022-12-14T08:23:56.363Z"
   },
   {
    "duration": 280,
    "start_time": "2022-12-14T08:23:56.379Z"
   },
   {
    "duration": 110687,
    "start_time": "2022-12-14T08:23:56.661Z"
   },
   {
    "duration": 5,
    "start_time": "2022-12-14T08:25:47.350Z"
   },
   {
    "duration": 87,
    "start_time": "2022-12-14T08:25:47.357Z"
   },
   {
    "duration": 6560,
    "start_time": "2022-12-14T08:25:47.446Z"
   },
   {
    "duration": 16,
    "start_time": "2022-12-14T08:25:54.083Z"
   },
   {
    "duration": 193,
    "start_time": "2022-12-14T08:25:54.103Z"
   },
   {
    "duration": 200,
    "start_time": "2022-12-14T08:25:54.378Z"
   },
   {
    "duration": 75,
    "start_time": "2022-12-14T08:25:54.580Z"
   },
   {
    "duration": 5,
    "start_time": "2022-12-14T08:25:54.657Z"
   },
   {
    "duration": 22,
    "start_time": "2022-12-14T08:25:54.663Z"
   },
   {
    "duration": 21711,
    "start_time": "2022-12-14T08:25:54.686Z"
   },
   {
    "duration": 32315,
    "start_time": "2022-12-14T08:26:16.399Z"
   },
   {
    "duration": 885,
    "start_time": "2022-12-14T08:26:48.716Z"
   },
   {
    "duration": 1227,
    "start_time": "2022-12-14T08:26:49.603Z"
   },
   {
    "duration": 8,
    "start_time": "2022-12-14T08:26:50.832Z"
   },
   {
    "duration": 66,
    "start_time": "2022-12-14T08:26:50.844Z"
   },
   {
    "duration": 227,
    "start_time": "2022-12-14T08:26:50.912Z"
   },
   {
    "duration": 244,
    "start_time": "2022-12-14T08:26:51.141Z"
   }
  ],
  "kernelspec": {
   "display_name": "Python 3 (ipykernel)",
   "language": "python",
   "name": "python3"
  },
  "language_info": {
   "codemirror_mode": {
    "name": "ipython",
    "version": 3
   },
   "file_extension": ".py",
   "mimetype": "text/x-python",
   "name": "python",
   "nbconvert_exporter": "python",
   "pygments_lexer": "ipython3",
   "version": "3.8.16"
  },
  "toc": {
   "base_numbering": 1,
   "nav_menu": {},
   "number_sections": true,
   "sideBar": true,
   "skip_h1_title": true,
   "title_cell": "Содержание",
   "title_sidebar": "Contents",
   "toc_cell": true,
   "toc_position": {
    "height": "calc(100% - 180px)",
    "left": "10px",
    "top": "150px",
    "width": "310.59375px"
   },
   "toc_section_display": true,
   "toc_window_display": true
  }
 },
 "nbformat": 4,
 "nbformat_minor": 2
}
