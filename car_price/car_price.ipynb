{
 "cells": [
  {
   "cell_type": "markdown",
   "metadata": {},
   "source": [
    "# Определение стоимости автомобилей"
   ]
  },
  {
   "cell_type": "markdown",
   "metadata": {},
   "source": [
    "Сервис по продаже автомобилей с пробегом «Не бит, не крашен» разрабатывает приложение для привлечения новых клиентов. В нём можно быстро узнать рыночную стоимость своего автомобиля. В вашем распоряжении исторические данные: технические характеристики, комплектации и цены автомобилей. Нужно построить модель для определения стоимости. \n",
    "\n",
    "Цель:\n",
    "\n",
    "- качество предсказания;\n",
    "- скорость предсказания;\n",
    "- время обучения."
   ]
  },
  {
   "cell_type": "code",
   "execution_count": 1,
   "metadata": {},
   "outputs": [],
   "source": [
    "import pandas as pd \n",
    "import numpy as np\n",
    "\n",
    "import time \n",
    "\n",
    "from sklearn.preprocessing import LabelEncoder, OrdinalEncoder, OneHotEncoder, StandardScaler\n",
    "from sklearn.model_selection import train_test_split, RandomizedSearchCV\n",
    "\n",
    "from sklearn.linear_model import LinearRegression, Ridge\n",
    "from lightgbm import LGBMRegressor\n",
    "from catboost import CatBoostRegressor\n",
    "from sklearn.metrics import mean_squared_error\n",
    "\n",
    "from sklearn.impute import SimpleImputer\n",
    "\n",
    "from sklearn.compose import ColumnTransformer\n",
    "\n",
    "from sklearn.pipeline import Pipeline\n",
    "\n",
    "import seaborn as sns\n",
    "import matplotlib.pyplot as plt\n",
    "\n",
    "import warnings \n",
    "warnings.filterwarnings(\"ignore\")"
   ]
  },
  {
   "cell_type": "markdown",
   "metadata": {},
   "source": [
    "## Подготовка данных"
   ]
  },
  {
   "cell_type": "code",
   "execution_count": 2,
   "metadata": {},
   "outputs": [
    {
     "data": {
      "text/html": [
       "<div>\n",
       "<style scoped>\n",
       "    .dataframe tbody tr th:only-of-type {\n",
       "        vertical-align: middle;\n",
       "    }\n",
       "\n",
       "    .dataframe tbody tr th {\n",
       "        vertical-align: top;\n",
       "    }\n",
       "\n",
       "    .dataframe thead th {\n",
       "        text-align: right;\n",
       "    }\n",
       "</style>\n",
       "<table border=\"1\" class=\"dataframe\">\n",
       "  <thead>\n",
       "    <tr style=\"text-align: right;\">\n",
       "      <th></th>\n",
       "      <th>DateCrawled</th>\n",
       "      <th>Price</th>\n",
       "      <th>VehicleType</th>\n",
       "      <th>RegistrationYear</th>\n",
       "      <th>Gearbox</th>\n",
       "      <th>Power</th>\n",
       "      <th>Model</th>\n",
       "      <th>Kilometer</th>\n",
       "      <th>RegistrationMonth</th>\n",
       "      <th>FuelType</th>\n",
       "      <th>Brand</th>\n",
       "      <th>Repaired</th>\n",
       "      <th>DateCreated</th>\n",
       "      <th>NumberOfPictures</th>\n",
       "      <th>PostalCode</th>\n",
       "      <th>LastSeen</th>\n",
       "    </tr>\n",
       "  </thead>\n",
       "  <tbody>\n",
       "    <tr>\n",
       "      <th>0</th>\n",
       "      <td>2016-03-24 11:52:17</td>\n",
       "      <td>480</td>\n",
       "      <td>NaN</td>\n",
       "      <td>1993</td>\n",
       "      <td>manual</td>\n",
       "      <td>0</td>\n",
       "      <td>golf</td>\n",
       "      <td>150000</td>\n",
       "      <td>0</td>\n",
       "      <td>petrol</td>\n",
       "      <td>volkswagen</td>\n",
       "      <td>NaN</td>\n",
       "      <td>2016-03-24 00:00:00</td>\n",
       "      <td>0</td>\n",
       "      <td>70435</td>\n",
       "      <td>2016-04-07 03:16:57</td>\n",
       "    </tr>\n",
       "    <tr>\n",
       "      <th>1</th>\n",
       "      <td>2016-03-24 10:58:45</td>\n",
       "      <td>18300</td>\n",
       "      <td>coupe</td>\n",
       "      <td>2011</td>\n",
       "      <td>manual</td>\n",
       "      <td>190</td>\n",
       "      <td>NaN</td>\n",
       "      <td>125000</td>\n",
       "      <td>5</td>\n",
       "      <td>gasoline</td>\n",
       "      <td>audi</td>\n",
       "      <td>yes</td>\n",
       "      <td>2016-03-24 00:00:00</td>\n",
       "      <td>0</td>\n",
       "      <td>66954</td>\n",
       "      <td>2016-04-07 01:46:50</td>\n",
       "    </tr>\n",
       "    <tr>\n",
       "      <th>2</th>\n",
       "      <td>2016-03-14 12:52:21</td>\n",
       "      <td>9800</td>\n",
       "      <td>suv</td>\n",
       "      <td>2004</td>\n",
       "      <td>auto</td>\n",
       "      <td>163</td>\n",
       "      <td>grand</td>\n",
       "      <td>125000</td>\n",
       "      <td>8</td>\n",
       "      <td>gasoline</td>\n",
       "      <td>jeep</td>\n",
       "      <td>NaN</td>\n",
       "      <td>2016-03-14 00:00:00</td>\n",
       "      <td>0</td>\n",
       "      <td>90480</td>\n",
       "      <td>2016-04-05 12:47:46</td>\n",
       "    </tr>\n",
       "    <tr>\n",
       "      <th>3</th>\n",
       "      <td>2016-03-17 16:54:04</td>\n",
       "      <td>1500</td>\n",
       "      <td>small</td>\n",
       "      <td>2001</td>\n",
       "      <td>manual</td>\n",
       "      <td>75</td>\n",
       "      <td>golf</td>\n",
       "      <td>150000</td>\n",
       "      <td>6</td>\n",
       "      <td>petrol</td>\n",
       "      <td>volkswagen</td>\n",
       "      <td>no</td>\n",
       "      <td>2016-03-17 00:00:00</td>\n",
       "      <td>0</td>\n",
       "      <td>91074</td>\n",
       "      <td>2016-03-17 17:40:17</td>\n",
       "    </tr>\n",
       "    <tr>\n",
       "      <th>4</th>\n",
       "      <td>2016-03-31 17:25:20</td>\n",
       "      <td>3600</td>\n",
       "      <td>small</td>\n",
       "      <td>2008</td>\n",
       "      <td>manual</td>\n",
       "      <td>69</td>\n",
       "      <td>fabia</td>\n",
       "      <td>90000</td>\n",
       "      <td>7</td>\n",
       "      <td>gasoline</td>\n",
       "      <td>skoda</td>\n",
       "      <td>no</td>\n",
       "      <td>2016-03-31 00:00:00</td>\n",
       "      <td>0</td>\n",
       "      <td>60437</td>\n",
       "      <td>2016-04-06 10:17:21</td>\n",
       "    </tr>\n",
       "  </tbody>\n",
       "</table>\n",
       "</div>"
      ],
      "text/plain": [
       "           DateCrawled  Price VehicleType  RegistrationYear Gearbox  Power  \\\n",
       "0  2016-03-24 11:52:17    480         NaN              1993  manual      0   \n",
       "1  2016-03-24 10:58:45  18300       coupe              2011  manual    190   \n",
       "2  2016-03-14 12:52:21   9800         suv              2004    auto    163   \n",
       "3  2016-03-17 16:54:04   1500       small              2001  manual     75   \n",
       "4  2016-03-31 17:25:20   3600       small              2008  manual     69   \n",
       "\n",
       "   Model  Kilometer  RegistrationMonth  FuelType       Brand Repaired  \\\n",
       "0   golf     150000                  0    petrol  volkswagen      NaN   \n",
       "1    NaN     125000                  5  gasoline        audi      yes   \n",
       "2  grand     125000                  8  gasoline        jeep      NaN   \n",
       "3   golf     150000                  6    petrol  volkswagen       no   \n",
       "4  fabia      90000                  7  gasoline       skoda       no   \n",
       "\n",
       "           DateCreated  NumberOfPictures  PostalCode             LastSeen  \n",
       "0  2016-03-24 00:00:00                 0       70435  2016-04-07 03:16:57  \n",
       "1  2016-03-24 00:00:00                 0       66954  2016-04-07 01:46:50  \n",
       "2  2016-03-14 00:00:00                 0       90480  2016-04-05 12:47:46  \n",
       "3  2016-03-17 00:00:00                 0       91074  2016-03-17 17:40:17  \n",
       "4  2016-03-31 00:00:00                 0       60437  2016-04-06 10:17:21  "
      ]
     },
     "execution_count": 2,
     "metadata": {},
     "output_type": "execute_result"
    }
   ],
   "source": [
    "df_car = pd.read_csv('/datasets/autos.csv')\n",
    "df_car.head()"
   ]
  },
  {
   "cell_type": "code",
   "execution_count": 3,
   "metadata": {},
   "outputs": [
    {
     "name": "stdout",
     "output_type": "stream",
     "text": [
      "(354369, 16)\n",
      "<class 'pandas.core.frame.DataFrame'>\n",
      "RangeIndex: 354369 entries, 0 to 354368\n",
      "Data columns (total 16 columns):\n",
      " #   Column             Non-Null Count   Dtype \n",
      "---  ------             --------------   ----- \n",
      " 0   DateCrawled        354369 non-null  object\n",
      " 1   Price              354369 non-null  int64 \n",
      " 2   VehicleType        316879 non-null  object\n",
      " 3   RegistrationYear   354369 non-null  int64 \n",
      " 4   Gearbox            334536 non-null  object\n",
      " 5   Power              354369 non-null  int64 \n",
      " 6   Model              334664 non-null  object\n",
      " 7   Kilometer          354369 non-null  int64 \n",
      " 8   RegistrationMonth  354369 non-null  int64 \n",
      " 9   FuelType           321474 non-null  object\n",
      " 10  Brand              354369 non-null  object\n",
      " 11  Repaired           283215 non-null  object\n",
      " 12  DateCreated        354369 non-null  object\n",
      " 13  NumberOfPictures   354369 non-null  int64 \n",
      " 14  PostalCode         354369 non-null  int64 \n",
      " 15  LastSeen           354369 non-null  object\n",
      "dtypes: int64(7), object(9)\n",
      "memory usage: 43.3+ MB\n",
      "None\n"
     ]
    },
    {
     "data": {
      "text/html": [
       "<style  type=\"text/css\" >\n",
       "</style><table id=\"T_f6899_\" ><thead>    <tr>        <th class=\"blank level0\" ></th>        <th class=\"col_heading level0 col0\" >gaps</th>    </tr></thead><tbody>\n",
       "                <tr>\n",
       "                        <th id=\"T_f6899_level0_row0\" class=\"row_heading level0 row0\" >DateCrawled</th>\n",
       "                        <td id=\"T_f6899_row0_col0\" class=\"data row0 col0\" >0.00%</td>\n",
       "            </tr>\n",
       "            <tr>\n",
       "                        <th id=\"T_f6899_level0_row1\" class=\"row_heading level0 row1\" >Price</th>\n",
       "                        <td id=\"T_f6899_row1_col0\" class=\"data row1 col0\" >0.00%</td>\n",
       "            </tr>\n",
       "            <tr>\n",
       "                        <th id=\"T_f6899_level0_row2\" class=\"row_heading level0 row2\" >VehicleType</th>\n",
       "                        <td id=\"T_f6899_row2_col0\" class=\"data row2 col0\" >10.58%</td>\n",
       "            </tr>\n",
       "            <tr>\n",
       "                        <th id=\"T_f6899_level0_row3\" class=\"row_heading level0 row3\" >RegistrationYear</th>\n",
       "                        <td id=\"T_f6899_row3_col0\" class=\"data row3 col0\" >0.00%</td>\n",
       "            </tr>\n",
       "            <tr>\n",
       "                        <th id=\"T_f6899_level0_row4\" class=\"row_heading level0 row4\" >Gearbox</th>\n",
       "                        <td id=\"T_f6899_row4_col0\" class=\"data row4 col0\" >5.60%</td>\n",
       "            </tr>\n",
       "            <tr>\n",
       "                        <th id=\"T_f6899_level0_row5\" class=\"row_heading level0 row5\" >Power</th>\n",
       "                        <td id=\"T_f6899_row5_col0\" class=\"data row5 col0\" >0.00%</td>\n",
       "            </tr>\n",
       "            <tr>\n",
       "                        <th id=\"T_f6899_level0_row6\" class=\"row_heading level0 row6\" >Model</th>\n",
       "                        <td id=\"T_f6899_row6_col0\" class=\"data row6 col0\" >5.56%</td>\n",
       "            </tr>\n",
       "            <tr>\n",
       "                        <th id=\"T_f6899_level0_row7\" class=\"row_heading level0 row7\" >Kilometer</th>\n",
       "                        <td id=\"T_f6899_row7_col0\" class=\"data row7 col0\" >0.00%</td>\n",
       "            </tr>\n",
       "            <tr>\n",
       "                        <th id=\"T_f6899_level0_row8\" class=\"row_heading level0 row8\" >RegistrationMonth</th>\n",
       "                        <td id=\"T_f6899_row8_col0\" class=\"data row8 col0\" >0.00%</td>\n",
       "            </tr>\n",
       "            <tr>\n",
       "                        <th id=\"T_f6899_level0_row9\" class=\"row_heading level0 row9\" >FuelType</th>\n",
       "                        <td id=\"T_f6899_row9_col0\" class=\"data row9 col0\" >9.28%</td>\n",
       "            </tr>\n",
       "            <tr>\n",
       "                        <th id=\"T_f6899_level0_row10\" class=\"row_heading level0 row10\" >Brand</th>\n",
       "                        <td id=\"T_f6899_row10_col0\" class=\"data row10 col0\" >0.00%</td>\n",
       "            </tr>\n",
       "            <tr>\n",
       "                        <th id=\"T_f6899_level0_row11\" class=\"row_heading level0 row11\" >Repaired</th>\n",
       "                        <td id=\"T_f6899_row11_col0\" class=\"data row11 col0\" >20.08%</td>\n",
       "            </tr>\n",
       "            <tr>\n",
       "                        <th id=\"T_f6899_level0_row12\" class=\"row_heading level0 row12\" >DateCreated</th>\n",
       "                        <td id=\"T_f6899_row12_col0\" class=\"data row12 col0\" >0.00%</td>\n",
       "            </tr>\n",
       "            <tr>\n",
       "                        <th id=\"T_f6899_level0_row13\" class=\"row_heading level0 row13\" >NumberOfPictures</th>\n",
       "                        <td id=\"T_f6899_row13_col0\" class=\"data row13 col0\" >0.00%</td>\n",
       "            </tr>\n",
       "            <tr>\n",
       "                        <th id=\"T_f6899_level0_row14\" class=\"row_heading level0 row14\" >PostalCode</th>\n",
       "                        <td id=\"T_f6899_row14_col0\" class=\"data row14 col0\" >0.00%</td>\n",
       "            </tr>\n",
       "            <tr>\n",
       "                        <th id=\"T_f6899_level0_row15\" class=\"row_heading level0 row15\" >LastSeen</th>\n",
       "                        <td id=\"T_f6899_row15_col0\" class=\"data row15 col0\" >0.00%</td>\n",
       "            </tr>\n",
       "    </tbody></table>"
      ],
      "text/plain": [
       "<pandas.io.formats.style.Styler at 0x7f21f80ce130>"
      ]
     },
     "metadata": {},
     "output_type": "display_data"
    },
    {
     "name": "stdout",
     "output_type": "stream",
     "text": [
      "есть ли дупликаты True\n"
     ]
    },
    {
     "data": {
      "text/html": [
       "<div>\n",
       "<style scoped>\n",
       "    .dataframe tbody tr th:only-of-type {\n",
       "        vertical-align: middle;\n",
       "    }\n",
       "\n",
       "    .dataframe tbody tr th {\n",
       "        vertical-align: top;\n",
       "    }\n",
       "\n",
       "    .dataframe thead th {\n",
       "        text-align: right;\n",
       "    }\n",
       "</style>\n",
       "<table border=\"1\" class=\"dataframe\">\n",
       "  <thead>\n",
       "    <tr style=\"text-align: right;\">\n",
       "      <th></th>\n",
       "      <th>DateCrawled</th>\n",
       "      <th>Price</th>\n",
       "      <th>VehicleType</th>\n",
       "      <th>RegistrationYear</th>\n",
       "      <th>Gearbox</th>\n",
       "      <th>Power</th>\n",
       "      <th>Model</th>\n",
       "      <th>Kilometer</th>\n",
       "      <th>RegistrationMonth</th>\n",
       "      <th>FuelType</th>\n",
       "      <th>Brand</th>\n",
       "      <th>Repaired</th>\n",
       "      <th>DateCreated</th>\n",
       "      <th>NumberOfPictures</th>\n",
       "      <th>PostalCode</th>\n",
       "      <th>LastSeen</th>\n",
       "    </tr>\n",
       "  </thead>\n",
       "  <tbody>\n",
       "    <tr>\n",
       "      <th>0</th>\n",
       "      <td>2016-03-24 11:52:17</td>\n",
       "      <td>480</td>\n",
       "      <td>NaN</td>\n",
       "      <td>1993</td>\n",
       "      <td>manual</td>\n",
       "      <td>0</td>\n",
       "      <td>golf</td>\n",
       "      <td>150000</td>\n",
       "      <td>0</td>\n",
       "      <td>petrol</td>\n",
       "      <td>volkswagen</td>\n",
       "      <td>NaN</td>\n",
       "      <td>2016-03-24 00:00:00</td>\n",
       "      <td>0</td>\n",
       "      <td>70435</td>\n",
       "      <td>2016-04-07 03:16:57</td>\n",
       "    </tr>\n",
       "    <tr>\n",
       "      <th>1</th>\n",
       "      <td>2016-03-24 10:58:45</td>\n",
       "      <td>18300</td>\n",
       "      <td>coupe</td>\n",
       "      <td>2011</td>\n",
       "      <td>manual</td>\n",
       "      <td>190</td>\n",
       "      <td>NaN</td>\n",
       "      <td>125000</td>\n",
       "      <td>5</td>\n",
       "      <td>gasoline</td>\n",
       "      <td>audi</td>\n",
       "      <td>yes</td>\n",
       "      <td>2016-03-24 00:00:00</td>\n",
       "      <td>0</td>\n",
       "      <td>66954</td>\n",
       "      <td>2016-04-07 01:46:50</td>\n",
       "    </tr>\n",
       "    <tr>\n",
       "      <th>2</th>\n",
       "      <td>2016-03-14 12:52:21</td>\n",
       "      <td>9800</td>\n",
       "      <td>suv</td>\n",
       "      <td>2004</td>\n",
       "      <td>auto</td>\n",
       "      <td>163</td>\n",
       "      <td>grand</td>\n",
       "      <td>125000</td>\n",
       "      <td>8</td>\n",
       "      <td>gasoline</td>\n",
       "      <td>jeep</td>\n",
       "      <td>NaN</td>\n",
       "      <td>2016-03-14 00:00:00</td>\n",
       "      <td>0</td>\n",
       "      <td>90480</td>\n",
       "      <td>2016-04-05 12:47:46</td>\n",
       "    </tr>\n",
       "    <tr>\n",
       "      <th>3</th>\n",
       "      <td>2016-03-17 16:54:04</td>\n",
       "      <td>1500</td>\n",
       "      <td>small</td>\n",
       "      <td>2001</td>\n",
       "      <td>manual</td>\n",
       "      <td>75</td>\n",
       "      <td>golf</td>\n",
       "      <td>150000</td>\n",
       "      <td>6</td>\n",
       "      <td>petrol</td>\n",
       "      <td>volkswagen</td>\n",
       "      <td>no</td>\n",
       "      <td>2016-03-17 00:00:00</td>\n",
       "      <td>0</td>\n",
       "      <td>91074</td>\n",
       "      <td>2016-03-17 17:40:17</td>\n",
       "    </tr>\n",
       "    <tr>\n",
       "      <th>4</th>\n",
       "      <td>2016-03-31 17:25:20</td>\n",
       "      <td>3600</td>\n",
       "      <td>small</td>\n",
       "      <td>2008</td>\n",
       "      <td>manual</td>\n",
       "      <td>69</td>\n",
       "      <td>fabia</td>\n",
       "      <td>90000</td>\n",
       "      <td>7</td>\n",
       "      <td>gasoline</td>\n",
       "      <td>skoda</td>\n",
       "      <td>no</td>\n",
       "      <td>2016-03-31 00:00:00</td>\n",
       "      <td>0</td>\n",
       "      <td>60437</td>\n",
       "      <td>2016-04-06 10:17:21</td>\n",
       "    </tr>\n",
       "    <tr>\n",
       "      <th>5</th>\n",
       "      <td>2016-04-04 17:36:23</td>\n",
       "      <td>650</td>\n",
       "      <td>sedan</td>\n",
       "      <td>1995</td>\n",
       "      <td>manual</td>\n",
       "      <td>102</td>\n",
       "      <td>3er</td>\n",
       "      <td>150000</td>\n",
       "      <td>10</td>\n",
       "      <td>petrol</td>\n",
       "      <td>bmw</td>\n",
       "      <td>yes</td>\n",
       "      <td>2016-04-04 00:00:00</td>\n",
       "      <td>0</td>\n",
       "      <td>33775</td>\n",
       "      <td>2016-04-06 19:17:07</td>\n",
       "    </tr>\n",
       "    <tr>\n",
       "      <th>6</th>\n",
       "      <td>2016-04-01 20:48:51</td>\n",
       "      <td>2200</td>\n",
       "      <td>convertible</td>\n",
       "      <td>2004</td>\n",
       "      <td>manual</td>\n",
       "      <td>109</td>\n",
       "      <td>2_reihe</td>\n",
       "      <td>150000</td>\n",
       "      <td>8</td>\n",
       "      <td>petrol</td>\n",
       "      <td>peugeot</td>\n",
       "      <td>no</td>\n",
       "      <td>2016-04-01 00:00:00</td>\n",
       "      <td>0</td>\n",
       "      <td>67112</td>\n",
       "      <td>2016-04-05 18:18:39</td>\n",
       "    </tr>\n",
       "    <tr>\n",
       "      <th>7</th>\n",
       "      <td>2016-03-21 18:54:38</td>\n",
       "      <td>0</td>\n",
       "      <td>sedan</td>\n",
       "      <td>1980</td>\n",
       "      <td>manual</td>\n",
       "      <td>50</td>\n",
       "      <td>other</td>\n",
       "      <td>40000</td>\n",
       "      <td>7</td>\n",
       "      <td>petrol</td>\n",
       "      <td>volkswagen</td>\n",
       "      <td>no</td>\n",
       "      <td>2016-03-21 00:00:00</td>\n",
       "      <td>0</td>\n",
       "      <td>19348</td>\n",
       "      <td>2016-03-25 16:47:58</td>\n",
       "    </tr>\n",
       "    <tr>\n",
       "      <th>8</th>\n",
       "      <td>2016-04-04 23:42:13</td>\n",
       "      <td>14500</td>\n",
       "      <td>bus</td>\n",
       "      <td>2014</td>\n",
       "      <td>manual</td>\n",
       "      <td>125</td>\n",
       "      <td>c_max</td>\n",
       "      <td>30000</td>\n",
       "      <td>8</td>\n",
       "      <td>petrol</td>\n",
       "      <td>ford</td>\n",
       "      <td>NaN</td>\n",
       "      <td>2016-04-04 00:00:00</td>\n",
       "      <td>0</td>\n",
       "      <td>94505</td>\n",
       "      <td>2016-04-04 23:42:13</td>\n",
       "    </tr>\n",
       "    <tr>\n",
       "      <th>9</th>\n",
       "      <td>2016-03-17 10:53:50</td>\n",
       "      <td>999</td>\n",
       "      <td>small</td>\n",
       "      <td>1998</td>\n",
       "      <td>manual</td>\n",
       "      <td>101</td>\n",
       "      <td>golf</td>\n",
       "      <td>150000</td>\n",
       "      <td>0</td>\n",
       "      <td>NaN</td>\n",
       "      <td>volkswagen</td>\n",
       "      <td>NaN</td>\n",
       "      <td>2016-03-17 00:00:00</td>\n",
       "      <td>0</td>\n",
       "      <td>27472</td>\n",
       "      <td>2016-03-31 17:17:06</td>\n",
       "    </tr>\n",
       "  </tbody>\n",
       "</table>\n",
       "</div>"
      ],
      "text/plain": [
       "           DateCrawled  Price  VehicleType  RegistrationYear Gearbox  Power  \\\n",
       "0  2016-03-24 11:52:17    480          NaN              1993  manual      0   \n",
       "1  2016-03-24 10:58:45  18300        coupe              2011  manual    190   \n",
       "2  2016-03-14 12:52:21   9800          suv              2004    auto    163   \n",
       "3  2016-03-17 16:54:04   1500        small              2001  manual     75   \n",
       "4  2016-03-31 17:25:20   3600        small              2008  manual     69   \n",
       "5  2016-04-04 17:36:23    650        sedan              1995  manual    102   \n",
       "6  2016-04-01 20:48:51   2200  convertible              2004  manual    109   \n",
       "7  2016-03-21 18:54:38      0        sedan              1980  manual     50   \n",
       "8  2016-04-04 23:42:13  14500          bus              2014  manual    125   \n",
       "9  2016-03-17 10:53:50    999        small              1998  manual    101   \n",
       "\n",
       "     Model  Kilometer  RegistrationMonth  FuelType       Brand Repaired  \\\n",
       "0     golf     150000                  0    petrol  volkswagen      NaN   \n",
       "1      NaN     125000                  5  gasoline        audi      yes   \n",
       "2    grand     125000                  8  gasoline        jeep      NaN   \n",
       "3     golf     150000                  6    petrol  volkswagen       no   \n",
       "4    fabia      90000                  7  gasoline       skoda       no   \n",
       "5      3er     150000                 10    petrol         bmw      yes   \n",
       "6  2_reihe     150000                  8    petrol     peugeot       no   \n",
       "7    other      40000                  7    petrol  volkswagen       no   \n",
       "8    c_max      30000                  8    petrol        ford      NaN   \n",
       "9     golf     150000                  0       NaN  volkswagen      NaN   \n",
       "\n",
       "           DateCreated  NumberOfPictures  PostalCode             LastSeen  \n",
       "0  2016-03-24 00:00:00                 0       70435  2016-04-07 03:16:57  \n",
       "1  2016-03-24 00:00:00                 0       66954  2016-04-07 01:46:50  \n",
       "2  2016-03-14 00:00:00                 0       90480  2016-04-05 12:47:46  \n",
       "3  2016-03-17 00:00:00                 0       91074  2016-03-17 17:40:17  \n",
       "4  2016-03-31 00:00:00                 0       60437  2016-04-06 10:17:21  \n",
       "5  2016-04-04 00:00:00                 0       33775  2016-04-06 19:17:07  \n",
       "6  2016-04-01 00:00:00                 0       67112  2016-04-05 18:18:39  \n",
       "7  2016-03-21 00:00:00                 0       19348  2016-03-25 16:47:58  \n",
       "8  2016-04-04 00:00:00                 0       94505  2016-04-04 23:42:13  \n",
       "9  2016-03-17 00:00:00                 0       27472  2016-03-31 17:17:06  "
      ]
     },
     "metadata": {},
     "output_type": "display_data"
    }
   ],
   "source": [
    "def df_info(df):\n",
    "    print(df.shape)\n",
    "    print(df.info())\n",
    "    \n",
    "    if df.isna().values.any():\n",
    "        display(pd.DataFrame(df.isna().mean().to_frame(name='gaps')).style.format({'gaps' : '{:.2%}'}))\n",
    "    else: print('No gaps')\n",
    "        \n",
    "    \n",
    "    print('есть ли дупликаты',df.duplicated().values.any())\n",
    "    \n",
    "    display(df.head(10))\n",
    "df_info(df_car)"
   ]
  },
  {
   "cell_type": "code",
   "execution_count": 4,
   "metadata": {},
   "outputs": [
    {
     "data": {
      "text/plain": [
       "False"
      ]
     },
     "execution_count": 4,
     "metadata": {},
     "output_type": "execute_result"
    }
   ],
   "source": [
    "df_car.drop_duplicates(inplace=True)\n",
    "df_car.duplicated().values.any()"
   ]
  },
  {
   "cell_type": "markdown",
   "metadata": {},
   "source": [
    "- Пропуски можно удалить для моделей не использующие градиентный бустинг, как не думаю , что можно корректоно их заполнить или восстановить тк нет зависимости между признаками \n",
    "- или заменить на запись **unknown**"
   ]
  },
  {
   "cell_type": "markdown",
   "metadata": {},
   "source": [
    "удалим даты и PostalCode тк они не понадобятся при обучении"
   ]
  },
  {
   "cell_type": "code",
   "execution_count": 5,
   "metadata": {},
   "outputs": [],
   "source": [
    "df_car.drop(columns = ['DateCrawled', 'DateCreated', 'LastSeen', 'PostalCode', 'NumberOfPictures'], inplace=True)"
   ]
  },
  {
   "cell_type": "code",
   "execution_count": 6,
   "metadata": {},
   "outputs": [
    {
     "data": {
      "text/plain": [
       "False"
      ]
     },
     "execution_count": 6,
     "metadata": {},
     "output_type": "execute_result"
    }
   ],
   "source": [
    "# df = df_car.dropna()\n",
    "df = df_car.fillna('unknown')\n",
    "df.isna().values.any()"
   ]
  },
  {
   "cell_type": "code",
   "execution_count": 7,
   "metadata": {},
   "outputs": [
    {
     "data": {
      "text/html": [
       "<div>\n",
       "<style scoped>\n",
       "    .dataframe tbody tr th:only-of-type {\n",
       "        vertical-align: middle;\n",
       "    }\n",
       "\n",
       "    .dataframe tbody tr th {\n",
       "        vertical-align: top;\n",
       "    }\n",
       "\n",
       "    .dataframe thead th {\n",
       "        text-align: right;\n",
       "    }\n",
       "</style>\n",
       "<table border=\"1\" class=\"dataframe\">\n",
       "  <thead>\n",
       "    <tr style=\"text-align: right;\">\n",
       "      <th></th>\n",
       "      <th>Price</th>\n",
       "      <th>VehicleType</th>\n",
       "      <th>RegistrationYear</th>\n",
       "      <th>Gearbox</th>\n",
       "      <th>Power</th>\n",
       "      <th>Model</th>\n",
       "      <th>Kilometer</th>\n",
       "      <th>RegistrationMonth</th>\n",
       "      <th>FuelType</th>\n",
       "      <th>Brand</th>\n",
       "      <th>Repaired</th>\n",
       "    </tr>\n",
       "  </thead>\n",
       "  <tbody>\n",
       "    <tr>\n",
       "      <th>0</th>\n",
       "      <td>480</td>\n",
       "      <td>unknown</td>\n",
       "      <td>1993</td>\n",
       "      <td>manual</td>\n",
       "      <td>0</td>\n",
       "      <td>golf</td>\n",
       "      <td>150000</td>\n",
       "      <td>0</td>\n",
       "      <td>petrol</td>\n",
       "      <td>volkswagen</td>\n",
       "      <td>unknown</td>\n",
       "    </tr>\n",
       "    <tr>\n",
       "      <th>1</th>\n",
       "      <td>18300</td>\n",
       "      <td>coupe</td>\n",
       "      <td>2011</td>\n",
       "      <td>manual</td>\n",
       "      <td>190</td>\n",
       "      <td>unknown</td>\n",
       "      <td>125000</td>\n",
       "      <td>5</td>\n",
       "      <td>gasoline</td>\n",
       "      <td>audi</td>\n",
       "      <td>yes</td>\n",
       "    </tr>\n",
       "    <tr>\n",
       "      <th>2</th>\n",
       "      <td>9800</td>\n",
       "      <td>suv</td>\n",
       "      <td>2004</td>\n",
       "      <td>auto</td>\n",
       "      <td>163</td>\n",
       "      <td>grand</td>\n",
       "      <td>125000</td>\n",
       "      <td>8</td>\n",
       "      <td>gasoline</td>\n",
       "      <td>jeep</td>\n",
       "      <td>unknown</td>\n",
       "    </tr>\n",
       "    <tr>\n",
       "      <th>3</th>\n",
       "      <td>1500</td>\n",
       "      <td>small</td>\n",
       "      <td>2001</td>\n",
       "      <td>manual</td>\n",
       "      <td>75</td>\n",
       "      <td>golf</td>\n",
       "      <td>150000</td>\n",
       "      <td>6</td>\n",
       "      <td>petrol</td>\n",
       "      <td>volkswagen</td>\n",
       "      <td>no</td>\n",
       "    </tr>\n",
       "    <tr>\n",
       "      <th>4</th>\n",
       "      <td>3600</td>\n",
       "      <td>small</td>\n",
       "      <td>2008</td>\n",
       "      <td>manual</td>\n",
       "      <td>69</td>\n",
       "      <td>fabia</td>\n",
       "      <td>90000</td>\n",
       "      <td>7</td>\n",
       "      <td>gasoline</td>\n",
       "      <td>skoda</td>\n",
       "      <td>no</td>\n",
       "    </tr>\n",
       "  </tbody>\n",
       "</table>\n",
       "</div>"
      ],
      "text/plain": [
       "   Price VehicleType  RegistrationYear Gearbox  Power    Model  Kilometer  \\\n",
       "0    480     unknown              1993  manual      0     golf     150000   \n",
       "1  18300       coupe              2011  manual    190  unknown     125000   \n",
       "2   9800         suv              2004    auto    163    grand     125000   \n",
       "3   1500       small              2001  manual     75     golf     150000   \n",
       "4   3600       small              2008  manual     69    fabia      90000   \n",
       "\n",
       "   RegistrationMonth  FuelType       Brand Repaired  \n",
       "0                  0    petrol  volkswagen  unknown  \n",
       "1                  5  gasoline        audi      yes  \n",
       "2                  8  gasoline        jeep  unknown  \n",
       "3                  6    petrol  volkswagen       no  \n",
       "4                  7  gasoline       skoda       no  "
      ]
     },
     "execution_count": 7,
     "metadata": {},
     "output_type": "execute_result"
    }
   ],
   "source": [
    "df.head()"
   ]
  },
  {
   "cell_type": "code",
   "execution_count": 8,
   "metadata": {},
   "outputs": [
    {
     "data": {
      "text/plain": [
       "<AxesSubplot:>"
      ]
     },
     "execution_count": 8,
     "metadata": {},
     "output_type": "execute_result"
    },
    {
     "data": {
      "image/png": "[encoded data removed]",
      "text/plain": [
       "<Figure size 432x288 with 1 Axes>"
      ]
     },
     "metadata": {
      "needs_background": "light"
     },
     "output_type": "display_data"
    }
   ],
   "source": [
    "df.boxplot(column=['Price', 'RegistrationYear', 'Power', 'Kilometer', 'RegistrationMonth'])"
   ]
  },
  {
   "cell_type": "code",
   "execution_count": 9,
   "metadata": {
    "scrolled": true
   },
   "outputs": [
    {
     "name": "stdout",
     "output_type": "stream",
     "text": [
      "----- Price ----\n",
      "[  480 18300  9800 ... 12395 18429 10985]\n",
      "==================\n",
      "----- RegistrationYear ----\n",
      "[1993 2011 2004 2001 2008 1995 1980 2014 1998 2005 1910 2016 2007 2009\n",
      " 2002 2018 1997 1990 2017 1981 2003 1994 1991 1984 2006 1999 2012 2010\n",
      " 2000 1992 2013 1996 1985 1989 2015 1982 1976 1983 1973 1111 1969 1971\n",
      " 1987 1986 1988 1970 1965 1945 1925 1974 1979 1955 1978 1972 1968 1977\n",
      " 1961 1960 1966 1975 1963 1964 5000 1954 1958 1967 1959 9999 1956 3200\n",
      " 1000 1941 8888 1500 2200 4100 1962 1929 1957 1940 3000 2066 1949 2019\n",
      " 1937 1951 1800 1953 1234 8000 5300 9000 2900 6000 5900 5911 1933 1400\n",
      " 1950 4000 1948 1952 1200 8500 1932 1255 3700 3800 4800 1942 7000 1935\n",
      " 1936 6500 1923 2290 2500 1930 1001 9450 1944 1943 1934 1938 1688 2800\n",
      " 1253 1928 1919 5555 5600 1600 2222 1039 9996 1300 8455 1931 1915 4500\n",
      " 1920 1602 7800 9229 1947 1927 7100 8200 1946 7500 3500]\n",
      "==================\n",
      "----- Power ----\n",
      "[    0   190   163    75    69   102   109    50   125   101   105   140\n",
      "   115   131    60   136   160   231    90   118   193    99   113   218\n",
      "   122   129    70   306    95    61   177    80   170    55   143    64\n",
      "   286   232   150   156    82   155    54   185    87   180    86    84\n",
      "   224   235   200   178   265    77   110   144   120   116   184   126\n",
      "   204    88   194   305   197   179   250    45   313    41   165    98\n",
      "   130   114   211    56   201   213    58   107    83   174   100   220\n",
      "    85    73   192    68    66   299    74    52   147    65   310    71\n",
      "    97   239   203     5   300   103   258   320    63    81   148    44\n",
      "   145   230   280   260   104   188   333   186   117   141    59   132\n",
      "   234   158    39    92    51   135    53   209    43   146    67   106\n",
      "   166   276   344    72   249   237   245   111   326   279    23   138\n",
      "   175    96   226    26    37   301   334   128   133   124    33   219\n",
      "   241   167    94   182   196   238  1398   228   112    48   272   139\n",
      "  1799    40   240    79   256   360   243   375   252   396   340   108\n",
      "   121   345   187   289   222   198   284   450   233   387   152   347\n",
      "   172    57   137   212   476   314    30     7    47   173   290   207\n",
      "   205   171   750    78    91    89   349   325    76   151   350   953\n",
      "    93   142   500   343   199   119   164    16   264   367   208   210\n",
      "    46   435  1001   225   127   176   161   603   307   354    35   206\n",
      "   771   355   273   223   255   123   154   149  7515  1400   268   620\n",
      "   169   400   275    34     2   242  1779   285   162   328  1753   329\n",
      "   134   420   247   168 10317   215    18   330   283    62    10   214\n",
      "   183   254    15   321   322   315   952   600   181   426   599   379\n",
      "   999    22   157    42   195   553     4   309   507   381   271   440\n",
      "   189   401  1111  2729    21   236  1240  1704   521     1  1900   270\n",
      "    24   159   292   808   515  1200   303    29    38  1993    14   216\n",
      "   610   504    49   267   331   363   261   385  1011   253   696 10520\n",
      "   376   227   311    27   217    20  1999    11  1056    25   394    12\n",
      "   298   296  1659   294   551  6920   246    17  1800  1625   368   390\n",
      "   221  1367   259   606   327  2017  1597   266   374   392     9   405\n",
      "    13   262   601   430   295     8   411   900   541  7512   382 10218\n",
      "  7544  1102   287    19   751   297  1090   457   282   602   388     6\n",
      "  1000  5411   335  1360   202  3750   805  1062  1024 11530   364  1796\n",
      "  5000   269   460  1002   288  1780 12012 17932   316  2005  1399   191\n",
      "   278  1300   380   257   449  1256   153  1653   520   560   281 12510\n",
      "     3  1500   386    32  1202  2016  1436  1405   671   274  1288  1055\n",
      " 10912 15016  6226  1115   277  1105   341  1223  2340  8404  1968   338\n",
      "   445  1920   370   517  4400 10710 10522  9010   431  1164 11509   371\n",
      "  1501   428 11635    36   304   348  1703  1910  1995   579 10000   580\n",
      "   408    31  1005   358  1403   489  5575 19211   585   960   365   353\n",
      "   490   352  1801   346   550  3199   800  7508  1312   357  1937   950\n",
      "  4700  1600  3454 19208   251   850   337   700  8011  2331  2789   487\n",
      "   519  2461  6006  3500  5815  6018  1781  1503   612  1596   229  1506\n",
      "  5809 15020  5867  2172  1598 17410  1363   584  1054   851  1339   318\n",
      "   510   525  1700    28  1151   685  6011   317   703  1771 15001   514\n",
      "   362   332   324  6045   530   425   308  6010   475   903   640  2000\n",
      "   248   651  2799 17011   505  1103  1521   351 16051   398  9000  1998\n",
      " 10311   409  1230 17019 12684  8259  1895   901  1317   871   909  2201\n",
      "  1595   776 17700 11011  1199   459  1162  1120 15033  1896   339   361\n",
      "   574  6512   454   650 13616   604   607 16312  1082   336 20000   416\n",
      "   678  6012  1401  1021  1870 13636  1250  9710   323  1158  2009   902\n",
      "  6062  1275   572   244   399  1016   743  1221  2402 16011  1362   544\n",
      "   645   907   702 12512  1986  1003  1432  9013  9011   442  1017  1394\n",
      " 15017 10910  1992   540  2018 11025  1433  1701  2792  1502  1239  1390\n",
      " 14009  1160  1351 11111  1783  9007   923  1149   754  1988   402  2004\n",
      "  5420  1793  1324   356  7511  1299   293 19312  1079  1689   998  1100\n",
      "  9012  1933   508 16311   682  1252  1922  7529   732  2389  2200  1707\n",
      "  1416  8500  1012   485  3000 10110   421  4507  1631  7518   377  1004\n",
      "  2007  2598  1548  1241]\n",
      "==================\n",
      "----- Kilometer ----\n",
      "[150000 125000  90000  40000  30000  70000   5000 100000  60000  20000\n",
      "  80000  50000  10000]\n",
      "==================\n",
      "----- RegistrationMonth ----\n",
      "[ 0  5  8  6  7 10 12 11  2  3  1  4  9]\n",
      "==================\n"
     ]
    }
   ],
   "source": [
    "for col in ['Price', 'RegistrationYear', 'Power', 'Kilometer', 'RegistrationMonth']:\n",
    "    print('-----', col, '----')\n",
    "    print(df[col].unique())\n",
    "    print('==================')"
   ]
  },
  {
   "cell_type": "code",
   "execution_count": 10,
   "metadata": {},
   "outputs": [],
   "source": [
    "df.loc[df['Power'] > 1500, 'Power'] = 0"
   ]
  },
  {
   "cell_type": "code",
   "execution_count": 11,
   "metadata": {
    "scrolled": true
   },
   "outputs": [
    {
     "data": {
      "text/plain": [
       "array([   0,  190,  163,   75,   69,  102,  109,   50,  125,  101,  105,\n",
       "        140,  115,  131,   60,  136,  160,  231,   90,  118,  193,   99,\n",
       "        113,  218,  122,  129,   70,  306,   95,   61,  177,   80,  170,\n",
       "         55,  143,   64,  286,  232,  150,  156,   82,  155,   54,  185,\n",
       "         87,  180,   86,   84,  224,  235,  200,  178,  265,   77,  110,\n",
       "        144,  120,  116,  184,  126,  204,   88,  194,  305,  197,  179,\n",
       "        250,   45,  313,   41,  165,   98,  130,  114,  211,   56,  201,\n",
       "        213,   58,  107,   83,  174,  100,  220,   85,   73,  192,   68,\n",
       "         66,  299,   74,   52,  147,   65,  310,   71,   97,  239,  203,\n",
       "          5,  300,  103,  258,  320,   63,   81,  148,   44,  145,  230,\n",
       "        280,  260,  104,  188,  333,  186,  117,  141,   59,  132,  234,\n",
       "        158,   39,   92,   51,  135,   53,  209,   43,  146,   67,  106,\n",
       "        166,  276,  344,   72,  249,  237,  245,  111,  326,  279,   23,\n",
       "        138,  175,   96,  226,   26,   37,  301,  334,  128,  133,  124,\n",
       "         33,  219,  241,  167,   94,  182,  196,  238, 1398,  228,  112,\n",
       "         48,  272,  139,   40,  240,   79,  256,  360,  243,  375,  252,\n",
       "        396,  340,  108,  121,  345,  187,  289,  222,  198,  284,  450,\n",
       "        233,  387,  152,  347,  172,   57,  137,  212,  476,  314,   30,\n",
       "          7,   47,  173,  290,  207,  205,  171,  750,   78,   91,   89,\n",
       "        349,  325,   76,  151,  350,  953,   93,  142,  500,  343,  199,\n",
       "        119,  164,   16,  264,  367,  208,  210,   46,  435, 1001,  225,\n",
       "        127,  176,  161,  603,  307,  354,   35,  206,  771,  355,  273,\n",
       "        223,  255,  123,  154,  149, 1400,  268,  620,  169,  400,  275,\n",
       "         34,    2,  242,  285,  162,  328,  329,  134,  420,  247,  168,\n",
       "        215,   18,  330,  283,   62,   10,  214,  183,  254,   15,  321,\n",
       "        322,  315,  952,  600,  181,  426,  599,  379,  999,   22,  157,\n",
       "         42,  195,  553,    4,  309,  507,  381,  271,  440,  189,  401,\n",
       "       1111,   21,  236, 1240,  521,    1,  270,   24,  159,  292,  808,\n",
       "        515, 1200,  303,   29,   38,   14,  216,  610,  504,   49,  267,\n",
       "        331,  363,  261,  385, 1011,  253,  696,  376,  227,  311,   27,\n",
       "        217,   20,   11, 1056,   25,  394,   12,  298,  296,  294,  551,\n",
       "        246,   17,  368,  390,  221, 1367,  259,  606,  327,  266,  374,\n",
       "        392,    9,  405,   13,  262,  601,  430,  295,    8,  411,  900,\n",
       "        541,  382, 1102,  287,   19,  751,  297, 1090,  457,  282,  602,\n",
       "        388,    6, 1000,  335, 1360,  202,  805, 1062, 1024,  364,  269,\n",
       "        460, 1002,  288,  316, 1399,  191,  278, 1300,  380,  257,  449,\n",
       "       1256,  153,  520,  560,  281,    3, 1500,  386,   32, 1202, 1436,\n",
       "       1405,  671,  274, 1288, 1055, 1115,  277, 1105,  341, 1223,  338,\n",
       "        445,  370,  517,  431, 1164,  371,  428,   36,  304,  348,  579,\n",
       "        580,  408,   31, 1005,  358, 1403,  489,  585,  960,  365,  353,\n",
       "        490,  352,  346,  550,  800, 1312,  357,  950,  251,  850,  337,\n",
       "        700,  487,  519,  612,  229, 1363,  584, 1054,  851, 1339,  318,\n",
       "        510,  525,   28, 1151,  685,  317,  703,  514,  362,  332,  324,\n",
       "        530,  425,  308,  475,  903,  640,  248,  651,  505, 1103,  351,\n",
       "        398,  409, 1230,  901, 1317,  871,  909,  776, 1199,  459, 1162,\n",
       "       1120,  339,  361,  574,  454,  650,  604,  607, 1082,  336,  416,\n",
       "        678, 1401, 1021, 1250,  323, 1158,  902, 1275,  572,  244,  399,\n",
       "       1016,  743, 1221, 1362,  544,  645,  907,  702, 1003, 1432,  442,\n",
       "       1017, 1394,  540, 1433, 1239, 1390, 1160, 1351,  923, 1149,  754,\n",
       "        402, 1324,  356, 1299,  293, 1079,  998, 1100,  508,  682, 1252,\n",
       "        732, 1416, 1012,  485,  421,  377, 1004, 1241])"
      ]
     },
     "execution_count": 11,
     "metadata": {},
     "output_type": "execute_result"
    }
   ],
   "source": [
    "df['Power'].unique()"
   ]
  },
  {
   "cell_type": "code",
   "execution_count": 12,
   "metadata": {},
   "outputs": [],
   "source": [
    "df.loc[(df['RegistrationYear'] < 1900 ) | (df['RegistrationYear'] > 2023), 'RegistrationYear'] = 0"
   ]
  },
  {
   "cell_type": "code",
   "execution_count": 13,
   "metadata": {},
   "outputs": [
    {
     "data": {
      "text/plain": [
       "array([1993, 2011, 2004, 2001, 2008, 1995, 1980, 2014, 1998, 2005, 1910,\n",
       "       2016, 2007, 2009, 2002, 2018, 1997, 1990, 2017, 1981, 2003, 1994,\n",
       "       1991, 1984, 2006, 1999, 2012, 2010, 2000, 1992, 2013, 1996, 1985,\n",
       "       1989, 2015, 1982, 1976, 1983, 1973,    0, 1969, 1971, 1987, 1986,\n",
       "       1988, 1970, 1965, 1945, 1925, 1974, 1979, 1955, 1978, 1972, 1968,\n",
       "       1977, 1961, 1960, 1966, 1975, 1963, 1964, 1954, 1958, 1967, 1959,\n",
       "       1956, 1941, 1962, 1929, 1957, 1940, 1949, 2019, 1937, 1951, 1953,\n",
       "       1933, 1950, 1948, 1952, 1932, 1942, 1935, 1936, 1923, 1930, 1944,\n",
       "       1943, 1934, 1938, 1928, 1919, 1931, 1915, 1920, 1947, 1927, 1946])"
      ]
     },
     "execution_count": 13,
     "metadata": {},
     "output_type": "execute_result"
    }
   ],
   "source": [
    "df['RegistrationYear'].unique()"
   ]
  },
  {
   "cell_type": "markdown",
   "metadata": {},
   "source": [
    "- **Достаточно много аномальных значаний в 2 колонках , все аномальные значения я перевел в 0 (как не известные)**"
   ]
  },
  {
   "cell_type": "markdown",
   "metadata": {},
   "source": [
    "отдельно сделаем переменную для категориальных прихнаков , понадобиться и в преобразовании в численный тип данных и для градиентного бустинга "
   ]
  },
  {
   "cell_type": "code",
   "execution_count": 14,
   "metadata": {},
   "outputs": [],
   "source": [
    "cat_col = ['VehicleType', 'Gearbox', 'Model', 'FuelType', 'Brand', 'Repaired', 'RegistrationYear', 'RegistrationMonth']\n",
    "num_col = ['Power', 'Kilometer']"
   ]
  },
  {
   "cell_type": "markdown",
   "metadata": {},
   "source": [
    "так же посмотрим как коррелируют данные"
   ]
  },
  {
   "cell_type": "code",
   "execution_count": 15,
   "metadata": {},
   "outputs": [],
   "source": [
    "# plt.subplots(figsize=(9, 6))\n",
    "# sns.heatmap(df.corr(), annot=True, fmt=\".1f\")"
   ]
  },
  {
   "cell_type": "code",
   "execution_count": 16,
   "metadata": {},
   "outputs": [],
   "source": [
    "y = df['Price']\n",
    "X = df.drop(columns=('Price'))"
   ]
  },
  {
   "cell_type": "code",
   "execution_count": 17,
   "metadata": {},
   "outputs": [],
   "source": [
    "X_train, X_test, y_train, y_test = train_test_split(X, y, test_size=.25)"
   ]
  },
  {
   "cell_type": "markdown",
   "metadata": {},
   "source": [
    "## Обучение моделей"
   ]
  },
  {
   "cell_type": "markdown",
   "metadata": {},
   "source": [
    "- Напишем функцию для подсчета времени и лучшего скора"
   ]
  },
  {
   "cell_type": "code",
   "execution_count": 18,
   "metadata": {},
   "outputs": [],
   "source": [
    "def model_time(model, features_train, target_train, features_test, target_test, cv):\n",
    "    now = time.time()\n",
    "    model.fit(features_train, target_train)\n",
    "    training_time = time.time() - now\n",
    "    \n",
    "    now = time.time()\n",
    "    predicted = model.predict(features_test)\n",
    "    predict_time = time.time() - now\n",
    "    rmse = mean_squared_error(target_test, predicted, squared=False)\n",
    "    \n",
    "    all_time = training_time + predict_time\n",
    "    \n",
    "    return training_time, predict_time, all_time, rmse, -cv"
   ]
  },
  {
   "cell_type": "markdown",
   "metadata": {},
   "source": [
    "### LinearRegression"
   ]
  },
  {
   "cell_type": "code",
   "execution_count": 20,
   "metadata": {},
   "outputs": [
    {
     "name": "stdout",
     "output_type": "stream",
     "text": [
      "Best random search hyperparameters are: {'model__fit_intercept': False, 'model__copy_X': True}\n",
      "Best random search score is: 2296.3688753229585\n",
      "CPU times: user 2min 21s, sys: 3min 59s, total: 6min 21s\n",
      "Wall time: 6min 22s\n"
     ]
    }
   ],
   "source": [
    "%%time\n",
    "\n",
    "preprocessor = ColumnTransformer(\n",
    "    transformers=[\n",
    "        ('num', StandardScaler(with_mean=False), num_col),\n",
    "        ('cat', OneHotEncoder(handle_unknown='ignore'), cat_col)])\n",
    "\n",
    "# clf = Pipeline(steps=[('preprocessor', preprocessor),\n",
    "#                   ('classifier', LogisticRegression(solver='lbfgs'))]) \n",
    "\n",
    "pipe = Pipeline([\n",
    "    ('preprocessor', preprocessor),\n",
    "    ('model', LinearRegression())\n",
    "])\n",
    "\n",
    "params = {'model__fit_intercept' : [True, False]\n",
    "         , 'model__copy_X' : [True, False]\n",
    "         }\n",
    "rs_lr = RandomizedSearchCV(pipe, params, scoring='neg_root_mean_squared_error', cv=3, n_jobs=-1)\n",
    "\n",
    "model_random_lr = rs_lr.fit(X_train,y_train)\n",
    "\n",
    "# random random search results\n",
    "best_lr_params = model_random_lr.best_params_\n",
    "print('Best random search hyperparameters are: '+str(model_random_lr.best_params_))\n",
    "print('Best random search score is: '+str(-model_random_lr.best_score_))"
   ]
  },
  {
   "cell_type": "code",
   "execution_count": 21,
   "metadata": {},
   "outputs": [
    {
     "name": "stdout",
     "output_type": "stream",
     "text": [
      "Best random search hyperparameters are: {'model__fit_intercept': True, 'model__copy_X': True}\n",
      "Best random search score is: 2140.867800409463\n",
      "CPU times: user 23.3 s, sys: 30.8 s, total: 54.1 s\n",
      "Wall time: 54.4 s\n"
     ]
    }
   ],
   "source": [
    "%%time\n",
    "pipe = Pipeline([\n",
    "    ('ohe', OneHotEncoder(handle_unknown='ignore')),\n",
    "    ('scaler', StandardScaler(with_mean=False)),\n",
    "    ('model', LinearRegression())\n",
    "])\n",
    "\n",
    "params = {'model__fit_intercept' : [True, False]\n",
    "         , 'model__copy_X' : [True, False]\n",
    "         }\n",
    "rs_lr = RandomizedSearchCV(pipe, params, scoring='neg_root_mean_squared_error', cv=3, n_jobs=-1)\n",
    "\n",
    "model_random_lr = rs_lr.fit(X_train,y_train)\n",
    "\n",
    "# random random search results\n",
    "best_lr_params = model_random_lr.best_params_\n",
    "print('Best random search hyperparameters are: '+str(model_random_lr.best_params_))\n",
    "print('Best random search score is: '+str(-model_random_lr.best_score_))"
   ]
  },
  {
   "cell_type": "code",
   "execution_count": 22,
   "metadata": {},
   "outputs": [
    {
     "data": {
      "text/html": [
       "<style>div.sk-top-container {color: black;background-color: white;}div.sk-toggleable {background-color: white;}label.sk-toggleable__label {cursor: pointer;display: block;width: 100%;margin-bottom: 0;padding: 0.2em 0.3em;box-sizing: border-box;text-align: center;}div.sk-toggleable__content {max-height: 0;max-width: 0;overflow: hidden;text-align: left;background-color: #f0f8ff;}div.sk-toggleable__content pre {margin: 0.2em;color: black;border-radius: 0.25em;background-color: #f0f8ff;}input.sk-toggleable__control:checked~div.sk-toggleable__content {max-height: 200px;max-width: 100%;overflow: auto;}div.sk-estimator input.sk-toggleable__control:checked~label.sk-toggleable__label {background-color: #d4ebff;}div.sk-label input.sk-toggleable__control:checked~label.sk-toggleable__label {background-color: #d4ebff;}input.sk-hidden--visually {border: 0;clip: rect(1px 1px 1px 1px);clip: rect(1px, 1px, 1px, 1px);height: 1px;margin: -1px;overflow: hidden;padding: 0;position: absolute;width: 1px;}div.sk-estimator {font-family: monospace;background-color: #f0f8ff;margin: 0.25em 0.25em;border: 1px dotted black;border-radius: 0.25em;box-sizing: border-box;}div.sk-estimator:hover {background-color: #d4ebff;}div.sk-parallel-item::after {content: \"\";width: 100%;border-bottom: 1px solid gray;flex-grow: 1;}div.sk-label:hover label.sk-toggleable__label {background-color: #d4ebff;}div.sk-serial::before {content: \"\";position: absolute;border-left: 1px solid gray;box-sizing: border-box;top: 2em;bottom: 0;left: 50%;}div.sk-serial {display: flex;flex-direction: column;align-items: center;background-color: white;}div.sk-item {z-index: 1;}div.sk-parallel {display: flex;align-items: stretch;justify-content: center;background-color: white;}div.sk-parallel-item {display: flex;flex-direction: column;position: relative;background-color: white;}div.sk-parallel-item:first-child::after {align-self: flex-end;width: 50%;}div.sk-parallel-item:last-child::after {align-self: flex-start;width: 50%;}div.sk-parallel-item:only-child::after {width: 0;}div.sk-dashed-wrapped {border: 1px dashed gray;margin: 0.2em;box-sizing: border-box;padding-bottom: 0.1em;background-color: white;position: relative;}div.sk-label label {font-family: monospace;font-weight: bold;background-color: white;display: inline-block;line-height: 1.2em;}div.sk-label-container {position: relative;z-index: 2;text-align: center;}div.sk-container {display: inline-block;position: relative;}</style><div class=\"sk-top-container\"><div class=\"sk-container\"><div class=\"sk-item sk-dashed-wrapped\"><div class=\"sk-label-container\"><div class=\"sk-label sk-toggleable\"><input class=\"sk-toggleable__control sk-hidden--visually\" id=\"8cd002e8-015c-436f-a380-5343b097fc81\" type=\"checkbox\" ><label class=\"sk-toggleable__label\" for=\"8cd002e8-015c-436f-a380-5343b097fc81\">Pipeline</label><div class=\"sk-toggleable__content\"><pre>Pipeline(steps=[('ohe', OneHotEncoder(handle_unknown='ignore')),\n",
       "                ('scaler', StandardScaler(with_mean=False)),\n",
       "                ('model', LinearRegression())])</pre></div></div></div><div class=\"sk-serial\"><div class=\"sk-item\"><div class=\"sk-estimator sk-toggleable\"><input class=\"sk-toggleable__control sk-hidden--visually\" id=\"2d94ca46-e152-4f43-9b87-90336a219bcf\" type=\"checkbox\" ><label class=\"sk-toggleable__label\" for=\"2d94ca46-e152-4f43-9b87-90336a219bcf\">OneHotEncoder</label><div class=\"sk-toggleable__content\"><pre>OneHotEncoder(handle_unknown='ignore')</pre></div></div></div><div class=\"sk-item\"><div class=\"sk-estimator sk-toggleable\"><input class=\"sk-toggleable__control sk-hidden--visually\" id=\"45ff96cf-c8da-4cbd-bb0e-3cc2c8283a00\" type=\"checkbox\" ><label class=\"sk-toggleable__label\" for=\"45ff96cf-c8da-4cbd-bb0e-3cc2c8283a00\">StandardScaler</label><div class=\"sk-toggleable__content\"><pre>StandardScaler(with_mean=False)</pre></div></div></div><div class=\"sk-item\"><div class=\"sk-estimator sk-toggleable\"><input class=\"sk-toggleable__control sk-hidden--visually\" id=\"9ccbc9c7-f9f0-4f71-b146-f5e5e2fedebd\" type=\"checkbox\" ><label class=\"sk-toggleable__label\" for=\"9ccbc9c7-f9f0-4f71-b146-f5e5e2fedebd\">LinearRegression</label><div class=\"sk-toggleable__content\"><pre>LinearRegression()</pre></div></div></div></div></div></div></div>"
      ],
      "text/plain": [
       "Pipeline(steps=[('ohe', OneHotEncoder(handle_unknown='ignore')),\n",
       "                ('scaler', StandardScaler(with_mean=False)),\n",
       "                ('model', LinearRegression())])"
      ]
     },
     "execution_count": 22,
     "metadata": {},
     "output_type": "execute_result"
    }
   ],
   "source": [
    "from sklearn import set_config\n",
    "set_config(display='diagram')   \n",
    "# diplays HTML representation in a jupyter context\n",
    "pipe  "
   ]
  },
  {
   "cell_type": "code",
   "execution_count": 23,
   "metadata": {},
   "outputs": [
    {
     "data": {
      "text/plain": [
       "2149.7264870251606"
      ]
     },
     "execution_count": 23,
     "metadata": {},
     "output_type": "execute_result"
    }
   ],
   "source": [
    "lr = Pipeline([\n",
    "    ('ohe', OneHotEncoder(handle_unknown='ignore')),\n",
    "    ('scaler', StandardScaler(with_mean=False)),\n",
    "    ('model', LinearRegression(fit_intercept=True, copy_X=True))\n",
    "]) \n",
    "\n",
    "lr_model = lr.fit(X_train,y_train)\n",
    "\n",
    "predict_ = lr_model.predict(X_test)\n",
    "\n",
    "mean_squared_error(y_test, predict_, squared= False)"
   ]
  },
  {
   "cell_type": "code",
   "execution_count": 24,
   "metadata": {},
   "outputs": [],
   "source": [
    "lr_m = model_time(lr, X_train, y_train, X_test, y_test, model_random_lr.best_score_)"
   ]
  },
  {
   "cell_type": "markdown",
   "metadata": {},
   "source": [
    "### Ridge"
   ]
  },
  {
   "cell_type": "code",
   "execution_count": 25,
   "metadata": {},
   "outputs": [
    {
     "name": "stdout",
     "output_type": "stream",
     "text": [
      "Best random search hyperparameters are: {'model__fit_intercept': True, 'model__copy_X': True, 'model__alpha': 0.11288378916846889}\n",
      "Best random search score is: 2295.824126014539\n",
      "CPU times: user 26.1 s, sys: 1.07 s, total: 27.1 s\n",
      "Wall time: 27.2 s\n"
     ]
    }
   ],
   "source": [
    "%%time\n",
    "\n",
    "\n",
    "\n",
    "# clf = Pipeline(steps=[('preprocessor', preprocessor),\n",
    "#                   ('classifier', LogisticRegression(solver='lbfgs'))]) \n",
    "\n",
    "pipe = Pipeline([\n",
    "    ('preprocessor', preprocessor),\n",
    "    ('model', Ridge(random_state=12345))\n",
    "])\n",
    "\n",
    "params = {'model__fit_intercept' : [True, False]\n",
    "         , 'model__copy_X' : [True, False]\n",
    "         , 'model__alpha': np.logspace(-2, 3, 20)\n",
    "         }\n",
    "rs_ridge = RandomizedSearchCV(pipe, params, scoring='neg_root_mean_squared_error', cv=3, n_jobs=-1)\n",
    "\n",
    "model_random_ridge = rs_ridge.fit(X_train,y_train)\n",
    "\n",
    "# random random search results\n",
    "best_ridge_params = model_random_ridge.best_params_\n",
    "print('Best random search hyperparameters are: '+str(model_random_ridge.best_params_))\n",
    "print('Best random search score is: '+str(-model_random_ridge.best_score_))"
   ]
  },
  {
   "cell_type": "code",
   "execution_count": 26,
   "metadata": {},
   "outputs": [],
   "source": [
    "ridge = Pipeline([\n",
    "    ('ohe', OneHotEncoder(handle_unknown='ignore')),\n",
    "    ('scaler', StandardScaler(with_mean=False)),\n",
    "    ('model', Ridge(fit_intercept=True, copy_X=True, alpha=545.5, random_state=12345))\n",
    "])"
   ]
  },
  {
   "cell_type": "code",
   "execution_count": 27,
   "metadata": {},
   "outputs": [],
   "source": [
    "r_m = model_time(ridge, X_train, y_train, X_test, y_test, model_random_ridge.best_score_)"
   ]
  },
  {
   "cell_type": "markdown",
   "metadata": {},
   "source": [
    "###  LightGBM"
   ]
  },
  {
   "cell_type": "code",
   "execution_count": 29,
   "metadata": {
    "scrolled": false
   },
   "outputs": [
    {
     "name": "stdout",
     "output_type": "stream",
     "text": [
      "Fitting 3 folds for each of 10 candidates, totalling 30 fits\n",
      "Best random search hyperparameters are: {'lgbm__num_leaves': 41, 'lgbm__n_estimators': 40, 'lgbm__learning_rate': 0.1778279410038923}\n",
      "Best random search score is: 1872.1847546070196\n",
      "CPU times: user 24min, sys: 8.25 s, total: 24min 8s\n",
      "Wall time: 24min 21s\n"
     ]
    }
   ],
   "source": [
    "%%time\n",
    "preprocessor = ColumnTransformer(\n",
    "    transformers=[\n",
    "        ('cat', OrdinalEncoder(handle_unknown='ignore'), cat_col)]\n",
    "    , remainder='passthrough')\n",
    "\n",
    "pipe_1 = Pipeline([\n",
    "    ('encoder', preprocessor),\n",
    "    ('lgbm', LGBMRegressor(boosting_type='gbdt', random_state=12345))\n",
    "    \n",
    "])\n",
    "\n",
    "# lgbm = LGBMRegressor(boosting_type='gbdt', random_state=12345)\n",
    "params = {\n",
    "    'lgbm__learning_rate': np.logspace(-3, 0, 5),\n",
    "    'lgbm__n_estimators': [40, 60],\n",
    "    'lgbm__num_leaves': [31, 41, 51]\n",
    "}\n",
    "\n",
    "gs_gbm =  RandomizedSearchCV(pipe_1, params, cv=3, scoring='neg_root_mean_squared_error', verbose=True)\n",
    "\n",
    "model_random_gbm = gs_gbm.fit(X_train,y_train)\n",
    "\n",
    "# random random search results\n",
    "best_ridge_params = model_random_gbm.best_params_\n",
    "print('Best random search hyperparameters are: '+str(model_random_gbm.best_params_))\n",
    "print('Best random search score is: '+str(-model_random_gbm.best_score_))"
   ]
  },
  {
   "cell_type": "code",
   "execution_count": 30,
   "metadata": {},
   "outputs": [
    {
     "data": {
      "text/plain": [
       "dict_keys(['memory', 'steps', 'verbose', 'encoder', 'lgbm', 'encoder__n_jobs', 'encoder__remainder', 'encoder__sparse_threshold', 'encoder__transformer_weights', 'encoder__transformers', 'encoder__verbose', 'encoder__cat', 'encoder__cat__categories', 'encoder__cat__dtype', 'encoder__cat__handle_unknown', 'encoder__cat__unknown_value', 'lgbm__boosting_type', 'lgbm__class_weight', 'lgbm__colsample_bytree', 'lgbm__importance_type', 'lgbm__learning_rate', 'lgbm__max_depth', 'lgbm__min_child_samples', 'lgbm__min_child_weight', 'lgbm__min_split_gain', 'lgbm__n_estimators', 'lgbm__n_jobs', 'lgbm__num_leaves', 'lgbm__objective', 'lgbm__random_state', 'lgbm__reg_alpha', 'lgbm__reg_lambda', 'lgbm__silent', 'lgbm__subsample', 'lgbm__subsample_for_bin', 'lgbm__subsample_freq'])"
      ]
     },
     "execution_count": 30,
     "metadata": {},
     "output_type": "execute_result"
    }
   ],
   "source": [
    "pipe_1.get_params().keys()"
   ]
  },
  {
   "cell_type": "code",
   "execution_count": 31,
   "metadata": {},
   "outputs": [],
   "source": [
    "lgbm_best = Pipeline([\n",
    "    ('encoder', preprocessor),\n",
    "    ('model', LGBMRegressor(boosting_type='gbdt', num_leaves=31, n_estimators=40, learning_rate=1.0, random_state=12345))\n",
    "])\n"
   ]
  },
  {
   "cell_type": "code",
   "execution_count": 32,
   "metadata": {},
   "outputs": [],
   "source": [
    "lgbm_m = model_time(lgbm_best, X_train, y_train, X_test, y_test, model_random_gbm.best_score_)"
   ]
  },
  {
   "cell_type": "markdown",
   "metadata": {},
   "source": [
    "### CarBoost"
   ]
  },
  {
   "cell_type": "code",
   "execution_count": 33,
   "metadata": {},
   "outputs": [
    {
     "name": "stdout",
     "output_type": "stream",
     "text": [
      "Fitting 3 folds for each of 10 candidates, totalling 30 fits\n",
      "Best random search hyperparameters are: {'learning_rate': 0.1778279410038923, 'iterations': 60, 'depth': 10}\n",
      "Best random search score is: 1840.4999202879646\n"
     ]
    }
   ],
   "source": [
    "cbr = CatBoostRegressor(random_seed=12345,\n",
    "                        loss_function='RMSE',\n",
    "                        silent=True,\n",
    "                        cat_features=cat_col)\n",
    "\n",
    "params = {\n",
    "    'learning_rate': np.logspace(-3, 0, 5),\n",
    "    'iterations': [40, 60],\n",
    "    'depth': [d for d in range(2, 11)],\n",
    "}\n",
    "\n",
    "cat =  RandomizedSearchCV(cbr, params, cv=3, scoring='neg_root_mean_squared_error', verbose=True)\n",
    "\n",
    "model_random_cat = cat.fit(X_train,y_train)\n",
    "\n",
    "# random random search results\n",
    "best_ridge_params = model_random_cat.best_params_\n",
    "print('Best random search hyperparameters are: '+str(model_random_cat.best_params_))\n",
    "print('Best random search score is: '+str(-model_random_cat.best_score_))"
   ]
  },
  {
   "cell_type": "code",
   "execution_count": 34,
   "metadata": {},
   "outputs": [],
   "source": [
    "cbr_best = CatBoostRegressor(learning_rate=0.1778279410038923,\n",
    "                        iterations=60,\n",
    "                        depth=7,\n",
    "                        random_seed=12345,\n",
    "                        loss_function='RMSE',\n",
    "                        silent=True,\n",
    "                        cat_features=cat_col)"
   ]
  },
  {
   "cell_type": "code",
   "execution_count": 35,
   "metadata": {},
   "outputs": [],
   "source": [
    "cbr_m = model_time(cbr_best, X_train, y_train, X_test, y_test, model_random_cat.best_score_)"
   ]
  },
  {
   "cell_type": "markdown",
   "metadata": {},
   "source": [
    "## Анализ моделей"
   ]
  },
  {
   "cell_type": "code",
   "execution_count": 36,
   "metadata": {},
   "outputs": [
    {
     "data": {
      "text/html": [
       "<div>\n",
       "<style scoped>\n",
       "    .dataframe tbody tr th:only-of-type {\n",
       "        vertical-align: middle;\n",
       "    }\n",
       "\n",
       "    .dataframe tbody tr th {\n",
       "        vertical-align: top;\n",
       "    }\n",
       "\n",
       "    .dataframe thead th {\n",
       "        text-align: right;\n",
       "    }\n",
       "</style>\n",
       "<table border=\"1\" class=\"dataframe\">\n",
       "  <thead>\n",
       "    <tr style=\"text-align: right;\">\n",
       "      <th></th>\n",
       "      <th>trainig_time</th>\n",
       "      <th>predic_time</th>\n",
       "      <th>all_time</th>\n",
       "      <th>RMSE</th>\n",
       "      <th>CV RMSE</th>\n",
       "    </tr>\n",
       "  </thead>\n",
       "  <tbody>\n",
       "    <tr>\n",
       "      <th>LinearRegression</th>\n",
       "      <td>5.247621</td>\n",
       "      <td>0.190802</td>\n",
       "      <td>5.438423</td>\n",
       "      <td>2149.726487</td>\n",
       "      <td>2140.867800</td>\n",
       "    </tr>\n",
       "    <tr>\n",
       "      <th>Ridge</th>\n",
       "      <td>0.712509</td>\n",
       "      <td>0.151169</td>\n",
       "      <td>0.863678</td>\n",
       "      <td>2149.638252</td>\n",
       "      <td>2295.824126</td>\n",
       "    </tr>\n",
       "    <tr>\n",
       "      <th>LightGBM</th>\n",
       "      <td>13.077517</td>\n",
       "      <td>0.394827</td>\n",
       "      <td>13.472343</td>\n",
       "      <td>1897.606813</td>\n",
       "      <td>1872.184755</td>\n",
       "    </tr>\n",
       "    <tr>\n",
       "      <th>CatBoost</th>\n",
       "      <td>9.200554</td>\n",
       "      <td>0.158675</td>\n",
       "      <td>9.359229</td>\n",
       "      <td>1907.477104</td>\n",
       "      <td>1840.499920</td>\n",
       "    </tr>\n",
       "  </tbody>\n",
       "</table>\n",
       "</div>"
      ],
      "text/plain": [
       "                  trainig_time  predic_time   all_time         RMSE  \\\n",
       "LinearRegression      5.247621     0.190802   5.438423  2149.726487   \n",
       "Ridge                 0.712509     0.151169   0.863678  2149.638252   \n",
       "LightGBM             13.077517     0.394827  13.472343  1897.606813   \n",
       "CatBoost              9.200554     0.158675   9.359229  1907.477104   \n",
       "\n",
       "                      CV RMSE  \n",
       "LinearRegression  2140.867800  \n",
       "Ridge             2295.824126  \n",
       "LightGBM          1872.184755  \n",
       "CatBoost          1840.499920  "
      ]
     },
     "execution_count": 36,
     "metadata": {},
     "output_type": "execute_result"
    }
   ],
   "source": [
    "pd.DataFrame((lr_m, r_m, lgbm_m, cbr_m), index=['LinearRegression', 'Ridge', 'LightGBM', 'CatBoost']\n",
    "             , columns=['trainig_time', 'predic_time', 'all_time', 'RMSE', 'CV RMSE'])"
   ]
  },
  {
   "cell_type": "markdown",
   "metadata": {},
   "source": [
    "### вывод "
   ]
  },
  {
   "cell_type": "markdown",
   "metadata": {},
   "source": [
    "- Модель LightGBM c параметрами boosting_type='gbdt', num_leaves=31, n_estimators=40, learning_rate=1.0, random_state=12345 отработала лучше всего:\n",
    "    - скорость обучения и предсказания в сумме 2.592526\n",
    "    - точность модели RMSE = 1876.456559"
   ]
  }
 ],
 "metadata": {
  "ExecuteTimeLog": [
   {
    "duration": 1433,
    "start_time": "2023-02-08T17:55:37.415Z"
   },
   {
    "duration": 3098,
    "start_time": "2023-02-08T17:57:48.936Z"
   },
   {
    "duration": 4,
    "start_time": "2023-02-08T17:58:02.759Z"
   },
   {
    "duration": 1010,
    "start_time": "2023-02-08T17:58:18.745Z"
   },
   {
    "duration": 2,
    "start_time": "2023-02-08T18:07:16.353Z"
   },
   {
    "duration": 815,
    "start_time": "2023-02-08T18:07:18.016Z"
   },
   {
    "duration": 805,
    "start_time": "2023-02-08T18:07:21.750Z"
   },
   {
    "duration": 550,
    "start_time": "2023-02-08T18:07:29.865Z"
   },
   {
    "duration": 647,
    "start_time": "2023-02-08T18:07:52.838Z"
   },
   {
    "duration": 977,
    "start_time": "2023-02-08T18:07:59.113Z"
   },
   {
    "duration": 421,
    "start_time": "2023-02-08T18:08:05.541Z"
   },
   {
    "duration": 989,
    "start_time": "2023-02-08T18:08:26.825Z"
   },
   {
    "duration": 962,
    "start_time": "2023-02-08T18:13:46.107Z"
   },
   {
    "duration": 1304,
    "start_time": "2023-02-08T18:39:40.047Z"
   },
   {
    "duration": 919,
    "start_time": "2023-02-08T18:39:41.353Z"
   },
   {
    "duration": 856,
    "start_time": "2023-02-08T18:39:42.274Z"
   },
   {
    "duration": 1033,
    "start_time": "2023-02-08T18:39:43.132Z"
   },
   {
    "duration": 121,
    "start_time": "2023-02-08T18:39:44.167Z"
   },
   {
    "duration": 227,
    "start_time": "2023-02-08T18:40:13.523Z"
   },
   {
    "duration": 237,
    "start_time": "2023-02-08T18:40:42.566Z"
   },
   {
    "duration": 179,
    "start_time": "2023-02-08T18:40:52.185Z"
   },
   {
    "duration": 224,
    "start_time": "2023-02-08T18:41:05.114Z"
   },
   {
    "duration": 10,
    "start_time": "2023-02-08T18:55:35.718Z"
   },
   {
    "duration": 5,
    "start_time": "2023-02-08T18:55:38.993Z"
   },
   {
    "duration": 15,
    "start_time": "2023-02-08T18:55:40.720Z"
   },
   {
    "duration": 26,
    "start_time": "2023-02-08T18:55:56.522Z"
   },
   {
    "duration": 55,
    "start_time": "2023-02-08T18:56:03.277Z"
   },
   {
    "duration": 11,
    "start_time": "2023-02-08T18:56:14.606Z"
   },
   {
    "duration": 3,
    "start_time": "2023-02-08T18:56:35.426Z"
   },
   {
    "duration": 122,
    "start_time": "2023-02-08T18:56:37.129Z"
   },
   {
    "duration": 105,
    "start_time": "2023-02-08T18:56:42.413Z"
   },
   {
    "duration": 99,
    "start_time": "2023-02-08T18:56:50.519Z"
   },
   {
    "duration": 166,
    "start_time": "2023-02-08T18:56:54.850Z"
   },
   {
    "duration": 15,
    "start_time": "2023-02-08T18:57:08.494Z"
   },
   {
    "duration": 14,
    "start_time": "2023-02-08T18:57:27.927Z"
   },
   {
    "duration": 14,
    "start_time": "2023-02-08T18:59:36.338Z"
   },
   {
    "duration": 9,
    "start_time": "2023-02-08T19:00:29.620Z"
   },
   {
    "duration": 12,
    "start_time": "2023-02-08T19:00:31.818Z"
   },
   {
    "duration": 4,
    "start_time": "2023-02-08T19:04:20.997Z"
   },
   {
    "duration": 29,
    "start_time": "2023-02-08T19:04:23.537Z"
   },
   {
    "duration": 15,
    "start_time": "2023-02-08T19:04:25.726Z"
   },
   {
    "duration": 12,
    "start_time": "2023-02-08T19:06:01.185Z"
   },
   {
    "duration": 208,
    "start_time": "2023-02-08T19:06:07.593Z"
   },
   {
    "duration": 29,
    "start_time": "2023-02-08T19:08:54.205Z"
   },
   {
    "duration": 1209,
    "start_time": "2023-02-08T19:09:24.804Z"
   },
   {
    "duration": 894,
    "start_time": "2023-02-08T19:09:26.014Z"
   },
   {
    "duration": 863,
    "start_time": "2023-02-08T19:09:26.910Z"
   },
   {
    "duration": 1040,
    "start_time": "2023-02-08T19:09:27.775Z"
   },
   {
    "duration": 38,
    "start_time": "2023-02-08T19:09:28.817Z"
   },
   {
    "duration": 156,
    "start_time": "2023-02-08T19:09:28.857Z"
   },
   {
    "duration": 3,
    "start_time": "2023-02-08T19:09:29.015Z"
   },
   {
    "duration": 121,
    "start_time": "2023-02-08T19:09:29.019Z"
   },
   {
    "duration": 9,
    "start_time": "2023-02-08T19:09:29.142Z"
   },
   {
    "duration": 2775,
    "start_time": "2023-02-08T19:09:29.153Z"
   },
   {
    "duration": 534,
    "start_time": "2023-02-08T19:11:59.766Z"
   },
   {
    "duration": 1121,
    "start_time": "2023-02-08T19:12:32.842Z"
   },
   {
    "duration": 1266,
    "start_time": "2023-02-08T19:12:56.681Z"
   },
   {
    "duration": 4,
    "start_time": "2023-02-08T19:15:22.525Z"
   },
   {
    "duration": 1186,
    "start_time": "2023-02-08T19:15:25.976Z"
   },
   {
    "duration": 1359,
    "start_time": "2023-02-08T19:41:41.912Z"
   },
   {
    "duration": 1054,
    "start_time": "2023-02-08T19:41:43.273Z"
   },
   {
    "duration": 931,
    "start_time": "2023-02-08T19:41:44.329Z"
   },
   {
    "duration": 1086,
    "start_time": "2023-02-08T19:41:45.263Z"
   },
   {
    "duration": 54,
    "start_time": "2023-02-08T19:41:46.351Z"
   },
   {
    "duration": 215,
    "start_time": "2023-02-08T19:41:46.409Z"
   },
   {
    "duration": 4,
    "start_time": "2023-02-08T19:41:46.626Z"
   },
   {
    "duration": 199,
    "start_time": "2023-02-08T19:41:46.632Z"
   },
   {
    "duration": 10,
    "start_time": "2023-02-08T19:41:46.835Z"
   },
   {
    "duration": 1179,
    "start_time": "2023-02-08T19:41:46.847Z"
   },
   {
    "duration": 120,
    "start_time": "2023-02-08T19:41:48.028Z"
   },
   {
    "duration": 12,
    "start_time": "2023-02-08T19:43:07.492Z"
   },
   {
    "duration": 11,
    "start_time": "2023-02-08T19:43:12.618Z"
   },
   {
    "duration": 29,
    "start_time": "2023-02-08T19:44:19.242Z"
   },
   {
    "duration": 42,
    "start_time": "2023-02-08T19:45:12.408Z"
   },
   {
    "duration": 39,
    "start_time": "2023-02-08T19:45:29.529Z"
   },
   {
    "duration": 45,
    "start_time": "2023-02-08T19:45:57.493Z"
   },
   {
    "duration": 56,
    "start_time": "2023-02-08T19:47:19.447Z"
   },
   {
    "duration": 50,
    "start_time": "2023-02-08T19:47:51.630Z"
   },
   {
    "duration": 42,
    "start_time": "2023-02-08T19:47:59.270Z"
   },
   {
    "duration": 42,
    "start_time": "2023-02-08T19:48:22.744Z"
   },
   {
    "duration": 39,
    "start_time": "2023-02-08T19:49:13.994Z"
   },
   {
    "duration": 14,
    "start_time": "2023-02-08T19:49:30.423Z"
   },
   {
    "duration": 226,
    "start_time": "2023-02-08T19:52:39.874Z"
   },
   {
    "duration": 1344,
    "start_time": "2023-02-08T19:52:50.717Z"
   },
   {
    "duration": 847,
    "start_time": "2023-02-08T19:52:52.062Z"
   },
   {
    "duration": 843,
    "start_time": "2023-02-08T19:52:52.910Z"
   },
   {
    "duration": 984,
    "start_time": "2023-02-08T19:52:53.756Z"
   },
   {
    "duration": 60,
    "start_time": "2023-02-08T19:52:54.742Z"
   },
   {
    "duration": 174,
    "start_time": "2023-02-08T19:52:54.805Z"
   },
   {
    "duration": 10,
    "start_time": "2023-02-08T19:52:54.981Z"
   },
   {
    "duration": 148,
    "start_time": "2023-02-08T19:52:54.995Z"
   },
   {
    "duration": 9,
    "start_time": "2023-02-08T19:52:55.145Z"
   },
   {
    "duration": 1169,
    "start_time": "2023-02-08T19:52:55.157Z"
   },
   {
    "duration": 11,
    "start_time": "2023-02-08T19:52:56.329Z"
   },
   {
    "duration": 71,
    "start_time": "2023-02-08T19:52:56.342Z"
   },
   {
    "duration": 78,
    "start_time": "2023-02-08T19:52:56.416Z"
   },
   {
    "duration": 23,
    "start_time": "2023-02-08T19:52:56.498Z"
   },
   {
    "duration": 9,
    "start_time": "2023-02-08T19:53:16.539Z"
   },
   {
    "duration": 1363,
    "start_time": "2023-02-08T19:53:27.457Z"
   },
   {
    "duration": 877,
    "start_time": "2023-02-08T19:53:28.822Z"
   },
   {
    "duration": 873,
    "start_time": "2023-02-08T19:53:29.704Z"
   },
   {
    "duration": 1072,
    "start_time": "2023-02-08T19:53:30.580Z"
   },
   {
    "duration": 48,
    "start_time": "2023-02-08T19:53:31.653Z"
   },
   {
    "duration": 173,
    "start_time": "2023-02-08T19:53:31.703Z"
   },
   {
    "duration": 22,
    "start_time": "2023-02-08T19:53:31.878Z"
   },
   {
    "duration": 29,
    "start_time": "2023-02-08T19:53:31.902Z"
   },
   {
    "duration": 174,
    "start_time": "2023-02-08T19:53:31.932Z"
   },
   {
    "duration": 9,
    "start_time": "2023-02-08T19:53:32.109Z"
   },
   {
    "duration": 1180,
    "start_time": "2023-02-08T19:53:32.120Z"
   },
   {
    "duration": 12,
    "start_time": "2023-02-08T19:53:33.302Z"
   },
   {
    "duration": 54,
    "start_time": "2023-02-08T19:53:33.315Z"
   },
   {
    "duration": 62,
    "start_time": "2023-02-08T19:53:33.371Z"
   },
   {
    "duration": 19,
    "start_time": "2023-02-08T19:53:33.435Z"
   },
   {
    "duration": 1158,
    "start_time": "2023-02-09T19:53:40.209Z"
   },
   {
    "duration": 457,
    "start_time": "2023-02-09T19:55:30.670Z"
   },
   {
    "duration": 36,
    "start_time": "2023-02-09T20:03:19.882Z"
   },
   {
    "duration": 9,
    "start_time": "2023-02-09T20:03:38.073Z"
   },
   {
    "duration": 3,
    "start_time": "2023-02-09T20:03:51.462Z"
   },
   {
    "duration": 42,
    "start_time": "2023-02-09T20:13:45.935Z"
   },
   {
    "duration": 1421,
    "start_time": "2023-02-09T20:14:03.728Z"
   },
   {
    "duration": 3073,
    "start_time": "2023-02-09T20:14:05.151Z"
   },
   {
    "duration": 802,
    "start_time": "2023-02-09T20:14:08.226Z"
   },
   {
    "duration": 986,
    "start_time": "2023-02-09T20:14:09.030Z"
   },
   {
    "duration": 40,
    "start_time": "2023-02-09T20:14:10.018Z"
   },
   {
    "duration": 181,
    "start_time": "2023-02-09T20:14:10.060Z"
   },
   {
    "duration": 12,
    "start_time": "2023-02-09T20:14:10.244Z"
   },
   {
    "duration": 26,
    "start_time": "2023-02-09T20:14:10.257Z"
   },
   {
    "duration": 141,
    "start_time": "2023-02-09T20:14:10.285Z"
   },
   {
    "duration": 10,
    "start_time": "2023-02-09T20:14:10.427Z"
   },
   {
    "duration": 1170,
    "start_time": "2023-02-09T20:14:10.439Z"
   },
   {
    "duration": 13,
    "start_time": "2023-02-09T20:14:11.612Z"
   },
   {
    "duration": 62,
    "start_time": "2023-02-09T20:14:11.627Z"
   },
   {
    "duration": 57,
    "start_time": "2023-02-09T20:14:11.691Z"
   },
   {
    "duration": 15,
    "start_time": "2023-02-09T20:14:11.749Z"
   },
   {
    "duration": 5528,
    "start_time": "2023-02-09T20:14:11.765Z"
   },
   {
    "duration": 5116,
    "start_time": "2023-02-09T20:14:36.577Z"
   },
   {
    "duration": 164,
    "start_time": "2023-02-09T20:14:50.084Z"
   },
   {
    "duration": 5179,
    "start_time": "2023-02-09T20:14:52.913Z"
   },
   {
    "duration": 5730,
    "start_time": "2023-02-09T20:18:06.562Z"
   },
   {
    "duration": 2143,
    "start_time": "2023-02-11T16:51:12.597Z"
   },
   {
    "duration": 4271,
    "start_time": "2023-02-11T16:51:14.743Z"
   },
   {
    "duration": 1421,
    "start_time": "2023-02-11T16:51:19.017Z"
   },
   {
    "duration": 1184,
    "start_time": "2023-02-11T16:51:20.440Z"
   },
   {
    "duration": 50,
    "start_time": "2023-02-11T16:51:21.627Z"
   },
   {
    "duration": 273,
    "start_time": "2023-02-11T16:51:21.679Z"
   },
   {
    "duration": 24,
    "start_time": "2023-02-11T16:51:21.957Z"
   },
   {
    "duration": 30,
    "start_time": "2023-02-11T16:51:21.986Z"
   },
   {
    "duration": 179,
    "start_time": "2023-02-11T16:51:22.018Z"
   },
   {
    "duration": 16,
    "start_time": "2023-02-11T16:51:22.201Z"
   },
   {
    "duration": 1720,
    "start_time": "2023-02-11T16:51:22.220Z"
   },
   {
    "duration": 14,
    "start_time": "2023-02-11T16:51:23.944Z"
   },
   {
    "duration": 82,
    "start_time": "2023-02-11T16:51:23.961Z"
   },
   {
    "duration": 69,
    "start_time": "2023-02-11T16:51:24.046Z"
   },
   {
    "duration": 15,
    "start_time": "2023-02-11T16:51:24.117Z"
   },
   {
    "duration": 6083,
    "start_time": "2023-02-11T16:51:24.135Z"
   },
   {
    "duration": 460,
    "start_time": "2023-02-11T16:51:30.220Z"
   },
   {
    "duration": 221,
    "start_time": "2023-02-11T16:51:49.992Z"
   },
   {
    "duration": 324,
    "start_time": "2023-02-11T16:52:06.958Z"
   },
   {
    "duration": 114,
    "start_time": "2023-02-11T16:58:47.779Z"
   },
   {
    "duration": 1746,
    "start_time": "2023-02-11T17:04:15.693Z"
   },
   {
    "duration": 1254,
    "start_time": "2023-02-11T17:04:17.442Z"
   },
   {
    "duration": 1580,
    "start_time": "2023-02-11T17:04:18.701Z"
   },
   {
    "duration": 1258,
    "start_time": "2023-02-11T17:04:20.285Z"
   },
   {
    "duration": 52,
    "start_time": "2023-02-11T17:04:21.546Z"
   },
   {
    "duration": 337,
    "start_time": "2023-02-11T17:04:21.600Z"
   },
   {
    "duration": 47,
    "start_time": "2023-02-11T17:04:21.939Z"
   },
   {
    "duration": 14,
    "start_time": "2023-02-11T17:04:21.994Z"
   },
   {
    "duration": 161,
    "start_time": "2023-02-11T17:04:22.009Z"
   },
   {
    "duration": 13,
    "start_time": "2023-02-11T17:04:22.171Z"
   },
   {
    "duration": 1426,
    "start_time": "2023-02-11T17:04:22.186Z"
   },
   {
    "duration": 13,
    "start_time": "2023-02-11T17:04:23.615Z"
   },
   {
    "duration": 76,
    "start_time": "2023-02-11T17:04:23.630Z"
   },
   {
    "duration": 74,
    "start_time": "2023-02-11T17:04:23.709Z"
   },
   {
    "duration": 19,
    "start_time": "2023-02-11T17:04:23.785Z"
   },
   {
    "duration": 6004,
    "start_time": "2023-02-11T17:04:23.806Z"
   },
   {
    "duration": 304,
    "start_time": "2023-02-11T17:04:29.868Z"
   },
   {
    "duration": 243026,
    "start_time": "2023-02-11T17:04:30.174Z"
   },
   {
    "duration": 8580,
    "start_time": "2023-02-11T17:14:03.098Z"
   },
   {
    "duration": 6176,
    "start_time": "2023-02-11T17:14:11.917Z"
   },
   {
    "duration": 7430,
    "start_time": "2023-02-11T17:14:25.860Z"
   },
   {
    "duration": 12,
    "start_time": "2023-02-11T17:14:36.880Z"
   },
   {
    "duration": 221,
    "start_time": "2023-02-11T17:15:32.470Z"
   },
   {
    "duration": 1598,
    "start_time": "2023-02-11T17:16:12.472Z"
   },
   {
    "duration": 965,
    "start_time": "2023-02-11T17:16:14.072Z"
   },
   {
    "duration": 1148,
    "start_time": "2023-02-11T17:16:15.040Z"
   },
   {
    "duration": 1200,
    "start_time": "2023-02-11T17:16:16.193Z"
   },
   {
    "duration": 41,
    "start_time": "2023-02-11T17:16:17.395Z"
   },
   {
    "duration": 225,
    "start_time": "2023-02-11T17:16:17.437Z"
   },
   {
    "duration": 20,
    "start_time": "2023-02-11T17:16:17.664Z"
   },
   {
    "duration": 25,
    "start_time": "2023-02-11T17:16:17.686Z"
   },
   {
    "duration": 209,
    "start_time": "2023-02-11T17:16:17.713Z"
   },
   {
    "duration": 11,
    "start_time": "2023-02-11T17:16:17.924Z"
   },
   {
    "duration": 1249,
    "start_time": "2023-02-11T17:16:17.937Z"
   },
   {
    "duration": 12,
    "start_time": "2023-02-11T17:16:19.189Z"
   },
   {
    "duration": 57,
    "start_time": "2023-02-11T17:16:19.203Z"
   },
   {
    "duration": 62,
    "start_time": "2023-02-11T17:16:19.263Z"
   },
   {
    "duration": 14,
    "start_time": "2023-02-11T17:16:19.327Z"
   },
   {
    "duration": 6139,
    "start_time": "2023-02-11T17:16:19.343Z"
   },
   {
    "duration": 287,
    "start_time": "2023-02-11T17:16:25.488Z"
   },
   {
    "duration": 111,
    "start_time": "2023-02-11T17:16:25.786Z"
   },
   {
    "duration": 0,
    "start_time": "2023-02-11T17:16:25.899Z"
   },
   {
    "duration": 0,
    "start_time": "2023-02-11T17:16:25.900Z"
   },
   {
    "duration": 192230,
    "start_time": "2023-02-11T17:16:56.756Z"
   },
   {
    "duration": 7466,
    "start_time": "2023-02-11T17:20:09.001Z"
   },
   {
    "duration": 16,
    "start_time": "2023-02-11T17:20:16.472Z"
   },
   {
    "duration": 1670,
    "start_time": "2023-02-12T13:55:52.407Z"
   },
   {
    "duration": 1171,
    "start_time": "2023-02-12T13:55:54.079Z"
   },
   {
    "duration": 946,
    "start_time": "2023-02-12T13:55:55.252Z"
   },
   {
    "duration": 1046,
    "start_time": "2023-02-12T13:55:56.200Z"
   },
   {
    "duration": 38,
    "start_time": "2023-02-12T13:55:57.248Z"
   },
   {
    "duration": 210,
    "start_time": "2023-02-12T13:55:57.288Z"
   },
   {
    "duration": 11,
    "start_time": "2023-02-12T13:55:57.500Z"
   },
   {
    "duration": 5,
    "start_time": "2023-02-12T13:55:57.513Z"
   },
   {
    "duration": 158,
    "start_time": "2023-02-12T13:55:57.520Z"
   },
   {
    "duration": 12,
    "start_time": "2023-02-12T13:55:57.680Z"
   },
   {
    "duration": 1255,
    "start_time": "2023-02-12T13:55:57.694Z"
   },
   {
    "duration": 13,
    "start_time": "2023-02-12T13:55:58.951Z"
   },
   {
    "duration": 76,
    "start_time": "2023-02-12T13:55:58.967Z"
   },
   {
    "duration": 64,
    "start_time": "2023-02-12T13:55:59.047Z"
   },
   {
    "duration": 38,
    "start_time": "2023-02-12T13:55:59.114Z"
   },
   {
    "duration": 6,
    "start_time": "2023-02-12T13:55:59.154Z"
   },
   {
    "duration": 5808,
    "start_time": "2023-02-12T13:55:59.162Z"
   },
   {
    "duration": 274,
    "start_time": "2023-02-12T13:56:04.972Z"
   },
   {
    "duration": 572,
    "start_time": "2023-02-12T13:56:05.248Z"
   },
   {
    "duration": 0,
    "start_time": "2023-02-12T13:56:05.822Z"
   },
   {
    "duration": 0,
    "start_time": "2023-02-12T13:56:05.823Z"
   },
   {
    "duration": 0,
    "start_time": "2023-02-12T13:56:05.825Z"
   },
   {
    "duration": 4,
    "start_time": "2023-02-12T13:56:26.259Z"
   },
   {
    "duration": 199,
    "start_time": "2023-02-12T13:56:31.246Z"
   },
   {
    "duration": 96574,
    "start_time": "2023-02-12T13:57:06.768Z"
   },
   {
    "duration": 4294,
    "start_time": "2023-02-12T13:58:43.346Z"
   },
   {
    "duration": 97,
    "start_time": "2023-02-12T13:58:47.643Z"
   },
   {
    "duration": 4002,
    "start_time": "2023-02-12T13:58:47.743Z"
   },
   {
    "duration": 3,
    "start_time": "2023-02-12T14:02:03.778Z"
   },
   {
    "duration": 116,
    "start_time": "2023-02-12T14:06:18.876Z"
   },
   {
    "duration": 97,
    "start_time": "2023-02-12T14:06:45.586Z"
   },
   {
    "duration": 88,
    "start_time": "2023-02-12T14:06:51.458Z"
   },
   {
    "duration": 99,
    "start_time": "2023-02-12T14:07:29.464Z"
   },
   {
    "duration": 92,
    "start_time": "2023-02-12T14:08:59.527Z"
   },
   {
    "duration": 105,
    "start_time": "2023-02-12T14:09:00.848Z"
   },
   {
    "duration": 96,
    "start_time": "2023-02-12T14:09:03.876Z"
   },
   {
    "duration": 4,
    "start_time": "2023-02-12T14:09:38.176Z"
   },
   {
    "duration": 96,
    "start_time": "2023-02-12T14:09:45.288Z"
   },
   {
    "duration": 11,
    "start_time": "2023-02-12T14:11:11.161Z"
   },
   {
    "duration": 5,
    "start_time": "2023-02-12T14:11:20.579Z"
   },
   {
    "duration": 113,
    "start_time": "2023-02-12T14:12:19.906Z"
   },
   {
    "duration": 102,
    "start_time": "2023-02-12T14:12:30.250Z"
   },
   {
    "duration": 93,
    "start_time": "2023-02-12T14:12:42.465Z"
   },
   {
    "duration": 103,
    "start_time": "2023-02-12T14:12:52.706Z"
   },
   {
    "duration": 3883,
    "start_time": "2023-02-12T14:13:10.749Z"
   },
   {
    "duration": 123,
    "start_time": "2023-02-12T14:13:30.279Z"
   },
   {
    "duration": 40,
    "start_time": "2023-02-12T14:13:44.289Z"
   },
   {
    "duration": 6003,
    "start_time": "2023-02-12T14:13:50.848Z"
   },
   {
    "duration": 1413,
    "start_time": "2023-02-12T14:20:09.063Z"
   },
   {
    "duration": 868,
    "start_time": "2023-02-12T14:20:10.478Z"
   },
   {
    "duration": 949,
    "start_time": "2023-02-12T14:20:11.348Z"
   },
   {
    "duration": 1026,
    "start_time": "2023-02-12T14:20:12.299Z"
   },
   {
    "duration": 43,
    "start_time": "2023-02-12T14:20:13.327Z"
   },
   {
    "duration": 234,
    "start_time": "2023-02-12T14:20:13.372Z"
   },
   {
    "duration": 14,
    "start_time": "2023-02-12T14:20:13.607Z"
   },
   {
    "duration": 18,
    "start_time": "2023-02-12T14:20:13.623Z"
   },
   {
    "duration": 6,
    "start_time": "2023-02-12T14:20:13.643Z"
   },
   {
    "duration": 123,
    "start_time": "2023-02-12T14:20:13.651Z"
   },
   {
    "duration": 0,
    "start_time": "2023-02-12T14:20:13.776Z"
   },
   {
    "duration": 10,
    "start_time": "2023-02-12T14:20:45.072Z"
   },
   {
    "duration": 2753,
    "start_time": "2023-02-12T14:21:12.307Z"
   },
   {
    "duration": 16,
    "start_time": "2023-02-12T14:21:17.778Z"
   },
   {
    "duration": 5,
    "start_time": "2023-02-12T14:22:10.805Z"
   },
   {
    "duration": 854,
    "start_time": "2023-02-12T14:22:10.812Z"
   },
   {
    "duration": 841,
    "start_time": "2023-02-12T14:22:11.668Z"
   },
   {
    "duration": 915,
    "start_time": "2023-02-12T14:22:12.511Z"
   },
   {
    "duration": 39,
    "start_time": "2023-02-12T14:22:13.429Z"
   },
   {
    "duration": 203,
    "start_time": "2023-02-12T14:22:13.470Z"
   },
   {
    "duration": 11,
    "start_time": "2023-02-12T14:22:13.675Z"
   },
   {
    "duration": 5,
    "start_time": "2023-02-12T14:22:13.687Z"
   },
   {
    "duration": 4,
    "start_time": "2023-02-12T14:22:13.694Z"
   },
   {
    "duration": 2787,
    "start_time": "2023-02-12T14:22:13.699Z"
   },
   {
    "duration": 15,
    "start_time": "2023-02-12T14:22:16.488Z"
   },
   {
    "duration": 1529,
    "start_time": "2023-02-12T14:22:30.073Z"
   },
   {
    "duration": 1145,
    "start_time": "2023-02-12T14:22:31.604Z"
   },
   {
    "duration": 930,
    "start_time": "2023-02-12T14:22:32.750Z"
   },
   {
    "duration": 1010,
    "start_time": "2023-02-12T14:22:33.682Z"
   },
   {
    "duration": 49,
    "start_time": "2023-02-12T14:22:34.695Z"
   },
   {
    "duration": 210,
    "start_time": "2023-02-12T14:22:34.746Z"
   },
   {
    "duration": 13,
    "start_time": "2023-02-12T14:22:34.958Z"
   },
   {
    "duration": 11,
    "start_time": "2023-02-12T14:22:34.972Z"
   },
   {
    "duration": 9,
    "start_time": "2023-02-12T14:22:34.985Z"
   },
   {
    "duration": 2816,
    "start_time": "2023-02-12T14:22:34.996Z"
   },
   {
    "duration": 27,
    "start_time": "2023-02-12T14:22:37.814Z"
   },
   {
    "duration": 1451,
    "start_time": "2023-02-12T14:23:06.437Z"
   },
   {
    "duration": 940,
    "start_time": "2023-02-12T14:23:07.890Z"
   },
   {
    "duration": 1049,
    "start_time": "2023-02-12T14:23:08.832Z"
   },
   {
    "duration": 1082,
    "start_time": "2023-02-12T14:23:09.882Z"
   },
   {
    "duration": 41,
    "start_time": "2023-02-12T14:23:10.968Z"
   },
   {
    "duration": 218,
    "start_time": "2023-02-12T14:23:11.010Z"
   },
   {
    "duration": 19,
    "start_time": "2023-02-12T14:23:11.230Z"
   },
   {
    "duration": 4,
    "start_time": "2023-02-12T14:23:11.250Z"
   },
   {
    "duration": 5,
    "start_time": "2023-02-12T14:23:11.255Z"
   },
   {
    "duration": 2754,
    "start_time": "2023-02-12T14:23:11.261Z"
   },
   {
    "duration": 15,
    "start_time": "2023-02-12T14:23:14.017Z"
   },
   {
    "duration": 2,
    "start_time": "2023-02-12T14:23:14.040Z"
   },
   {
    "duration": 1067,
    "start_time": "2023-02-12T14:23:14.044Z"
   },
   {
    "duration": 1126,
    "start_time": "2023-02-12T14:23:15.114Z"
   },
   {
    "duration": 55,
    "start_time": "2023-02-12T14:23:51.284Z"
   },
   {
    "duration": 1689,
    "start_time": "2023-02-12T14:23:58.447Z"
   },
   {
    "duration": 1160,
    "start_time": "2023-02-12T14:24:00.138Z"
   },
   {
    "duration": 934,
    "start_time": "2023-02-12T14:24:01.300Z"
   },
   {
    "duration": 1022,
    "start_time": "2023-02-12T14:24:02.236Z"
   },
   {
    "duration": 40,
    "start_time": "2023-02-12T14:24:03.259Z"
   },
   {
    "duration": 208,
    "start_time": "2023-02-12T14:24:03.301Z"
   },
   {
    "duration": 11,
    "start_time": "2023-02-12T14:24:03.510Z"
   },
   {
    "duration": 3,
    "start_time": "2023-02-12T14:24:03.539Z"
   },
   {
    "duration": 5,
    "start_time": "2023-02-12T14:24:03.543Z"
   },
   {
    "duration": 118,
    "start_time": "2023-02-12T14:24:03.551Z"
   },
   {
    "duration": 0,
    "start_time": "2023-02-12T14:24:03.671Z"
   },
   {
    "duration": 0,
    "start_time": "2023-02-12T14:24:03.672Z"
   },
   {
    "duration": 0,
    "start_time": "2023-02-12T14:24:03.673Z"
   },
   {
    "duration": 0,
    "start_time": "2023-02-12T14:24:03.674Z"
   },
   {
    "duration": 0,
    "start_time": "2023-02-12T14:24:03.675Z"
   },
   {
    "duration": 0,
    "start_time": "2023-02-12T14:24:03.676Z"
   },
   {
    "duration": 0,
    "start_time": "2023-02-12T14:24:03.677Z"
   },
   {
    "duration": 0,
    "start_time": "2023-02-12T14:24:03.678Z"
   },
   {
    "duration": 0,
    "start_time": "2023-02-12T14:24:03.680Z"
   },
   {
    "duration": 0,
    "start_time": "2023-02-12T14:24:03.681Z"
   },
   {
    "duration": 0,
    "start_time": "2023-02-12T14:24:03.682Z"
   },
   {
    "duration": 0,
    "start_time": "2023-02-12T14:24:03.683Z"
   },
   {
    "duration": 0,
    "start_time": "2023-02-12T14:24:03.684Z"
   },
   {
    "duration": 0,
    "start_time": "2023-02-12T14:24:03.685Z"
   },
   {
    "duration": 0,
    "start_time": "2023-02-12T14:24:03.686Z"
   },
   {
    "duration": 0,
    "start_time": "2023-02-12T14:24:03.688Z"
   },
   {
    "duration": 2810,
    "start_time": "2023-02-12T14:24:39.778Z"
   },
   {
    "duration": 18,
    "start_time": "2023-02-12T14:24:44.673Z"
   },
   {
    "duration": 1082,
    "start_time": "2023-02-12T14:24:48.005Z"
   },
   {
    "duration": 1149,
    "start_time": "2023-02-12T14:24:50.351Z"
   },
   {
    "duration": 1395,
    "start_time": "2023-02-12T14:28:11.294Z"
   },
   {
    "duration": 204,
    "start_time": "2023-02-12T14:29:58.605Z"
   },
   {
    "duration": 82,
    "start_time": "2023-02-12T14:30:35.255Z"
   },
   {
    "duration": 75,
    "start_time": "2023-02-12T14:30:41.003Z"
   },
   {
    "duration": 75,
    "start_time": "2023-02-12T14:30:50.513Z"
   },
   {
    "duration": 76,
    "start_time": "2023-02-12T14:30:57.166Z"
   },
   {
    "duration": 17,
    "start_time": "2023-02-12T14:31:10.924Z"
   },
   {
    "duration": 12,
    "start_time": "2023-02-12T14:31:16.991Z"
   },
   {
    "duration": 1547,
    "start_time": "2023-02-12T14:31:27.516Z"
   },
   {
    "duration": 1211,
    "start_time": "2023-02-12T14:31:29.468Z"
   },
   {
    "duration": 7,
    "start_time": "2023-02-12T14:31:43.407Z"
   },
   {
    "duration": 888,
    "start_time": "2023-02-12T14:31:43.416Z"
   },
   {
    "duration": 984,
    "start_time": "2023-02-12T14:31:44.306Z"
   },
   {
    "duration": 981,
    "start_time": "2023-02-12T14:31:45.292Z"
   },
   {
    "duration": 37,
    "start_time": "2023-02-12T14:31:46.275Z"
   },
   {
    "duration": 226,
    "start_time": "2023-02-12T14:31:46.314Z"
   },
   {
    "duration": 17,
    "start_time": "2023-02-12T14:31:46.541Z"
   },
   {
    "duration": 4,
    "start_time": "2023-02-12T14:31:46.559Z"
   },
   {
    "duration": 64,
    "start_time": "2023-02-12T14:32:04.181Z"
   },
   {
    "duration": 87,
    "start_time": "2023-02-12T14:32:06.326Z"
   },
   {
    "duration": 263,
    "start_time": "2023-02-12T14:32:15.989Z"
   },
   {
    "duration": 101,
    "start_time": "2023-02-12T14:32:38.014Z"
   },
   {
    "duration": 97,
    "start_time": "2023-02-12T14:32:44.063Z"
   },
   {
    "duration": 4,
    "start_time": "2023-02-12T14:32:54.322Z"
   },
   {
    "duration": 11973,
    "start_time": "2023-02-12T14:33:33.629Z"
   },
   {
    "duration": 5,
    "start_time": "2023-02-12T14:34:14.529Z"
   },
   {
    "duration": 22588,
    "start_time": "2023-02-12T14:34:21.579Z"
   },
   {
    "duration": 85,
    "start_time": "2023-02-12T14:39:31.608Z"
   },
   {
    "duration": 5,
    "start_time": "2023-02-12T14:39:43.957Z"
   },
   {
    "duration": 5,
    "start_time": "2023-02-12T14:39:59.689Z"
   },
   {
    "duration": 103,
    "start_time": "2023-02-12T14:41:17.242Z"
   },
   {
    "duration": 72,
    "start_time": "2023-02-12T14:41:35.923Z"
   },
   {
    "duration": 5,
    "start_time": "2023-02-12T14:41:45.241Z"
   },
   {
    "duration": 1476,
    "start_time": "2023-02-12T14:47:24.004Z"
   },
   {
    "duration": 939,
    "start_time": "2023-02-12T14:47:25.482Z"
   },
   {
    "duration": 1020,
    "start_time": "2023-02-12T14:47:26.423Z"
   },
   {
    "duration": 1089,
    "start_time": "2023-02-12T14:47:27.444Z"
   },
   {
    "duration": 42,
    "start_time": "2023-02-12T14:47:28.539Z"
   },
   {
    "duration": 220,
    "start_time": "2023-02-12T14:47:28.583Z"
   },
   {
    "duration": 12,
    "start_time": "2023-02-12T14:47:28.805Z"
   },
   {
    "duration": 21,
    "start_time": "2023-02-12T14:47:28.819Z"
   },
   {
    "duration": 79,
    "start_time": "2023-02-12T14:47:28.842Z"
   },
   {
    "duration": 98,
    "start_time": "2023-02-12T14:47:28.923Z"
   },
   {
    "duration": 128,
    "start_time": "2023-02-12T14:47:29.024Z"
   },
   {
    "duration": 7,
    "start_time": "2023-02-12T14:47:29.155Z"
   },
   {
    "duration": 71378,
    "start_time": "2023-02-12T14:47:29.164Z"
   },
   {
    "duration": 201,
    "start_time": "2023-02-12T14:48:40.546Z"
   },
   {
    "duration": 0,
    "start_time": "2023-02-12T14:48:40.749Z"
   },
   {
    "duration": 0,
    "start_time": "2023-02-12T14:48:40.750Z"
   },
   {
    "duration": 0,
    "start_time": "2023-02-12T14:48:40.752Z"
   },
   {
    "duration": 0,
    "start_time": "2023-02-12T14:48:40.753Z"
   },
   {
    "duration": 0,
    "start_time": "2023-02-12T14:48:40.754Z"
   },
   {
    "duration": 0,
    "start_time": "2023-02-12T14:48:40.755Z"
   },
   {
    "duration": 0,
    "start_time": "2023-02-12T14:48:40.756Z"
   },
   {
    "duration": 0,
    "start_time": "2023-02-12T14:48:40.758Z"
   },
   {
    "duration": 0,
    "start_time": "2023-02-12T14:48:40.759Z"
   },
   {
    "duration": 11,
    "start_time": "2023-02-12T14:50:16.267Z"
   },
   {
    "duration": 111,
    "start_time": "2023-02-12T14:50:26.578Z"
   },
   {
    "duration": 72,
    "start_time": "2023-02-12T14:50:46.248Z"
   },
   {
    "duration": 68,
    "start_time": "2023-02-12T14:50:46.846Z"
   },
   {
    "duration": 69,
    "start_time": "2023-02-12T14:50:47.179Z"
   },
   {
    "duration": 71,
    "start_time": "2023-02-12T14:50:47.495Z"
   },
   {
    "duration": 72,
    "start_time": "2023-02-12T14:50:47.663Z"
   },
   {
    "duration": 73,
    "start_time": "2023-02-12T14:50:47.829Z"
   },
   {
    "duration": 72,
    "start_time": "2023-02-12T14:50:48.007Z"
   },
   {
    "duration": 70,
    "start_time": "2023-02-12T14:50:53.531Z"
   },
   {
    "duration": 76,
    "start_time": "2023-02-12T14:51:00.202Z"
   },
   {
    "duration": 3,
    "start_time": "2023-02-12T14:51:02.808Z"
   },
   {
    "duration": 10,
    "start_time": "2023-02-12T14:51:05.082Z"
   },
   {
    "duration": 6045,
    "start_time": "2023-02-12T14:54:45.671Z"
   },
   {
    "duration": 6668,
    "start_time": "2023-02-12T14:55:00.233Z"
   },
   {
    "duration": 542733,
    "start_time": "2023-02-12T14:55:24.240Z"
   },
   {
    "duration": 80,
    "start_time": "2023-02-12T15:04:33.232Z"
   },
   {
    "duration": 22321,
    "start_time": "2023-02-12T15:04:38.686Z"
   },
   {
    "duration": 4,
    "start_time": "2023-02-12T15:06:55.277Z"
   },
   {
    "duration": 11,
    "start_time": "2023-02-12T15:06:56.934Z"
   },
   {
    "duration": 961,
    "start_time": "2023-02-12T15:07:07.307Z"
   },
   {
    "duration": 14,
    "start_time": "2023-02-12T15:27:44.525Z"
   },
   {
    "duration": 1502,
    "start_time": "2023-02-12T15:27:59.105Z"
   },
   {
    "duration": 909,
    "start_time": "2023-02-12T15:28:00.609Z"
   },
   {
    "duration": 936,
    "start_time": "2023-02-12T15:28:01.520Z"
   },
   {
    "duration": 1005,
    "start_time": "2023-02-12T15:28:02.458Z"
   },
   {
    "duration": 42,
    "start_time": "2023-02-12T15:28:03.465Z"
   },
   {
    "duration": 224,
    "start_time": "2023-02-12T15:28:03.509Z"
   },
   {
    "duration": 16,
    "start_time": "2023-02-12T15:28:03.734Z"
   },
   {
    "duration": 8,
    "start_time": "2023-02-12T15:28:03.752Z"
   },
   {
    "duration": 6,
    "start_time": "2023-02-12T15:28:03.762Z"
   },
   {
    "duration": 80,
    "start_time": "2023-02-12T15:28:03.770Z"
   },
   {
    "duration": 96,
    "start_time": "2023-02-12T15:28:03.852Z"
   },
   {
    "duration": 4,
    "start_time": "2023-02-12T15:28:03.950Z"
   },
   {
    "duration": 77285,
    "start_time": "2023-02-12T15:28:03.957Z"
   },
   {
    "duration": 7378,
    "start_time": "2023-02-12T15:29:21.245Z"
   },
   {
    "duration": 7709,
    "start_time": "2023-02-12T15:29:28.625Z"
   },
   {
    "duration": 23810,
    "start_time": "2023-02-12T15:29:36.340Z"
   },
   {
    "duration": 4,
    "start_time": "2023-02-12T15:30:00.152Z"
   },
   {
    "duration": 1037,
    "start_time": "2023-02-12T15:30:00.157Z"
   },
   {
    "duration": 1026,
    "start_time": "2023-02-12T15:30:01.196Z"
   },
   {
    "duration": 4,
    "start_time": "2023-02-12T15:31:55.017Z"
   },
   {
    "duration": 22,
    "start_time": "2023-02-12T15:32:54.917Z"
   },
   {
    "duration": 1306,
    "start_time": "2023-02-12T15:33:18.185Z"
   },
   {
    "duration": 122918,
    "start_time": "2023-02-12T15:33:53.323Z"
   },
   {
    "duration": 3,
    "start_time": "2023-02-12T15:37:07.975Z"
   },
   {
    "duration": 3,
    "start_time": "2023-02-12T15:37:13.772Z"
   },
   {
    "duration": 2852,
    "start_time": "2023-02-12T15:37:26.495Z"
   },
   {
    "duration": 23,
    "start_time": "2023-02-12T15:38:52.036Z"
   },
   {
    "duration": 12,
    "start_time": "2023-02-12T15:40:14.764Z"
   },
   {
    "duration": 146684,
    "start_time": "2023-02-12T15:40:19.586Z"
   },
   {
    "duration": 4,
    "start_time": "2023-02-12T15:43:28.674Z"
   },
   {
    "duration": 8152,
    "start_time": "2023-02-12T15:43:30.863Z"
   },
   {
    "duration": 6400,
    "start_time": "2023-02-12T15:44:41.505Z"
   },
   {
    "duration": 9,
    "start_time": "2023-02-12T15:46:33.404Z"
   },
   {
    "duration": 1602,
    "start_time": "2023-02-12T15:50:33.064Z"
   },
   {
    "duration": 921,
    "start_time": "2023-02-12T15:50:34.668Z"
   },
   {
    "duration": 980,
    "start_time": "2023-02-12T15:50:35.591Z"
   },
   {
    "duration": 1075,
    "start_time": "2023-02-12T15:50:36.573Z"
   },
   {
    "duration": 42,
    "start_time": "2023-02-12T15:50:37.651Z"
   },
   {
    "duration": 222,
    "start_time": "2023-02-12T15:50:37.695Z"
   },
   {
    "duration": 12,
    "start_time": "2023-02-12T15:50:37.919Z"
   },
   {
    "duration": 3,
    "start_time": "2023-02-12T15:50:37.940Z"
   },
   {
    "duration": 24,
    "start_time": "2023-02-12T15:50:37.945Z"
   },
   {
    "duration": 79,
    "start_time": "2023-02-12T15:50:37.971Z"
   },
   {
    "duration": 115,
    "start_time": "2023-02-12T15:50:38.052Z"
   },
   {
    "duration": 5,
    "start_time": "2023-02-12T15:50:38.169Z"
   },
   {
    "duration": 72967,
    "start_time": "2023-02-12T15:50:38.176Z"
   },
   {
    "duration": 6703,
    "start_time": "2023-02-12T15:51:51.150Z"
   },
   {
    "duration": 6641,
    "start_time": "2023-02-12T15:51:57.855Z"
   },
   {
    "duration": 22376,
    "start_time": "2023-02-12T15:52:04.497Z"
   },
   {
    "duration": 3,
    "start_time": "2023-02-12T15:52:26.875Z"
   },
   {
    "duration": 998,
    "start_time": "2023-02-12T15:52:26.880Z"
   },
   {
    "duration": 1488,
    "start_time": "2023-02-12T15:59:04.671Z"
   },
   {
    "duration": 900,
    "start_time": "2023-02-12T15:59:06.162Z"
   },
   {
    "duration": 965,
    "start_time": "2023-02-12T15:59:07.064Z"
   },
   {
    "duration": 1159,
    "start_time": "2023-02-12T15:59:08.031Z"
   },
   {
    "duration": 43,
    "start_time": "2023-02-12T15:59:09.192Z"
   },
   {
    "duration": 215,
    "start_time": "2023-02-12T15:59:09.240Z"
   },
   {
    "duration": 12,
    "start_time": "2023-02-12T15:59:09.457Z"
   },
   {
    "duration": 5,
    "start_time": "2023-02-12T15:59:09.471Z"
   },
   {
    "duration": 6,
    "start_time": "2023-02-12T15:59:09.478Z"
   },
   {
    "duration": 86,
    "start_time": "2023-02-12T15:59:09.486Z"
   },
   {
    "duration": 98,
    "start_time": "2023-02-12T15:59:09.574Z"
   },
   {
    "duration": 4,
    "start_time": "2023-02-12T15:59:09.674Z"
   },
   {
    "duration": 1498,
    "start_time": "2023-02-12T16:32:07.133Z"
   },
   {
    "duration": 999,
    "start_time": "2023-02-12T16:32:08.633Z"
   },
   {
    "duration": 1002,
    "start_time": "2023-02-12T16:32:09.639Z"
   },
   {
    "duration": 1043,
    "start_time": "2023-02-12T16:32:10.643Z"
   },
   {
    "duration": 42,
    "start_time": "2023-02-12T16:32:11.688Z"
   },
   {
    "duration": 208,
    "start_time": "2023-02-12T16:32:11.740Z"
   },
   {
    "duration": 12,
    "start_time": "2023-02-12T16:32:11.950Z"
   },
   {
    "duration": 17,
    "start_time": "2023-02-12T16:32:11.964Z"
   },
   {
    "duration": 22,
    "start_time": "2023-02-12T16:32:11.983Z"
   },
   {
    "duration": 86,
    "start_time": "2023-02-12T16:32:12.008Z"
   },
   {
    "duration": 100,
    "start_time": "2023-02-12T16:32:12.096Z"
   },
   {
    "duration": 4,
    "start_time": "2023-02-12T16:32:12.198Z"
   },
   {
    "duration": 75838,
    "start_time": "2023-02-12T16:32:12.204Z"
   },
   {
    "duration": 7330,
    "start_time": "2023-02-12T16:33:28.044Z"
   },
   {
    "duration": 6827,
    "start_time": "2023-02-12T16:33:35.377Z"
   },
   {
    "duration": 22180,
    "start_time": "2023-02-12T16:33:42.206Z"
   },
   {
    "duration": 3,
    "start_time": "2023-02-12T16:34:04.388Z"
   },
   {
    "duration": 980,
    "start_time": "2023-02-12T16:34:04.393Z"
   },
   {
    "duration": 401,
    "start_time": "2023-02-12T16:34:05.374Z"
   },
   {
    "duration": 273870,
    "start_time": "2023-02-12T16:34:05.777Z"
   },
   {
    "duration": 3,
    "start_time": "2023-02-12T16:38:39.649Z"
   },
   {
    "duration": 2601,
    "start_time": "2023-02-12T16:38:39.653Z"
   },
   {
    "duration": 159255,
    "start_time": "2023-02-12T16:38:42.256Z"
   },
   {
    "duration": 4,
    "start_time": "2023-02-12T16:41:21.513Z"
   },
   {
    "duration": 8250,
    "start_time": "2023-02-12T16:41:21.518Z"
   },
   {
    "duration": 10,
    "start_time": "2023-02-12T16:41:29.770Z"
   },
   {
    "duration": 12,
    "start_time": "2023-02-12T16:43:37.815Z"
   },
   {
    "duration": 2270,
    "start_time": "2023-02-14T16:36:27.255Z"
   },
   {
    "duration": 2972,
    "start_time": "2023-02-14T16:36:29.527Z"
   },
   {
    "duration": 956,
    "start_time": "2023-02-14T16:36:32.501Z"
   },
   {
    "duration": 980,
    "start_time": "2023-02-14T16:36:33.459Z"
   },
   {
    "duration": 37,
    "start_time": "2023-02-14T16:36:34.441Z"
   },
   {
    "duration": 218,
    "start_time": "2023-02-14T16:36:34.480Z"
   },
   {
    "duration": 12,
    "start_time": "2023-02-14T16:36:34.700Z"
   },
   {
    "duration": 9,
    "start_time": "2023-02-14T16:36:34.713Z"
   },
   {
    "duration": 14,
    "start_time": "2023-02-14T16:36:34.724Z"
   },
   {
    "duration": 83,
    "start_time": "2023-02-14T16:36:34.740Z"
   },
   {
    "duration": 88,
    "start_time": "2023-02-14T16:36:34.825Z"
   },
   {
    "duration": 3,
    "start_time": "2023-02-14T16:36:34.915Z"
   },
   {
    "duration": 77285,
    "start_time": "2023-02-14T16:36:45.357Z"
   },
   {
    "duration": 6537,
    "start_time": "2023-02-14T16:41:07.978Z"
   },
   {
    "duration": 6293,
    "start_time": "2023-02-14T16:41:18.105Z"
   },
   {
    "duration": 4,
    "start_time": "2023-02-14T16:41:38.725Z"
   },
   {
    "duration": 61,
    "start_time": "2023-02-14T17:12:47.954Z"
   },
   {
    "duration": 1716,
    "start_time": "2023-02-14T17:12:56.980Z"
   },
   {
    "duration": 1278,
    "start_time": "2023-02-14T17:12:58.698Z"
   },
   {
    "duration": 971,
    "start_time": "2023-02-14T17:12:59.978Z"
   },
   {
    "duration": 1225,
    "start_time": "2023-02-14T17:13:00.952Z"
   },
   {
    "duration": 56,
    "start_time": "2023-02-14T17:13:02.179Z"
   },
   {
    "duration": 233,
    "start_time": "2023-02-14T17:13:02.237Z"
   },
   {
    "duration": 26,
    "start_time": "2023-02-14T17:13:02.473Z"
   },
   {
    "duration": 175,
    "start_time": "2023-02-14T17:13:02.501Z"
   },
   {
    "duration": 12,
    "start_time": "2023-02-14T17:13:10.579Z"
   },
   {
    "duration": 12,
    "start_time": "2023-02-14T17:14:06.943Z"
   },
   {
    "duration": 14,
    "start_time": "2023-02-14T17:14:15.997Z"
   },
   {
    "duration": 23,
    "start_time": "2023-02-14T17:15:26.629Z"
   },
   {
    "duration": 39,
    "start_time": "2023-02-14T17:15:45.087Z"
   },
   {
    "duration": 1910,
    "start_time": "2023-02-14T17:18:19.735Z"
   },
   {
    "duration": 2282,
    "start_time": "2023-02-14T17:20:03.377Z"
   },
   {
    "duration": 9,
    "start_time": "2023-02-14T17:20:47.626Z"
   },
   {
    "duration": 11,
    "start_time": "2023-02-14T17:23:10.642Z"
   },
   {
    "duration": 51,
    "start_time": "2023-02-14T17:24:02.662Z"
   },
   {
    "duration": 26,
    "start_time": "2023-02-14T17:24:42.822Z"
   },
   {
    "duration": 62,
    "start_time": "2023-02-14T17:25:24.336Z"
   },
   {
    "duration": 11,
    "start_time": "2023-02-14T17:38:42.154Z"
   },
   {
    "duration": 1298,
    "start_time": "2023-02-14T17:44:28.564Z"
   },
   {
    "duration": 27,
    "start_time": "2023-02-14T17:44:38.118Z"
   },
   {
    "duration": 28,
    "start_time": "2023-02-14T17:44:48.616Z"
   },
   {
    "duration": 35,
    "start_time": "2023-02-14T17:45:02.821Z"
   },
   {
    "duration": 28,
    "start_time": "2023-02-14T17:45:50.842Z"
   },
   {
    "duration": 84,
    "start_time": "2023-02-14T17:49:02.994Z"
   },
   {
    "duration": 73,
    "start_time": "2023-02-14T17:49:04.229Z"
   },
   {
    "duration": 19,
    "start_time": "2023-02-14T17:49:07.364Z"
   },
   {
    "duration": 33,
    "start_time": "2023-02-14T17:49:17.293Z"
   },
   {
    "duration": 89,
    "start_time": "2023-02-14T17:49:47.835Z"
   },
   {
    "duration": 100,
    "start_time": "2023-02-14T17:49:54.800Z"
   },
   {
    "duration": 24,
    "start_time": "2023-02-14T17:50:36.037Z"
   },
   {
    "duration": 25,
    "start_time": "2023-02-14T17:50:47.294Z"
   },
   {
    "duration": 27,
    "start_time": "2023-02-14T17:51:13.217Z"
   },
   {
    "duration": 17,
    "start_time": "2023-02-14T17:51:24.671Z"
   },
   {
    "duration": 16,
    "start_time": "2023-02-14T17:59:15.817Z"
   },
   {
    "duration": 7,
    "start_time": "2023-02-14T18:00:44.026Z"
   },
   {
    "duration": 7,
    "start_time": "2023-02-14T18:00:47.017Z"
   },
   {
    "duration": 15,
    "start_time": "2023-02-14T18:02:25.145Z"
   },
   {
    "duration": 12,
    "start_time": "2023-02-14T18:02:59.053Z"
   },
   {
    "duration": 80,
    "start_time": "2023-02-14T18:03:17.490Z"
   },
   {
    "duration": 11,
    "start_time": "2023-02-14T18:03:20.596Z"
   },
   {
    "duration": 6,
    "start_time": "2023-02-14T18:03:35.185Z"
   },
   {
    "duration": 8,
    "start_time": "2023-02-14T18:04:00.657Z"
   },
   {
    "duration": 7,
    "start_time": "2023-02-14T18:04:02.149Z"
   },
   {
    "duration": 1623,
    "start_time": "2023-02-14T18:04:33.362Z"
   },
   {
    "duration": 948,
    "start_time": "2023-02-14T18:04:34.987Z"
   },
   {
    "duration": 950,
    "start_time": "2023-02-14T18:04:35.937Z"
   },
   {
    "duration": 1171,
    "start_time": "2023-02-14T18:04:36.889Z"
   },
   {
    "duration": 52,
    "start_time": "2023-02-14T18:04:38.062Z"
   },
   {
    "duration": 200,
    "start_time": "2023-02-14T18:04:38.117Z"
   },
   {
    "duration": 14,
    "start_time": "2023-02-14T18:04:38.320Z"
   },
   {
    "duration": 148,
    "start_time": "2023-02-14T18:04:38.336Z"
   },
   {
    "duration": 0,
    "start_time": "2023-02-14T18:04:38.486Z"
   },
   {
    "duration": 0,
    "start_time": "2023-02-14T18:04:38.488Z"
   },
   {
    "duration": 0,
    "start_time": "2023-02-14T18:04:38.489Z"
   },
   {
    "duration": 1795,
    "start_time": "2023-02-14T18:04:57.822Z"
   },
   {
    "duration": 23,
    "start_time": "2023-02-14T18:05:02.042Z"
   },
   {
    "duration": 8,
    "start_time": "2023-02-14T18:05:07.975Z"
   },
   {
    "duration": 8,
    "start_time": "2023-02-14T18:05:09.274Z"
   },
   {
    "duration": 7,
    "start_time": "2023-02-14T18:05:55.749Z"
   },
   {
    "duration": 8,
    "start_time": "2023-02-14T18:05:57.268Z"
   },
   {
    "duration": 83,
    "start_time": "2023-02-14T18:06:11.745Z"
   },
   {
    "duration": 9,
    "start_time": "2023-02-14T18:06:14.802Z"
   },
   {
    "duration": 6,
    "start_time": "2023-02-14T18:06:16.621Z"
   },
   {
    "duration": 5,
    "start_time": "2023-02-14T18:08:28.740Z"
   },
   {
    "duration": 841,
    "start_time": "2023-02-14T18:08:28.747Z"
   },
   {
    "duration": 770,
    "start_time": "2023-02-14T18:08:29.590Z"
   },
   {
    "duration": 948,
    "start_time": "2023-02-14T18:08:30.362Z"
   },
   {
    "duration": 30,
    "start_time": "2023-02-14T18:08:31.314Z"
   },
   {
    "duration": 167,
    "start_time": "2023-02-14T18:08:31.346Z"
   },
   {
    "duration": 16,
    "start_time": "2023-02-14T18:08:31.515Z"
   },
   {
    "duration": 1815,
    "start_time": "2023-02-14T18:08:31.533Z"
   },
   {
    "duration": 29,
    "start_time": "2023-02-14T18:08:33.351Z"
   },
   {
    "duration": 21,
    "start_time": "2023-02-14T18:08:33.382Z"
   },
   {
    "duration": 11,
    "start_time": "2023-02-14T18:08:33.413Z"
   },
   {
    "duration": 12,
    "start_time": "2023-02-14T18:08:33.428Z"
   },
   {
    "duration": 12,
    "start_time": "2023-02-14T18:08:33.441Z"
   },
   {
    "duration": 5,
    "start_time": "2023-02-14T18:08:33.455Z"
   },
   {
    "duration": 18,
    "start_time": "2023-02-14T18:08:33.461Z"
   },
   {
    "duration": 97,
    "start_time": "2023-02-14T18:08:33.481Z"
   },
   {
    "duration": 89,
    "start_time": "2023-02-14T18:08:33.580Z"
   },
   {
    "duration": 4,
    "start_time": "2023-02-14T18:08:33.670Z"
   },
   {
    "duration": 181,
    "start_time": "2023-02-14T18:08:33.676Z"
   },
   {
    "duration": 8,
    "start_time": "2023-02-14T18:09:14.450Z"
   },
   {
    "duration": 84,
    "start_time": "2023-02-14T18:09:19.529Z"
   },
   {
    "duration": 98,
    "start_time": "2023-02-14T18:09:35.633Z"
   },
   {
    "duration": 1597,
    "start_time": "2023-02-14T21:07:57.428Z"
   },
   {
    "duration": 3194,
    "start_time": "2023-02-14T21:07:59.027Z"
   },
   {
    "duration": 934,
    "start_time": "2023-02-14T21:08:02.223Z"
   },
   {
    "duration": 1011,
    "start_time": "2023-02-14T21:08:03.160Z"
   },
   {
    "duration": 42,
    "start_time": "2023-02-14T21:08:04.173Z"
   },
   {
    "duration": 261,
    "start_time": "2023-02-14T21:08:04.217Z"
   },
   {
    "duration": 11,
    "start_time": "2023-02-14T21:08:04.479Z"
   },
   {
    "duration": 1976,
    "start_time": "2023-02-14T21:08:04.491Z"
   },
   {
    "duration": 24,
    "start_time": "2023-02-14T21:08:06.469Z"
   },
   {
    "duration": 7,
    "start_time": "2023-02-14T21:08:06.495Z"
   },
   {
    "duration": 8,
    "start_time": "2023-02-14T21:08:06.503Z"
   },
   {
    "duration": 42,
    "start_time": "2023-02-14T21:08:06.513Z"
   },
   {
    "duration": 8,
    "start_time": "2023-02-14T21:08:06.556Z"
   },
   {
    "duration": 3,
    "start_time": "2023-02-14T21:08:06.568Z"
   },
   {
    "duration": 6,
    "start_time": "2023-02-14T21:08:06.573Z"
   },
   {
    "duration": 47,
    "start_time": "2023-02-14T21:08:06.581Z"
   },
   {
    "duration": 112,
    "start_time": "2023-02-14T21:08:06.629Z"
   },
   {
    "duration": 83,
    "start_time": "2023-02-14T21:08:06.743Z"
   },
   {
    "duration": 198027,
    "start_time": "2023-02-14T21:08:06.828Z"
   },
   {
    "duration": 21499,
    "start_time": "2023-02-14T21:14:26.718Z"
   },
   {
    "duration": 160,
    "start_time": "2023-02-14T21:18:39.013Z"
   },
   {
    "duration": 1103,
    "start_time": "2023-02-14T21:21:16.499Z"
   },
   {
    "duration": 1543,
    "start_time": "2023-02-14T21:42:42.429Z"
   },
   {
    "duration": 937,
    "start_time": "2023-02-14T21:42:43.975Z"
   },
   {
    "duration": 1102,
    "start_time": "2023-02-14T21:42:44.914Z"
   },
   {
    "duration": 1048,
    "start_time": "2023-02-14T21:42:46.018Z"
   },
   {
    "duration": 41,
    "start_time": "2023-02-14T21:42:47.069Z"
   },
   {
    "duration": 232,
    "start_time": "2023-02-14T21:42:47.111Z"
   },
   {
    "duration": 22,
    "start_time": "2023-02-14T21:42:47.344Z"
   },
   {
    "duration": 2115,
    "start_time": "2023-02-14T21:42:47.367Z"
   },
   {
    "duration": 34,
    "start_time": "2023-02-14T21:42:49.484Z"
   },
   {
    "duration": 6,
    "start_time": "2023-02-14T21:42:49.521Z"
   },
   {
    "duration": 11,
    "start_time": "2023-02-14T21:42:49.528Z"
   },
   {
    "duration": 14,
    "start_time": "2023-02-14T21:42:49.540Z"
   },
   {
    "duration": 29,
    "start_time": "2023-02-14T21:42:49.564Z"
   },
   {
    "duration": 10,
    "start_time": "2023-02-14T21:42:49.595Z"
   },
   {
    "duration": 5,
    "start_time": "2023-02-14T21:42:49.607Z"
   },
   {
    "duration": 43,
    "start_time": "2023-02-14T21:42:49.613Z"
   },
   {
    "duration": 107,
    "start_time": "2023-02-14T21:42:49.659Z"
   },
   {
    "duration": 8,
    "start_time": "2023-02-14T21:42:49.772Z"
   },
   {
    "duration": 182873,
    "start_time": "2023-02-14T21:42:49.781Z"
   },
   {
    "duration": 5556,
    "start_time": "2023-02-14T21:45:52.657Z"
   },
   {
    "duration": 4824,
    "start_time": "2023-02-14T21:45:58.214Z"
   },
   {
    "duration": 22936,
    "start_time": "2023-02-14T21:46:03.040Z"
   },
   {
    "duration": 5,
    "start_time": "2023-02-14T21:46:25.981Z"
   },
   {
    "duration": 1028,
    "start_time": "2023-02-14T21:46:25.987Z"
   },
   {
    "duration": 1168,
    "start_time": "2023-02-14T21:46:27.016Z"
   },
   {
    "duration": 260610,
    "start_time": "2023-02-14T21:46:28.185Z"
   },
   {
    "duration": 0,
    "start_time": "2023-02-14T21:50:48.796Z"
   },
   {
    "duration": 0,
    "start_time": "2023-02-14T21:50:48.798Z"
   },
   {
    "duration": 0,
    "start_time": "2023-02-14T21:50:48.798Z"
   },
   {
    "duration": 0,
    "start_time": "2023-02-14T21:50:48.799Z"
   },
   {
    "duration": 0,
    "start_time": "2023-02-14T21:50:48.800Z"
   },
   {
    "duration": 0,
    "start_time": "2023-02-14T21:50:48.801Z"
   },
   {
    "duration": 4,
    "start_time": "2023-02-14T21:52:19.784Z"
   },
   {
    "duration": 465,
    "start_time": "2023-02-14T21:52:34.516Z"
   },
   {
    "duration": 70299,
    "start_time": "2023-02-14T21:52:37.265Z"
   },
   {
    "duration": 1092,
    "start_time": "2023-02-14T21:53:56.230Z"
   },
   {
    "duration": 3,
    "start_time": "2023-02-14T21:54:00.841Z"
   },
   {
    "duration": 46309,
    "start_time": "2023-02-14T21:54:02.465Z"
   },
   {
    "duration": 8634,
    "start_time": "2023-02-14T21:54:55.969Z"
   },
   {
    "duration": 165104,
    "start_time": "2023-02-14T21:56:18.721Z"
   },
   {
    "duration": 3,
    "start_time": "2023-02-14T21:59:40.077Z"
   },
   {
    "duration": 7977,
    "start_time": "2023-02-14T21:59:42.482Z"
   },
   {
    "duration": 1076,
    "start_time": "2023-02-14T22:00:31.766Z"
   },
   {
    "duration": 353363,
    "start_time": "2023-02-14T22:00:35.332Z"
   },
   {
    "duration": 0,
    "start_time": "2023-02-14T22:06:28.697Z"
   },
   {
    "duration": 0,
    "start_time": "2023-02-14T22:06:28.698Z"
   },
   {
    "duration": 0,
    "start_time": "2023-02-14T22:06:28.750Z"
   },
   {
    "duration": 10,
    "start_time": "2023-02-14T22:06:48.313Z"
   },
   {
    "duration": 19,
    "start_time": "2023-02-14T22:07:23.646Z"
   },
   {
    "duration": 4,
    "start_time": "2023-02-14T22:07:56.975Z"
   },
   {
    "duration": 5,
    "start_time": "2023-02-14T22:08:16.666Z"
   },
   {
    "duration": 4,
    "start_time": "2023-02-14T22:08:52.338Z"
   },
   {
    "duration": 5,
    "start_time": "2023-02-14T22:09:05.679Z"
   },
   {
    "duration": 4,
    "start_time": "2023-02-14T22:09:38.494Z"
   },
   {
    "duration": 9,
    "start_time": "2023-02-14T22:10:00.891Z"
   },
   {
    "duration": 4,
    "start_time": "2023-02-14T22:10:50.473Z"
   },
   {
    "duration": 9,
    "start_time": "2023-02-14T22:13:31.671Z"
   },
   {
    "duration": 9,
    "start_time": "2023-02-14T22:13:46.026Z"
   },
   {
    "duration": 8,
    "start_time": "2023-02-14T22:13:57.615Z"
   },
   {
    "duration": 6,
    "start_time": "2023-02-14T22:14:12.973Z"
   },
   {
    "duration": 9,
    "start_time": "2023-02-14T22:14:22.531Z"
   },
   {
    "duration": 5,
    "start_time": "2023-02-14T22:14:53.787Z"
   },
   {
    "duration": 3,
    "start_time": "2023-02-14T22:15:00.074Z"
   },
   {
    "duration": 12,
    "start_time": "2023-02-14T22:15:05.207Z"
   },
   {
    "duration": 3,
    "start_time": "2023-02-14T22:16:06.808Z"
   },
   {
    "duration": 1500,
    "start_time": "2023-02-14T22:17:34.409Z"
   },
   {
    "duration": 897,
    "start_time": "2023-02-14T22:17:35.911Z"
   },
   {
    "duration": 977,
    "start_time": "2023-02-14T22:17:36.810Z"
   },
   {
    "duration": 1029,
    "start_time": "2023-02-14T22:17:37.789Z"
   },
   {
    "duration": 52,
    "start_time": "2023-02-14T22:17:38.820Z"
   },
   {
    "duration": 220,
    "start_time": "2023-02-14T22:17:38.874Z"
   },
   {
    "duration": 11,
    "start_time": "2023-02-14T22:17:39.096Z"
   },
   {
    "duration": 1868,
    "start_time": "2023-02-14T22:17:39.109Z"
   },
   {
    "duration": 18,
    "start_time": "2023-02-14T22:17:40.979Z"
   },
   {
    "duration": 6,
    "start_time": "2023-02-14T22:17:40.999Z"
   },
   {
    "duration": 32,
    "start_time": "2023-02-14T22:17:41.006Z"
   },
   {
    "duration": 43,
    "start_time": "2023-02-14T22:17:41.039Z"
   },
   {
    "duration": 33,
    "start_time": "2023-02-14T22:17:41.083Z"
   },
   {
    "duration": 18,
    "start_time": "2023-02-14T22:17:41.119Z"
   },
   {
    "duration": 7,
    "start_time": "2023-02-14T22:17:41.139Z"
   },
   {
    "duration": 49,
    "start_time": "2023-02-14T22:17:41.147Z"
   },
   {
    "duration": 90,
    "start_time": "2023-02-14T22:17:41.198Z"
   },
   {
    "duration": 4,
    "start_time": "2023-02-14T22:17:41.290Z"
   },
   {
    "duration": 199158,
    "start_time": "2023-02-14T22:17:41.296Z"
   },
   {
    "duration": 5179,
    "start_time": "2023-02-14T22:21:00.455Z"
   },
   {
    "duration": 5484,
    "start_time": "2023-02-14T22:21:05.635Z"
   },
   {
    "duration": 20018,
    "start_time": "2023-02-14T22:21:11.121Z"
   },
   {
    "duration": 4,
    "start_time": "2023-02-14T22:21:31.140Z"
   },
   {
    "duration": 1039,
    "start_time": "2023-02-14T22:21:31.147Z"
   },
   {
    "duration": 1065,
    "start_time": "2023-02-14T22:21:32.188Z"
   },
   {
    "duration": 0,
    "start_time": "2023-02-14T22:21:33.255Z"
   },
   {
    "duration": 0,
    "start_time": "2023-02-14T22:21:33.256Z"
   },
   {
    "duration": 0,
    "start_time": "2023-02-14T22:21:33.257Z"
   },
   {
    "duration": 0,
    "start_time": "2023-02-14T22:21:33.260Z"
   },
   {
    "duration": 0,
    "start_time": "2023-02-14T22:21:33.261Z"
   },
   {
    "duration": 0,
    "start_time": "2023-02-14T22:21:33.264Z"
   },
   {
    "duration": 0,
    "start_time": "2023-02-14T22:21:33.265Z"
   },
   {
    "duration": 894,
    "start_time": "2023-02-14T22:22:22.488Z"
   },
   {
    "duration": 205,
    "start_time": "2023-02-14T22:23:16.363Z"
   },
   {
    "duration": 214,
    "start_time": "2023-02-14T22:24:20.302Z"
   },
   {
    "duration": 215,
    "start_time": "2023-02-14T22:24:21.160Z"
   },
   {
    "duration": 34,
    "start_time": "2023-02-14T22:25:22.214Z"
   },
   {
    "duration": 25,
    "start_time": "2023-02-14T22:25:38.482Z"
   },
   {
    "duration": 582,
    "start_time": "2023-02-14T22:27:30.970Z"
   },
   {
    "duration": 37932,
    "start_time": "2023-02-14T22:27:39.445Z"
   },
   {
    "duration": 218,
    "start_time": "2023-02-14T22:28:23.322Z"
   },
   {
    "duration": 917,
    "start_time": "2023-02-14T22:29:47.936Z"
   },
   {
    "duration": 901,
    "start_time": "2023-02-14T22:29:55.783Z"
   },
   {
    "duration": 1088,
    "start_time": "2023-02-14T22:30:12.250Z"
   },
   {
    "duration": 1334,
    "start_time": "2023-02-14T22:31:01.195Z"
   },
   {
    "duration": 857,
    "start_time": "2023-02-14T22:31:02.531Z"
   },
   {
    "duration": 117,
    "start_time": "2023-02-14T22:31:03.389Z"
   },
   {
    "duration": 0,
    "start_time": "2023-02-14T22:31:03.508Z"
   },
   {
    "duration": 0,
    "start_time": "2023-02-14T22:31:03.509Z"
   },
   {
    "duration": 0,
    "start_time": "2023-02-14T22:31:03.510Z"
   },
   {
    "duration": 0,
    "start_time": "2023-02-14T22:31:03.511Z"
   },
   {
    "duration": 0,
    "start_time": "2023-02-14T22:31:03.512Z"
   },
   {
    "duration": 0,
    "start_time": "2023-02-14T22:31:03.513Z"
   },
   {
    "duration": 0,
    "start_time": "2023-02-14T22:31:03.514Z"
   },
   {
    "duration": 0,
    "start_time": "2023-02-14T22:31:03.515Z"
   },
   {
    "duration": 0,
    "start_time": "2023-02-14T22:31:03.516Z"
   },
   {
    "duration": 0,
    "start_time": "2023-02-14T22:31:03.517Z"
   },
   {
    "duration": 0,
    "start_time": "2023-02-14T22:31:03.518Z"
   },
   {
    "duration": 0,
    "start_time": "2023-02-14T22:31:03.519Z"
   },
   {
    "duration": 0,
    "start_time": "2023-02-14T22:31:03.520Z"
   },
   {
    "duration": 0,
    "start_time": "2023-02-14T22:31:03.521Z"
   },
   {
    "duration": 0,
    "start_time": "2023-02-14T22:31:03.522Z"
   },
   {
    "duration": 0,
    "start_time": "2023-02-14T22:31:03.550Z"
   },
   {
    "duration": 0,
    "start_time": "2023-02-14T22:31:03.550Z"
   },
   {
    "duration": 0,
    "start_time": "2023-02-14T22:31:03.551Z"
   },
   {
    "duration": 0,
    "start_time": "2023-02-14T22:31:03.553Z"
   },
   {
    "duration": 0,
    "start_time": "2023-02-14T22:31:03.554Z"
   },
   {
    "duration": 0,
    "start_time": "2023-02-14T22:31:03.558Z"
   },
   {
    "duration": 0,
    "start_time": "2023-02-14T22:31:03.559Z"
   },
   {
    "duration": 0,
    "start_time": "2023-02-14T22:31:03.560Z"
   },
   {
    "duration": 0,
    "start_time": "2023-02-14T22:31:03.560Z"
   },
   {
    "duration": 0,
    "start_time": "2023-02-14T22:31:03.561Z"
   },
   {
    "duration": 0,
    "start_time": "2023-02-14T22:31:03.563Z"
   },
   {
    "duration": 0,
    "start_time": "2023-02-14T22:31:03.564Z"
   },
   {
    "duration": 0,
    "start_time": "2023-02-14T22:31:03.566Z"
   },
   {
    "duration": 0,
    "start_time": "2023-02-14T22:31:03.566Z"
   },
   {
    "duration": 0,
    "start_time": "2023-02-14T22:31:03.567Z"
   },
   {
    "duration": 1356,
    "start_time": "2023-02-14T22:31:52.603Z"
   },
   {
    "duration": 865,
    "start_time": "2023-02-14T22:31:53.964Z"
   },
   {
    "duration": 933,
    "start_time": "2023-02-14T22:31:54.831Z"
   },
   {
    "duration": 981,
    "start_time": "2023-02-14T22:31:55.766Z"
   },
   {
    "duration": 39,
    "start_time": "2023-02-14T22:31:56.755Z"
   },
   {
    "duration": 200,
    "start_time": "2023-02-14T22:31:56.796Z"
   },
   {
    "duration": 10,
    "start_time": "2023-02-14T22:31:56.998Z"
   },
   {
    "duration": 1880,
    "start_time": "2023-02-14T22:31:57.009Z"
   },
   {
    "duration": 29,
    "start_time": "2023-02-14T22:31:58.891Z"
   },
   {
    "duration": 26,
    "start_time": "2023-02-14T22:31:58.923Z"
   },
   {
    "duration": 12,
    "start_time": "2023-02-14T22:31:58.953Z"
   },
   {
    "duration": 12,
    "start_time": "2023-02-14T22:31:58.967Z"
   },
   {
    "duration": 8,
    "start_time": "2023-02-14T22:31:58.980Z"
   },
   {
    "duration": 14,
    "start_time": "2023-02-14T22:31:58.990Z"
   },
   {
    "duration": 12,
    "start_time": "2023-02-14T22:31:59.006Z"
   },
   {
    "duration": 57,
    "start_time": "2023-02-14T22:31:59.020Z"
   },
   {
    "duration": 90,
    "start_time": "2023-02-14T22:31:59.079Z"
   },
   {
    "duration": 4,
    "start_time": "2023-02-14T22:31:59.170Z"
   },
   {
    "duration": 185097,
    "start_time": "2023-02-14T22:31:59.176Z"
   },
   {
    "duration": 4965,
    "start_time": "2023-02-14T22:35:04.352Z"
   },
   {
    "duration": 5210,
    "start_time": "2023-02-14T22:35:09.319Z"
   },
   {
    "duration": 19934,
    "start_time": "2023-02-14T22:35:14.531Z"
   },
   {
    "duration": 12,
    "start_time": "2023-02-14T22:35:34.467Z"
   },
   {
    "duration": 960,
    "start_time": "2023-02-14T22:35:34.482Z"
   },
   {
    "duration": 1047,
    "start_time": "2023-02-14T22:35:35.443Z"
   },
   {
    "duration": 0,
    "start_time": "2023-02-14T22:35:36.492Z"
   },
   {
    "duration": 0,
    "start_time": "2023-02-14T22:35:36.494Z"
   },
   {
    "duration": 0,
    "start_time": "2023-02-14T22:35:36.495Z"
   },
   {
    "duration": 0,
    "start_time": "2023-02-14T22:35:36.496Z"
   },
   {
    "duration": 0,
    "start_time": "2023-02-14T22:35:36.498Z"
   },
   {
    "duration": 0,
    "start_time": "2023-02-14T22:35:36.499Z"
   },
   {
    "duration": 0,
    "start_time": "2023-02-14T22:35:36.501Z"
   },
   {
    "duration": 873,
    "start_time": "2023-02-14T22:36:40.962Z"
   },
   {
    "duration": 259,
    "start_time": "2023-02-14T22:36:55.380Z"
   },
   {
    "duration": 10,
    "start_time": "2023-02-14T22:37:31.900Z"
   },
   {
    "duration": 11,
    "start_time": "2023-02-14T22:37:37.344Z"
   },
   {
    "duration": 135629,
    "start_time": "2023-02-14T22:37:42.144Z"
   },
   {
    "duration": 2,
    "start_time": "2023-02-14T22:39:57.775Z"
   },
   {
    "duration": 7801,
    "start_time": "2023-02-14T22:39:57.779Z"
   },
   {
    "duration": 0,
    "start_time": "2023-02-14T22:40:05.582Z"
   },
   {
    "duration": 7657,
    "start_time": "2023-02-14T22:40:25.270Z"
   },
   {
    "duration": 7528,
    "start_time": "2023-02-14T22:40:41.936Z"
   },
   {
    "duration": 10,
    "start_time": "2023-02-14T22:41:17.729Z"
   },
   {
    "duration": 946,
    "start_time": "2023-02-14T22:41:54.662Z"
   },
   {
    "duration": 859,
    "start_time": "2023-02-14T22:41:58.075Z"
   },
   {
    "duration": 1096,
    "start_time": "2023-02-14T22:44:25.043Z"
   },
   {
    "duration": 1071,
    "start_time": "2023-02-14T22:45:31.418Z"
   },
   {
    "duration": 1056,
    "start_time": "2023-02-14T22:45:55.735Z"
   },
   {
    "duration": 1022,
    "start_time": "2023-02-14T22:46:27.872Z"
   },
   {
    "duration": 728523,
    "start_time": "2023-02-14T22:46:31.162Z"
   },
   {
    "duration": 0,
    "start_time": "2023-02-14T22:58:39.687Z"
   },
   {
    "duration": 0,
    "start_time": "2023-02-14T22:58:39.688Z"
   },
   {
    "duration": 18578,
    "start_time": "2023-02-14T22:58:49.508Z"
   },
   {
    "duration": 119616,
    "start_time": "2023-02-14T22:59:16.965Z"
   },
   {
    "duration": 0,
    "start_time": "2023-02-14T23:01:16.583Z"
   },
   {
    "duration": 236,
    "start_time": "2023-02-14T23:01:18.069Z"
   },
   {
    "duration": 9,
    "start_time": "2023-02-14T23:01:26.468Z"
   },
   {
    "duration": 10,
    "start_time": "2023-02-14T23:01:39.118Z"
   },
   {
    "duration": 1080,
    "start_time": "2023-02-14T23:02:22.123Z"
   },
   {
    "duration": 1164,
    "start_time": "2023-02-14T23:02:34.510Z"
   },
   {
    "duration": 104321,
    "start_time": "2023-02-14T23:02:47.374Z"
   },
   {
    "duration": 1437,
    "start_time": "2023-02-14T23:08:04.631Z"
   },
   {
    "duration": 832,
    "start_time": "2023-02-14T23:08:06.070Z"
   },
   {
    "duration": 900,
    "start_time": "2023-02-14T23:08:06.904Z"
   },
   {
    "duration": 984,
    "start_time": "2023-02-14T23:08:07.806Z"
   },
   {
    "duration": 44,
    "start_time": "2023-02-14T23:08:08.792Z"
   },
   {
    "duration": 197,
    "start_time": "2023-02-14T23:08:08.838Z"
   },
   {
    "duration": 24,
    "start_time": "2023-02-14T23:08:09.036Z"
   },
   {
    "duration": 1845,
    "start_time": "2023-02-14T23:08:09.064Z"
   },
   {
    "duration": 27,
    "start_time": "2023-02-14T23:08:10.911Z"
   },
   {
    "duration": 13,
    "start_time": "2023-02-14T23:08:10.951Z"
   },
   {
    "duration": 9,
    "start_time": "2023-02-14T23:08:10.965Z"
   },
   {
    "duration": 7,
    "start_time": "2023-02-14T23:08:10.976Z"
   },
   {
    "duration": 6,
    "start_time": "2023-02-14T23:08:10.985Z"
   },
   {
    "duration": 5,
    "start_time": "2023-02-14T23:08:10.993Z"
   },
   {
    "duration": 10,
    "start_time": "2023-02-14T23:08:11.000Z"
   },
   {
    "duration": 75,
    "start_time": "2023-02-14T23:08:11.012Z"
   },
   {
    "duration": 94,
    "start_time": "2023-02-14T23:08:11.089Z"
   },
   {
    "duration": 4,
    "start_time": "2023-02-14T23:08:11.185Z"
   },
   {
    "duration": 204172,
    "start_time": "2023-02-14T23:08:11.191Z"
   },
   {
    "duration": 4938,
    "start_time": "2023-02-14T23:11:35.372Z"
   },
   {
    "duration": 1374,
    "start_time": "2023-02-14T23:11:45.732Z"
   },
   {
    "duration": 856,
    "start_time": "2023-02-14T23:11:47.107Z"
   },
   {
    "duration": 876,
    "start_time": "2023-02-14T23:11:47.965Z"
   },
   {
    "duration": 966,
    "start_time": "2023-02-14T23:11:48.852Z"
   },
   {
    "duration": 43,
    "start_time": "2023-02-14T23:11:49.820Z"
   },
   {
    "duration": 204,
    "start_time": "2023-02-14T23:11:49.864Z"
   },
   {
    "duration": 14,
    "start_time": "2023-02-14T23:11:50.070Z"
   },
   {
    "duration": 2041,
    "start_time": "2023-02-14T23:11:50.086Z"
   },
   {
    "duration": 43,
    "start_time": "2023-02-14T23:11:52.129Z"
   },
   {
    "duration": 6,
    "start_time": "2023-02-14T23:11:52.176Z"
   },
   {
    "duration": 25,
    "start_time": "2023-02-14T23:11:52.184Z"
   },
   {
    "duration": 15,
    "start_time": "2023-02-14T23:11:52.211Z"
   },
   {
    "duration": 12,
    "start_time": "2023-02-14T23:11:52.228Z"
   },
   {
    "duration": 41,
    "start_time": "2023-02-14T23:11:52.242Z"
   },
   {
    "duration": 24,
    "start_time": "2023-02-14T23:11:52.285Z"
   },
   {
    "duration": 52,
    "start_time": "2023-02-14T23:11:52.311Z"
   },
   {
    "duration": 95,
    "start_time": "2023-02-14T23:11:52.365Z"
   },
   {
    "duration": 4,
    "start_time": "2023-02-14T23:11:52.464Z"
   },
   {
    "duration": 193984,
    "start_time": "2023-02-14T23:11:52.469Z"
   },
   {
    "duration": 5470,
    "start_time": "2023-02-14T23:15:06.455Z"
   },
   {
    "duration": 5069,
    "start_time": "2023-02-14T23:15:11.927Z"
   },
   {
    "duration": 20643,
    "start_time": "2023-02-14T23:15:16.998Z"
   },
   {
    "duration": 13,
    "start_time": "2023-02-14T23:15:37.642Z"
   },
   {
    "duration": 982,
    "start_time": "2023-02-14T23:15:37.660Z"
   },
   {
    "duration": 1049,
    "start_time": "2023-02-14T23:15:38.643Z"
   },
   {
    "duration": 217467,
    "start_time": "2023-02-14T23:15:39.693Z"
   },
   {
    "duration": 0,
    "start_time": "2023-02-14T23:19:17.164Z"
   },
   {
    "duration": 0,
    "start_time": "2023-02-14T23:19:17.165Z"
   },
   {
    "duration": 0,
    "start_time": "2023-02-14T23:19:17.167Z"
   },
   {
    "duration": 0,
    "start_time": "2023-02-14T23:19:17.168Z"
   },
   {
    "duration": 0,
    "start_time": "2023-02-14T23:19:17.169Z"
   },
   {
    "duration": 0,
    "start_time": "2023-02-14T23:19:17.170Z"
   },
   {
    "duration": 0,
    "start_time": "2023-02-14T23:19:17.173Z"
   },
   {
    "duration": 51904,
    "start_time": "2023-02-14T23:19:24.163Z"
   },
   {
    "duration": 20,
    "start_time": "2023-02-14T23:21:45.374Z"
   },
   {
    "duration": 291258,
    "start_time": "2023-02-14T23:23:21.628Z"
   },
   {
    "duration": 3,
    "start_time": "2023-02-14T23:28:47.084Z"
   },
   {
    "duration": 1707,
    "start_time": "2023-02-14T23:29:12.318Z"
   },
   {
    "duration": 464,
    "start_time": "2023-02-14T23:29:18.914Z"
   },
   {
    "duration": 1018913,
    "start_time": "2023-02-14T23:29:24.377Z"
   },
   {
    "duration": 1,
    "start_time": "2023-02-14T23:46:23.292Z"
   },
   {
    "duration": 0,
    "start_time": "2023-02-14T23:46:23.294Z"
   },
   {
    "duration": 0,
    "start_time": "2023-02-14T23:46:23.295Z"
   },
   {
    "duration": 1240,
    "start_time": "2023-02-14T23:46:25.353Z"
   },
   {
    "duration": 1440,
    "start_time": "2023-02-14T23:47:42.587Z"
   },
   {
    "duration": 917,
    "start_time": "2023-02-14T23:47:44.028Z"
   },
   {
    "duration": 1024,
    "start_time": "2023-02-14T23:47:44.949Z"
   },
   {
    "duration": 1062,
    "start_time": "2023-02-14T23:47:45.974Z"
   },
   {
    "duration": 48,
    "start_time": "2023-02-14T23:47:47.039Z"
   },
   {
    "duration": 224,
    "start_time": "2023-02-14T23:47:47.088Z"
   },
   {
    "duration": 12,
    "start_time": "2023-02-14T23:47:47.314Z"
   },
   {
    "duration": 2045,
    "start_time": "2023-02-14T23:47:47.328Z"
   },
   {
    "duration": 23,
    "start_time": "2023-02-14T23:47:49.375Z"
   },
   {
    "duration": 2,
    "start_time": "2023-02-14T23:47:49.400Z"
   },
   {
    "duration": 12,
    "start_time": "2023-02-14T23:47:49.403Z"
   },
   {
    "duration": 3,
    "start_time": "2023-02-14T23:47:49.417Z"
   },
   {
    "duration": 39,
    "start_time": "2023-02-14T23:47:49.421Z"
   },
   {
    "duration": 9,
    "start_time": "2023-02-14T23:47:49.464Z"
   },
   {
    "duration": 5,
    "start_time": "2023-02-14T23:47:49.476Z"
   },
   {
    "duration": 42,
    "start_time": "2023-02-14T23:47:49.482Z"
   },
   {
    "duration": 106,
    "start_time": "2023-02-14T23:47:49.526Z"
   },
   {
    "duration": 4,
    "start_time": "2023-02-14T23:47:49.633Z"
   },
   {
    "duration": 25,
    "start_time": "2023-02-14T23:47:49.639Z"
   },
   {
    "duration": 244904,
    "start_time": "2023-02-14T23:47:49.665Z"
   },
   {
    "duration": 5571,
    "start_time": "2023-02-14T23:51:54.575Z"
   },
   {
    "duration": 5620,
    "start_time": "2023-02-14T23:52:00.153Z"
   },
   {
    "duration": 24678,
    "start_time": "2023-02-14T23:52:05.775Z"
   },
   {
    "duration": 5,
    "start_time": "2023-02-14T23:52:30.462Z"
   },
   {
    "duration": 1512,
    "start_time": "2023-02-14T23:52:32.797Z"
   },
   {
    "duration": 911,
    "start_time": "2023-02-14T23:52:34.312Z"
   },
   {
    "duration": 987,
    "start_time": "2023-02-14T23:52:35.226Z"
   },
   {
    "duration": 1061,
    "start_time": "2023-02-14T23:52:36.214Z"
   },
   {
    "duration": 39,
    "start_time": "2023-02-14T23:52:37.278Z"
   },
   {
    "duration": 216,
    "start_time": "2023-02-14T23:52:37.319Z"
   },
   {
    "duration": 23,
    "start_time": "2023-02-14T23:52:37.537Z"
   },
   {
    "duration": 1996,
    "start_time": "2023-02-14T23:52:37.562Z"
   },
   {
    "duration": 22,
    "start_time": "2023-02-14T23:52:39.561Z"
   },
   {
    "duration": 7,
    "start_time": "2023-02-14T23:52:39.584Z"
   },
   {
    "duration": 10,
    "start_time": "2023-02-14T23:52:39.593Z"
   },
   {
    "duration": 14,
    "start_time": "2023-02-14T23:52:39.605Z"
   },
   {
    "duration": 6,
    "start_time": "2023-02-14T23:52:39.621Z"
   },
   {
    "duration": 8,
    "start_time": "2023-02-14T23:52:39.651Z"
   },
   {
    "duration": 10,
    "start_time": "2023-02-14T23:52:39.662Z"
   },
   {
    "duration": 39,
    "start_time": "2023-02-14T23:52:39.674Z"
   },
   {
    "duration": 101,
    "start_time": "2023-02-14T23:52:39.715Z"
   },
   {
    "duration": 4,
    "start_time": "2023-02-14T23:52:39.818Z"
   },
   {
    "duration": 11,
    "start_time": "2023-02-14T23:52:39.824Z"
   },
   {
    "duration": 222015,
    "start_time": "2023-02-14T23:52:39.837Z"
   },
   {
    "duration": 5869,
    "start_time": "2023-02-14T23:56:21.855Z"
   },
   {
    "duration": 5306,
    "start_time": "2023-02-14T23:56:27.726Z"
   },
   {
    "duration": 24860,
    "start_time": "2023-02-14T23:56:33.034Z"
   },
   {
    "duration": 8,
    "start_time": "2023-02-14T23:56:57.895Z"
   },
   {
    "duration": 962,
    "start_time": "2023-02-14T23:56:57.905Z"
   },
   {
    "duration": 1179,
    "start_time": "2023-02-14T23:56:58.870Z"
   },
   {
    "duration": 4739,
    "start_time": "2023-02-15T18:45:00.752Z"
   },
   {
    "duration": 3106,
    "start_time": "2023-02-15T18:45:05.493Z"
   },
   {
    "duration": 841,
    "start_time": "2023-02-15T18:45:08.600Z"
   },
   {
    "duration": 862,
    "start_time": "2023-02-15T18:45:09.442Z"
   },
   {
    "duration": 35,
    "start_time": "2023-02-15T18:45:10.306Z"
   },
   {
    "duration": 196,
    "start_time": "2023-02-15T18:45:10.342Z"
   },
   {
    "duration": 10,
    "start_time": "2023-02-15T18:45:10.540Z"
   },
   {
    "duration": 1743,
    "start_time": "2023-02-15T18:45:10.551Z"
   },
   {
    "duration": 19,
    "start_time": "2023-02-15T18:45:12.295Z"
   },
   {
    "duration": 6,
    "start_time": "2023-02-15T18:45:12.316Z"
   },
   {
    "duration": 10,
    "start_time": "2023-02-15T18:45:12.323Z"
   },
   {
    "duration": 10,
    "start_time": "2023-02-15T18:45:12.334Z"
   },
   {
    "duration": 6,
    "start_time": "2023-02-15T18:45:12.346Z"
   },
   {
    "duration": 3,
    "start_time": "2023-02-15T18:45:12.354Z"
   },
   {
    "duration": 3,
    "start_time": "2023-02-15T18:45:12.392Z"
   },
   {
    "duration": 51,
    "start_time": "2023-02-15T18:45:12.397Z"
   },
   {
    "duration": 91,
    "start_time": "2023-02-15T18:45:12.449Z"
   },
   {
    "duration": 4,
    "start_time": "2023-02-15T18:45:12.542Z"
   },
   {
    "duration": 6,
    "start_time": "2023-02-15T18:45:12.547Z"
   },
   {
    "duration": 96739,
    "start_time": "2023-02-15T18:45:12.554Z"
   },
   {
    "duration": 5302,
    "start_time": "2023-02-15T18:48:26.468Z"
   },
   {
    "duration": 105,
    "start_time": "2023-02-15T18:52:14.124Z"
   },
   {
    "duration": 4648,
    "start_time": "2023-02-15T18:52:23.700Z"
   },
   {
    "duration": 5338,
    "start_time": "2023-02-15T18:54:17.929Z"
   },
   {
    "duration": 24175,
    "start_time": "2023-02-15T18:55:07.817Z"
   },
   {
    "duration": 16478,
    "start_time": "2023-02-15T18:57:25.815Z"
   },
   {
    "duration": 1233,
    "start_time": "2023-02-15T19:10:55.749Z"
   },
   {
    "duration": 30,
    "start_time": "2023-02-15T19:11:16.496Z"
   },
   {
    "duration": 25698,
    "start_time": "2023-02-15T19:11:55.032Z"
   },
   {
    "duration": 11883,
    "start_time": "2023-02-15T19:30:06.823Z"
   },
   {
    "duration": 3,
    "start_time": "2023-02-15T19:30:37.078Z"
   },
   {
    "duration": 11,
    "start_time": "2023-02-15T19:30:42.565Z"
   },
   {
    "duration": 6,
    "start_time": "2023-02-15T19:31:32.519Z"
   },
   {
    "duration": 2459,
    "start_time": "2023-02-15T20:16:42.177Z"
   },
   {
    "duration": 3296,
    "start_time": "2023-02-15T20:16:44.639Z"
   },
   {
    "duration": 968,
    "start_time": "2023-02-15T20:16:47.937Z"
   },
   {
    "duration": 1080,
    "start_time": "2023-02-15T20:16:48.907Z"
   },
   {
    "duration": 51,
    "start_time": "2023-02-15T20:16:49.993Z"
   },
   {
    "duration": 238,
    "start_time": "2023-02-15T20:16:50.047Z"
   },
   {
    "duration": 13,
    "start_time": "2023-02-15T20:16:50.292Z"
   },
   {
    "duration": 1928,
    "start_time": "2023-02-15T20:16:50.308Z"
   },
   {
    "duration": 29,
    "start_time": "2023-02-15T20:16:52.238Z"
   },
   {
    "duration": 30,
    "start_time": "2023-02-15T20:16:52.269Z"
   },
   {
    "duration": 11,
    "start_time": "2023-02-15T20:16:52.302Z"
   },
   {
    "duration": 8,
    "start_time": "2023-02-15T20:16:52.315Z"
   },
   {
    "duration": 12,
    "start_time": "2023-02-15T20:16:52.325Z"
   },
   {
    "duration": 4,
    "start_time": "2023-02-15T20:16:52.341Z"
   },
   {
    "duration": 5,
    "start_time": "2023-02-15T20:16:52.347Z"
   },
   {
    "duration": 66,
    "start_time": "2023-02-15T20:16:52.354Z"
   },
   {
    "duration": 109,
    "start_time": "2023-02-15T20:16:52.422Z"
   },
   {
    "duration": 6,
    "start_time": "2023-02-15T20:16:52.533Z"
   },
   {
    "duration": 7,
    "start_time": "2023-02-15T20:16:52.540Z"
   },
   {
    "duration": 103378,
    "start_time": "2023-02-15T20:16:52.549Z"
   },
   {
    "duration": 20,
    "start_time": "2023-02-15T20:18:35.930Z"
   },
   {
    "duration": 12,
    "start_time": "2023-02-15T20:18:42.236Z"
   },
   {
    "duration": 15,
    "start_time": "2023-02-15T20:25:54.517Z"
   },
   {
    "duration": 13,
    "start_time": "2023-02-15T20:26:19.924Z"
   },
   {
    "duration": 15,
    "start_time": "2023-02-15T20:28:04.501Z"
   },
   {
    "duration": 207,
    "start_time": "2023-02-15T20:28:48.362Z"
   },
   {
    "duration": 168,
    "start_time": "2023-02-15T20:30:38.235Z"
   },
   {
    "duration": 220,
    "start_time": "2023-02-15T20:30:51.259Z"
   },
   {
    "duration": 162,
    "start_time": "2023-02-15T20:31:37.395Z"
   },
   {
    "duration": 159,
    "start_time": "2023-02-15T20:31:57.134Z"
   },
   {
    "duration": 7,
    "start_time": "2023-02-15T20:33:18.546Z"
   },
   {
    "duration": 10,
    "start_time": "2023-02-15T20:33:46.975Z"
   },
   {
    "duration": 10,
    "start_time": "2023-02-15T20:34:07.846Z"
   },
   {
    "duration": 12,
    "start_time": "2023-02-15T20:34:13.891Z"
   },
   {
    "duration": 7,
    "start_time": "2023-02-15T20:34:42.587Z"
   },
   {
    "duration": 13,
    "start_time": "2023-02-15T20:35:11.176Z"
   },
   {
    "duration": 5,
    "start_time": "2023-02-15T20:35:53.167Z"
   },
   {
    "duration": 168,
    "start_time": "2023-02-15T20:36:27.395Z"
   },
   {
    "duration": 275,
    "start_time": "2023-02-15T20:36:45.099Z"
   },
   {
    "duration": 167,
    "start_time": "2023-02-15T20:36:59.491Z"
   },
   {
    "duration": 306,
    "start_time": "2023-02-15T20:37:57.327Z"
   },
   {
    "duration": 12,
    "start_time": "2023-02-15T20:45:29.429Z"
   },
   {
    "duration": 576,
    "start_time": "2023-02-15T20:46:33.706Z"
   },
   {
    "duration": 632,
    "start_time": "2023-02-15T20:46:57.226Z"
   },
   {
    "duration": 636,
    "start_time": "2023-02-15T20:47:32.958Z"
   },
   {
    "duration": 269191,
    "start_time": "2023-02-15T20:47:51.617Z"
   },
   {
    "duration": 11,
    "start_time": "2023-02-15T20:57:43.153Z"
   },
   {
    "duration": 59557,
    "start_time": "2023-02-15T20:57:54.638Z"
   },
   {
    "duration": 6,
    "start_time": "2023-02-15T21:00:53.029Z"
   },
   {
    "duration": 6,
    "start_time": "2023-02-15T21:01:06.729Z"
   },
   {
    "duration": 17,
    "start_time": "2023-02-15T21:12:32.410Z"
   },
   {
    "duration": 178854,
    "start_time": "2023-02-15T21:12:48.039Z"
   },
   {
    "duration": 5774,
    "start_time": "2023-02-15T21:15:46.895Z"
   },
   {
    "duration": 3,
    "start_time": "2023-02-15T21:21:04.726Z"
   },
   {
    "duration": 10,
    "start_time": "2023-02-15T21:21:06.885Z"
   },
   {
    "duration": 1054,
    "start_time": "2023-02-15T23:14:24.817Z"
   },
   {
    "duration": 1865,
    "start_time": "2023-02-15T23:20:01.120Z"
   },
   {
    "duration": 1204,
    "start_time": "2023-02-15T23:20:02.988Z"
   },
   {
    "duration": 976,
    "start_time": "2023-02-15T23:20:04.193Z"
   },
   {
    "duration": 1076,
    "start_time": "2023-02-15T23:20:05.172Z"
   },
   {
    "duration": 39,
    "start_time": "2023-02-15T23:20:06.251Z"
   },
   {
    "duration": 226,
    "start_time": "2023-02-15T23:20:06.292Z"
   },
   {
    "duration": 11,
    "start_time": "2023-02-15T23:20:06.520Z"
   },
   {
    "duration": 259,
    "start_time": "2023-02-15T23:20:06.539Z"
   },
   {
    "duration": 0,
    "start_time": "2023-02-15T23:20:06.801Z"
   },
   {
    "duration": 0,
    "start_time": "2023-02-15T23:20:06.803Z"
   },
   {
    "duration": 0,
    "start_time": "2023-02-15T23:20:06.804Z"
   },
   {
    "duration": 0,
    "start_time": "2023-02-15T23:20:06.806Z"
   },
   {
    "duration": 0,
    "start_time": "2023-02-15T23:20:06.808Z"
   },
   {
    "duration": 0,
    "start_time": "2023-02-15T23:20:06.809Z"
   },
   {
    "duration": 0,
    "start_time": "2023-02-15T23:20:06.811Z"
   },
   {
    "duration": 0,
    "start_time": "2023-02-15T23:20:06.812Z"
   },
   {
    "duration": 0,
    "start_time": "2023-02-15T23:20:06.814Z"
   },
   {
    "duration": 0,
    "start_time": "2023-02-15T23:20:06.840Z"
   },
   {
    "duration": 0,
    "start_time": "2023-02-15T23:20:06.842Z"
   },
   {
    "duration": 0,
    "start_time": "2023-02-15T23:20:06.843Z"
   },
   {
    "duration": 0,
    "start_time": "2023-02-15T23:20:06.845Z"
   },
   {
    "duration": 1767,
    "start_time": "2023-02-15T23:20:20.780Z"
   },
   {
    "duration": 4,
    "start_time": "2023-02-15T23:20:33.691Z"
   },
   {
    "duration": 853,
    "start_time": "2023-02-15T23:20:33.697Z"
   },
   {
    "duration": 959,
    "start_time": "2023-02-15T23:20:34.551Z"
   },
   {
    "duration": 972,
    "start_time": "2023-02-15T23:20:35.512Z"
   },
   {
    "duration": 32,
    "start_time": "2023-02-15T23:20:36.487Z"
   },
   {
    "duration": 194,
    "start_time": "2023-02-15T23:20:36.521Z"
   },
   {
    "duration": 13,
    "start_time": "2023-02-15T23:20:36.716Z"
   },
   {
    "duration": 1754,
    "start_time": "2023-02-15T23:20:36.739Z"
   },
   {
    "duration": 18,
    "start_time": "2023-02-15T23:20:38.494Z"
   },
   {
    "duration": 7,
    "start_time": "2023-02-15T23:20:38.514Z"
   },
   {
    "duration": 8,
    "start_time": "2023-02-15T23:20:38.539Z"
   },
   {
    "duration": 7,
    "start_time": "2023-02-15T23:20:38.549Z"
   },
   {
    "duration": 7,
    "start_time": "2023-02-15T23:20:38.558Z"
   },
   {
    "duration": 3,
    "start_time": "2023-02-15T23:20:38.568Z"
   },
   {
    "duration": 5,
    "start_time": "2023-02-15T23:20:38.573Z"
   },
   {
    "duration": 74,
    "start_time": "2023-02-15T23:20:38.580Z"
   },
   {
    "duration": 100,
    "start_time": "2023-02-15T23:20:38.656Z"
   },
   {
    "duration": 4,
    "start_time": "2023-02-15T23:20:38.758Z"
   },
   {
    "duration": 8,
    "start_time": "2023-02-15T23:20:38.764Z"
   },
   {
    "duration": 3311,
    "start_time": "2023-02-15T23:20:38.773Z"
   },
   {
    "duration": 39351,
    "start_time": "2023-02-15T23:20:42.086Z"
   },
   {
    "duration": 5,
    "start_time": "2023-02-15T23:21:21.439Z"
   },
   {
    "duration": 3,
    "start_time": "2023-02-15T23:21:23.593Z"
   },
   {
    "duration": 238588,
    "start_time": "2023-02-15T23:21:27.760Z"
   },
   {
    "duration": 63592,
    "start_time": "2023-02-15T23:25:26.350Z"
   },
   {
    "duration": 47,
    "start_time": "2023-02-15T23:27:31.165Z"
   },
   {
    "duration": 9,
    "start_time": "2023-02-15T23:27:44.943Z"
   },
   {
    "duration": 1537,
    "start_time": "2023-02-16T13:40:42.115Z"
   },
   {
    "duration": 3441,
    "start_time": "2023-02-16T13:40:43.655Z"
   },
   {
    "duration": 812,
    "start_time": "2023-02-16T13:40:47.097Z"
   },
   {
    "duration": 928,
    "start_time": "2023-02-16T13:40:47.910Z"
   },
   {
    "duration": 42,
    "start_time": "2023-02-16T13:40:48.841Z"
   },
   {
    "duration": 171,
    "start_time": "2023-02-16T13:40:48.892Z"
   },
   {
    "duration": 12,
    "start_time": "2023-02-16T13:40:49.065Z"
   },
   {
    "duration": 1461,
    "start_time": "2023-02-16T13:40:49.079Z"
   },
   {
    "duration": 24,
    "start_time": "2023-02-16T13:40:50.542Z"
   },
   {
    "duration": 28,
    "start_time": "2023-02-16T13:40:50.568Z"
   },
   {
    "duration": 10,
    "start_time": "2023-02-16T13:40:50.597Z"
   },
   {
    "duration": 13,
    "start_time": "2023-02-16T13:40:50.609Z"
   },
   {
    "duration": 6,
    "start_time": "2023-02-16T13:40:50.624Z"
   },
   {
    "duration": 3,
    "start_time": "2023-02-16T13:40:50.633Z"
   },
   {
    "duration": 12,
    "start_time": "2023-02-16T13:40:50.638Z"
   },
   {
    "duration": 90,
    "start_time": "2023-02-16T13:40:50.652Z"
   },
   {
    "duration": 83,
    "start_time": "2023-02-16T13:40:50.744Z"
   },
   {
    "duration": 83,
    "start_time": "2023-02-16T13:40:50.829Z"
   },
   {
    "duration": 8,
    "start_time": "2023-02-16T13:40:50.914Z"
   },
   {
    "duration": 187479,
    "start_time": "2023-02-16T13:40:50.923Z"
   },
   {
    "duration": 54414,
    "start_time": "2023-02-16T13:43:58.492Z"
   },
   {
    "duration": 98,
    "start_time": "2023-02-16T13:44:52.995Z"
   },
   {
    "duration": 4946,
    "start_time": "2023-02-16T13:44:53.094Z"
   },
   {
    "duration": 5400,
    "start_time": "2023-02-16T13:44:58.043Z"
   },
   {
    "duration": 20716,
    "start_time": "2023-02-16T13:45:03.445Z"
   },
   {
    "duration": 4,
    "start_time": "2023-02-16T13:45:24.163Z"
   },
   {
    "duration": 873,
    "start_time": "2023-02-16T13:45:24.168Z"
   },
   {
    "duration": 2,
    "start_time": "2023-02-16T13:45:25.044Z"
   },
   {
    "duration": 169,
    "start_time": "2023-02-16T13:45:25.048Z"
   },
   {
    "duration": 32,
    "start_time": "2023-02-16T13:46:05.258Z"
   },
   {
    "duration": 30,
    "start_time": "2023-02-16T13:46:53.133Z"
   },
   {
    "duration": 5,
    "start_time": "2023-02-16T13:46:55.324Z"
   },
   {
    "duration": 4,
    "start_time": "2023-02-16T13:46:58.791Z"
   },
   {
    "duration": 0,
    "start_time": "2023-02-16T13:48:12.321Z"
   },
   {
    "duration": 5,
    "start_time": "2023-02-16T13:48:14.198Z"
   },
   {
    "duration": 161862,
    "start_time": "2023-02-16T13:48:16.442Z"
   },
   {
    "duration": 249416,
    "start_time": "2023-02-16T13:51:00.104Z"
   },
   {
    "duration": 55898,
    "start_time": "2023-02-16T13:55:11.704Z"
   },
   {
    "duration": 16,
    "start_time": "2023-02-16T13:57:58.849Z"
   },
   {
    "duration": 3,
    "start_time": "2023-02-16T13:58:23.997Z"
   },
   {
    "duration": 2602,
    "start_time": "2023-02-16T13:58:38.601Z"
   },
   {
    "duration": 144515,
    "start_time": "2023-02-16T13:58:45.547Z"
   },
   {
    "duration": 3,
    "start_time": "2023-02-16T14:01:23.429Z"
   },
   {
    "duration": 8270,
    "start_time": "2023-02-16T14:01:25.526Z"
   },
   {
    "duration": 11,
    "start_time": "2023-02-16T14:01:38.732Z"
   },
   {
    "duration": 138196,
    "start_time": "2023-02-16T14:02:21.501Z"
   },
   {
    "duration": 3261,
    "start_time": "2023-02-16T14:15:54.339Z"
   },
   {
    "duration": 11,
    "start_time": "2023-02-16T14:16:04.138Z"
   },
   {
    "duration": 1467,
    "start_time": "2023-02-16T14:28:01.479Z"
   },
   {
    "duration": 850,
    "start_time": "2023-02-16T14:28:02.948Z"
   },
   {
    "duration": 878,
    "start_time": "2023-02-16T14:28:03.799Z"
   },
   {
    "duration": 1028,
    "start_time": "2023-02-16T14:28:04.679Z"
   },
   {
    "duration": 40,
    "start_time": "2023-02-16T14:28:05.709Z"
   },
   {
    "duration": 193,
    "start_time": "2023-02-16T14:28:05.751Z"
   },
   {
    "duration": 13,
    "start_time": "2023-02-16T14:28:05.946Z"
   },
   {
    "duration": 1593,
    "start_time": "2023-02-16T14:28:05.961Z"
   },
   {
    "duration": 18,
    "start_time": "2023-02-16T14:28:07.556Z"
   },
   {
    "duration": 21,
    "start_time": "2023-02-16T14:28:07.576Z"
   },
   {
    "duration": 10,
    "start_time": "2023-02-16T14:28:07.599Z"
   },
   {
    "duration": 22,
    "start_time": "2023-02-16T14:28:07.610Z"
   },
   {
    "duration": 9,
    "start_time": "2023-02-16T14:28:07.634Z"
   },
   {
    "duration": 7,
    "start_time": "2023-02-16T14:28:07.646Z"
   },
   {
    "duration": 12,
    "start_time": "2023-02-16T14:28:07.654Z"
   },
   {
    "duration": 50,
    "start_time": "2023-02-16T14:28:07.668Z"
   },
   {
    "duration": 90,
    "start_time": "2023-02-16T14:28:07.720Z"
   },
   {
    "duration": 4,
    "start_time": "2023-02-16T14:28:07.812Z"
   },
   {
    "duration": 5,
    "start_time": "2023-02-16T14:28:07.817Z"
   },
   {
    "duration": 185376,
    "start_time": "2023-02-16T14:28:07.824Z"
   },
   {
    "duration": 51884,
    "start_time": "2023-02-16T14:31:13.208Z"
   },
   {
    "duration": 10,
    "start_time": "2023-02-16T14:32:05.094Z"
   },
   {
    "duration": 5643,
    "start_time": "2023-02-16T14:32:05.106Z"
   },
   {
    "duration": 5229,
    "start_time": "2023-02-16T14:32:10.752Z"
   },
   {
    "duration": 21700,
    "start_time": "2023-02-16T14:32:15.983Z"
   },
   {
    "duration": 4,
    "start_time": "2023-02-16T14:32:37.692Z"
   },
   {
    "duration": 839,
    "start_time": "2023-02-16T14:32:37.698Z"
   },
   {
    "duration": 4,
    "start_time": "2023-02-16T14:32:38.539Z"
   },
   {
    "duration": 1263708,
    "start_time": "2023-02-16T14:32:38.544Z"
   },
   {
    "duration": 0,
    "start_time": "2023-02-16T14:53:42.254Z"
   },
   {
    "duration": 0,
    "start_time": "2023-02-16T14:53:42.256Z"
   },
   {
    "duration": 0,
    "start_time": "2023-02-16T14:53:42.258Z"
   },
   {
    "duration": 0,
    "start_time": "2023-02-16T14:53:42.259Z"
   },
   {
    "duration": 0,
    "start_time": "2023-02-16T14:53:42.260Z"
   },
   {
    "duration": 0,
    "start_time": "2023-02-16T14:53:42.261Z"
   },
   {
    "duration": 0,
    "start_time": "2023-02-16T14:53:42.262Z"
   },
   {
    "duration": 2641,
    "start_time": "2023-02-17T08:04:24.918Z"
   },
   {
    "duration": 3468,
    "start_time": "2023-02-17T08:04:27.562Z"
   },
   {
    "duration": 949,
    "start_time": "2023-02-17T08:04:31.032Z"
   },
   {
    "duration": 1012,
    "start_time": "2023-02-17T08:04:31.983Z"
   },
   {
    "duration": 36,
    "start_time": "2023-02-17T08:04:32.997Z"
   },
   {
    "duration": 215,
    "start_time": "2023-02-17T08:04:33.035Z"
   },
   {
    "duration": 11,
    "start_time": "2023-02-17T08:04:33.252Z"
   },
   {
    "duration": 1799,
    "start_time": "2023-02-17T08:04:33.265Z"
   },
   {
    "duration": 32,
    "start_time": "2023-02-17T08:04:35.066Z"
   },
   {
    "duration": 8,
    "start_time": "2023-02-17T08:04:35.100Z"
   },
   {
    "duration": 12,
    "start_time": "2023-02-17T08:04:35.110Z"
   },
   {
    "duration": 8,
    "start_time": "2023-02-17T08:04:35.150Z"
   },
   {
    "duration": 7,
    "start_time": "2023-02-17T08:04:35.160Z"
   },
   {
    "duration": 3,
    "start_time": "2023-02-17T08:04:35.170Z"
   },
   {
    "duration": 7,
    "start_time": "2023-02-17T08:04:35.175Z"
   },
   {
    "duration": 35,
    "start_time": "2023-02-17T08:04:35.183Z"
   },
   {
    "duration": 5,
    "start_time": "2023-02-17T08:04:57.376Z"
   },
   {
    "duration": 4,
    "start_time": "2023-02-17T08:10:30.111Z"
   },
   {
    "duration": 872,
    "start_time": "2023-02-17T08:10:30.118Z"
   },
   {
    "duration": 893,
    "start_time": "2023-02-17T08:10:30.991Z"
   },
   {
    "duration": 922,
    "start_time": "2023-02-17T08:10:31.887Z"
   },
   {
    "duration": 26,
    "start_time": "2023-02-17T08:10:32.811Z"
   },
   {
    "duration": 207,
    "start_time": "2023-02-17T08:10:32.839Z"
   },
   {
    "duration": 12,
    "start_time": "2023-02-17T08:10:33.048Z"
   },
   {
    "duration": 1737,
    "start_time": "2023-02-17T08:10:33.062Z"
   },
   {
    "duration": 23,
    "start_time": "2023-02-17T08:10:34.800Z"
   },
   {
    "duration": 25,
    "start_time": "2023-02-17T08:10:34.825Z"
   },
   {
    "duration": 8,
    "start_time": "2023-02-17T08:10:34.852Z"
   },
   {
    "duration": 19,
    "start_time": "2023-02-17T08:10:34.861Z"
   },
   {
    "duration": 9,
    "start_time": "2023-02-17T08:10:34.881Z"
   },
   {
    "duration": 9,
    "start_time": "2023-02-17T08:10:34.893Z"
   },
   {
    "duration": 33,
    "start_time": "2023-02-17T08:10:34.904Z"
   },
   {
    "duration": 54,
    "start_time": "2023-02-17T08:10:34.938Z"
   },
   {
    "duration": 4,
    "start_time": "2023-02-17T08:10:34.993Z"
   },
   {
    "duration": 24,
    "start_time": "2023-02-17T08:10:34.998Z"
   },
   {
    "duration": 92,
    "start_time": "2023-02-17T08:10:35.024Z"
   },
   {
    "duration": 3,
    "start_time": "2023-02-17T08:10:35.118Z"
   },
   {
    "duration": 13,
    "start_time": "2023-02-17T08:10:35.123Z"
   },
   {
    "duration": 36034,
    "start_time": "2023-02-17T08:10:48.753Z"
   },
   {
    "duration": 5515,
    "start_time": "2023-02-17T08:11:40.287Z"
   },
   {
    "duration": 6676,
    "start_time": "2023-02-17T08:11:59.034Z"
   },
   {
    "duration": 265,
    "start_time": "2023-02-17T08:13:05.704Z"
   },
   {
    "duration": 479,
    "start_time": "2023-02-17T08:14:00.317Z"
   },
   {
    "duration": 753,
    "start_time": "2023-02-17T08:15:03.661Z"
   },
   {
    "duration": 13,
    "start_time": "2023-02-17T08:16:31.203Z"
   },
   {
    "duration": 9,
    "start_time": "2023-02-17T08:16:38.328Z"
   },
   {
    "duration": 10,
    "start_time": "2023-02-17T08:19:16.914Z"
   },
   {
    "duration": 5,
    "start_time": "2023-02-17T08:19:27.329Z"
   },
   {
    "duration": 8,
    "start_time": "2023-02-17T08:19:50.309Z"
   },
   {
    "duration": 4,
    "start_time": "2023-02-17T08:20:04.881Z"
   },
   {
    "duration": 2321,
    "start_time": "2023-02-17T08:20:54.742Z"
   },
   {
    "duration": 875,
    "start_time": "2023-02-17T08:20:57.066Z"
   },
   {
    "duration": 909,
    "start_time": "2023-02-17T08:20:57.943Z"
   },
   {
    "duration": 943,
    "start_time": "2023-02-17T08:20:58.854Z"
   },
   {
    "duration": 49,
    "start_time": "2023-02-17T08:20:59.799Z"
   },
   {
    "duration": 199,
    "start_time": "2023-02-17T08:20:59.850Z"
   },
   {
    "duration": 11,
    "start_time": "2023-02-17T08:21:00.051Z"
   },
   {
    "duration": 1686,
    "start_time": "2023-02-17T08:21:00.064Z"
   },
   {
    "duration": 19,
    "start_time": "2023-02-17T08:21:01.752Z"
   },
   {
    "duration": 14,
    "start_time": "2023-02-17T08:21:01.773Z"
   },
   {
    "duration": 50,
    "start_time": "2023-02-17T08:21:01.788Z"
   },
   {
    "duration": 47,
    "start_time": "2023-02-17T08:21:01.839Z"
   },
   {
    "duration": 70,
    "start_time": "2023-02-17T08:21:01.887Z"
   },
   {
    "duration": 8,
    "start_time": "2023-02-17T08:21:15.614Z"
   },
   {
    "duration": 4,
    "start_time": "2023-02-17T08:22:29.864Z"
   },
   {
    "duration": 7,
    "start_time": "2023-02-17T08:22:41.955Z"
   },
   {
    "duration": 2099,
    "start_time": "2023-02-17T08:22:56.382Z"
   },
   {
    "duration": 816,
    "start_time": "2023-02-17T08:22:58.483Z"
   },
   {
    "duration": 909,
    "start_time": "2023-02-17T08:22:59.301Z"
   },
   {
    "duration": 1010,
    "start_time": "2023-02-17T08:23:00.212Z"
   },
   {
    "duration": 42,
    "start_time": "2023-02-17T08:23:01.224Z"
   },
   {
    "duration": 261,
    "start_time": "2023-02-17T08:23:01.268Z"
   },
   {
    "duration": 18,
    "start_time": "2023-02-17T08:23:01.531Z"
   },
   {
    "duration": 1732,
    "start_time": "2023-02-17T08:23:01.551Z"
   },
   {
    "duration": 18,
    "start_time": "2023-02-17T08:23:03.285Z"
   },
   {
    "duration": 7,
    "start_time": "2023-02-17T08:23:03.305Z"
   },
   {
    "duration": 8,
    "start_time": "2023-02-17T08:23:03.314Z"
   },
   {
    "duration": 29,
    "start_time": "2023-02-17T08:23:03.324Z"
   },
   {
    "duration": 89,
    "start_time": "2023-02-17T08:23:03.355Z"
   },
   {
    "duration": 19,
    "start_time": "2023-02-17T08:23:03.447Z"
   },
   {
    "duration": 120,
    "start_time": "2023-02-17T08:23:49.517Z"
   },
   {
    "duration": 5,
    "start_time": "2023-02-17T08:24:03.240Z"
   },
   {
    "duration": 19,
    "start_time": "2023-02-17T08:24:12.157Z"
   },
   {
    "duration": 79,
    "start_time": "2023-02-17T08:24:12.616Z"
   },
   {
    "duration": 5,
    "start_time": "2023-02-17T08:24:19.526Z"
   },
   {
    "duration": 3,
    "start_time": "2023-02-17T08:24:27.646Z"
   },
   {
    "duration": 39694,
    "start_time": "2023-02-17T08:24:33.893Z"
   },
   {
    "duration": 6677,
    "start_time": "2023-02-17T08:25:18.024Z"
   },
   {
    "duration": 828,
    "start_time": "2023-02-17T08:25:29.036Z"
   },
   {
    "duration": 31212,
    "start_time": "2023-02-17T08:35:45.766Z"
   },
   {
    "duration": 1632515,
    "start_time": "2023-02-17T08:36:21.057Z"
   },
   {
    "duration": 96,
    "start_time": "2023-02-17T09:03:33.574Z"
   },
   {
    "duration": 43058,
    "start_time": "2023-02-17T09:03:56.127Z"
   },
   {
    "duration": 42261,
    "start_time": "2023-02-17T09:16:54.713Z"
   },
   {
    "duration": 41,
    "start_time": "2023-02-17T09:21:38.204Z"
   },
   {
    "duration": 2759,
    "start_time": "2023-02-17T11:04:44.423Z"
   },
   {
    "duration": 1200,
    "start_time": "2023-02-17T11:04:47.185Z"
   },
   {
    "duration": 931,
    "start_time": "2023-02-17T11:04:48.387Z"
   },
   {
    "duration": 988,
    "start_time": "2023-02-17T11:04:49.320Z"
   },
   {
    "duration": 36,
    "start_time": "2023-02-17T11:04:50.311Z"
   },
   {
    "duration": 242,
    "start_time": "2023-02-17T11:04:50.349Z"
   },
   {
    "duration": 13,
    "start_time": "2023-02-17T11:04:50.595Z"
   },
   {
    "duration": 1961,
    "start_time": "2023-02-17T11:04:50.610Z"
   },
   {
    "duration": 27,
    "start_time": "2023-02-17T11:04:52.572Z"
   },
   {
    "duration": 7,
    "start_time": "2023-02-17T11:04:52.601Z"
   },
   {
    "duration": 9,
    "start_time": "2023-02-17T11:04:52.609Z"
   },
   {
    "duration": 7,
    "start_time": "2023-02-17T11:04:52.619Z"
   },
   {
    "duration": 128,
    "start_time": "2023-02-17T11:04:52.628Z"
   },
   {
    "duration": 108,
    "start_time": "2023-02-17T11:04:52.759Z"
   },
   {
    "duration": 11,
    "start_time": "2023-02-17T11:04:52.868Z"
   },
   {
    "duration": 29,
    "start_time": "2023-02-17T11:04:52.881Z"
   },
   {
    "duration": 10,
    "start_time": "2023-02-17T11:04:52.912Z"
   },
   {
    "duration": 16,
    "start_time": "2023-02-17T11:04:52.924Z"
   },
   {
    "duration": 15,
    "start_time": "2023-02-17T11:04:52.942Z"
   },
   {
    "duration": 20,
    "start_time": "2023-02-17T11:04:52.959Z"
   },
   {
    "duration": 82,
    "start_time": "2023-02-17T11:04:52.981Z"
   },
   {
    "duration": 4,
    "start_time": "2023-02-17T11:04:53.065Z"
   },
   {
    "duration": 11,
    "start_time": "2023-02-17T11:04:53.070Z"
   },
   {
    "duration": 482315,
    "start_time": "2023-02-17T11:04:53.083Z"
   },
   {
    "duration": 71498,
    "start_time": "2023-02-17T11:12:55.400Z"
   },
   {
    "duration": 97,
    "start_time": "2023-02-17T11:14:06.901Z"
   },
   {
    "duration": 54967,
    "start_time": "2023-02-17T11:14:07.000Z"
   },
   {
    "duration": 6084,
    "start_time": "2023-02-17T11:15:01.969Z"
   },
   {
    "duration": 803,
    "start_time": "2023-02-17T11:15:08.055Z"
   },
   {
    "duration": 749,
    "start_time": "2023-02-17T11:35:09.185Z"
   },
   {
    "duration": 6038,
    "start_time": "2023-02-17T11:35:10.218Z"
   },
   {
    "duration": 31709,
    "start_time": "2023-02-17T11:37:54.956Z"
   },
   {
    "duration": 139143,
    "start_time": "2023-02-17T11:41:09.455Z"
   },
   {
    "duration": 5,
    "start_time": "2023-02-17T12:21:23.635Z"
   },
   {
    "duration": 75670,
    "start_time": "2023-02-17T12:34:33.868Z"
   },
   {
    "duration": 3,
    "start_time": "2023-02-17T12:35:49.541Z"
   },
   {
    "duration": 1737,
    "start_time": "2023-02-17T13:23:20.990Z"
   },
   {
    "duration": 1311,
    "start_time": "2023-02-17T13:23:22.730Z"
   },
   {
    "duration": 892,
    "start_time": "2023-02-17T13:23:24.043Z"
   },
   {
    "duration": 1160,
    "start_time": "2023-02-17T13:23:24.937Z"
   },
   {
    "duration": 55,
    "start_time": "2023-02-17T13:23:26.100Z"
   },
   {
    "duration": 196,
    "start_time": "2023-02-17T13:23:26.156Z"
   },
   {
    "duration": 13,
    "start_time": "2023-02-17T13:23:26.354Z"
   },
   {
    "duration": 1631,
    "start_time": "2023-02-17T13:23:26.370Z"
   },
   {
    "duration": 33,
    "start_time": "2023-02-17T13:23:28.003Z"
   },
   {
    "duration": 8,
    "start_time": "2023-02-17T13:23:28.039Z"
   },
   {
    "duration": 17,
    "start_time": "2023-02-17T13:23:28.049Z"
   },
   {
    "duration": 7,
    "start_time": "2023-02-17T13:23:28.068Z"
   },
   {
    "duration": 10,
    "start_time": "2023-02-17T13:23:28.077Z"
   },
   {
    "duration": 2,
    "start_time": "2023-02-17T13:23:28.090Z"
   },
   {
    "duration": 43,
    "start_time": "2023-02-17T13:23:28.094Z"
   },
   {
    "duration": 108,
    "start_time": "2023-02-17T13:23:28.140Z"
   },
   {
    "duration": 95,
    "start_time": "2023-02-17T13:23:28.250Z"
   },
   {
    "duration": 6,
    "start_time": "2023-02-17T13:23:28.347Z"
   },
   {
    "duration": 20,
    "start_time": "2023-02-17T13:23:28.355Z"
   },
   {
    "duration": 2354,
    "start_time": "2023-02-17T13:39:42.647Z"
   },
   {
    "duration": 1024,
    "start_time": "2023-02-17T13:39:45.004Z"
   },
   {
    "duration": 847,
    "start_time": "2023-02-17T13:39:46.030Z"
   },
   {
    "duration": 964,
    "start_time": "2023-02-17T13:39:46.879Z"
   },
   {
    "duration": 38,
    "start_time": "2023-02-17T13:39:47.846Z"
   },
   {
    "duration": 213,
    "start_time": "2023-02-17T13:39:47.886Z"
   },
   {
    "duration": 14,
    "start_time": "2023-02-17T13:39:48.101Z"
   },
   {
    "duration": 1657,
    "start_time": "2023-02-17T13:39:48.127Z"
   },
   {
    "duration": 29,
    "start_time": "2023-02-17T13:39:49.786Z"
   },
   {
    "duration": 9,
    "start_time": "2023-02-17T13:39:49.826Z"
   },
   {
    "duration": 7,
    "start_time": "2023-02-17T13:39:49.838Z"
   },
   {
    "duration": 6,
    "start_time": "2023-02-17T13:39:49.847Z"
   },
   {
    "duration": 6,
    "start_time": "2023-02-17T13:39:49.855Z"
   },
   {
    "duration": 3,
    "start_time": "2023-02-17T13:39:49.865Z"
   },
   {
    "duration": 12,
    "start_time": "2023-02-17T13:39:49.870Z"
   },
   {
    "duration": 119,
    "start_time": "2023-02-17T13:39:49.884Z"
   },
   {
    "duration": 148,
    "start_time": "2023-02-17T13:39:50.005Z"
   },
   {
    "duration": 653,
    "start_time": "2023-02-17T13:39:50.155Z"
   },
   {
    "duration": 13,
    "start_time": "2023-02-17T13:39:50.811Z"
   },
   {
    "duration": 382303,
    "start_time": "2023-02-17T13:39:50.827Z"
   },
   {
    "duration": 54398,
    "start_time": "2023-02-17T13:46:13.132Z"
   },
   {
    "duration": 95,
    "start_time": "2023-02-17T13:47:07.536Z"
   },
   {
    "duration": 4340,
    "start_time": "2023-02-17T13:47:07.634Z"
   },
   {
    "duration": 5442,
    "start_time": "2023-02-17T13:47:11.977Z"
   },
   {
    "duration": 27164,
    "start_time": "2023-02-17T13:47:17.421Z"
   },
   {
    "duration": 4,
    "start_time": "2023-02-17T13:47:44.587Z"
   },
   {
    "duration": 872,
    "start_time": "2023-02-17T13:47:44.592Z"
   },
   {
    "duration": 3,
    "start_time": "2023-02-17T13:47:45.466Z"
   },
   {
    "duration": 1461064,
    "start_time": "2023-02-17T13:47:45.470Z"
   },
   {
    "duration": 4,
    "start_time": "2023-02-17T14:12:06.535Z"
   },
   {
    "duration": 5,
    "start_time": "2023-02-17T14:12:06.541Z"
   },
   {
    "duration": 13481,
    "start_time": "2023-02-17T14:12:06.548Z"
   },
   {
    "duration": 174976,
    "start_time": "2023-02-17T14:12:20.032Z"
   },
   {
    "duration": 4,
    "start_time": "2023-02-17T14:15:15.010Z"
   },
   {
    "duration": 9417,
    "start_time": "2023-02-17T14:15:15.015Z"
   },
   {
    "duration": 12,
    "start_time": "2023-02-17T14:15:24.434Z"
   }
  ],
  "kernelspec": {
   "display_name": "Python 3 (ipykernel)",
   "language": "python",
   "name": "python3"
  },
  "language_info": {
   "codemirror_mode": {
    "name": "ipython",
    "version": 3
   },
   "file_extension": ".py",
   "mimetype": "text/x-python",
   "name": "python",
   "nbconvert_exporter": "python",
   "pygments_lexer": "ipython3",
   "version": "3.8.16"
  },
  "toc": {
   "base_numbering": 1,
   "nav_menu": {},
   "number_sections": true,
   "sideBar": true,
   "skip_h1_title": true,
   "title_cell": "Table of Contents",
   "title_sidebar": "Contents",
   "toc_cell": false,
   "toc_position": {
    "height": "calc(100% - 180px)",
    "left": "10px",
    "top": "150px",
    "width": "184.188px"
   },
   "toc_section_display": true,
   "toc_window_display": true
  }
 },
 "nbformat": 4,
 "nbformat_minor": 2
}
