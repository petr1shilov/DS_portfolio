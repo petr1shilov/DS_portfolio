{
 "cells": [
  {
   "cell_type": "markdown",
   "id": "82e35305",
   "metadata": {},
   "source": [
    "# Проект для «Викишоп»"
   ]
  },
  {
   "cell_type": "markdown",
   "id": "7613b70d",
   "metadata": {},
   "source": [
    "**Описание проекта**\n",
    "\n",
    "Интернет-магазин «Викишоп» запускает новый сервис. Теперь пользователи могут редактировать и дополнять описания товаров, как в вики-сообществах. То есть клиенты предлагают свои правки и комментируют изменения других. Магазину нужен инструмент, который будет искать токсичные комментарии и отправлять их на модерацию. \n",
    "Обучите модель классифицировать комментарии на позитивные и негативные. В вашем распоряжении набор данных с разметкой о токсичности правок.\n",
    "Постройте модель со значением метрики качества F1 не меньше 0.75. \n",
    "\n"
   ]
  },
  {
   "cell_type": "markdown",
   "id": "9c811101",
   "metadata": {},
   "source": [
    "# Импорт библиотек"
   ]
  },
  {
   "cell_type": "code",
   "execution_count": 1,
   "id": "0af43bb9",
   "metadata": {},
   "outputs": [],
   "source": [
    "!pip install pymystem3\n",
    "!pip install imblearn"
   ]
  },
  {
   "cell_type": "code",
   "execution_count": 2,
   "id": "065c4b6b",
   "metadata": {},
   "outputs": [],
   "source": [
    "import numpy as np\n",
    "import pandas as pd\n",
    "\n",
    "import torch\n",
    "import transformers\n",
    "\n",
    "import re\n",
    "\n",
    "from tqdm import notebook\n",
    "\n",
    "import nltk\n",
    "from nltk.stem import WordNetLemmatizer\n",
    "from nltk.corpus import stopwords as nltk_stopwords, wordnet\n",
    "\n",
    "nltk.download('wordnet')\n",
    "nltk.download('omw-1.4')\n",
    "nltk.download('stopwords')\n",
    "nltk.download('averaged_perceptron_tagger')\n",
    "\n",
    "from pymystem3 import Mystem\n",
    "\n",
    "from sklearn.feature_extraction.text import TfidfVectorizer, CountVectorizer\n",
    "from sklearn.model_selection import train_test_split, cross_val_score, GridSearchCV, KFold\n",
    "from sklearn.linear_model import LogisticRegression, SGDClassifier\n",
    "from sklearn.tree import DecisionTreeClassifier\n",
    "from sklearn.metrics import f1_score, precision_score, recall_score, accuracy_score, roc_auc_score, roc_curve\n",
    "from sklearn.utils import shuffle\n",
    "\n",
    "from catboost import CatBoostClassifier\n",
    "\n",
    "import matplotlib.pyplot as plt\n",
    "\n",
    "import warnings\n",
    "warnings.filterwarnings('ignore')\n",
    "\n",
    "from imblearn.pipeline import Pipeline, make_pipeline\n",
    "from imblearn.over_sampling import SMOTE\n"
   ]
  },
  {
   "cell_type": "markdown",
   "id": "92c9669b",
   "metadata": {},
   "source": [
    "# Чтение данных и общие сведения"
   ]
  },
  {
   "cell_type": "code",
   "execution_count": 3,
   "id": "ba9cc40f",
   "metadata": {},
   "outputs": [],
   "source": [
    "try:\n",
    "    data = pd.read_csv('/Users/petrsilov/Desktop/Diplom/sem_8/toxic_comments.csv')\n",
    "    print('ok')\n",
    "except:\n",
    "    data = pd.read_csv('https://code.s3.yandex.net/datasets/toxic_comments.csv')\n",
    "    print('also ok')"
   ]
  },
  {
   "cell_type": "code",
   "execution_count": 4,
   "id": "e2038d5b",
   "metadata": {},
   "outputs": [],
   "source": [
    "# data = pd.read_csv('/Users/petrsilov/Desktop/Diplom/sem_8/toxic_comments.csv')"
   ]
  },
  {
   "cell_type": "code",
   "execution_count": 5,
   "id": "2953e43d",
   "metadata": {},
   "outputs": [],
   "source": [
    "data.drop(columns=['Unnamed: 0'], inplace=True)"
   ]
  },
  {
   "cell_type": "code",
   "execution_count": 6,
   "id": "f15dfebd",
   "metadata": {},
   "outputs": [],
   "source": [
    "def info(df):\n",
    "    print(df.info())\n",
    "    print(df.shape)\n",
    "    print(df.describe())\n",
    "    if df.isna().values.any():\n",
    "        print(pd.DataFrame(df.isna().mean.to_frame(name='gaps'))).style.format({'gaps':'{:.2%}'})\n",
    "    else: print('No gaps')\n",
    "        \n",
    "    if df.duplicated().values.any():\n",
    "        print('true', df.duplicated().value_counts())\n",
    "    else: print('false')\n",
    "    print(df.head())\n",
    "info(data)"
   ]
  },
  {
   "cell_type": "code",
   "execution_count": 7,
   "id": "7870406c",
   "metadata": {},
   "outputs": [
    {
     "data": {},
     "execution_count": 7,
     "metadata": {},
     "output_type": "execute_result"
    }
   ],
   "source": [
    "data.toxic.value_counts()"
   ]
  },
  {
   "cell_type": "markdown",
   "id": "2738502d",
   "metadata": {},
   "source": [
    "# Очистка данных"
   ]
  },
  {
   "cell_type": "markdown",
   "id": "b809bb6c",
   "metadata": {},
   "source": [
    "## лемметизация, токенизция"
   ]
  },
  {
   "cell_type": "code",
   "execution_count": 8,
   "id": "e12fe40c",
   "metadata": {},
   "outputs": [],
   "source": [
    "%%time\n",
    "lemmatizer = WordNetLemmatizer()\n",
    "\n",
    "\n",
    "def get_wordnet_pos(word):\n",
    "    \"\"\"Map POS tag to first character lemmatize() accepts\"\"\"\n",
    "    tag = nltk.pos_tag([word])[0][1][0].upper()\n",
    "    tag_dict = {\"J\": wordnet.ADJ,\n",
    "                \"N\": wordnet.NOUN,\n",
    "                \"V\": wordnet.VERB,\n",
    "                \"R\": wordnet.ADV}\n",
    "    return tag_dict.get(tag, wordnet.NOUN)\n",
    "\n",
    "def lemmatize_text(text):\n",
    "    text = text.lower()\n",
    "    lemm_text = \"\".join(lemmatizer.lemmatize(text, get_wordnet_pos(text)))\n",
    "    cleared_text = re.sub(r'[^a-zA-Z]', ' ', lemm_text) \n",
    "    return \" \".join(cleared_text.split())\n",
    "\n",
    "data['lemm_text'] = data['text'].apply(lemmatize_text)"
   ]
  },
  {
   "cell_type": "code",
   "execution_count": 9,
   "id": "00a0a193",
   "metadata": {},
   "outputs": [
    {
     "data": {},
     "execution_count": 9,
     "metadata": {},
     "output_type": "execute_result"
    }
   ],
   "source": [
    "data['lemm_text'][100], data['text'][100]"
   ]
  },
  {
   "cell_type": "markdown",
   "id": "98830b15",
   "metadata": {},
   "source": [
    "## CountVectorizer"
   ]
  },
  {
   "cell_type": "code",
   "execution_count": 10,
   "id": "9fd49e2f",
   "metadata": {},
   "outputs": [],
   "source": [
    "stopwords = list(nltk_stopwords.words('english'))\n",
    "\n",
    "vector_wb = CountVectorizer(stop_words=stopwords)\n"
   ]
  },
  {
   "cell_type": "code",
   "execution_count": 11,
   "id": "2bde90be",
   "metadata": {},
   "outputs": [],
   "source": [
    "X = data.lemm_text\n",
    "y = data.toxic"
   ]
  },
  {
   "cell_type": "code",
   "execution_count": 12,
   "id": "e6e9195f",
   "metadata": {},
   "outputs": [
    {
     "data": {},
     "execution_count": 12,
     "metadata": {},
     "output_type": "execute_result"
    }
   ],
   "source": [
    "X_train, X_test, y_train, y_test = train_test_split(X, y, test_size=.2, random_state=1234)\n",
    "\n",
    "(X_train.count() / X.count() * 100).round(), (X_test.count() / X.count() * 100).round()"
   ]
  },
  {
   "cell_type": "code",
   "execution_count": 13,
   "id": "50b82ee5",
   "metadata": {},
   "outputs": [
    {
     "data": {},
     "execution_count": 13,
     "metadata": {},
     "output_type": "execute_result"
    }
   ],
   "source": [
    "X_train_wb = vector_wb.fit_transform(X_train)\n",
    "X_test_wb = vector_wb.transform(X_test)\n",
    "\n",
    "X_train_wb.shape, X_test_wb.shape"
   ]
  },
  {
   "cell_type": "markdown",
   "id": "f5a88906",
   "metadata": {},
   "source": [
    "## кросс валидация на CountVectorizer"
   ]
  },
  {
   "cell_type": "code",
   "execution_count": 14,
   "id": "ded3b739",
   "metadata": {},
   "outputs": [],
   "source": [
    "lr_model = LogisticRegression()\n",
    "\n",
    "train_f1 = cross_val_score(lr_model, \n",
    "                      X_train_wb, \n",
    "                      y_train, \n",
    "                      cv=3, \n",
    "                      scoring='f1').mean()\n",
    "print('F1 на CV', train_f1)"
   ]
  },
  {
   "cell_type": "code",
   "execution_count": 15,
   "id": "afd478bf",
   "metadata": {},
   "outputs": [],
   "source": [
    "lr_model_balanced = LogisticRegression(class_weight='balanced')\n",
    "\n",
    "train_f1_balanced = cross_val_score(lr_model_balanced, \n",
    "                      X_train_wb, \n",
    "                      y_train, \n",
    "                      cv=3, \n",
    "                      scoring='f1').mean()\n",
    "print('F1 на CV', train_f1_balanced)"
   ]
  },
  {
   "cell_type": "code",
   "execution_count": 16,
   "id": "cf09fb4c",
   "metadata": {},
   "outputs": [
    {
     "data": {},
     "execution_count": 16,
     "metadata": {},
     "output_type": "execute_result"
    }
   ],
   "source": [
    "%%time\n",
    "kf = KFold(n_splits=5, random_state=None, shuffle=False)\n",
    "imba_pipeline = make_pipeline(SMOTE(random_state=1234), \n",
    "                              LogisticRegression(random_state=1234))\n",
    "cross_val_score(imba_pipeline, X_train_wb, y_train, scoring='f1', cv=kf).mean()\n"
   ]
  },
  {
   "cell_type": "markdown",
   "id": "4ee875eb",
   "metadata": {},
   "source": [
    "## TfidfVectorizer"
   ]
  },
  {
   "cell_type": "code",
   "execution_count": 17,
   "id": "adce11b1",
   "metadata": {},
   "outputs": [],
   "source": [
    "vector_tf_idf = TfidfVectorizer(stop_words=stopwords)"
   ]
  },
  {
   "cell_type": "code",
   "execution_count": 18,
   "id": "e8bc5815",
   "metadata": {},
   "outputs": [
    {
     "data": {},
     "execution_count": 18,
     "metadata": {},
     "output_type": "execute_result"
    }
   ],
   "source": [
    "X_train_tf_idf = vector_tf_idf.fit_transform(X_train)\n",
    "X_test_tf_idf = vector_tf_idf.transform(X_test)\n",
    "\n",
    "X_train_tf_idf.shape, X_test_tf_idf.shape"
   ]
  },
  {
   "cell_type": "code",
   "execution_count": 19,
   "id": "ef4d5036",
   "metadata": {},
   "outputs": [],
   "source": [
    "lr_model_tf_idf = LogisticRegression()\n",
    "\n",
    "train_f1_tf_idf = cross_val_score(lr_model_tf_idf, \n",
    "                      X_train_tf_idf, \n",
    "                      y_train, \n",
    "                      cv=3, \n",
    "                      scoring='f1').mean()\n",
    "print('F1 на CV', train_f1_tf_idf)"
   ]
  },
  {
   "cell_type": "code",
   "execution_count": 20,
   "id": "bb93ee82",
   "metadata": {},
   "outputs": [],
   "source": [
    "lr_model_balanced_tf_idf = LogisticRegression(class_weight='balanced')\n",
    "\n",
    "train_f1_balanced_tf_idf = cross_val_score(lr_model_balanced_tf_idf, \n",
    "                      X_train_tf_idf, \n",
    "                      y_train, \n",
    "                      cv=3, \n",
    "                      scoring='f1').mean()\n",
    "print('F1 на CV', train_f1_balanced_tf_idf)"
   ]
  },
  {
   "cell_type": "markdown",
   "id": "970052c8",
   "metadata": {},
   "source": [
    "- После проверки разных вариантов эмбединга я выделил некоторые варинты для будующего обучения:\n",
    "    - countvector\n",
    "    - TF-IDF\n",
    "    \n",
    "    - upsample и downsample решил не использовать"
   ]
  },
  {
   "cell_type": "markdown",
   "id": "7fa4489b",
   "metadata": {},
   "source": [
    "# Подбор гипер параметров и обучение"
   ]
  },
  {
   "cell_type": "markdown",
   "id": "09c7476d",
   "metadata": {},
   "source": [
    "## Logisticregressor CountVectorizer"
   ]
  },
  {
   "cell_type": "code",
   "execution_count": 21,
   "id": "aa71585c",
   "metadata": {},
   "outputs": [],
   "source": [
    "%%time\n",
    "lr_classifier = LogisticRegression(random_state=1234)\n",
    "params = [{'solver':['newton-cg', 'lbfgs', 'liblinear'],\n",
    "                'C':[0.1, 1, 10]}]\n",
    "\n",
    "\n",
    "\n",
    "rs_lr = GridSearchCV(lr_classifier, params, scoring='f1',cv=3, n_jobs=-1)\n",
    "\n",
    "\n",
    "model_random_lr = rs_lr.fit(X_train_wb,y_train)\n",
    "\n",
    "best_params_lr = model_random_lr.best_params_\n",
    "best_score_lr = model_random_lr.best_score_\n",
    "\n",
    "# random random search results\n",
    "print('Best random search hyperparameters are: '+str(best_params_lr))\n",
    "print('Best random search score is: '+str(best_score_lr))"
   ]
  },
  {
   "cell_type": "markdown",
   "id": "9e757448",
   "metadata": {},
   "source": [
    "## DecisionTreeClassifier CountVectorizer"
   ]
  },
  {
   "cell_type": "code",
   "execution_count": 23,
   "id": "5bce0297",
   "metadata": {},
   "outputs": [],
   "source": [
    "%%time \n",
    "dtc_classificator = DecisionTreeClassifier(random_state=1234)\n",
    "params = [{'max_depth':[x for x in range(50,100,10)],\n",
    "                'min_samples_split' : [2, 4, 6]}]\n",
    "\n",
    "\n",
    "clf_dtc = GridSearchCV(dtc_classificator, params, scoring='f1',cv=3, n_jobs=-1)\n",
    "\n",
    "model_dtc = clf_dtc.fit(X_train_wb,y_train)\n",
    "\n",
    "best_params_dtc = model_dtc.best_params_\n",
    "best_score_dtc = model_dtc.best_score_\n",
    "\n",
    "# random random search results\n",
    "print('Best random search hyperparameters are: '+str(best_params_dtc))\n",
    "print('Best random search score is: '+str(best_score_dtc))"
   ]
  },
  {
   "cell_type": "markdown",
   "id": "2358b319",
   "metadata": {},
   "source": [
    "## LogisticRegression TD-IDF"
   ]
  },
  {
   "cell_type": "code",
   "execution_count": 25,
   "id": "6c0b3842",
   "metadata": {},
   "outputs": [],
   "source": [
    "%%time\n",
    "lr_tf_idf_classifier = LogisticRegression(random_state=1234)\n",
    "params = [{'solver':['newton-cg', 'lbfgs', 'liblinear'],\n",
    "                'C':[0.1, 1, 10]}]\n",
    "\n",
    "\n",
    "\n",
    "rs_lr_tf_idf = GridSearchCV(lr_tf_idf_classifier, params, scoring='f1',cv=3, n_jobs=-1)\n",
    "\n",
    "\n",
    "model_random_lr_tf_idf = rs_lr_tf_idf.fit(X_train_tf_idf,y_train)\n",
    "\n",
    "best_params_lr_tf_idf = model_random_lr_tf_idf.best_params_\n",
    "best_score_lr_tf_idf = model_random_lr_tf_idf.best_score_\n",
    "\n",
    "# random random search results\n",
    "print('Best random search hyperparameters are: '+str(best_params_lr_tf_idf))\n",
    "print('Best random search score is: '+str(best_score_lr_tf_idf))"
   ]
  },
  {
   "cell_type": "code",
   "execution_count": 26,
   "id": "2d8cba2c",
   "metadata": {},
   "outputs": [],
   "source": [
    "classificator_lr_tf_idf = LogisticRegression(random_state=1234)\n",
    "classificator_lr_tf_idf.set_params(**best_params_lr_tf_idf)\n",
    "classificator_lr_tf_idf.fit(X_train_tf_idf, y_train)\n",
    "target_predict_tf_idf = classificator_lr_tf_idf.predict(X_test_tf_idf)\n",
    "valid_f1_lr_tf_idf = f1_score(y_test, target_predict_tf_idf)\n",
    "\n",
    "print('f1 на тесте', valid_f1_lr_tf_idf)"
   ]
  },
  {
   "cell_type": "markdown",
   "id": "b30b5ba9",
   "metadata": {},
   "source": [
    "## CatBoostClassifier TD-IDF"
   ]
  },
  {
   "cell_type": "code",
   "execution_count": 27,
   "id": "1347ba5b",
   "metadata": {},
   "outputs": [],
   "source": [
    "%%time\n",
    "classificator_cb = CatBoostClassifier(\n",
    "    loss_function='Logloss',\n",
    "    eval_metric='F1',\n",
    "    iterations=10,\n",
    "    random_seed = 1234,\n",
    "    auto_class_weights = 'Balanced',\n",
    "    text_processing = {\n",
    "        \"tokenizers\" : [{\n",
    "            \"tokenizer_id\" : \"Space\",\n",
    "            \"separator_type\" : \"ByDelimiter\",\n",
    "            \"delimiter\" : \" \"\n",
    "        }],\n",
    "\n",
    "        \"dictionaries\" : [{\n",
    "            \"dictionary_id\" : \"BiGram\",\n",
    "            \"token_level_type\": \"Letter\",\n",
    "            \"max_dictionary_size\" : \"150000\",\n",
    "            \"occurrence_lower_bound\" : \"1\",\n",
    "            \"gram_order\" : \"2\"\n",
    "        },{\n",
    "            \"dictionary_id\" : \"Trigram\",\n",
    "            \"max_dictionary_size\" : \"150000\",\n",
    "            \"token_level_type\": \"Letter\",\n",
    "            \"occurrence_lower_bound\" : \"1\",\n",
    "            \"gram_order\" : \"3\"\n",
    "        },{\n",
    "            \"dictionary_id\" : \"Fourgram\",\n",
    "            \"max_dictionary_size\" : \"150000\",\n",
    "            \"token_level_type\": \"Letter\",\n",
    "            \"occurrence_lower_bound\" : \"1\",\n",
    "            \"gram_order\" : \"4\"\n",
    "        },{\n",
    "            \"dictionary_id\" : \"Fivegram\",\n",
    "            \"max_dictionary_size\" : \"150000\",\n",
    "            \"token_level_type\": \"Letter\",\n",
    "            \"occurrence_lower_bound\" : \"1\",\n",
    "            \"gram_order\" : \"5\"\n",
    "        },{\n",
    "            \"dictionary_id\" : \"Sixgram\",\n",
    "            \"max_dictionary_size\" : \"150000\",\n",
    "            \"token_level_type\": \"Letter\",\n",
    "            \"occurrence_lower_bound\" : \"1\",\n",
    "            \"gram_order\" : \"6\"\n",
    "\n",
    "        }\n",
    "        ],\n",
    "\n",
    "        \"feature_processing\" : {\n",
    "            \"default\" : [\n",
    "                    {\n",
    "                    \"dictionaries_names\" : [\"BiGram\", \"Trigram\", \"Fourgram\", \"Fivegram\", \"Sixgram\"],#,\"Sevengram\"],\n",
    "                    \"feature_calcers\" : [\"BoW\"],\n",
    "                    \"tokenizers_names\" : [\"Space\"]\n",
    "                },\n",
    "                    {\n",
    "                \"dictionaries_names\" : [\"BiGram\", \"Trigram\", \"Fourgram\", \"Fivegram\", \"Sixgram\"],#,\"Sevengram\"],\n",
    "                \"feature_calcers\" : [\"NaiveBayes\"],\n",
    "                \"tokenizers_names\" : [\"Space\"]\n",
    "            },{\n",
    "                \"dictionaries_names\" : [ \"BiGram\", \"Trigram\", \"Fourgram\", \"Fivegram\", \"Sixgram\"],#,\"Sevengram\"],\n",
    "                \"feature_calcers\" : [\"BM25\"],\n",
    "                \"tokenizers_names\" : [\"Space\"]\n",
    "            },\n",
    "            ],\n",
    "        }\n",
    "    }\n",
    ")\n",
    "\n",
    "\n",
    "\n",
    "params = [{'learning_rate': [0.2]\n",
    "          , 'verbose' : [50]}]\n",
    "\n",
    "\n",
    "\n",
    "rs_cb_tf_idf = GridSearchCV(classificator_cb, params, scoring='f1',cv=3, n_jobs=-1)\n",
    "\n",
    "\n",
    "model_random_cb_tf_idf = rs_cb_tf_idf.fit(X_train_tf_idf,y_train)\n",
    "\n",
    "best_params_cb_tf_idf = model_random_cb_tf_idf.best_params_\n",
    "best_score_cb_tf_idf = model_random_cb_tf_idf.best_score_\n",
    "\n",
    "# random random search results\n",
    "print('Best random search hyperparameters are: '+str(best_params_cb_tf_idf))\n",
    "print('Best random search score is: '+str(best_score_cb_tf_idf))"
   ]
  },
  {
   "cell_type": "code",
   "execution_count": 40,
   "id": "3dabfea3",
   "metadata": {},
   "outputs": [
    {
     "data": {},
     "execution_count": 40,
     "metadata": {},
     "output_type": "execute_result"
    }
   ],
   "source": [
    "f1_of = pd.DataFrame([best_score_cb_tf_idf, best_score_lr_tf_idf, '-'], columns=['TF-IDF_f1'],\\\n",
    "                            index=['CatBoostClassifier', 'LogisticRegression', 'DecisionTreeClassifier'])\n",
    "f1_of['Count_Vector_f1'] = ['-', best_score_lr, best_score_dtc]\n",
    "\n",
    "f1_of"
   ]
  },
  {
   "cell_type": "markdown",
   "id": "639cfe2e",
   "metadata": {},
   "source": [
    "## Bert"
   ]
  },
  {
   "cell_type": "code",
   "execution_count": 30,
   "id": "42bdde9a",
   "metadata": {},
   "outputs": [],
   "source": [
    "%%time\n",
    "tokenizer = transformers.BertTokenizer.from_pretrained('bert-base-uncased', do_lower_case=True)\n",
    "\n",
    "tokenized = X.apply(\n",
    "    lambda x: tokenizer.encode(x[0:512], add_special_tokens=True))\n",
    "\n",
    "max_len = 0\n",
    "for i in tokenized.values:\n",
    "    if len(i) > max_len:\n",
    "        max_len = len(i)\n"
   ]
  },
  {
   "cell_type": "code",
   "execution_count": 31,
   "id": "a56e576e",
   "metadata": {},
   "outputs": [],
   "source": [
    "%%time\n",
    "padded = np.array([i + [0]*(max_len - len(i)) for i in tokenized.values])\n",
    "\n",
    "attention_mask = np.where(padded != 0, 1, 0)"
   ]
  },
  {
   "cell_type": "code",
   "execution_count": 32,
   "id": "934286a1",
   "metadata": {},
   "outputs": [],
   "source": [
    "config = transformers.BertConfig()\n",
    "model = transformers.BertModel.from_pretrained(\n",
    "    'bert-base-uncased', config=config)"
   ]
  },
  {
   "cell_type": "markdown",
   "id": "773e7422",
   "metadata": {},
   "source": [
    "- **Вывод**\n",
    "    - были обучены модели на разных пердобработанных данных\n",
    "    - модели которые были опробованны \n",
    "        - CatBoostClassifier\n",
    "        - LogisticRegression\n",
    "        - DecisionTreeClassifier\n"
   ]
  },
  {
   "cell_type": "markdown",
   "id": "5a628d04",
   "metadata": {},
   "source": [
    "# Итоги"
   ]
  },
  {
   "cell_type": "code",
   "execution_count": 41,
   "id": "0deae3fa",
   "metadata": {},
   "outputs": [
    {
     "data": {
      "image/png": "[encoded data removed]"
     },
     "metadata": {},
     "output_type": "display_data"
    }
   ],
   "source": [
    "plt.figure(figsize=[12,9])\n",
    "\n",
    "plt.plot([0, 1], [0, 1], linestyle='--', label='RandomModel')\n",
    "\n",
    "\n",
    "\n",
    "probabilities_test = classificator_lr_tf_idf.predict_proba(X_test_wb)\n",
    "probabilities_one_test = probabilities_test[:, 1]\n",
    "fpr, tpr, thresholds = roc_curve(y_test, probabilities_one_test)\n",
    "\n",
    "plt.plot(fpr, tpr, label='LogisticRegression')\n",
    "\n",
    "\n",
    "plt.xlim([0,1])\n",
    "plt.ylim([0,1])\n",
    "\n",
    "plt.xlabel(\"False Positive Rate\")\n",
    "plt.ylabel(\"True Positive Rate\")\n",
    "\n",
    "plt.legend(loc='lower right', fontsize='x-large')\n",
    "\n",
    "plt.title(\"ROC-кривая\")\n",
    "plt.show()"
   ]
  },
  {
   "cell_type": "code",
   "execution_count": 42,
   "id": "434ac1f7",
   "metadata": {},
   "outputs": [],
   "source": [
    "print(f'best f1 score {valid_f1_lr_tf_idf} logistic rergression on tf_idf')"
   ]
  },
  {
   "cell_type": "markdown",
   "id": "03023fd5",
   "metadata": {},
   "source": [
    "# Вывод\n"
   ]
  },
  {
   "cell_type": "markdown",
   "id": "3eb3a73f",
   "metadata": {},
   "source": [
    "Было прделано:\n",
    "\n",
    "- Подготовленны данные обучения.\n",
    "\n",
    "- Выбран способ баланса классов, сформированы обучающая и тестовая выборка.\n",
    "\n",
    "- Обучены модели и выбрана лучшая из них.\n",
    "\n",
    "- Показаны параметры качества моделей."
   ]
  },
  {
   "cell_type": "markdown",
   "id": "4896ac4b",
   "metadata": {},
   "source": [
    "- Нужно было достигнуть качества f1 > 0.75 \n",
    "- Лучше всего проявила себя LogisticRegression на данных TF-IDF\n",
    "- Если дать catboost больше итераций мне кажется можно добиться лучшего качетва, но потратим больше времени\n"
   ]
  }
 ],
 "metadata": {
  "kernelspec": {
   "display_name": "Python 3 (ipykernel)",
   "language": "python",
   "name": "python3"
  },
  "language_info": {
   "codemirror_mode": {
    "name": "ipython",
    "version": 3
   },
   "file_extension": ".py",
   "mimetype": "text/x-python",
   "name": "python",
   "nbconvert_exporter": "python",
   "pygments_lexer": "ipython3",
   "version": "3.8.16"
  },
  "toc": {
   "base_numbering": 1,
   "nav_menu": {},
   "number_sections": true,
   "sideBar": true,
   "skip_h1_title": false,
   "title_cell": "Table of Contents",
   "title_sidebar": "Contents",
   "toc_cell": false,
   "toc_position": {},
   "toc_section_display": true,
   "toc_window_display": false
  }
 },
 "nbformat": 4,
 "nbformat_minor": 5
}
