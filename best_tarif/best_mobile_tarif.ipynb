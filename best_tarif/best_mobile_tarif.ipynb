{
 "cells": [
  {
   "cell_type": "markdown",
   "metadata": {},
   "source": [
    "# Рекомендация тарифов"
   ]
  },
  {
   "cell_type": "markdown",
   "metadata": {},
   "source": [
    "В вашем распоряжении данные о поведении клиентов, которые уже перешли на эти тарифы (из проекта курса «Статистический анализ данных»). Нужно построить модель для задачи классификации, которая выберет подходящий тариф. Предобработка данных не понадобится — вы её уже сделали.\n",
    "\n",
    "Постройте модель с максимально большим значением *accuracy*. "
   ]
  },
  {
   "cell_type": "markdown",
   "metadata": {},
   "source": [
    "## Откройте и изучите файл"
   ]
  },
  {
   "cell_type": "code",
   "execution_count": 1,
   "metadata": {},
   "outputs": [],
   "source": [
    "import pandas as pd\n",
    "import numpy as np\n",
    "from sklearn.model_selection import train_test_split\n",
    "from sklearn.tree import DecisionTreeClassifier\n",
    "from sklearn.neighbors import KNeighborsClassifier\n",
    "from sklearn.ensemble import RandomForestClassifier\n",
    "from sklearn.linear_model import LogisticRegression\n",
    "from sklearn.model_selection import GridSearchCV\n",
    "import warnings\n",
    "warnings.filterwarnings(\"ignore\")\n",
    "\n",
    "from sklearn.metrics import accuracy_score\n",
    "from sklearn.metrics import recall_score\n",
    "from sklearn.metrics import precision_score\n",
    "\n",
    "import matplotlib.pyplot as plt"
   ]
  },
  {
   "cell_type": "code",
   "execution_count": 2,
   "metadata": {},
   "outputs": [
    {
     "data": {
      "text/html": [
       "<div>\n",
       "<style scoped>\n",
       "    .dataframe tbody tr th:only-of-type {\n",
       "        vertical-align: middle;\n",
       "    }\n",
       "\n",
       "    .dataframe tbody tr th {\n",
       "        vertical-align: top;\n",
       "    }\n",
       "\n",
       "    .dataframe thead th {\n",
       "        text-align: right;\n",
       "    }\n",
       "</style>\n",
       "<table border=\"1\" class=\"dataframe\">\n",
       "  <thead>\n",
       "    <tr style=\"text-align: right;\">\n",
       "      <th></th>\n",
       "      <th>calls</th>\n",
       "      <th>minutes</th>\n",
       "      <th>messages</th>\n",
       "      <th>mb_used</th>\n",
       "      <th>is_ultra</th>\n",
       "    </tr>\n",
       "  </thead>\n",
       "  <tbody>\n",
       "    <tr>\n",
       "      <th>0</th>\n",
       "      <td>40.0</td>\n",
       "      <td>311.90</td>\n",
       "      <td>83.0</td>\n",
       "      <td>19915.42</td>\n",
       "      <td>0</td>\n",
       "    </tr>\n",
       "    <tr>\n",
       "      <th>1</th>\n",
       "      <td>85.0</td>\n",
       "      <td>516.75</td>\n",
       "      <td>56.0</td>\n",
       "      <td>22696.96</td>\n",
       "      <td>0</td>\n",
       "    </tr>\n",
       "    <tr>\n",
       "      <th>2</th>\n",
       "      <td>77.0</td>\n",
       "      <td>467.66</td>\n",
       "      <td>86.0</td>\n",
       "      <td>21060.45</td>\n",
       "      <td>0</td>\n",
       "    </tr>\n",
       "    <tr>\n",
       "      <th>3</th>\n",
       "      <td>106.0</td>\n",
       "      <td>745.53</td>\n",
       "      <td>81.0</td>\n",
       "      <td>8437.39</td>\n",
       "      <td>1</td>\n",
       "    </tr>\n",
       "    <tr>\n",
       "      <th>4</th>\n",
       "      <td>66.0</td>\n",
       "      <td>418.74</td>\n",
       "      <td>1.0</td>\n",
       "      <td>14502.75</td>\n",
       "      <td>0</td>\n",
       "    </tr>\n",
       "  </tbody>\n",
       "</table>\n",
       "</div>"
      ],
      "text/plain": [
       "   calls  minutes  messages   mb_used  is_ultra\n",
       "0   40.0   311.90      83.0  19915.42         0\n",
       "1   85.0   516.75      56.0  22696.96         0\n",
       "2   77.0   467.66      86.0  21060.45         0\n",
       "3  106.0   745.53      81.0   8437.39         1\n",
       "4   66.0   418.74       1.0  14502.75         0"
      ]
     },
     "execution_count": 2,
     "metadata": {},
     "output_type": "execute_result"
    }
   ],
   "source": [
    "df = pd.read_csv('/datasets/users_behavior.csv')\n",
    "df.head()"
   ]
  },
  {
   "cell_type": "code",
   "execution_count": 3,
   "metadata": {},
   "outputs": [
    {
     "data": {
      "text/plain": [
       "False"
      ]
     },
     "execution_count": 3,
     "metadata": {},
     "output_type": "execute_result"
    }
   ],
   "source": [
    "df.isna().values.any()"
   ]
  },
  {
   "cell_type": "code",
   "execution_count": 4,
   "metadata": {},
   "outputs": [
    {
     "data": {
      "text/plain": [
       "array([], shape=(0, 5), dtype=object)"
      ]
     },
     "execution_count": 4,
     "metadata": {},
     "output_type": "execute_result"
    }
   ],
   "source": [
    "df.columns[df.duplicated().any()]"
   ]
  },
  {
   "cell_type": "markdown",
   "metadata": {},
   "source": [
    "Посмторел данные , на всякий случай проверил на пропуски и дубликаты "
   ]
  },
  {
   "cell_type": "markdown",
   "metadata": {},
   "source": [
    "## Разбейте данные на выборки"
   ]
  },
  {
   "cell_type": "code",
   "execution_count": 5,
   "metadata": {},
   "outputs": [
    {
     "data": {
      "text/plain": [
       "(643, 643, 1928)"
      ]
     },
     "execution_count": 5,
     "metadata": {},
     "output_type": "execute_result"
    }
   ],
   "source": [
    "X, X_valid = train_test_split(df,test_size=0.2,train_size=0.8)\n",
    "X_train, X_test = train_test_split(X ,test_size = 0.25)\n",
    "\n",
    "len(X_test), len(X_valid), len(X_train)"
   ]
  },
  {
   "cell_type": "code",
   "execution_count": 6,
   "metadata": {},
   "outputs": [],
   "source": [
    "y_train = X_train['is_ultra']\n",
    "X_train = X_train.drop('is_ultra', axis=1)"
   ]
  },
  {
   "cell_type": "code",
   "execution_count": 7,
   "metadata": {},
   "outputs": [],
   "source": [
    "y_valid = X_valid['is_ultra']\n",
    "X_valid = X_valid.drop('is_ultra', axis=1)"
   ]
  },
  {
   "cell_type": "code",
   "execution_count": 8,
   "metadata": {},
   "outputs": [],
   "source": [
    "y_test = X_test['is_ultra']\n",
    "X_test = X_test.drop('is_ultra', axis=1)"
   ]
  },
  {
   "cell_type": "markdown",
   "metadata": {},
   "source": [
    "Разбил 60 20 20 процентов соответственно "
   ]
  },
  {
   "cell_type": "code",
   "execution_count": 9,
   "metadata": {},
   "outputs": [
    {
     "name": "stdout",
     "output_type": "stream",
     "text": [
      "Collecting fast_ml\n",
      "  Downloading fast_ml-3.68-py3-none-any.whl (42 kB)\n",
      "\u001b[K     |████████████████████████████████| 42 kB 355 kB/s eta 0:00:011\n",
      "\u001b[?25hInstalling collected packages: fast-ml\n",
      "Successfully installed fast-ml-3.68\n"
     ]
    }
   ],
   "source": [
    "#Kод ревьюера\n",
    "!pip install fast_ml\n",
    "from fast_ml.model_development import train_valid_test_split\n",
    "\n",
    "X_train, y_train, X_valid, y_valid, X_test, y_test = train_valid_test_split(df, target = 'is_ultra', \n",
    "                                                                            train_size=0.6, valid_size=0.2, test_size=0.2)\n"
   ]
  },
  {
   "cell_type": "markdown",
   "metadata": {},
   "source": [
    "## Исследуйте модели"
   ]
  },
  {
   "cell_type": "markdown",
   "metadata": {},
   "source": [
    "### Tree classifier"
   ]
  },
  {
   "cell_type": "markdown",
   "metadata": {},
   "source": [
    "#### подбор параметров"
   ]
  },
  {
   "cell_type": "code",
   "execution_count": 10,
   "metadata": {},
   "outputs": [
    {
     "data": {
      "text/plain": [
       "GridSearchCV(cv=3, estimator=DecisionTreeClassifier(random_state=1234),\n",
       "             param_grid={'criterion': ('gini', 'entropy', 'log_loss'),\n",
       "                         'max_depth': range(1, 10),\n",
       "                         'min_samples_leaf': range(1, 7)})"
      ]
     },
     "execution_count": 10,
     "metadata": {},
     "output_type": "execute_result"
    }
   ],
   "source": [
    "params = {\n",
    "            'criterion' : ('gini', 'entropy', 'log_loss')\n",
    "             ,'max_depth' : range(1, 10)\n",
    "             ,'min_samples_leaf' : range(1, 7)\n",
    "             }\n",
    "\n",
    "cls_tree = GridSearchCV(\n",
    "            DecisionTreeClassifier(random_state=1234)\n",
    "            ,params\n",
    "            ,cv=3\n",
    "            ,refit=True)\n",
    "\n",
    "cls_tree.fit(X_train, y_train)"
   ]
  },
  {
   "cell_type": "markdown",
   "metadata": {},
   "source": [
    "#### лучшие параметры модели "
   ]
  },
  {
   "cell_type": "code",
   "execution_count": 11,
   "metadata": {},
   "outputs": [
    {
     "data": {
      "text/plain": [
       "0.8013538239915764"
      ]
     },
     "execution_count": 11,
     "metadata": {},
     "output_type": "execute_result"
    }
   ],
   "source": [
    "best_params_tree = cls_tree.best_params_\n",
    "cls_tree.best_score_"
   ]
  },
  {
   "cell_type": "markdown",
   "metadata": {},
   "source": [
    "#### обучение модели на лучших параметрах "
   ]
  },
  {
   "cell_type": "code",
   "execution_count": 12,
   "metadata": {},
   "outputs": [
    {
     "data": {
      "text/plain": [
       "0.7713841368584758"
      ]
     },
     "execution_count": 12,
     "metadata": {},
     "output_type": "execute_result"
    }
   ],
   "source": [
    "tree = DecisionTreeClassifier(**best_params_tree, random_state=1234)\n",
    "tree.fit(X_train, y_train)\n",
    "\n",
    "\n",
    "accuracy_score(y_valid, tree.predict(X_valid))"
   ]
  },
  {
   "cell_type": "markdown",
   "metadata": {},
   "source": [
    "### Ближайшие соседи "
   ]
  },
  {
   "cell_type": "markdown",
   "metadata": {},
   "source": [
    "#### подбор параметров"
   ]
  },
  {
   "cell_type": "code",
   "execution_count": 13,
   "metadata": {},
   "outputs": [
    {
     "data": {
      "text/plain": [
       "GridSearchCV(cv=3, estimator=KNeighborsClassifier(),\n",
       "             param_grid={'n_neighbors': range(3, 15), 'p': (1, 2),\n",
       "                         'weights': ('uniform', 'distance')})"
      ]
     },
     "execution_count": 13,
     "metadata": {},
     "output_type": "execute_result"
    }
   ],
   "source": [
    "params = {\n",
    "    'n_neighbors': range(3, 15)\n",
    "    ,'weights': ('uniform', 'distance')\n",
    "    ,'p': (1,2)\n",
    "}\n",
    "\n",
    "cls_knn = GridSearchCV(\n",
    "    KNeighborsClassifier()\n",
    "    ,param_grid=params\n",
    "    ,cv=3\n",
    ")\n",
    "\n",
    "cls_knn.fit(X_train, y_train)"
   ]
  },
  {
   "cell_type": "markdown",
   "metadata": {},
   "source": [
    "#### лучшие параметры модели "
   ]
  },
  {
   "cell_type": "code",
   "execution_count": 14,
   "metadata": {},
   "outputs": [
    {
     "data": {
      "text/plain": [
       "0.7671238628637503"
      ]
     },
     "execution_count": 14,
     "metadata": {},
     "output_type": "execute_result"
    }
   ],
   "source": [
    "best_params_knn = cls_knn.best_params_\n",
    "cls_knn.best_score_"
   ]
  },
  {
   "cell_type": "markdown",
   "metadata": {},
   "source": [
    "#### обучение модели на лучших параметрах "
   ]
  },
  {
   "cell_type": "code",
   "execution_count": 15,
   "metadata": {},
   "outputs": [
    {
     "data": {
      "text/plain": [
       "0.744945567651633"
      ]
     },
     "execution_count": 15,
     "metadata": {},
     "output_type": "execute_result"
    }
   ],
   "source": [
    "knn = KNeighborsClassifier(**best_params_knn)\n",
    "knn.fit(X_train, y_train)\n",
    "\n",
    "\n",
    "accuracy_score(y_valid, knn.predict(X_valid))"
   ]
  },
  {
   "cell_type": "markdown",
   "metadata": {},
   "source": [
    "### Рандомный лес"
   ]
  },
  {
   "cell_type": "markdown",
   "metadata": {},
   "source": [
    "#### подбор параметров"
   ]
  },
  {
   "cell_type": "code",
   "execution_count": 16,
   "metadata": {},
   "outputs": [
    {
     "data": {
      "text/plain": [
       "GridSearchCV(cv=3, estimator=RandomForestClassifier(),\n",
       "             param_grid={'criterion': ('gini', 'entropy', 'log_loss'),\n",
       "                         'max_depth': range(3, 10),\n",
       "                         'min_samples_leaf': range(1, 7),\n",
       "                         'n_estimators': (10, 20, 30, 40)})"
      ]
     },
     "execution_count": 16,
     "metadata": {},
     "output_type": "execute_result"
    }
   ],
   "source": [
    "params = {\n",
    "    'n_estimators' : (10, 20 , 30, 40)\n",
    "    ,'criterion' : ('gini', 'entropy', 'log_loss')\n",
    "    ,'max_depth' : range(3, 10)\n",
    "    ,'min_samples_leaf' : range(1, 7)\n",
    "}\n",
    "\n",
    "cls_forest = GridSearchCV(\n",
    "    RandomForestClassifier()\n",
    "    ,param_grid=params\n",
    "    ,cv=3\n",
    ")\n",
    "\n",
    "cls_forest.fit(X_train, y_train)"
   ]
  },
  {
   "cell_type": "markdown",
   "metadata": {},
   "source": [
    "#### лучшие параметры модели "
   ]
  },
  {
   "cell_type": "code",
   "execution_count": 17,
   "metadata": {},
   "outputs": [
    {
     "data": {
      "text/plain": [
       "0.8117267352380214"
      ]
     },
     "execution_count": 17,
     "metadata": {},
     "output_type": "execute_result"
    }
   ],
   "source": [
    "best_params_forest = cls_forest.best_params_\n",
    "cls_forest.best_score_"
   ]
  },
  {
   "cell_type": "markdown",
   "metadata": {},
   "source": [
    "#### обучение модели на лучших параметрах "
   ]
  },
  {
   "cell_type": "code",
   "execution_count": 18,
   "metadata": {},
   "outputs": [
    {
     "data": {
      "text/plain": [
       "0.7931570762052877"
      ]
     },
     "execution_count": 18,
     "metadata": {},
     "output_type": "execute_result"
    }
   ],
   "source": [
    "forest = RandomForestClassifier(**best_params_forest)\n",
    "forest.fit(X_train, y_train)\n",
    "\n",
    "\n",
    "accuracy_score(y_valid, forest.predict(X_valid))"
   ]
  },
  {
   "cell_type": "markdown",
   "metadata": {},
   "source": [
    "### Регрессия "
   ]
  },
  {
   "cell_type": "markdown",
   "metadata": {},
   "source": [
    "#### подбор параметров"
   ]
  },
  {
   "cell_type": "code",
   "execution_count": 19,
   "metadata": {},
   "outputs": [
    {
     "data": {
      "text/plain": [
       "GridSearchCV(cv=3, estimator=LogisticRegression(random_state=1234),\n",
       "             param_grid={'C': (0.01, 1.0, 4.0, 5.0, 7.0),\n",
       "                         'max_iter': range(20, 100, 10), 'n_jobs': ('None', -1),\n",
       "                         'penalty': ('l1', 'l2', 'elasticnet', 'none'),\n",
       "                         'solver': ('newton-cg', 'lbfgs', 'liblinear', 'sag',\n",
       "                                    'saga')})"
      ]
     },
     "execution_count": 19,
     "metadata": {},
     "output_type": "execute_result"
    }
   ],
   "source": [
    "params = {\n",
    "    'penalty' : ('l1', 'l2', 'elasticnet', 'none')\n",
    "    ,'solver' : ('newton-cg', 'lbfgs', 'liblinear', 'sag', 'saga')\n",
    "    ,'max_iter' : range(20, 100, 10)\n",
    "    ,'C' : (1e-2, 1.0, 4.0, 5.0, 7.0)\n",
    "    ,'n_jobs' : ('None', -1)\n",
    "}\n",
    "\n",
    "cls_log_reg = GridSearchCV(\n",
    "    LogisticRegression(random_state=1234)\n",
    "    ,param_grid=params\n",
    "    ,cv=3\n",
    ")\n",
    "\n",
    "cls_log_reg.fit(X_train, y_train)"
   ]
  },
  {
   "cell_type": "markdown",
   "metadata": {},
   "source": [
    "#### лучшие параметры модели"
   ]
  },
  {
   "cell_type": "code",
   "execution_count": 20,
   "metadata": {},
   "outputs": [
    {
     "data": {
      "text/plain": [
       "0.7551844369187141"
      ]
     },
     "execution_count": 20,
     "metadata": {},
     "output_type": "execute_result"
    }
   ],
   "source": [
    "best_params_log_reg = cls_log_reg.best_params_\n",
    "cls_log_reg.best_score_"
   ]
  },
  {
   "cell_type": "markdown",
   "metadata": {},
   "source": [
    "#### обучение модели на лучших параметрах "
   ]
  },
  {
   "cell_type": "code",
   "execution_count": 21,
   "metadata": {},
   "outputs": [
    {
     "data": {
      "text/plain": [
       "0.7325038880248833"
      ]
     },
     "execution_count": 21,
     "metadata": {},
     "output_type": "execute_result"
    }
   ],
   "source": [
    "regresion = LogisticRegression(**best_params_log_reg, random_state=1234)\n",
    "\n",
    "regresion.fit(X_train, y_train)\n",
    "\n",
    "\n",
    "accuracy_score(y_valid, regresion.predict(X_valid))"
   ]
  },
  {
   "cell_type": "markdown",
   "metadata": {},
   "source": [
    "### Вывод"
   ]
  },
  {
   "cell_type": "markdown",
   "metadata": {},
   "source": [
    "- Я взял 4 варианта моделей:\n",
    "    - Решающие деревья \n",
    "    - Рандомный лес\n",
    "    - Ближайшие соседи\n",
    "    - Логистическую регрессию\n",
    "\n",
    "- Так же к каждой модели применял разные гиперпараметры через **GreadSerchCV**, можно было через циклы , но пришлось бы делать вложенные циклы порядка >= 3 , так как я передавал от 3 гиперпараметров в каждую модель\n",
    "\n",
    "- После на лучших гиперпараметрах учил модель и делал предсказание на валидационной выборке для каждой модели\n",
    "\n",
    "- Лучшей моделью для данной задачи оказалась **RandomForestClassifier** \n",
    "    - на обучающей выборки я получил точнось ~ 82%\n",
    "    - на валидационной ~ 80%\n",
    "- Не сильно отстает и решиющие деревья\n",
    "\n",
    "- В итоге я выбрал для предсказания на тестовой выборке **рандомный лес**"
   ]
  },
  {
   "cell_type": "markdown",
   "metadata": {},
   "source": [
    "## Проверьте модель на тестовой выборке"
   ]
  },
  {
   "cell_type": "code",
   "execution_count": 22,
   "metadata": {},
   "outputs": [
    {
     "name": "stdout",
     "output_type": "stream",
     "text": [
      "точность на тестовой выборке 0.8289269051321928\n",
      "полнота на тестовой выборке 0.5163043478260869\n",
      "точность на тестовой выборке 0.8189655172413793\n"
     ]
    },
    {
     "data": {
      "text/plain": [
       "{'criterion': 'gini',\n",
       " 'max_depth': 9,\n",
       " 'min_samples_leaf': 4,\n",
       " 'n_estimators': 40}"
      ]
     },
     "execution_count": 22,
     "metadata": {},
     "output_type": "execute_result"
    }
   ],
   "source": [
    "best_predict = forest.predict(X_test)\n",
    "\n",
    "print(f'точность на тестовой выборке {accuracy_score(y_test, best_predict)}')\n",
    "\n",
    "print(f'полнота на тестовой выборке {recall_score(y_test, best_predict)}')\n",
    "\n",
    "print(f'точность на тестовой выборке {precision_score(y_test, best_predict)}')\n",
    "\n",
    "best_params_forest"
   ]
  },
  {
   "cell_type": "markdown",
   "metadata": {},
   "source": [
    "- После предсказания на тестовых данных получили достатосно не плохую точность \n",
    "- средние recall и precision\n",
    "- так же вывел при каких параметрах происходило обучение"
   ]
  },
  {
   "cell_type": "markdown",
   "metadata": {},
   "source": [
    "## (бонус) Проверьте модели на адекватность"
   ]
  },
  {
   "cell_type": "code",
   "execution_count": 37,
   "metadata": {},
   "outputs": [
    {
     "data": {
      "text/plain": [
       "'dummy_accuracy 0.713841368584759, best_accuracy 0.8289269051321928, разница 0.11508553654743381 '"
      ]
     },
     "execution_count": 37,
     "metadata": {},
     "output_type": "execute_result"
    }
   ],
   "source": [
    "from sklearn.dummy import DummyClassifier\n",
    "\n",
    "clf_dummy = DummyClassifier(random_state=42)\n",
    "\n",
    "clf_dummy.fit(X_train, y_train)\n",
    "y_pred = clf_dummy.predict(X_test)\n",
    "f'''dummy_accuracy {accuracy_score(y_test ,y_pred)}, best_accuracy {accuracy_score(y_test, best_predict)}, разница {accuracy_score(y_test, best_predict) - accuracy_score(y_test ,y_pred) } '''"
   ]
  },
  {
   "cell_type": "markdown",
   "metadata": {},
   "source": [
    "получается модель рандомного леса переобучена на 0.115"
   ]
  }
 ],
 "metadata": {
  "ExecuteTimeLog": [
   {
    "duration": 453,
    "start_time": "2022-11-21T18:46:50.229Z"
   },
   {
    "duration": 111,
    "start_time": "2022-11-21T18:47:36.272Z"
   },
   {
    "duration": 71,
    "start_time": "2022-11-21T18:48:01.474Z"
   },
   {
    "duration": 6,
    "start_time": "2022-11-21T18:48:54.478Z"
   },
   {
    "duration": 6,
    "start_time": "2022-11-21T18:49:01.890Z"
   },
   {
    "duration": 6,
    "start_time": "2022-11-21T18:50:48.175Z"
   },
   {
    "duration": 5,
    "start_time": "2022-11-21T18:50:59.399Z"
   },
   {
    "duration": 7,
    "start_time": "2022-11-21T18:51:08.998Z"
   },
   {
    "duration": 10,
    "start_time": "2022-11-21T18:51:45.122Z"
   },
   {
    "duration": 8,
    "start_time": "2022-11-21T18:52:07.869Z"
   },
   {
    "duration": 5,
    "start_time": "2022-11-21T18:52:15.419Z"
   },
   {
    "duration": 9,
    "start_time": "2022-11-21T18:53:01.759Z"
   },
   {
    "duration": 701,
    "start_time": "2022-11-21T19:14:46.361Z"
   },
   {
    "duration": 41,
    "start_time": "2022-11-21T19:20:10.023Z"
   },
   {
    "duration": 4,
    "start_time": "2022-11-21T19:20:55.414Z"
   },
   {
    "duration": 9,
    "start_time": "2022-11-21T19:20:59.538Z"
   },
   {
    "duration": 10,
    "start_time": "2022-11-21T19:21:15.074Z"
   },
   {
    "duration": 11,
    "start_time": "2022-11-21T19:25:08.816Z"
   },
   {
    "duration": 9,
    "start_time": "2022-11-21T19:25:22.984Z"
   },
   {
    "duration": 4,
    "start_time": "2022-11-21T19:29:03.050Z"
   },
   {
    "duration": 4,
    "start_time": "2022-11-21T19:29:38.730Z"
   },
   {
    "duration": 4,
    "start_time": "2022-11-21T19:30:01.448Z"
   },
   {
    "duration": 1244,
    "start_time": "2022-11-22T16:19:49.552Z"
   },
   {
    "duration": 18,
    "start_time": "2022-11-22T16:20:01.859Z"
   },
   {
    "duration": 10,
    "start_time": "2022-11-22T16:20:43.406Z"
   },
   {
    "duration": 4,
    "start_time": "2022-11-22T16:20:50.445Z"
   },
   {
    "duration": 3,
    "start_time": "2022-11-22T16:21:35.197Z"
   },
   {
    "duration": 1074,
    "start_time": "2022-11-22T16:21:45.818Z"
   },
   {
    "duration": 76,
    "start_time": "2022-11-22T16:21:46.893Z"
   },
   {
    "duration": 5,
    "start_time": "2022-11-22T16:21:46.970Z"
   },
   {
    "duration": 23,
    "start_time": "2022-11-22T16:21:46.977Z"
   },
   {
    "duration": 8,
    "start_time": "2022-11-22T16:21:47.001Z"
   },
   {
    "duration": 4,
    "start_time": "2022-11-22T16:21:47.010Z"
   },
   {
    "duration": 7,
    "start_time": "2022-11-22T16:21:47.015Z"
   },
   {
    "duration": 14,
    "start_time": "2022-11-22T16:21:47.023Z"
   },
   {
    "duration": 102,
    "start_time": "2022-11-22T16:32:03.252Z"
   },
   {
    "duration": 3,
    "start_time": "2022-11-22T16:32:11.999Z"
   },
   {
    "duration": 2300,
    "start_time": "2022-11-22T16:34:42.511Z"
   },
   {
    "duration": 3,
    "start_time": "2022-11-22T16:35:33.683Z"
   },
   {
    "duration": 4,
    "start_time": "2022-11-22T16:38:01.046Z"
   },
   {
    "duration": 100,
    "start_time": "2022-11-22T16:38:42.005Z"
   },
   {
    "duration": 2271,
    "start_time": "2022-11-22T16:39:40.398Z"
   },
   {
    "duration": 3,
    "start_time": "2022-11-22T16:39:44.994Z"
   },
   {
    "duration": 10,
    "start_time": "2022-11-22T16:39:47.442Z"
   },
   {
    "duration": 18,
    "start_time": "2022-11-22T16:41:07.663Z"
   },
   {
    "duration": 2,
    "start_time": "2022-11-22T16:47:07.752Z"
   },
   {
    "duration": 13,
    "start_time": "2022-11-22T16:47:26.918Z"
   },
   {
    "duration": 12,
    "start_time": "2022-11-22T16:47:42.694Z"
   },
   {
    "duration": 13,
    "start_time": "2022-11-22T16:47:48.238Z"
   },
   {
    "duration": 12,
    "start_time": "2022-11-22T16:47:53.395Z"
   },
   {
    "duration": 31293,
    "start_time": "2022-11-22T16:48:30.289Z"
   },
   {
    "duration": 14789,
    "start_time": "2022-11-22T16:49:06.605Z"
   },
   {
    "duration": 2452,
    "start_time": "2022-11-22T16:49:29.696Z"
   },
   {
    "duration": 3,
    "start_time": "2022-11-22T16:49:38.105Z"
   },
   {
    "duration": 15,
    "start_time": "2022-11-22T16:49:39.358Z"
   },
   {
    "duration": 14,
    "start_time": "2022-11-22T16:49:41.101Z"
   },
   {
    "duration": 13,
    "start_time": "2022-11-22T16:49:41.561Z"
   },
   {
    "duration": 12,
    "start_time": "2022-11-22T16:49:41.917Z"
   },
   {
    "duration": 12,
    "start_time": "2022-11-22T16:49:42.158Z"
   },
   {
    "duration": 12,
    "start_time": "2022-11-22T16:49:42.341Z"
   },
   {
    "duration": 13,
    "start_time": "2022-11-22T16:49:42.537Z"
   },
   {
    "duration": 12,
    "start_time": "2022-11-22T16:49:42.671Z"
   },
   {
    "duration": 18,
    "start_time": "2022-11-22T16:49:42.834Z"
   },
   {
    "duration": 12,
    "start_time": "2022-11-22T16:49:43.239Z"
   },
   {
    "duration": 11,
    "start_time": "2022-11-22T16:49:43.768Z"
   },
   {
    "duration": 15,
    "start_time": "2022-11-22T16:49:43.920Z"
   },
   {
    "duration": 15,
    "start_time": "2022-11-22T16:49:44.093Z"
   },
   {
    "duration": 12,
    "start_time": "2022-11-22T16:49:44.392Z"
   },
   {
    "duration": 12,
    "start_time": "2022-11-22T16:49:44.843Z"
   },
   {
    "duration": 12,
    "start_time": "2022-11-22T16:49:45.221Z"
   },
   {
    "duration": 13,
    "start_time": "2022-11-22T16:49:56.396Z"
   },
   {
    "duration": 2295,
    "start_time": "2022-11-22T17:14:04.476Z"
   },
   {
    "duration": 5,
    "start_time": "2022-11-22T17:14:09.498Z"
   },
   {
    "duration": 4,
    "start_time": "2022-11-22T17:14:31.657Z"
   },
   {
    "duration": 2233,
    "start_time": "2022-11-22T17:14:36.657Z"
   },
   {
    "duration": 5,
    "start_time": "2022-11-22T17:14:40.409Z"
   },
   {
    "duration": 12,
    "start_time": "2022-11-22T17:14:46.521Z"
   },
   {
    "duration": 10594,
    "start_time": "2022-11-22T17:20:03.905Z"
   },
   {
    "duration": 12,
    "start_time": "2022-11-22T17:20:20.893Z"
   },
   {
    "duration": 3636,
    "start_time": "2022-11-22T17:20:28.174Z"
   },
   {
    "duration": 1848,
    "start_time": "2022-11-22T17:20:39.618Z"
   },
   {
    "duration": 8,
    "start_time": "2022-11-22T17:20:44.555Z"
   },
   {
    "duration": 1911,
    "start_time": "2022-11-22T17:20:59.524Z"
   },
   {
    "duration": 9,
    "start_time": "2022-11-22T17:21:02.560Z"
   },
   {
    "duration": 8,
    "start_time": "2022-11-22T17:21:16.853Z"
   },
   {
    "duration": 4,
    "start_time": "2022-11-22T17:24:32.619Z"
   },
   {
    "duration": 4,
    "start_time": "2022-11-22T17:24:34.573Z"
   },
   {
    "duration": 4,
    "start_time": "2022-11-22T17:24:34.997Z"
   },
   {
    "duration": 3,
    "start_time": "2022-11-22T17:24:35.215Z"
   },
   {
    "duration": 5,
    "start_time": "2022-11-22T17:24:35.383Z"
   },
   {
    "duration": 4,
    "start_time": "2022-11-22T17:24:35.525Z"
   },
   {
    "duration": 3,
    "start_time": "2022-11-22T17:24:35.695Z"
   },
   {
    "duration": 4,
    "start_time": "2022-11-22T17:24:35.838Z"
   },
   {
    "duration": 4,
    "start_time": "2022-11-22T17:24:35.994Z"
   },
   {
    "duration": 2386,
    "start_time": "2022-11-22T17:24:38.962Z"
   },
   {
    "duration": 4,
    "start_time": "2022-11-22T17:24:43.642Z"
   },
   {
    "duration": 13,
    "start_time": "2022-11-22T17:24:47.655Z"
   },
   {
    "duration": 1728,
    "start_time": "2022-11-22T17:24:49.935Z"
   },
   {
    "duration": 8,
    "start_time": "2022-11-22T17:24:53.390Z"
   },
   {
    "duration": 7,
    "start_time": "2022-11-22T17:25:19.596Z"
   },
   {
    "duration": 9,
    "start_time": "2022-11-22T17:25:20.637Z"
   },
   {
    "duration": 9,
    "start_time": "2022-11-22T17:25:20.815Z"
   },
   {
    "duration": 8,
    "start_time": "2022-11-22T17:25:20.986Z"
   },
   {
    "duration": 8,
    "start_time": "2022-11-22T17:25:21.150Z"
   },
   {
    "duration": 8,
    "start_time": "2022-11-22T17:25:21.308Z"
   },
   {
    "duration": 8,
    "start_time": "2022-11-22T17:25:21.479Z"
   },
   {
    "duration": 1084,
    "start_time": "2022-11-22T17:25:39.414Z"
   },
   {
    "duration": 42,
    "start_time": "2022-11-22T17:25:41.584Z"
   },
   {
    "duration": 5,
    "start_time": "2022-11-22T17:25:44.447Z"
   },
   {
    "duration": 7,
    "start_time": "2022-11-22T17:25:46.075Z"
   },
   {
    "duration": 8,
    "start_time": "2022-11-22T17:25:48.202Z"
   },
   {
    "duration": 4,
    "start_time": "2022-11-22T17:25:49.644Z"
   },
   {
    "duration": 3,
    "start_time": "2022-11-22T17:25:51.191Z"
   },
   {
    "duration": 3,
    "start_time": "2022-11-22T17:25:53.352Z"
   },
   {
    "duration": 95,
    "start_time": "2022-11-22T17:25:56.877Z"
   },
   {
    "duration": 9,
    "start_time": "2022-11-22T17:26:09.373Z"
   },
   {
    "duration": 1695,
    "start_time": "2022-11-22T17:26:22.956Z"
   },
   {
    "duration": 4,
    "start_time": "2022-11-22T17:26:26.447Z"
   },
   {
    "duration": 1078,
    "start_time": "2022-11-22T17:26:50.995Z"
   },
   {
    "duration": 41,
    "start_time": "2022-11-22T17:26:52.075Z"
   },
   {
    "duration": 5,
    "start_time": "2022-11-22T17:26:52.118Z"
   },
   {
    "duration": 9,
    "start_time": "2022-11-22T17:26:52.124Z"
   },
   {
    "duration": 7,
    "start_time": "2022-11-22T17:26:52.135Z"
   },
   {
    "duration": 4,
    "start_time": "2022-11-22T17:26:52.143Z"
   },
   {
    "duration": 10,
    "start_time": "2022-11-22T17:26:52.148Z"
   },
   {
    "duration": 5,
    "start_time": "2022-11-22T17:26:52.159Z"
   },
   {
    "duration": 2333,
    "start_time": "2022-11-22T17:26:52.165Z"
   },
   {
    "duration": 3,
    "start_time": "2022-11-22T17:26:54.500Z"
   },
   {
    "duration": 14,
    "start_time": "2022-11-22T17:26:54.505Z"
   },
   {
    "duration": 1714,
    "start_time": "2022-11-22T17:26:54.521Z"
   },
   {
    "duration": 4,
    "start_time": "2022-11-22T17:26:56.236Z"
   },
   {
    "duration": 113,
    "start_time": "2022-11-22T17:28:41.484Z"
   },
   {
    "duration": 13,
    "start_time": "2022-11-22T17:28:48.874Z"
   },
   {
    "duration": 22,
    "start_time": "2022-11-22T17:38:37.509Z"
   },
   {
    "duration": 34,
    "start_time": "2022-11-22T17:38:53.528Z"
   },
   {
    "duration": 60747,
    "start_time": "2022-11-22T17:39:32.627Z"
   },
   {
    "duration": 4,
    "start_time": "2022-11-22T17:41:06.724Z"
   },
   {
    "duration": 13,
    "start_time": "2022-11-22T17:41:08.538Z"
   },
   {
    "duration": 2051,
    "start_time": "2022-11-22T17:54:19.237Z"
   },
   {
    "duration": 2214,
    "start_time": "2022-11-22T17:54:39.156Z"
   },
   {
    "duration": 3,
    "start_time": "2022-11-22T17:54:58.539Z"
   },
   {
    "duration": 11,
    "start_time": "2022-11-22T17:56:04.429Z"
   },
   {
    "duration": 6115,
    "start_time": "2022-11-22T17:56:26.898Z"
   },
   {
    "duration": 3,
    "start_time": "2022-11-22T17:56:35.354Z"
   },
   {
    "duration": 11,
    "start_time": "2022-11-22T17:56:37.177Z"
   },
   {
    "duration": 9,
    "start_time": "2022-11-22T17:58:30.033Z"
   },
   {
    "duration": 9,
    "start_time": "2022-11-22T17:58:46.468Z"
   },
   {
    "duration": 25011,
    "start_time": "2022-11-22T17:59:08.653Z"
   },
   {
    "duration": 30954,
    "start_time": "2022-11-22T18:00:24.495Z"
   },
   {
    "duration": 35682,
    "start_time": "2022-11-22T18:01:23.077Z"
   },
   {
    "duration": 5,
    "start_time": "2022-11-22T18:02:31.873Z"
   },
   {
    "duration": 11,
    "start_time": "2022-11-22T18:02:33.880Z"
   },
   {
    "duration": 10,
    "start_time": "2022-11-22T18:08:10.612Z"
   },
   {
    "duration": 10,
    "start_time": "2022-11-22T18:08:16.928Z"
   },
   {
    "duration": 8,
    "start_time": "2022-11-22T18:08:17.249Z"
   },
   {
    "duration": 9,
    "start_time": "2022-11-22T18:08:17.448Z"
   },
   {
    "duration": 10,
    "start_time": "2022-11-22T18:08:17.634Z"
   },
   {
    "duration": 11,
    "start_time": "2022-11-22T18:08:17.782Z"
   },
   {
    "duration": 1144,
    "start_time": "2022-11-23T15:17:52.626Z"
   },
   {
    "duration": 87,
    "start_time": "2022-11-23T15:17:53.772Z"
   },
   {
    "duration": 5,
    "start_time": "2022-11-23T15:17:53.862Z"
   },
   {
    "duration": 12,
    "start_time": "2022-11-23T15:17:53.870Z"
   },
   {
    "duration": 7,
    "start_time": "2022-11-23T15:17:53.884Z"
   },
   {
    "duration": 4,
    "start_time": "2022-11-23T15:17:53.892Z"
   },
   {
    "duration": 8,
    "start_time": "2022-11-23T15:17:53.898Z"
   },
   {
    "duration": 8,
    "start_time": "2022-11-23T15:17:53.907Z"
   },
   {
    "duration": 2353,
    "start_time": "2022-11-23T15:17:53.937Z"
   },
   {
    "duration": 5,
    "start_time": "2022-11-23T15:17:56.292Z"
   },
   {
    "duration": 41,
    "start_time": "2022-11-23T15:17:56.298Z"
   },
   {
    "duration": 1826,
    "start_time": "2022-11-23T15:17:56.341Z"
   },
   {
    "duration": 4,
    "start_time": "2022-11-23T15:17:58.168Z"
   },
   {
    "duration": 21,
    "start_time": "2022-11-23T15:17:58.173Z"
   },
   {
    "duration": 66498,
    "start_time": "2022-11-23T15:17:58.196Z"
   },
   {
    "duration": 4,
    "start_time": "2022-11-23T15:19:04.695Z"
   },
   {
    "duration": 15,
    "start_time": "2022-11-23T15:19:04.701Z"
   },
   {
    "duration": 37364,
    "start_time": "2022-11-23T15:19:04.718Z"
   },
   {
    "duration": 4,
    "start_time": "2022-11-23T15:19:42.083Z"
   },
   {
    "duration": 125,
    "start_time": "2022-11-23T15:19:42.089Z"
   },
   {
    "duration": 10,
    "start_time": "2022-11-23T15:19:42.215Z"
   },
   {
    "duration": 4,
    "start_time": "2022-11-23T15:23:51.874Z"
   },
   {
    "duration": 70,
    "start_time": "2022-11-23T15:23:53.584Z"
   },
   {
    "duration": 11,
    "start_time": "2022-11-23T15:26:17.892Z"
   },
   {
    "duration": 13,
    "start_time": "2022-11-23T15:27:59.543Z"
   },
   {
    "duration": 15,
    "start_time": "2022-11-23T15:43:08.050Z"
   },
   {
    "duration": 72,
    "start_time": "2022-11-23T15:43:59.224Z"
   },
   {
    "duration": 12,
    "start_time": "2022-11-23T15:44:20.516Z"
   },
   {
    "duration": 12,
    "start_time": "2022-11-23T15:44:28.308Z"
   },
   {
    "duration": 13,
    "start_time": "2022-11-23T15:44:43.793Z"
   },
   {
    "duration": 4,
    "start_time": "2022-11-23T15:49:08.402Z"
   },
   {
    "duration": 14,
    "start_time": "2022-11-23T15:51:47.057Z"
   },
   {
    "duration": 110,
    "start_time": "2022-11-23T16:00:15.598Z"
   },
   {
    "duration": 10,
    "start_time": "2022-11-23T16:00:46.042Z"
   },
   {
    "duration": 444,
    "start_time": "2022-11-23T16:00:53.641Z"
   },
   {
    "duration": 18,
    "start_time": "2022-11-23T16:00:59.421Z"
   },
   {
    "duration": 5,
    "start_time": "2022-11-23T16:01:47.109Z"
   },
   {
    "duration": 148,
    "start_time": "2022-11-23T16:02:54.274Z"
   },
   {
    "duration": 149,
    "start_time": "2022-11-23T16:03:08.704Z"
   },
   {
    "duration": 139,
    "start_time": "2022-11-23T16:03:16.008Z"
   },
   {
    "duration": 126,
    "start_time": "2022-11-23T16:03:35.268Z"
   },
   {
    "duration": 4,
    "start_time": "2022-11-23T16:05:10.187Z"
   },
   {
    "duration": 68,
    "start_time": "2022-11-23T16:05:14.004Z"
   },
   {
    "duration": 1402,
    "start_time": "2022-11-23T16:09:28.343Z"
   },
   {
    "duration": 39,
    "start_time": "2022-11-23T16:09:29.747Z"
   },
   {
    "duration": 5,
    "start_time": "2022-11-23T16:09:29.788Z"
   },
   {
    "duration": 8,
    "start_time": "2022-11-23T16:09:29.794Z"
   },
   {
    "duration": 9,
    "start_time": "2022-11-23T16:09:29.804Z"
   },
   {
    "duration": 5,
    "start_time": "2022-11-23T16:09:29.814Z"
   },
   {
    "duration": 19,
    "start_time": "2022-11-23T16:09:29.821Z"
   },
   {
    "duration": 20,
    "start_time": "2022-11-23T16:09:29.842Z"
   },
   {
    "duration": 2342,
    "start_time": "2022-11-23T16:09:29.864Z"
   },
   {
    "duration": 4,
    "start_time": "2022-11-23T16:09:32.208Z"
   },
   {
    "duration": 26,
    "start_time": "2022-11-23T16:09:32.213Z"
   },
   {
    "duration": 1809,
    "start_time": "2022-11-23T16:09:32.241Z"
   },
   {
    "duration": 3,
    "start_time": "2022-11-23T16:09:34.052Z"
   },
   {
    "duration": 26,
    "start_time": "2022-11-23T16:09:34.057Z"
   },
   {
    "duration": 63918,
    "start_time": "2022-11-23T16:09:34.084Z"
   },
   {
    "duration": 4,
    "start_time": "2022-11-23T16:10:38.004Z"
   },
   {
    "duration": 56,
    "start_time": "2022-11-23T16:10:38.009Z"
   },
   {
    "duration": 35352,
    "start_time": "2022-11-23T16:10:38.066Z"
   },
   {
    "duration": 3,
    "start_time": "2022-11-23T16:11:13.420Z"
   },
   {
    "duration": 45,
    "start_time": "2022-11-23T16:11:13.425Z"
   },
   {
    "duration": 15,
    "start_time": "2022-11-23T16:11:13.471Z"
   },
   {
    "duration": 1495,
    "start_time": "2022-11-25T11:47:24.375Z"
   },
   {
    "duration": 126,
    "start_time": "2022-11-25T11:47:25.873Z"
   },
   {
    "duration": 5,
    "start_time": "2022-11-25T11:47:26.001Z"
   },
   {
    "duration": 52,
    "start_time": "2022-11-25T11:47:26.009Z"
   },
   {
    "duration": 55,
    "start_time": "2022-11-25T11:47:26.063Z"
   },
   {
    "duration": 36,
    "start_time": "2022-11-25T11:47:26.121Z"
   },
   {
    "duration": 38,
    "start_time": "2022-11-25T11:47:26.159Z"
   },
   {
    "duration": 29,
    "start_time": "2022-11-25T11:47:26.199Z"
   },
   {
    "duration": 3096,
    "start_time": "2022-11-25T11:47:26.230Z"
   },
   {
    "duration": 2328,
    "start_time": "2022-11-25T11:47:29.330Z"
   },
   {
    "duration": 4,
    "start_time": "2022-11-25T11:47:31.660Z"
   },
   {
    "duration": 16,
    "start_time": "2022-11-25T11:47:31.666Z"
   },
   {
    "duration": 1924,
    "start_time": "2022-11-25T11:47:31.684Z"
   },
   {
    "duration": 4,
    "start_time": "2022-11-25T11:47:33.610Z"
   },
   {
    "duration": 40,
    "start_time": "2022-11-25T11:47:33.616Z"
   },
   {
    "duration": 63706,
    "start_time": "2022-11-25T11:47:33.658Z"
   },
   {
    "duration": 5,
    "start_time": "2022-11-25T11:48:37.365Z"
   },
   {
    "duration": 148,
    "start_time": "2022-11-25T11:48:37.371Z"
   },
   {
    "duration": 36652,
    "start_time": "2022-11-25T11:48:37.521Z"
   },
   {
    "duration": 4,
    "start_time": "2022-11-25T11:49:14.174Z"
   },
   {
    "duration": 75,
    "start_time": "2022-11-25T11:49:14.180Z"
   },
   {
    "duration": 16,
    "start_time": "2022-11-25T11:49:14.257Z"
   },
   {
    "duration": 124,
    "start_time": "2022-11-25T11:49:14.275Z"
   },
   {
    "duration": 7,
    "start_time": "2022-11-25T11:49:26.085Z"
   },
   {
    "duration": 8,
    "start_time": "2022-11-25T11:52:25.157Z"
   },
   {
    "duration": 8,
    "start_time": "2022-11-25T11:53:46.123Z"
   },
   {
    "duration": 7,
    "start_time": "2022-11-25T11:54:01.593Z"
   },
   {
    "duration": 7,
    "start_time": "2022-11-25T11:54:09.156Z"
   },
   {
    "duration": 4,
    "start_time": "2022-11-25T11:54:15.838Z"
   },
   {
    "duration": 9,
    "start_time": "2022-11-25T11:55:20.423Z"
   },
   {
    "duration": 8,
    "start_time": "2022-11-25T11:55:27.238Z"
   },
   {
    "duration": 8,
    "start_time": "2022-11-25T11:55:30.577Z"
   },
   {
    "duration": 8,
    "start_time": "2022-11-25T11:55:36.001Z"
   },
   {
    "duration": 7,
    "start_time": "2022-11-25T11:56:59.459Z"
   },
   {
    "duration": 7,
    "start_time": "2022-11-25T12:01:15.917Z"
   },
   {
    "duration": 8,
    "start_time": "2022-11-25T12:01:31.951Z"
   },
   {
    "duration": 9,
    "start_time": "2022-11-25T12:01:56.017Z"
   }
  ],
  "kernelspec": {
   "display_name": "Python 3 (ipykernel)",
   "language": "python",
   "name": "python3"
  },
  "language_info": {
   "codemirror_mode": {
    "name": "ipython",
    "version": 3
   },
   "file_extension": ".py",
   "mimetype": "text/x-python",
   "name": "python",
   "nbconvert_exporter": "python",
   "pygments_lexer": "ipython3",
   "version": "3.8.16"
  },
  "toc": {
   "base_numbering": 1,
   "nav_menu": {},
   "number_sections": true,
   "sideBar": true,
   "skip_h1_title": true,
   "title_cell": "Table of Contents",
   "title_sidebar": "Contents",
   "toc_cell": false,
   "toc_position": {},
   "toc_section_display": true,
   "toc_window_display": true
  }
 },
 "nbformat": 4,
 "nbformat_minor": 2
}
