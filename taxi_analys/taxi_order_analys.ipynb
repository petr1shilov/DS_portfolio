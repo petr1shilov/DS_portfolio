{
 "cells": [
  {
   "cell_type": "markdown",
   "metadata": {
    "toc": true
   },
   "source": [
    "<h1>Содержание<span class=\"tocSkip\"></span></h1>\n",
    "<div class=\"toc\"><ul class=\"toc-item\"><li><span><a href=\"#Подготовка\" data-toc-modified-id=\"Подготовка-1\"><span class=\"toc-item-num\">1&nbsp;&nbsp;</span>Подготовка</a></span></li><li><span><a href=\"#Анализ\" data-toc-modified-id=\"Анализ-2\"><span class=\"toc-item-num\">2&nbsp;&nbsp;</span>Анализ</a></span><ul class=\"toc-item\"><li><span><a href=\"#графики-для-анализа\" data-toc-modified-id=\"графики-для-анализа-2.1\"><span class=\"toc-item-num\">2.1&nbsp;&nbsp;</span>графики для анализа</a></span></li><li><span><a href=\"#Тренды-и-сезонность\" data-toc-modified-id=\"Тренды-и-сезонность-2.2\"><span class=\"toc-item-num\">2.2&nbsp;&nbsp;</span>Тренды и сезонность</a></span></li><li><span><a href=\"#наиболее-загружанные-часы\" data-toc-modified-id=\"наиболее-загружанные-часы-2.3\"><span class=\"toc-item-num\">2.3&nbsp;&nbsp;</span>наиболее загружанные часы</a></span></li><li><span><a href=\"#вывод-после-анализа\" data-toc-modified-id=\"вывод-после-анализа-2.4\"><span class=\"toc-item-num\">2.4&nbsp;&nbsp;</span>вывод после анализа</a></span></li><li><span><a href=\"#Добаление-фичей\" data-toc-modified-id=\"Добаление-фичей-2.5\"><span class=\"toc-item-num\">2.5&nbsp;&nbsp;</span>Добаление фичей</a></span></li></ul></li><li><span><a href=\"#Обучение\" data-toc-modified-id=\"Обучение-3\"><span class=\"toc-item-num\">3&nbsp;&nbsp;</span>Обучение</a></span><ul class=\"toc-item\"><li><span><a href=\"#RandomForestRegressor\" data-toc-modified-id=\"RandomForestRegressor-3.1\"><span class=\"toc-item-num\">3.1&nbsp;&nbsp;</span>RandomForestRegressor</a></span></li><li><span><a href=\"#LinearRegression\" data-toc-modified-id=\"LinearRegression-3.2\"><span class=\"toc-item-num\">3.2&nbsp;&nbsp;</span>LinearRegression</a></span></li><li><span><a href=\"#CatBoostRegressor\" data-toc-modified-id=\"CatBoostRegressor-3.3\"><span class=\"toc-item-num\">3.3&nbsp;&nbsp;</span>CatBoostRegressor</a></span></li></ul></li><li><span><a href=\"#Тестирование\" data-toc-modified-id=\"Тестирование-4\"><span class=\"toc-item-num\">4&nbsp;&nbsp;</span>Тестирование</a></span><ul class=\"toc-item\"><li><span><a href=\"#CatBoostRegressor\" data-toc-modified-id=\"CatBoostRegressor-4.1\"><span class=\"toc-item-num\">4.1&nbsp;&nbsp;</span>CatBoostRegressor</a></span></li><li><span><a href=\"#LinearRegression\" data-toc-modified-id=\"LinearRegression-4.2\"><span class=\"toc-item-num\">4.2&nbsp;&nbsp;</span>LinearRegression</a></span></li><li><span><a href=\"#Вывод\" data-toc-modified-id=\"Вывод-4.3\"><span class=\"toc-item-num\">4.3&nbsp;&nbsp;</span>Вывод</a></span></li></ul></li><li><span><a href=\"#Чек-лист-проверки\" data-toc-modified-id=\"Чек-лист-проверки-5\"><span class=\"toc-item-num\">5&nbsp;&nbsp;</span>Чек-лист проверки</a></span></li></ul></div>"
   ]
  },
  {
   "cell_type": "markdown",
   "metadata": {},
   "source": [
    "#  Прогнозирование заказов такси"
   ]
  },
  {
   "cell_type": "markdown",
   "metadata": {},
   "source": [
    "Компания «Чётенькое такси» собрала исторические данные о заказах такси в аэропортах. Чтобы привлекать больше водителей в период пиковой нагрузки, нужно спрогнозировать количество заказов такси на следующий час. Постройте модель для такого предсказания.\n",
    "\n",
    "Значение метрики *RMSE* на тестовой выборке должно быть не больше 48.\n",
    "\n",
    "Вам нужно:\n",
    "\n",
    "1. Загрузить данные и выполнить их ресемплирование по одному часу.\n",
    "2. Проанализировать данные.\n",
    "3. Обучить разные модели с различными гиперпараметрами. Сделать тестовую выборку размером 10% от исходных данных.\n",
    "4. Проверить данные на тестовой выборке и сделать выводы.\n"
   ]
  },
  {
   "cell_type": "code",
   "execution_count": 1,
   "metadata": {},
   "outputs": [],
   "source": [
    "import pandas as pd\n",
    "import numpy as np\n",
    "\n",
    "from statsmodels.tsa.seasonal import seasonal_decompose\n",
    "\n",
    "from sklearn.preprocessing import LabelEncoder, OrdinalEncoder, OneHotEncoder, StandardScaler\n",
    "from sklearn.model_selection import train_test_split, RandomizedSearchCV, TimeSeriesSplit\n",
    "\n",
    "from sklearn.ensemble import RandomForestRegressor\n",
    "from sklearn.linear_model import LinearRegression\n",
    "from lightgbm import LGBMRegressor\n",
    "from catboost import CatBoostRegressor\n",
    "from sklearn.metrics import mean_squared_error\n",
    "\n",
    "from sklearn.compose import ColumnTransformer\n",
    "\n",
    "from sklearn.pipeline import Pipeline\n",
    "\n",
    "import matplotlib.pyplot as plt\n",
    "\n",
    "import warnings \n",
    "warnings.filterwarnings(\"ignore\")"
   ]
  },
  {
   "cell_type": "markdown",
   "metadata": {},
   "source": [
    "## Подготовка"
   ]
  },
  {
   "cell_type": "code",
   "execution_count": 2,
   "metadata": {},
   "outputs": [
    {
     "data": {
      "text/html": [
       "<div>\n",
       "<style scoped>\n",
       "    .dataframe tbody tr th:only-of-type {\n",
       "        vertical-align: middle;\n",
       "    }\n",
       "\n",
       "    .dataframe tbody tr th {\n",
       "        vertical-align: top;\n",
       "    }\n",
       "\n",
       "    .dataframe thead th {\n",
       "        text-align: right;\n",
       "    }\n",
       "</style>\n",
       "<table border=\"1\" class=\"dataframe\">\n",
       "  <thead>\n",
       "    <tr style=\"text-align: right;\">\n",
       "      <th></th>\n",
       "      <th>num_orders</th>\n",
       "    </tr>\n",
       "    <tr>\n",
       "      <th>datetime</th>\n",
       "      <th></th>\n",
       "    </tr>\n",
       "  </thead>\n",
       "  <tbody>\n",
       "    <tr>\n",
       "      <th>2018-03-01 00:00:00</th>\n",
       "      <td>124</td>\n",
       "    </tr>\n",
       "    <tr>\n",
       "      <th>2018-03-01 01:00:00</th>\n",
       "      <td>85</td>\n",
       "    </tr>\n",
       "    <tr>\n",
       "      <th>2018-03-01 02:00:00</th>\n",
       "      <td>71</td>\n",
       "    </tr>\n",
       "    <tr>\n",
       "      <th>2018-03-01 03:00:00</th>\n",
       "      <td>66</td>\n",
       "    </tr>\n",
       "    <tr>\n",
       "      <th>2018-03-01 04:00:00</th>\n",
       "      <td>43</td>\n",
       "    </tr>\n",
       "  </tbody>\n",
       "</table>\n",
       "</div>"
      ],
      "text/plain": [
       "                     num_orders\n",
       "datetime                       \n",
       "2018-03-01 00:00:00         124\n",
       "2018-03-01 01:00:00          85\n",
       "2018-03-01 02:00:00          71\n",
       "2018-03-01 03:00:00          66\n",
       "2018-03-01 04:00:00          43"
      ]
     },
     "execution_count": 2,
     "metadata": {},
     "output_type": "execute_result"
    }
   ],
   "source": [
    "df = pd.read_csv('/datasets/taxi.csv', parse_dates=['datetime'],index_col='datetime')\n",
    "df.sort_index(inplace=True)\n",
    "df = df.resample('1H').sum()\n",
    "df.head()"
   ]
  },
  {
   "cell_type": "markdown",
   "metadata": {},
   "source": [
    "- **Функция для начального анализа**"
   ]
  },
  {
   "cell_type": "code",
   "execution_count": 3,
   "metadata": {},
   "outputs": [
    {
     "name": "stdout",
     "output_type": "stream",
     "text": [
      "(4416, 1)\n",
      "<class 'pandas.core.frame.DataFrame'>\n",
      "DatetimeIndex: 4416 entries, 2018-03-01 00:00:00 to 2018-08-31 23:00:00\n",
      "Freq: H\n",
      "Data columns (total 1 columns):\n",
      " #   Column      Non-Null Count  Dtype\n",
      "---  ------      --------------  -----\n",
      " 0   num_orders  4416 non-null   int64\n",
      "dtypes: int64(1)\n",
      "memory usage: 69.0 KB\n",
      "None\n",
      "No gaps\n",
      "есть ли дупликаты True\n"
     ]
    },
    {
     "data": {
      "text/html": [
       "<div>\n",
       "<style scoped>\n",
       "    .dataframe tbody tr th:only-of-type {\n",
       "        vertical-align: middle;\n",
       "    }\n",
       "\n",
       "    .dataframe tbody tr th {\n",
       "        vertical-align: top;\n",
       "    }\n",
       "\n",
       "    .dataframe thead th {\n",
       "        text-align: right;\n",
       "    }\n",
       "</style>\n",
       "<table border=\"1\" class=\"dataframe\">\n",
       "  <thead>\n",
       "    <tr style=\"text-align: right;\">\n",
       "      <th></th>\n",
       "      <th>num_orders</th>\n",
       "    </tr>\n",
       "    <tr>\n",
       "      <th>datetime</th>\n",
       "      <th></th>\n",
       "    </tr>\n",
       "  </thead>\n",
       "  <tbody>\n",
       "    <tr>\n",
       "      <th>2018-03-01 00:00:00</th>\n",
       "      <td>124</td>\n",
       "    </tr>\n",
       "    <tr>\n",
       "      <th>2018-03-01 01:00:00</th>\n",
       "      <td>85</td>\n",
       "    </tr>\n",
       "    <tr>\n",
       "      <th>2018-03-01 02:00:00</th>\n",
       "      <td>71</td>\n",
       "    </tr>\n",
       "    <tr>\n",
       "      <th>2018-03-01 03:00:00</th>\n",
       "      <td>66</td>\n",
       "    </tr>\n",
       "    <tr>\n",
       "      <th>2018-03-01 04:00:00</th>\n",
       "      <td>43</td>\n",
       "    </tr>\n",
       "    <tr>\n",
       "      <th>2018-03-01 05:00:00</th>\n",
       "      <td>6</td>\n",
       "    </tr>\n",
       "    <tr>\n",
       "      <th>2018-03-01 06:00:00</th>\n",
       "      <td>12</td>\n",
       "    </tr>\n",
       "    <tr>\n",
       "      <th>2018-03-01 07:00:00</th>\n",
       "      <td>15</td>\n",
       "    </tr>\n",
       "    <tr>\n",
       "      <th>2018-03-01 08:00:00</th>\n",
       "      <td>34</td>\n",
       "    </tr>\n",
       "    <tr>\n",
       "      <th>2018-03-01 09:00:00</th>\n",
       "      <td>69</td>\n",
       "    </tr>\n",
       "  </tbody>\n",
       "</table>\n",
       "</div>"
      ],
      "text/plain": [
       "                     num_orders\n",
       "datetime                       \n",
       "2018-03-01 00:00:00         124\n",
       "2018-03-01 01:00:00          85\n",
       "2018-03-01 02:00:00          71\n",
       "2018-03-01 03:00:00          66\n",
       "2018-03-01 04:00:00          43\n",
       "2018-03-01 05:00:00           6\n",
       "2018-03-01 06:00:00          12\n",
       "2018-03-01 07:00:00          15\n",
       "2018-03-01 08:00:00          34\n",
       "2018-03-01 09:00:00          69"
      ]
     },
     "metadata": {},
     "output_type": "display_data"
    }
   ],
   "source": [
    "def df_info(df):\n",
    "    print(df.shape)\n",
    "    print(df.info())\n",
    "    \n",
    "    if df.isna().values.any():\n",
    "        display(pd.DataFrame(df.isna().mean().to_frame(name='gaps')).style.format({'gaps' : '{:.2%}'}))\n",
    "    else: print('No gaps')\n",
    "        \n",
    "    \n",
    "    print('есть ли дупликаты',df.duplicated().values.any())\n",
    "    \n",
    "    display(df.head(10))\n",
    "df_info(df)"
   ]
  },
  {
   "cell_type": "markdown",
   "metadata": {},
   "source": [
    "## Анализ"
   ]
  },
  {
   "cell_type": "markdown",
   "metadata": {},
   "source": [
    "### графики для анализа "
   ]
  },
  {
   "cell_type": "code",
   "execution_count": 4,
   "metadata": {},
   "outputs": [
    {
     "data": {
      "text/plain": [
       "<AxesSubplot:xlabel='datetime'>"
      ]
     },
     "execution_count": 4,
     "metadata": {},
     "output_type": "execute_result"
    },
    {
     "data": {
      "image/png": "[encoded data removed]",
      "text/plain": [
       "<Figure size 432x288 with 1 Axes>"
      ]
     },
     "metadata": {
      "needs_background": "light"
     },
     "output_type": "display_data"
    }
   ],
   "source": [
    "df_month = df['2018-03-04']\n",
    "df_month['mean'] = df_month['num_orders'].rolling(5).mean()\n",
    "df_month['std'] = df_month['num_orders'].rolling(5).std()\n",
    "df_month.plot(grid=True)"
   ]
  },
  {
   "cell_type": "code",
   "execution_count": 5,
   "metadata": {},
   "outputs": [
    {
     "data": {
      "text/plain": [
       "<AxesSubplot:xlabel='datetime'>"
      ]
     },
     "execution_count": 5,
     "metadata": {},
     "output_type": "execute_result"
    },
    {
     "data": {
      "image/png": "[encoded data removed]",
      "text/plain": [
       "<Figure size 432x288 with 1 Axes>"
      ]
     },
     "metadata": {
      "needs_background": "light"
     },
     "output_type": "display_data"
    }
   ],
   "source": [
    "df_month = df['2018-03-01' : '2018-03-31'] \n",
    "df_month['mean'] = df_month['num_orders'].rolling(5).mean()\n",
    "df_month['std'] = df_month['num_orders'].rolling(5).std()\n",
    "df_month.plot()"
   ]
  },
  {
   "cell_type": "code",
   "execution_count": 6,
   "metadata": {},
   "outputs": [
    {
     "data": {
      "text/plain": [
       "<AxesSubplot:xlabel='datetime'>"
      ]
     },
     "execution_count": 6,
     "metadata": {},
     "output_type": "execute_result"
    },
    {
     "data": {
      "image/png": "[encoded data removed]",
      "text/plain": [
       "<Figure size 432x288 with 1 Axes>"
      ]
     },
     "metadata": {
      "needs_background": "light"
     },
     "output_type": "display_data"
    }
   ],
   "source": [
    "df_month = df['2018-03-01' : '2019-03-01'] \n",
    "#df_month['mean'] = df_month['num_orders'].rolling(5).mean()\n",
    "#df_month['std'] = df_month['num_orders'].rolling(5).std()\n",
    "df_month['num_orders'].plot()"
   ]
  },
  {
   "cell_type": "markdown",
   "metadata": {},
   "source": [
    "### Тренды и сезонность"
   ]
  },
  {
   "cell_type": "code",
   "execution_count": 7,
   "metadata": {},
   "outputs": [
    {
     "data": {
      "image/png": "[encoded data removed]",
      "text/plain": [
       "<Figure size 432x288 with 1 Axes>"
      ]
     },
     "metadata": {
      "needs_background": "light"
     },
     "output_type": "display_data"
    }
   ],
   "source": [
    "decomposed = seasonal_decompose(df)\n",
    "decomposed.trend.plot(title='Trend');"
   ]
  },
  {
   "cell_type": "code",
   "execution_count": 8,
   "metadata": {},
   "outputs": [
    {
     "data": {
      "image/png": "[encoded data removed]",
      "text/plain": [
       "<Figure size 432x288 with 1 Axes>"
      ]
     },
     "metadata": {
      "needs_background": "light"
     },
     "output_type": "display_data"
    }
   ],
   "source": [
    "decomposed.seasonal.head(24*7).plot(title='Seasonal');\n"
   ]
  },
  {
   "cell_type": "code",
   "execution_count": 9,
   "metadata": {},
   "outputs": [
    {
     "data": {
      "image/png": "[encoded data removed]",
      "text/plain": [
       "<Figure size 432x288 with 1 Axes>"
      ]
     },
     "metadata": {
      "needs_background": "light"
     },
     "output_type": "display_data"
    }
   ],
   "source": [
    "decomposed.resid.plot(title='Resid');"
   ]
  },
  {
   "cell_type": "markdown",
   "metadata": {},
   "source": [
    "### наиболее загружанные часы "
   ]
  },
  {
   "cell_type": "code",
   "execution_count": 10,
   "metadata": {},
   "outputs": [
    {
     "data": {
      "text/plain": [
       "0     182\n",
       "1     158\n",
       "2     143\n",
       "3     152\n",
       "4     112\n",
       "5      50\n",
       "6      18\n",
       "7      11\n",
       "8     133\n",
       "9     140\n",
       "10    145\n",
       "11    144\n",
       "12     90\n",
       "13    116\n",
       "14    123\n",
       "15    156\n",
       "16    170\n",
       "17    134\n",
       "18    104\n",
       "19    138\n",
       "20    149\n",
       "21    161\n",
       "22    172\n",
       "23    172\n",
       "Name: datetime, dtype: int64"
      ]
     },
     "execution_count": 10,
     "metadata": {},
     "output_type": "execute_result"
    }
   ],
   "source": [
    "df_month.loc[df_month['num_orders'] >= 60].index.hour.value_counts().sort_index()\n"
   ]
  },
  {
   "cell_type": "code",
   "execution_count": 11,
   "metadata": {},
   "outputs": [
    {
     "data": {
      "text/html": [
       "<div>\n",
       "<style scoped>\n",
       "    .dataframe tbody tr th:only-of-type {\n",
       "        vertical-align: middle;\n",
       "    }\n",
       "\n",
       "    .dataframe tbody tr th {\n",
       "        vertical-align: top;\n",
       "    }\n",
       "\n",
       "    .dataframe thead th {\n",
       "        text-align: right;\n",
       "    }\n",
       "</style>\n",
       "<table border=\"1\" class=\"dataframe\">\n",
       "  <thead>\n",
       "    <tr style=\"text-align: right;\">\n",
       "      <th></th>\n",
       "      <th>datetime</th>\n",
       "    </tr>\n",
       "  </thead>\n",
       "  <tbody>\n",
       "    <tr>\n",
       "      <th>0</th>\n",
       "      <td>182</td>\n",
       "    </tr>\n",
       "    <tr>\n",
       "      <th>1</th>\n",
       "      <td>158</td>\n",
       "    </tr>\n",
       "    <tr>\n",
       "      <th>2</th>\n",
       "      <td>143</td>\n",
       "    </tr>\n",
       "    <tr>\n",
       "      <th>3</th>\n",
       "      <td>152</td>\n",
       "    </tr>\n",
       "    <tr>\n",
       "      <th>4</th>\n",
       "      <td>112</td>\n",
       "    </tr>\n",
       "    <tr>\n",
       "      <th>5</th>\n",
       "      <td>50</td>\n",
       "    </tr>\n",
       "    <tr>\n",
       "      <th>8</th>\n",
       "      <td>133</td>\n",
       "    </tr>\n",
       "    <tr>\n",
       "      <th>9</th>\n",
       "      <td>140</td>\n",
       "    </tr>\n",
       "    <tr>\n",
       "      <th>10</th>\n",
       "      <td>145</td>\n",
       "    </tr>\n",
       "    <tr>\n",
       "      <th>11</th>\n",
       "      <td>144</td>\n",
       "    </tr>\n",
       "    <tr>\n",
       "      <th>12</th>\n",
       "      <td>90</td>\n",
       "    </tr>\n",
       "    <tr>\n",
       "      <th>13</th>\n",
       "      <td>116</td>\n",
       "    </tr>\n",
       "    <tr>\n",
       "      <th>14</th>\n",
       "      <td>123</td>\n",
       "    </tr>\n",
       "    <tr>\n",
       "      <th>15</th>\n",
       "      <td>156</td>\n",
       "    </tr>\n",
       "    <tr>\n",
       "      <th>16</th>\n",
       "      <td>170</td>\n",
       "    </tr>\n",
       "    <tr>\n",
       "      <th>17</th>\n",
       "      <td>134</td>\n",
       "    </tr>\n",
       "    <tr>\n",
       "      <th>18</th>\n",
       "      <td>104</td>\n",
       "    </tr>\n",
       "    <tr>\n",
       "      <th>19</th>\n",
       "      <td>138</td>\n",
       "    </tr>\n",
       "    <tr>\n",
       "      <th>20</th>\n",
       "      <td>149</td>\n",
       "    </tr>\n",
       "    <tr>\n",
       "      <th>21</th>\n",
       "      <td>161</td>\n",
       "    </tr>\n",
       "    <tr>\n",
       "      <th>22</th>\n",
       "      <td>172</td>\n",
       "    </tr>\n",
       "    <tr>\n",
       "      <th>23</th>\n",
       "      <td>172</td>\n",
       "    </tr>\n",
       "  </tbody>\n",
       "</table>\n",
       "</div>"
      ],
      "text/plain": [
       "    datetime\n",
       "0        182\n",
       "1        158\n",
       "2        143\n",
       "3        152\n",
       "4        112\n",
       "5         50\n",
       "8        133\n",
       "9        140\n",
       "10       145\n",
       "11       144\n",
       "12        90\n",
       "13       116\n",
       "14       123\n",
       "15       156\n",
       "16       170\n",
       "17       134\n",
       "18       104\n",
       "19       138\n",
       "20       149\n",
       "21       161\n",
       "22       172\n",
       "23       172"
      ]
     },
     "execution_count": 11,
     "metadata": {},
     "output_type": "execute_result"
    }
   ],
   "source": [
    "count = pd.DataFrame(df.loc[df['num_orders'] >= 60].index.hour.value_counts().sort_index())\n",
    "count.loc[count['datetime'] >= 50]"
   ]
  },
  {
   "cell_type": "markdown",
   "metadata": {},
   "source": [
    "### вывод после анализа"
   ]
  },
  {
   "cell_type": "markdown",
   "metadata": {},
   "source": [
    "- после анализа видно, что есть опреленные часы, когда заказы в пиковом количестве\n",
    "\n",
    "- так же присудствует сезонность по часам , что видно из графика\n",
    "\n",
    "- можно посмотреть во сколько было максимальное количество вызовов"
   ]
  },
  {
   "cell_type": "markdown",
   "metadata": {},
   "source": [
    "### Добаление фичей"
   ]
  },
  {
   "cell_type": "code",
   "execution_count": 12,
   "metadata": {},
   "outputs": [
    {
     "data": {
      "text/html": [
       "<div>\n",
       "<style scoped>\n",
       "    .dataframe tbody tr th:only-of-type {\n",
       "        vertical-align: middle;\n",
       "    }\n",
       "\n",
       "    .dataframe tbody tr th {\n",
       "        vertical-align: top;\n",
       "    }\n",
       "\n",
       "    .dataframe thead th {\n",
       "        text-align: right;\n",
       "    }\n",
       "</style>\n",
       "<table border=\"1\" class=\"dataframe\">\n",
       "  <thead>\n",
       "    <tr style=\"text-align: right;\">\n",
       "      <th></th>\n",
       "      <th>num_orders</th>\n",
       "      <th>day_lag</th>\n",
       "      <th>two_day_lag</th>\n",
       "      <th>dayofweek</th>\n",
       "      <th>hour</th>\n",
       "      <th>rolling_mean</th>\n",
       "    </tr>\n",
       "    <tr>\n",
       "      <th>datetime</th>\n",
       "      <th></th>\n",
       "      <th></th>\n",
       "      <th></th>\n",
       "      <th></th>\n",
       "      <th></th>\n",
       "      <th></th>\n",
       "    </tr>\n",
       "  </thead>\n",
       "  <tbody>\n",
       "    <tr>\n",
       "      <th>2018-03-01 00:00:00</th>\n",
       "      <td>124</td>\n",
       "      <td>0.0</td>\n",
       "      <td>0.0</td>\n",
       "      <td>3</td>\n",
       "      <td>0</td>\n",
       "      <td>0.0</td>\n",
       "    </tr>\n",
       "    <tr>\n",
       "      <th>2018-03-01 01:00:00</th>\n",
       "      <td>85</td>\n",
       "      <td>124.0</td>\n",
       "      <td>0.0</td>\n",
       "      <td>3</td>\n",
       "      <td>1</td>\n",
       "      <td>104.5</td>\n",
       "    </tr>\n",
       "    <tr>\n",
       "      <th>2018-03-01 02:00:00</th>\n",
       "      <td>71</td>\n",
       "      <td>85.0</td>\n",
       "      <td>124.0</td>\n",
       "      <td>3</td>\n",
       "      <td>2</td>\n",
       "      <td>78.0</td>\n",
       "    </tr>\n",
       "    <tr>\n",
       "      <th>2018-03-01 03:00:00</th>\n",
       "      <td>66</td>\n",
       "      <td>71.0</td>\n",
       "      <td>85.0</td>\n",
       "      <td>3</td>\n",
       "      <td>3</td>\n",
       "      <td>68.5</td>\n",
       "    </tr>\n",
       "    <tr>\n",
       "      <th>2018-03-01 04:00:00</th>\n",
       "      <td>43</td>\n",
       "      <td>66.0</td>\n",
       "      <td>71.0</td>\n",
       "      <td>3</td>\n",
       "      <td>4</td>\n",
       "      <td>54.5</td>\n",
       "    </tr>\n",
       "  </tbody>\n",
       "</table>\n",
       "</div>"
      ],
      "text/plain": [
       "                     num_orders  day_lag  two_day_lag  dayofweek  hour  \\\n",
       "datetime                                                                 \n",
       "2018-03-01 00:00:00         124      0.0          0.0          3     0   \n",
       "2018-03-01 01:00:00          85    124.0          0.0          3     1   \n",
       "2018-03-01 02:00:00          71     85.0        124.0          3     2   \n",
       "2018-03-01 03:00:00          66     71.0         85.0          3     3   \n",
       "2018-03-01 04:00:00          43     66.0         71.0          3     4   \n",
       "\n",
       "                     rolling_mean  \n",
       "datetime                           \n",
       "2018-03-01 00:00:00           0.0  \n",
       "2018-03-01 01:00:00         104.5  \n",
       "2018-03-01 02:00:00          78.0  \n",
       "2018-03-01 03:00:00          68.5  \n",
       "2018-03-01 04:00:00          54.5  "
      ]
     },
     "execution_count": 12,
     "metadata": {},
     "output_type": "execute_result"
    }
   ],
   "source": [
    "df['day_lag'] = df['num_orders'].shift(1)\n",
    "df['two_day_lag'] = df['num_orders'].shift(2)\n",
    "df['dayofweek'] = df.index.dayofweek\n",
    "df['hour'] = df.index.hour\n",
    "df['rolling_mean'] = df.num_orders.rolling(2).mean()\n",
    "df.fillna(0, inplace=True)\n",
    "df.head()"
   ]
  },
  {
   "cell_type": "code",
   "execution_count": 13,
   "metadata": {},
   "outputs": [
    {
     "data": {
      "text/html": [
       "<div>\n",
       "<style scoped>\n",
       "    .dataframe tbody tr th:only-of-type {\n",
       "        vertical-align: middle;\n",
       "    }\n",
       "\n",
       "    .dataframe tbody tr th {\n",
       "        vertical-align: top;\n",
       "    }\n",
       "\n",
       "    .dataframe thead th {\n",
       "        text-align: right;\n",
       "    }\n",
       "</style>\n",
       "<table border=\"1\" class=\"dataframe\">\n",
       "  <thead>\n",
       "    <tr style=\"text-align: right;\">\n",
       "      <th></th>\n",
       "      <th>num_orders</th>\n",
       "      <th>day_lag</th>\n",
       "      <th>two_day_lag</th>\n",
       "      <th>dayofweek</th>\n",
       "      <th>hour</th>\n",
       "      <th>rolling_mean</th>\n",
       "    </tr>\n",
       "  </thead>\n",
       "  <tbody>\n",
       "    <tr>\n",
       "      <th>count</th>\n",
       "      <td>4416.000000</td>\n",
       "      <td>4416.000000</td>\n",
       "      <td>4416.000000</td>\n",
       "      <td>4416.000000</td>\n",
       "      <td>4416.00000</td>\n",
       "      <td>4416.000000</td>\n",
       "    </tr>\n",
       "    <tr>\n",
       "      <th>mean</th>\n",
       "      <td>84.422781</td>\n",
       "      <td>84.376359</td>\n",
       "      <td>84.325861</td>\n",
       "      <td>3.005435</td>\n",
       "      <td>11.50000</td>\n",
       "      <td>84.385530</td>\n",
       "    </tr>\n",
       "    <tr>\n",
       "      <th>std</th>\n",
       "      <td>45.023853</td>\n",
       "      <td>45.005183</td>\n",
       "      <td>44.974703</td>\n",
       "      <td>1.990684</td>\n",
       "      <td>6.92297</td>\n",
       "      <td>40.574812</td>\n",
       "    </tr>\n",
       "    <tr>\n",
       "      <th>min</th>\n",
       "      <td>0.000000</td>\n",
       "      <td>0.000000</td>\n",
       "      <td>0.000000</td>\n",
       "      <td>0.000000</td>\n",
       "      <td>0.00000</td>\n",
       "      <td>0.000000</td>\n",
       "    </tr>\n",
       "    <tr>\n",
       "      <th>25%</th>\n",
       "      <td>54.000000</td>\n",
       "      <td>54.000000</td>\n",
       "      <td>54.000000</td>\n",
       "      <td>1.000000</td>\n",
       "      <td>5.75000</td>\n",
       "      <td>57.375000</td>\n",
       "    </tr>\n",
       "    <tr>\n",
       "      <th>50%</th>\n",
       "      <td>78.000000</td>\n",
       "      <td>78.000000</td>\n",
       "      <td>78.000000</td>\n",
       "      <td>3.000000</td>\n",
       "      <td>11.50000</td>\n",
       "      <td>79.000000</td>\n",
       "    </tr>\n",
       "    <tr>\n",
       "      <th>75%</th>\n",
       "      <td>107.000000</td>\n",
       "      <td>107.000000</td>\n",
       "      <td>107.000000</td>\n",
       "      <td>5.000000</td>\n",
       "      <td>17.25000</td>\n",
       "      <td>105.500000</td>\n",
       "    </tr>\n",
       "    <tr>\n",
       "      <th>max</th>\n",
       "      <td>462.000000</td>\n",
       "      <td>462.000000</td>\n",
       "      <td>462.000000</td>\n",
       "      <td>6.000000</td>\n",
       "      <td>23.00000</td>\n",
       "      <td>367.000000</td>\n",
       "    </tr>\n",
       "  </tbody>\n",
       "</table>\n",
       "</div>"
      ],
      "text/plain": [
       "        num_orders      day_lag  two_day_lag    dayofweek        hour  \\\n",
       "count  4416.000000  4416.000000  4416.000000  4416.000000  4416.00000   \n",
       "mean     84.422781    84.376359    84.325861     3.005435    11.50000   \n",
       "std      45.023853    45.005183    44.974703     1.990684     6.92297   \n",
       "min       0.000000     0.000000     0.000000     0.000000     0.00000   \n",
       "25%      54.000000    54.000000    54.000000     1.000000     5.75000   \n",
       "50%      78.000000    78.000000    78.000000     3.000000    11.50000   \n",
       "75%     107.000000   107.000000   107.000000     5.000000    17.25000   \n",
       "max     462.000000   462.000000   462.000000     6.000000    23.00000   \n",
       "\n",
       "       rolling_mean  \n",
       "count   4416.000000  \n",
       "mean      84.385530  \n",
       "std       40.574812  \n",
       "min        0.000000  \n",
       "25%       57.375000  \n",
       "50%       79.000000  \n",
       "75%      105.500000  \n",
       "max      367.000000  "
      ]
     },
     "execution_count": 13,
     "metadata": {},
     "output_type": "execute_result"
    }
   ],
   "source": [
    "df.describe()"
   ]
  },
  {
   "cell_type": "code",
   "execution_count": 14,
   "metadata": {},
   "outputs": [],
   "source": [
    "cat_col = ['dayofweek','hour']\n",
    "num_col = ['day_lag', 'rolling_mean', 'two_day_lag']"
   ]
  },
  {
   "cell_type": "code",
   "execution_count": 15,
   "metadata": {},
   "outputs": [],
   "source": [
    "X = df.drop(columns='num_orders')\n",
    "y = df['num_orders']"
   ]
  },
  {
   "cell_type": "code",
   "execution_count": 16,
   "metadata": {},
   "outputs": [],
   "source": [
    "X_train, X_test, y_train, y_test = train_test_split(X, y, shuffle=False, test_size=.1)"
   ]
  },
  {
   "cell_type": "code",
   "execution_count": 17,
   "metadata": {},
   "outputs": [
    {
     "data": {
      "text/plain": [
       "((3974, 5), (442, 5), (3974,), (442,))"
      ]
     },
     "execution_count": 17,
     "metadata": {},
     "output_type": "execute_result"
    }
   ],
   "source": [
    "X_train.shape, X_test.shape, y_train.shape, y_test.shape"
   ]
  },
  {
   "cell_type": "code",
   "execution_count": 18,
   "metadata": {},
   "outputs": [
    {
     "data": {
      "text/html": [
       "<div>\n",
       "<style scoped>\n",
       "    .dataframe tbody tr th:only-of-type {\n",
       "        vertical-align: middle;\n",
       "    }\n",
       "\n",
       "    .dataframe tbody tr th {\n",
       "        vertical-align: top;\n",
       "    }\n",
       "\n",
       "    .dataframe thead th {\n",
       "        text-align: right;\n",
       "    }\n",
       "</style>\n",
       "<table border=\"1\" class=\"dataframe\">\n",
       "  <thead>\n",
       "    <tr style=\"text-align: right;\">\n",
       "      <th></th>\n",
       "      <th>num_orders</th>\n",
       "      <th>day_lag</th>\n",
       "      <th>two_day_lag</th>\n",
       "      <th>dayofweek</th>\n",
       "      <th>hour</th>\n",
       "      <th>rolling_mean</th>\n",
       "    </tr>\n",
       "    <tr>\n",
       "      <th>datetime</th>\n",
       "      <th></th>\n",
       "      <th></th>\n",
       "      <th></th>\n",
       "      <th></th>\n",
       "      <th></th>\n",
       "      <th></th>\n",
       "    </tr>\n",
       "  </thead>\n",
       "  <tbody>\n",
       "    <tr>\n",
       "      <th>2018-03-01 00:00:00</th>\n",
       "      <td>124</td>\n",
       "      <td>0.0</td>\n",
       "      <td>0.0</td>\n",
       "      <td>3</td>\n",
       "      <td>0</td>\n",
       "      <td>0.0</td>\n",
       "    </tr>\n",
       "    <tr>\n",
       "      <th>2018-03-01 01:00:00</th>\n",
       "      <td>85</td>\n",
       "      <td>124.0</td>\n",
       "      <td>0.0</td>\n",
       "      <td>3</td>\n",
       "      <td>1</td>\n",
       "      <td>104.5</td>\n",
       "    </tr>\n",
       "    <tr>\n",
       "      <th>2018-03-01 02:00:00</th>\n",
       "      <td>71</td>\n",
       "      <td>85.0</td>\n",
       "      <td>124.0</td>\n",
       "      <td>3</td>\n",
       "      <td>2</td>\n",
       "      <td>78.0</td>\n",
       "    </tr>\n",
       "    <tr>\n",
       "      <th>2018-03-01 03:00:00</th>\n",
       "      <td>66</td>\n",
       "      <td>71.0</td>\n",
       "      <td>85.0</td>\n",
       "      <td>3</td>\n",
       "      <td>3</td>\n",
       "      <td>68.5</td>\n",
       "    </tr>\n",
       "    <tr>\n",
       "      <th>2018-03-01 04:00:00</th>\n",
       "      <td>43</td>\n",
       "      <td>66.0</td>\n",
       "      <td>71.0</td>\n",
       "      <td>3</td>\n",
       "      <td>4</td>\n",
       "      <td>54.5</td>\n",
       "    </tr>\n",
       "    <tr>\n",
       "      <th>...</th>\n",
       "      <td>...</td>\n",
       "      <td>...</td>\n",
       "      <td>...</td>\n",
       "      <td>...</td>\n",
       "      <td>...</td>\n",
       "      <td>...</td>\n",
       "    </tr>\n",
       "    <tr>\n",
       "      <th>2018-08-31 19:00:00</th>\n",
       "      <td>136</td>\n",
       "      <td>207.0</td>\n",
       "      <td>217.0</td>\n",
       "      <td>4</td>\n",
       "      <td>19</td>\n",
       "      <td>171.5</td>\n",
       "    </tr>\n",
       "    <tr>\n",
       "      <th>2018-08-31 20:00:00</th>\n",
       "      <td>154</td>\n",
       "      <td>136.0</td>\n",
       "      <td>207.0</td>\n",
       "      <td>4</td>\n",
       "      <td>20</td>\n",
       "      <td>145.0</td>\n",
       "    </tr>\n",
       "    <tr>\n",
       "      <th>2018-08-31 21:00:00</th>\n",
       "      <td>159</td>\n",
       "      <td>154.0</td>\n",
       "      <td>136.0</td>\n",
       "      <td>4</td>\n",
       "      <td>21</td>\n",
       "      <td>156.5</td>\n",
       "    </tr>\n",
       "    <tr>\n",
       "      <th>2018-08-31 22:00:00</th>\n",
       "      <td>223</td>\n",
       "      <td>159.0</td>\n",
       "      <td>154.0</td>\n",
       "      <td>4</td>\n",
       "      <td>22</td>\n",
       "      <td>191.0</td>\n",
       "    </tr>\n",
       "    <tr>\n",
       "      <th>2018-08-31 23:00:00</th>\n",
       "      <td>205</td>\n",
       "      <td>223.0</td>\n",
       "      <td>159.0</td>\n",
       "      <td>4</td>\n",
       "      <td>23</td>\n",
       "      <td>214.0</td>\n",
       "    </tr>\n",
       "  </tbody>\n",
       "</table>\n",
       "<p>4416 rows × 6 columns</p>\n",
       "</div>"
      ],
      "text/plain": [
       "                     num_orders  day_lag  two_day_lag  dayofweek  hour  \\\n",
       "datetime                                                                 \n",
       "2018-03-01 00:00:00         124      0.0          0.0          3     0   \n",
       "2018-03-01 01:00:00          85    124.0          0.0          3     1   \n",
       "2018-03-01 02:00:00          71     85.0        124.0          3     2   \n",
       "2018-03-01 03:00:00          66     71.0         85.0          3     3   \n",
       "2018-03-01 04:00:00          43     66.0         71.0          3     4   \n",
       "...                         ...      ...          ...        ...   ...   \n",
       "2018-08-31 19:00:00         136    207.0        217.0          4    19   \n",
       "2018-08-31 20:00:00         154    136.0        207.0          4    20   \n",
       "2018-08-31 21:00:00         159    154.0        136.0          4    21   \n",
       "2018-08-31 22:00:00         223    159.0        154.0          4    22   \n",
       "2018-08-31 23:00:00         205    223.0        159.0          4    23   \n",
       "\n",
       "                     rolling_mean  \n",
       "datetime                           \n",
       "2018-03-01 00:00:00           0.0  \n",
       "2018-03-01 01:00:00         104.5  \n",
       "2018-03-01 02:00:00          78.0  \n",
       "2018-03-01 03:00:00          68.5  \n",
       "2018-03-01 04:00:00          54.5  \n",
       "...                           ...  \n",
       "2018-08-31 19:00:00         171.5  \n",
       "2018-08-31 20:00:00         145.0  \n",
       "2018-08-31 21:00:00         156.5  \n",
       "2018-08-31 22:00:00         191.0  \n",
       "2018-08-31 23:00:00         214.0  \n",
       "\n",
       "[4416 rows x 6 columns]"
      ]
     },
     "execution_count": 18,
     "metadata": {},
     "output_type": "execute_result"
    }
   ],
   "source": [
    "df"
   ]
  },
  {
   "cell_type": "markdown",
   "metadata": {},
   "source": [
    "## Обучение"
   ]
  },
  {
   "cell_type": "markdown",
   "metadata": {},
   "source": [
    "### RandomForestRegressor"
   ]
  },
  {
   "cell_type": "code",
   "execution_count": 19,
   "metadata": {},
   "outputs": [
    {
     "name": "stdout",
     "output_type": "stream",
     "text": [
      "Best random search hyperparameters are: {'model__n_estimators': 100, 'model__min_samples_split': 2, 'model__min_samples_leaf': 2, 'model__max_features': 5, 'model__max_depth': 10}\n",
      "Best random search score is: 31.23346670716871\n",
      "CPU times: user 7.97 s, sys: 83.3 ms, total: 8.06 s\n",
      "Wall time: 8.09 s\n"
     ]
    }
   ],
   "source": [
    "%%time\n",
    "\n",
    "preprocessor = ColumnTransformer(\n",
    "    transformers=[\n",
    "        ('cat', OneHotEncoder(handle_unknown='ignore'), cat_col)])\n",
    "\n",
    "pipe = Pipeline([\n",
    "    ('preprocessor', preprocessor),\n",
    "    ('model', RandomForestRegressor(random_state=1234))\n",
    "])\n",
    "\n",
    "params = {'model__max_depth' : [3,5,10,None],\n",
    "          'model__n_estimators' : [10,100,200],\n",
    "          'model__max_features' : [1,3,5,7],\n",
    "              'model__min_samples_leaf' : [1,2,3],\n",
    "              'model__min_samples_split' : [1,2,3]\n",
    "           }\n",
    "\n",
    "tscv = TimeSeriesSplit(n_splits=8)\n",
    "rs_rf = RandomizedSearchCV(pipe, params, scoring='neg_root_mean_squared_error', cv=tscv, n_jobs=-1, random_state=1234)\n",
    "\n",
    "model_random_rf = rs_rf.fit(X_train,y_train)\n",
    "best_score_rf = -model_random_rf.best_score_\n",
    "# random random search results\n",
    "best_rf_params = model_random_rf.best_params_\n",
    "print('Best random search hyperparameters are: '+str(best_rf_params))\n",
    "print('Best random search score is: '+str(best_score_rf))"
   ]
  },
  {
   "cell_type": "markdown",
   "metadata": {},
   "source": [
    "### LinearRegression"
   ]
  },
  {
   "cell_type": "code",
   "execution_count": 20,
   "metadata": {},
   "outputs": [
    {
     "name": "stdout",
     "output_type": "stream",
     "text": [
      "Best random search hyperparameters are: {'model__copy_X': True}\n",
      "Best random search score is: 31.15455616112285\n",
      "CPU times: user 210 ms, sys: 3.64 ms, total: 214 ms\n",
      "Wall time: 220 ms\n"
     ]
    }
   ],
   "source": [
    "%%time\n",
    "preprocessor = ColumnTransformer(\n",
    "    transformers=[\n",
    "        ('cat', OneHotEncoder(handle_unknown='ignore'), cat_col)])\n",
    "\n",
    "pipe = Pipeline([\n",
    "    ('preprocessor', preprocessor),\n",
    "    ('model', LinearRegression())\n",
    "])\n",
    "\n",
    "params = { 'model__copy_X' : [True, False]\n",
    "         }\n",
    "tscv = TimeSeriesSplit(n_splits=8)\n",
    "rs_lr = RandomizedSearchCV(pipe, params, scoring='neg_root_mean_squared_error', cv=tscv, n_jobs=-1)\n",
    "\n",
    "model_random_lr = rs_lr.fit(X_train,y_train)\n",
    "\n",
    "best_params_lr = model_random_lr.best_params_\n",
    "best_score_lr = -model_random_lr.best_score_\n",
    "\n",
    "# random random search results\n",
    "best_lr_params = model_random_lr.best_params_\n",
    "print('Best random search hyperparameters are: '+str(best_params_lr))\n",
    "print('Best random search score is: '+str(best_score_lr))"
   ]
  },
  {
   "cell_type": "raw",
   "metadata": {},
   "source": [
    "# обучение линейной регрессией\n",
    "model = LinearRegression()\n",
    "\n",
    "print(f'''Значение метрики RMSE на обучающей выборке для LinearRegression''', cross_val_score(model,X_train, y_train, \n",
    "                         cv = TimeSeriesSplit(n_splits=8), \n",
    "                         n_jobs = -1, \n",
    "                         scoring = 'neg_root_mean_squared_error').mean())"
   ]
  },
  {
   "cell_type": "markdown",
   "metadata": {},
   "source": [
    "### CatBoostRegressor"
   ]
  },
  {
   "cell_type": "code",
   "execution_count": 21,
   "metadata": {},
   "outputs": [
    {
     "name": "stdout",
     "output_type": "stream",
     "text": [
      "Fitting 8 folds for each of 10 candidates, totalling 80 fits\n",
      "Best random search hyperparameters are: {'learning_rate': 1.0, 'iterations': 60, 'depth': 4}\n",
      "Best random search score is: 6.93021807316982\n"
     ]
    }
   ],
   "source": [
    "cbr = CatBoostRegressor(random_seed=12345,\n",
    "                        loss_function='RMSE',\n",
    "                        silent=True,\n",
    "                       cat_features=cat_col)\n",
    "\n",
    "params = {\n",
    "    'learning_rate': np.logspace(-3, 0, 5),\n",
    "    'iterations': [40, 60],\n",
    "    'depth': [d for d in range(2, 11)],\n",
    "}\n",
    "tscv = TimeSeriesSplit(n_splits=8)\n",
    "cat =  RandomizedSearchCV(cbr, params, cv=tscv, scoring='neg_root_mean_squared_error', verbose=True)\n",
    "\n",
    "model_random_cat = cat.fit(X_train,y_train)\n",
    "\n",
    "best_params_cat = model_random_cat.best_params_\n",
    "best_score_cat = -model_random_cat.best_score_\n",
    "\n",
    "# random random search results\n",
    "best_ridge_params = model_random_cat.best_params_\n",
    "print('Best random search hyperparameters are: '+str(best_params_cat))\n",
    "print('Best random search score is: '+str(best_score_cat))"
   ]
  },
  {
   "cell_type": "code",
   "execution_count": 22,
   "metadata": {},
   "outputs": [
    {
     "data": {
      "text/html": [
       "<div>\n",
       "<style scoped>\n",
       "    .dataframe tbody tr th:only-of-type {\n",
       "        vertical-align: middle;\n",
       "    }\n",
       "\n",
       "    .dataframe tbody tr th {\n",
       "        vertical-align: top;\n",
       "    }\n",
       "\n",
       "    .dataframe thead th {\n",
       "        text-align: right;\n",
       "    }\n",
       "</style>\n",
       "<table border=\"1\" class=\"dataframe\">\n",
       "  <thead>\n",
       "    <tr style=\"text-align: right;\">\n",
       "      <th></th>\n",
       "      <th>CV RMSE</th>\n",
       "    </tr>\n",
       "  </thead>\n",
       "  <tbody>\n",
       "    <tr>\n",
       "      <th>RandomForest</th>\n",
       "      <td>31.233467</td>\n",
       "    </tr>\n",
       "    <tr>\n",
       "      <th>LinearRegression</th>\n",
       "      <td>31.154556</td>\n",
       "    </tr>\n",
       "    <tr>\n",
       "      <th>CatBoost</th>\n",
       "      <td>6.930218</td>\n",
       "    </tr>\n",
       "  </tbody>\n",
       "</table>\n",
       "</div>"
      ],
      "text/plain": [
       "                    CV RMSE\n",
       "RandomForest      31.233467\n",
       "LinearRegression  31.154556\n",
       "CatBoost           6.930218"
      ]
     },
     "execution_count": 22,
     "metadata": {},
     "output_type": "execute_result"
    }
   ],
   "source": [
    "pd.DataFrame((best_score_rf, best_score_lr, best_score_cat), index=['RandomForest', 'LinearRegression', 'CatBoost']\n",
    "             , columns=['CV RMSE'])"
   ]
  },
  {
   "cell_type": "markdown",
   "metadata": {},
   "source": [
    "## Тестирование"
   ]
  },
  {
   "cell_type": "markdown",
   "metadata": {},
   "source": [
    "### CatBoostRegressor"
   ]
  },
  {
   "cell_type": "code",
   "execution_count": 31,
   "metadata": {},
   "outputs": [
    {
     "data": {
      "text/plain": [
       "'Лучшая средне квадратичная ошибка: 28.16422352225139'"
      ]
     },
     "execution_count": 31,
     "metadata": {},
     "output_type": "execute_result"
    }
   ],
   "source": [
    "best_cat = CatBoostRegressor(learning_rate=0.1778279410038923, iterations=40, depth=4, random_seed=12345,\n",
    "                        loss_function='RMSE',\n",
    "                        silent=True,\n",
    "                        cat_features=cat_col)\n",
    "\n",
    "best_cat.fit(X_train,y_train)\n",
    "\n",
    "best_cat.fit(X_train,y_train)\n",
    "best_pred_cat = best_cat.predict(X_test)\n",
    "\n",
    "f'Лучшая средне квадратичная ошибка: {mean_squared_error(y_test, best_pred_cat, squared=False)}'"
   ]
  },
  {
   "cell_type": "markdown",
   "metadata": {},
   "source": [
    "### Вывод"
   ]
  },
  {
   "cell_type": "markdown",
   "metadata": {},
   "source": [
    "- под наши критерии подходит CatBoostRegressor c гипер параметрими \n",
    "  - learning_rate=0.1778279410038923, iterations=40, depth=4, random_seed=12345, loss_function='RMSE', silent=True\n",
    "  \n",
    "- получили RMSE на тесте 29.33"
   ]
  },
  {
   "cell_type": "markdown",
   "metadata": {},
   "source": [
    "- V2\n",
    " - под наши критерии подходит LinearRegression c гипер параметрими \n",
    "   - fit_intercept=True, copy_X=True\n",
    " - получили RMSE на тесте 0.419"
   ]
  },
  {
   "cell_type": "markdown",
   "metadata": {},
   "source": [
    "- под наши критерии подходит CatBoostRegressor c гипер параметрими \n",
    "  - learning_rate=0.1778279410038923, iterations=40, depth=4, random_seed=12345, loss_function='RMSE', silent=True\n",
    "  \n",
    "- получили RMSE на тесте 28.16"
   ]
  },
  {
   "cell_type": "code",
   "execution_count": 32,
   "metadata": {},
   "outputs": [],
   "source": [
    "data = pd.DataFrame(best_pred_cat, index=y_test.index)"
   ]
  },
  {
   "cell_type": "code",
   "execution_count": 33,
   "metadata": {},
   "outputs": [
    {
     "data": {
      "image/png": "[encoded data removed]",
      "text/plain": [
       "<Figure size 864x360 with 1 Axes>"
      ]
     },
     "metadata": {
      "needs_background": "light"
     },
     "output_type": "display_data"
    }
   ],
   "source": [
    "fig, ax = plt.subplots(figsize=(12, 5))\n",
    "ax.plot(y_test['2018-08-13' : '2018-08-14'], 'purple', label='test')\n",
    "ax.plot(data['2018-08-13' : '2018-08-14'], color='green', label='predict')\n",
    "ax.legend()\n",
    "ax.set_title('Результаты модели за 2 дня')\n",
    "plt.show()"
   ]
  }
 ],
 "metadata": {
  "ExecuteTimeLog": [
   {
    "duration": 454,
    "start_time": "2023-02-22T22:41:01.448Z"
   },
   {
    "duration": 120,
    "start_time": "2023-02-22T22:42:37.839Z"
   },
   {
    "duration": 14,
    "start_time": "2023-02-22T22:42:47.478Z"
   },
   {
    "duration": 8,
    "start_time": "2023-02-22T22:48:39.362Z"
   },
   {
    "duration": 13,
    "start_time": "2023-02-22T22:48:47.407Z"
   },
   {
    "duration": 20,
    "start_time": "2023-02-22T22:49:04.050Z"
   },
   {
    "duration": 813,
    "start_time": "2023-02-22T22:50:58.674Z"
   },
   {
    "duration": 388,
    "start_time": "2023-02-22T22:52:07.100Z"
   },
   {
    "duration": 115,
    "start_time": "2023-02-22T22:52:09.390Z"
   },
   {
    "duration": 70,
    "start_time": "2023-02-22T22:52:30.640Z"
   },
   {
    "duration": 17,
    "start_time": "2023-02-22T22:52:35.488Z"
   },
   {
    "duration": 19,
    "start_time": "2023-02-22T22:57:30.205Z"
   },
   {
    "duration": 59,
    "start_time": "2023-02-22T23:00:07.943Z"
   },
   {
    "duration": 14,
    "start_time": "2023-02-22T23:00:10.149Z"
   },
   {
    "duration": 16,
    "start_time": "2023-02-22T23:00:16.171Z"
   },
   {
    "duration": 67,
    "start_time": "2023-02-22T23:03:46.895Z"
   },
   {
    "duration": 8,
    "start_time": "2023-02-22T23:03:48.438Z"
   },
   {
    "duration": 55,
    "start_time": "2023-02-22T23:04:06.612Z"
   },
   {
    "duration": 7,
    "start_time": "2023-02-22T23:04:08.184Z"
   },
   {
    "duration": 59,
    "start_time": "2023-02-22T23:04:20.024Z"
   },
   {
    "duration": 21,
    "start_time": "2023-02-22T23:04:42.761Z"
   },
   {
    "duration": 773,
    "start_time": "2023-02-22T23:06:53.125Z"
   },
   {
    "duration": 283,
    "start_time": "2023-02-22T23:08:47.887Z"
   },
   {
    "duration": 314,
    "start_time": "2023-02-22T23:08:54.605Z"
   },
   {
    "duration": 167,
    "start_time": "2023-02-22T23:09:17.537Z"
   },
   {
    "duration": 2,
    "start_time": "2023-02-22T23:10:22.713Z"
   },
   {
    "duration": 174,
    "start_time": "2023-02-22T23:10:27.081Z"
   },
   {
    "duration": 194,
    "start_time": "2023-02-22T23:10:41.278Z"
   },
   {
    "duration": 169,
    "start_time": "2023-02-22T23:10:49.449Z"
   },
   {
    "duration": 166,
    "start_time": "2023-02-22T23:10:56.666Z"
   },
   {
    "duration": 23,
    "start_time": "2023-02-22T23:13:02.272Z"
   },
   {
    "duration": 752,
    "start_time": "2023-02-22T23:13:09.234Z"
   },
   {
    "duration": 36,
    "start_time": "2023-02-22T23:13:38.122Z"
   },
   {
    "duration": 194,
    "start_time": "2023-02-22T23:17:24.882Z"
   },
   {
    "duration": 197,
    "start_time": "2023-02-22T23:17:42.791Z"
   },
   {
    "duration": 293,
    "start_time": "2023-02-22T23:18:52.477Z"
   },
   {
    "duration": 307,
    "start_time": "2023-02-22T23:19:35.966Z"
   },
   {
    "duration": 305,
    "start_time": "2023-02-22T23:19:44.363Z"
   },
   {
    "duration": 408,
    "start_time": "2023-02-22T23:19:52.329Z"
   },
   {
    "duration": 314,
    "start_time": "2023-02-22T23:19:58.388Z"
   },
   {
    "duration": 226,
    "start_time": "2023-02-22T23:20:17.005Z"
   },
   {
    "duration": 215,
    "start_time": "2023-02-22T23:22:52.952Z"
   },
   {
    "duration": 231,
    "start_time": "2023-02-22T23:23:06.084Z"
   },
   {
    "duration": 320,
    "start_time": "2023-02-22T23:23:25.061Z"
   },
   {
    "duration": 258,
    "start_time": "2023-02-22T23:25:40.969Z"
   },
   {
    "duration": 345,
    "start_time": "2023-02-22T23:26:47.740Z"
   },
   {
    "duration": 13,
    "start_time": "2023-02-22T23:27:03.572Z"
   },
   {
    "duration": 24,
    "start_time": "2023-02-22T23:27:23.637Z"
   },
   {
    "duration": 3,
    "start_time": "2023-02-22T23:30:48.101Z"
   },
   {
    "duration": 12,
    "start_time": "2023-02-22T23:31:15.022Z"
   },
   {
    "duration": 6,
    "start_time": "2023-02-22T23:32:08.161Z"
   },
   {
    "duration": 13,
    "start_time": "2023-02-22T23:32:59.463Z"
   },
   {
    "duration": 14,
    "start_time": "2023-02-22T23:33:23.446Z"
   },
   {
    "duration": 6,
    "start_time": "2023-02-22T23:33:28.577Z"
   },
   {
    "duration": 7,
    "start_time": "2023-02-22T23:33:50.965Z"
   },
   {
    "duration": 7,
    "start_time": "2023-02-22T23:34:09.821Z"
   },
   {
    "duration": 7,
    "start_time": "2023-02-22T23:34:20.827Z"
   },
   {
    "duration": 1075,
    "start_time": "2023-02-26T15:50:39.338Z"
   },
   {
    "duration": 290,
    "start_time": "2023-02-26T15:50:40.415Z"
   },
   {
    "duration": 19,
    "start_time": "2023-02-26T15:50:40.707Z"
   },
   {
    "duration": 663,
    "start_time": "2023-02-26T15:50:40.728Z"
   },
   {
    "duration": 345,
    "start_time": "2023-02-26T15:50:41.393Z"
   },
   {
    "duration": 9,
    "start_time": "2023-02-26T15:50:41.740Z"
   },
   {
    "duration": 8,
    "start_time": "2023-02-26T15:51:58.827Z"
   },
   {
    "duration": 126,
    "start_time": "2023-02-26T15:52:56.722Z"
   },
   {
    "duration": 5,
    "start_time": "2023-02-26T15:53:09.364Z"
   },
   {
    "duration": 9,
    "start_time": "2023-02-26T15:53:14.917Z"
   },
   {
    "duration": 12,
    "start_time": "2023-02-26T15:54:15.977Z"
   },
   {
    "duration": 12,
    "start_time": "2023-02-26T15:55:31.138Z"
   },
   {
    "duration": 7,
    "start_time": "2023-02-26T15:56:42.727Z"
   },
   {
    "duration": 16,
    "start_time": "2023-02-26T15:56:45.699Z"
   },
   {
    "duration": 8,
    "start_time": "2023-02-26T15:58:50.786Z"
   },
   {
    "duration": 28,
    "start_time": "2023-02-26T15:58:54.559Z"
   },
   {
    "duration": 18,
    "start_time": "2023-02-26T15:59:35.167Z"
   },
   {
    "duration": 736,
    "start_time": "2023-02-26T16:00:16.986Z"
   },
   {
    "duration": 1173,
    "start_time": "2023-02-26T16:00:44.924Z"
   },
   {
    "duration": 90,
    "start_time": "2023-02-26T16:00:46.099Z"
   },
   {
    "duration": 26,
    "start_time": "2023-02-26T16:00:46.191Z"
   },
   {
    "duration": 651,
    "start_time": "2023-02-26T16:00:46.220Z"
   },
   {
    "duration": 345,
    "start_time": "2023-02-26T16:00:46.873Z"
   },
   {
    "duration": 305,
    "start_time": "2023-02-26T16:00:47.220Z"
   },
   {
    "duration": 13,
    "start_time": "2023-02-26T16:00:47.527Z"
   },
   {
    "duration": 20,
    "start_time": "2023-02-26T16:00:47.555Z"
   },
   {
    "duration": 39,
    "start_time": "2023-02-26T16:00:47.578Z"
   },
   {
    "duration": 569,
    "start_time": "2023-02-26T16:01:18.137Z"
   },
   {
    "duration": 223,
    "start_time": "2023-02-26T16:01:34.530Z"
   },
   {
    "duration": 133,
    "start_time": "2023-02-26T16:15:17.325Z"
   },
   {
    "duration": 5,
    "start_time": "2023-02-26T16:15:22.561Z"
   },
   {
    "duration": 4,
    "start_time": "2023-02-26T16:25:59.898Z"
   },
   {
    "duration": 4,
    "start_time": "2023-02-26T16:26:09.576Z"
   },
   {
    "duration": 1169,
    "start_time": "2023-02-26T16:26:55.411Z"
   },
   {
    "duration": 1227,
    "start_time": "2023-02-26T16:27:09.166Z"
   },
   {
    "duration": 24,
    "start_time": "2023-02-26T16:27:39.230Z"
   },
   {
    "duration": 15,
    "start_time": "2023-02-26T16:27:45.375Z"
   },
   {
    "duration": 4,
    "start_time": "2023-02-26T16:28:09.600Z"
   },
   {
    "duration": 7,
    "start_time": "2023-02-26T16:28:12.260Z"
   },
   {
    "duration": 4,
    "start_time": "2023-02-26T16:28:20.512Z"
   },
   {
    "duration": 5,
    "start_time": "2023-02-26T16:28:55.046Z"
   },
   {
    "duration": 4,
    "start_time": "2023-02-26T16:29:03.308Z"
   },
   {
    "duration": 5,
    "start_time": "2023-02-26T16:29:16.975Z"
   },
   {
    "duration": 33,
    "start_time": "2023-02-26T16:39:03.130Z"
   },
   {
    "duration": 9,
    "start_time": "2023-02-26T16:39:07.973Z"
   },
   {
    "duration": 10,
    "start_time": "2023-02-26T16:39:22.263Z"
   },
   {
    "duration": 9,
    "start_time": "2023-02-26T16:39:28.741Z"
   },
   {
    "duration": 10,
    "start_time": "2023-02-26T16:39:33.415Z"
   },
   {
    "duration": 10,
    "start_time": "2023-02-26T16:39:51.321Z"
   },
   {
    "duration": 10,
    "start_time": "2023-02-26T16:40:21.312Z"
   },
   {
    "duration": 11,
    "start_time": "2023-02-26T16:40:32.700Z"
   },
   {
    "duration": 99,
    "start_time": "2023-02-26T16:42:15.580Z"
   },
   {
    "duration": 7,
    "start_time": "2023-02-26T16:43:27.240Z"
   },
   {
    "duration": 5976,
    "start_time": "2023-02-26T16:48:47.289Z"
   },
   {
    "duration": 4957,
    "start_time": "2023-02-26T16:48:59.254Z"
   },
   {
    "duration": 11383,
    "start_time": "2023-02-26T16:50:14.083Z"
   },
   {
    "duration": 11330,
    "start_time": "2023-02-26T16:50:42.702Z"
   },
   {
    "duration": 7085,
    "start_time": "2023-02-26T16:51:07.459Z"
   },
   {
    "duration": 6942,
    "start_time": "2023-02-26T16:51:18.813Z"
   },
   {
    "duration": 69,
    "start_time": "2023-02-26T16:52:44.383Z"
   },
   {
    "duration": 95,
    "start_time": "2023-02-26T16:52:48.468Z"
   },
   {
    "duration": 95,
    "start_time": "2023-02-26T16:52:51.781Z"
   },
   {
    "duration": 81,
    "start_time": "2023-02-26T16:53:05.546Z"
   },
   {
    "duration": 14,
    "start_time": "2023-02-26T16:53:16.821Z"
   },
   {
    "duration": 14,
    "start_time": "2023-02-26T16:53:27.581Z"
   },
   {
    "duration": 11,
    "start_time": "2023-02-26T16:53:39.733Z"
   },
   {
    "duration": 15,
    "start_time": "2023-02-26T16:53:42.675Z"
   },
   {
    "duration": 9,
    "start_time": "2023-02-26T16:53:56.718Z"
   },
   {
    "duration": 4,
    "start_time": "2023-02-26T16:54:04.074Z"
   },
   {
    "duration": 3,
    "start_time": "2023-02-26T16:54:07.527Z"
   },
   {
    "duration": 20,
    "start_time": "2023-02-26T16:55:55.491Z"
   },
   {
    "duration": 23,
    "start_time": "2023-02-26T16:57:46.500Z"
   },
   {
    "duration": 270,
    "start_time": "2023-02-26T16:58:57.339Z"
   },
   {
    "duration": 241,
    "start_time": "2023-02-26T16:59:08.640Z"
   },
   {
    "duration": 16,
    "start_time": "2023-02-26T17:01:56.063Z"
   },
   {
    "duration": 12,
    "start_time": "2023-02-26T17:02:16.365Z"
   },
   {
    "duration": 6,
    "start_time": "2023-02-26T17:02:44.304Z"
   },
   {
    "duration": 1449,
    "start_time": "2023-02-26T17:36:45.178Z"
   },
   {
    "duration": 77,
    "start_time": "2023-02-26T17:36:46.630Z"
   },
   {
    "duration": 27,
    "start_time": "2023-02-26T17:36:46.710Z"
   },
   {
    "duration": 505,
    "start_time": "2023-02-26T17:36:46.757Z"
   },
   {
    "duration": 322,
    "start_time": "2023-02-26T17:36:47.264Z"
   },
   {
    "duration": 386,
    "start_time": "2023-02-26T17:36:47.589Z"
   },
   {
    "duration": 10,
    "start_time": "2023-02-26T17:36:47.982Z"
   },
   {
    "duration": 20,
    "start_time": "2023-02-26T17:36:47.994Z"
   },
   {
    "duration": 22,
    "start_time": "2023-02-26T17:36:48.015Z"
   },
   {
    "duration": 24,
    "start_time": "2023-02-26T17:36:48.040Z"
   },
   {
    "duration": 11,
    "start_time": "2023-02-26T17:36:48.068Z"
   },
   {
    "duration": 7,
    "start_time": "2023-02-26T17:36:48.081Z"
   },
   {
    "duration": 6673,
    "start_time": "2023-02-26T17:36:48.090Z"
   },
   {
    "duration": 128,
    "start_time": "2023-02-26T17:37:03.650Z"
   },
   {
    "duration": 69,
    "start_time": "2023-02-26T17:37:16.292Z"
   },
   {
    "duration": 3,
    "start_time": "2023-02-26T17:40:18.809Z"
   },
   {
    "duration": 4,
    "start_time": "2023-02-26T17:40:26.706Z"
   },
   {
    "duration": 60,
    "start_time": "2023-02-26T17:40:36.291Z"
   },
   {
    "duration": 19678,
    "start_time": "2023-02-26T17:41:08.054Z"
   },
   {
    "duration": 7043,
    "start_time": "2023-02-26T17:41:40.002Z"
   },
   {
    "duration": 3631,
    "start_time": "2023-02-26T17:42:00.016Z"
   },
   {
    "duration": 5,
    "start_time": "2023-02-26T17:42:07.942Z"
   },
   {
    "duration": 278,
    "start_time": "2023-02-26T17:42:22.351Z"
   },
   {
    "duration": 157,
    "start_time": "2023-02-26T17:42:30.383Z"
   },
   {
    "duration": 95,
    "start_time": "2023-02-26T17:43:26.089Z"
   },
   {
    "duration": 4,
    "start_time": "2023-02-26T17:43:49.011Z"
   },
   {
    "duration": 384,
    "start_time": "2023-02-26T17:43:56.985Z"
   },
   {
    "duration": 144173,
    "start_time": "2023-02-26T17:44:36.094Z"
   },
   {
    "duration": 4,
    "start_time": "2023-02-26T17:48:01.042Z"
   },
   {
    "duration": 674,
    "start_time": "2023-02-26T17:48:22.646Z"
   },
   {
    "duration": 639,
    "start_time": "2023-02-26T17:49:05.049Z"
   },
   {
    "duration": 11,
    "start_time": "2023-02-26T17:51:06.675Z"
   },
   {
    "duration": 33,
    "start_time": "2023-02-26T17:51:19.286Z"
   },
   {
    "duration": 120,
    "start_time": "2023-02-26T17:52:17.103Z"
   },
   {
    "duration": 97,
    "start_time": "2023-02-26T17:52:32.818Z"
   },
   {
    "duration": 424,
    "start_time": "2023-02-26T17:52:45.342Z"
   },
   {
    "duration": 29,
    "start_time": "2023-02-26T17:59:36.069Z"
   },
   {
    "duration": 15,
    "start_time": "2023-02-26T17:59:41.805Z"
   },
   {
    "duration": 22,
    "start_time": "2023-02-26T17:59:55.104Z"
   },
   {
    "duration": 1480,
    "start_time": "2023-02-26T18:00:10.038Z"
   },
   {
    "duration": 59,
    "start_time": "2023-02-26T18:00:11.521Z"
   },
   {
    "duration": 17,
    "start_time": "2023-02-26T18:00:11.582Z"
   },
   {
    "duration": 355,
    "start_time": "2023-02-26T18:00:11.601Z"
   },
   {
    "duration": 408,
    "start_time": "2023-02-26T18:00:11.958Z"
   },
   {
    "duration": 214,
    "start_time": "2023-02-26T18:00:12.368Z"
   },
   {
    "duration": 275,
    "start_time": "2023-02-26T18:00:12.584Z"
   },
   {
    "duration": 8,
    "start_time": "2023-02-26T18:00:12.861Z"
   },
   {
    "duration": 20,
    "start_time": "2023-02-26T18:00:12.870Z"
   },
   {
    "duration": 19,
    "start_time": "2023-02-26T18:00:12.892Z"
   },
   {
    "duration": 5,
    "start_time": "2023-02-26T18:00:12.913Z"
   },
   {
    "duration": 6,
    "start_time": "2023-02-26T18:00:12.920Z"
   },
   {
    "duration": 5,
    "start_time": "2023-02-26T18:00:12.953Z"
   },
   {
    "duration": 3234,
    "start_time": "2023-02-26T18:00:12.961Z"
   },
   {
    "duration": 4,
    "start_time": "2023-02-26T18:00:16.197Z"
   },
   {
    "duration": 380,
    "start_time": "2023-02-26T18:00:16.202Z"
   },
   {
    "duration": 18318,
    "start_time": "2023-02-26T18:00:16.584Z"
   },
   {
    "duration": 160,
    "start_time": "2023-02-26T18:00:34.904Z"
   },
   {
    "duration": 510,
    "start_time": "2023-02-26T18:00:35.066Z"
   },
   {
    "duration": 35,
    "start_time": "2023-02-26T18:00:35.578Z"
   },
   {
    "duration": 241,
    "start_time": "2023-02-26T18:00:35.790Z"
   },
   {
    "duration": 122,
    "start_time": "2023-02-26T18:00:39.568Z"
   },
   {
    "duration": 1414,
    "start_time": "2023-02-26T18:00:47.214Z"
   },
   {
    "duration": 60,
    "start_time": "2023-02-26T18:00:48.630Z"
   },
   {
    "duration": 19,
    "start_time": "2023-02-26T18:00:48.692Z"
   },
   {
    "duration": 350,
    "start_time": "2023-02-26T18:00:48.712Z"
   },
   {
    "duration": 378,
    "start_time": "2023-02-26T18:00:49.064Z"
   },
   {
    "duration": 210,
    "start_time": "2023-02-26T18:00:49.444Z"
   },
   {
    "duration": 226,
    "start_time": "2023-02-26T18:00:49.656Z"
   },
   {
    "duration": 223,
    "start_time": "2023-02-26T18:00:49.884Z"
   },
   {
    "duration": 7,
    "start_time": "2023-02-26T18:00:50.108Z"
   },
   {
    "duration": 11,
    "start_time": "2023-02-26T18:00:50.116Z"
   },
   {
    "duration": 34,
    "start_time": "2023-02-26T18:00:50.129Z"
   },
   {
    "duration": 3,
    "start_time": "2023-02-26T18:00:50.165Z"
   },
   {
    "duration": 12,
    "start_time": "2023-02-26T18:00:50.169Z"
   },
   {
    "duration": 12,
    "start_time": "2023-02-26T18:00:50.183Z"
   },
   {
    "duration": 3163,
    "start_time": "2023-02-26T18:00:50.197Z"
   },
   {
    "duration": 4,
    "start_time": "2023-02-26T18:00:53.362Z"
   },
   {
    "duration": 325,
    "start_time": "2023-02-26T18:00:53.367Z"
   },
   {
    "duration": 19148,
    "start_time": "2023-02-26T18:00:53.694Z"
   },
   {
    "duration": 147,
    "start_time": "2023-02-26T18:01:12.844Z"
   },
   {
    "duration": 628,
    "start_time": "2023-02-26T18:01:12.993Z"
   },
   {
    "duration": 31,
    "start_time": "2023-02-26T18:01:13.623Z"
   },
   {
    "duration": 128,
    "start_time": "2023-02-26T18:04:16.474Z"
   },
   {
    "duration": 218,
    "start_time": "2023-02-26T18:04:18.578Z"
   },
   {
    "duration": 120,
    "start_time": "2023-02-26T18:06:44.339Z"
   },
   {
    "duration": 7,
    "start_time": "2023-02-26T18:06:56.974Z"
   },
   {
    "duration": 13,
    "start_time": "2023-02-26T18:12:37.309Z"
   },
   {
    "duration": 1353,
    "start_time": "2023-02-26T18:12:44.533Z"
   },
   {
    "duration": 59,
    "start_time": "2023-02-26T18:12:45.888Z"
   },
   {
    "duration": 18,
    "start_time": "2023-02-26T18:12:45.949Z"
   },
   {
    "duration": 440,
    "start_time": "2023-02-26T18:12:45.969Z"
   },
   {
    "duration": 301,
    "start_time": "2023-02-26T18:12:46.412Z"
   },
   {
    "duration": 290,
    "start_time": "2023-02-26T18:12:46.716Z"
   },
   {
    "duration": 191,
    "start_time": "2023-02-26T18:12:47.008Z"
   },
   {
    "duration": 241,
    "start_time": "2023-02-26T18:12:47.201Z"
   },
   {
    "duration": 275,
    "start_time": "2023-02-26T18:12:47.444Z"
   },
   {
    "duration": 8,
    "start_time": "2023-02-26T18:12:47.721Z"
   },
   {
    "duration": 28,
    "start_time": "2023-02-26T18:12:47.731Z"
   },
   {
    "duration": 16,
    "start_time": "2023-02-26T18:12:47.761Z"
   },
   {
    "duration": 4,
    "start_time": "2023-02-26T18:12:47.779Z"
   },
   {
    "duration": 6,
    "start_time": "2023-02-26T18:12:47.786Z"
   },
   {
    "duration": 6,
    "start_time": "2023-02-26T18:12:47.794Z"
   },
   {
    "duration": 3058,
    "start_time": "2023-02-26T18:12:47.801Z"
   },
   {
    "duration": 317,
    "start_time": "2023-02-26T18:12:50.860Z"
   },
   {
    "duration": 18773,
    "start_time": "2023-02-26T18:12:51.179Z"
   },
   {
    "duration": 149,
    "start_time": "2023-02-26T18:13:09.954Z"
   },
   {
    "duration": 488,
    "start_time": "2023-02-26T18:13:10.105Z"
   },
   {
    "duration": 31,
    "start_time": "2023-02-26T18:13:10.595Z"
   },
   {
    "duration": 326,
    "start_time": "2023-02-26T18:13:44.862Z"
   },
   {
    "duration": 147,
    "start_time": "2023-02-26T18:13:52.853Z"
   },
   {
    "duration": 1369,
    "start_time": "2023-02-26T18:33:17.646Z"
   },
   {
    "duration": 63,
    "start_time": "2023-02-26T18:33:19.017Z"
   },
   {
    "duration": 18,
    "start_time": "2023-02-26T18:33:19.081Z"
   },
   {
    "duration": 365,
    "start_time": "2023-02-26T18:33:19.102Z"
   },
   {
    "duration": 421,
    "start_time": "2023-02-26T18:33:19.469Z"
   },
   {
    "duration": 206,
    "start_time": "2023-02-26T18:33:19.892Z"
   },
   {
    "duration": 210,
    "start_time": "2023-02-26T18:33:20.100Z"
   },
   {
    "duration": 162,
    "start_time": "2023-02-26T18:33:20.312Z"
   },
   {
    "duration": 237,
    "start_time": "2023-02-26T18:33:20.475Z"
   },
   {
    "duration": 7,
    "start_time": "2023-02-26T18:33:20.714Z"
   },
   {
    "duration": 30,
    "start_time": "2023-02-26T18:33:20.723Z"
   },
   {
    "duration": 16,
    "start_time": "2023-02-26T18:33:20.755Z"
   },
   {
    "duration": 4,
    "start_time": "2023-02-26T18:33:20.773Z"
   },
   {
    "duration": 7,
    "start_time": "2023-02-26T18:33:20.779Z"
   },
   {
    "duration": 7,
    "start_time": "2023-02-26T18:33:20.788Z"
   },
   {
    "duration": 3106,
    "start_time": "2023-02-26T18:33:20.798Z"
   },
   {
    "duration": 315,
    "start_time": "2023-02-26T18:33:23.906Z"
   },
   {
    "duration": 17007,
    "start_time": "2023-02-26T18:33:24.223Z"
   },
   {
    "duration": 151,
    "start_time": "2023-02-26T18:33:41.231Z"
   },
   {
    "duration": 528,
    "start_time": "2023-02-26T18:33:41.384Z"
   },
   {
    "duration": 31,
    "start_time": "2023-02-26T18:33:41.914Z"
   },
   {
    "duration": 2357,
    "start_time": "2023-02-27T05:19:54.521Z"
   },
   {
    "duration": 57,
    "start_time": "2023-02-27T05:19:56.880Z"
   },
   {
    "duration": 19,
    "start_time": "2023-02-27T05:21:21.912Z"
   },
   {
    "duration": 397,
    "start_time": "2023-02-27T05:27:46.380Z"
   },
   {
    "duration": 435,
    "start_time": "2023-02-27T05:27:47.104Z"
   },
   {
    "duration": 204,
    "start_time": "2023-02-27T05:27:47.733Z"
   },
   {
    "duration": 214,
    "start_time": "2023-02-27T05:27:49.525Z"
   },
   {
    "duration": 148,
    "start_time": "2023-02-27T05:27:49.769Z"
   },
   {
    "duration": 212,
    "start_time": "2023-02-27T05:27:49.983Z"
   },
   {
    "duration": 7,
    "start_time": "2023-02-27T05:27:50.876Z"
   },
   {
    "duration": 11,
    "start_time": "2023-02-27T05:27:51.428Z"
   },
   {
    "duration": 19,
    "start_time": "2023-02-27T05:29:30.361Z"
   },
   {
    "duration": 6,
    "start_time": "2023-02-27T05:30:17.031Z"
   },
   {
    "duration": 5,
    "start_time": "2023-02-27T05:30:17.431Z"
   },
   {
    "duration": 5,
    "start_time": "2023-02-27T05:30:17.887Z"
   },
   {
    "duration": 48,
    "start_time": "2023-02-27T10:21:00.313Z"
   },
   {
    "duration": 6,
    "start_time": "2023-02-27T10:21:10.144Z"
   },
   {
    "duration": 1505,
    "start_time": "2023-02-27T10:21:31.992Z"
   },
   {
    "duration": 167,
    "start_time": "2023-02-27T10:21:33.499Z"
   },
   {
    "duration": 17,
    "start_time": "2023-02-27T10:21:33.668Z"
   },
   {
    "duration": 683,
    "start_time": "2023-02-27T10:21:33.688Z"
   },
   {
    "duration": 400,
    "start_time": "2023-02-27T10:21:34.373Z"
   },
   {
    "duration": 215,
    "start_time": "2023-02-27T10:21:34.775Z"
   },
   {
    "duration": 226,
    "start_time": "2023-02-27T10:21:34.992Z"
   },
   {
    "duration": 144,
    "start_time": "2023-02-27T10:21:35.220Z"
   },
   {
    "duration": 233,
    "start_time": "2023-02-27T10:21:35.366Z"
   },
   {
    "duration": 9,
    "start_time": "2023-02-27T10:21:35.602Z"
   },
   {
    "duration": 25,
    "start_time": "2023-02-27T10:21:35.613Z"
   },
   {
    "duration": 38,
    "start_time": "2023-02-27T10:21:35.640Z"
   },
   {
    "duration": 15,
    "start_time": "2023-02-27T10:22:21.959Z"
   },
   {
    "duration": 1507,
    "start_time": "2023-03-01T15:32:46.364Z"
   },
   {
    "duration": 323,
    "start_time": "2023-03-01T15:32:47.874Z"
   },
   {
    "duration": 18,
    "start_time": "2023-03-01T15:32:48.198Z"
   },
   {
    "duration": 541,
    "start_time": "2023-03-01T15:32:48.218Z"
   },
   {
    "duration": 386,
    "start_time": "2023-03-01T15:32:48.762Z"
   },
   {
    "duration": 217,
    "start_time": "2023-03-01T15:32:49.150Z"
   },
   {
    "duration": 213,
    "start_time": "2023-03-01T15:32:49.369Z"
   },
   {
    "duration": 153,
    "start_time": "2023-03-01T15:32:49.584Z"
   },
   {
    "duration": 249,
    "start_time": "2023-03-01T15:32:49.738Z"
   },
   {
    "duration": 9,
    "start_time": "2023-03-01T15:32:49.991Z"
   },
   {
    "duration": 17,
    "start_time": "2023-03-01T15:32:50.001Z"
   },
   {
    "duration": 39,
    "start_time": "2023-03-01T15:32:50.019Z"
   },
   {
    "duration": 4,
    "start_time": "2023-03-01T15:32:50.061Z"
   },
   {
    "duration": 13,
    "start_time": "2023-03-01T15:32:50.068Z"
   },
   {
    "duration": 11,
    "start_time": "2023-03-01T15:32:50.083Z"
   },
   {
    "duration": 7,
    "start_time": "2023-03-01T15:32:50.096Z"
   },
   {
    "duration": 196,
    "start_time": "2023-03-01T15:32:50.105Z"
   },
   {
    "duration": 92,
    "start_time": "2023-03-01T15:32:50.302Z"
   },
   {
    "duration": 12,
    "start_time": "2023-03-01T15:32:50.396Z"
   },
   {
    "duration": 0,
    "start_time": "2023-03-01T15:32:50.410Z"
   },
   {
    "duration": 0,
    "start_time": "2023-03-01T15:32:50.411Z"
   },
   {
    "duration": 0,
    "start_time": "2023-03-01T15:32:50.412Z"
   },
   {
    "duration": 15,
    "start_time": "2023-03-01T15:33:45.895Z"
   },
   {
    "duration": 13,
    "start_time": "2023-03-01T15:33:50.946Z"
   },
   {
    "duration": 1457,
    "start_time": "2023-03-01T15:34:06.020Z"
   },
   {
    "duration": 71,
    "start_time": "2023-03-01T15:34:07.480Z"
   },
   {
    "duration": 23,
    "start_time": "2023-03-01T15:34:07.554Z"
   },
   {
    "duration": 382,
    "start_time": "2023-03-01T15:34:07.579Z"
   },
   {
    "duration": 401,
    "start_time": "2023-03-01T15:34:07.963Z"
   },
   {
    "duration": 216,
    "start_time": "2023-03-01T15:34:08.366Z"
   },
   {
    "duration": 228,
    "start_time": "2023-03-01T15:34:08.584Z"
   },
   {
    "duration": 160,
    "start_time": "2023-03-01T15:34:08.814Z"
   },
   {
    "duration": 223,
    "start_time": "2023-03-01T15:34:08.976Z"
   },
   {
    "duration": 7,
    "start_time": "2023-03-01T15:34:09.202Z"
   },
   {
    "duration": 9,
    "start_time": "2023-03-01T15:34:09.211Z"
   },
   {
    "duration": 38,
    "start_time": "2023-03-01T15:34:09.222Z"
   },
   {
    "duration": 3,
    "start_time": "2023-03-01T15:34:09.262Z"
   },
   {
    "duration": 12,
    "start_time": "2023-03-01T15:34:09.266Z"
   },
   {
    "duration": 31,
    "start_time": "2023-03-01T15:34:09.280Z"
   },
   {
    "duration": 17,
    "start_time": "2023-03-01T15:34:09.313Z"
   },
   {
    "duration": 12539,
    "start_time": "2023-03-01T15:34:09.332Z"
   },
   {
    "duration": 85,
    "start_time": "2023-03-01T15:34:21.872Z"
   },
   {
    "duration": 135,
    "start_time": "2023-03-01T15:34:21.959Z"
   },
   {
    "duration": 0,
    "start_time": "2023-03-01T15:34:22.095Z"
   },
   {
    "duration": 0,
    "start_time": "2023-03-01T15:34:22.097Z"
   },
   {
    "duration": 0,
    "start_time": "2023-03-01T15:34:22.097Z"
   },
   {
    "duration": 3,
    "start_time": "2023-03-01T15:36:44.376Z"
   },
   {
    "duration": 847,
    "start_time": "2023-03-01T15:36:48.660Z"
   },
   {
    "duration": 107,
    "start_time": "2023-03-01T15:40:41.618Z"
   },
   {
    "duration": 1005,
    "start_time": "2023-03-01T15:40:47.395Z"
   },
   {
    "duration": 20,
    "start_time": "2023-03-01T15:41:36.976Z"
   },
   {
    "duration": 16,
    "start_time": "2023-03-01T15:41:41.294Z"
   },
   {
    "duration": 20,
    "start_time": "2023-03-01T15:42:03.277Z"
   },
   {
    "duration": 21,
    "start_time": "2023-03-01T15:42:16.024Z"
   },
   {
    "duration": 930,
    "start_time": "2023-03-01T15:42:20.375Z"
   },
   {
    "duration": 18,
    "start_time": "2023-03-01T15:43:56.276Z"
   },
   {
    "duration": 101,
    "start_time": "2023-03-01T15:44:06.094Z"
   },
   {
    "duration": 73,
    "start_time": "2023-03-01T15:44:09.107Z"
   },
   {
    "duration": 14,
    "start_time": "2023-03-01T15:44:12.475Z"
   },
   {
    "duration": 18,
    "start_time": "2023-03-01T15:44:26.802Z"
   },
   {
    "duration": 853,
    "start_time": "2023-03-01T15:44:33.622Z"
   },
   {
    "duration": 26,
    "start_time": "2023-03-01T15:47:11.884Z"
   },
   {
    "duration": 17,
    "start_time": "2023-03-01T15:47:52.502Z"
   },
   {
    "duration": 37,
    "start_time": "2023-03-01T15:47:55.198Z"
   },
   {
    "duration": 4,
    "start_time": "2023-03-01T15:48:31.997Z"
   },
   {
    "duration": 87,
    "start_time": "2023-03-01T15:48:32.003Z"
   },
   {
    "duration": 19,
    "start_time": "2023-03-01T15:48:32.092Z"
   },
   {
    "duration": 224,
    "start_time": "2023-03-01T15:48:32.112Z"
   },
   {
    "duration": 310,
    "start_time": "2023-03-01T15:48:32.339Z"
   },
   {
    "duration": 303,
    "start_time": "2023-03-01T15:48:32.651Z"
   },
   {
    "duration": 240,
    "start_time": "2023-03-01T15:48:32.956Z"
   },
   {
    "duration": 149,
    "start_time": "2023-03-01T15:48:33.197Z"
   },
   {
    "duration": 235,
    "start_time": "2023-03-01T15:48:33.348Z"
   },
   {
    "duration": 8,
    "start_time": "2023-03-01T15:48:33.584Z"
   },
   {
    "duration": 21,
    "start_time": "2023-03-01T15:48:33.593Z"
   },
   {
    "duration": 26,
    "start_time": "2023-03-01T15:48:33.616Z"
   },
   {
    "duration": 33,
    "start_time": "2023-03-01T15:48:33.644Z"
   },
   {
    "duration": 2,
    "start_time": "2023-03-01T15:48:33.680Z"
   },
   {
    "duration": 5,
    "start_time": "2023-03-01T15:48:33.684Z"
   },
   {
    "duration": 17,
    "start_time": "2023-03-01T15:48:33.691Z"
   },
   {
    "duration": 15,
    "start_time": "2023-03-01T15:48:33.709Z"
   },
   {
    "duration": 928,
    "start_time": "2023-03-01T15:48:39.973Z"
   },
   {
    "duration": 26,
    "start_time": "2023-03-01T15:49:24.857Z"
   },
   {
    "duration": 20,
    "start_time": "2023-03-01T15:49:37.415Z"
   },
   {
    "duration": 16,
    "start_time": "2023-03-01T15:49:49.182Z"
   },
   {
    "duration": 28,
    "start_time": "2023-03-01T15:49:55.556Z"
   },
   {
    "duration": 2,
    "start_time": "2023-03-01T15:49:59.015Z"
   },
   {
    "duration": 3,
    "start_time": "2023-03-01T15:50:01.963Z"
   },
   {
    "duration": 5,
    "start_time": "2023-03-01T15:50:03.574Z"
   },
   {
    "duration": 4,
    "start_time": "2023-03-01T15:50:04.887Z"
   },
   {
    "duration": 10906,
    "start_time": "2023-03-01T15:50:08.822Z"
   },
   {
    "duration": 85,
    "start_time": "2023-03-01T15:50:31.787Z"
   },
   {
    "duration": 288,
    "start_time": "2023-03-01T15:50:51.663Z"
   },
   {
    "duration": 46194,
    "start_time": "2023-03-01T15:51:04.275Z"
   },
   {
    "duration": 11095,
    "start_time": "2023-03-01T15:55:24.803Z"
   },
   {
    "duration": 311,
    "start_time": "2023-03-01T15:55:35.900Z"
   },
   {
    "duration": 47656,
    "start_time": "2023-03-01T15:56:45.503Z"
   },
   {
    "duration": 8,
    "start_time": "2023-03-01T15:58:18.923Z"
   },
   {
    "duration": 69,
    "start_time": "2023-03-01T15:58:47.483Z"
   },
   {
    "duration": 27,
    "start_time": "2023-03-01T15:59:22.044Z"
   },
   {
    "duration": 25,
    "start_time": "2023-03-01T16:00:23.825Z"
   },
   {
    "duration": 181,
    "start_time": "2023-03-01T16:02:15.688Z"
   },
   {
    "duration": 226,
    "start_time": "2023-03-01T16:02:37.325Z"
   },
   {
    "duration": 195,
    "start_time": "2023-03-01T16:03:02.569Z"
   },
   {
    "duration": 214,
    "start_time": "2023-03-01T16:03:08.022Z"
   },
   {
    "duration": 331,
    "start_time": "2023-03-01T16:03:23.745Z"
   },
   {
    "duration": 195,
    "start_time": "2023-03-01T16:03:33.445Z"
   },
   {
    "duration": 335,
    "start_time": "2023-03-01T16:03:37.065Z"
   },
   {
    "duration": 5,
    "start_time": "2023-03-01T16:04:43.856Z"
   },
   {
    "duration": 203,
    "start_time": "2023-03-01T16:05:27.184Z"
   },
   {
    "duration": 116,
    "start_time": "2023-03-01T16:05:39.685Z"
   },
   {
    "duration": 19,
    "start_time": "2023-03-01T16:07:12.084Z"
   },
   {
    "duration": 9,
    "start_time": "2023-03-01T16:07:21.224Z"
   },
   {
    "duration": 153,
    "start_time": "2023-03-01T16:07:28.345Z"
   },
   {
    "duration": 176,
    "start_time": "2023-03-01T16:08:31.152Z"
   },
   {
    "duration": 179,
    "start_time": "2023-03-01T16:08:54.545Z"
   },
   {
    "duration": 186,
    "start_time": "2023-03-01T16:09:00.425Z"
   },
   {
    "duration": 160,
    "start_time": "2023-03-01T16:09:14.469Z"
   },
   {
    "duration": 309,
    "start_time": "2023-03-01T16:09:18.237Z"
   },
   {
    "duration": 94,
    "start_time": "2023-03-01T16:09:31.153Z"
   },
   {
    "duration": 313,
    "start_time": "2023-03-01T16:09:39.281Z"
   },
   {
    "duration": 416,
    "start_time": "2023-03-01T16:09:44.592Z"
   },
   {
    "duration": 151,
    "start_time": "2023-03-01T16:09:50.149Z"
   },
   {
    "duration": 190,
    "start_time": "2023-03-01T16:10:46.413Z"
   },
   {
    "duration": 196,
    "start_time": "2023-03-01T16:10:52.105Z"
   },
   {
    "duration": 12,
    "start_time": "2023-03-01T16:12:14.380Z"
   },
   {
    "duration": 171,
    "start_time": "2023-03-01T16:12:22.513Z"
   },
   {
    "duration": 166,
    "start_time": "2023-03-01T16:12:34.565Z"
   },
   {
    "duration": 201,
    "start_time": "2023-03-01T16:12:58.364Z"
   },
   {
    "duration": 184,
    "start_time": "2023-03-01T16:14:03.295Z"
   },
   {
    "duration": 199,
    "start_time": "2023-03-01T16:14:18.880Z"
   },
   {
    "duration": 183,
    "start_time": "2023-03-01T16:14:44.137Z"
   },
   {
    "duration": 265,
    "start_time": "2023-03-01T16:14:57.525Z"
   },
   {
    "duration": 196,
    "start_time": "2023-03-01T16:15:03.225Z"
   },
   {
    "duration": 202,
    "start_time": "2023-03-01T16:15:19.544Z"
   },
   {
    "duration": 198,
    "start_time": "2023-03-01T16:15:27.305Z"
   },
   {
    "duration": 12,
    "start_time": "2023-03-01T16:16:15.472Z"
   },
   {
    "duration": 254,
    "start_time": "2023-03-01T16:16:17.553Z"
   },
   {
    "duration": 206,
    "start_time": "2023-03-01T16:16:26.116Z"
   },
   {
    "duration": 295,
    "start_time": "2023-03-01T16:17:05.630Z"
   },
   {
    "duration": 298,
    "start_time": "2023-03-01T16:17:25.106Z"
   },
   {
    "duration": 442,
    "start_time": "2023-03-01T16:17:30.779Z"
   },
   {
    "duration": 105,
    "start_time": "2023-03-01T16:17:37.084Z"
   },
   {
    "duration": 106,
    "start_time": "2023-03-01T16:17:41.317Z"
   },
   {
    "duration": 109,
    "start_time": "2023-03-01T16:18:07.072Z"
   },
   {
    "duration": 200,
    "start_time": "2023-03-01T16:18:22.301Z"
   },
   {
    "duration": 9,
    "start_time": "2023-03-01T16:19:01.157Z"
   },
   {
    "duration": 199,
    "start_time": "2023-03-01T16:19:02.286Z"
   },
   {
    "duration": 199,
    "start_time": "2023-03-01T16:19:38.164Z"
   },
   {
    "duration": 25,
    "start_time": "2023-03-01T16:20:58.812Z"
   },
   {
    "duration": 23,
    "start_time": "2023-03-01T16:21:39.428Z"
   },
   {
    "duration": 3,
    "start_time": "2023-03-01T16:21:48.033Z"
   },
   {
    "duration": 212,
    "start_time": "2023-03-01T16:21:49.768Z"
   },
   {
    "duration": 69,
    "start_time": "2023-03-01T16:23:01.184Z"
   },
   {
    "duration": 1479,
    "start_time": "2023-03-01T16:25:14.399Z"
   },
   {
    "duration": 55,
    "start_time": "2023-03-01T16:25:15.880Z"
   },
   {
    "duration": 16,
    "start_time": "2023-03-01T16:25:15.937Z"
   },
   {
    "duration": 231,
    "start_time": "2023-03-01T16:25:15.955Z"
   },
   {
    "duration": 315,
    "start_time": "2023-03-01T16:25:16.188Z"
   },
   {
    "duration": 308,
    "start_time": "2023-03-01T16:25:16.506Z"
   },
   {
    "duration": 236,
    "start_time": "2023-03-01T16:25:16.816Z"
   },
   {
    "duration": 163,
    "start_time": "2023-03-01T16:25:17.054Z"
   },
   {
    "duration": 229,
    "start_time": "2023-03-01T16:25:17.220Z"
   },
   {
    "duration": 8,
    "start_time": "2023-03-01T16:25:17.458Z"
   },
   {
    "duration": 37,
    "start_time": "2023-03-01T16:25:17.468Z"
   },
   {
    "duration": 23,
    "start_time": "2023-03-01T16:25:17.506Z"
   },
   {
    "duration": 26,
    "start_time": "2023-03-01T16:25:17.531Z"
   },
   {
    "duration": 3,
    "start_time": "2023-03-01T16:25:17.559Z"
   },
   {
    "duration": 9,
    "start_time": "2023-03-01T16:25:17.564Z"
   },
   {
    "duration": 12,
    "start_time": "2023-03-01T16:25:17.574Z"
   },
   {
    "duration": 5,
    "start_time": "2023-03-01T16:25:17.588Z"
   },
   {
    "duration": 11130,
    "start_time": "2023-03-01T16:25:17.595Z"
   },
   {
    "duration": 298,
    "start_time": "2023-03-01T16:25:28.726Z"
   },
   {
    "duration": 60821,
    "start_time": "2023-03-01T16:25:29.026Z"
   },
   {
    "duration": 8,
    "start_time": "2023-03-01T16:26:29.848Z"
   },
   {
    "duration": 7,
    "start_time": "2023-03-01T16:26:29.858Z"
   },
   {
    "duration": 21,
    "start_time": "2023-03-01T16:26:29.867Z"
   },
   {
    "duration": 31,
    "start_time": "2023-03-01T16:26:29.889Z"
   },
   {
    "duration": 3,
    "start_time": "2023-03-01T16:26:29.922Z"
   },
   {
    "duration": 280,
    "start_time": "2023-03-01T16:26:29.926Z"
   },
   {
    "duration": 5117,
    "start_time": "2023-03-01T17:47:20.591Z"
   },
   {
    "duration": 327,
    "start_time": "2023-03-01T17:47:25.711Z"
   },
   {
    "duration": 31,
    "start_time": "2023-03-01T17:47:26.040Z"
   },
   {
    "duration": 244,
    "start_time": "2023-03-01T17:47:26.074Z"
   },
   {
    "duration": 452,
    "start_time": "2023-03-01T17:47:26.320Z"
   },
   {
    "duration": 313,
    "start_time": "2023-03-01T17:47:26.774Z"
   },
   {
    "duration": 321,
    "start_time": "2023-03-01T17:47:27.089Z"
   },
   {
    "duration": 228,
    "start_time": "2023-03-01T17:47:27.412Z"
   },
   {
    "duration": 330,
    "start_time": "2023-03-01T17:47:27.645Z"
   },
   {
    "duration": 7,
    "start_time": "2023-03-01T17:47:27.978Z"
   },
   {
    "duration": 27,
    "start_time": "2023-03-01T17:47:27.986Z"
   },
   {
    "duration": 22,
    "start_time": "2023-03-01T17:47:28.015Z"
   },
   {
    "duration": 38,
    "start_time": "2023-03-01T17:47:28.038Z"
   },
   {
    "duration": 3,
    "start_time": "2023-03-01T17:47:28.078Z"
   },
   {
    "duration": 24,
    "start_time": "2023-03-01T17:47:28.083Z"
   },
   {
    "duration": 5,
    "start_time": "2023-03-01T17:47:28.150Z"
   },
   {
    "duration": 5,
    "start_time": "2023-03-01T17:47:28.323Z"
   },
   {
    "duration": 11218,
    "start_time": "2023-03-01T17:47:29.218Z"
   },
   {
    "duration": 16,
    "start_time": "2023-03-01T17:49:41.600Z"
   },
   {
    "duration": 1561,
    "start_time": "2023-03-01T18:38:49.172Z"
   },
   {
    "duration": 160,
    "start_time": "2023-03-01T18:38:50.735Z"
   },
   {
    "duration": 17,
    "start_time": "2023-03-01T18:38:50.897Z"
   },
   {
    "duration": 196,
    "start_time": "2023-03-01T18:38:50.916Z"
   },
   {
    "duration": 353,
    "start_time": "2023-03-01T18:38:51.114Z"
   },
   {
    "duration": 195,
    "start_time": "2023-03-01T18:38:51.468Z"
   },
   {
    "duration": 222,
    "start_time": "2023-03-01T18:38:51.665Z"
   },
   {
    "duration": 137,
    "start_time": "2023-03-01T18:38:51.888Z"
   },
   {
    "duration": 205,
    "start_time": "2023-03-01T18:38:52.027Z"
   },
   {
    "duration": 12,
    "start_time": "2023-03-01T18:38:52.233Z"
   },
   {
    "duration": 10,
    "start_time": "2023-03-01T18:38:52.247Z"
   },
   {
    "duration": 21,
    "start_time": "2023-03-01T18:38:52.258Z"
   },
   {
    "duration": 30,
    "start_time": "2023-03-01T18:38:52.282Z"
   },
   {
    "duration": 3,
    "start_time": "2023-03-01T18:38:52.340Z"
   },
   {
    "duration": 6,
    "start_time": "2023-03-01T18:38:52.345Z"
   },
   {
    "duration": 6,
    "start_time": "2023-03-01T18:38:52.353Z"
   },
   {
    "duration": 7,
    "start_time": "2023-03-01T18:38:52.361Z"
   },
   {
    "duration": 20,
    "start_time": "2023-03-01T18:38:52.369Z"
   },
   {
    "duration": 7962,
    "start_time": "2023-03-01T18:38:52.390Z"
   },
   {
    "duration": 138,
    "start_time": "2023-03-01T18:39:15.932Z"
   },
   {
    "duration": 65794,
    "start_time": "2023-03-01T18:39:23.724Z"
   },
   {
    "duration": 8,
    "start_time": "2023-03-01T18:40:48.123Z"
   },
   {
    "duration": 48298,
    "start_time": "2023-03-01T18:41:02.160Z"
   },
   {
    "duration": 9,
    "start_time": "2023-03-01T18:42:07.500Z"
   },
   {
    "duration": 582,
    "start_time": "2023-03-01T18:42:45.402Z"
   },
   {
    "duration": 657,
    "start_time": "2023-03-01T18:43:19.672Z"
   },
   {
    "duration": 1173,
    "start_time": "2023-03-01T18:43:31.345Z"
   },
   {
    "duration": 1145,
    "start_time": "2023-03-01T18:43:41.359Z"
   },
   {
    "duration": 3,
    "start_time": "2023-03-01T18:43:55.166Z"
   },
   {
    "duration": 253,
    "start_time": "2023-03-01T18:43:59.544Z"
   },
   {
    "duration": 290,
    "start_time": "2023-03-01T18:44:11.376Z"
   },
   {
    "duration": 1558,
    "start_time": "2023-03-01T18:52:42.457Z"
   },
   {
    "duration": 77,
    "start_time": "2023-03-01T18:52:44.017Z"
   },
   {
    "duration": 24,
    "start_time": "2023-03-01T18:52:44.096Z"
   },
   {
    "duration": 240,
    "start_time": "2023-03-01T18:52:44.122Z"
   },
   {
    "duration": 286,
    "start_time": "2023-03-01T18:52:44.365Z"
   },
   {
    "duration": 263,
    "start_time": "2023-03-01T18:52:44.653Z"
   },
   {
    "duration": 270,
    "start_time": "2023-03-01T18:52:44.918Z"
   },
   {
    "duration": 153,
    "start_time": "2023-03-01T18:52:45.190Z"
   },
   {
    "duration": 241,
    "start_time": "2023-03-01T18:52:45.345Z"
   },
   {
    "duration": 11,
    "start_time": "2023-03-01T18:52:45.588Z"
   },
   {
    "duration": 12,
    "start_time": "2023-03-01T18:52:45.601Z"
   },
   {
    "duration": 47,
    "start_time": "2023-03-01T18:52:45.615Z"
   },
   {
    "duration": 34,
    "start_time": "2023-03-01T18:52:45.664Z"
   },
   {
    "duration": 3,
    "start_time": "2023-03-01T18:52:45.701Z"
   },
   {
    "duration": 11,
    "start_time": "2023-03-01T18:52:45.706Z"
   },
   {
    "duration": 6,
    "start_time": "2023-03-01T18:52:45.741Z"
   },
   {
    "duration": 6,
    "start_time": "2023-03-01T18:52:45.750Z"
   },
   {
    "duration": 23,
    "start_time": "2023-03-01T18:52:45.758Z"
   },
   {
    "duration": 8095,
    "start_time": "2023-03-01T18:52:45.783Z"
   },
   {
    "duration": 227,
    "start_time": "2023-03-01T18:52:53.881Z"
   },
   {
    "duration": 49533,
    "start_time": "2023-03-01T18:52:54.110Z"
   },
   {
    "duration": 10,
    "start_time": "2023-03-01T18:53:43.645Z"
   },
   {
    "duration": 13,
    "start_time": "2023-03-01T18:53:43.658Z"
   },
   {
    "duration": 1201,
    "start_time": "2023-03-01T18:53:43.673Z"
   },
   {
    "duration": 3,
    "start_time": "2023-03-01T18:53:44.877Z"
   },
   {
    "duration": 16,
    "start_time": "2023-03-01T18:53:44.883Z"
   },
   {
    "duration": 308,
    "start_time": "2023-03-01T18:53:44.901Z"
   },
   {
    "duration": 1304,
    "start_time": "2023-03-01T18:55:12.199Z"
   },
   {
    "duration": 1118,
    "start_time": "2023-03-01T18:55:25.393Z"
   },
   {
    "duration": 1213,
    "start_time": "2023-03-01T18:55:40.291Z"
   },
   {
    "duration": 1089,
    "start_time": "2023-03-01T18:55:44.487Z"
   },
   {
    "duration": 4,
    "start_time": "2023-03-01T18:56:15.230Z"
   },
   {
    "duration": 319,
    "start_time": "2023-03-01T18:56:16.646Z"
   }
  ],
  "kernelspec": {
   "display_name": "Python 3 (ipykernel)",
   "language": "python",
   "name": "python3"
  },
  "language_info": {
   "codemirror_mode": {
    "name": "ipython",
    "version": 3
   },
   "file_extension": ".py",
   "mimetype": "text/x-python",
   "name": "python",
   "nbconvert_exporter": "python",
   "pygments_lexer": "ipython3",
   "version": "3.8.16"
  },
  "toc": {
   "base_numbering": 1,
   "nav_menu": {},
   "number_sections": true,
   "sideBar": true,
   "skip_h1_title": true,
   "title_cell": "Содержание",
   "title_sidebar": "Contents",
   "toc_cell": true,
   "toc_position": {},
   "toc_section_display": true,
   "toc_window_display": true
  }
 },
 "nbformat": 4,
 "nbformat_minor": 2
}
